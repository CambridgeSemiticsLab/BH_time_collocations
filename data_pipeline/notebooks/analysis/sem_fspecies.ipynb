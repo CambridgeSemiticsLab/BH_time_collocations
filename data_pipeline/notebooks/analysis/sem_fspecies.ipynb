{
 "cells": [
  {
   "cell_type": "markdown",
   "metadata": {},
   "source": [
    "# Semantic Function Species"
   ]
  },
  {
   "cell_type": "code",
   "execution_count": 1,
   "metadata": {},
   "outputs": [],
   "source": [
    "from scripts.imports import *\n",
    "\n",
    "out = Exporter(\n",
    "    paths['outdir'], \n",
    "    'semantics'\n",
    ")"
   ]
  },
  {
   "cell_type": "code",
   "execution_count": 2,
   "metadata": {},
   "outputs": [
    {
     "data": {
      "text/plain": [
       "Index(['verse', 'book', 'booksuper', 'canon_part', 'period', 'times_etcbc',\n",
       "       'times_utf8', 'times_utf8d', 'times_POS', 'TA Heads', 'lex_str',\n",
       "       'pdp_str', 'head_utf8', 'funct_type', 'function', 'quality', 'name',\n",
       "       'text', 'n_times', 'n_slots', 'lex_token', 'is_advb', 'tense', 'firstw',\n",
       "       'genre', 'domain', 'gendom', 'clause', 'sentence', 'cl_rela', 'cl_type',\n",
       "       'cl_kind', 'verb', 'verb_etcbc', 'verb_utf8', 'verb_text', 'verbform',\n",
       "       'verb_stem', 'cl_args', 'has_objc', 'has_cmpl', 'has_subj', 'has_oc',\n",
       "       'Time Position', 'cl_type2', 'cl_nsuccs', 'cl_clust50', 'cl_clust10',\n",
       "       'verbtense', 'vt_order', 'PP', 'unmodified', 'modtag', 'modtag2',\n",
       "       'front', 'ph_type', 'has_time', 'notes', 'main_genre', 'APPO', 'DEF',\n",
       "       'ORDN', 'ØPP', 'GP', 'QUANT', 'PL', 'NUM', 'PARA', 'DEMON',\n",
       "       'demon_type', 'ADJV', 'TIMEAPPO', 'SPEC', 'SFX3', 'SFX', 'DU', 'SFX1',\n",
       "       'reg_group', 'SFX2', 'ADVB', 'CARDC'],\n",
       "      dtype='object')"
      ]
     },
     "execution_count": 2,
     "metadata": {},
     "output_type": "execute_result"
    }
   ],
   "source": [
    "df.columns"
   ]
  },
  {
   "cell_type": "code",
   "execution_count": 3,
   "metadata": {},
   "outputs": [
    {
     "data": {
      "text/plain": [
       "(3648, 81)"
      ]
     },
     "execution_count": 3,
     "metadata": {},
     "output_type": "execute_result"
    }
   ],
   "source": [
    "df.shape"
   ]
  },
  {
   "cell_type": "markdown",
   "metadata": {},
   "source": [
    "# ! TODO ! : Clean these up!\n",
    "\n",
    "* Check on KL HJWM and equivalents; Haspelmath suggests that 'every' be rendered as equivalent to \"[in] every February\"; I have tagged these as habituals; i.e. habital simultaneous—maybe that is right. But I should be sure. Also, where might KL indicate a duration instead?\n",
    "* מתי look at this ehad with simul L; prob remove it\n",
    "* todo: remove 472789 as this is emotive, not a location\n",
    "* disambig one case of `atelic_ext, simultaneous` which shouldn't be there\n",
    "* disambig one case of `habitual, multi_simul`\n",
    "* change name of anterior_dist to dist_past + anterior\n",
    "* change name of distfut_ext to dist_fut + atelic_ext"
   ]
  },
  {
   "cell_type": "code",
   "execution_count": 4,
   "metadata": {},
   "outputs": [
    {
     "data": {
      "text/plain": [
       "simultaneous                                 1882\n",
       "atelic_ext                                    578\n",
       "anterior_dur                                  449\n",
       "posterior                                     224\n",
       "reg_recur                                      80\n",
       "posterior_dur                                  67\n",
       "simultaneous_calendar                          65\n",
       "begin_to_end                                   55\n",
       "purposive_ext                                  34\n",
       "anterior                                       32\n",
       "simultaneous + atelic_ext                      23\n",
       "multi_simuls                                   18\n",
       "telic_ext                                      14\n",
       "dist_fut                                        7\n",
       "anterior_dur_past?                              7\n",
       "dist_posterior                                  6\n",
       "begin_to_end_habitual                           6\n",
       "simul_to_end                                    6\n",
       "habitual?                                       6\n",
       "atelic_ext?                                     5\n",
       "dur_to_end                                      5\n",
       "posterior + atelic_ext                          4\n",
       "anterior_limitive                               4\n",
       "atelic_ext + simultaneous                       4\n",
       "multi_antdur                                    4\n",
       "anterior_limitive?                              4\n",
       "dist_past                                       3\n",
       "regular_recurrence?                             3\n",
       "posterior + simultaneous                        3\n",
       "purposive_ext?                                  2\n",
       "multi_posterior_dur                             2\n",
       "purposive                                       2\n",
       "anterior_dur + duration                         2\n",
       "purposive?                                      2\n",
       "habitual + begin_to_end                         2\n",
       "dist_prospective                                2\n",
       "simultaneous + posterior                        2\n",
       "perdurative?                                    1\n",
       "anterior + distance                             1\n",
       "posterior_dur + begin_to_end + atelic_ext       1\n",
       "begin_to_end + multi_antdur                     1\n",
       "anterior + posterior                            1\n",
       "simultaneous + purposive_ext                    1\n",
       "simultaneous + multi_begin_to_end               1\n",
       "posterior, posterior_dur                        1\n",
       "dur_subj?                                       1\n",
       "anterior?                                       1\n",
       "atelic_ext, simultaneous                        1\n",
       "anterior_dur_except                             1\n",
       "dist_fut?                                       1\n",
       "posterior + distance                            1\n",
       "reg_recurr + atelic_ext                         1\n",
       "anterior + atelic_ext                           1\n",
       "simultaneous + posteriors                       1\n",
       "?                                               1\n",
       "simultaneous + dist_posterior                   1\n",
       "dist_posterior?                                 1\n",
       "simultaneous + begin_to_end                     1\n",
       "posterior_dur?                                  1\n",
       "posterior_dur_future                            1\n",
       "telic_ext?                                      1\n",
       "dist_fut + atelic_ext                           1\n",
       "atelic_ext + habitual                           1\n",
       "simultaneous + anterior_limitive?               1\n",
       "anterior_dur?                                   1\n",
       "anterior_dur + anterior                         1\n",
       "end_to_begin?                                   1\n",
       "multi_atelic_ext                                1\n",
       "simultaneous + anterior                         1\n",
       "simultaneous + anterior_dist                    1\n",
       "atelic_ext + anterior + atelic_ext              1\n",
       "Name: function, dtype: int64"
      ]
     },
     "execution_count": 4,
     "metadata": {},
     "output_type": "execute_result"
    }
   ],
   "source": [
    "ALL_funct_cts = df.function.value_counts()\n",
    "\n",
    "ALL_funct_cts"
   ]
  },
  {
   "cell_type": "code",
   "execution_count": 5,
   "metadata": {},
   "outputs": [
    {
     "data": {
      "text/plain": [
       "node\n",
       "486672    simultaneous + anterior_dist\n",
       "Name: function, dtype: object"
      ]
     },
     "execution_count": 5,
     "metadata": {},
     "output_type": "execute_result"
    }
   ],
   "source": [
    "df[df.verse == 'Amos 1:1']['function']"
   ]
  },
  {
   "cell_type": "code",
   "execution_count": 6,
   "metadata": {},
   "outputs": [
    {
     "data": {
      "text/plain": [
       "'71'"
      ]
     },
     "execution_count": 6,
     "metadata": {},
     "output_type": "execute_result"
    }
   ],
   "source": [
    "out.number(\n",
    "    ALL_funct_cts.shape[0],\n",
    "    'ALL_funct_unique',\n",
    ")"
   ]
  },
  {
   "cell_type": "code",
   "execution_count": 7,
   "metadata": {},
   "outputs": [
    {
     "data": {
      "text/plain": [
       "'simultaneous; atelic\\\\_ext; anterior\\\\_dur; posterior; reg\\\\_recur; posterior\\\\_dur; simultaneous\\\\_calendar; begin\\\\_to\\\\_end; purposive\\\\_ext; anterior; simultaneous + atelic\\\\_ext; multi\\\\_simuls; telic\\\\_ext; dist\\\\_fut; anterior\\\\_dur\\\\_past?; dist\\\\_posterior; begin\\\\_to\\\\_end\\\\_habitual; simul\\\\_to\\\\_end; habitual?; atelic\\\\_ext?; dur\\\\_to\\\\_end; posterior + atelic\\\\_ext; anterior\\\\_limitive; atelic\\\\_ext + simultaneous; multi\\\\_antdur; anterior\\\\_limitive?; dist\\\\_past; regular\\\\_recurrence?; posterior + simultaneous; purposive\\\\_ext?; multi\\\\_posterior\\\\_dur; purposive; anterior\\\\_dur + duration; purposive?; habitual + begin\\\\_to\\\\_end; dist\\\\_prospective; simultaneous + posterior; perdurative?; anterior + distance; posterior\\\\_dur + begin\\\\_to\\\\_end + atelic\\\\_ext; begin\\\\_to\\\\_end + multi\\\\_antdur; anterior + posterior; simultaneous + purposive\\\\_ext; simultaneous + multi\\\\_begin\\\\_to\\\\_end; posterior, posterior\\\\_dur; dur\\\\_subj?; anterior?; atelic\\\\_ext, simultaneous; anterior\\\\_dur\\\\_except; dist\\\\_fut?; posterior + distance; reg\\\\_recurr + atelic\\\\_ext; anterior + atelic\\\\_ext; simultaneous + posteriors; ?; simultaneous + dist\\\\_posterior; dist\\\\_posterior?; simultaneous + begin\\\\_to\\\\_end; posterior\\\\_dur?; posterior\\\\_dur\\\\_future; telic\\\\_ext?; dist\\\\_fut + atelic\\\\_ext; atelic\\\\_ext + habitual; simultaneous + anterior\\\\_limitive?; anterior\\\\_dur?; anterior\\\\_dur + anterior; end\\\\_to\\\\_begin?; multi\\\\_atelic\\\\_ext; simultaneous + anterior; simultaneous + anterior\\\\_dist; atelic\\\\_ext + anterior + atelic\\\\_ext%'"
      ]
     },
     "execution_count": 7,
     "metadata": {},
     "output_type": "execute_result"
    }
   ],
   "source": [
    "out.text(\n",
    "    '; '.join(ALL_funct_cts.index).replace('_', '\\_'),\n",
    "    'ALL_funct_tags',\n",
    ")"
   ]
  },
  {
   "cell_type": "code",
   "execution_count": 8,
   "metadata": {},
   "outputs": [
    {
     "data": {
      "text/plain": [
       "'6'"
      ]
     },
     "execution_count": 8,
     "metadata": {},
     "output_type": "execute_result"
    }
   ],
   "source": [
    "out.number(\n",
    "    ALL_funct_cts['dist_posterior'],\n",
    "    'N_dist_posterior'\n",
    ")"
   ]
  },
  {
   "cell_type": "code",
   "execution_count": 9,
   "metadata": {},
   "outputs": [
    {
     "data": {
      "text/plain": [
       "node\n",
       "457809    1 Sam 30:12\n",
       "463357     1 Kgs 15:5\n",
       "474066       Jer 2:32\n",
       "492838       Ps 55:20\n",
       "493817        Ps 74:2\n",
       "505558      Esth 4:11\n",
       "Name: verse, dtype: object"
      ]
     },
     "execution_count": 9,
     "metadata": {},
     "output_type": "execute_result"
    }
   ],
   "source": [
    "df[df.function == 'dist_posterior']['verse']"
   ]
  },
  {
   "cell_type": "code",
   "execution_count": 10,
   "metadata": {},
   "outputs": [
    {
     "name": "stdout",
     "output_type": "stream",
     "text": [
      "showing 7 of 7\n"
     ]
    },
    {
     "data": {
      "text/html": [
       "<style  type=\"text/css\" >\n",
       "#T_492d7_row0_col1,#T_492d7_row1_col1,#T_492d7_row2_col1,#T_492d7_row3_col1,#T_492d7_row4_col1,#T_492d7_row5_col1,#T_492d7_row6_col1{\n",
       "            font-size: 20px;\n",
       "             font-family:  Times New Roman;\n",
       "             text-align:  right;\n",
       "             max-width:  500px;\n",
       "        }</style><table id=\"T_492d7_\" ><thead>    <tr>        <th class=\"blank level0\" ></th>        <th class=\"col_heading level0 col0\" >verse</th>        <th class=\"col_heading level0 col1\" >clause</th>        <th class=\"col_heading level0 col2\" >function</th>    </tr>    <tr>        <th class=\"index_name level0\" >node</th>        <th class=\"blank\" ></th>        <th class=\"blank\" ></th>        <th class=\"blank\" ></th>    </tr></thead><tbody>\n",
       "                <tr>\n",
       "                        <th id=\"T_492d7_level0_row0\" class=\"row_heading level0 row0\" >445951</th>\n",
       "                        <td id=\"T_492d7_row0_col0\" class=\"data row0 col0\" >Deut 9:7</td>\n",
       "                        <td id=\"T_492d7_row0_col1\" class=\"data row0 col1\" >לְמִן־הַיֹּ֞ום מַמְרִ֥ים הֱיִיתֶ֖ם עִם־יְהוָֽה׃ </td>\n",
       "                        <td id=\"T_492d7_row0_col2\" class=\"data row0 col2\" >anterior_dur_past?</td>\n",
       "            </tr>\n",
       "            <tr>\n",
       "                        <th id=\"T_492d7_level0_row1\" class=\"row_heading level0 row1\" >453457</th>\n",
       "                        <td id=\"T_492d7_row1_col0\" class=\"data row1 col0\" >Judg 18:29</td>\n",
       "                        <td id=\"T_492d7_row1_col1\" class=\"data row1 col1\" >וְאוּלָ֛ם לַ֥יִשׁ שֵׁם־הָעִ֖יר לָרִאשֹׁנָֽה׃ </td>\n",
       "                        <td id=\"T_492d7_row1_col2\" class=\"data row1 col2\" >anterior_dur_past?</td>\n",
       "            </tr>\n",
       "            <tr>\n",
       "                        <th id=\"T_492d7_level0_row2\" class=\"row_heading level0 row2\" >458669</th>\n",
       "                        <td id=\"T_492d7_row2_col0\" class=\"data row2 col0\" >2 Sam 7:11</td>\n",
       "                        <td id=\"T_492d7_row2_col1\" class=\"data row2 col1\" >וּלְמִן־הַיֹּ֗ום </td>\n",
       "                        <td id=\"T_492d7_row2_col2\" class=\"data row2 col2\" >anterior_dur_past?</td>\n",
       "            </tr>\n",
       "            <tr>\n",
       "                        <th id=\"T_492d7_level0_row3\" class=\"row_heading level0 row3\" >467457</th>\n",
       "                        <td id=\"T_492d7_row3_col0\" class=\"data row3 col0\" >2 Kgs 19:25</td>\n",
       "                        <td id=\"T_492d7_row3_col1\" class=\"data row3 col1\" >אֹתָ֣הּ עָשִׂ֔יתִי לְמִ֥ימֵי קֶ֖דֶם </td>\n",
       "                        <td id=\"T_492d7_row3_col2\" class=\"data row3 col2\" >anterior_dur_past?</td>\n",
       "            </tr>\n",
       "            <tr>\n",
       "                        <th id=\"T_492d7_level0_row4\" class=\"row_heading level0 row4\" >471017</th>\n",
       "                        <td id=\"T_492d7_row4_col0\" class=\"data row4 col0\" >Isa 37:26</td>\n",
       "                        <td id=\"T_492d7_row4_col1\" class=\"data row4 col1\" >הֲלֹֽוא־שָׁמַ֤עְתָּ לְמֵֽרָחֹוק֙ </td>\n",
       "                        <td id=\"T_492d7_row4_col2\" class=\"data row4 col2\" >anterior_dur_past?</td>\n",
       "            </tr>\n",
       "            <tr>\n",
       "                        <th id=\"T_492d7_level0_row5\" class=\"row_heading level0 row5\" >509791</th>\n",
       "                        <td id=\"T_492d7_row5_col0\" class=\"data row5 col0\" >Neh 13:19</td>\n",
       "                        <td id=\"T_492d7_row5_col1\" class=\"data row5 col1\" >אֲשֶׁר֙ לֹ֣א יִפְתָּח֔וּם עַ֖ד אַחַ֣ר הַשַּׁבָּ֑ת </td>\n",
       "                        <td id=\"T_492d7_row5_col2\" class=\"data row5 col2\" >anterior_dur_past?</td>\n",
       "            </tr>\n",
       "            <tr>\n",
       "                        <th id=\"T_492d7_level0_row6\" class=\"row_heading level0 row6\" >511287</th>\n",
       "                        <td id=\"T_492d7_row6_col0\" class=\"data row6 col0\" >1 Chr 17:10</td>\n",
       "                        <td id=\"T_492d7_row6_col1\" class=\"data row6 col1\" >וּלְמִיָּמִ֗ים </td>\n",
       "                        <td id=\"T_492d7_row6_col2\" class=\"data row6 col2\" >anterior_dur_past?</td>\n",
       "            </tr>\n",
       "    </tbody></table>"
      ],
      "text/plain": [
       "<pandas.io.formats.style.Styler at 0x7f99c6910c70>"
      ]
     },
     "execution_count": 10,
     "metadata": {},
     "output_type": "execute_result"
    }
   ],
   "source": [
    "ts.show(\n",
    "    df[df.function=='anterior_dur_past?']\n",
    ", extra=['function'])"
   ]
  },
  {
   "cell_type": "markdown",
   "metadata": {},
   "source": [
    "## Count Function Types"
   ]
  },
  {
   "cell_type": "code",
   "execution_count": 11,
   "metadata": {},
   "outputs": [
    {
     "data": {
      "text/html": [
       "<div>\n",
       "<style scoped>\n",
       "    .dataframe tbody tr th:only-of-type {\n",
       "        vertical-align: middle;\n",
       "    }\n",
       "\n",
       "    .dataframe tbody tr th {\n",
       "        vertical-align: top;\n",
       "    }\n",
       "\n",
       "    .dataframe thead th {\n",
       "        text-align: right;\n",
       "    }\n",
       "</style>\n",
       "<table border=\"1\" class=\"dataframe\">\n",
       "  <thead>\n",
       "    <tr style=\"text-align: right;\">\n",
       "      <th></th>\n",
       "      <th>count</th>\n",
       "      <th>percent</th>\n",
       "    </tr>\n",
       "  </thead>\n",
       "  <tbody>\n",
       "    <tr>\n",
       "      <th>main</th>\n",
       "      <td>3336</td>\n",
       "      <td>91%</td>\n",
       "    </tr>\n",
       "    <tr>\n",
       "      <th>compound</th>\n",
       "      <td>221</td>\n",
       "      <td>6%</td>\n",
       "    </tr>\n",
       "    <tr>\n",
       "      <th>secondary</th>\n",
       "      <td>52</td>\n",
       "      <td>1%</td>\n",
       "    </tr>\n",
       "    <tr>\n",
       "      <th>ambiguous</th>\n",
       "      <td>39</td>\n",
       "      <td>1%</td>\n",
       "    </tr>\n",
       "  </tbody>\n",
       "</table>\n",
       "</div>"
      ],
      "text/plain": [
       "           count percent\n",
       "main        3336     91%\n",
       "compound     221      6%\n",
       "secondary     52      1%\n",
       "ambiguous     39      1%"
      ]
     },
     "execution_count": 11,
     "metadata": {},
     "output_type": "execute_result"
    }
   ],
   "source": [
    "functype_ct = df.funct_type.value_counts()\n",
    "functype_pr = functype_ct / functype_ct.sum()\n",
    "functype_cp = join_ct_pr(functype_ct, functype_pr)\n",
    "\n",
    "out.table(\n",
    "    functype_cp,\n",
    "    'ALL_functype_cp',\n",
    "    caption='Function Type Counts',\n",
    ")"
   ]
  },
  {
   "cell_type": "markdown",
   "metadata": {},
   "source": [
    "## Main Function Analysis"
   ]
  },
  {
   "cell_type": "code",
   "execution_count": 12,
   "metadata": {},
   "outputs": [
    {
     "data": {
      "text/plain": [
       "'3,336'"
      ]
     },
     "execution_count": 12,
     "metadata": {},
     "output_type": "execute_result"
    }
   ],
   "source": [
    "df_main = df[df.funct_type=='main']\n",
    "\n",
    "out.number(\n",
    "    df_main.shape[0],\n",
    "    'total_main_fc'\n",
    ")"
   ]
  },
  {
   "cell_type": "code",
   "execution_count": 13,
   "metadata": {},
   "outputs": [
    {
     "data": {
      "text/html": [
       "<div>\n",
       "<style scoped>\n",
       "    .dataframe tbody tr th:only-of-type {\n",
       "        vertical-align: middle;\n",
       "    }\n",
       "\n",
       "    .dataframe tbody tr th {\n",
       "        vertical-align: top;\n",
       "    }\n",
       "\n",
       "    .dataframe thead th {\n",
       "        text-align: right;\n",
       "    }\n",
       "</style>\n",
       "<table border=\"1\" class=\"dataframe\">\n",
       "  <thead>\n",
       "    <tr style=\"text-align: right;\">\n",
       "      <th></th>\n",
       "      <th>simultaneous</th>\n",
       "      <th>atelic_ext</th>\n",
       "      <th>anterior_dur</th>\n",
       "      <th>posterior</th>\n",
       "      <th>reg_recur</th>\n",
       "      <th>posterior_dur</th>\n",
       "      <th>anterior</th>\n",
       "      <th>telic_ext</th>\n",
       "      <th>dist_fut</th>\n",
       "      <th>dist_past</th>\n",
       "    </tr>\n",
       "  </thead>\n",
       "  <tbody>\n",
       "    <tr>\n",
       "      <th>freq.</th>\n",
       "      <td>1882</td>\n",
       "      <td>578</td>\n",
       "      <td>449</td>\n",
       "      <td>224</td>\n",
       "      <td>80</td>\n",
       "      <td>67</td>\n",
       "      <td>32</td>\n",
       "      <td>14</td>\n",
       "      <td>7</td>\n",
       "      <td>3</td>\n",
       "    </tr>\n",
       "    <tr>\n",
       "      <th>perc.</th>\n",
       "      <td>56%</td>\n",
       "      <td>17%</td>\n",
       "      <td>13%</td>\n",
       "      <td>7%</td>\n",
       "      <td>2%</td>\n",
       "      <td>2%</td>\n",
       "      <td>1%</td>\n",
       "      <td>0%</td>\n",
       "      <td>0%</td>\n",
       "      <td>0%</td>\n",
       "    </tr>\n",
       "  </tbody>\n",
       "</table>\n",
       "</div>"
      ],
      "text/plain": [
       "      simultaneous atelic_ext anterior_dur posterior reg_recur posterior_dur  \\\n",
       "freq.         1882        578          449       224        80            67   \n",
       "perc.          56%        17%          13%        7%        2%            2%   \n",
       "\n",
       "      anterior telic_ext dist_fut dist_past  \n",
       "freq.       32        14        7         3  \n",
       "perc.       1%        0%       0%        0%  "
      ]
     },
     "execution_count": 13,
     "metadata": {},
     "output_type": "execute_result"
    }
   ],
   "source": [
    "# get a freq count\n",
    "funct_ct = df_main.function.value_counts(ascending=False)\n",
    "funct_pr = (funct_ct / funct_ct.sum())\n",
    "funct_pr_str = (funct_pr.round(2) * 100).astype(int).astype(str) + '%'\n",
    "funct_vals = pd.concat([funct_ct, funct_pr_str], 1).T\\\n",
    "    .set_axis(['freq.', 'perc.'], 0)\\\n",
    "\n",
    "out.table(\n",
    "    funct_vals,\n",
    "    'funct_counts',\n",
    "    caption='Frequencies of Primary Time Functions',\n",
    "    adjustbox=True,\n",
    ")\n",
    "\n",
    "funct_vals"
   ]
  },
  {
   "cell_type": "code",
   "execution_count": 14,
   "metadata": {},
   "outputs": [
    {
     "data": {
      "image/png": "[encoded data removed]",
      "text/plain": [
       "<Figure size 360x360 with 1 Axes>"
      ]
     },
     "metadata": {
      "needs_background": "light"
     },
     "output_type": "display_data"
    }
   ],
   "source": [
    "fig, ax = plt.subplots(figsize=(5, 5))\n",
    "funct_pr.sort_values().mul(100).plot(kind='barh', ax=ax, edgecolor='black')\n",
    "ax.set_xlabel('percent of main functions')\n",
    "ax.grid(axis='x')\n",
    "ax.set_axisbelow(True)\n",
    "ax.set_xlim(0, 100)\n",
    "out.plot(\n",
    "    'bar_funct_perc',\n",
    ")"
   ]
  },
  {
   "cell_type": "code",
   "execution_count": 15,
   "metadata": {},
   "outputs": [
    {
     "data": {
      "text/plain": [
       "'94'"
      ]
     },
     "execution_count": 15,
     "metadata": {},
     "output_type": "execute_result"
    }
   ],
   "source": [
    "top4_perc = 100*funct_pr.loc['simultaneous':'posterior'].sum()\n",
    "out.number(\n",
    "    top4_perc,\n",
    "    'top4_perc',\n",
    ")"
   ]
  },
  {
   "cell_type": "code",
   "execution_count": 16,
   "metadata": {},
   "outputs": [],
   "source": [
    "# export numbers for each main\n",
    "for funct in funct_vals.columns:\n",
    "    Nfunct = funct_vals[funct]['freq.']\n",
    "    Pfunct = funct_vals[funct]['perc.'].replace('%', '')\n",
    "    out.number(Nfunct, f'N_{funct}')\n",
    "    out.text(Pfunct, f'P_{funct}')"
   ]
  },
  {
   "cell_type": "markdown",
   "metadata": {},
   "source": [
    "## All Functions Phrase Type"
   ]
  },
  {
   "cell_type": "code",
   "execution_count": 17,
   "metadata": {},
   "outputs": [
    {
     "data": {
      "text/html": [
       "<div>\n",
       "<style scoped>\n",
       "    .dataframe tbody tr th:only-of-type {\n",
       "        vertical-align: middle;\n",
       "    }\n",
       "\n",
       "    .dataframe tbody tr th {\n",
       "        vertical-align: top;\n",
       "    }\n",
       "\n",
       "    .dataframe thead th {\n",
       "        text-align: right;\n",
       "    }\n",
       "</style>\n",
       "<table border=\"1\" class=\"dataframe\">\n",
       "  <thead>\n",
       "    <tr style=\"text-align: right;\">\n",
       "      <th></th>\n",
       "      <th>count</th>\n",
       "      <th>percent</th>\n",
       "    </tr>\n",
       "  </thead>\n",
       "  <tbody>\n",
       "    <tr>\n",
       "      <th>PP</th>\n",
       "      <td>2190</td>\n",
       "      <td>60%</td>\n",
       "    </tr>\n",
       "    <tr>\n",
       "      <th>NP</th>\n",
       "      <td>913</td>\n",
       "      <td>25%</td>\n",
       "    </tr>\n",
       "    <tr>\n",
       "      <th>ADVB</th>\n",
       "      <td>545</td>\n",
       "      <td>15%</td>\n",
       "    </tr>\n",
       "  </tbody>\n",
       "</table>\n",
       "</div>"
      ],
      "text/plain": [
       "      count percent\n",
       "PP     2190     60%\n",
       "NP      913     25%\n",
       "ADVB    545     15%"
      ]
     },
     "execution_count": 17,
     "metadata": {},
     "output_type": "execute_result"
    }
   ],
   "source": [
    "allf_pht_ct = df.ph_type.value_counts()\n",
    "allf_pht_pr = allf_pht_ct / allf_pht_ct.sum()\n",
    "allf_pht_cp = join_ct_pr(allf_pht_ct, allf_pht_pr)\n",
    "\n",
    "out.table(\n",
    "    allf_pht_cp,\n",
    "    'allf_pht_cp',\n",
    "    caption='Phrase Type Counts for All Functions',\n",
    ")"
   ]
  },
  {
   "cell_type": "code",
   "execution_count": 18,
   "metadata": {},
   "outputs": [
    {
     "data": {
      "image/png": "[encoded data removed]",
      "text/plain": [
       "<Figure size 432x288 with 1 Axes>"
      ]
     },
     "metadata": {
      "needs_background": "light"
     },
     "output_type": "display_data"
    }
   ],
   "source": [
    "fig, ax = plt.subplots()\n",
    "allf_pht_pr.mul(100).plot(kind='bar', edgecolor='black')\n",
    "ax.set_ylabel('percent')\n",
    "ax.set_ylim((0,100))\n",
    "ax.set_xticklabels(ax.get_xticklabels(), rotation=0)\n",
    "ax.grid(axis='y')\n",
    "ax.set_axisbelow(True)\n",
    "out.plot(\n",
    "    'bar_allfptype_pc',\n",
    ")"
   ]
  },
  {
   "cell_type": "markdown",
   "metadata": {},
   "source": [
    "## Phrase Type Associations by Function"
   ]
  },
  {
   "cell_type": "code",
   "execution_count": 19,
   "metadata": {},
   "outputs": [
    {
     "data": {
      "text/html": [
       "<div>\n",
       "<style scoped>\n",
       "    .dataframe tbody tr th:only-of-type {\n",
       "        vertical-align: middle;\n",
       "    }\n",
       "\n",
       "    .dataframe tbody tr th {\n",
       "        vertical-align: top;\n",
       "    }\n",
       "\n",
       "    .dataframe thead th {\n",
       "        text-align: right;\n",
       "    }\n",
       "</style>\n",
       "<table border=\"1\" class=\"dataframe\">\n",
       "  <thead>\n",
       "    <tr style=\"text-align: right;\">\n",
       "      <th>ph_type</th>\n",
       "      <th>PP</th>\n",
       "      <th>NP</th>\n",
       "      <th>ADVB</th>\n",
       "    </tr>\n",
       "    <tr>\n",
       "      <th>function</th>\n",
       "      <th></th>\n",
       "      <th></th>\n",
       "      <th></th>\n",
       "    </tr>\n",
       "  </thead>\n",
       "  <tbody>\n",
       "    <tr>\n",
       "      <th>simultaneous</th>\n",
       "      <td>1131</td>\n",
       "      <td>293</td>\n",
       "      <td>458</td>\n",
       "    </tr>\n",
       "    <tr>\n",
       "      <th>atelic_ext</th>\n",
       "      <td>9</td>\n",
       "      <td>523</td>\n",
       "      <td>46</td>\n",
       "    </tr>\n",
       "    <tr>\n",
       "      <th>anterior_dur</th>\n",
       "      <td>449</td>\n",
       "      <td>0</td>\n",
       "      <td>0</td>\n",
       "    </tr>\n",
       "    <tr>\n",
       "      <th>posterior</th>\n",
       "      <td>190</td>\n",
       "      <td>0</td>\n",
       "      <td>34</td>\n",
       "    </tr>\n",
       "    <tr>\n",
       "      <th>reg_recur</th>\n",
       "      <td>61</td>\n",
       "      <td>19</td>\n",
       "      <td>0</td>\n",
       "    </tr>\n",
       "    <tr>\n",
       "      <th>posterior_dur</th>\n",
       "      <td>67</td>\n",
       "      <td>0</td>\n",
       "      <td>0</td>\n",
       "    </tr>\n",
       "    <tr>\n",
       "      <th>anterior</th>\n",
       "      <td>28</td>\n",
       "      <td>0</td>\n",
       "      <td>4</td>\n",
       "    </tr>\n",
       "    <tr>\n",
       "      <th>telic_ext</th>\n",
       "      <td>8</td>\n",
       "      <td>6</td>\n",
       "      <td>0</td>\n",
       "    </tr>\n",
       "    <tr>\n",
       "      <th>dist_fut</th>\n",
       "      <td>6</td>\n",
       "      <td>1</td>\n",
       "      <td>0</td>\n",
       "    </tr>\n",
       "    <tr>\n",
       "      <th>dist_past</th>\n",
       "      <td>0</td>\n",
       "      <td>3</td>\n",
       "      <td>0</td>\n",
       "    </tr>\n",
       "  </tbody>\n",
       "</table>\n",
       "</div>"
      ],
      "text/plain": [
       "ph_type          PP   NP  ADVB\n",
       "function                      \n",
       "simultaneous   1131  293   458\n",
       "atelic_ext        9  523    46\n",
       "anterior_dur    449    0     0\n",
       "posterior       190    0    34\n",
       "reg_recur        61   19     0\n",
       "posterior_dur    67    0     0\n",
       "anterior         28    0     4\n",
       "telic_ext         8    6     0\n",
       "dist_fut          6    1     0\n",
       "dist_past         0    3     0"
      ]
     },
     "execution_count": 19,
     "metadata": {},
     "output_type": "execute_result"
    }
   ],
   "source": [
    "funcpt_ct = pivot_ct(\n",
    "    df_main,\n",
    "    'function',\n",
    "    'ph_type',\n",
    ")\n",
    "\n",
    "funcpt_pr = funcpt_ct.div(funcpt_ct.sum(1),0)\n",
    "\n",
    "out.table(\n",
    "    funcpt_ct,\n",
    "    'funcpt_ct',\n",
    "    caption='Phrase Type Counts by Function'\n",
    ")"
   ]
  },
  {
   "cell_type": "code",
   "execution_count": 20,
   "metadata": {},
   "outputs": [
    {
     "data": {
      "text/html": [
       "<div>\n",
       "<style scoped>\n",
       "    .dataframe tbody tr th:only-of-type {\n",
       "        vertical-align: middle;\n",
       "    }\n",
       "\n",
       "    .dataframe tbody tr th {\n",
       "        vertical-align: top;\n",
       "    }\n",
       "\n",
       "    .dataframe thead th {\n",
       "        text-align: right;\n",
       "    }\n",
       "</style>\n",
       "<table border=\"1\" class=\"dataframe\">\n",
       "  <thead>\n",
       "    <tr style=\"text-align: right;\">\n",
       "      <th>ph_type</th>\n",
       "      <th>PP</th>\n",
       "      <th>NP</th>\n",
       "      <th>ADVB</th>\n",
       "    </tr>\n",
       "    <tr>\n",
       "      <th>function</th>\n",
       "      <th></th>\n",
       "      <th></th>\n",
       "      <th></th>\n",
       "    </tr>\n",
       "  </thead>\n",
       "  <tbody>\n",
       "    <tr>\n",
       "      <th>simultaneous</th>\n",
       "      <td>60%</td>\n",
       "      <td>16%</td>\n",
       "      <td>24%</td>\n",
       "    </tr>\n",
       "    <tr>\n",
       "      <th>atelic_ext</th>\n",
       "      <td>2%</td>\n",
       "      <td>90%</td>\n",
       "      <td>8%</td>\n",
       "    </tr>\n",
       "    <tr>\n",
       "      <th>anterior_dur</th>\n",
       "      <td>100%</td>\n",
       "      <td>0%</td>\n",
       "      <td>0%</td>\n",
       "    </tr>\n",
       "    <tr>\n",
       "      <th>posterior</th>\n",
       "      <td>85%</td>\n",
       "      <td>0%</td>\n",
       "      <td>15%</td>\n",
       "    </tr>\n",
       "    <tr>\n",
       "      <th>reg_recur</th>\n",
       "      <td>76%</td>\n",
       "      <td>24%</td>\n",
       "      <td>0%</td>\n",
       "    </tr>\n",
       "    <tr>\n",
       "      <th>posterior_dur</th>\n",
       "      <td>100%</td>\n",
       "      <td>0%</td>\n",
       "      <td>0%</td>\n",
       "    </tr>\n",
       "    <tr>\n",
       "      <th>anterior</th>\n",
       "      <td>88%</td>\n",
       "      <td>0%</td>\n",
       "      <td>12%</td>\n",
       "    </tr>\n",
       "    <tr>\n",
       "      <th>telic_ext</th>\n",
       "      <td>57%</td>\n",
       "      <td>43%</td>\n",
       "      <td>0%</td>\n",
       "    </tr>\n",
       "    <tr>\n",
       "      <th>dist_fut</th>\n",
       "      <td>86%</td>\n",
       "      <td>14%</td>\n",
       "      <td>0%</td>\n",
       "    </tr>\n",
       "    <tr>\n",
       "      <th>dist_past</th>\n",
       "      <td>0%</td>\n",
       "      <td>100%</td>\n",
       "      <td>0%</td>\n",
       "    </tr>\n",
       "  </tbody>\n",
       "</table>\n",
       "</div>"
      ],
      "text/plain": [
       "ph_type          PP    NP ADVB\n",
       "function                      \n",
       "simultaneous    60%   16%  24%\n",
       "atelic_ext       2%   90%   8%\n",
       "anterior_dur   100%    0%   0%\n",
       "posterior       85%    0%  15%\n",
       "reg_recur       76%   24%   0%\n",
       "posterior_dur  100%    0%   0%\n",
       "anterior        88%    0%  12%\n",
       "telic_ext       57%   43%   0%\n",
       "dist_fut        86%   14%   0%\n",
       "dist_past        0%  100%   0%"
      ]
     },
     "execution_count": 20,
     "metadata": {},
     "output_type": "execute_result"
    }
   ],
   "source": [
    "out.table(\n",
    "    funcpt_pr.mul(100).round().astype(int).astype(str)+'%',\n",
    "    'funcpt_pr',\n",
    "    caption='Phrase Type Percentages by Function'\n",
    ")"
   ]
  },
  {
   "cell_type": "code",
   "execution_count": 21,
   "metadata": {},
   "outputs": [],
   "source": [
    "funcpt_dp = sig.apply_deltaP(funcpt_ct, 0, 1)"
   ]
  },
  {
   "cell_type": "code",
   "execution_count": 22,
   "metadata": {},
   "outputs": [
    {
     "data": {
      "image/png": "[encoded data removed]",
      "text/plain": [
       "<Figure size 360x360 with 2 Axes>"
      ]
     },
     "metadata": {
      "needs_background": "light"
     },
     "output_type": "display_data"
    }
   ],
   "source": [
    "fig,ax = plt.subplots(figsize=(5,5))\n",
    "heatmap(funcpt_dp, ax=ax, annot=True, square=False)\n",
    "ax.set_xlabel('phrase type')\n",
    "\n",
    "out.plot(\n",
    "    'heat_funcphtype',\n",
    ")"
   ]
  },
  {
   "cell_type": "markdown",
   "metadata": {},
   "source": [
    "## Main Function Modifiers"
   ]
  },
  {
   "cell_type": "code",
   "execution_count": 23,
   "metadata": {},
   "outputs": [
    {
     "data": {
      "text/html": [
       "<div>\n",
       "<style scoped>\n",
       "    .dataframe tbody tr th:only-of-type {\n",
       "        vertical-align: middle;\n",
       "    }\n",
       "\n",
       "    .dataframe tbody tr th {\n",
       "        vertical-align: top;\n",
       "    }\n",
       "\n",
       "    .dataframe thead th {\n",
       "        text-align: right;\n",
       "    }\n",
       "</style>\n",
       "<table border=\"1\" class=\"dataframe\">\n",
       "  <thead>\n",
       "    <tr style=\"text-align: right;\">\n",
       "      <th>modtag</th>\n",
       "      <th>DEF</th>\n",
       "      <th>DEMON</th>\n",
       "      <th>C</th>\n",
       "      <th>NUM+PL</th>\n",
       "      <th>NUM</th>\n",
       "      <th>ORDN</th>\n",
       "      <th>SFX</th>\n",
       "      <th>PL+C</th>\n",
       "      <th>PL+DEMON</th>\n",
       "      <th>KL+DEF</th>\n",
       "    </tr>\n",
       "    <tr>\n",
       "      <th>function</th>\n",
       "      <th></th>\n",
       "      <th></th>\n",
       "      <th></th>\n",
       "      <th></th>\n",
       "      <th></th>\n",
       "      <th></th>\n",
       "      <th></th>\n",
       "      <th></th>\n",
       "      <th></th>\n",
       "      <th></th>\n",
       "    </tr>\n",
       "  </thead>\n",
       "  <tbody>\n",
       "    <tr>\n",
       "      <th>simultaneous</th>\n",
       "      <td>430</td>\n",
       "      <td>352</td>\n",
       "      <td>214</td>\n",
       "      <td>2</td>\n",
       "      <td>22</td>\n",
       "      <td>146</td>\n",
       "      <td>29</td>\n",
       "      <td>45</td>\n",
       "      <td>40</td>\n",
       "      <td>0</td>\n",
       "    </tr>\n",
       "    <tr>\n",
       "      <th>atelic_ext</th>\n",
       "      <td>2</td>\n",
       "      <td>0</td>\n",
       "      <td>6</td>\n",
       "      <td>162</td>\n",
       "      <td>117</td>\n",
       "      <td>0</td>\n",
       "      <td>0</td>\n",
       "      <td>2</td>\n",
       "      <td>1</td>\n",
       "      <td>55</td>\n",
       "    </tr>\n",
       "    <tr>\n",
       "      <th>anterior_dur</th>\n",
       "      <td>62</td>\n",
       "      <td>69</td>\n",
       "      <td>24</td>\n",
       "      <td>0</td>\n",
       "      <td>4</td>\n",
       "      <td>3</td>\n",
       "      <td>0</td>\n",
       "      <td>4</td>\n",
       "      <td>2</td>\n",
       "      <td>0</td>\n",
       "    </tr>\n",
       "    <tr>\n",
       "      <th>posterior</th>\n",
       "      <td>4</td>\n",
       "      <td>1</td>\n",
       "      <td>15</td>\n",
       "      <td>15</td>\n",
       "      <td>9</td>\n",
       "      <td>0</td>\n",
       "      <td>40</td>\n",
       "      <td>1</td>\n",
       "      <td>12</td>\n",
       "      <td>0</td>\n",
       "    </tr>\n",
       "    <tr>\n",
       "      <th>reg_recur</th>\n",
       "      <td>26</td>\n",
       "      <td>0</td>\n",
       "      <td>3</td>\n",
       "      <td>2</td>\n",
       "      <td>1</td>\n",
       "      <td>0</td>\n",
       "      <td>0</td>\n",
       "      <td>0</td>\n",
       "      <td>0</td>\n",
       "      <td>0</td>\n",
       "    </tr>\n",
       "    <tr>\n",
       "      <th>posterior_dur</th>\n",
       "      <td>4</td>\n",
       "      <td>3</td>\n",
       "      <td>0</td>\n",
       "      <td>0</td>\n",
       "      <td>1</td>\n",
       "      <td>1</td>\n",
       "      <td>0</td>\n",
       "      <td>10</td>\n",
       "      <td>0</td>\n",
       "      <td>0</td>\n",
       "    </tr>\n",
       "    <tr>\n",
       "      <th>telic_ext</th>\n",
       "      <td>0</td>\n",
       "      <td>0</td>\n",
       "      <td>0</td>\n",
       "      <td>2</td>\n",
       "      <td>10</td>\n",
       "      <td>0</td>\n",
       "      <td>0</td>\n",
       "      <td>0</td>\n",
       "      <td>0</td>\n",
       "      <td>0</td>\n",
       "    </tr>\n",
       "    <tr>\n",
       "      <th>anterior</th>\n",
       "      <td>1</td>\n",
       "      <td>0</td>\n",
       "      <td>0</td>\n",
       "      <td>0</td>\n",
       "      <td>0</td>\n",
       "      <td>0</td>\n",
       "      <td>9</td>\n",
       "      <td>0</td>\n",
       "      <td>1</td>\n",
       "      <td>0</td>\n",
       "    </tr>\n",
       "    <tr>\n",
       "      <th>dist_fut</th>\n",
       "      <td>0</td>\n",
       "      <td>0</td>\n",
       "      <td>0</td>\n",
       "      <td>5</td>\n",
       "      <td>1</td>\n",
       "      <td>0</td>\n",
       "      <td>0</td>\n",
       "      <td>0</td>\n",
       "      <td>0</td>\n",
       "      <td>0</td>\n",
       "    </tr>\n",
       "  </tbody>\n",
       "</table>\n",
       "</div>"
      ],
      "text/plain": [
       "modtag         DEF  DEMON    C  NUM+PL  NUM  ORDN  SFX  PL+C  PL+DEMON  KL+DEF\n",
       "function                                                                      \n",
       "simultaneous   430    352  214       2   22   146   29    45        40       0\n",
       "atelic_ext       2      0    6     162  117     0    0     2         1      55\n",
       "anterior_dur    62     69   24       0    4     3    0     4         2       0\n",
       "posterior        4      1   15      15    9     0   40     1        12       0\n",
       "reg_recur       26      0    3       2    1     0    0     0         0       0\n",
       "posterior_dur    4      3    0       0    1     1    0    10         0       0\n",
       "telic_ext        0      0    0       2   10     0    0     0         0       0\n",
       "anterior         1      0    0       0    0     0    9     0         1       0\n",
       "dist_fut         0      0    0       5    1     0    0     0         0       0"
      ]
     },
     "execution_count": 23,
     "metadata": {},
     "output_type": "execute_result"
    }
   ],
   "source": [
    "afmod_ct = pivot_ct(\n",
    "    df_main,\n",
    "    'function',\n",
    "    'modtag',\n",
    ")\n",
    "\n",
    "afmod_ct = afmod_ct.loc[:, afmod_ct.sum() > 10]\n",
    "\n",
    "out.table(\n",
    "    afmod_ct.iloc[:,:10],\n",
    "    'afmod_ct',\n",
    "    caption='Top Ten Modifier Counts by Function',\n",
    "    adjustbox=True,\n",
    ")"
   ]
  },
  {
   "cell_type": "code",
   "execution_count": 24,
   "metadata": {},
   "outputs": [
    {
     "data": {
      "text/html": [
       "<div>\n",
       "<style scoped>\n",
       "    .dataframe tbody tr th:only-of-type {\n",
       "        vertical-align: middle;\n",
       "    }\n",
       "\n",
       "    .dataframe tbody tr th {\n",
       "        vertical-align: top;\n",
       "    }\n",
       "\n",
       "    .dataframe thead th {\n",
       "        text-align: right;\n",
       "    }\n",
       "</style>\n",
       "<table border=\"1\" class=\"dataframe\">\n",
       "  <thead>\n",
       "    <tr style=\"text-align: right;\">\n",
       "      <th>modtag</th>\n",
       "      <th>DEF</th>\n",
       "      <th>DEMON</th>\n",
       "      <th>C</th>\n",
       "      <th>NUM+PL</th>\n",
       "      <th>NUM</th>\n",
       "      <th>ORDN</th>\n",
       "      <th>SFX</th>\n",
       "      <th>PL+C</th>\n",
       "      <th>PL+DEMON</th>\n",
       "      <th>KL+DEF</th>\n",
       "    </tr>\n",
       "    <tr>\n",
       "      <th>function</th>\n",
       "      <th></th>\n",
       "      <th></th>\n",
       "      <th></th>\n",
       "      <th></th>\n",
       "      <th></th>\n",
       "      <th></th>\n",
       "      <th></th>\n",
       "      <th></th>\n",
       "      <th></th>\n",
       "      <th></th>\n",
       "    </tr>\n",
       "  </thead>\n",
       "  <tbody>\n",
       "    <tr>\n",
       "      <th>simultaneous</th>\n",
       "      <td>32%</td>\n",
       "      <td>26%</td>\n",
       "      <td>16%</td>\n",
       "      <td>0%</td>\n",
       "      <td>2%</td>\n",
       "      <td>11%</td>\n",
       "      <td>2%</td>\n",
       "      <td>3%</td>\n",
       "      <td>3%</td>\n",
       "      <td>0%</td>\n",
       "    </tr>\n",
       "    <tr>\n",
       "      <th>atelic_ext</th>\n",
       "      <td>0%</td>\n",
       "      <td>0%</td>\n",
       "      <td>1%</td>\n",
       "      <td>34%</td>\n",
       "      <td>25%</td>\n",
       "      <td>0%</td>\n",
       "      <td>0%</td>\n",
       "      <td>0%</td>\n",
       "      <td>0%</td>\n",
       "      <td>12%</td>\n",
       "    </tr>\n",
       "    <tr>\n",
       "      <th>anterior_dur</th>\n",
       "      <td>36%</td>\n",
       "      <td>41%</td>\n",
       "      <td>14%</td>\n",
       "      <td>0%</td>\n",
       "      <td>2%</td>\n",
       "      <td>2%</td>\n",
       "      <td>0%</td>\n",
       "      <td>2%</td>\n",
       "      <td>1%</td>\n",
       "      <td>0%</td>\n",
       "    </tr>\n",
       "    <tr>\n",
       "      <th>posterior</th>\n",
       "      <td>4%</td>\n",
       "      <td>1%</td>\n",
       "      <td>14%</td>\n",
       "      <td>14%</td>\n",
       "      <td>8%</td>\n",
       "      <td>0%</td>\n",
       "      <td>37%</td>\n",
       "      <td>1%</td>\n",
       "      <td>11%</td>\n",
       "      <td>0%</td>\n",
       "    </tr>\n",
       "    <tr>\n",
       "      <th>reg_recur</th>\n",
       "      <td>43%</td>\n",
       "      <td>0%</td>\n",
       "      <td>5%</td>\n",
       "      <td>3%</td>\n",
       "      <td>2%</td>\n",
       "      <td>0%</td>\n",
       "      <td>0%</td>\n",
       "      <td>0%</td>\n",
       "      <td>0%</td>\n",
       "      <td>0%</td>\n",
       "    </tr>\n",
       "    <tr>\n",
       "      <th>posterior_dur</th>\n",
       "      <td>17%</td>\n",
       "      <td>12%</td>\n",
       "      <td>0%</td>\n",
       "      <td>0%</td>\n",
       "      <td>4%</td>\n",
       "      <td>4%</td>\n",
       "      <td>0%</td>\n",
       "      <td>42%</td>\n",
       "      <td>0%</td>\n",
       "      <td>0%</td>\n",
       "    </tr>\n",
       "    <tr>\n",
       "      <th>telic_ext</th>\n",
       "      <td>0%</td>\n",
       "      <td>0%</td>\n",
       "      <td>0%</td>\n",
       "      <td>17%</td>\n",
       "      <td>83%</td>\n",
       "      <td>0%</td>\n",
       "      <td>0%</td>\n",
       "      <td>0%</td>\n",
       "      <td>0%</td>\n",
       "      <td>0%</td>\n",
       "    </tr>\n",
       "    <tr>\n",
       "      <th>anterior</th>\n",
       "      <td>8%</td>\n",
       "      <td>0%</td>\n",
       "      <td>0%</td>\n",
       "      <td>0%</td>\n",
       "      <td>0%</td>\n",
       "      <td>0%</td>\n",
       "      <td>75%</td>\n",
       "      <td>0%</td>\n",
       "      <td>8%</td>\n",
       "      <td>0%</td>\n",
       "    </tr>\n",
       "    <tr>\n",
       "      <th>dist_fut</th>\n",
       "      <td>0%</td>\n",
       "      <td>0%</td>\n",
       "      <td>0%</td>\n",
       "      <td>71%</td>\n",
       "      <td>14%</td>\n",
       "      <td>0%</td>\n",
       "      <td>0%</td>\n",
       "      <td>0%</td>\n",
       "      <td>0%</td>\n",
       "      <td>0%</td>\n",
       "    </tr>\n",
       "  </tbody>\n",
       "</table>\n",
       "</div>"
      ],
      "text/plain": [
       "modtag         DEF DEMON    C NUM+PL  NUM ORDN  SFX PL+C PL+DEMON KL+DEF\n",
       "function                                                                \n",
       "simultaneous   32%   26%  16%     0%   2%  11%   2%   3%       3%     0%\n",
       "atelic_ext      0%    0%   1%    34%  25%   0%   0%   0%       0%    12%\n",
       "anterior_dur   36%   41%  14%     0%   2%   2%   0%   2%       1%     0%\n",
       "posterior       4%    1%  14%    14%   8%   0%  37%   1%      11%     0%\n",
       "reg_recur      43%    0%   5%     3%   2%   0%   0%   0%       0%     0%\n",
       "posterior_dur  17%   12%   0%     0%   4%   4%   0%  42%       0%     0%\n",
       "telic_ext       0%    0%   0%    17%  83%   0%   0%   0%       0%     0%\n",
       "anterior        8%    0%   0%     0%   0%   0%  75%   0%       8%     0%\n",
       "dist_fut        0%    0%   0%    71%  14%   0%   0%   0%       0%     0%"
      ]
     },
     "execution_count": 24,
     "metadata": {},
     "output_type": "execute_result"
    }
   ],
   "source": [
    "afmod_pr = afmod_ct.div(afmod_ct.sum(1), 0)\n",
    "afmod_pc = afmod_pr.mul(100).round().astype(int).astype(str)+'%'\n",
    "\n",
    "out.table(\n",
    "    afmod_pc.iloc[:,:10],\n",
    "    'afmod_pc',\n",
    "    caption='Modifier Percent of Function (Top Ten)',\n",
    "    adjustbox=True\n",
    ")"
   ]
  },
  {
   "cell_type": "code",
   "execution_count": 25,
   "metadata": {},
   "outputs": [],
   "source": [
    "afmod_dp = sig.apply_deltaP(afmod_ct, 0, 1)"
   ]
  },
  {
   "cell_type": "code",
   "execution_count": 26,
   "metadata": {},
   "outputs": [
    {
     "data": {
      "image/png": "[encoded data removed]",
      "text/plain": [
       "<Figure size 864x432 with 2 Axes>"
      ]
     },
     "metadata": {
      "needs_background": "light"
     },
     "output_type": "display_data"
    }
   ],
   "source": [
    "fig, ax = plt.subplots(figsize=(12, 6))\n",
    "heatmap(afmod_dp.round(2), square=False, ax=ax, annot=True)\n",
    "ax.set_xticklabels(ax.get_xticklabels(), rotation=60)\n",
    "ax.set_yticklabels(ax.get_yticklabels(), size=12)\n",
    "ax.set_ylabel('function', size=12)\n",
    "ax.set_xlabel('modifier', size=12)\n",
    "\n",
    "out.plot(\n",
    "    'heat_afmod_dp',\n",
    ")"
   ]
  },
  {
   "cell_type": "markdown",
   "metadata": {},
   "source": [
    "## Export Modifier ΔPs"
   ]
  },
  {
   "cell_type": "markdown",
   "metadata": {},
   "source": [
    "### Reg. Recurrence"
   ]
  },
  {
   "cell_type": "code",
   "execution_count": 27,
   "metadata": {},
   "outputs": [
    {
     "data": {
      "text/plain": [
       "'28'"
      ]
     },
     "execution_count": 27,
     "metadata": {},
     "output_type": "execute_result"
    }
   ],
   "source": [
    "out.number(\n",
    "    afmod_dp.loc['reg_recur']['KL']*100,\n",
    "    'regrec_DP_KL'\n",
    ")"
   ]
  },
  {
   "cell_type": "code",
   "execution_count": 28,
   "metadata": {},
   "outputs": [
    {
     "data": {
      "text/plain": [
       "'19'"
      ]
     },
     "execution_count": 28,
     "metadata": {},
     "output_type": "execute_result"
    }
   ],
   "source": [
    "out.number(\n",
    "    afmod_dp.loc['reg_recur']['DEF']*100,\n",
    "    'regrec_DP_DEF'\n",
    ")"
   ]
  },
  {
   "cell_type": "markdown",
   "metadata": {},
   "source": [
    "# Export All Fronts"
   ]
  },
  {
   "cell_type": "code",
   "execution_count": 30,
   "metadata": {},
   "outputs": [
    {
     "name": "stdout",
     "output_type": "stream",
     "text": [
      "simultaneous\n"
     ]
    },
    {
     "data": {
      "text/html": [
       "<div>\n",
       "<style scoped>\n",
       "    .dataframe tbody tr th:only-of-type {\n",
       "        vertical-align: middle;\n",
       "    }\n",
       "\n",
       "    .dataframe tbody tr th {\n",
       "        vertical-align: top;\n",
       "    }\n",
       "\n",
       "    .dataframe thead th {\n",
       "        text-align: right;\n",
       "    }\n",
       "</style>\n",
       "<table border=\"1\" class=\"dataframe\">\n",
       "  <thead>\n",
       "    <tr style=\"text-align: right;\">\n",
       "      <th></th>\n",
       "      <th>count</th>\n",
       "      <th>percent</th>\n",
       "    </tr>\n",
       "    <tr>\n",
       "      <th>front</th>\n",
       "      <th></th>\n",
       "      <th></th>\n",
       "    </tr>\n",
       "  </thead>\n",
       "  <tbody>\n",
       "    <tr>\n",
       "      <th>\\texthebrew{בְּ}</th>\n",
       "      <td>1015</td>\n",
       "      <td>54%</td>\n",
       "    </tr>\n",
       "    <tr>\n",
       "      <th>\\texthebrew{עַתָּה}</th>\n",
       "      <td>349</td>\n",
       "      <td>19%</td>\n",
       "    </tr>\n",
       "    <tr>\n",
       "      <th>\\texthebrew{Ø}</th>\n",
       "      <td>293</td>\n",
       "      <td>16%</td>\n",
       "    </tr>\n",
       "    <tr>\n",
       "      <th>\\texthebrew{אָז}</th>\n",
       "      <td>64</td>\n",
       "      <td>3%</td>\n",
       "    </tr>\n",
       "    <tr>\n",
       "      <th>\\texthebrew{לְ}</th>\n",
       "      <td>43</td>\n",
       "      <td>2%</td>\n",
       "    </tr>\n",
       "    <tr>\n",
       "      <th>\\texthebrew{כְּ}</th>\n",
       "      <td>35</td>\n",
       "      <td>2%</td>\n",
       "    </tr>\n",
       "    <tr>\n",
       "      <th>\\texthebrew{מָחָר}</th>\n",
       "      <td>32</td>\n",
       "      <td>2%</td>\n",
       "    </tr>\n",
       "    <tr>\n",
       "      <th>\\texthebrew{בְּ+אַחֲרִית}</th>\n",
       "      <td>15</td>\n",
       "      <td>1%</td>\n",
       "    </tr>\n",
       "    <tr>\n",
       "      <th>\\texthebrew{בַּיִן}</th>\n",
       "      <td>7</td>\n",
       "      <td>0%</td>\n",
       "    </tr>\n",
       "    <tr>\n",
       "      <th>\\texthebrew{לְ+קֵץ}</th>\n",
       "      <td>5</td>\n",
       "      <td>0%</td>\n",
       "    </tr>\n",
       "    <tr>\n",
       "      <th>\\texthebrew{יֹומָם}</th>\n",
       "      <td>5</td>\n",
       "      <td>0%</td>\n",
       "    </tr>\n",
       "    <tr>\n",
       "      <th>\\texthebrew{אֶמֶשׁ}</th>\n",
       "      <td>4</td>\n",
       "      <td>0%</td>\n",
       "    </tr>\n",
       "    <tr>\n",
       "      <th>\\texthebrew{חֲצֹות}</th>\n",
       "      <td>2</td>\n",
       "      <td>0%</td>\n",
       "    </tr>\n",
       "    <tr>\n",
       "      <th>\\texthebrew{עַל}</th>\n",
       "      <td>2</td>\n",
       "      <td>0%</td>\n",
       "    </tr>\n",
       "    <tr>\n",
       "      <th>\\texthebrew{כְּ+מִן}</th>\n",
       "      <td>1</td>\n",
       "      <td>0%</td>\n",
       "    </tr>\n",
       "    <tr>\n",
       "      <th>\\texthebrew{אַחֲרֹון}</th>\n",
       "      <td>1</td>\n",
       "      <td>0%</td>\n",
       "    </tr>\n",
       "    <tr>\n",
       "      <th>\\texthebrew{אֶל}</th>\n",
       "      <td>1</td>\n",
       "      <td>0%</td>\n",
       "    </tr>\n",
       "    <tr>\n",
       "      <th>\\texthebrew{רֶגַע}</th>\n",
       "      <td>1</td>\n",
       "      <td>0%</td>\n",
       "    </tr>\n",
       "    <tr>\n",
       "      <th>\\texthebrew{בְּ+תְּחִלָּה}</th>\n",
       "      <td>1</td>\n",
       "      <td>0%</td>\n",
       "    </tr>\n",
       "    <tr>\n",
       "      <th>\\texthebrew{רֹאשׁ}</th>\n",
       "      <td>1</td>\n",
       "      <td>0%</td>\n",
       "    </tr>\n",
       "    <tr>\n",
       "      <th>\\texthebrew{אֶתְמֹול}</th>\n",
       "      <td>1</td>\n",
       "      <td>0%</td>\n",
       "    </tr>\n",
       "    <tr>\n",
       "      <th>\\texthebrew{בְּ+רֹאשׁ}</th>\n",
       "      <td>1</td>\n",
       "      <td>0%</td>\n",
       "    </tr>\n",
       "    <tr>\n",
       "      <th>\\texthebrew{בְּ+תָּוֶךְ}</th>\n",
       "      <td>1</td>\n",
       "      <td>0%</td>\n",
       "    </tr>\n",
       "    <tr>\n",
       "      <th>\\texthebrew{תְּמֹול}</th>\n",
       "      <td>1</td>\n",
       "      <td>0%</td>\n",
       "    </tr>\n",
       "    <tr>\n",
       "      <th>\\texthebrew{כְּ+חֲצֹות}</th>\n",
       "      <td>1</td>\n",
       "      <td>0%</td>\n",
       "    </tr>\n",
       "  </tbody>\n",
       "</table>\n",
       "</div>"
      ],
      "text/plain": [
       "                            count percent\n",
       "front                                    \n",
       "\\texthebrew{בְּ}             1015     54%\n",
       "\\texthebrew{עַתָּה}           349     19%\n",
       "\\texthebrew{Ø}                293     16%\n",
       "\\texthebrew{אָז}               64      3%\n",
       "\\texthebrew{לְ}                43      2%\n",
       "\\texthebrew{כְּ}               35      2%\n",
       "\\texthebrew{מָחָר}             32      2%\n",
       "\\texthebrew{בְּ+אַחֲרִית}      15      1%\n",
       "\\texthebrew{בַּיִן}             7      0%\n",
       "\\texthebrew{לְ+קֵץ}             5      0%\n",
       "\\texthebrew{יֹומָם}             5      0%\n",
       "\\texthebrew{אֶמֶשׁ}             4      0%\n",
       "\\texthebrew{חֲצֹות}             2      0%\n",
       "\\texthebrew{עַל}                2      0%\n",
       "\\texthebrew{כְּ+מִן}            1      0%\n",
       "\\texthebrew{אַחֲרֹון}           1      0%\n",
       "\\texthebrew{אֶל}                1      0%\n",
       "\\texthebrew{רֶגַע}              1      0%\n",
       "\\texthebrew{בְּ+תְּחִלָּה}      1      0%\n",
       "\\texthebrew{רֹאשׁ}              1      0%\n",
       "\\texthebrew{אֶתְמֹול}           1      0%\n",
       "\\texthebrew{בְּ+רֹאשׁ}          1      0%\n",
       "\\texthebrew{בְּ+תָּוֶךְ}        1      0%\n",
       "\\texthebrew{תְּמֹול}            1      0%\n",
       "\\texthebrew{כְּ+חֲצֹות}         1      0%"
      ]
     },
     "metadata": {},
     "output_type": "display_data"
    },
    {
     "name": "stdout",
     "output_type": "stream",
     "text": [
      "anterior_dur\n"
     ]
    },
    {
     "data": {
      "text/html": [
       "<div>\n",
       "<style scoped>\n",
       "    .dataframe tbody tr th:only-of-type {\n",
       "        vertical-align: middle;\n",
       "    }\n",
       "\n",
       "    .dataframe tbody tr th {\n",
       "        vertical-align: top;\n",
       "    }\n",
       "\n",
       "    .dataframe thead th {\n",
       "        text-align: right;\n",
       "    }\n",
       "</style>\n",
       "<table border=\"1\" class=\"dataframe\">\n",
       "  <thead>\n",
       "    <tr style=\"text-align: right;\">\n",
       "      <th></th>\n",
       "      <th>count</th>\n",
       "      <th>percent</th>\n",
       "    </tr>\n",
       "    <tr>\n",
       "      <th>front</th>\n",
       "      <th></th>\n",
       "      <th></th>\n",
       "    </tr>\n",
       "  </thead>\n",
       "  <tbody>\n",
       "    <tr>\n",
       "      <th>\\texthebrew{עַד}</th>\n",
       "      <td>292</td>\n",
       "      <td>65%</td>\n",
       "    </tr>\n",
       "    <tr>\n",
       "      <th>\\texthebrew{לְ}</th>\n",
       "      <td>154</td>\n",
       "      <td>34%</td>\n",
       "    </tr>\n",
       "    <tr>\n",
       "      <th>\\texthebrew{עַד+לְ}</th>\n",
       "      <td>3</td>\n",
       "      <td>1%</td>\n",
       "    </tr>\n",
       "  </tbody>\n",
       "</table>\n",
       "</div>"
      ],
      "text/plain": [
       "                     count percent\n",
       "front                             \n",
       "\\texthebrew{עַד}       292     65%\n",
       "\\texthebrew{לְ}        154     34%\n",
       "\\texthebrew{עַד+לְ}      3      1%"
      ]
     },
     "metadata": {},
     "output_type": "display_data"
    },
    {
     "name": "stdout",
     "output_type": "stream",
     "text": [
      "anterior\n"
     ]
    },
    {
     "data": {
      "text/html": [
       "<div>\n",
       "<style scoped>\n",
       "    .dataframe tbody tr th:only-of-type {\n",
       "        vertical-align: middle;\n",
       "    }\n",
       "\n",
       "    .dataframe tbody tr th {\n",
       "        vertical-align: top;\n",
       "    }\n",
       "\n",
       "    .dataframe thead th {\n",
       "        text-align: right;\n",
       "    }\n",
       "</style>\n",
       "<table border=\"1\" class=\"dataframe\">\n",
       "  <thead>\n",
       "    <tr style=\"text-align: right;\">\n",
       "      <th></th>\n",
       "      <th>count</th>\n",
       "      <th>percent</th>\n",
       "    </tr>\n",
       "    <tr>\n",
       "      <th>front</th>\n",
       "      <th></th>\n",
       "      <th></th>\n",
       "    </tr>\n",
       "  </thead>\n",
       "  <tbody>\n",
       "    <tr>\n",
       "      <th>\\texthebrew{לְ}</th>\n",
       "      <td>19</td>\n",
       "      <td>59%</td>\n",
       "    </tr>\n",
       "    <tr>\n",
       "      <th>\\texthebrew{לְ+פָּנֶה}</th>\n",
       "      <td>8</td>\n",
       "      <td>25%</td>\n",
       "    </tr>\n",
       "    <tr>\n",
       "      <th>\\texthebrew{טֶרֶם}</th>\n",
       "      <td>4</td>\n",
       "      <td>12%</td>\n",
       "    </tr>\n",
       "    <tr>\n",
       "      <th>\\texthebrew{לְ+פָּנֶה+מִן}</th>\n",
       "      <td>1</td>\n",
       "      <td>3%</td>\n",
       "    </tr>\n",
       "  </tbody>\n",
       "</table>\n",
       "</div>"
      ],
      "text/plain": [
       "                            count percent\n",
       "front                                    \n",
       "\\texthebrew{לְ}                19     59%\n",
       "\\texthebrew{לְ+פָּנֶה}          8     25%\n",
       "\\texthebrew{טֶרֶם}              4     12%\n",
       "\\texthebrew{לְ+פָּנֶה+מִן}      1      3%"
      ]
     },
     "metadata": {},
     "output_type": "display_data"
    },
    {
     "name": "stdout",
     "output_type": "stream",
     "text": [
      "atelic_ext\n"
     ]
    },
    {
     "data": {
      "text/html": [
       "<div>\n",
       "<style scoped>\n",
       "    .dataframe tbody tr th:only-of-type {\n",
       "        vertical-align: middle;\n",
       "    }\n",
       "\n",
       "    .dataframe tbody tr th {\n",
       "        vertical-align: top;\n",
       "    }\n",
       "\n",
       "    .dataframe thead th {\n",
       "        text-align: right;\n",
       "    }\n",
       "</style>\n",
       "<table border=\"1\" class=\"dataframe\">\n",
       "  <thead>\n",
       "    <tr style=\"text-align: right;\">\n",
       "      <th></th>\n",
       "      <th>count</th>\n",
       "      <th>percent</th>\n",
       "    </tr>\n",
       "    <tr>\n",
       "      <th>front</th>\n",
       "      <th></th>\n",
       "      <th></th>\n",
       "    </tr>\n",
       "  </thead>\n",
       "  <tbody>\n",
       "    <tr>\n",
       "      <th>\\texthebrew{Ø}</th>\n",
       "      <td>523</td>\n",
       "      <td>90%</td>\n",
       "    </tr>\n",
       "    <tr>\n",
       "      <th>\\texthebrew{תָּמִיד}</th>\n",
       "      <td>31</td>\n",
       "      <td>5%</td>\n",
       "    </tr>\n",
       "    <tr>\n",
       "      <th>\\texthebrew{יֹומָם}</th>\n",
       "      <td>13</td>\n",
       "      <td>2%</td>\n",
       "    </tr>\n",
       "    <tr>\n",
       "      <th>\\texthebrew{לְ}</th>\n",
       "      <td>5</td>\n",
       "      <td>1%</td>\n",
       "    </tr>\n",
       "    <tr>\n",
       "      <th>\\texthebrew{כְּ}</th>\n",
       "      <td>2</td>\n",
       "      <td>0%</td>\n",
       "    </tr>\n",
       "    <tr>\n",
       "      <th>\\texthebrew{אֵת}</th>\n",
       "      <td>2</td>\n",
       "      <td>0%</td>\n",
       "    </tr>\n",
       "    <tr>\n",
       "      <th>\\texthebrew{נֵצַח}</th>\n",
       "      <td>1</td>\n",
       "      <td>0%</td>\n",
       "    </tr>\n",
       "    <tr>\n",
       "      <th>\\texthebrew{רְבִיעִי}</th>\n",
       "      <td>1</td>\n",
       "      <td>0%</td>\n",
       "    </tr>\n",
       "  </tbody>\n",
       "</table>\n",
       "</div>"
      ],
      "text/plain": [
       "                       count percent\n",
       "front                               \n",
       "\\texthebrew{Ø}           523     90%\n",
       "\\texthebrew{תָּמִיד}      31      5%\n",
       "\\texthebrew{יֹומָם}       13      2%\n",
       "\\texthebrew{לְ}            5      1%\n",
       "\\texthebrew{כְּ}           2      0%\n",
       "\\texthebrew{אֵת}           2      0%\n",
       "\\texthebrew{נֵצַח}         1      0%\n",
       "\\texthebrew{רְבִיעִי}      1      0%"
      ]
     },
     "metadata": {},
     "output_type": "display_data"
    },
    {
     "name": "stdout",
     "output_type": "stream",
     "text": [
      "habitual\n"
     ]
    },
    {
     "data": {
      "text/html": [
       "<div>\n",
       "<style scoped>\n",
       "    .dataframe tbody tr th:only-of-type {\n",
       "        vertical-align: middle;\n",
       "    }\n",
       "\n",
       "    .dataframe tbody tr th {\n",
       "        vertical-align: top;\n",
       "    }\n",
       "\n",
       "    .dataframe thead th {\n",
       "        text-align: right;\n",
       "    }\n",
       "</style>\n",
       "<table border=\"1\" class=\"dataframe\">\n",
       "  <thead>\n",
       "    <tr style=\"text-align: right;\">\n",
       "      <th></th>\n",
       "      <th>count</th>\n",
       "      <th>percent</th>\n",
       "    </tr>\n",
       "    <tr>\n",
       "      <th>front</th>\n",
       "      <th></th>\n",
       "      <th></th>\n",
       "    </tr>\n",
       "  </thead>\n",
       "  <tbody>\n",
       "  </tbody>\n",
       "</table>\n",
       "</div>"
      ],
      "text/plain": [
       "Empty DataFrame\n",
       "Columns: [count, percent]\n",
       "Index: []"
      ]
     },
     "metadata": {},
     "output_type": "display_data"
    },
    {
     "name": "stdout",
     "output_type": "stream",
     "text": [
      "posterior\n"
     ]
    },
    {
     "data": {
      "text/html": [
       "<div>\n",
       "<style scoped>\n",
       "    .dataframe tbody tr th:only-of-type {\n",
       "        vertical-align: middle;\n",
       "    }\n",
       "\n",
       "    .dataframe tbody tr th {\n",
       "        vertical-align: top;\n",
       "    }\n",
       "\n",
       "    .dataframe thead th {\n",
       "        text-align: right;\n",
       "    }\n",
       "</style>\n",
       "<table border=\"1\" class=\"dataframe\">\n",
       "  <thead>\n",
       "    <tr style=\"text-align: right;\">\n",
       "      <th></th>\n",
       "      <th>count</th>\n",
       "      <th>percent</th>\n",
       "    </tr>\n",
       "    <tr>\n",
       "      <th>front</th>\n",
       "      <th></th>\n",
       "      <th></th>\n",
       "    </tr>\n",
       "  </thead>\n",
       "  <tbody>\n",
       "    <tr>\n",
       "      <th>\\texthebrew{אַחַר}</th>\n",
       "      <td>161</td>\n",
       "      <td>72%</td>\n",
       "    </tr>\n",
       "    <tr>\n",
       "      <th>\\texthebrew{מִן}</th>\n",
       "      <td>32</td>\n",
       "      <td>14%</td>\n",
       "    </tr>\n",
       "    <tr>\n",
       "      <th>\\texthebrew{מִן+קֵץ}</th>\n",
       "      <td>18</td>\n",
       "      <td>8%</td>\n",
       "    </tr>\n",
       "    <tr>\n",
       "      <th>\\texthebrew{מִן+קָצֶה}</th>\n",
       "      <td>10</td>\n",
       "      <td>4%</td>\n",
       "    </tr>\n",
       "    <tr>\n",
       "      <th>\\texthebrew{מִן+אַחַר}</th>\n",
       "      <td>2</td>\n",
       "      <td>1%</td>\n",
       "    </tr>\n",
       "    <tr>\n",
       "      <th>\\texthebrew{מִן+קְצָת}</th>\n",
       "      <td>1</td>\n",
       "      <td>0%</td>\n",
       "    </tr>\n",
       "  </tbody>\n",
       "</table>\n",
       "</div>"
      ],
      "text/plain": [
       "                        count percent\n",
       "front                                \n",
       "\\texthebrew{אַחַר}        161     72%\n",
       "\\texthebrew{מִן}           32     14%\n",
       "\\texthebrew{מִן+קֵץ}       18      8%\n",
       "\\texthebrew{מִן+קָצֶה}     10      4%\n",
       "\\texthebrew{מִן+אַחַר}      2      1%\n",
       "\\texthebrew{מִן+קְצָת}      1      0%"
      ]
     },
     "metadata": {},
     "output_type": "display_data"
    },
    {
     "name": "stdout",
     "output_type": "stream",
     "text": [
      "posterior_dur\n"
     ]
    },
    {
     "data": {
      "text/html": [
       "<div>\n",
       "<style scoped>\n",
       "    .dataframe tbody tr th:only-of-type {\n",
       "        vertical-align: middle;\n",
       "    }\n",
       "\n",
       "    .dataframe tbody tr th {\n",
       "        vertical-align: top;\n",
       "    }\n",
       "\n",
       "    .dataframe thead th {\n",
       "        text-align: right;\n",
       "    }\n",
       "</style>\n",
       "<table border=\"1\" class=\"dataframe\">\n",
       "  <thead>\n",
       "    <tr style=\"text-align: right;\">\n",
       "      <th></th>\n",
       "      <th>count</th>\n",
       "      <th>percent</th>\n",
       "    </tr>\n",
       "    <tr>\n",
       "      <th>front</th>\n",
       "      <th></th>\n",
       "      <th></th>\n",
       "    </tr>\n",
       "  </thead>\n",
       "  <tbody>\n",
       "    <tr>\n",
       "      <th>\\texthebrew{מִן}</th>\n",
       "      <td>64</td>\n",
       "      <td>96%</td>\n",
       "    </tr>\n",
       "    <tr>\n",
       "      <th>\\texthebrew{מִן+תְּחִלָּה}</th>\n",
       "      <td>1</td>\n",
       "      <td>1%</td>\n",
       "    </tr>\n",
       "    <tr>\n",
       "      <th>\\texthebrew{מִן+לְ}</th>\n",
       "      <td>1</td>\n",
       "      <td>1%</td>\n",
       "    </tr>\n",
       "    <tr>\n",
       "      <th>\\texthebrew{לְ+מִן}</th>\n",
       "      <td>1</td>\n",
       "      <td>1%</td>\n",
       "    </tr>\n",
       "  </tbody>\n",
       "</table>\n",
       "</div>"
      ],
      "text/plain": [
       "                            count percent\n",
       "front                                    \n",
       "\\texthebrew{מִן}               64     96%\n",
       "\\texthebrew{מִן+תְּחִלָּה}      1      1%\n",
       "\\texthebrew{מִן+לְ}             1      1%\n",
       "\\texthebrew{לְ+מִן}             1      1%"
      ]
     },
     "metadata": {},
     "output_type": "display_data"
    },
    {
     "name": "stdout",
     "output_type": "stream",
     "text": [
      "telic_ext\n"
     ]
    },
    {
     "data": {
      "text/html": [
       "<div>\n",
       "<style scoped>\n",
       "    .dataframe tbody tr th:only-of-type {\n",
       "        vertical-align: middle;\n",
       "    }\n",
       "\n",
       "    .dataframe tbody tr th {\n",
       "        vertical-align: top;\n",
       "    }\n",
       "\n",
       "    .dataframe thead th {\n",
       "        text-align: right;\n",
       "    }\n",
       "</style>\n",
       "<table border=\"1\" class=\"dataframe\">\n",
       "  <thead>\n",
       "    <tr style=\"text-align: right;\">\n",
       "      <th></th>\n",
       "      <th>count</th>\n",
       "      <th>percent</th>\n",
       "    </tr>\n",
       "    <tr>\n",
       "      <th>front</th>\n",
       "      <th></th>\n",
       "      <th></th>\n",
       "    </tr>\n",
       "  </thead>\n",
       "  <tbody>\n",
       "    <tr>\n",
       "      <th>\\texthebrew{בְּ}</th>\n",
       "      <td>8</td>\n",
       "      <td>57%</td>\n",
       "    </tr>\n",
       "    <tr>\n",
       "      <th>\\texthebrew{Ø}</th>\n",
       "      <td>6</td>\n",
       "      <td>43%</td>\n",
       "    </tr>\n",
       "  </tbody>\n",
       "</table>\n",
       "</div>"
      ],
      "text/plain": [
       "                  count percent\n",
       "front                          \n",
       "\\texthebrew{בְּ}      8     57%\n",
       "\\texthebrew{Ø}        6     43%"
      ]
     },
     "metadata": {},
     "output_type": "display_data"
    },
    {
     "name": "stdout",
     "output_type": "stream",
     "text": [
      "dist_fut\n"
     ]
    },
    {
     "data": {
      "text/html": [
       "<div>\n",
       "<style scoped>\n",
       "    .dataframe tbody tr th:only-of-type {\n",
       "        vertical-align: middle;\n",
       "    }\n",
       "\n",
       "    .dataframe tbody tr th {\n",
       "        vertical-align: top;\n",
       "    }\n",
       "\n",
       "    .dataframe thead th {\n",
       "        text-align: right;\n",
       "    }\n",
       "</style>\n",
       "<table border=\"1\" class=\"dataframe\">\n",
       "  <thead>\n",
       "    <tr style=\"text-align: right;\">\n",
       "      <th></th>\n",
       "      <th>count</th>\n",
       "      <th>percent</th>\n",
       "    </tr>\n",
       "    <tr>\n",
       "      <th>front</th>\n",
       "      <th></th>\n",
       "      <th></th>\n",
       "    </tr>\n",
       "  </thead>\n",
       "  <tbody>\n",
       "    <tr>\n",
       "      <th>\\texthebrew{בְּ}</th>\n",
       "      <td>6</td>\n",
       "      <td>86%</td>\n",
       "    </tr>\n",
       "    <tr>\n",
       "      <th>\\texthebrew{Ø}</th>\n",
       "      <td>1</td>\n",
       "      <td>14%</td>\n",
       "    </tr>\n",
       "  </tbody>\n",
       "</table>\n",
       "</div>"
      ],
      "text/plain": [
       "                  count percent\n",
       "front                          \n",
       "\\texthebrew{בְּ}      6     86%\n",
       "\\texthebrew{Ø}        1     14%"
      ]
     },
     "metadata": {},
     "output_type": "display_data"
    },
    {
     "name": "stdout",
     "output_type": "stream",
     "text": [
      "dist_past\n"
     ]
    },
    {
     "data": {
      "text/html": [
       "<div>\n",
       "<style scoped>\n",
       "    .dataframe tbody tr th:only-of-type {\n",
       "        vertical-align: middle;\n",
       "    }\n",
       "\n",
       "    .dataframe tbody tr th {\n",
       "        vertical-align: top;\n",
       "    }\n",
       "\n",
       "    .dataframe thead th {\n",
       "        text-align: right;\n",
       "    }\n",
       "</style>\n",
       "<table border=\"1\" class=\"dataframe\">\n",
       "  <thead>\n",
       "    <tr style=\"text-align: right;\">\n",
       "      <th></th>\n",
       "      <th>count</th>\n",
       "      <th>percent</th>\n",
       "    </tr>\n",
       "    <tr>\n",
       "      <th>front</th>\n",
       "      <th></th>\n",
       "      <th></th>\n",
       "    </tr>\n",
       "  </thead>\n",
       "  <tbody>\n",
       "    <tr>\n",
       "      <th>\\texthebrew{Ø}</th>\n",
       "      <td>3</td>\n",
       "      <td>100%</td>\n",
       "    </tr>\n",
       "  </tbody>\n",
       "</table>\n",
       "</div>"
      ],
      "text/plain": [
       "                count percent\n",
       "front                        \n",
       "\\texthebrew{Ø}      3    100%"
      ]
     },
     "metadata": {},
     "output_type": "display_data"
    }
   ],
   "source": [
    "abbrevs = {\n",
    "    'simultaneous': ['sim', 'Simultaneous'],\n",
    "    'anterior_dur': ['antdur', 'Anterior Durative'],\n",
    "    'anterior': ['ant', 'Anterior'],\n",
    "    'atelic_ext': ['atel', 'Atelic Extent'],\n",
    "    'habitual': ['hab', 'Habitual'],\n",
    "    'posterior': ['post', 'Posterior'],\n",
    "    'posterior_dur': ['postdur', 'Posterior Durative'],\n",
    "    'telic_ext': ['telic', 'Telic Extent'],\n",
    "    'dist_fut': ['distfut', 'Distance Future'],  \n",
    "    'dist_past': ['distpast', 'Distance Past'], \n",
    "}\n",
    "\n",
    "funct2data = {}\n",
    "\n",
    "for function, namedata in abbrevs.items():\n",
    "    abbrev, full = namedata\n",
    "    funct_df = df_main[df_main.function == function]\n",
    "    front_cts = pd.DataFrame(\n",
    "        funct_df['front'].value_counts()\n",
    "    )\n",
    "    front_cts = front_cts.rename_axis(index='front').set_axis(['count'], 1)\n",
    "    front_prs = front_cts / front_cts.sum()\n",
    "    front_cp = join_ct_pr(front_cts, front_prs)\n",
    "    \n",
    "    funct2data[function] = {\n",
    "        'df': funct_df,\n",
    "        'ct':front_cts,\n",
    "        'pr':front_prs,\n",
    "        'cp':front_cp,\n",
    "    }\n",
    "    \n",
    "    print(function)\n",
    "    display(\n",
    "        out.table(\n",
    "            front_cp,\n",
    "            f'{abbrev}_front',\n",
    "            caption=f'Attested {full} Forms in Sample',\n",
    "            hebaxis=0,\n",
    "        )\n",
    "    )"
   ]
  },
  {
   "cell_type": "markdown",
   "metadata": {},
   "source": [
    "## Export Numbers / Data"
   ]
  },
  {
   "cell_type": "markdown",
   "metadata": {},
   "source": [
    "### Simultaneous"
   ]
  },
  {
   "cell_type": "code",
   "execution_count": 31,
   "metadata": {},
   "outputs": [],
   "source": [
    "simdf = funct2data['simultaneous']['df']"
   ]
  },
  {
   "cell_type": "code",
   "execution_count": 33,
   "metadata": {},
   "outputs": [
    {
     "data": {
      "text/plain": [
       "'54'"
      ]
     },
     "execution_count": 33,
     "metadata": {},
     "output_type": "execute_result"
    }
   ],
   "source": [
    "out.number(\n",
    "    funct2data['simultaneous']['pr'].loc['בְּ'][0]*100,\n",
    "    'perc_sim_B'\n",
    ")"
   ]
  },
  {
   "cell_type": "code",
   "execution_count": 42,
   "metadata": {},
   "outputs": [
    {
     "data": {
      "text/html": [
       "<div>\n",
       "<style scoped>\n",
       "    .dataframe tbody tr th:only-of-type {\n",
       "        vertical-align: middle;\n",
       "    }\n",
       "\n",
       "    .dataframe tbody tr th {\n",
       "        vertical-align: top;\n",
       "    }\n",
       "\n",
       "    .dataframe thead th {\n",
       "        text-align: right;\n",
       "    }\n",
       "</style>\n",
       "<table border=\"1\" class=\"dataframe\">\n",
       "  <thead>\n",
       "    <tr style=\"text-align: right;\">\n",
       "      <th></th>\n",
       "      <th>verse</th>\n",
       "      <th>clause</th>\n",
       "    </tr>\n",
       "    <tr>\n",
       "      <th>node</th>\n",
       "      <th></th>\n",
       "      <th></th>\n",
       "    </tr>\n",
       "  </thead>\n",
       "  <tbody>\n",
       "    <tr>\n",
       "      <th>514859</th>\n",
       "      <td>2 Chr 29:19</td>\n",
       "      <td>אֲשֶׁ֣ר הִזְנִיחַ֩ הַמֶּ֨לֶךְ אָחָ֧ז בְּמַלְכו...</td>\n",
       "    </tr>\n",
       "    <tr>\n",
       "      <th>479819</th>\n",
       "      <td>Jer 51:46</td>\n",
       "      <td>וּבָ֧א בַשָּׁנָ֣ה הַשְּׁמוּעָ֗ה</td>\n",
       "    </tr>\n",
       "    <tr>\n",
       "      <th>451068</th>\n",
       "      <td>Josh 24:25</td>\n",
       "      <td>וַיִּכְרֹ֨ת יְהֹושֻׁ֧עַ בְּרִ֛ית לָעָ֖ם בַּיֹּ...</td>\n",
       "    </tr>\n",
       "    <tr>\n",
       "      <th>467037</th>\n",
       "      <td>2 Kgs 17:6</td>\n",
       "      <td>בִּשְׁנַ֨ת הַתְּשִׁיעִ֜ית לְהֹושֵׁ֗עַ לָכַ֤ד מ...</td>\n",
       "    </tr>\n",
       "    <tr>\n",
       "      <th>471042</th>\n",
       "      <td>Isa 37:30</td>\n",
       "      <td>וּבַשָּׁנָ֣ה הַשְּׁלִישִׁ֗ית זִרְע֧וּ</td>\n",
       "    </tr>\n",
       "  </tbody>\n",
       "</table>\n",
       "</div>"
      ],
      "text/plain": [
       "              verse                                             clause\n",
       "node                                                                  \n",
       "514859  2 Chr 29:19  אֲשֶׁ֣ר הִזְנִיחַ֩ הַמֶּ֨לֶךְ אָחָ֧ז בְּמַלְכו...\n",
       "479819    Jer 51:46                   וּבָ֧א בַשָּׁנָ֣ה הַשְּׁמוּעָ֗ה \n",
       "451068   Josh 24:25  וַיִּכְרֹ֨ת יְהֹושֻׁ֧עַ בְּרִ֛ית לָעָ֖ם בַּיֹּ...\n",
       "467037   2 Kgs 17:6  בִּשְׁנַ֨ת הַתְּשִׁיעִ֜ית לְהֹושֵׁ֗עַ לָכַ֤ד מ...\n",
       "471042    Isa 37:30             וּבַשָּׁנָ֣ה הַשְּׁלִישִׁ֗ית זִרְע֧וּ "
      ]
     },
     "execution_count": 42,
     "metadata": {},
     "output_type": "execute_result"
    }
   ],
   "source": [
    "# examples with B\n",
    "out.examples(\n",
    "    simdf[\n",
    "        (simdf.front == 'בְּ')\n",
    "    ].sample(5, random_state=40),\n",
    "    'B_sim_exs',\n",
    ")"
   ]
  },
  {
   "cell_type": "code",
   "execution_count": 43,
   "metadata": {},
   "outputs": [
    {
     "data": {
      "text/html": [
       "<div>\n",
       "<style scoped>\n",
       "    .dataframe tbody tr th:only-of-type {\n",
       "        vertical-align: middle;\n",
       "    }\n",
       "\n",
       "    .dataframe tbody tr th {\n",
       "        vertical-align: top;\n",
       "    }\n",
       "\n",
       "    .dataframe thead th {\n",
       "        text-align: right;\n",
       "    }\n",
       "</style>\n",
       "<table border=\"1\" class=\"dataframe\">\n",
       "  <thead>\n",
       "    <tr style=\"text-align: right;\">\n",
       "      <th></th>\n",
       "      <th>verse</th>\n",
       "      <th>clause</th>\n",
       "    </tr>\n",
       "    <tr>\n",
       "      <th>node</th>\n",
       "      <th></th>\n",
       "      <th></th>\n",
       "    </tr>\n",
       "  </thead>\n",
       "  <tbody>\n",
       "    <tr>\n",
       "      <th>433315</th>\n",
       "      <td>Gen 49:1</td>\n",
       "      <td>אֵ֛ת אֲשֶׁר־יִקְרָ֥א אֶתְכֶ֖ם בְּאַחֲרִ֥ית הַי...</td>\n",
       "    </tr>\n",
       "    <tr>\n",
       "      <th>507186</th>\n",
       "      <td>Dan 8:19</td>\n",
       "      <td>אֵ֥ת אֲשֶׁר־יִהְיֶ֖ה בְּאַחֲרִ֣ית הַזָּ֑עַם</td>\n",
       "    </tr>\n",
       "    <tr>\n",
       "      <th>507198</th>\n",
       "      <td>Dan 8:23</td>\n",
       "      <td>וּֽבְאַחֲרִית֙ מַלְכוּתָ֔ם יַעֲמֹ֛ד מֶ֥לֶךְ עַ...</td>\n",
       "    </tr>\n",
       "    <tr>\n",
       "      <th>507427</th>\n",
       "      <td>Dan 10:14</td>\n",
       "      <td>אֵ֛ת אֲשֶׁר־יִקְרָ֥ה לְעַמְּךָ֖ בְּאַחֲרִ֣ית ה...</td>\n",
       "    </tr>\n",
       "    <tr>\n",
       "      <th>448374</th>\n",
       "      <td>Deut 31:29</td>\n",
       "      <td>וְקָרָ֨את אֶתְכֶ֤ם הָֽרָעָה֙ בְּאַחֲרִ֣ית הַיּ...</td>\n",
       "    </tr>\n",
       "  </tbody>\n",
       "</table>\n",
       "</div>"
      ],
      "text/plain": [
       "             verse                                             clause\n",
       "node                                                                 \n",
       "433315    Gen 49:1  אֵ֛ת אֲשֶׁר־יִקְרָ֥א אֶתְכֶ֖ם בְּאַחֲרִ֥ית הַי...\n",
       "507186    Dan 8:19       אֵ֥ת אֲשֶׁר־יִהְיֶ֖ה בְּאַחֲרִ֣ית הַזָּ֑עַם \n",
       "507198    Dan 8:23  וּֽבְאַחֲרִית֙ מַלְכוּתָ֔ם יַעֲמֹ֛ד מֶ֥לֶךְ עַ...\n",
       "507427   Dan 10:14  אֵ֛ת אֲשֶׁר־יִקְרָ֥ה לְעַמְּךָ֖ בְּאַחֲרִ֣ית ה...\n",
       "448374  Deut 31:29  וְקָרָ֨את אֶתְכֶ֤ם הָֽרָעָה֙ בְּאַחֲרִ֣ית הַיּ..."
      ]
     },
     "execution_count": 43,
     "metadata": {},
     "output_type": "execute_result"
    }
   ],
   "source": [
    "# examples with B\n",
    "out.examples(\n",
    "    simdf[\n",
    "        (simdf.front == 'בְּ+אַחֲרִית')\n",
    "    ].sample(5, random_state=40),\n",
    "    'Blast_sim_exs',\n",
    ")"
   ]
  },
  {
   "cell_type": "code",
   "execution_count": 34,
   "metadata": {},
   "outputs": [
    {
     "data": {
      "text/plain": [
       "'16'"
      ]
     },
     "execution_count": 34,
     "metadata": {},
     "output_type": "execute_result"
    }
   ],
   "source": [
    "get = 'Ø'\n",
    "out.number(\n",
    "    funct2data['simultaneous']['pr'].loc[get][0]*100,\n",
    "    'perc_sim_Ø'\n",
    ")"
   ]
  },
  {
   "cell_type": "code",
   "execution_count": 35,
   "metadata": {},
   "outputs": [
    {
     "data": {
      "text/plain": [
       "1.0    0.83959\n",
       "0.0    0.16041\n",
       "Name: DEF, dtype: float64"
      ]
     },
     "execution_count": 35,
     "metadata": {},
     "output_type": "execute_result"
    }
   ],
   "source": [
    "nulldef_ct = simdf[simdf.front == 'Ø'].DEF.value_counts()\n",
    "nulldef_pr = nulldef_ct / nulldef_ct.sum()\n",
    "\n",
    "nulldef_pr"
   ]
  },
  {
   "cell_type": "code",
   "execution_count": 36,
   "metadata": {},
   "outputs": [
    {
     "data": {
      "text/plain": [
       "'84'"
      ]
     },
     "execution_count": 36,
     "metadata": {},
     "output_type": "execute_result"
    }
   ],
   "source": [
    "out.number(\n",
    "    nulldef_pr[1]*100,\n",
    "    'nulldef_pr'\n",
    ")"
   ]
  },
  {
   "cell_type": "markdown",
   "metadata": {},
   "source": [
    "#"
   ]
  },
  {
   "cell_type": "code",
   "execution_count": 37,
   "metadata": {},
   "outputs": [
    {
     "name": "stdout",
     "output_type": "stream",
     "text": [
      "showing 10 of 47\n"
     ]
    },
    {
     "data": {
      "text/html": [
       "<style  type=\"text/css\" >\n",
       "#T_44224_row0_col1,#T_44224_row1_col1,#T_44224_row2_col1,#T_44224_row3_col1,#T_44224_row4_col1,#T_44224_row5_col1,#T_44224_row6_col1,#T_44224_row7_col1,#T_44224_row8_col1,#T_44224_row9_col1{\n",
       "            font-size: 20px;\n",
       "             font-family:  Times New Roman;\n",
       "             text-align:  right;\n",
       "             max-width:  500px;\n",
       "        }</style><table id=\"T_44224_\" ><thead>    <tr>        <th class=\"blank level0\" ></th>        <th class=\"col_heading level0 col0\" >verse</th>        <th class=\"col_heading level0 col1\" >clause</th>        <th class=\"col_heading level0 col2\" >function</th>        <th class=\"col_heading level0 col3\" >times_utf8</th>    </tr>    <tr>        <th class=\"index_name level0\" >node</th>        <th class=\"blank\" ></th>        <th class=\"blank\" ></th>        <th class=\"blank\" ></th>        <th class=\"blank\" ></th>    </tr></thead><tbody>\n",
       "                <tr>\n",
       "                        <th id=\"T_44224_level0_row0\" class=\"row_heading level0 row0\" >428652</th>\n",
       "                        <td id=\"T_44224_row0_col0\" class=\"data row0 col0\" >Gen 14:4</td>\n",
       "                        <td id=\"T_44224_row0_col1\" class=\"data row0 col1\" >וּשְׁלֹשׁ־עֶשְׂרֵ֥ה שָׁנָ֖ה מָרָֽדוּ׃ </td>\n",
       "                        <td id=\"T_44224_row0_col2\" class=\"data row0 col2\" >simultaneous</td>\n",
       "                        <td id=\"T_44224_row0_col3\" class=\"data row0 col3\" >שָׁנָה</td>\n",
       "            </tr>\n",
       "            <tr>\n",
       "                        <th id=\"T_44224_level0_row1\" class=\"row_heading level0 row1\" >442052</th>\n",
       "                        <td id=\"T_44224_row1_col0\" class=\"data row1 col0\" >Num 11:9</td>\n",
       "                        <td id=\"T_44224_row1_col1\" class=\"data row1 col1\" >בְרֶ֧דֶת הַטַּ֛ל עַל־הַֽמַּחֲנֶ֖ה לָ֑יְלָה </td>\n",
       "                        <td id=\"T_44224_row1_col2\" class=\"data row1 col2\" >simultaneous</td>\n",
       "                        <td id=\"T_44224_row1_col3\" class=\"data row1 col3\" >לַיְלָה</td>\n",
       "            </tr>\n",
       "            <tr>\n",
       "                        <th id=\"T_44224_level0_row2\" class=\"row_heading level0 row2\" >452297</th>\n",
       "                        <td id=\"T_44224_row2_col0\" class=\"data row2 col0\" >Judg 9:32</td>\n",
       "                        <td id=\"T_44224_row2_col1\" class=\"data row2 col1\" >ק֣וּם לַ֔יְלָה אַתָּ֖ה וְהָעָ֣ם </td>\n",
       "                        <td id=\"T_44224_row2_col2\" class=\"data row2 col2\" >simultaneous</td>\n",
       "                        <td id=\"T_44224_row2_col3\" class=\"data row2 col3\" >לַיְלָה</td>\n",
       "            </tr>\n",
       "            <tr>\n",
       "                        <th id=\"T_44224_level0_row3\" class=\"row_heading level0 row3\" >457391</th>\n",
       "                        <td id=\"T_44224_row3_col0\" class=\"data row3 col0\" >1 Sam 26:7</td>\n",
       "                        <td id=\"T_44224_row3_col1\" class=\"data row3 col1\" >וַיָּבֹא֩ דָוִ֨ד וַאֲבִישַׁ֥י׀ אֶל־הָעָם֮ לַיְלָה֒ </td>\n",
       "                        <td id=\"T_44224_row3_col2\" class=\"data row3 col2\" >simultaneous</td>\n",
       "                        <td id=\"T_44224_row3_col3\" class=\"data row3 col3\" >לַיְלָה</td>\n",
       "            </tr>\n",
       "            <tr>\n",
       "                        <th id=\"T_44224_level0_row4\" class=\"row_heading level0 row4\" >465833</th>\n",
       "                        <td id=\"T_44224_row4_col0\" class=\"data row4 col0\" >2 Kgs 7:12</td>\n",
       "                        <td id=\"T_44224_row4_col1\" class=\"data row4 col1\" >וַיָּ֨קָם הַמֶּ֜לֶךְ לַ֗יְלָה </td>\n",
       "                        <td id=\"T_44224_row4_col2\" class=\"data row4 col2\" >simultaneous</td>\n",
       "                        <td id=\"T_44224_row4_col3\" class=\"data row4 col3\" >לַיְלָה</td>\n",
       "            </tr>\n",
       "            <tr>\n",
       "                        <th id=\"T_44224_level0_row5\" class=\"row_heading level0 row5\" >485724</th>\n",
       "                        <td id=\"T_44224_row5_col0\" class=\"data row5 col0\" >Hos 4:5</td>\n",
       "                        <td id=\"T_44224_row5_col1\" class=\"data row5 col1\" >וְכָשַׁ֧ל גַּם־נָבִ֛יא עִמְּךָ֖ לָ֑יְלָה </td>\n",
       "                        <td id=\"T_44224_row5_col2\" class=\"data row5 col2\" >simultaneous</td>\n",
       "                        <td id=\"T_44224_row5_col3\" class=\"data row5 col3\" >לַיְלָה</td>\n",
       "            </tr>\n",
       "            <tr>\n",
       "                        <th id=\"T_44224_level0_row6\" class=\"row_heading level0 row6\" >490340</th>\n",
       "                        <td id=\"T_44224_row6_col0\" class=\"data row6 col0\" >Ps 5:4</td>\n",
       "                        <td id=\"T_44224_row6_col1\" class=\"data row6 col1\" >בֹּ֖קֶר תִּשְׁמַ֣ע קֹולִ֑י </td>\n",
       "                        <td id=\"T_44224_row6_col2\" class=\"data row6 col2\" >simultaneous</td>\n",
       "                        <td id=\"T_44224_row6_col3\" class=\"data row6 col3\" >בֹּקֶר</td>\n",
       "            </tr>\n",
       "            <tr>\n",
       "                        <th id=\"T_44224_level0_row7\" class=\"row_heading level0 row7\" >493512</th>\n",
       "                        <td id=\"T_44224_row7_col0\" class=\"data row7 col0\" >Ps 69:14</td>\n",
       "                        <td id=\"T_44224_row7_col1\" class=\"data row7 col1\" >תְפִלָּתִֽי־לְךָ֨׀ עֵ֤ת רָצֹ֗ון </td>\n",
       "                        <td id=\"T_44224_row7_col2\" class=\"data row7 col2\" >simultaneous</td>\n",
       "                        <td id=\"T_44224_row7_col3\" class=\"data row7 col3\" >עֵת</td>\n",
       "            </tr>\n",
       "            <tr>\n",
       "                        <th id=\"T_44224_level0_row8\" class=\"row_heading level0 row8\" >499835</th>\n",
       "                        <td id=\"T_44224_row8_col0\" class=\"data row8 col0\" >Job 34:25</td>\n",
       "                        <td id=\"T_44224_row8_col1\" class=\"data row8 col1\" >וְהָ֥פַךְ לַ֝֗יְלָה </td>\n",
       "                        <td id=\"T_44224_row8_col2\" class=\"data row8 col2\" >simultaneous</td>\n",
       "                        <td id=\"T_44224_row8_col3\" class=\"data row8 col3\" >לַיְלָה</td>\n",
       "            </tr>\n",
       "            <tr>\n",
       "                        <th id=\"T_44224_level0_row9\" class=\"row_heading level0 row9\" >514108</th>\n",
       "                        <td id=\"T_44224_row9_col0\" class=\"data row9 col0\" >2 Chr 21:9</td>\n",
       "                        <td id=\"T_44224_row9_col1\" class=\"data row9 col1\" >קָ֣ם לַ֔יְלָה </td>\n",
       "                        <td id=\"T_44224_row9_col2\" class=\"data row9 col2\" >simultaneous</td>\n",
       "                        <td id=\"T_44224_row9_col3\" class=\"data row9 col3\" >לַיְלָה</td>\n",
       "            </tr>\n",
       "    </tbody></table>"
      ],
      "text/plain": [
       "<pandas.io.formats.style.Styler at 0x7f99c6f9e8b0>"
      ]
     },
     "execution_count": 37,
     "metadata": {},
     "output_type": "execute_result"
    }
   ],
   "source": [
    "null_nodef = simdf[\n",
    "    (simdf.front == 'Ø')\n",
    "    & (simdf.DEF == 0)\n",
    "]\n",
    "\n",
    "out.number(\n",
    "    null_nodef.shape[0],\n",
    "    'n_null_nodef'\n",
    ")\n",
    "\n",
    "ts.show(\n",
    "    null_nodef\n",
    ", extra=['function', 'times_utf8'], spread=10)"
   ]
  },
  {
   "cell_type": "code",
   "execution_count": 47,
   "metadata": {},
   "outputs": [
    {
     "data": {
      "text/html": [
       "<div>\n",
       "<style scoped>\n",
       "    .dataframe tbody tr th:only-of-type {\n",
       "        vertical-align: middle;\n",
       "    }\n",
       "\n",
       "    .dataframe tbody tr th {\n",
       "        vertical-align: top;\n",
       "    }\n",
       "\n",
       "    .dataframe thead th {\n",
       "        text-align: right;\n",
       "    }\n",
       "</style>\n",
       "<table border=\"1\" class=\"dataframe\">\n",
       "  <thead>\n",
       "    <tr style=\"text-align: right;\">\n",
       "      <th></th>\n",
       "      <th>verse</th>\n",
       "      <th>clause</th>\n",
       "    </tr>\n",
       "    <tr>\n",
       "      <th>node</th>\n",
       "      <th></th>\n",
       "      <th></th>\n",
       "    </tr>\n",
       "  </thead>\n",
       "  <tbody>\n",
       "    <tr>\n",
       "      <th>460317</th>\n",
       "      <td>2 Sam 19:7</td>\n",
       "      <td>כִּ֣י׀ הִגַּ֣דְתָּ הַיֹּ֗ום</td>\n",
       "    </tr>\n",
       "    <tr>\n",
       "      <th>432084</th>\n",
       "      <td>Gen 40:7</td>\n",
       "      <td>מַדּ֛וּעַ פְּנֵיכֶ֥ם רָעִ֖ים הַיֹּֽום׃</td>\n",
       "    </tr>\n",
       "    <tr>\n",
       "      <th>463070</th>\n",
       "      <td>1 Kgs 13:11</td>\n",
       "      <td>אֲשֶׁר־עָשָׂה֩ אִישׁ־הָאֱלֹהִ֨ים׀ הַיֹּ֜ום בְּ...</td>\n",
       "    </tr>\n",
       "    <tr>\n",
       "      <th>460277</th>\n",
       "      <td>2 Sam 18:31</td>\n",
       "      <td>כִּֽי־שְׁפָטְךָ֤ יְהוָה֙ הַיֹּ֔ום מִיַּ֖ד כָּל־</td>\n",
       "    </tr>\n",
       "    <tr>\n",
       "      <th>454845</th>\n",
       "      <td>1 Sam 9:12</td>\n",
       "      <td>כִּ֤י הַיֹּום֙ בָּ֣א לָעִ֔יר</td>\n",
       "    </tr>\n",
       "    <tr>\n",
       "      <th>433168</th>\n",
       "      <td>Gen 47:23</td>\n",
       "      <td>הֵן֩ קָנִ֨יתִי אֶתְכֶ֥ם הַיֹּ֛ום וְאֶת־אַדְמַת...</td>\n",
       "    </tr>\n",
       "  </tbody>\n",
       "</table>\n",
       "</div>"
      ],
      "text/plain": [
       "              verse                                             clause\n",
       "node                                                                  \n",
       "460317   2 Sam 19:7                       כִּ֣י׀ הִגַּ֣דְתָּ הַיֹּ֗ום \n",
       "432084     Gen 40:7            מַדּ֛וּעַ פְּנֵיכֶ֥ם רָעִ֖ים הַיֹּֽום׃ \n",
       "463070  1 Kgs 13:11  אֲשֶׁר־עָשָׂה֩ אִישׁ־הָאֱלֹהִ֨ים׀ הַיֹּ֜ום בְּ...\n",
       "460277  2 Sam 18:31    כִּֽי־שְׁפָטְךָ֤ יְהוָה֙ הַיֹּ֔ום מִיַּ֖ד כָּל־\n",
       "454845   1 Sam 9:12                      כִּ֤י הַיֹּום֙ בָּ֣א לָעִ֔יר \n",
       "433168    Gen 47:23  הֵן֩ קָנִ֨יתִי אֶתְכֶ֥ם הַיֹּ֛ום וְאֶת־אַדְמַת..."
      ]
     },
     "execution_count": 47,
     "metadata": {},
     "output_type": "execute_result"
    }
   ],
   "source": [
    "# exs with null + H\n",
    "out.examples(\n",
    "    simdf[\n",
    "        (simdf.front == 'Ø')\n",
    "        & (simdf.DEF == 1)\n",
    "    ].sample(6, random_state=42069),\n",
    "    'ØH_sim_exs'\n",
    ")"
   ]
  },
  {
   "cell_type": "code",
   "execution_count": 49,
   "metadata": {},
   "outputs": [
    {
     "data": {
      "text/html": [
       "<div>\n",
       "<style scoped>\n",
       "    .dataframe tbody tr th:only-of-type {\n",
       "        vertical-align: middle;\n",
       "    }\n",
       "\n",
       "    .dataframe tbody tr th {\n",
       "        vertical-align: top;\n",
       "    }\n",
       "\n",
       "    .dataframe thead th {\n",
       "        text-align: right;\n",
       "    }\n",
       "</style>\n",
       "<table border=\"1\" class=\"dataframe\">\n",
       "  <thead>\n",
       "    <tr style=\"text-align: right;\">\n",
       "      <th></th>\n",
       "      <th>verse</th>\n",
       "      <th>clause</th>\n",
       "    </tr>\n",
       "    <tr>\n",
       "      <th>node</th>\n",
       "      <th></th>\n",
       "      <th></th>\n",
       "    </tr>\n",
       "  </thead>\n",
       "  <tbody>\n",
       "    <tr>\n",
       "      <th>461688</th>\n",
       "      <td>1 Kgs 3:19</td>\n",
       "      <td>וַיָּ֛מָת בֶּן־הָאִשָּׁ֥ה הַזֹּ֖את לָ֑יְלָה</td>\n",
       "    </tr>\n",
       "    <tr>\n",
       "      <th>457590</th>\n",
       "      <td>1 Sam 28:8</td>\n",
       "      <td>וַיָּבֹ֥אוּ אֶל־הָאִשָּׁ֖ה לָ֑יְלָה</td>\n",
       "    </tr>\n",
       "    <tr>\n",
       "      <th>491085</th>\n",
       "      <td>Ps 22:3</td>\n",
       "      <td>וְ֝לַ֗יְלָה</td>\n",
       "    </tr>\n",
       "    <tr>\n",
       "      <th>499473</th>\n",
       "      <td>Job 30:17</td>\n",
       "      <td>לַ֗יְלָה עֲ֭צָמַי נִקַּ֣ר מֵעָלָ֑י</td>\n",
       "    </tr>\n",
       "    <tr>\n",
       "      <th>443417</th>\n",
       "      <td>Num 22:20</td>\n",
       "      <td>וַיָּבֹ֨א אֱלֹהִ֥ים׀ אֶל־בִּלְעָם֮ לַיְלָה֒</td>\n",
       "    </tr>\n",
       "  </tbody>\n",
       "</table>\n",
       "</div>"
      ],
      "text/plain": [
       "             verse                                        clause\n",
       "node                                                            \n",
       "461688  1 Kgs 3:19  וַיָּ֛מָת בֶּן־הָאִשָּׁ֥ה הַזֹּ֖את לָ֑יְלָה \n",
       "457590  1 Sam 28:8          וַיָּבֹ֥אוּ אֶל־הָאִשָּׁ֖ה לָ֑יְלָה \n",
       "491085     Ps 22:3                                  וְ֝לַ֗יְלָה \n",
       "499473   Job 30:17           לַ֗יְלָה עֲ֭צָמַי נִקַּ֣ר מֵעָלָ֑י \n",
       "443417   Num 22:20  וַיָּבֹ֨א אֱלֹהִ֥ים׀ אֶל־בִּלְעָם֮ לַיְלָה֒ "
      ]
     },
     "execution_count": 49,
     "metadata": {},
     "output_type": "execute_result"
    }
   ],
   "source": [
    "# exs with null + night\n",
    "out.examples(\n",
    "    simdf[\n",
    "        (simdf.front == 'Ø')\n",
    "        & (simdf.DEF == 0)\n",
    "        & (simdf.times_etcbc == 'LJLH/')\n",
    "    ].sample(5, random_state=42069),\n",
    "    'Ønight_sim_exs'\n",
    ")"
   ]
  },
  {
   "cell_type": "code",
   "execution_count": 51,
   "metadata": {},
   "outputs": [
    {
     "data": {
      "text/html": [
       "<div>\n",
       "<style scoped>\n",
       "    .dataframe tbody tr th:only-of-type {\n",
       "        vertical-align: middle;\n",
       "    }\n",
       "\n",
       "    .dataframe tbody tr th {\n",
       "        vertical-align: top;\n",
       "    }\n",
       "\n",
       "    .dataframe thead th {\n",
       "        text-align: right;\n",
       "    }\n",
       "</style>\n",
       "<table border=\"1\" class=\"dataframe\">\n",
       "  <thead>\n",
       "    <tr style=\"text-align: right;\">\n",
       "      <th></th>\n",
       "      <th>verse</th>\n",
       "      <th>clause</th>\n",
       "    </tr>\n",
       "    <tr>\n",
       "      <th>node</th>\n",
       "      <th></th>\n",
       "      <th></th>\n",
       "    </tr>\n",
       "  </thead>\n",
       "  <tbody>\n",
       "    <tr>\n",
       "      <th>488055</th>\n",
       "      <td>Mic 7:11</td>\n",
       "      <td>יֹ֥ום הַה֖וּא יִרְחַק־חֹֽק׃</td>\n",
       "    </tr>\n",
       "    <tr>\n",
       "      <th>490340</th>\n",
       "      <td>Ps 5:4</td>\n",
       "      <td>בֹּ֖קֶר תִּשְׁמַ֣ע קֹולִ֑י</td>\n",
       "    </tr>\n",
       "    <tr>\n",
       "      <th>485909</th>\n",
       "      <td>Hos 7:6</td>\n",
       "      <td>בֹּ֕קֶר ה֥וּא בֹעֵ֖ר כְּאֵ֥שׁ לֶהָבָֽה׃</td>\n",
       "    </tr>\n",
       "    <tr>\n",
       "      <th>485905</th>\n",
       "      <td>Hos 7:5</td>\n",
       "      <td>יֹ֣ום מַלְכֵּ֔נוּ הֶחֱל֥וּ שָׂרִ֖ים חֲמַ֣ת מִי...</td>\n",
       "    </tr>\n",
       "    <tr>\n",
       "      <th>490341</th>\n",
       "      <td>Ps 5:4</td>\n",
       "      <td>בֹּ֥קֶר אֶֽעֱרָךְ־לְ֝ךָ֗</td>\n",
       "    </tr>\n",
       "  </tbody>\n",
       "</table>\n",
       "</div>"
      ],
      "text/plain": [
       "           verse                                             clause\n",
       "node                                                               \n",
       "488055  Mic 7:11                       יֹ֥ום הַה֖וּא יִרְחַק־חֹֽק׃ \n",
       "490340    Ps 5:4                        בֹּ֖קֶר תִּשְׁמַ֣ע קֹולִ֑י \n",
       "485909   Hos 7:6           בֹּ֕קֶר ה֥וּא בֹעֵ֖ר כְּאֵ֥שׁ לֶהָבָֽה׃ \n",
       "485905   Hos 7:5  יֹ֣ום מַלְכֵּ֔נוּ הֶחֱל֥וּ שָׂרִ֖ים חֲמַ֣ת מִי...\n",
       "490341    Ps 5:4                          בֹּ֥קֶר אֶֽעֱרָךְ־לְ֝ךָ֗ "
      ]
     },
     "execution_count": 51,
     "metadata": {},
     "output_type": "execute_result"
    }
   ],
   "source": [
    "# exs with null + night\n",
    "out.examples(\n",
    "    simdf[\n",
    "        (simdf.front == 'Ø')\n",
    "        & (simdf.DEF == 0)\n",
    "        & (simdf.times_etcbc.isin(['JWM/', 'BQR=/']))\n",
    "    ].sample(5, random_state=42069),\n",
    "    'Ødaymorn_sim_exs'\n",
    ")"
   ]
  },
  {
   "cell_type": "code",
   "execution_count": 52,
   "metadata": {},
   "outputs": [
    {
     "data": {
      "text/plain": [
       "לַיְלָה       31\n",
       "יֹום           5\n",
       "בֹּקֶר         3\n",
       "עֵת            2\n",
       "רֶגַע|יֹום     1\n",
       "מָחָר|עֵת      1\n",
       "חֹדֶשׁ         1\n",
       "צָהֳרַיִם      1\n",
       "שָׁנָה         1\n",
       "רֶגַע          1\n",
       "Name: times_utf8, dtype: int64"
      ]
     },
     "execution_count": 52,
     "metadata": {},
     "output_type": "execute_result"
    }
   ],
   "source": [
    "nndef_timects = null_nodef.times_utf8.value_counts()\n",
    "nndef_timeprs = nndef_timects / nndef_timects.sum()\n",
    "\n",
    "nndef_timects"
   ]
  },
  {
   "cell_type": "code",
   "execution_count": 54,
   "metadata": {},
   "outputs": [
    {
     "data": {
      "text/plain": [
       "'66'"
      ]
     },
     "execution_count": 54,
     "metadata": {},
     "output_type": "execute_result"
    }
   ],
   "source": [
    "out.number(\n",
    "    nndef_timeprs[\n",
    "        'לַיְלָה'\n",
    "    ]*100,\n",
    "    'nndef_night_pr',\n",
    ")"
   ]
  },
  {
   "cell_type": "code",
   "execution_count": 55,
   "metadata": {},
   "outputs": [
    {
     "data": {
      "text/plain": [
       "'31'"
      ]
     },
     "execution_count": 55,
     "metadata": {},
     "output_type": "execute_result"
    }
   ],
   "source": [
    "out.number(\n",
    "    nndef_timects['לַיְלָה'],\n",
    "    'nndef_night_ct',\n",
    ")"
   ]
  },
  {
   "cell_type": "code",
   "execution_count": 57,
   "metadata": {},
   "outputs": [
    {
     "data": {
      "text/plain": [
       "'5'"
      ]
     },
     "execution_count": 57,
     "metadata": {},
     "output_type": "execute_result"
    }
   ],
   "source": [
    "out.number(\n",
    "    nndef_timects['יֹום'],\n",
    "    'nndef_day_ct',\n",
    ")"
   ]
  },
  {
   "cell_type": "code",
   "execution_count": 58,
   "metadata": {},
   "outputs": [
    {
     "data": {
      "text/plain": [
       "'3'"
      ]
     },
     "execution_count": 58,
     "metadata": {},
     "output_type": "execute_result"
    }
   ],
   "source": [
    "out.number(\n",
    "    nndef_timects['בֹּקֶר'],\n",
    "    'nndef_morning_ct',\n",
    ")"
   ]
  },
  {
   "cell_type": "code",
   "execution_count": 61,
   "metadata": {},
   "outputs": [
    {
     "data": {
      "text/html": [
       "<div>\n",
       "<style scoped>\n",
       "    .dataframe tbody tr th:only-of-type {\n",
       "        vertical-align: middle;\n",
       "    }\n",
       "\n",
       "    .dataframe tbody tr th {\n",
       "        vertical-align: top;\n",
       "    }\n",
       "\n",
       "    .dataframe thead th {\n",
       "        text-align: right;\n",
       "    }\n",
       "</style>\n",
       "<table border=\"1\" class=\"dataframe\">\n",
       "  <thead>\n",
       "    <tr style=\"text-align: right;\">\n",
       "      <th></th>\n",
       "      <th>verse</th>\n",
       "      <th>clause</th>\n",
       "    </tr>\n",
       "    <tr>\n",
       "      <th>node</th>\n",
       "      <th></th>\n",
       "      <th></th>\n",
       "    </tr>\n",
       "  </thead>\n",
       "  <tbody>\n",
       "    <tr>\n",
       "      <th>428652</th>\n",
       "      <td>Gen 14:4</td>\n",
       "      <td>וּשְׁלֹשׁ־עֶשְׂרֵ֥ה שָׁנָ֖ה מָרָֽדוּ׃</td>\n",
       "    </tr>\n",
       "  </tbody>\n",
       "</table>\n",
       "</div>"
      ],
      "text/plain": [
       "           verse                                  clause\n",
       "node                                                    \n",
       "428652  Gen 14:4  וּשְׁלֹשׁ־עֶשְׂרֵ֥ה שָׁנָ֖ה מָרָֽדוּ׃ "
      ]
     },
     "execution_count": 61,
     "metadata": {},
     "output_type": "execute_result"
    }
   ],
   "source": [
    "out.examples(\n",
    "    simdf[simdf.verse == 'Gen 14:4'],\n",
    "    'sim_gen14_4'\n",
    ")"
   ]
  },
  {
   "cell_type": "code",
   "execution_count": 65,
   "metadata": {},
   "outputs": [
    {
     "data": {
      "text/html": [
       "<div>\n",
       "<style scoped>\n",
       "    .dataframe tbody tr th:only-of-type {\n",
       "        vertical-align: middle;\n",
       "    }\n",
       "\n",
       "    .dataframe tbody tr th {\n",
       "        vertical-align: top;\n",
       "    }\n",
       "\n",
       "    .dataframe thead th {\n",
       "        text-align: right;\n",
       "    }\n",
       "</style>\n",
       "<table border=\"1\" class=\"dataframe\">\n",
       "  <thead>\n",
       "    <tr style=\"text-align: right;\">\n",
       "      <th></th>\n",
       "      <th>verse</th>\n",
       "      <th>clause</th>\n",
       "    </tr>\n",
       "    <tr>\n",
       "      <th>node</th>\n",
       "      <th></th>\n",
       "      <th></th>\n",
       "    </tr>\n",
       "  </thead>\n",
       "  <tbody>\n",
       "    <tr>\n",
       "      <th>498816</th>\n",
       "      <td>Job 19:25</td>\n",
       "      <td>וְ֝אַחֲרֹ֗ון עַל־עָפָ֥ר יָקֽוּם׃</td>\n",
       "    </tr>\n",
       "    <tr>\n",
       "      <th>496291</th>\n",
       "      <td>Ps 119:62</td>\n",
       "      <td>חֲצֹֽות־לַ֗יְלָה אָ֭קוּם</td>\n",
       "    </tr>\n",
       "    <tr>\n",
       "      <th>499821</th>\n",
       "      <td>Job 34:20</td>\n",
       "      <td>וַחֲצֹ֪ות לָ֥יְלָה יְגֹעֲשׁ֣וּ עָ֣ם</td>\n",
       "    </tr>\n",
       "    <tr>\n",
       "      <th>451807</th>\n",
       "      <td>Judg 6:27</td>\n",
       "      <td>מֵעֲשֹׂ֥ות יֹומָ֖ם</td>\n",
       "    </tr>\n",
       "    <tr>\n",
       "      <th>481047</th>\n",
       "      <td>Ezek 12:7</td>\n",
       "      <td>כֵּ֠לַי הֹוצֵ֜אתִי כִּכְלֵ֤י גֹולָה֙ יֹומָ֔ם</td>\n",
       "    </tr>\n",
       "  </tbody>\n",
       "</table>\n",
       "</div>"
      ],
      "text/plain": [
       "            verse                                         clause\n",
       "node                                                            \n",
       "498816  Job 19:25              וְ֝אַחֲרֹ֗ון עַל־עָפָ֥ר יָקֽוּם׃ \n",
       "496291  Ps 119:62                      חֲצֹֽות־לַ֗יְלָה אָ֭קוּם \n",
       "499821  Job 34:20           וַחֲצֹ֪ות לָ֥יְלָה יְגֹעֲשׁ֣וּ עָ֣ם \n",
       "451807  Judg 6:27                            מֵעֲשֹׂ֥ות יֹומָ֖ם \n",
       "481047  Ezek 12:7  כֵּ֠לַי הֹוצֵ֜אתִי כִּכְלֵ֤י גֹולָה֙ יֹומָ֔ם "
      ]
     },
     "execution_count": 65,
     "metadata": {},
     "output_type": "execute_result"
    }
   ],
   "source": [
    "assorted = [\n",
    "'חֲצֹות',\n",
    "'יֹומָם',\n",
    "'אַחֲרֹון',\n",
    "'רֹאשׁ',\n",
    "]\n",
    "\n",
    "out.examples(\n",
    "    simdf[simdf.front.isin(assorted)].sort_values(by='front').head(5),\n",
    "    'simassorted_exs'\n",
    ")"
   ]
  },
  {
   "cell_type": "code",
   "execution_count": 66,
   "metadata": {},
   "outputs": [
    {
     "data": {
      "text/plain": [
       "'43'"
      ]
     },
     "execution_count": 66,
     "metadata": {},
     "output_type": "execute_result"
    }
   ],
   "source": [
    "simul_L = simdf[simdf.front == 'לְ']\n",
    "\n",
    "out.number(\n",
    "    simul_L.shape[0],\n",
    "    'n_simul_L'\n",
    ")"
   ]
  },
  {
   "cell_type": "code",
   "execution_count": 71,
   "metadata": {},
   "outputs": [
    {
     "data": {
      "text/html": [
       "<div>\n",
       "<style scoped>\n",
       "    .dataframe tbody tr th:only-of-type {\n",
       "        vertical-align: middle;\n",
       "    }\n",
       "\n",
       "    .dataframe tbody tr th {\n",
       "        vertical-align: top;\n",
       "    }\n",
       "\n",
       "    .dataframe thead th {\n",
       "        text-align: right;\n",
       "    }\n",
       "</style>\n",
       "<table border=\"1\" class=\"dataframe\">\n",
       "  <thead>\n",
       "    <tr style=\"text-align: right;\">\n",
       "      <th></th>\n",
       "      <th>verse</th>\n",
       "      <th>clause</th>\n",
       "    </tr>\n",
       "    <tr>\n",
       "      <th>node</th>\n",
       "      <th></th>\n",
       "      <th></th>\n",
       "    </tr>\n",
       "  </thead>\n",
       "  <tbody>\n",
       "    <tr>\n",
       "      <th>486027</th>\n",
       "      <td>Hos 9:5</td>\n",
       "      <td>וּלְיֹ֖ום חַג־יְהוָֽה׃</td>\n",
       "    </tr>\n",
       "    <tr>\n",
       "      <th>505645</th>\n",
       "      <td>Esth 5:12</td>\n",
       "      <td>וְגַם־לְמָחָ֛ר אֲנִ֥י קָֽרוּא־לָ֖הּ עִם־הַמֶּֽ...</td>\n",
       "    </tr>\n",
       "    <tr>\n",
       "      <th>429008</th>\n",
       "      <td>Gen 18:14</td>\n",
       "      <td>לַמֹּועֵ֞ד אָשׁ֥וּב אֵלֶ֛יךָ כָּעֵ֥ת חַיָּ֖ה</td>\n",
       "    </tr>\n",
       "    <tr>\n",
       "      <th>492546</th>\n",
       "      <td>Ps 49:15</td>\n",
       "      <td>וַיִּרְדּ֘וּ בָ֤ם יְשָׁרִ֨ים׀ לַבֹּ֗קֶר</td>\n",
       "    </tr>\n",
       "    <tr>\n",
       "      <th>428156</th>\n",
       "      <td>Gen 7:10</td>\n",
       "      <td>וַֽיְהִ֖י לְשִׁבְעַ֣ת הַיָּמִ֑ים</td>\n",
       "    </tr>\n",
       "    <tr>\n",
       "      <th>434327</th>\n",
       "      <td>Exod 8:5</td>\n",
       "      <td>לְמָתַ֣י׀ אַעְתִּ֣יר לְךָ֗ וְלַעֲבָדֶ֨יךָ֙ וּֽ...</td>\n",
       "    </tr>\n",
       "    <tr>\n",
       "      <th>513859</th>\n",
       "      <td>2 Chr 18:34</td>\n",
       "      <td>וַיָּ֕מָת לְעֵ֖ת</td>\n",
       "    </tr>\n",
       "    <tr>\n",
       "      <th>458967</th>\n",
       "      <td>2 Sam 11:2</td>\n",
       "      <td>וַיְהִ֣י׀ לְעֵ֣ת הָעֶ֗רֶב</td>\n",
       "    </tr>\n",
       "    <tr>\n",
       "      <th>512332</th>\n",
       "      <td>1 Chr 29:21</td>\n",
       "      <td>וַיַּעֲל֨וּ עֹלֹ֜ות לַיהוָ֗ה לְֽמָחֳרַת֮ הַיֹּ...</td>\n",
       "    </tr>\n",
       "    <tr>\n",
       "      <th>434388</th>\n",
       "      <td>Exod 8:19</td>\n",
       "      <td>לְמָחָ֥ר יִהְיֶ֖ה הָאֹ֥ת הַזֶּֽה׃</td>\n",
       "    </tr>\n",
       "  </tbody>\n",
       "</table>\n",
       "</div>"
      ],
      "text/plain": [
       "              verse                                             clause\n",
       "node                                                                  \n",
       "486027      Hos 9:5                            וּלְיֹ֖ום חַג־יְהוָֽה׃ \n",
       "505645    Esth 5:12  וְגַם־לְמָחָ֛ר אֲנִ֥י קָֽרוּא־לָ֖הּ עִם־הַמֶּֽ...\n",
       "429008    Gen 18:14      לַמֹּועֵ֞ד אָשׁ֥וּב אֵלֶ֛יךָ כָּעֵ֥ת חַיָּ֖ה \n",
       "492546     Ps 49:15           וַיִּרְדּ֘וּ בָ֤ם יְשָׁרִ֨ים׀ לַבֹּ֗קֶר \n",
       "428156     Gen 7:10                  וַֽיְהִ֖י לְשִׁבְעַ֣ת הַיָּמִ֑ים \n",
       "434327     Exod 8:5  לְמָתַ֣י׀ אַעְתִּ֣יר לְךָ֗ וְלַעֲבָדֶ֨יךָ֙ וּֽ...\n",
       "513859  2 Chr 18:34                                  וַיָּ֕מָת לְעֵ֖ת \n",
       "458967   2 Sam 11:2                         וַיְהִ֣י׀ לְעֵ֣ת הָעֶ֗רֶב \n",
       "512332  1 Chr 29:21  וַיַּעֲל֨וּ עֹלֹ֜ות לַיהוָ֗ה לְֽמָחֳרַת֮ הַיֹּ...\n",
       "434388    Exod 8:19                 לְמָחָ֥ר יִהְיֶ֖ה הָאֹ֥ת הַזֶּֽה׃ "
      ]
     },
     "execution_count": 71,
     "metadata": {},
     "output_type": "execute_result"
    }
   ],
   "source": [
    "out.examples(\n",
    "    simul_L.sample(10, random_state=69),\n",
    "    'Lsim_exs',\n",
    ")"
   ]
  },
  {
   "cell_type": "code",
   "execution_count": 83,
   "metadata": {},
   "outputs": [
    {
     "data": {
      "text/html": [
       "<div>\n",
       "<style scoped>\n",
       "    .dataframe tbody tr th:only-of-type {\n",
       "        vertical-align: middle;\n",
       "    }\n",
       "\n",
       "    .dataframe tbody tr th {\n",
       "        vertical-align: top;\n",
       "    }\n",
       "\n",
       "    .dataframe thead th {\n",
       "        text-align: right;\n",
       "    }\n",
       "</style>\n",
       "<table border=\"1\" class=\"dataframe\">\n",
       "  <thead>\n",
       "    <tr style=\"text-align: right;\">\n",
       "      <th></th>\n",
       "      <th>count</th>\n",
       "      <th>percent</th>\n",
       "    </tr>\n",
       "  </thead>\n",
       "  <tbody>\n",
       "    <tr>\n",
       "      <th>עֵת</th>\n",
       "      <td>9</td>\n",
       "      <td>21%</td>\n",
       "    </tr>\n",
       "    <tr>\n",
       "      <th>יֹום</th>\n",
       "      <td>8</td>\n",
       "      <td>19%</td>\n",
       "    </tr>\n",
       "    <tr>\n",
       "      <th>מֹועֵד</th>\n",
       "      <td>3</td>\n",
       "      <td>7%</td>\n",
       "    </tr>\n",
       "    <tr>\n",
       "      <th>מֹועֵד|עֵת</th>\n",
       "      <td>3</td>\n",
       "      <td>7%</td>\n",
       "    </tr>\n",
       "    <tr>\n",
       "      <th>תְּשׁוּבָה</th>\n",
       "      <td>3</td>\n",
       "      <td>7%</td>\n",
       "    </tr>\n",
       "    <tr>\n",
       "      <th>עֶרֶב</th>\n",
       "      <td>3</td>\n",
       "      <td>7%</td>\n",
       "    </tr>\n",
       "    <tr>\n",
       "      <th>מָחָר</th>\n",
       "      <td>3</td>\n",
       "      <td>7%</td>\n",
       "    </tr>\n",
       "    <tr>\n",
       "      <th>מָחֳרָת</th>\n",
       "      <td>2</td>\n",
       "      <td>5%</td>\n",
       "    </tr>\n",
       "    <tr>\n",
       "      <th>תְּקוּפָה</th>\n",
       "      <td>2</td>\n",
       "      <td>5%</td>\n",
       "    </tr>\n",
       "    <tr>\n",
       "      <th>מֹועֵד|שָׁנָה</th>\n",
       "      <td>1</td>\n",
       "      <td>2%</td>\n",
       "    </tr>\n",
       "    <tr>\n",
       "      <th>בֹּקֶר</th>\n",
       "      <td>1</td>\n",
       "      <td>2%</td>\n",
       "    </tr>\n",
       "    <tr>\n",
       "      <th>מָתַי</th>\n",
       "      <td>1</td>\n",
       "      <td>2%</td>\n",
       "    </tr>\n",
       "    <tr>\n",
       "      <th>עֵת|צָרָה</th>\n",
       "      <td>1</td>\n",
       "      <td>2%</td>\n",
       "    </tr>\n",
       "    <tr>\n",
       "      <th>רוּחַ</th>\n",
       "      <td>1</td>\n",
       "      <td>2%</td>\n",
       "    </tr>\n",
       "    <tr>\n",
       "      <th>אַחֲרִית</th>\n",
       "      <td>1</td>\n",
       "      <td>2%</td>\n",
       "    </tr>\n",
       "    <tr>\n",
       "      <th>רִאשֹׁון</th>\n",
       "      <td>1</td>\n",
       "      <td>2%</td>\n",
       "    </tr>\n",
       "  </tbody>\n",
       "</table>\n",
       "</div>"
      ],
      "text/plain": [
       "               count percent\n",
       "עֵת                9     21%\n",
       "יֹום               8     19%\n",
       "מֹועֵד             3      7%\n",
       "מֹועֵד|עֵת         3      7%\n",
       "תְּשׁוּבָה         3      7%\n",
       "עֶרֶב              3      7%\n",
       "מָחָר              3      7%\n",
       "מָחֳרָת            2      5%\n",
       "תְּקוּפָה          2      5%\n",
       "מֹועֵד|שָׁנָה      1      2%\n",
       "בֹּקֶר             1      2%\n",
       "מָתַי              1      2%\n",
       "עֵת|צָרָה          1      2%\n",
       "רוּחַ              1      2%\n",
       "אַחֲרִית           1      2%\n",
       "רִאשֹׁון           1      2%"
      ]
     },
     "execution_count": 83,
     "metadata": {},
     "output_type": "execute_result"
    }
   ],
   "source": [
    "siml_head_ct = simul_L.times_utf8.value_counts()\n",
    "siml_head_pr = siml_head_ct / siml_head_ct.sum()\n",
    "siml_head_cp = join_ct_pr(siml_head_ct, siml_head_pr)\n",
    "\n",
    "out.table(\n",
    "    siml_head_cp,\n",
    "    'siml_head_cp', \n",
    "    caption='Semantic Heads of Simultaneous \\texthebrew{לְ} Adverbials',\n",
    ")"
   ]
  },
  {
   "cell_type": "code",
   "execution_count": 80,
   "metadata": {},
   "outputs": [
    {
     "data": {
      "text/html": [
       "<div>\n",
       "<style scoped>\n",
       "    .dataframe tbody tr th:only-of-type {\n",
       "        vertical-align: middle;\n",
       "    }\n",
       "\n",
       "    .dataframe tbody tr th {\n",
       "        vertical-align: top;\n",
       "    }\n",
       "\n",
       "    .dataframe thead th {\n",
       "        text-align: right;\n",
       "    }\n",
       "</style>\n",
       "<table border=\"1\" class=\"dataframe\">\n",
       "  <thead>\n",
       "    <tr style=\"text-align: right;\">\n",
       "      <th></th>\n",
       "      <th>verse</th>\n",
       "      <th>clause</th>\n",
       "    </tr>\n",
       "    <tr>\n",
       "      <th>node</th>\n",
       "      <th></th>\n",
       "      <th></th>\n",
       "    </tr>\n",
       "  </thead>\n",
       "  <tbody>\n",
       "    <tr>\n",
       "      <th>428156</th>\n",
       "      <td>Gen 7:10</td>\n",
       "      <td>וַֽיְהִ֖י לְשִׁבְעַ֣ת הַיָּמִ֑ים</td>\n",
       "    </tr>\n",
       "    <tr>\n",
       "      <th>468896</th>\n",
       "      <td>Isa 10:3</td>\n",
       "      <td>וּמַֽה־תַּעֲשׂוּ֙ לְיֹ֣ום פְּקֻדָּ֔ה</td>\n",
       "    </tr>\n",
       "    <tr>\n",
       "      <th>486026</th>\n",
       "      <td>Hos 9:5</td>\n",
       "      <td>מַֽה־תַּעֲשׂ֖וּ לְיֹ֣ום מֹועֵ֑ד</td>\n",
       "    </tr>\n",
       "    <tr>\n",
       "      <th>486027</th>\n",
       "      <td>Hos 9:5</td>\n",
       "      <td>וּלְיֹ֖ום חַג־יְהוָֽה׃</td>\n",
       "    </tr>\n",
       "    <tr>\n",
       "      <th>490180</th>\n",
       "      <td>Mal 3:17</td>\n",
       "      <td>וְהָ֣יוּ לִ֗י לַיֹּ֕ום סְגֻלָּ֑ה</td>\n",
       "    </tr>\n",
       "    <tr>\n",
       "      <th>498980</th>\n",
       "      <td>Job 21:30</td>\n",
       "      <td>כִּ֤י לְיֹ֣ום אֵ֭יד יֵחָ֣שֶׂךְ רָ֑ע</td>\n",
       "    </tr>\n",
       "    <tr>\n",
       "      <th>498981</th>\n",
       "      <td>Job 21:30</td>\n",
       "      <td>לְיֹ֖ום עֲבָרֹ֣ות יוּבָֽלוּ׃</td>\n",
       "    </tr>\n",
       "    <tr>\n",
       "      <th>500932</th>\n",
       "      <td>Prov 7:20</td>\n",
       "      <td>לְיֹ֥ום הַ֝כֵּ֗סֶא יָבֹ֥א בֵיתֹֽו׃</td>\n",
       "    </tr>\n",
       "  </tbody>\n",
       "</table>\n",
       "</div>"
      ],
      "text/plain": [
       "            verse                                 clause\n",
       "node                                                    \n",
       "428156   Gen 7:10      וַֽיְהִ֖י לְשִׁבְעַ֣ת הַיָּמִ֑ים \n",
       "468896   Isa 10:3  וּמַֽה־תַּעֲשׂוּ֙ לְיֹ֣ום פְּקֻדָּ֔ה \n",
       "486026    Hos 9:5       מַֽה־תַּעֲשׂ֖וּ לְיֹ֣ום מֹועֵ֑ד \n",
       "486027    Hos 9:5                וּלְיֹ֖ום חַג־יְהוָֽה׃ \n",
       "490180   Mal 3:17      וְהָ֣יוּ לִ֗י לַיֹּ֕ום סְגֻלָּ֑ה \n",
       "498980  Job 21:30   כִּ֤י לְיֹ֣ום אֵ֭יד יֵחָ֣שֶׂךְ רָ֑ע \n",
       "498981  Job 21:30          לְיֹ֖ום עֲבָרֹ֣ות יוּבָֽלוּ׃ \n",
       "500932  Prov 7:20    לְיֹ֥ום הַ֝כֵּ֗סֶא יָבֹ֥א בֵיתֹֽו׃ "
      ]
     },
     "execution_count": 80,
     "metadata": {},
     "output_type": "execute_result"
    }
   ],
   "source": [
    "out.examples(\n",
    "    simul_L[simul_L.head_utf8 == 'יום'],\n",
    "    'Lday_sim',\n",
    ")"
   ]
  },
  {
   "cell_type": "code",
   "execution_count": 85,
   "metadata": {},
   "outputs": [
    {
     "data": {
      "text/html": [
       "<div>\n",
       "<style scoped>\n",
       "    .dataframe tbody tr th:only-of-type {\n",
       "        vertical-align: middle;\n",
       "    }\n",
       "\n",
       "    .dataframe tbody tr th {\n",
       "        vertical-align: top;\n",
       "    }\n",
       "\n",
       "    .dataframe thead th {\n",
       "        text-align: right;\n",
       "    }\n",
       "</style>\n",
       "<table border=\"1\" class=\"dataframe\">\n",
       "  <thead>\n",
       "    <tr style=\"text-align: right;\">\n",
       "      <th></th>\n",
       "      <th>verse</th>\n",
       "      <th>clause</th>\n",
       "    </tr>\n",
       "    <tr>\n",
       "      <th>node</th>\n",
       "      <th></th>\n",
       "      <th></th>\n",
       "    </tr>\n",
       "  </thead>\n",
       "  <tbody>\n",
       "    <tr>\n",
       "      <th>507494</th>\n",
       "      <td>Dan 11:6</td>\n",
       "      <td>וּלְקֵ֤ץ שָׁנִים֙ יִתְחַבָּ֔רוּ</td>\n",
       "    </tr>\n",
       "    <tr>\n",
       "      <th>507529</th>\n",
       "      <td>Dan 11:13</td>\n",
       "      <td>וּלְקֵ֨ץ הָֽעִתִּ֤ים שָׁנִים֙ יָ֣בֹוא בֹ֔וא בּ...</td>\n",
       "    </tr>\n",
       "    <tr>\n",
       "      <th>507726</th>\n",
       "      <td>Dan 12:13</td>\n",
       "      <td>וְתַעֲמֹ֥ד לְגֹרָלְךָ֖ לְקֵ֥ץ הַיָּמִֽין׃</td>\n",
       "    </tr>\n",
       "    <tr>\n",
       "      <th>509735</th>\n",
       "      <td>Neh 13:6</td>\n",
       "      <td>וּלְקֵ֥ץ יָמִ֖ים נִשְׁאַ֥לְתִּי מִן־הַמֶּֽלֶךְ׃</td>\n",
       "    </tr>\n",
       "    <tr>\n",
       "      <th>513686</th>\n",
       "      <td>2 Chr 18:2</td>\n",
       "      <td>וַיֵּרֶד֩ לְקֵ֨ץ שָׁנִ֤ים אֶל־אַחְאָב֙ לְשֹׁ֣מ...</td>\n",
       "    </tr>\n",
       "  </tbody>\n",
       "</table>\n",
       "</div>"
      ],
      "text/plain": [
       "             verse                                             clause\n",
       "node                                                                 \n",
       "507494    Dan 11:6                   וּלְקֵ֤ץ שָׁנִים֙ יִתְחַבָּ֔רוּ \n",
       "507529   Dan 11:13  וּלְקֵ֨ץ הָֽעִתִּ֤ים שָׁנִים֙ יָ֣בֹוא בֹ֔וא בּ...\n",
       "507726   Dan 12:13         וְתַעֲמֹ֥ד לְגֹרָלְךָ֖ לְקֵ֥ץ הַיָּמִֽין׃ \n",
       "509735    Neh 13:6   וּלְקֵ֥ץ יָמִ֖ים נִשְׁאַ֥לְתִּי מִן־הַמֶּֽלֶךְ׃ \n",
       "513686  2 Chr 18:2  וַיֵּרֶד֩ לְקֵ֨ץ שָׁנִ֤ים אֶל־אַחְאָב֙ לְשֹׁ֣מ..."
      ]
     },
     "execution_count": 85,
     "metadata": {},
     "output_type": "execute_result"
    }
   ],
   "source": [
    "out.examples(\n",
    "    simdf[simdf.front == 'לְ+קֵץ'],\n",
    "    'Lend_sim',\n",
    ")"
   ]
  },
  {
   "cell_type": "markdown",
   "metadata": {},
   "source": [
    "#### bayin"
   ]
  },
  {
   "cell_type": "code",
   "execution_count": 97,
   "metadata": {},
   "outputs": [
    {
     "data": {
      "text/html": [
       "<div>\n",
       "<style scoped>\n",
       "    .dataframe tbody tr th:only-of-type {\n",
       "        vertical-align: middle;\n",
       "    }\n",
       "\n",
       "    .dataframe tbody tr th {\n",
       "        vertical-align: top;\n",
       "    }\n",
       "\n",
       "    .dataframe thead th {\n",
       "        text-align: right;\n",
       "    }\n",
       "</style>\n",
       "<table border=\"1\" class=\"dataframe\">\n",
       "  <thead>\n",
       "    <tr style=\"text-align: right;\">\n",
       "      <th></th>\n",
       "      <th>verse</th>\n",
       "      <th>clause</th>\n",
       "    </tr>\n",
       "    <tr>\n",
       "      <th>node</th>\n",
       "      <th></th>\n",
       "      <th></th>\n",
       "    </tr>\n",
       "  </thead>\n",
       "  <tbody>\n",
       "    <tr>\n",
       "      <th>434754</th>\n",
       "      <td>Exod 12:6</td>\n",
       "      <td>וְשָׁחֲט֣וּ אֹתֹ֗ו כֹּ֛ל קְהַ֥ל עֲדַֽת־יִשְׂרָ...</td>\n",
       "    </tr>\n",
       "    <tr>\n",
       "      <th>436689</th>\n",
       "      <td>Exod 29:39</td>\n",
       "      <td>וְאֵת֙ הַכֶּ֣בֶשׂ הַשֵּׁנִ֔י תַּעֲשֶׂ֖ה בֵּ֥ין...</td>\n",
       "    </tr>\n",
       "    <tr>\n",
       "      <th>436732</th>\n",
       "      <td>Exod 30:8</td>\n",
       "      <td>בְהַעֲלֹ֨ת אַהֲרֹ֧ן אֶת־הַנֵּרֹ֛ת בֵּ֥ין הָעֲר...</td>\n",
       "    </tr>\n",
       "  </tbody>\n",
       "</table>\n",
       "</div>"
      ],
      "text/plain": [
       "             verse                                             clause\n",
       "node                                                                 \n",
       "434754   Exod 12:6  וְשָׁחֲט֣וּ אֹתֹ֗ו כֹּ֛ל קְהַ֥ל עֲדַֽת־יִשְׂרָ...\n",
       "436689  Exod 29:39  וְאֵת֙ הַכֶּ֣בֶשׂ הַשֵּׁנִ֔י תַּעֲשֶׂ֖ה בֵּ֥ין...\n",
       "436732   Exod 30:8  בְהַעֲלֹ֨ת אַהֲרֹ֧ן אֶת־הַנֵּרֹ֛ת בֵּ֥ין הָעֲר..."
      ]
     },
     "execution_count": 97,
     "metadata": {},
     "output_type": "execute_result"
    }
   ],
   "source": [
    "out.examples(\n",
    "    simdf[simdf.front == 'בַּיִן'].sample(3, random_state=69).sort_index(),\n",
    "    'simbetween_exs',\n",
    ")"
   ]
  },
  {
   "cell_type": "markdown",
   "metadata": {},
   "source": [
    "**<L**"
   ]
  },
  {
   "cell_type": "code",
   "execution_count": 99,
   "metadata": {},
   "outputs": [
    {
     "data": {
      "text/html": [
       "<div>\n",
       "<style scoped>\n",
       "    .dataframe tbody tr th:only-of-type {\n",
       "        vertical-align: middle;\n",
       "    }\n",
       "\n",
       "    .dataframe tbody tr th {\n",
       "        vertical-align: top;\n",
       "    }\n",
       "\n",
       "    .dataframe thead th {\n",
       "        text-align: right;\n",
       "    }\n",
       "</style>\n",
       "<table border=\"1\" class=\"dataframe\">\n",
       "  <thead>\n",
       "    <tr style=\"text-align: right;\">\n",
       "      <th></th>\n",
       "      <th>verse</th>\n",
       "      <th>clause</th>\n",
       "    </tr>\n",
       "    <tr>\n",
       "      <th>node</th>\n",
       "      <th></th>\n",
       "      <th></th>\n",
       "    </tr>\n",
       "  </thead>\n",
       "  <tbody>\n",
       "    <tr>\n",
       "      <th>457163</th>\n",
       "      <td>1 Sam 25:8</td>\n",
       "      <td>כִּֽי־עַל־יֹ֥ום טֹ֖וב בָּ֑נוּ</td>\n",
       "    </tr>\n",
       "    <tr>\n",
       "      <th>509657</th>\n",
       "      <td>Neh 12:22</td>\n",
       "      <td>וְהַכֹּ֣הֲנִ֔ים עַל־מַלְכ֖וּת דָּרְיָ֥וֶשׁ הַפ...</td>\n",
       "    </tr>\n",
       "  </tbody>\n",
       "</table>\n",
       "</div>"
      ],
      "text/plain": [
       "             verse                                             clause\n",
       "node                                                                 \n",
       "457163  1 Sam 25:8                     כִּֽי־עַל־יֹ֥ום טֹ֖וב בָּ֑נוּ \n",
       "509657   Neh 12:22  וְהַכֹּ֣הֲנִ֔ים עַל־מַלְכ֖וּת דָּרְיָ֥וֶשׁ הַפ..."
      ]
     },
     "execution_count": 99,
     "metadata": {},
     "output_type": "execute_result"
    }
   ],
   "source": [
    "out.examples(\n",
    "    simdf[simdf.front == 'עַל'],\n",
    "    'uponsim_exs'\n",
    ")"
   ]
  },
  {
   "cell_type": "code",
   "execution_count": 100,
   "metadata": {},
   "outputs": [
    {
     "data": {
      "text/html": [
       "<div>\n",
       "<style scoped>\n",
       "    .dataframe tbody tr th:only-of-type {\n",
       "        vertical-align: middle;\n",
       "    }\n",
       "\n",
       "    .dataframe tbody tr th {\n",
       "        vertical-align: top;\n",
       "    }\n",
       "\n",
       "    .dataframe thead th {\n",
       "        text-align: right;\n",
       "    }\n",
       "</style>\n",
       "<table border=\"1\" class=\"dataframe\">\n",
       "  <thead>\n",
       "    <tr style=\"text-align: right;\">\n",
       "      <th></th>\n",
       "      <th>verse</th>\n",
       "      <th>clause</th>\n",
       "    </tr>\n",
       "    <tr>\n",
       "      <th>node</th>\n",
       "      <th></th>\n",
       "      <th></th>\n",
       "    </tr>\n",
       "  </thead>\n",
       "  <tbody>\n",
       "    <tr>\n",
       "      <th>460937</th>\n",
       "      <td>2 Sam 23:13</td>\n",
       "      <td>וַיָּבֹ֤אוּ אֶל־קָצִיר֙ אֶל־דָּוִ֔ד אֶל־מְעָרַ...</td>\n",
       "    </tr>\n",
       "  </tbody>\n",
       "</table>\n",
       "</div>"
      ],
      "text/plain": [
       "              verse                                             clause\n",
       "node                                                                  \n",
       "460937  2 Sam 23:13  וַיָּבֹ֤אוּ אֶל־קָצִיר֙ אֶל־דָּוִ֔ד אֶל־מְעָרַ..."
      ]
     },
     "execution_count": 100,
     "metadata": {},
     "output_type": "execute_result"
    }
   ],
   "source": [
    "out.examples(\n",
    "    simdf[simdf.front == 'אֶל'],\n",
    "    'el_sim_exs',\n",
    ")"
   ]
  },
  {
   "cell_type": "code",
   "execution_count": 79,
   "metadata": {},
   "outputs": [
    {
     "name": "stdout",
     "output_type": "stream",
     "text": [
      "showing 1 of 1\n"
     ]
    },
    {
     "data": {
      "text/html": [
       "<style  type=\"text/css\" >\n",
       "#T_a69a5_row0_col1{\n",
       "            font-size: 20px;\n",
       "             font-family:  Times New Roman;\n",
       "             text-align:  right;\n",
       "             max-width:  500px;\n",
       "        }</style><table id=\"T_a69a5_\" ><thead>    <tr>        <th class=\"blank level0\" ></th>        <th class=\"col_heading level0 col0\" >verse</th>        <th class=\"col_heading level0 col1\" >clause</th>    </tr>    <tr>        <th class=\"index_name level0\" >node</th>        <th class=\"blank\" ></th>        <th class=\"blank\" ></th>    </tr></thead><tbody>\n",
       "                <tr>\n",
       "                        <th id=\"T_a69a5_level0_row0\" class=\"row_heading level0 row0\" >472789</th>\n",
       "                        <td id=\"T_a69a5_row0_col0\" class=\"data row0 col0\" >Isa 54:8</td>\n",
       "                        <td id=\"T_a69a5_row0_col1\" class=\"data row0 col1\" >בְּשֶׁ֣צֶף קֶ֗צֶף הִסְתַּ֨רְתִּי פָנַ֥י רֶ֨גַע֙ מִמֵּ֔ךְ </td>\n",
       "            </tr>\n",
       "    </tbody></table>"
      ],
      "text/plain": [
       "<pandas.io.formats.style.Styler at 0x7f99c7d3c4f0>"
      ]
     },
     "execution_count": 79,
     "metadata": {},
     "output_type": "execute_result"
    }
   ],
   "source": [
    "ts.show(\n",
    "    simdf[simdf.front == 'רֶגַע']\n",
    ")"
   ]
  },
  {
   "cell_type": "markdown",
   "metadata": {},
   "source": [
    "### Anterior"
   ]
  },
  {
   "cell_type": "code",
   "execution_count": 101,
   "metadata": {},
   "outputs": [],
   "source": [
    "antdf = df_main[df_main.function == 'anterior']"
   ]
  },
  {
   "cell_type": "code",
   "execution_count": 102,
   "metadata": {},
   "outputs": [
    {
     "data": {
      "text/html": [
       "<div>\n",
       "<style scoped>\n",
       "    .dataframe tbody tr th:only-of-type {\n",
       "        vertical-align: middle;\n",
       "    }\n",
       "\n",
       "    .dataframe tbody tr th {\n",
       "        vertical-align: top;\n",
       "    }\n",
       "\n",
       "    .dataframe thead th {\n",
       "        text-align: right;\n",
       "    }\n",
       "</style>\n",
       "<table border=\"1\" class=\"dataframe\">\n",
       "  <thead>\n",
       "    <tr style=\"text-align: right;\">\n",
       "      <th></th>\n",
       "      <th>count</th>\n",
       "    </tr>\n",
       "    <tr>\n",
       "      <th>front</th>\n",
       "      <th></th>\n",
       "    </tr>\n",
       "  </thead>\n",
       "  <tbody>\n",
       "    <tr>\n",
       "      <th>לְ</th>\n",
       "      <td>19</td>\n",
       "    </tr>\n",
       "    <tr>\n",
       "      <th>לְ+פָּנֶה</th>\n",
       "      <td>8</td>\n",
       "    </tr>\n",
       "    <tr>\n",
       "      <th>טֶרֶם</th>\n",
       "      <td>4</td>\n",
       "    </tr>\n",
       "    <tr>\n",
       "      <th>לְ+פָּנֶה+מִן</th>\n",
       "      <td>1</td>\n",
       "    </tr>\n",
       "  </tbody>\n",
       "</table>\n",
       "</div>"
      ],
      "text/plain": [
       "               count\n",
       "front               \n",
       "לְ                19\n",
       "לְ+פָּנֶה          8\n",
       "טֶרֶם              4\n",
       "לְ+פָּנֶה+מִן      1"
      ]
     },
     "execution_count": 102,
     "metadata": {},
     "output_type": "execute_result"
    }
   ],
   "source": [
    "funct2data['anterior']['ct']"
   ]
  },
  {
   "cell_type": "code",
   "execution_count": 114,
   "metadata": {},
   "outputs": [
    {
     "data": {
      "text/html": [
       "<div>\n",
       "<style scoped>\n",
       "    .dataframe tbody tr th:only-of-type {\n",
       "        vertical-align: middle;\n",
       "    }\n",
       "\n",
       "    .dataframe tbody tr th {\n",
       "        vertical-align: top;\n",
       "    }\n",
       "\n",
       "    .dataframe thead th {\n",
       "        text-align: right;\n",
       "    }\n",
       "</style>\n",
       "<table border=\"1\" class=\"dataframe\">\n",
       "  <thead>\n",
       "    <tr style=\"text-align: right;\">\n",
       "      <th></th>\n",
       "      <th>verse</th>\n",
       "      <th>clause</th>\n",
       "    </tr>\n",
       "    <tr>\n",
       "      <th>node</th>\n",
       "      <th></th>\n",
       "      <th></th>\n",
       "    </tr>\n",
       "  </thead>\n",
       "  <tbody>\n",
       "    <tr>\n",
       "      <th>430797</th>\n",
       "      <td>Gen 30:30</td>\n",
       "      <td>אֲשֶׁר־הָיָ֨ה לְךָ֤ לְפָנַי֙</td>\n",
       "    </tr>\n",
       "    <tr>\n",
       "      <th>434635</th>\n",
       "      <td>Exod 10:14</td>\n",
       "      <td>לְ֠פָנָיו לֹא־הָ֨יָה כֵ֤ן אַרְבֶּה֙ כָּמֹ֔הוּ</td>\n",
       "    </tr>\n",
       "    <tr>\n",
       "      <th>461659</th>\n",
       "      <td>1 Kgs 3:12</td>\n",
       "      <td>אֲשֶׁ֤ר כָּמֹ֨וךָ֙ לֹא־הָיָ֣ה לְפָנֶ֔יךָ</td>\n",
       "    </tr>\n",
       "    <tr>\n",
       "      <th>467924</th>\n",
       "      <td>2 Kgs 23:25</td>\n",
       "      <td>וְכָמֹהוּ֩ לֹֽא־הָיָ֨ה לְפָנָ֜יו מֶ֗לֶךְ</td>\n",
       "    </tr>\n",
       "    <tr>\n",
       "      <th>504486</th>\n",
       "      <td>Eccl 9:1</td>\n",
       "      <td>אֵ֤ין יֹודֵ֨עַ֙ הָֽאָדָ֔ם הַכֹּ֖ל לִפְנֵיהֶֽם׃</td>\n",
       "    </tr>\n",
       "  </tbody>\n",
       "</table>\n",
       "</div>"
      ],
      "text/plain": [
       "              verse                                           clause\n",
       "node                                                                \n",
       "430797    Gen 30:30                    אֲשֶׁר־הָיָ֨ה לְךָ֤ לְפָנַי֙ \n",
       "434635   Exod 10:14   לְ֠פָנָיו לֹא־הָ֨יָה כֵ֤ן אַרְבֶּה֙ כָּמֹ֔הוּ \n",
       "461659   1 Kgs 3:12        אֲשֶׁ֤ר כָּמֹ֨וךָ֙ לֹא־הָיָ֣ה לְפָנֶ֔יךָ \n",
       "467924  2 Kgs 23:25        וְכָמֹהוּ֩ לֹֽא־הָיָ֨ה לְפָנָ֜יו מֶ֗לֶךְ \n",
       "504486     Eccl 9:1  אֵ֤ין יֹודֵ֨עַ֙ הָֽאָדָ֔ם הַכֹּ֖ל לִפְנֵיהֶֽם׃ "
      ]
     },
     "execution_count": 114,
     "metadata": {},
     "output_type": "execute_result"
    }
   ],
   "source": [
    "lpnj_sffx =     antdf[\n",
    "        (antdf.SFX == 1)\n",
    "        & (antdf.times_POS == 'PREP')\n",
    "    ]\n",
    "\n",
    "out.examples(\n",
    "    lpnj_sffx,\n",
    "    'antsffx_exs'\n",
    "    \n",
    ")"
   ]
  },
  {
   "cell_type": "code",
   "execution_count": 115,
   "metadata": {},
   "outputs": [
    {
     "data": {
      "text/plain": [
       "'5'"
      ]
     },
     "execution_count": 115,
     "metadata": {},
     "output_type": "execute_result"
    }
   ],
   "source": [
    "out.number(\n",
    "    lpnj_sffx.shape[0],\n",
    "    'N_LPNJ_sffx'\n",
    ")"
   ]
  },
  {
   "cell_type": "code",
   "execution_count": 194,
   "metadata": {},
   "outputs": [
    {
     "data": {
      "text/html": [
       "<div>\n",
       "<style scoped>\n",
       "    .dataframe tbody tr th:only-of-type {\n",
       "        vertical-align: middle;\n",
       "    }\n",
       "\n",
       "    .dataframe tbody tr th {\n",
       "        vertical-align: top;\n",
       "    }\n",
       "\n",
       "    .dataframe thead th {\n",
       "        text-align: right;\n",
       "    }\n",
       "</style>\n",
       "<table border=\"1\" class=\"dataframe\">\n",
       "  <thead>\n",
       "    <tr style=\"text-align: right;\">\n",
       "      <th></th>\n",
       "      <th>verse</th>\n",
       "      <th>clause</th>\n",
       "    </tr>\n",
       "    <tr>\n",
       "      <th>node</th>\n",
       "      <th></th>\n",
       "      <th></th>\n",
       "    </tr>\n",
       "  </thead>\n",
       "  <tbody>\n",
       "    <tr>\n",
       "      <th>509787</th>\n",
       "      <td>Neh 13:19</td>\n",
       "      <td>כַּאֲשֶׁ֣ר צָֽלֲלוּ֩ שַׁעֲרֵ֨י יְרוּשָׁלִַ֜ם ל...</td>\n",
       "    </tr>\n",
       "    <tr>\n",
       "      <th>430258</th>\n",
       "      <td>Gen 27:10</td>\n",
       "      <td>בַּעֲבֻ֛ר אֲשֶׁ֥ר יְבָרֶכְךָ֖ לִפְנֵ֥י מֹותֹֽו׃</td>\n",
       "    </tr>\n",
       "    <tr>\n",
       "      <th>498056</th>\n",
       "      <td>Job 8:16</td>\n",
       "      <td>רָטֹ֣ב ה֖וּא לִפְנֵי־שָׁ֑מֶשׁ</td>\n",
       "    </tr>\n",
       "    <tr>\n",
       "      <th>430247</th>\n",
       "      <td>Gen 27:7</td>\n",
       "      <td>וַאֲבָרֶכְכָ֛ה לִפְנֵ֥י יְהוָ֖ה לִפְנֵ֥י מֹותִ...</td>\n",
       "    </tr>\n",
       "    <tr>\n",
       "      <th>511707</th>\n",
       "      <td>1 Chr 22:5</td>\n",
       "      <td>וַיָּ֧כֶן דָּוִ֛יד לָרֹ֖ב לִפְנֵ֥י מֹותֹֽו׃</td>\n",
       "    </tr>\n",
       "  </tbody>\n",
       "</table>\n",
       "</div>"
      ],
      "text/plain": [
       "             verse                                             clause\n",
       "node                                                                 \n",
       "509787   Neh 13:19  כַּאֲשֶׁ֣ר צָֽלֲלוּ֩ שַׁעֲרֵ֨י יְרוּשָׁלִַ֜ם ל...\n",
       "430258   Gen 27:10   בַּעֲבֻ֛ר אֲשֶׁ֥ר יְבָרֶכְךָ֖ לִפְנֵ֥י מֹותֹֽו׃ \n",
       "498056    Job 8:16                     רָטֹ֣ב ה֖וּא לִפְנֵי־שָׁ֑מֶשׁ \n",
       "430247    Gen 27:7  וַאֲבָרֶכְכָ֛ה לִפְנֵ֥י יְהוָ֖ה לִפְנֵ֥י מֹותִ...\n",
       "511707  1 Chr 22:5       וַיָּ֧כֶן דָּוִ֛יד לָרֹ֖ב לִפְנֵ֥י מֹותֹֽו׃ "
      ]
     },
     "execution_count": 194,
     "metadata": {},
     "output_type": "execute_result"
    }
   ],
   "source": [
    "out.examples(\n",
    "    antdf[\n",
    "        (antdf.times_POS != 'PREP')\n",
    "        & (antdf.times_etcbc != 'PNH/')\n",
    "    ].sample(5, random_state=42),\n",
    "    'ant_gp_exs'\n",
    ")"
   ]
  },
  {
   "cell_type": "code",
   "execution_count": 121,
   "metadata": {},
   "outputs": [
    {
     "data": {
      "text/html": [
       "<div>\n",
       "<style scoped>\n",
       "    .dataframe tbody tr th:only-of-type {\n",
       "        vertical-align: middle;\n",
       "    }\n",
       "\n",
       "    .dataframe tbody tr th {\n",
       "        vertical-align: top;\n",
       "    }\n",
       "\n",
       "    .dataframe thead th {\n",
       "        text-align: right;\n",
       "    }\n",
       "</style>\n",
       "<table border=\"1\" class=\"dataframe\">\n",
       "  <thead>\n",
       "    <tr style=\"text-align: right;\">\n",
       "      <th></th>\n",
       "      <th>verse</th>\n",
       "      <th>clause</th>\n",
       "    </tr>\n",
       "    <tr>\n",
       "      <th>node</th>\n",
       "      <th></th>\n",
       "      <th></th>\n",
       "    </tr>\n",
       "  </thead>\n",
       "  <tbody>\n",
       "    <tr>\n",
       "      <th>445097</th>\n",
       "      <td>Deut 2:10</td>\n",
       "      <td>הָאֵמִ֥ים לְפָנִ֖ים יָ֣שְׁבוּ בָ֑הּ עַ֣ם גָּדֹ...</td>\n",
       "    </tr>\n",
       "    <tr>\n",
       "      <th>450227</th>\n",
       "      <td>Josh 15:15</td>\n",
       "      <td>וְשֵׁם־דְּבִ֥ר לְפָנִ֖ים קִרְיַת־סֵֽפֶר׃</td>\n",
       "    </tr>\n",
       "    <tr>\n",
       "      <th>454822</th>\n",
       "      <td>1 Sam 9:9</td>\n",
       "      <td>לְפָנִ֣ים׀ בְּיִשְׂרָאֵ֗ל כֹּֽה־אָמַ֤ר הָאִישׁ֙</td>\n",
       "    </tr>\n",
       "    <tr>\n",
       "      <th>503225</th>\n",
       "      <td>Ruth 4:7</td>\n",
       "      <td>וְזֹאת֩ לְפָנִ֨ים בְּיִשְׂרָאֵ֜ל עַל־הַגְּאוּל...</td>\n",
       "    </tr>\n",
       "    <tr>\n",
       "      <th>509731</th>\n",
       "      <td>Neh 13:5</td>\n",
       "      <td>וְשָׁ֣ם הָי֪וּ לְפָנִ֟ים נֹ֠תְנִים אֶת־הַמִּנְ...</td>\n",
       "    </tr>\n",
       "  </tbody>\n",
       "</table>\n",
       "</div>"
      ],
      "text/plain": [
       "             verse                                             clause\n",
       "node                                                                 \n",
       "445097   Deut 2:10  הָאֵמִ֥ים לְפָנִ֖ים יָ֣שְׁבוּ בָ֑הּ עַ֣ם גָּדֹ...\n",
       "450227  Josh 15:15          וְשֵׁם־דְּבִ֥ר לְפָנִ֖ים קִרְיַת־סֵֽפֶר׃ \n",
       "454822   1 Sam 9:9   לְפָנִ֣ים׀ בְּיִשְׂרָאֵ֗ל כֹּֽה־אָמַ֤ר הָאִישׁ֙ \n",
       "503225    Ruth 4:7  וְזֹאת֩ לְפָנִ֨ים בְּיִשְׂרָאֵ֜ל עַל־הַגְּאוּל...\n",
       "509731    Neh 13:5  וְשָׁ֣ם הָי֪וּ לְפָנִ֟ים נֹ֠תְנִים אֶת־הַמִּנְ..."
      ]
     },
     "execution_count": 121,
     "metadata": {},
     "output_type": "execute_result"
    }
   ],
   "source": [
    "out.examples(\n",
    "    antdf[\n",
    "        (antdf.times_etcbc == 'PNH/')\n",
    "        & (antdf.unmodified==1)\n",
    "    ].sample(5, random_state=42).sort_index(),\n",
    "    'ant_formerly_exs'\n",
    ")"
   ]
  },
  {
   "cell_type": "code",
   "execution_count": 110,
   "metadata": {},
   "outputs": [
    {
     "data": {
      "text/plain": [
       "SFX         9\n",
       "DEF         1\n",
       "PL+DEMON    1\n",
       "KL          1\n",
       "Name: modtag, dtype: int64"
      ]
     },
     "execution_count": 110,
     "metadata": {},
     "output_type": "execute_result"
    }
   ],
   "source": [
    "antdf.modtag.value_counts()"
   ]
  },
  {
   "cell_type": "code",
   "execution_count": 122,
   "metadata": {},
   "outputs": [
    {
     "data": {
      "text/html": [
       "<div>\n",
       "<style scoped>\n",
       "    .dataframe tbody tr th:only-of-type {\n",
       "        vertical-align: middle;\n",
       "    }\n",
       "\n",
       "    .dataframe tbody tr th {\n",
       "        vertical-align: top;\n",
       "    }\n",
       "\n",
       "    .dataframe thead th {\n",
       "        text-align: right;\n",
       "    }\n",
       "</style>\n",
       "<table border=\"1\" class=\"dataframe\">\n",
       "  <thead>\n",
       "    <tr style=\"text-align: right;\">\n",
       "      <th></th>\n",
       "      <th>verse</th>\n",
       "      <th>clause</th>\n",
       "    </tr>\n",
       "    <tr>\n",
       "      <th>node</th>\n",
       "      <th></th>\n",
       "      <th></th>\n",
       "    </tr>\n",
       "  </thead>\n",
       "  <tbody>\n",
       "    <tr>\n",
       "      <th>427693</th>\n",
       "      <td>Gen 2:5</td>\n",
       "      <td>וְכֹ֣ל׀ שִׂ֣יחַ הַשָּׂדֶ֗ה טֶ֚רֶם יִֽהְיֶ֣ה בָ...</td>\n",
       "    </tr>\n",
       "    <tr>\n",
       "      <th>427694</th>\n",
       "      <td>Gen 2:5</td>\n",
       "      <td>וְכָל־עֵ֥שֶׂב הַשָּׂדֶ֖ה טֶ֣רֶם יִצְמָ֑ח</td>\n",
       "    </tr>\n",
       "    <tr>\n",
       "      <th>434600</th>\n",
       "      <td>Exod 10:7</td>\n",
       "      <td>הֲטֶ֣רֶם תֵּדַ֔ע</td>\n",
       "    </tr>\n",
       "    <tr>\n",
       "      <th>448860</th>\n",
       "      <td>Josh 2:8</td>\n",
       "      <td>טֶ֣רֶם יִשְׁכָּב֑וּן</td>\n",
       "    </tr>\n",
       "  </tbody>\n",
       "</table>\n",
       "</div>"
      ],
      "text/plain": [
       "            verse                                             clause\n",
       "node                                                                \n",
       "427693    Gen 2:5  וְכֹ֣ל׀ שִׂ֣יחַ הַשָּׂדֶ֗ה טֶ֚רֶם יִֽהְיֶ֣ה בָ...\n",
       "427694    Gen 2:5          וְכָל־עֵ֥שֶׂב הַשָּׂדֶ֖ה טֶ֣רֶם יִצְמָ֑ח \n",
       "434600  Exod 10:7                                  הֲטֶ֣רֶם תֵּדַ֔ע \n",
       "448860   Josh 2:8                              טֶ֣רֶם יִשְׁכָּב֑וּן "
      ]
     },
     "execution_count": 122,
     "metadata": {},
     "output_type": "execute_result"
    }
   ],
   "source": [
    "out.examples(\n",
    "    antdf[antdf.times_etcbc == 'VRM/'],\n",
    "    'ant_VRM_exs'\n",
    ")"
   ]
  },
  {
   "cell_type": "code",
   "execution_count": 126,
   "metadata": {},
   "outputs": [
    {
     "data": {
      "text/plain": [
       "SFX         4\n",
       "Ø           2\n",
       "PL+DEMON    1\n",
       "DEF         1\n",
       "KL          1\n",
       "Name: modtag2, dtype: int64"
      ]
     },
     "execution_count": 126,
     "metadata": {},
     "output_type": "execute_result"
    }
   ],
   "source": [
    "antdf[antdf.front.str.startswith('לְ+פָּנֶה')].modtag2.value_counts()"
   ]
  },
  {
   "cell_type": "code",
   "execution_count": 127,
   "metadata": {},
   "outputs": [
    {
     "name": "stdout",
     "output_type": "stream",
     "text": [
      "showing 4 of 4\n"
     ]
    },
    {
     "data": {
      "text/html": [
       "<style  type=\"text/css\" >\n",
       "#T_d4baa_row0_col1,#T_d4baa_row1_col1,#T_d4baa_row2_col1,#T_d4baa_row3_col1{\n",
       "            font-size: 20px;\n",
       "             font-family:  Times New Roman;\n",
       "             text-align:  right;\n",
       "             max-width:  500px;\n",
       "        }</style><table id=\"T_d4baa_\" ><thead>    <tr>        <th class=\"blank level0\" ></th>        <th class=\"col_heading level0 col0\" >verse</th>        <th class=\"col_heading level0 col1\" >clause</th>    </tr>    <tr>        <th class=\"index_name level0\" >node</th>        <th class=\"blank\" ></th>        <th class=\"blank\" ></th>    </tr></thead><tbody>\n",
       "                <tr>\n",
       "                        <th id=\"T_d4baa_level0_row0\" class=\"row_heading level0 row0\" >430247</th>\n",
       "                        <td id=\"T_d4baa_row0_col0\" class=\"data row0 col0\" >Gen 27:7</td>\n",
       "                        <td id=\"T_d4baa_row0_col1\" class=\"data row0 col1\" >וַאֲבָרֶכְכָ֛ה לִפְנֵ֥י יְהוָ֖ה לִפְנֵ֥י מֹותִֽי׃ </td>\n",
       "            </tr>\n",
       "            <tr>\n",
       "                        <th id=\"T_d4baa_level0_row1\" class=\"row_heading level0 row1\" >430258</th>\n",
       "                        <td id=\"T_d4baa_row1_col0\" class=\"data row1 col0\" >Gen 27:10</td>\n",
       "                        <td id=\"T_d4baa_row1_col1\" class=\"data row1 col1\" >בַּעֲבֻ֛ר אֲשֶׁ֥ר יְבָרֶכְךָ֖ לִפְנֵ֥י מֹותֹֽו׃ </td>\n",
       "            </tr>\n",
       "            <tr>\n",
       "                        <th id=\"T_d4baa_level0_row2\" class=\"row_heading level0 row2\" >433499</th>\n",
       "                        <td id=\"T_d4baa_row2_col0\" class=\"data row2 col0\" >Gen 50:16</td>\n",
       "                        <td id=\"T_d4baa_row2_col1\" class=\"data row2 col1\" >אָבִ֣יךָ צִוָּ֔ה לִפְנֵ֥י מֹותֹ֖ו </td>\n",
       "            </tr>\n",
       "            <tr>\n",
       "                        <th id=\"T_d4baa_level0_row3\" class=\"row_heading level0 row3\" >511707</th>\n",
       "                        <td id=\"T_d4baa_row3_col0\" class=\"data row3 col0\" >1 Chr 22:5</td>\n",
       "                        <td id=\"T_d4baa_row3_col1\" class=\"data row3 col1\" >וַיָּ֧כֶן דָּוִ֛יד לָרֹ֖ב לִפְנֵ֥י מֹותֹֽו׃ </td>\n",
       "            </tr>\n",
       "    </tbody></table>"
      ],
      "text/plain": [
       "<pandas.io.formats.style.Styler at 0x7f99c7d89640>"
      ]
     },
     "execution_count": 127,
     "metadata": {},
     "output_type": "execute_result"
    }
   ],
   "source": [
    "ts.show(\n",
    "    antdf[\n",
    "        (antdf.front.str.startswith('לְ+פָּנֶה'))\n",
    "        & (antdf.modtag2 == 'SFX')\n",
    "    ]\n",
    ")"
   ]
  },
  {
   "cell_type": "code",
   "execution_count": 128,
   "metadata": {},
   "outputs": [
    {
     "name": "stdout",
     "output_type": "stream",
     "text": [
      "showing 2 of 2\n"
     ]
    },
    {
     "data": {
      "text/html": [
       "<style  type=\"text/css\" >\n",
       "#T_d421a_row0_col1,#T_d421a_row1_col1{\n",
       "            font-size: 20px;\n",
       "             font-family:  Times New Roman;\n",
       "             text-align:  right;\n",
       "             max-width:  500px;\n",
       "        }</style><table id=\"T_d421a_\" ><thead>    <tr>        <th class=\"blank level0\" ></th>        <th class=\"col_heading level0 col0\" >verse</th>        <th class=\"col_heading level0 col1\" >clause</th>    </tr>    <tr>        <th class=\"index_name level0\" >node</th>        <th class=\"blank\" ></th>        <th class=\"blank\" ></th>    </tr></thead><tbody>\n",
       "                <tr>\n",
       "                        <th id=\"T_d421a_level0_row0\" class=\"row_heading level0 row0\" >498056</th>\n",
       "                        <td id=\"T_d421a_row0_col0\" class=\"data row0 col0\" >Job 8:16</td>\n",
       "                        <td id=\"T_d421a_row0_col1\" class=\"data row0 col1\" >רָטֹ֣ב ה֖וּא לִפְנֵי־שָׁ֑מֶשׁ </td>\n",
       "            </tr>\n",
       "            <tr>\n",
       "                        <th id=\"T_d421a_level0_row1\" class=\"row_heading level0 row1\" >509727</th>\n",
       "                        <td id=\"T_d421a_row1_col0\" class=\"data row1 col0\" >Neh 13:4</td>\n",
       "                        <td id=\"T_d421a_row1_col1\" class=\"data row1 col1\" >וְלִפְנֵ֣י מִזֶּ֔ה אֶלְיָשִׁיב֙ הַכֹּהֵ֔ן </td>\n",
       "            </tr>\n",
       "    </tbody></table>"
      ],
      "text/plain": [
       "<pandas.io.formats.style.Styler at 0x7f99c6ebda30>"
      ]
     },
     "execution_count": 128,
     "metadata": {},
     "output_type": "execute_result"
    }
   ],
   "source": [
    "ts.show(\n",
    "    antdf[\n",
    "        (antdf.front.str.startswith('לְ+פָּנֶה'))\n",
    "        & (antdf.modtag2 == 'Ø')\n",
    "    ]\n",
    ")"
   ]
  },
  {
   "cell_type": "code",
   "execution_count": 129,
   "metadata": {},
   "outputs": [
    {
     "name": "stdout",
     "output_type": "stream",
     "text": [
      "showing 1 of 1\n"
     ]
    },
    {
     "data": {
      "text/html": [
       "<style  type=\"text/css\" >\n",
       "#T_7fbe3_row0_col1{\n",
       "            font-size: 20px;\n",
       "             font-family:  Times New Roman;\n",
       "             text-align:  right;\n",
       "             max-width:  500px;\n",
       "        }</style><table id=\"T_7fbe3_\" ><thead>    <tr>        <th class=\"blank level0\" ></th>        <th class=\"col_heading level0 col0\" >verse</th>        <th class=\"col_heading level0 col1\" >clause</th>    </tr>    <tr>        <th class=\"index_name level0\" >node</th>        <th class=\"blank\" ></th>        <th class=\"blank\" ></th>    </tr></thead><tbody>\n",
       "                <tr>\n",
       "                        <th id=\"T_7fbe3_level0_row0\" class=\"row_heading level0 row0\" >498047</th>\n",
       "                        <td id=\"T_7fbe3_row0_col0\" class=\"data row0 col0\" >Job 8:12</td>\n",
       "                        <td id=\"T_7fbe3_row0_col1\" class=\"data row0 col1\" >וְלִפְנֵ֖י כָל־חָצִ֣יר יִיבָֽשׁ׃ </td>\n",
       "            </tr>\n",
       "    </tbody></table>"
      ],
      "text/plain": [
       "<pandas.io.formats.style.Styler at 0x7f99c7d8eb20>"
      ]
     },
     "execution_count": 129,
     "metadata": {},
     "output_type": "execute_result"
    }
   ],
   "source": [
    "ts.show(\n",
    "    antdf[\n",
    "        (antdf.front.str.startswith('לְ+פָּנֶה'))\n",
    "        & (antdf.modtag2 == 'KL')\n",
    "    ]\n",
    ")"
   ]
  },
  {
   "cell_type": "code",
   "execution_count": 130,
   "metadata": {},
   "outputs": [
    {
     "name": "stdout",
     "output_type": "stream",
     "text": [
      "showing 1 of 1\n"
     ]
    },
    {
     "data": {
      "text/html": [
       "<style  type=\"text/css\" >\n",
       "#T_15844_row0_col1{\n",
       "            font-size: 20px;\n",
       "             font-family:  Times New Roman;\n",
       "             text-align:  right;\n",
       "             max-width:  500px;\n",
       "        }</style><table id=\"T_15844_\" ><thead>    <tr>        <th class=\"blank level0\" ></th>        <th class=\"col_heading level0 col0\" >verse</th>        <th class=\"col_heading level0 col1\" >clause</th>    </tr>    <tr>        <th class=\"index_name level0\" >node</th>        <th class=\"blank\" ></th>        <th class=\"blank\" ></th>    </tr></thead><tbody>\n",
       "                <tr>\n",
       "                        <th id=\"T_15844_level0_row0\" class=\"row_heading level0 row0\" >489450</th>\n",
       "                        <td id=\"T_15844_row0_col0\" class=\"data row0 col0\" >Zech 8:10</td>\n",
       "                        <td id=\"T_15844_row0_col1\" class=\"data row0 col1\" >כִּ֗י לִפְנֵי֙ הַיָּמִ֣ים הָהֵ֔ם שְׂכַ֤ר הָֽאָדָם֙ לֹ֣א נִֽהְיָ֔ה </td>\n",
       "            </tr>\n",
       "    </tbody></table>"
      ],
      "text/plain": [
       "<pandas.io.formats.style.Styler at 0x7f99c7d8e700>"
      ]
     },
     "execution_count": 130,
     "metadata": {},
     "output_type": "execute_result"
    }
   ],
   "source": [
    "ts.show(\n",
    "    antdf[\n",
    "        (antdf.front.str.startswith('לְ+פָּנֶה'))\n",
    "        & (antdf.modtag2 == 'PL+DEMON')\n",
    "    ]\n",
    ")"
   ]
  },
  {
   "cell_type": "code",
   "execution_count": 131,
   "metadata": {},
   "outputs": [
    {
     "name": "stdout",
     "output_type": "stream",
     "text": [
      "showing 1 of 1\n"
     ]
    },
    {
     "data": {
      "text/html": [
       "<style  type=\"text/css\" >\n",
       "#T_8335e_row0_col1{\n",
       "            font-size: 20px;\n",
       "             font-family:  Times New Roman;\n",
       "             text-align:  right;\n",
       "             max-width:  500px;\n",
       "        }</style><table id=\"T_8335e_\" ><thead>    <tr>        <th class=\"blank level0\" ></th>        <th class=\"col_heading level0 col0\" >verse</th>        <th class=\"col_heading level0 col1\" >clause</th>    </tr>    <tr>        <th class=\"index_name level0\" >node</th>        <th class=\"blank\" ></th>        <th class=\"blank\" ></th>    </tr></thead><tbody>\n",
       "                <tr>\n",
       "                        <th id=\"T_8335e_level0_row0\" class=\"row_heading level0 row0\" >509787</th>\n",
       "                        <td id=\"T_8335e_row0_col0\" class=\"data row0 col0\" >Neh 13:19</td>\n",
       "                        <td id=\"T_8335e_row0_col1\" class=\"data row0 col1\" >כַּאֲשֶׁ֣ר צָֽלֲלוּ֩ שַׁעֲרֵ֨י יְרוּשָׁלִַ֜ם לִפְנֵ֣י הַשַּׁבָּ֗ת </td>\n",
       "            </tr>\n",
       "    </tbody></table>"
      ],
      "text/plain": [
       "<pandas.io.formats.style.Styler at 0x7f99c7d41c10>"
      ]
     },
     "execution_count": 131,
     "metadata": {},
     "output_type": "execute_result"
    }
   ],
   "source": [
    "ts.show(\n",
    "    antdf[\n",
    "        (antdf.front.str.startswith('לְ+פָּנֶה'))\n",
    "        & (antdf.modtag2 == 'DEF')\n",
    "    ]\n",
    ")"
   ]
  },
  {
   "cell_type": "markdown",
   "metadata": {},
   "source": [
    "### Posterior"
   ]
  },
  {
   "cell_type": "code",
   "execution_count": 132,
   "metadata": {},
   "outputs": [],
   "source": [
    "postdf = funct2data['posterior']['df']"
   ]
  },
  {
   "cell_type": "code",
   "execution_count": 133,
   "metadata": {},
   "outputs": [
    {
     "data": {
      "text/plain": [
       "Ø           111\n",
       "SFX          40\n",
       "NUM+PL       15\n",
       "C            15\n",
       "PL+DEMON     12\n",
       "NUM           9\n",
       "PL            5\n",
       "DEF           4\n",
       "PL+QUANT      3\n",
       "KL            2\n",
       "DEMON         1\n",
       "PL+C          1\n",
       "PL+SFX        1\n",
       "QUANT+PL      1\n",
       "KL+SFX        1\n",
       "Name: modtag2, dtype: int64"
      ]
     },
     "execution_count": 133,
     "metadata": {},
     "output_type": "execute_result"
    }
   ],
   "source": [
    "postmod_ct = postdf.modtag2.value_counts()\n",
    "\n",
    "postmod_ct"
   ]
  },
  {
   "cell_type": "code",
   "execution_count": 135,
   "metadata": {},
   "outputs": [
    {
     "data": {
      "text/html": [
       "<div>\n",
       "<style scoped>\n",
       "    .dataframe tbody tr th:only-of-type {\n",
       "        vertical-align: middle;\n",
       "    }\n",
       "\n",
       "    .dataframe tbody tr th {\n",
       "        vertical-align: top;\n",
       "    }\n",
       "\n",
       "    .dataframe thead th {\n",
       "        text-align: right;\n",
       "    }\n",
       "</style>\n",
       "<table border=\"1\" class=\"dataframe\">\n",
       "  <thead>\n",
       "    <tr style=\"text-align: right;\">\n",
       "      <th></th>\n",
       "      <th>verse</th>\n",
       "      <th>clause</th>\n",
       "    </tr>\n",
       "    <tr>\n",
       "      <th>node</th>\n",
       "      <th></th>\n",
       "      <th></th>\n",
       "    </tr>\n",
       "  </thead>\n",
       "  <tbody>\n",
       "    <tr>\n",
       "      <th>457117</th>\n",
       "      <td>1 Sam 24:22</td>\n",
       "      <td>אִם־תַּכְרִ֥ית אֶת־זַרְעִ֖י אַֽחֲרָ֑י</td>\n",
       "    </tr>\n",
       "    <tr>\n",
       "      <th>461660</th>\n",
       "      <td>1 Kgs 3:12</td>\n",
       "      <td>וְאַחֲרֶ֖יךָ לֹא־יָק֥וּם כָּמֹֽוךָ׃</td>\n",
       "    </tr>\n",
       "    <tr>\n",
       "      <th>508760</th>\n",
       "      <td>Neh 3:17</td>\n",
       "      <td>אַחֲרָ֛יו הֶחֱזִ֥יקוּ הַלְוִיִּ֖ם רְח֣וּם בֶּן...</td>\n",
       "    </tr>\n",
       "    <tr>\n",
       "      <th>508765</th>\n",
       "      <td>Neh 3:20</td>\n",
       "      <td>אַחֲרָ֨יו הֶחֱרָ֧ה</td>\n",
       "    </tr>\n",
       "    <tr>\n",
       "      <th>508783</th>\n",
       "      <td>Neh 3:29</td>\n",
       "      <td>וְאַחֲרָ֤יו הֶחֱזִיק֙ שְׁמַֽעְיָ֣ה בֶן־שְׁכַנְ...</td>\n",
       "    </tr>\n",
       "    <tr>\n",
       "      <th>513278</th>\n",
       "      <td>2 Chr 11:16</td>\n",
       "      <td>וְאַחֲרֵיהֶ֗ם מִכֹּל֙ שִׁבְטֵ֣י יִשְׂרָאֵ֔ל ב֚...</td>\n",
       "    </tr>\n",
       "  </tbody>\n",
       "</table>\n",
       "</div>"
      ],
      "text/plain": [
       "              verse                                             clause\n",
       "node                                                                  \n",
       "457117  1 Sam 24:22             אִם־תַּכְרִ֥ית אֶת־זַרְעִ֖י אַֽחֲרָ֑י \n",
       "461660   1 Kgs 3:12               וְאַחֲרֶ֖יךָ לֹא־יָק֥וּם כָּמֹֽוךָ׃ \n",
       "508760     Neh 3:17  אַחֲרָ֛יו הֶחֱזִ֥יקוּ הַלְוִיִּ֖ם רְח֣וּם בֶּן...\n",
       "508765     Neh 3:20                                אַחֲרָ֨יו הֶחֱרָ֧ה \n",
       "508783     Neh 3:29  וְאַחֲרָ֤יו הֶחֱזִיק֙ שְׁמַֽעְיָ֣ה בֶן־שְׁכַנְ...\n",
       "513278  2 Chr 11:16  וְאַחֲרֵיהֶ֗ם מִכֹּל֙ שִׁבְטֵ֣י יִשְׂרָאֵ֔ל ב֚..."
      ]
     },
     "execution_count": 135,
     "metadata": {},
     "output_type": "execute_result"
    }
   ],
   "source": [
    "single_sfx = postdf[\n",
    "        (postdf.SFX == 1)\n",
    "        & (postdf.n_slots == 1)\n",
    "]\n",
    "\n",
    "out.number(\n",
    "    single_sfx.shape[0],\n",
    "    'N_singpost_sfx'\n",
    ")\n",
    "\n",
    "out.number(\n",
    "    100*(single_sfx.shape[0] / postdf.shape[0]),\n",
    "    'pc_singpost_sfx'\n",
    ")\n",
    "\n",
    "out.examples(\n",
    "    single_sfx.sample(6, random_state=42).sort_index(),\n",
    "    'post_sfx_exs'\n",
    ")"
   ]
  },
  {
   "cell_type": "code",
   "execution_count": 137,
   "metadata": {},
   "outputs": [
    {
     "data": {
      "text/html": [
       "<div>\n",
       "<style scoped>\n",
       "    .dataframe tbody tr th:only-of-type {\n",
       "        vertical-align: middle;\n",
       "    }\n",
       "\n",
       "    .dataframe tbody tr th {\n",
       "        vertical-align: top;\n",
       "    }\n",
       "\n",
       "    .dataframe thead th {\n",
       "        text-align: right;\n",
       "    }\n",
       "</style>\n",
       "<table border=\"1\" class=\"dataframe\">\n",
       "  <thead>\n",
       "    <tr style=\"text-align: right;\">\n",
       "      <th></th>\n",
       "      <th>verse</th>\n",
       "      <th>clause</th>\n",
       "    </tr>\n",
       "    <tr>\n",
       "      <th>node</th>\n",
       "      <th></th>\n",
       "      <th></th>\n",
       "    </tr>\n",
       "  </thead>\n",
       "  <tbody>\n",
       "    <tr>\n",
       "      <th>439271</th>\n",
       "      <td>Lev 14:19</td>\n",
       "      <td>וְאַחַ֖ר יִשְׁחַ֥ט אֶת־הָעֹלָֽה׃</td>\n",
       "    </tr>\n",
       "    <tr>\n",
       "      <th>443010</th>\n",
       "      <td>Num 19:7</td>\n",
       "      <td>וְאַחַ֖ר יָבֹ֣וא אֶל־הַֽמַּחֲנֶ֑ה</td>\n",
       "    </tr>\n",
       "    <tr>\n",
       "      <th>448901</th>\n",
       "      <td>Josh 2:16</td>\n",
       "      <td>וְאַחַ֖ר תֵּלְכ֥וּ לְדַרְכְּכֶֽם׃</td>\n",
       "    </tr>\n",
       "    <tr>\n",
       "      <th>453492</th>\n",
       "      <td>Judg 19:5</td>\n",
       "      <td>וְאַחַ֥ר תֵּלֵֽכוּ׃</td>\n",
       "    </tr>\n",
       "    <tr>\n",
       "      <th>485700</th>\n",
       "      <td>Hos 3:5</td>\n",
       "      <td>אַחַ֗ר יָשֻׁ֨בוּ֙ בְּנֵ֣י יִשְׂרָאֵ֔ל</td>\n",
       "    </tr>\n",
       "    <tr>\n",
       "      <th>493800</th>\n",
       "      <td>Ps 73:24</td>\n",
       "      <td>וְ֝אַחַ֗ר כָּבֹ֥וד תִּקָּחֵֽנִי׃</td>\n",
       "    </tr>\n",
       "  </tbody>\n",
       "</table>\n",
       "</div>"
      ],
      "text/plain": [
       "            verse                                  clause\n",
       "node                                                     \n",
       "439271  Lev 14:19       וְאַחַ֖ר יִשְׁחַ֥ט אֶת־הָעֹלָֽה׃ \n",
       "443010   Num 19:7      וְאַחַ֖ר יָבֹ֣וא אֶל־הַֽמַּחֲנֶ֑ה \n",
       "448901  Josh 2:16      וְאַחַ֖ר תֵּלְכ֥וּ לְדַרְכְּכֶֽם׃ \n",
       "453492  Judg 19:5                    וְאַחַ֥ר תֵּלֵֽכוּ׃ \n",
       "485700    Hos 3:5  אַחַ֗ר יָשֻׁ֨בוּ֙ בְּנֵ֣י יִשְׂרָאֵ֔ל \n",
       "493800   Ps 73:24       וְ֝אַחַ֗ר כָּבֹ֥וד תִּקָּחֵֽנִי׃ "
      ]
     },
     "execution_count": 137,
     "metadata": {},
     "output_type": "execute_result"
    }
   ],
   "source": [
    "single_post =     postdf[\n",
    "        (postdf.modtag2 == 'Ø')\n",
    "        & (postdf.n_slots == 1)\n",
    "    ]\n",
    "\n",
    "out.number(\n",
    "    single_post.shape[0],\n",
    "    'N_single_post'\n",
    ")\n",
    "\n",
    "\n",
    "out.number(\n",
    "    100*(single_post.shape[0] / postdf.shape[0]),\n",
    "    'pc_singpost'\n",
    ")\n",
    "\n",
    "out.examples(\n",
    "    single_post.sample(6, random_state=42).sort_index(),\n",
    "    'post_single_exs',\n",
    ")"
   ]
  },
  {
   "cell_type": "code",
   "execution_count": 140,
   "metadata": {},
   "outputs": [
    {
     "data": {
      "text/html": [
       "<div>\n",
       "<style scoped>\n",
       "    .dataframe tbody tr th:only-of-type {\n",
       "        vertical-align: middle;\n",
       "    }\n",
       "\n",
       "    .dataframe tbody tr th {\n",
       "        vertical-align: top;\n",
       "    }\n",
       "\n",
       "    .dataframe thead th {\n",
       "        text-align: right;\n",
       "    }\n",
       "</style>\n",
       "<table border=\"1\" class=\"dataframe\">\n",
       "  <thead>\n",
       "    <tr style=\"text-align: right;\">\n",
       "      <th></th>\n",
       "      <th>verse</th>\n",
       "      <th>clause</th>\n",
       "    </tr>\n",
       "    <tr>\n",
       "      <th>node</th>\n",
       "      <th></th>\n",
       "      <th></th>\n",
       "    </tr>\n",
       "  </thead>\n",
       "  <tbody>\n",
       "    <tr>\n",
       "      <th>429260</th>\n",
       "      <td>Gen 19:34</td>\n",
       "      <td>וַֽיְהִי֙ מִֽמָּחֳרָ֔ת</td>\n",
       "    </tr>\n",
       "    <tr>\n",
       "      <th>434446</th>\n",
       "      <td>Exod 9:6</td>\n",
       "      <td>וַיַּ֨עַשׂ יְהוָ֜ה אֶת־הַדָּבָ֤ר הַזֶּה֙ מִֽמּ...</td>\n",
       "    </tr>\n",
       "    <tr>\n",
       "      <th>442859</th>\n",
       "      <td>Num 17:23</td>\n",
       "      <td>וַיְהִ֣י מִֽמָּחֳרָ֗ת</td>\n",
       "    </tr>\n",
       "    <tr>\n",
       "      <th>456230</th>\n",
       "      <td>1 Sam 18:10</td>\n",
       "      <td>וַיְהִ֣י מִֽמָּחֳרָ֗ת</td>\n",
       "    </tr>\n",
       "    <tr>\n",
       "      <th>457933</th>\n",
       "      <td>1 Sam 31:8</td>\n",
       "      <td>וַֽיְהִי֙ מִֽמָּחֳרָ֔ת</td>\n",
       "    </tr>\n",
       "  </tbody>\n",
       "</table>\n",
       "</div>"
      ],
      "text/plain": [
       "              verse                                             clause\n",
       "node                                                                  \n",
       "429260    Gen 19:34                            וַֽיְהִי֙ מִֽמָּחֳרָ֔ת \n",
       "434446     Exod 9:6  וַיַּ֨עַשׂ יְהוָ֜ה אֶת־הַדָּבָ֤ר הַזֶּה֙ מִֽמּ...\n",
       "442859    Num 17:23                             וַיְהִ֣י מִֽמָּחֳרָ֗ת \n",
       "456230  1 Sam 18:10                             וַיְהִ֣י מִֽמָּחֳרָ֗ת \n",
       "457933   1 Sam 31:8                            וַֽיְהִי֙ מִֽמָּחֳרָ֔ת "
      ]
     },
     "execution_count": 140,
     "metadata": {},
     "output_type": "execute_result"
    }
   ],
   "source": [
    "out.examples(\n",
    "    postdf[\n",
    "        (postdf['front'] == 'מִן')\n",
    "        & (postdf.times_etcbc == 'MXRT/')\n",
    "    ].sample(5, random_state=42).sort_index(),\n",
    "    'post_MXRT_exs'\n",
    ")"
   ]
  },
  {
   "cell_type": "code",
   "execution_count": 142,
   "metadata": {},
   "outputs": [
    {
     "data": {
      "text/html": [
       "<div>\n",
       "<style scoped>\n",
       "    .dataframe tbody tr th:only-of-type {\n",
       "        vertical-align: middle;\n",
       "    }\n",
       "\n",
       "    .dataframe tbody tr th {\n",
       "        vertical-align: top;\n",
       "    }\n",
       "\n",
       "    .dataframe thead th {\n",
       "        text-align: right;\n",
       "    }\n",
       "</style>\n",
       "<table border=\"1\" class=\"dataframe\">\n",
       "  <thead>\n",
       "    <tr style=\"text-align: right;\">\n",
       "      <th></th>\n",
       "      <th>verse</th>\n",
       "      <th>clause</th>\n",
       "    </tr>\n",
       "    <tr>\n",
       "      <th>node</th>\n",
       "      <th></th>\n",
       "      <th></th>\n",
       "    </tr>\n",
       "  </thead>\n",
       "  <tbody>\n",
       "    <tr>\n",
       "      <th>440881</th>\n",
       "      <td>Lev 27:17</td>\n",
       "      <td>אִם־מִשְּׁנַ֥ת הַיֹּבֵ֖ל יַקְדִּ֣ישׁ שָׂדֵ֑הוּ</td>\n",
       "    </tr>\n",
       "    <tr>\n",
       "      <th>469913</th>\n",
       "      <td>Isa 24:22</td>\n",
       "      <td>וּמֵרֹ֥ב יָמִ֖ים יִפָּקֵֽדוּ׃</td>\n",
       "    </tr>\n",
       "    <tr>\n",
       "      <th>484355</th>\n",
       "      <td>Ezek 38:8</td>\n",
       "      <td>מִיָּמִ֣ים רַבִּים֮ תִּפָּקֵד֒</td>\n",
       "    </tr>\n",
       "    <tr>\n",
       "      <th>485852</th>\n",
       "      <td>Hos 6:2</td>\n",
       "      <td>יְחַיֵּ֖נוּ מִיֹּמָ֑יִם</td>\n",
       "    </tr>\n",
       "  </tbody>\n",
       "</table>\n",
       "</div>"
      ],
      "text/plain": [
       "            verse                                           clause\n",
       "node                                                              \n",
       "440881  Lev 27:17  אִם־מִשְּׁנַ֥ת הַיֹּבֵ֖ל יַקְדִּ֣ישׁ שָׂדֵ֑הוּ \n",
       "469913  Isa 24:22                   וּמֵרֹ֥ב יָמִ֖ים יִפָּקֵֽדוּ׃ \n",
       "484355  Ezek 38:8                  מִיָּמִ֣ים רַבִּים֮ תִּפָּקֵד֒ \n",
       "485852    Hos 6:2                         יְחַיֵּ֖נוּ מִיֹּמָ֑יִם "
      ]
     },
     "execution_count": 142,
     "metadata": {},
     "output_type": "execute_result"
    }
   ],
   "source": [
    "out.examples(\n",
    "    postdf[\n",
    "        postdf.verse.isin(['Lev 27:17', 'Isa 24:22', 'Ezek 38:8', 'Hos 6:2'])\n",
    "    ],\n",
    "    'postMN_nondur_exs'\n",
    ")"
   ]
  },
  {
   "cell_type": "code",
   "execution_count": 145,
   "metadata": {},
   "outputs": [
    {
     "data": {
      "text/html": [
       "<div>\n",
       "<style scoped>\n",
       "    .dataframe tbody tr th:only-of-type {\n",
       "        vertical-align: middle;\n",
       "    }\n",
       "\n",
       "    .dataframe tbody tr th {\n",
       "        vertical-align: top;\n",
       "    }\n",
       "\n",
       "    .dataframe thead th {\n",
       "        text-align: right;\n",
       "    }\n",
       "</style>\n",
       "<table border=\"1\" class=\"dataframe\">\n",
       "  <thead>\n",
       "    <tr style=\"text-align: right;\">\n",
       "      <th></th>\n",
       "      <th>verse</th>\n",
       "      <th>clause</th>\n",
       "    </tr>\n",
       "    <tr>\n",
       "      <th>node</th>\n",
       "      <th></th>\n",
       "      <th></th>\n",
       "    </tr>\n",
       "  </thead>\n",
       "  <tbody>\n",
       "    <tr>\n",
       "      <th>427887</th>\n",
       "      <td>Gen 4:3</td>\n",
       "      <td>וַֽיְהִ֖י מִקֵּ֣ץ יָמִ֑ים</td>\n",
       "    </tr>\n",
       "    <tr>\n",
       "      <th>428205</th>\n",
       "      <td>Gen 8:6</td>\n",
       "      <td>וַֽיְהִ֕י מִקֵּ֖ץ אַרְבָּעִ֣ים יֹ֑ום</td>\n",
       "    </tr>\n",
       "    <tr>\n",
       "      <th>432145</th>\n",
       "      <td>Gen 41:1</td>\n",
       "      <td>וַיְהִ֕י מִקֵּ֖ץ שְׁנָתַ֣יִם יָמִ֑ים</td>\n",
       "    </tr>\n",
       "    <tr>\n",
       "      <th>445968</th>\n",
       "      <td>Deut 9:11</td>\n",
       "      <td>מִקֵּץ֙ אַרְבָּעִ֣ים יֹ֔ום וְאַרְבָּעִ֖ים לָ֑י...</td>\n",
       "    </tr>\n",
       "    <tr>\n",
       "      <th>459615</th>\n",
       "      <td>2 Sam 14:26</td>\n",
       "      <td>וְֽ֠הָיָה מִקֵּץ֙ יָמִ֤ים׀ לַיָּמִים֙</td>\n",
       "    </tr>\n",
       "  </tbody>\n",
       "</table>\n",
       "</div>"
      ],
      "text/plain": [
       "              verse                                             clause\n",
       "node                                                                  \n",
       "427887      Gen 4:3                         וַֽיְהִ֖י מִקֵּ֣ץ יָמִ֑ים \n",
       "428205      Gen 8:6              וַֽיְהִ֕י מִקֵּ֖ץ אַרְבָּעִ֣ים יֹ֑ום \n",
       "432145     Gen 41:1              וַיְהִ֕י מִקֵּ֖ץ שְׁנָתַ֣יִם יָמִ֑ים \n",
       "445968    Deut 9:11  מִקֵּץ֙ אַרְבָּעִ֣ים יֹ֔ום וְאַרְבָּעִ֖ים לָ֑י...\n",
       "459615  2 Sam 14:26             וְֽ֠הָיָה מִקֵּץ֙ יָמִ֤ים׀ לַיָּמִים֙ "
      ]
     },
     "execution_count": 145,
     "metadata": {},
     "output_type": "execute_result"
    }
   ],
   "source": [
    "out.examples(\n",
    "    postdf[postdf['front'] == 'מִן+קֵץ'].sample(5, random_state=42).sort_index(),\n",
    "    'post_MQC_exs'\n",
    ")"
   ]
  },
  {
   "cell_type": "markdown",
   "metadata": {},
   "source": [
    "## Anterior-Durative"
   ]
  },
  {
   "cell_type": "code",
   "execution_count": 146,
   "metadata": {},
   "outputs": [],
   "source": [
    "antdurdf = funct2data['anterior_dur']['df']"
   ]
  },
  {
   "cell_type": "code",
   "execution_count": 149,
   "metadata": {},
   "outputs": [],
   "source": [
    "clear_ends = ['MWT/', 'CNH/', 'YHRJM/']"
   ]
  },
  {
   "cell_type": "code",
   "execution_count": 150,
   "metadata": {},
   "outputs": [
    {
     "name": "stdout",
     "output_type": "stream",
     "text": [
      "exporting 5 of 15...\n"
     ]
    },
    {
     "data": {
      "text/html": [
       "<div>\n",
       "<style scoped>\n",
       "    .dataframe tbody tr th:only-of-type {\n",
       "        vertical-align: middle;\n",
       "    }\n",
       "\n",
       "    .dataframe tbody tr th {\n",
       "        vertical-align: top;\n",
       "    }\n",
       "\n",
       "    .dataframe thead th {\n",
       "        text-align: right;\n",
       "    }\n",
       "</style>\n",
       "<table border=\"1\" class=\"dataframe\">\n",
       "  <thead>\n",
       "    <tr style=\"text-align: right;\">\n",
       "      <th></th>\n",
       "      <th>verse</th>\n",
       "      <th>clause</th>\n",
       "    </tr>\n",
       "    <tr>\n",
       "      <th>node</th>\n",
       "      <th></th>\n",
       "      <th></th>\n",
       "    </tr>\n",
       "  </thead>\n",
       "  <tbody>\n",
       "    <tr>\n",
       "      <th>440537</th>\n",
       "      <td>Lev 25:22</td>\n",
       "      <td>וַאֲכַלְתֶּ֖ם מִן־הַתְּבוּאָ֣ה יָשָׁ֑ן עַ֣ד׀ ה...</td>\n",
       "    </tr>\n",
       "    <tr>\n",
       "      <th>440885</th>\n",
       "      <td>Lev 27:18</td>\n",
       "      <td>הַנֹּ֣ותָרֹ֔ת עַ֖ד שְׁנַ֣ת הַיֹּבֵ֑ל</td>\n",
       "    </tr>\n",
       "    <tr>\n",
       "      <th>444816</th>\n",
       "      <td>Num 35:32</td>\n",
       "      <td>לָשֶׁ֣בֶת בָּאָ֔רֶץ עַד־מֹ֖ות הַכֹּהֵֽן׃</td>\n",
       "    </tr>\n",
       "    <tr>\n",
       "      <th>468043</th>\n",
       "      <td>2 Kgs 25:2</td>\n",
       "      <td>וַתָּבֹ֥א הָעִ֖יר בַּמָּצֹ֑ור עַ֚ד עַשְׁתֵּ֣י ...</td>\n",
       "    </tr>\n",
       "    <tr>\n",
       "      <th>486453</th>\n",
       "      <td>Joel 2:2</td>\n",
       "      <td>וְאַֽחֲרָיו֙ לֹ֣א יֹוסֵ֔ף עַד־שְׁנֵ֖י דֹּ֥ור ו...</td>\n",
       "    </tr>\n",
       "  </tbody>\n",
       "</table>\n",
       "</div>"
      ],
      "text/plain": [
       "             verse                                             clause\n",
       "node                                                                 \n",
       "440537   Lev 25:22  וַאֲכַלְתֶּ֖ם מִן־הַתְּבוּאָ֣ה יָשָׁ֑ן עַ֣ד׀ ה...\n",
       "440885   Lev 27:18              הַנֹּ֣ותָרֹ֔ת עַ֖ד שְׁנַ֣ת הַיֹּבֵ֑ל \n",
       "444816   Num 35:32          לָשֶׁ֣בֶת בָּאָ֔רֶץ עַד־מֹ֖ות הַכֹּהֵֽן׃ \n",
       "468043  2 Kgs 25:2  וַתָּבֹ֥א הָעִ֖יר בַּמָּצֹ֑ור עַ֚ד עַשְׁתֵּ֣י ...\n",
       "486453    Joel 2:2  וְאַֽחֲרָיו֙ לֹ֣א יֹוסֵ֔ף עַד־שְׁנֵ֖י דֹּ֥ור ו..."
      ]
     },
     "execution_count": 150,
     "metadata": {},
     "output_type": "execute_result"
    }
   ],
   "source": [
    "out.examples(\n",
    "    antdurdf[antdurdf.times_etcbc.isin(clear_ends)],\n",
    "    'antdur_end_exs',\n",
    "    spread=5\n",
    ")"
   ]
  },
  {
   "cell_type": "code",
   "execution_count": 148,
   "metadata": {},
   "outputs": [
    {
     "data": {
      "text/plain": [
       "<WLM/        154\n",
       "JWM/          87\n",
       "<RB/          43\n",
       "NYX/          25\n",
       "MTJ           23\n",
       "BQR=/         20\n",
       "<D/           17\n",
       ">N            13\n",
       "DWR/|DWR/     10\n",
       "CNH/           9\n",
       "<WLM/|<D/      9\n",
       "<T/            7\n",
       "HNH==          6\n",
       "MWT/           5\n",
       "MH             2\n",
       "LJLH/          2\n",
       "KH             2\n",
       "XDC=/          2\n",
       "<TH            2\n",
       "MW<D/          1\n",
       "DWR/           1\n",
       "KWN[           1\n",
       "CMJM/          1\n",
       "<JLWM/         1\n",
       "MNXH/          1\n",
       "ZQNH/          1\n",
       ">WR/           1\n",
       "FJBH/          1\n",
       "KN             1\n",
       "YHRJM/         1\n",
       "Name: times_etcbc, dtype: int64"
      ]
     },
     "execution_count": 148,
     "metadata": {},
     "output_type": "execute_result"
    }
   ],
   "source": [
    "antdurdf.times_etcbc.value_counts()"
   ]
  },
  {
   "cell_type": "code",
   "execution_count": 165,
   "metadata": {},
   "outputs": [
    {
     "name": "stdout",
     "output_type": "stream",
     "text": [
      "exporting 10 of 17...\n"
     ]
    },
    {
     "data": {
      "text/html": [
       "<div>\n",
       "<style scoped>\n",
       "    .dataframe tbody tr th:only-of-type {\n",
       "        vertical-align: middle;\n",
       "    }\n",
       "\n",
       "    .dataframe tbody tr th {\n",
       "        vertical-align: top;\n",
       "    }\n",
       "\n",
       "    .dataframe thead th {\n",
       "        text-align: right;\n",
       "    }\n",
       "</style>\n",
       "<table border=\"1\" class=\"dataframe\">\n",
       "  <thead>\n",
       "    <tr style=\"text-align: right;\">\n",
       "      <th></th>\n",
       "      <th>verse</th>\n",
       "      <th>clause</th>\n",
       "    </tr>\n",
       "    <tr>\n",
       "      <th>node</th>\n",
       "      <th></th>\n",
       "      <th></th>\n",
       "    </tr>\n",
       "  </thead>\n",
       "  <tbody>\n",
       "    <tr>\n",
       "      <th>433180</th>\n",
       "      <td>Gen 47:26</td>\n",
       "      <td>וַיָּ֣שֶׂם אֹתָ֣הּ יֹוסֵ֡ף לְחֹק֩ עַד־הַיֹּ֨ום...</td>\n",
       "    </tr>\n",
       "    <tr>\n",
       "      <th>449145</th>\n",
       "      <td>Josh 5:9</td>\n",
       "      <td>וַיִּקְרָ֞א שֵׁ֣ם הַמָּקֹ֤ום הַהוּא֙ גִּלְגָּ֔...</td>\n",
       "    </tr>\n",
       "    <tr>\n",
       "      <th>449568</th>\n",
       "      <td>Josh 8:28</td>\n",
       "      <td>וַיְשִׂימֶ֤הָ תֵּל־עֹולָם֙ שְׁמָמָ֔ה עַ֖ד הַיּ...</td>\n",
       "    </tr>\n",
       "    <tr>\n",
       "      <th>449830</th>\n",
       "      <td>Josh 10:27</td>\n",
       "      <td>וַיָּשִׂ֜מוּ אֲבָנִ֤ים גְּדֹלֹות֙ עַל־פִּ֣י הַ...</td>\n",
       "    </tr>\n",
       "    <tr>\n",
       "      <th>458565</th>\n",
       "      <td>2 Sam 6:8</td>\n",
       "      <td>וַיִּקְרָ֞א לַמָּקֹ֤ום הַהוּא֙ פֶּ֣רֶץ עֻזָּ֔ה...</td>\n",
       "    </tr>\n",
       "    <tr>\n",
       "      <th>462539</th>\n",
       "      <td>1 Kgs 9:13</td>\n",
       "      <td>וַיִּקְרָ֤א לָהֶם֙ אֶ֣רֶץ כָּב֔וּל עַ֖ד הַיֹּ֥...</td>\n",
       "    </tr>\n",
       "    <tr>\n",
       "      <th>466743</th>\n",
       "      <td>2 Kgs 14:7</td>\n",
       "      <td>וַיִּקְרָ֤א אֶת־שְׁמָהּ֙ יָקְתְאֵ֔ל עַ֖ד הַיֹּ...</td>\n",
       "    </tr>\n",
       "    <tr>\n",
       "      <th>510197</th>\n",
       "      <td>1 Chr 4:41</td>\n",
       "      <td>וַיַּחֲרִימֻם֙ עַד־הַיֹּ֣ום הַזֶּ֔ה</td>\n",
       "    </tr>\n",
       "    <tr>\n",
       "      <th>510974</th>\n",
       "      <td>1 Chr 13:11</td>\n",
       "      <td>וַיִּקְרָ֞א לַמָּקֹ֤ום הַהוּא֙ פֶּ֣רֶץ עֻזָּ֔א...</td>\n",
       "    </tr>\n",
       "    <tr>\n",
       "      <th>513010</th>\n",
       "      <td>2 Chr 8:8</td>\n",
       "      <td>וַיַּעֲלֵ֤ם שְׁלֹמֹה֙ לְמַ֔ס עַ֖ד הַיֹּ֥ום הַז...</td>\n",
       "    </tr>\n",
       "  </tbody>\n",
       "</table>\n",
       "</div>"
      ],
      "text/plain": [
       "              verse                                             clause\n",
       "node                                                                  \n",
       "433180    Gen 47:26  וַיָּ֣שֶׂם אֹתָ֣הּ יֹוסֵ֡ף לְחֹק֩ עַד־הַיֹּ֨ום...\n",
       "449145     Josh 5:9  וַיִּקְרָ֞א שֵׁ֣ם הַמָּקֹ֤ום הַהוּא֙ גִּלְגָּ֔...\n",
       "449568    Josh 8:28  וַיְשִׂימֶ֤הָ תֵּל־עֹולָם֙ שְׁמָמָ֔ה עַ֖ד הַיּ...\n",
       "449830   Josh 10:27  וַיָּשִׂ֜מוּ אֲבָנִ֤ים גְּדֹלֹות֙ עַל־פִּ֣י הַ...\n",
       "458565    2 Sam 6:8  וַיִּקְרָ֞א לַמָּקֹ֤ום הַהוּא֙ פֶּ֣רֶץ עֻזָּ֔ה...\n",
       "462539   1 Kgs 9:13  וַיִּקְרָ֤א לָהֶם֙ אֶ֣רֶץ כָּב֔וּל עַ֖ד הַיֹּ֥...\n",
       "466743   2 Kgs 14:7  וַיִּקְרָ֤א אֶת־שְׁמָהּ֙ יָקְתְאֵ֔ל עַ֖ד הַיֹּ...\n",
       "510197   1 Chr 4:41               וַיַּחֲרִימֻם֙ עַד־הַיֹּ֣ום הַזֶּ֔ה \n",
       "510974  1 Chr 13:11  וַיִּקְרָ֞א לַמָּקֹ֤ום הַהוּא֙ פֶּ֣רֶץ עֻזָּ֔א...\n",
       "513010    2 Chr 8:8  וַיַּעֲלֵ֤ם שְׁלֹמֹה֙ לְמַ֔ס עַ֖ד הַיֹּ֥ום הַז..."
      ]
     },
     "execution_count": 165,
     "metadata": {},
     "output_type": "execute_result"
    }
   ],
   "source": [
    "# anterior durative of result\n",
    "\n",
    "out.examples(\n",
    "    antdurdf[\n",
    "        (antdurdf.has_objc == 1)\n",
    "        & (antdurdf.DEMON == 1)\n",
    "        & (antdurdf.verbform == 'wayq')\n",
    "    ],\n",
    "    'antdur_result_exs',\n",
    "    spread=10,\n",
    ")"
   ]
  },
  {
   "cell_type": "code",
   "execution_count": 167,
   "metadata": {},
   "outputs": [
    {
     "data": {
      "text/html": [
       "<div>\n",
       "<style scoped>\n",
       "    .dataframe tbody tr th:only-of-type {\n",
       "        vertical-align: middle;\n",
       "    }\n",
       "\n",
       "    .dataframe tbody tr th {\n",
       "        vertical-align: top;\n",
       "    }\n",
       "\n",
       "    .dataframe thead th {\n",
       "        text-align: right;\n",
       "    }\n",
       "</style>\n",
       "<table border=\"1\" class=\"dataframe\">\n",
       "  <thead>\n",
       "    <tr style=\"text-align: right;\">\n",
       "      <th></th>\n",
       "      <th>verse</th>\n",
       "      <th>clause</th>\n",
       "    </tr>\n",
       "    <tr>\n",
       "      <th>node</th>\n",
       "      <th></th>\n",
       "      <th></th>\n",
       "    </tr>\n",
       "  </thead>\n",
       "  <tbody>\n",
       "    <tr>\n",
       "      <th>449051</th>\n",
       "      <td>Josh 4:9</td>\n",
       "      <td>וַיִּ֣הְיוּ שָׁ֔ם עַ֖ד הַיֹּ֥ום הַזֶּֽה׃</td>\n",
       "    </tr>\n",
       "    <tr>\n",
       "      <th>449292</th>\n",
       "      <td>Josh 6:25</td>\n",
       "      <td>וַתֵּ֨שֶׁב֙ בְּקֶ֣רֶב יִשְׂרָאֵ֔ל עַ֖ד הַיֹּ֣ו...</td>\n",
       "    </tr>\n",
       "    <tr>\n",
       "      <th>464987</th>\n",
       "      <td>2 Kgs 2:22</td>\n",
       "      <td>וַיֵּרָפ֣וּ הַמַּ֔יִם עַ֖ד הַיֹּ֣ום הַזֶּ֑ה כּ...</td>\n",
       "    </tr>\n",
       "  </tbody>\n",
       "</table>\n",
       "</div>"
      ],
      "text/plain": [
       "             verse                                             clause\n",
       "node                                                                 \n",
       "449051    Josh 4:9          וַיִּ֣הְיוּ שָׁ֔ם עַ֖ד הַיֹּ֥ום הַזֶּֽה׃ \n",
       "449292   Josh 6:25  וַתֵּ֨שֶׁב֙ בְּקֶ֣רֶב יִשְׂרָאֵ֔ל עַ֖ד הַיֹּ֣ו...\n",
       "464987  2 Kgs 2:22  וַיֵּרָפ֣וּ הַמַּ֔יִם עַ֖ד הַיֹּ֣ום הַזֶּ֑ה כּ..."
      ]
     },
     "execution_count": 167,
     "metadata": {},
     "output_type": "execute_result"
    }
   ],
   "source": [
    "# anterior durative of result\n",
    "\n",
    "out.examples(\n",
    "    antdurdf[antdurdf.verse.isin(['Josh 4:9', 'Josh 6:25', '2 Kgs 2:22'])],\n",
    "    'antdur_result_state_exs',\n",
    ")"
   ]
  },
  {
   "cell_type": "code",
   "execution_count": 152,
   "metadata": {},
   "outputs": [
    {
     "name": "stdout",
     "output_type": "stream",
     "text": [
      "exporting 5 of 44...\n"
     ]
    },
    {
     "data": {
      "text/html": [
       "<div>\n",
       "<style scoped>\n",
       "    .dataframe tbody tr th:only-of-type {\n",
       "        vertical-align: middle;\n",
       "    }\n",
       "\n",
       "    .dataframe tbody tr th {\n",
       "        vertical-align: top;\n",
       "    }\n",
       "\n",
       "    .dataframe thead th {\n",
       "        text-align: right;\n",
       "    }\n",
       "</style>\n",
       "<table border=\"1\" class=\"dataframe\">\n",
       "  <thead>\n",
       "    <tr style=\"text-align: right;\">\n",
       "      <th></th>\n",
       "      <th>verse</th>\n",
       "      <th>clause</th>\n",
       "    </tr>\n",
       "    <tr>\n",
       "      <th>node</th>\n",
       "      <th></th>\n",
       "      <th></th>\n",
       "    </tr>\n",
       "  </thead>\n",
       "  <tbody>\n",
       "    <tr>\n",
       "      <th>433071</th>\n",
       "      <td>Gen 46:34</td>\n",
       "      <td>אַנְשֵׁ֨י מִקְנֶ֜ה הָי֤וּ עֲבָדֶ֨יךָ֙ מִנְּעוּ...</td>\n",
       "    </tr>\n",
       "    <tr>\n",
       "      <th>457835</th>\n",
       "      <td>1 Sam 30:17</td>\n",
       "      <td>וַיַּכֵּ֥ם דָּוִ֛ד מֵהַנֶּ֥שֶׁף וְעַד־הָעֶ֖רֶב...</td>\n",
       "    </tr>\n",
       "    <tr>\n",
       "      <th>476611</th>\n",
       "      <td>Jer 25:3</td>\n",
       "      <td>מִן־שְׁלֹ֣שׁ עֶשְׂרֵ֣ה שָׁנָ֡ה לְיֹאשִׁיָּ֣הוּ...</td>\n",
       "    </tr>\n",
       "    <tr>\n",
       "      <th>496662</th>\n",
       "      <td>Ps 125:2</td>\n",
       "      <td>וַ֭יהוָה סָבִ֣יב לְעַמֹּ֑ו מֵ֝עַתָּ֗ה וְעַד־עֹ...</td>\n",
       "    </tr>\n",
       "    <tr>\n",
       "      <th>512275</th>\n",
       "      <td>1 Chr 29:10</td>\n",
       "      <td>בָּר֨וּךְ אַתָּ֤ה מֵעֹולָ֖ם וְעַד־עֹולָֽם׃</td>\n",
       "    </tr>\n",
       "  </tbody>\n",
       "</table>\n",
       "</div>"
      ],
      "text/plain": [
       "              verse                                             clause\n",
       "node                                                                  \n",
       "433071    Gen 46:34  אַנְשֵׁ֨י מִקְנֶ֜ה הָי֤וּ עֲבָדֶ֨יךָ֙ מִנְּעוּ...\n",
       "457835  1 Sam 30:17  וַיַּכֵּ֥ם דָּוִ֛ד מֵהַנֶּ֥שֶׁף וְעַד־הָעֶ֖רֶב...\n",
       "476611     Jer 25:3  מִן־שְׁלֹ֣שׁ עֶשְׂרֵ֣ה שָׁנָ֡ה לְיֹאשִׁיָּ֣הוּ...\n",
       "496662     Ps 125:2  וַ֭יהוָה סָבִ֣יב לְעַמֹּ֑ו מֵ֝עַתָּ֗ה וְעַד־עֹ...\n",
       "512275  1 Chr 29:10        בָּר֨וּךְ אַתָּ֤ה מֵעֹולָ֖ם וְעַד־עֹולָֽם׃ "
      ]
     },
     "execution_count": 152,
     "metadata": {},
     "output_type": "execute_result"
    }
   ],
   "source": [
    "out.examples(\n",
    "    df[\n",
    "        (df.function == 'begin_to_end')\n",
    "        & (df.lex_str.str.contains('עד'))\n",
    "    ],\n",
    "    'antdur_begintoend_exs',\n",
    "    spread=5,\n",
    ")"
   ]
  },
  {
   "cell_type": "code",
   "execution_count": 154,
   "metadata": {},
   "outputs": [
    {
     "name": "stdout",
     "output_type": "stream",
     "text": [
      "exporting 3 of 3...\n"
     ]
    },
    {
     "data": {
      "text/html": [
       "<div>\n",
       "<style scoped>\n",
       "    .dataframe tbody tr th:only-of-type {\n",
       "        vertical-align: middle;\n",
       "    }\n",
       "\n",
       "    .dataframe tbody tr th {\n",
       "        vertical-align: top;\n",
       "    }\n",
       "\n",
       "    .dataframe thead th {\n",
       "        text-align: right;\n",
       "    }\n",
       "</style>\n",
       "<table border=\"1\" class=\"dataframe\">\n",
       "  <thead>\n",
       "    <tr style=\"text-align: right;\">\n",
       "      <th></th>\n",
       "      <th>verse</th>\n",
       "      <th>clause</th>\n",
       "    </tr>\n",
       "    <tr>\n",
       "      <th>node</th>\n",
       "      <th></th>\n",
       "      <th></th>\n",
       "    </tr>\n",
       "  </thead>\n",
       "  <tbody>\n",
       "    <tr>\n",
       "      <th>470741</th>\n",
       "      <td>Isa 34:10</td>\n",
       "      <td>מִדֹּ֤ור לָדֹור֙ תֶּחֱרָ֔ב</td>\n",
       "    </tr>\n",
       "    <tr>\n",
       "      <th>495016</th>\n",
       "      <td>Ps 96:2</td>\n",
       "      <td>בַּשְּׂר֥וּ מִיֹּֽום־לְ֝יֹ֗ום יְשׁוּעָתֹֽו׃</td>\n",
       "    </tr>\n",
       "    <tr>\n",
       "      <th>497794</th>\n",
       "      <td>Job 4:20</td>\n",
       "      <td>מִבֹּ֣קֶר לָעֶ֣רֶב יֻכַּ֑תּוּ</td>\n",
       "    </tr>\n",
       "  </tbody>\n",
       "</table>\n",
       "</div>"
      ],
      "text/plain": [
       "            verse                                        clause\n",
       "node                                                           \n",
       "470741  Isa 34:10                   מִדֹּ֤ור לָדֹור֙ תֶּחֱרָ֔ב \n",
       "495016    Ps 96:2  בַּשְּׂר֥וּ מִיֹּֽום־לְ֝יֹ֗ום יְשׁוּעָתֹֽו׃ \n",
       "497794   Job 4:20                מִבֹּ֣קֶר לָעֶ֣רֶב יֻכַּ֑תּוּ "
      ]
     },
     "execution_count": 154,
     "metadata": {},
     "output_type": "execute_result"
    }
   ],
   "source": [
    "out.examples(\n",
    "    df[\n",
    "        (df.function == 'begin_to_end')\n",
    "        & (df.verse.isin(['Isa 34:10', 'Ps 96:2', 'Job 4:20']))\n",
    "    ],\n",
    "    'antdur_Lbegintoend_exs',\n",
    "    spread=5,\n",
    ")"
   ]
  },
  {
   "cell_type": "code",
   "execution_count": 160,
   "metadata": {},
   "outputs": [
    {
     "name": "stdout",
     "output_type": "stream",
     "text": [
      "exporting 3 of 3...\n"
     ]
    },
    {
     "data": {
      "text/html": [
       "<div>\n",
       "<style scoped>\n",
       "    .dataframe tbody tr th:only-of-type {\n",
       "        vertical-align: middle;\n",
       "    }\n",
       "\n",
       "    .dataframe tbody tr th {\n",
       "        vertical-align: top;\n",
       "    }\n",
       "\n",
       "    .dataframe thead th {\n",
       "        text-align: right;\n",
       "    }\n",
       "</style>\n",
       "<table border=\"1\" class=\"dataframe\">\n",
       "  <thead>\n",
       "    <tr style=\"text-align: right;\">\n",
       "      <th></th>\n",
       "      <th>verse</th>\n",
       "      <th>clause</th>\n",
       "    </tr>\n",
       "    <tr>\n",
       "      <th>node</th>\n",
       "      <th></th>\n",
       "      <th></th>\n",
       "    </tr>\n",
       "  </thead>\n",
       "  <tbody>\n",
       "    <tr>\n",
       "      <th>469151</th>\n",
       "      <td>Isa 13:20</td>\n",
       "      <td>וְלֹ֥א תִשְׁכֹּ֖ן עַד־דֹּ֣ור וָדֹ֑ור</td>\n",
       "    </tr>\n",
       "    <tr>\n",
       "      <th>479598</th>\n",
       "      <td>Jer 50:39</td>\n",
       "      <td>וְלֹ֥א תִשְׁכֹּ֖ון עַד־דֹּ֥ור וָדֹֽור׃</td>\n",
       "    </tr>\n",
       "    <tr>\n",
       "      <th>492561</th>\n",
       "      <td>Ps 49:20</td>\n",
       "      <td>עַד־נֵ֝֗צַח לֹ֣א יִרְאוּ־אֹֽור׃</td>\n",
       "    </tr>\n",
       "  </tbody>\n",
       "</table>\n",
       "</div>"
      ],
      "text/plain": [
       "            verse                                   clause\n",
       "node                                                      \n",
       "469151  Isa 13:20    וְלֹ֥א תִשְׁכֹּ֖ן עַד־דֹּ֣ור וָדֹ֑ור \n",
       "479598  Jer 50:39  וְלֹ֥א תִשְׁכֹּ֖ון עַד־דֹּ֥ור וָדֹֽור׃ \n",
       "492561   Ps 49:20         עַד־נֵ֝֗צַח לֹ֣א יִרְאוּ־אֹֽור׃ "
      ]
     },
     "execution_count": 160,
     "metadata": {},
     "output_type": "execute_result"
    }
   ],
   "source": [
    "out.examples(\n",
    "    df[\n",
    "        (df.lex_str.str.contains('עד'))\n",
    "        & (df.verse.isin(['Isa 13:20', 'Jer 50:39', 'Ps 49:20', 'Ps 100:5']))\n",
    "    ],\n",
    "    'antdur_<D_exs',\n",
    "    spread=5,\n",
    ")"
   ]
  },
  {
   "cell_type": "code",
   "execution_count": 169,
   "metadata": {},
   "outputs": [
    {
     "name": "stdout",
     "output_type": "stream",
     "text": [
      "exporting 5 of 38...\n"
     ]
    },
    {
     "data": {
      "text/html": [
       "<div>\n",
       "<style scoped>\n",
       "    .dataframe tbody tr th:only-of-type {\n",
       "        vertical-align: middle;\n",
       "    }\n",
       "\n",
       "    .dataframe tbody tr th {\n",
       "        vertical-align: top;\n",
       "    }\n",
       "\n",
       "    .dataframe thead th {\n",
       "        text-align: right;\n",
       "    }\n",
       "</style>\n",
       "<table border=\"1\" class=\"dataframe\">\n",
       "  <thead>\n",
       "    <tr style=\"text-align: right;\">\n",
       "      <th></th>\n",
       "      <th>verse</th>\n",
       "      <th>clause</th>\n",
       "    </tr>\n",
       "    <tr>\n",
       "      <th>node</th>\n",
       "      <th></th>\n",
       "      <th></th>\n",
       "    </tr>\n",
       "  </thead>\n",
       "  <tbody>\n",
       "    <tr>\n",
       "      <th>438414</th>\n",
       "      <td>Lev 7:15</td>\n",
       "      <td>לֹֽא־יַנִּ֥יחַ מִמֶּ֖נּוּ עַד־בֹּֽקֶר׃</td>\n",
       "    </tr>\n",
       "    <tr>\n",
       "      <th>439359</th>\n",
       "      <td>Lev 14:46</td>\n",
       "      <td>וְיִטְמָ֖א עַד־הָעָֽרֶב׃</td>\n",
       "    </tr>\n",
       "    <tr>\n",
       "      <th>439456</th>\n",
       "      <td>Lev 15:17</td>\n",
       "      <td>וְטָמֵ֥א עַד־הָעָֽרֶב׃ פ</td>\n",
       "    </tr>\n",
       "    <tr>\n",
       "      <th>439859</th>\n",
       "      <td>Lev 19:13</td>\n",
       "      <td>לֹֽא־תָלִ֞ין פְּעֻלַּ֥ת שָׂכִ֛יר אִתְּךָ֖ עַד־...</td>\n",
       "    </tr>\n",
       "    <tr>\n",
       "      <th>440885</th>\n",
       "      <td>Lev 27:18</td>\n",
       "      <td>הַנֹּ֣ותָרֹ֔ת עַ֖ד שְׁנַ֣ת הַיֹּבֵ֑ל</td>\n",
       "    </tr>\n",
       "  </tbody>\n",
       "</table>\n",
       "</div>"
      ],
      "text/plain": [
       "            verse                                             clause\n",
       "node                                                                \n",
       "438414   Lev 7:15            לֹֽא־יַנִּ֥יחַ מִמֶּ֖נּוּ עַד־בֹּֽקֶר׃ \n",
       "439359  Lev 14:46                          וְיִטְמָ֖א עַד־הָעָֽרֶב׃ \n",
       "439456  Lev 15:17                          וְטָמֵ֥א עַד־הָעָֽרֶב׃ פ \n",
       "439859  Lev 19:13  לֹֽא־תָלִ֞ין פְּעֻלַּ֥ת שָׂכִ֛יר אִתְּךָ֖ עַד־...\n",
       "440885  Lev 27:18              הַנֹּ֣ותָרֹ֔ת עַ֖ד שְׁנַ֣ת הַיֹּבֵ֑ל "
      ]
     },
     "execution_count": 169,
     "metadata": {},
     "output_type": "execute_result"
    }
   ],
   "source": [
    "out.examples(\n",
    "    antdurdf[antdurdf.book == 'Leviticus'],\n",
    "    'antdur_Lev_exs',\n",
    "    spread=5,\n",
    ")"
   ]
  },
  {
   "cell_type": "code",
   "execution_count": 170,
   "metadata": {},
   "outputs": [
    {
     "name": "stdout",
     "output_type": "stream",
     "text": [
      "exporting 5 of 138...\n"
     ]
    },
    {
     "data": {
      "text/html": [
       "<div>\n",
       "<style scoped>\n",
       "    .dataframe tbody tr th:only-of-type {\n",
       "        vertical-align: middle;\n",
       "    }\n",
       "\n",
       "    .dataframe tbody tr th {\n",
       "        vertical-align: top;\n",
       "    }\n",
       "\n",
       "    .dataframe thead th {\n",
       "        text-align: right;\n",
       "    }\n",
       "</style>\n",
       "<table border=\"1\" class=\"dataframe\">\n",
       "  <thead>\n",
       "    <tr style=\"text-align: right;\">\n",
       "      <th></th>\n",
       "      <th>verse</th>\n",
       "      <th>clause</th>\n",
       "    </tr>\n",
       "    <tr>\n",
       "      <th>node</th>\n",
       "      <th></th>\n",
       "      <th></th>\n",
       "    </tr>\n",
       "  </thead>\n",
       "  <tbody>\n",
       "    <tr>\n",
       "      <th>428203</th>\n",
       "      <td>Gen 8:5</td>\n",
       "      <td>וְהַמַּ֗יִם הָיוּ֙ הָלֹ֣וךְ וְחָסֹ֔ור עַ֖ד הַח...</td>\n",
       "    </tr>\n",
       "    <tr>\n",
       "      <th>439716</th>\n",
       "      <td>Lev 17:15</td>\n",
       "      <td>וְטָמֵ֥א עַד־הָעֶ֖רֶב</td>\n",
       "    </tr>\n",
       "    <tr>\n",
       "      <th>451194</th>\n",
       "      <td>Judg 1:26</td>\n",
       "      <td>ה֣וּא שְׁמָ֔הּ עַ֖ד הַיֹּ֥ום הַזֶּֽה׃ פ</td>\n",
       "    </tr>\n",
       "    <tr>\n",
       "      <th>466401</th>\n",
       "      <td>2 Kgs 10:27</td>\n",
       "      <td>וַיְשִׂמֻ֥הוּ לְמֹֽוצָאֹ֖ות עַד־הַיֹּֽום׃</td>\n",
       "    </tr>\n",
       "    <tr>\n",
       "      <th>515582</th>\n",
       "      <td>2 Chr 35:25</td>\n",
       "      <td>וַיֹּאמְר֣וּ כָֽל־הַשָּׁרִ֣ים׀ וְ֠הַשָּׁרֹות ב...</td>\n",
       "    </tr>\n",
       "  </tbody>\n",
       "</table>\n",
       "</div>"
      ],
      "text/plain": [
       "              verse                                             clause\n",
       "node                                                                  \n",
       "428203      Gen 8:5  וְהַמַּ֗יִם הָיוּ֙ הָלֹ֣וךְ וְחָסֹ֔ור עַ֖ד הַח...\n",
       "439716    Lev 17:15                             וְטָמֵ֥א עַד־הָעֶ֖רֶב \n",
       "451194    Judg 1:26           ה֣וּא שְׁמָ֔הּ עַ֖ד הַיֹּ֥ום הַזֶּֽה׃ פ \n",
       "466401  2 Kgs 10:27         וַיְשִׂמֻ֥הוּ לְמֹֽוצָאֹ֖ות עַד־הַיֹּֽום׃ \n",
       "515582  2 Chr 35:25  וַיֹּאמְר֣וּ כָֽל־הַשָּׁרִ֣ים׀ וְ֠הַשָּׁרֹות ב..."
      ]
     },
     "execution_count": 170,
     "metadata": {},
     "output_type": "execute_result"
    }
   ],
   "source": [
    "out.examples(\n",
    "    antdurdf[\n",
    "        (antdurdf.DEF == 1)\n",
    "        | (antdurdf.DEMON == 1)\n",
    "    ],\n",
    "    'antdur_defdem_exs',\n",
    "    spread=5,\n",
    ")"
   ]
  },
  {
   "cell_type": "markdown",
   "metadata": {},
   "source": [
    "## Posterior Durative"
   ]
  },
  {
   "cell_type": "code",
   "execution_count": 175,
   "metadata": {},
   "outputs": [],
   "source": [
    "posddf = funct2data['posterior_dur']['df']"
   ]
  },
  {
   "cell_type": "code",
   "execution_count": 176,
   "metadata": {},
   "outputs": [
    {
     "data": {
      "text/html": [
       "<div>\n",
       "<style scoped>\n",
       "    .dataframe tbody tr th:only-of-type {\n",
       "        vertical-align: middle;\n",
       "    }\n",
       "\n",
       "    .dataframe tbody tr th {\n",
       "        vertical-align: top;\n",
       "    }\n",
       "\n",
       "    .dataframe thead th {\n",
       "        text-align: right;\n",
       "    }\n",
       "</style>\n",
       "<table border=\"1\" class=\"dataframe\">\n",
       "  <thead>\n",
       "    <tr style=\"text-align: right;\">\n",
       "      <th></th>\n",
       "      <th>verse</th>\n",
       "      <th>clause</th>\n",
       "    </tr>\n",
       "    <tr>\n",
       "      <th>node</th>\n",
       "      <th></th>\n",
       "      <th></th>\n",
       "    </tr>\n",
       "  </thead>\n",
       "  <tbody>\n",
       "    <tr>\n",
       "      <th>490132</th>\n",
       "      <td>Mal 3:7</td>\n",
       "      <td>לְמִימֵ֨י אֲבֹתֵיכֶ֜ם סַרְתֶּ֤ם מֵֽחֻקַּי֙</td>\n",
       "    </tr>\n",
       "  </tbody>\n",
       "</table>\n",
       "</div>"
      ],
      "text/plain": [
       "          verse                                       clause\n",
       "node                                                        \n",
       "490132  Mal 3:7  לְמִימֵ֨י אֲבֹתֵיכֶ֜ם סַרְתֶּ֤ם מֵֽחֻקַּי֙ "
      ]
     },
     "execution_count": 176,
     "metadata": {},
     "output_type": "execute_result"
    }
   ],
   "source": [
    "out.examples(\n",
    "    postdurdf[posddf.front == 'לְ+מִן'],\n",
    "    'LMN_post_ex'\n",
    ")"
   ]
  },
  {
   "cell_type": "code",
   "execution_count": 178,
   "metadata": {},
   "outputs": [
    {
     "name": "stdout",
     "output_type": "stream",
     "text": [
      "exporting 5 of 10...\n"
     ]
    },
    {
     "data": {
      "text/html": [
       "<div>\n",
       "<style scoped>\n",
       "    .dataframe tbody tr th:only-of-type {\n",
       "        vertical-align: middle;\n",
       "    }\n",
       "\n",
       "    .dataframe tbody tr th {\n",
       "        vertical-align: top;\n",
       "    }\n",
       "\n",
       "    .dataframe thead th {\n",
       "        text-align: right;\n",
       "    }\n",
       "</style>\n",
       "<table border=\"1\" class=\"dataframe\">\n",
       "  <thead>\n",
       "    <tr style=\"text-align: right;\">\n",
       "      <th></th>\n",
       "      <th>verse</th>\n",
       "      <th>clause</th>\n",
       "    </tr>\n",
       "    <tr>\n",
       "      <th>node</th>\n",
       "      <th></th>\n",
       "      <th></th>\n",
       "    </tr>\n",
       "  </thead>\n",
       "  <tbody>\n",
       "    <tr>\n",
       "      <th>461161</th>\n",
       "      <td>1 Kgs 1:6</td>\n",
       "      <td>וְלֹֽא־עֲצָבֹ֨ו אָבִ֤יו מִיָּמָיו֙</td>\n",
       "    </tr>\n",
       "    <tr>\n",
       "      <th>488181</th>\n",
       "      <td>Nah 2:9</td>\n",
       "      <td>וְנִינְוֵ֥ה כִבְרֵֽכַת־מַ֖יִם מִ֣ימֵי הִ֑יא</td>\n",
       "    </tr>\n",
       "    <tr>\n",
       "      <th>504767</th>\n",
       "      <td>Lam 1:7</td>\n",
       "      <td>אֲשֶׁ֥ר הָי֖וּ מִ֣ימֵי קֶ֑דֶם</td>\n",
       "    </tr>\n",
       "    <tr>\n",
       "      <th>507928</th>\n",
       "      <td>Ezra 4:2</td>\n",
       "      <td>וְלֹ֣ו ׀ אֲנַ֣חְנוּ זֹבְחִ֗ים מִימֵי֙ אֵסַ֤ר ח...</td>\n",
       "    </tr>\n",
       "    <tr>\n",
       "      <th>515543</th>\n",
       "      <td>2 Chr 35:18</td>\n",
       "      <td>וְלֹֽא־נַעֲשָׂ֨ה פֶ֤סַח כָּמֹ֨הוּ֙ בְּיִשְׂרָא...</td>\n",
       "    </tr>\n",
       "  </tbody>\n",
       "</table>\n",
       "</div>"
      ],
      "text/plain": [
       "              verse                                             clause\n",
       "node                                                                  \n",
       "461161    1 Kgs 1:6                וְלֹֽא־עֲצָבֹ֨ו אָבִ֤יו מִיָּמָיו֙ \n",
       "488181      Nah 2:9       וְנִינְוֵ֥ה כִבְרֵֽכַת־מַ֖יִם מִ֣ימֵי הִ֑יא \n",
       "504767      Lam 1:7                     אֲשֶׁ֥ר הָי֖וּ מִ֣ימֵי קֶ֑דֶם \n",
       "507928     Ezra 4:2  וְלֹ֣ו ׀ אֲנַ֣חְנוּ זֹבְחִ֗ים מִימֵי֙ אֵסַ֤ר ח...\n",
       "515543  2 Chr 35:18  וְלֹֽא־נַעֲשָׂ֨ה פֶ֤סַח כָּמֹ֨הוּ֙ בְּיִשְׂרָא..."
      ]
     },
     "execution_count": 178,
     "metadata": {},
     "output_type": "execute_result"
    }
   ],
   "source": [
    "out.examples(\n",
    "    posddf[\n",
    "        (posddf.PL == 1)\n",
    "        & (posddf.times_etcbc == 'JWM/')\n",
    "    ],\n",
    "    'postdur_days_ex',\n",
    "    spread=5,\n",
    ")"
   ]
  },
  {
   "cell_type": "markdown",
   "metadata": {},
   "source": [
    "## Dist Past / Future"
   ]
  },
  {
   "cell_type": "code",
   "execution_count": 179,
   "metadata": {},
   "outputs": [],
   "source": [
    "distdf = df[df.function.isin(['dist_past', 'dist_fut'])]"
   ]
  },
  {
   "cell_type": "code",
   "execution_count": 181,
   "metadata": {},
   "outputs": [
    {
     "data": {
      "text/html": [
       "<div>\n",
       "<style scoped>\n",
       "    .dataframe tbody tr th:only-of-type {\n",
       "        vertical-align: middle;\n",
       "    }\n",
       "\n",
       "    .dataframe tbody tr th {\n",
       "        vertical-align: top;\n",
       "    }\n",
       "\n",
       "    .dataframe thead th {\n",
       "        text-align: right;\n",
       "    }\n",
       "</style>\n",
       "<table border=\"1\" class=\"dataframe\">\n",
       "  <thead>\n",
       "    <tr style=\"text-align: right;\">\n",
       "      <th></th>\n",
       "      <th>verse</th>\n",
       "      <th>clause</th>\n",
       "    </tr>\n",
       "    <tr>\n",
       "      <th>node</th>\n",
       "      <th></th>\n",
       "      <th></th>\n",
       "    </tr>\n",
       "  </thead>\n",
       "  <tbody>\n",
       "    <tr>\n",
       "      <th>432107</th>\n",
       "      <td>Gen 40:13</td>\n",
       "      <td>בְּעֹ֣וד׀ שְׁלֹ֣שֶׁת יָמִ֗ים יִשָּׂ֤א פַרְעֹה֙...</td>\n",
       "    </tr>\n",
       "    <tr>\n",
       "      <th>432132</th>\n",
       "      <td>Gen 40:19</td>\n",
       "      <td>בְּעֹ֣וד׀ שְׁלֹ֣שֶׁת יָמִ֗ים יִשָּׂ֨א פַרְעֹ֤ה...</td>\n",
       "    </tr>\n",
       "    <tr>\n",
       "      <th>448778</th>\n",
       "      <td>Josh 1:11</td>\n",
       "      <td>כִּ֞י בְּעֹ֣וד׀ שְׁלֹ֣שֶׁת יָמִ֗ים אַתֶּם֙ עֹֽ...</td>\n",
       "    </tr>\n",
       "    <tr>\n",
       "      <th>468659</th>\n",
       "      <td>Isa 7:8</td>\n",
       "      <td>וּבְעֹ֗וד שִׁשִּׁ֤ים וְחָמֵשׁ֙ שָׁנָ֔ה יֵחַ֥ת ...</td>\n",
       "    </tr>\n",
       "    <tr>\n",
       "      <th>470561</th>\n",
       "      <td>Isa 32:10</td>\n",
       "      <td>יָמִים֙ עַל־שָׁנָ֔ה תִּרְגַּ֖זְנָה</td>\n",
       "    </tr>\n",
       "    <tr>\n",
       "      <th>486871</th>\n",
       "      <td>Amos 4:7</td>\n",
       "      <td>וְגַ֣ם אָנֹכִי֩ מָנַ֨עְתִּי מִכֶּ֜ם אֶת־הַגֶּ֗...</td>\n",
       "    </tr>\n",
       "    <tr>\n",
       "      <th>507564</th>\n",
       "      <td>Dan 11:20</td>\n",
       "      <td>וּבְיָמִ֤ים אֲחָדִים֙ יִשָּׁבֵ֔ר</td>\n",
       "    </tr>\n",
       "  </tbody>\n",
       "</table>\n",
       "</div>"
      ],
      "text/plain": [
       "            verse                                             clause\n",
       "node                                                                \n",
       "432107  Gen 40:13  בְּעֹ֣וד׀ שְׁלֹ֣שֶׁת יָמִ֗ים יִשָּׂ֤א פַרְעֹה֙...\n",
       "432132  Gen 40:19  בְּעֹ֣וד׀ שְׁלֹ֣שֶׁת יָמִ֗ים יִשָּׂ֨א פַרְעֹ֤ה...\n",
       "448778  Josh 1:11  כִּ֞י בְּעֹ֣וד׀ שְׁלֹ֣שֶׁת יָמִ֗ים אַתֶּם֙ עֹֽ...\n",
       "468659    Isa 7:8  וּבְעֹ֗וד שִׁשִּׁ֤ים וְחָמֵשׁ֙ שָׁנָ֔ה יֵחַ֥ת ...\n",
       "470561  Isa 32:10                יָמִים֙ עַל־שָׁנָ֔ה תִּרְגַּ֖זְנָה \n",
       "486871   Amos 4:7  וְגַ֣ם אָנֹכִי֩ מָנַ֨עְתִּי מִכֶּ֜ם אֶת־הַגֶּ֗...\n",
       "507564  Dan 11:20                  וּבְיָמִ֤ים אֲחָדִים֙ יִשָּׁבֵ֔ר "
      ]
     },
     "execution_count": 181,
     "metadata": {},
     "output_type": "execute_result"
    }
   ],
   "source": [
    "out.examples(\n",
    "    distdf[distdf.function == 'dist_fut'],\n",
    "    'disfut_exs',\n",
    ")"
   ]
  },
  {
   "cell_type": "code",
   "execution_count": 182,
   "metadata": {},
   "outputs": [
    {
     "data": {
      "text/html": [
       "<div>\n",
       "<style scoped>\n",
       "    .dataframe tbody tr th:only-of-type {\n",
       "        vertical-align: middle;\n",
       "    }\n",
       "\n",
       "    .dataframe tbody tr th {\n",
       "        vertical-align: top;\n",
       "    }\n",
       "\n",
       "    .dataframe thead th {\n",
       "        text-align: right;\n",
       "    }\n",
       "</style>\n",
       "<table border=\"1\" class=\"dataframe\">\n",
       "  <thead>\n",
       "    <tr style=\"text-align: right;\">\n",
       "      <th></th>\n",
       "      <th>verse</th>\n",
       "      <th>clause</th>\n",
       "    </tr>\n",
       "    <tr>\n",
       "      <th>node</th>\n",
       "      <th></th>\n",
       "      <th></th>\n",
       "    </tr>\n",
       "  </thead>\n",
       "  <tbody>\n",
       "    <tr>\n",
       "      <th>434026</th>\n",
       "      <td>Exod 5:8</td>\n",
       "      <td>אֲשֶׁ֣ר הֵם֩ עֹשִׂ֨ים תְּמֹ֤ול שִׁלְשֹׁם֙</td>\n",
       "    </tr>\n",
       "    <tr>\n",
       "      <th>454375</th>\n",
       "      <td>1 Sam 4:7</td>\n",
       "      <td>כִּ֣י לֹ֥א הָיְתָ֛ה כָּזֹ֖את אֶתְמֹ֥ול שִׁלְשׁ...</td>\n",
       "    </tr>\n",
       "    <tr>\n",
       "      <th>503000</th>\n",
       "      <td>Ruth 2:11</td>\n",
       "      <td>אֲשֶׁ֥ר לֹא־יָדַ֖עַתְּ תְּמֹ֥ול שִׁלְשֹֽׁום׃</td>\n",
       "    </tr>\n",
       "  </tbody>\n",
       "</table>\n",
       "</div>"
      ],
      "text/plain": [
       "            verse                                             clause\n",
       "node                                                                \n",
       "434026   Exod 5:8         אֲשֶׁ֣ר הֵם֩ עֹשִׂ֨ים תְּמֹ֤ול שִׁלְשֹׁם֙ \n",
       "454375  1 Sam 4:7  כִּ֣י לֹ֥א הָיְתָ֛ה כָּזֹ֖את אֶתְמֹ֥ול שִׁלְשׁ...\n",
       "503000  Ruth 2:11      אֲשֶׁ֥ר לֹא־יָדַ֖עַתְּ תְּמֹ֥ול שִׁלְשֹֽׁום׃ "
      ]
     },
     "execution_count": 182,
     "metadata": {},
     "output_type": "execute_result"
    }
   ],
   "source": [
    "out.examples(\n",
    "    distdf[distdf.function == 'dist_past'],\n",
    "    'dispast_exs',\n",
    ")"
   ]
  },
  {
   "cell_type": "markdown",
   "metadata": {},
   "source": [
    "## Regular recurrence"
   ]
  },
  {
   "cell_type": "code",
   "execution_count": 183,
   "metadata": {},
   "outputs": [],
   "source": [
    "regdf = df[df.function == 'reg_recur'].copy()"
   ]
  },
  {
   "cell_type": "code",
   "execution_count": 184,
   "metadata": {},
   "outputs": [
    {
     "data": {
      "text/html": [
       "<div>\n",
       "<style scoped>\n",
       "    .dataframe tbody tr th:only-of-type {\n",
       "        vertical-align: middle;\n",
       "    }\n",
       "\n",
       "    .dataframe tbody tr th {\n",
       "        vertical-align: top;\n",
       "    }\n",
       "\n",
       "    .dataframe thead th {\n",
       "        text-align: right;\n",
       "    }\n",
       "</style>\n",
       "<table border=\"1\" class=\"dataframe\">\n",
       "  <thead>\n",
       "    <tr style=\"text-align: right;\">\n",
       "      <th></th>\n",
       "      <th>count</th>\n",
       "      <th>percent</th>\n",
       "    </tr>\n",
       "  </thead>\n",
       "  <tbody>\n",
       "    <tr>\n",
       "      <th>ל.זמן</th>\n",
       "      <td>21</td>\n",
       "      <td>26%</td>\n",
       "    </tr>\n",
       "    <tr>\n",
       "      <th>ב.כל.זמן</th>\n",
       "      <td>18</td>\n",
       "      <td>22%</td>\n",
       "    </tr>\n",
       "    <tr>\n",
       "      <th>ב.זמן.ב.זמן</th>\n",
       "      <td>17</td>\n",
       "      <td>21%</td>\n",
       "    </tr>\n",
       "    <tr>\n",
       "      <th>זמן.ב.זמן</th>\n",
       "      <td>11</td>\n",
       "      <td>14%</td>\n",
       "    </tr>\n",
       "    <tr>\n",
       "      <th>זמן.זמן</th>\n",
       "      <td>8</td>\n",
       "      <td>10%</td>\n",
       "    </tr>\n",
       "    <tr>\n",
       "      <th>ל.זמן.ל.זמן</th>\n",
       "      <td>3</td>\n",
       "      <td>4%</td>\n",
       "    </tr>\n",
       "    <tr>\n",
       "      <th>זמן.על.זמן</th>\n",
       "      <td>1</td>\n",
       "      <td>1%</td>\n",
       "    </tr>\n",
       "    <tr>\n",
       "      <th>בין.זמן</th>\n",
       "      <td>1</td>\n",
       "      <td>1%</td>\n",
       "    </tr>\n",
       "  </tbody>\n",
       "</table>\n",
       "</div>"
      ],
      "text/plain": [
       "             count percent\n",
       "ל.זמן           21     26%\n",
       "ב.כל.זמן        18     22%\n",
       "ב.זמן.ב.זמן     17     21%\n",
       "זמן.ב.זמן       11     14%\n",
       "זמן.זמן          8     10%\n",
       "ל.זמן.ל.זמן      3      4%\n",
       "זמן.על.זמן       1      1%\n",
       "בין.זמן          1      1%"
      ]
     },
     "execution_count": 184,
     "metadata": {},
     "output_type": "execute_result"
    }
   ],
   "source": [
    "regtk_ct = regdf.reg_group.value_counts()\n",
    "regtk_pr = regtk_ct / regtk_ct.sum()\n",
    "regtk_cp = join_ct_pr(regtk_ct, regtk_pr)\n",
    "\n",
    "out.table(\n",
    "    regtk_cp,\n",
    "    'regtk_cp',\n",
    "    caption='Token Frequencies for Regular Recurrance Adverbials'\n",
    ")"
   ]
  },
  {
   "cell_type": "code",
   "execution_count": 186,
   "metadata": {},
   "outputs": [
    {
     "name": "stdout",
     "output_type": "stream",
     "text": [
      "exporting 5 of 8...\n"
     ]
    },
    {
     "data": {
      "text/html": [
       "<div>\n",
       "<style scoped>\n",
       "    .dataframe tbody tr th:only-of-type {\n",
       "        vertical-align: middle;\n",
       "    }\n",
       "\n",
       "    .dataframe tbody tr th {\n",
       "        vertical-align: top;\n",
       "    }\n",
       "\n",
       "    .dataframe thead th {\n",
       "        text-align: right;\n",
       "    }\n",
       "</style>\n",
       "<table border=\"1\" class=\"dataframe\">\n",
       "  <thead>\n",
       "    <tr style=\"text-align: right;\">\n",
       "      <th></th>\n",
       "      <th>verse</th>\n",
       "      <th>clause</th>\n",
       "    </tr>\n",
       "    <tr>\n",
       "      <th>node</th>\n",
       "      <th></th>\n",
       "      <th></th>\n",
       "    </tr>\n",
       "  </thead>\n",
       "  <tbody>\n",
       "    <tr>\n",
       "      <th>431998</th>\n",
       "      <td>Gen 39:10</td>\n",
       "      <td>כְּדַבְּרָ֥הּ אֶל־יֹוסֵ֖ף יֹ֣ום׀ יֹ֑ום</td>\n",
       "    </tr>\n",
       "    <tr>\n",
       "      <th>446539</th>\n",
       "      <td>Deut 14:22</td>\n",
       "      <td>הַיֹּצֵ֥א הַשָּׂדֶ֖ה שָׁנָ֥ה שָׁנָֽה׃</td>\n",
       "    </tr>\n",
       "    <tr>\n",
       "      <th>493418</th>\n",
       "      <td>Ps 68:20</td>\n",
       "      <td>יֹ֤ום׀ יֹ֥ום יַֽעֲמָס־לָ֗נוּ</td>\n",
       "    </tr>\n",
       "    <tr>\n",
       "      <th>501031</th>\n",
       "      <td>Prov 8:34</td>\n",
       "      <td>לִשְׁקֹ֣ד עַל־דַּ֭לְתֹתַי יֹ֤ום׀ יֹ֑ום</td>\n",
       "    </tr>\n",
       "    <tr>\n",
       "      <th>505438</th>\n",
       "      <td>Esth 3:4</td>\n",
       "      <td>כְּאָמְרָ֤ם אֵלָיו֙ יֹ֣ום וָיֹ֔ום</td>\n",
       "    </tr>\n",
       "  </tbody>\n",
       "</table>\n",
       "</div>"
      ],
      "text/plain": [
       "             verse                                   clause\n",
       "node                                                       \n",
       "431998   Gen 39:10  כְּדַבְּרָ֥הּ אֶל־יֹוסֵ֖ף יֹ֣ום׀ יֹ֑ום \n",
       "446539  Deut 14:22   הַיֹּצֵ֥א הַשָּׂדֶ֖ה שָׁנָ֥ה שָׁנָֽה׃ \n",
       "493418    Ps 68:20            יֹ֤ום׀ יֹ֥ום יַֽעֲמָס־לָ֗נוּ \n",
       "501031   Prov 8:34  לִשְׁקֹ֣ד עַל־דַּ֭לְתֹתַי יֹ֤ום׀ יֹ֑ום \n",
       "505438    Esth 3:4       כְּאָמְרָ֤ם אֵלָיו֙ יֹ֣ום וָיֹ֔ום "
      ]
     },
     "execution_count": 186,
     "metadata": {},
     "output_type": "execute_result"
    }
   ],
   "source": [
    "out.examples(\n",
    "    regdf[regdf.reg_group == 'זמן.זמן'],\n",
    "    'regrec_distr_exs',\n",
    "    spread=5\n",
    ")"
   ]
  },
  {
   "cell_type": "code",
   "execution_count": 187,
   "metadata": {},
   "outputs": [
    {
     "name": "stdout",
     "output_type": "stream",
     "text": [
      "exporting 5 of 17...\n"
     ]
    },
    {
     "data": {
      "text/html": [
       "<div>\n",
       "<style scoped>\n",
       "    .dataframe tbody tr th:only-of-type {\n",
       "        vertical-align: middle;\n",
       "    }\n",
       "\n",
       "    .dataframe tbody tr th {\n",
       "        vertical-align: top;\n",
       "    }\n",
       "\n",
       "    .dataframe thead th {\n",
       "        text-align: right;\n",
       "    }\n",
       "</style>\n",
       "<table border=\"1\" class=\"dataframe\">\n",
       "  <thead>\n",
       "    <tr style=\"text-align: right;\">\n",
       "      <th></th>\n",
       "      <th>verse</th>\n",
       "      <th>clause</th>\n",
       "    </tr>\n",
       "    <tr>\n",
       "      <th>node</th>\n",
       "      <th></th>\n",
       "      <th></th>\n",
       "    </tr>\n",
       "  </thead>\n",
       "  <tbody>\n",
       "    <tr>\n",
       "      <th>435342</th>\n",
       "      <td>Exod 16:21</td>\n",
       "      <td>וַיִּלְקְט֤וּ אֹתֹו֙ בַּבֹּ֣קֶר בַּבֹּ֔קֶר</td>\n",
       "    </tr>\n",
       "    <tr>\n",
       "      <th>440411</th>\n",
       "      <td>Lev 24:8</td>\n",
       "      <td>בְּיֹ֨ום הַשַּׁבָּ֜ת בְּיֹ֣ום הַשַּׁבָּ֗ת יַֽע...</td>\n",
       "    </tr>\n",
       "    <tr>\n",
       "      <th>485231</th>\n",
       "      <td>Ezek 46:3</td>\n",
       "      <td>וְהִשְׁתַּחֲו֣וּ עַם־הָאָ֗רֶץ פֶּ֚תַח הַשַּׁ֣ע...</td>\n",
       "    </tr>\n",
       "    <tr>\n",
       "      <th>485276</th>\n",
       "      <td>Ezek 46:15</td>\n",
       "      <td>יַעֲשׂ֨וּ אֶת־הַכֶּ֧בֶשׂ וְאֶת־הַמִּנְחָ֛ה וְאֶ...</td>\n",
       "    </tr>\n",
       "    <tr>\n",
       "      <th>513411</th>\n",
       "      <td>2 Chr 13:11</td>\n",
       "      <td>לְבָעֵר֙ בָּעֶ֣רֶב בָּעֶ֔רֶב</td>\n",
       "    </tr>\n",
       "  </tbody>\n",
       "</table>\n",
       "</div>"
      ],
      "text/plain": [
       "              verse                                             clause\n",
       "node                                                                  \n",
       "435342   Exod 16:21        וַיִּלְקְט֤וּ אֹתֹו֙ בַּבֹּ֣קֶר בַּבֹּ֔קֶר \n",
       "440411     Lev 24:8  בְּיֹ֨ום הַשַּׁבָּ֜ת בְּיֹ֣ום הַשַּׁבָּ֗ת יַֽע...\n",
       "485231    Ezek 46:3  וְהִשְׁתַּחֲו֣וּ עַם־הָאָ֗רֶץ פֶּ֚תַח הַשַּׁ֣ע...\n",
       "485276   Ezek 46:15  יַעֲשׂ֨וּ אֶת־הַכֶּ֧בֶשׂ וְאֶת־הַמִּנְחָ֛ה וְאֶ...\n",
       "513411  2 Chr 13:11                      לְבָעֵר֙ בָּעֶ֣רֶב בָּעֶ֔רֶב "
      ]
     },
     "execution_count": 187,
     "metadata": {},
     "output_type": "execute_result"
    }
   ],
   "source": [
    "out.examples(\n",
    "    regdf[regdf.reg_group == 'ב.זמן.ב.זמן'],\n",
    "    'regrec_prepdistr_exs',\n",
    "    spread=5\n",
    ")"
   ]
  },
  {
   "cell_type": "code",
   "execution_count": 188,
   "metadata": {},
   "outputs": [
    {
     "name": "stdout",
     "output_type": "stream",
     "text": [
      "exporting 5 of 11...\n"
     ]
    },
    {
     "data": {
      "text/html": [
       "<div>\n",
       "<style scoped>\n",
       "    .dataframe tbody tr th:only-of-type {\n",
       "        vertical-align: middle;\n",
       "    }\n",
       "\n",
       "    .dataframe tbody tr th {\n",
       "        vertical-align: top;\n",
       "    }\n",
       "\n",
       "    .dataframe thead th {\n",
       "        text-align: right;\n",
       "    }\n",
       "</style>\n",
       "<table border=\"1\" class=\"dataframe\">\n",
       "  <thead>\n",
       "    <tr style=\"text-align: right;\">\n",
       "      <th></th>\n",
       "      <th>verse</th>\n",
       "      <th>clause</th>\n",
       "    </tr>\n",
       "    <tr>\n",
       "      <th>node</th>\n",
       "      <th></th>\n",
       "      <th></th>\n",
       "    </tr>\n",
       "  </thead>\n",
       "  <tbody>\n",
       "    <tr>\n",
       "      <th>446653</th>\n",
       "      <td>Deut 15:20</td>\n",
       "      <td>לִפְנֵי֩ יְהוָ֨ה אֱלֹהֶ֤יךָ תֹאכֲלֶ֨נּוּ֙ שָׁנ...</td>\n",
       "    </tr>\n",
       "    <tr>\n",
       "      <th>461882</th>\n",
       "      <td>1 Kgs 5:25</td>\n",
       "      <td>כֹּֽה־יִתֵּ֧ן שְׁלֹמֹ֛ה לְחִירָ֖ם שָׁנָ֥ה בְשׁ...</td>\n",
       "    </tr>\n",
       "    <tr>\n",
       "      <th>489911</th>\n",
       "      <td>Zech 14:16</td>\n",
       "      <td>וְעָל֞וּ מִדֵּ֧י שָׁנָ֣ה בְשָׁנָ֗ה</td>\n",
       "    </tr>\n",
       "    <tr>\n",
       "      <th>512076</th>\n",
       "      <td>1 Chr 27:1</td>\n",
       "      <td>הַבָּאָ֤ה חֹ֣דֶשׁ בְּחֹ֔דֶשׁ לְכֹ֖ל חָדְשֵׁ֣י ...</td>\n",
       "    </tr>\n",
       "    <tr>\n",
       "      <th>515012</th>\n",
       "      <td>2 Chr 30:22</td>\n",
       "      <td>וַיֹּאכְל֤וּ אֶת־הַמֹּועֵד֙ שִׁבְעַ֣ת הַיָּמִ֔ים</td>\n",
       "    </tr>\n",
       "  </tbody>\n",
       "</table>\n",
       "</div>"
      ],
      "text/plain": [
       "              verse                                             clause\n",
       "node                                                                  \n",
       "446653   Deut 15:20  לִפְנֵי֩ יְהוָ֨ה אֱלֹהֶ֤יךָ תֹאכֲלֶ֨נּוּ֙ שָׁנ...\n",
       "461882   1 Kgs 5:25  כֹּֽה־יִתֵּ֧ן שְׁלֹמֹ֛ה לְחִירָ֖ם שָׁנָ֥ה בְשׁ...\n",
       "489911   Zech 14:16                וְעָל֞וּ מִדֵּ֧י שָׁנָ֣ה בְשָׁנָ֗ה \n",
       "512076   1 Chr 27:1  הַבָּאָ֤ה חֹ֣דֶשׁ בְּחֹ֔דֶשׁ לְכֹ֖ל חָדְשֵׁ֣י ...\n",
       "515012  2 Chr 30:22  וַיֹּאכְל֤וּ אֶת־הַמֹּועֵד֙ שִׁבְעַ֣ת הַיָּמִ֔ים "
      ]
     },
     "execution_count": 188,
     "metadata": {},
     "output_type": "execute_result"
    }
   ],
   "source": [
    "out.examples(\n",
    "    regdf[regdf.reg_group == 'זמן.ב.זמן'],\n",
    "    'regrec_distrmix_exs',\n",
    "    spread=5\n",
    ")"
   ]
  },
  {
   "cell_type": "code",
   "execution_count": 189,
   "metadata": {},
   "outputs": [
    {
     "name": "stdout",
     "output_type": "stream",
     "text": [
      "showing 1 of 1\n"
     ]
    },
    {
     "data": {
      "text/html": [
       "<style  type=\"text/css\" >\n",
       "#T_fad07_row0_col1{\n",
       "            font-size: 20px;\n",
       "             font-family:  Times New Roman;\n",
       "             text-align:  right;\n",
       "             max-width:  500px;\n",
       "        }</style><table id=\"T_fad07_\" ><thead>    <tr>        <th class=\"blank level0\" ></th>        <th class=\"col_heading level0 col0\" >verse</th>        <th class=\"col_heading level0 col1\" >clause</th>        <th class=\"col_heading level0 col2\" >notes</th>    </tr>    <tr>        <th class=\"index_name level0\" >node</th>        <th class=\"blank\" ></th>        <th class=\"blank\" ></th>        <th class=\"blank\" ></th>    </tr></thead><tbody>\n",
       "                <tr>\n",
       "                        <th id=\"T_fad07_level0_row0\" class=\"row_heading level0 row0\" >508976</th>\n",
       "                        <td id=\"T_fad07_row0_col0\" class=\"data row0 col0\" >Neh 5:18</td>\n",
       "                        <td id=\"T_fad07_row0_col1\" class=\"data row0 col1\" >וּבֵ֨ין עֲשֶׂ֧רֶת יָמִ֛ים בְּכָל־יַ֖יִן לְהַרְבֵּ֑ה </td>\n",
       "                        <td id=\"T_fad07_row0_col2\" class=\"data row0 col2\" >\"every ten days\"; More research needed on why this is read this way by the transs.</td>\n",
       "            </tr>\n",
       "    </tbody></table>"
      ],
      "text/plain": [
       "<pandas.io.formats.style.Styler at 0x7f99c8a37280>"
      ]
     },
     "execution_count": 189,
     "metadata": {},
     "output_type": "execute_result"
    }
   ],
   "source": [
    "ts.show(\n",
    "    regdf[regdf.reg_group == 'בין.זמן'],\n",
    "    extra=['notes']\n",
    ")"
   ]
  },
  {
   "cell_type": "code",
   "execution_count": 190,
   "metadata": {},
   "outputs": [
    {
     "name": "stdout",
     "output_type": "stream",
     "text": [
      "showing 1 of 1\n"
     ]
    },
    {
     "data": {
      "text/html": [
       "<style  type=\"text/css\" >\n",
       "#T_f4d35_row0_col1{\n",
       "            font-size: 20px;\n",
       "             font-family:  Times New Roman;\n",
       "             text-align:  right;\n",
       "             max-width:  500px;\n",
       "        }</style><table id=\"T_f4d35_\" ><thead>    <tr>        <th class=\"blank level0\" ></th>        <th class=\"col_heading level0 col0\" >verse</th>        <th class=\"col_heading level0 col1\" >clause</th>        <th class=\"col_heading level0 col2\" >notes</th>    </tr>    <tr>        <th class=\"index_name level0\" >node</th>        <th class=\"blank\" ></th>        <th class=\"blank\" ></th>        <th class=\"blank\" ></th>    </tr></thead><tbody>\n",
       "                <tr>\n",
       "                        <th id=\"T_f4d35_level0_row0\" class=\"row_heading level0 row0\" >514129</th>\n",
       "                        <td id=\"T_f4d35_row0_col0\" class=\"data row0 col0\" >2 Chr 21:15</td>\n",
       "                        <td id=\"T_f4d35_row0_col1\" class=\"data row0 col1\" >עַד־יֵצְא֤וּ מֵעֶ֨יךָ֙ מִן־הַחֹ֔לִי יָמִ֖ים עַל־יָמִֽים׃ </td>\n",
       "                        <td id=\"T_f4d35_row0_col2\" class=\"data row0 col2\" >nan</td>\n",
       "            </tr>\n",
       "    </tbody></table>"
      ],
      "text/plain": [
       "<pandas.io.formats.style.Styler at 0x7f99c6e5c070>"
      ]
     },
     "execution_count": 190,
     "metadata": {},
     "output_type": "execute_result"
    }
   ],
   "source": [
    "ts.show(\n",
    "    regdf[regdf.reg_group == 'זמן.על.זמן'],\n",
    "    extra=['notes']\n",
    ")"
   ]
  },
  {
   "cell_type": "markdown",
   "metadata": {},
   "source": [
    "### Do Modifier Counts for Regular Recurrence"
   ]
  },
  {
   "cell_type": "code",
   "execution_count": 191,
   "metadata": {},
   "outputs": [
    {
     "data": {
      "text/html": [
       "<div>\n",
       "<style scoped>\n",
       "    .dataframe tbody tr th:only-of-type {\n",
       "        vertical-align: middle;\n",
       "    }\n",
       "\n",
       "    .dataframe tbody tr th {\n",
       "        vertical-align: top;\n",
       "    }\n",
       "\n",
       "    .dataframe thead th {\n",
       "        text-align: right;\n",
       "    }\n",
       "</style>\n",
       "<table border=\"1\" class=\"dataframe\">\n",
       "  <thead>\n",
       "    <tr style=\"text-align: right;\">\n",
       "      <th>modtag2</th>\n",
       "      <th>DEF</th>\n",
       "      <th>KL</th>\n",
       "      <th>DEF+PL</th>\n",
       "      <th>C</th>\n",
       "      <th>PL</th>\n",
       "      <th>QUANT</th>\n",
       "      <th>NUM+PL</th>\n",
       "      <th>KL+DEF+PL</th>\n",
       "      <th>NUM</th>\n",
       "      <th>NUM+DEF+PL</th>\n",
       "    </tr>\n",
       "    <tr>\n",
       "      <th>reg_group</th>\n",
       "      <th></th>\n",
       "      <th></th>\n",
       "      <th></th>\n",
       "      <th></th>\n",
       "      <th></th>\n",
       "      <th></th>\n",
       "      <th></th>\n",
       "      <th></th>\n",
       "      <th></th>\n",
       "      <th></th>\n",
       "    </tr>\n",
       "  </thead>\n",
       "  <tbody>\n",
       "    <tr>\n",
       "      <th>ל.זמן</th>\n",
       "      <td>11</td>\n",
       "      <td>0</td>\n",
       "      <td>4</td>\n",
       "      <td>1</td>\n",
       "      <td>2</td>\n",
       "      <td>0</td>\n",
       "      <td>1</td>\n",
       "      <td>0</td>\n",
       "      <td>1</td>\n",
       "      <td>0</td>\n",
       "    </tr>\n",
       "    <tr>\n",
       "      <th>ב.כל.זמן</th>\n",
       "      <td>0</td>\n",
       "      <td>17</td>\n",
       "      <td>0</td>\n",
       "      <td>0</td>\n",
       "      <td>0</td>\n",
       "      <td>0</td>\n",
       "      <td>0</td>\n",
       "      <td>1</td>\n",
       "      <td>0</td>\n",
       "      <td>0</td>\n",
       "    </tr>\n",
       "    <tr>\n",
       "      <th>ב.זמן.ב.זמן</th>\n",
       "      <td>14</td>\n",
       "      <td>0</td>\n",
       "      <td>2</td>\n",
       "      <td>1</td>\n",
       "      <td>0</td>\n",
       "      <td>0</td>\n",
       "      <td>0</td>\n",
       "      <td>0</td>\n",
       "      <td>0</td>\n",
       "      <td>0</td>\n",
       "    </tr>\n",
       "    <tr>\n",
       "      <th>זמן.ב.זמן</th>\n",
       "      <td>0</td>\n",
       "      <td>0</td>\n",
       "      <td>0</td>\n",
       "      <td>1</td>\n",
       "      <td>0</td>\n",
       "      <td>3</td>\n",
       "      <td>0</td>\n",
       "      <td>0</td>\n",
       "      <td>0</td>\n",
       "      <td>1</td>\n",
       "    </tr>\n",
       "    <tr>\n",
       "      <th>ל.זמן.ל.זמן</th>\n",
       "      <td>1</td>\n",
       "      <td>0</td>\n",
       "      <td>2</td>\n",
       "      <td>0</td>\n",
       "      <td>0</td>\n",
       "      <td>0</td>\n",
       "      <td>0</td>\n",
       "      <td>0</td>\n",
       "      <td>0</td>\n",
       "      <td>0</td>\n",
       "    </tr>\n",
       "    <tr>\n",
       "      <th>בין.זמן</th>\n",
       "      <td>0</td>\n",
       "      <td>0</td>\n",
       "      <td>0</td>\n",
       "      <td>0</td>\n",
       "      <td>0</td>\n",
       "      <td>0</td>\n",
       "      <td>1</td>\n",
       "      <td>0</td>\n",
       "      <td>0</td>\n",
       "      <td>0</td>\n",
       "    </tr>\n",
       "    <tr>\n",
       "      <th>זמן.על.זמן</th>\n",
       "      <td>0</td>\n",
       "      <td>0</td>\n",
       "      <td>0</td>\n",
       "      <td>0</td>\n",
       "      <td>1</td>\n",
       "      <td>0</td>\n",
       "      <td>0</td>\n",
       "      <td>0</td>\n",
       "      <td>0</td>\n",
       "      <td>0</td>\n",
       "    </tr>\n",
       "  </tbody>\n",
       "</table>\n",
       "</div>"
      ],
      "text/plain": [
       "modtag2      DEF  KL  DEF+PL  C  PL  QUANT  NUM+PL  KL+DEF+PL  NUM  NUM+DEF+PL\n",
       "reg_group                                                                     \n",
       "ל.זמן         11   0       4  1   2      0       1          0    1           0\n",
       "ב.כל.זמן       0  17       0  0   0      0       0          1    0           0\n",
       "ב.זמן.ב.זמן   14   0       2  1   0      0       0          0    0           0\n",
       "זמן.ב.זמן      0   0       0  1   0      3       0          0    0           1\n",
       "ל.זמן.ל.זמן    1   0       2  0   0      0       0          0    0           0\n",
       "בין.זמן        0   0       0  0   0      0       1          0    0           0\n",
       "זמן.על.זמן     0   0       0  0   1      0       0          0    0           0"
      ]
     },
     "execution_count": 191,
     "metadata": {},
     "output_type": "execute_result"
    }
   ],
   "source": [
    "regrecmod_ct = pivot_ct(\n",
    "    regdf,\n",
    "    'reg_group',\n",
    "    'modtag2'\n",
    ")\n",
    "regrecmod_pr = regrecmod_ct.div(regrecmod_ct.sum(1), 0)\n",
    "regrecmod_pc = regrecmod_pr.mul(100).round().astype(int).astype(str)+'%'\n",
    "\n",
    "out.table(\n",
    "    regrecmod_ct,\n",
    "    'regrecmod_ct',\n",
    "    caption='Modifier Frequencies by Reg. Recurrence Patterns',\n",
    "    adjustbox=True,\n",
    ")"
   ]
  },
  {
   "cell_type": "code",
   "execution_count": 192,
   "metadata": {},
   "outputs": [
    {
     "data": {
      "text/html": [
       "<div>\n",
       "<style scoped>\n",
       "    .dataframe tbody tr th:only-of-type {\n",
       "        vertical-align: middle;\n",
       "    }\n",
       "\n",
       "    .dataframe tbody tr th {\n",
       "        vertical-align: top;\n",
       "    }\n",
       "\n",
       "    .dataframe thead th {\n",
       "        text-align: right;\n",
       "    }\n",
       "</style>\n",
       "<table border=\"1\" class=\"dataframe\">\n",
       "  <thead>\n",
       "    <tr style=\"text-align: right;\">\n",
       "      <th>modtag2</th>\n",
       "      <th>DEF</th>\n",
       "      <th>KL</th>\n",
       "      <th>DEF+PL</th>\n",
       "      <th>C</th>\n",
       "      <th>PL</th>\n",
       "      <th>QUANT</th>\n",
       "      <th>NUM+PL</th>\n",
       "      <th>KL+DEF+PL</th>\n",
       "      <th>NUM</th>\n",
       "      <th>NUM+DEF+PL</th>\n",
       "    </tr>\n",
       "    <tr>\n",
       "      <th>reg_group</th>\n",
       "      <th></th>\n",
       "      <th></th>\n",
       "      <th></th>\n",
       "      <th></th>\n",
       "      <th></th>\n",
       "      <th></th>\n",
       "      <th></th>\n",
       "      <th></th>\n",
       "      <th></th>\n",
       "      <th></th>\n",
       "    </tr>\n",
       "  </thead>\n",
       "  <tbody>\n",
       "    <tr>\n",
       "      <th>ל.זמן</th>\n",
       "      <td>55%</td>\n",
       "      <td>0%</td>\n",
       "      <td>20%</td>\n",
       "      <td>5%</td>\n",
       "      <td>10%</td>\n",
       "      <td>0%</td>\n",
       "      <td>5%</td>\n",
       "      <td>0%</td>\n",
       "      <td>5%</td>\n",
       "      <td>0%</td>\n",
       "    </tr>\n",
       "    <tr>\n",
       "      <th>ב.כל.זמן</th>\n",
       "      <td>0%</td>\n",
       "      <td>94%</td>\n",
       "      <td>0%</td>\n",
       "      <td>0%</td>\n",
       "      <td>0%</td>\n",
       "      <td>0%</td>\n",
       "      <td>0%</td>\n",
       "      <td>6%</td>\n",
       "      <td>0%</td>\n",
       "      <td>0%</td>\n",
       "    </tr>\n",
       "    <tr>\n",
       "      <th>ב.זמן.ב.זמן</th>\n",
       "      <td>82%</td>\n",
       "      <td>0%</td>\n",
       "      <td>12%</td>\n",
       "      <td>6%</td>\n",
       "      <td>0%</td>\n",
       "      <td>0%</td>\n",
       "      <td>0%</td>\n",
       "      <td>0%</td>\n",
       "      <td>0%</td>\n",
       "      <td>0%</td>\n",
       "    </tr>\n",
       "    <tr>\n",
       "      <th>זמן.ב.זמן</th>\n",
       "      <td>0%</td>\n",
       "      <td>0%</td>\n",
       "      <td>0%</td>\n",
       "      <td>20%</td>\n",
       "      <td>0%</td>\n",
       "      <td>60%</td>\n",
       "      <td>0%</td>\n",
       "      <td>0%</td>\n",
       "      <td>0%</td>\n",
       "      <td>20%</td>\n",
       "    </tr>\n",
       "    <tr>\n",
       "      <th>ל.זמן.ל.זמן</th>\n",
       "      <td>33%</td>\n",
       "      <td>0%</td>\n",
       "      <td>67%</td>\n",
       "      <td>0%</td>\n",
       "      <td>0%</td>\n",
       "      <td>0%</td>\n",
       "      <td>0%</td>\n",
       "      <td>0%</td>\n",
       "      <td>0%</td>\n",
       "      <td>0%</td>\n",
       "    </tr>\n",
       "    <tr>\n",
       "      <th>בין.זמן</th>\n",
       "      <td>0%</td>\n",
       "      <td>0%</td>\n",
       "      <td>0%</td>\n",
       "      <td>0%</td>\n",
       "      <td>0%</td>\n",
       "      <td>0%</td>\n",
       "      <td>100%</td>\n",
       "      <td>0%</td>\n",
       "      <td>0%</td>\n",
       "      <td>0%</td>\n",
       "    </tr>\n",
       "    <tr>\n",
       "      <th>זמן.על.זמן</th>\n",
       "      <td>0%</td>\n",
       "      <td>0%</td>\n",
       "      <td>0%</td>\n",
       "      <td>0%</td>\n",
       "      <td>100%</td>\n",
       "      <td>0%</td>\n",
       "      <td>0%</td>\n",
       "      <td>0%</td>\n",
       "      <td>0%</td>\n",
       "      <td>0%</td>\n",
       "    </tr>\n",
       "  </tbody>\n",
       "</table>\n",
       "</div>"
      ],
      "text/plain": [
       "modtag2      DEF   KL DEF+PL    C    PL QUANT NUM+PL KL+DEF+PL NUM NUM+DEF+PL\n",
       "reg_group                                                                    \n",
       "ל.זמן        55%   0%    20%   5%   10%    0%     5%        0%  5%         0%\n",
       "ב.כל.זמן      0%  94%     0%   0%    0%    0%     0%        6%  0%         0%\n",
       "ב.זמן.ב.זמן  82%   0%    12%   6%    0%    0%     0%        0%  0%         0%\n",
       "זמן.ב.זמן     0%   0%     0%  20%    0%   60%     0%        0%  0%        20%\n",
       "ל.זמן.ל.זמן  33%   0%    67%   0%    0%    0%     0%        0%  0%         0%\n",
       "בין.זמן       0%   0%     0%   0%    0%    0%   100%        0%  0%         0%\n",
       "זמן.על.זמן    0%   0%     0%   0%  100%    0%     0%        0%  0%         0%"
      ]
     },
     "execution_count": 192,
     "metadata": {},
     "output_type": "execute_result"
    }
   ],
   "source": [
    "out.table(\n",
    "    regrecmod_pc,\n",
    "    'regrecmod_pc',\n",
    "    caption='Modifier Percentages by Reg. Recurrence Patterns',\n",
    "    adjustbox=True,\n",
    ")"
   ]
  },
  {
   "cell_type": "markdown",
   "metadata": {},
   "source": [
    "## Atelic Extent"
   ]
  },
  {
   "cell_type": "code",
   "execution_count": 70,
   "metadata": {
    "collapsed": true,
    "jupyter": {
     "outputs_hidden": true
    }
   },
   "outputs": [],
   "source": [
    "ateldf = df[df.function == 'atelic_ext']"
   ]
  },
  {
   "cell_type": "code",
   "execution_count": 71,
   "metadata": {
    "collapsed": true,
    "jupyter": {
     "outputs_hidden": true
    }
   },
   "outputs": [
    {
     "name": "stdout",
     "output_type": "stream",
     "text": [
      "showing 5 of 5\n"
     ]
    },
    {
     "data": {
      "text/html": [
       "<style  type=\"text/css\" >\n",
       "#T_fc709_row0_col1,#T_fc709_row1_col1,#T_fc709_row2_col1,#T_fc709_row3_col1,#T_fc709_row4_col1{\n",
       "            font-size: 20px;\n",
       "             font-family:  Times New Roman;\n",
       "             text-align:  right;\n",
       "             max-width:  500px;\n",
       "        }</style><table id=\"T_fc709_\" ><thead>    <tr>        <th class=\"blank level0\" ></th>        <th class=\"col_heading level0 col0\" >verse</th>        <th class=\"col_heading level0 col1\" >clause</th>    </tr>    <tr>        <th class=\"index_name level0\" >node</th>        <th class=\"blank\" ></th>        <th class=\"blank\" ></th>    </tr></thead><tbody>\n",
       "                <tr>\n",
       "                        <th id=\"T_fc709_level0_row0\" class=\"row_heading level0 row0\" >491195</th>\n",
       "                        <td id=\"T_fc709_row0_col0\" class=\"data row0 col0\" >Psalms 23:6</td>\n",
       "                        <td id=\"T_fc709_row0_col1\" class=\"data row0 col1\" >וְשַׁבְתִּ֥י בְּבֵית־יְ֝הוָ֗ה לְאֹ֣רֶךְ יָמִֽים׃ </td>\n",
       "            </tr>\n",
       "            <tr>\n",
       "                        <th id=\"T_fc709_level0_row1\" class=\"row_heading level0 row1\" >494915</th>\n",
       "                        <td id=\"T_fc709_row1_col0\" class=\"data row1 col0\" >Psalms 93:5</td>\n",
       "                        <td id=\"T_fc709_row1_col1\" class=\"data row1 col1\" >לְבֵיתְךָ֥ נַאֲוָה־קֹ֑דֶשׁ לְאֹ֣רֶךְ יָמִֽים׃ </td>\n",
       "            </tr>\n",
       "            <tr>\n",
       "                        <th id=\"T_fc709_level0_row2\" class=\"row_heading level0 row2\" >513283</th>\n",
       "                        <td id=\"T_fc709_row2_col0\" class=\"data row2 col0\" >2_Chronicles 11:17</td>\n",
       "                        <td id=\"T_fc709_row2_col1\" class=\"data row2 col1\" >וַֽיְאַמְּצ֛וּ אֶת־רְחַבְעָ֥ם בֶּן־שְׁלֹמֹ֖ה לְשָׁנִ֣ים שָׁלֹ֑ושׁ </td>\n",
       "            </tr>\n",
       "            <tr>\n",
       "                        <th id=\"T_fc709_level0_row3\" class=\"row_heading level0 row3\" >513284</th>\n",
       "                        <td id=\"T_fc709_row3_col0\" class=\"data row3 col0\" >2_Chronicles 11:17</td>\n",
       "                        <td id=\"T_fc709_row3_col1\" class=\"data row3 col1\" >כִּ֣י הָֽלְכ֗וּ בְּדֶ֧רֶךְ דָּוִ֛יד וּשְׁלֹמֹ֖ה לְשָׁנִ֥ים שָׁלֹֽושׁ׃ </td>\n",
       "            </tr>\n",
       "            <tr>\n",
       "                        <th id=\"T_fc709_level0_row4\" class=\"row_heading level0 row4\" >514853</th>\n",
       "                        <td id=\"T_fc709_row4_col0\" class=\"data row4 col0\" >2_Chronicles 29:17</td>\n",
       "                        <td id=\"T_fc709_row4_col1\" class=\"data row4 col1\" >וַיְקַדְּשׁ֥וּ אֶת־בֵּית־יְהוָ֖ה לְיָמִ֣ים שְׁמֹונָ֑ה </td>\n",
       "            </tr>\n",
       "    </tbody></table>"
      ],
      "text/plain": [
       "<pandas.io.formats.style.Styler at 0x7f83485f8520>"
      ]
     },
     "execution_count": 71,
     "metadata": {},
     "output_type": "execute_result"
    }
   ],
   "source": [
    "ts.show(\n",
    "    ateldf[ateldf.front == 'ל']\n",
    ")"
   ]
  },
  {
   "cell_type": "code",
   "execution_count": 72,
   "metadata": {
    "collapsed": true,
    "jupyter": {
     "outputs_hidden": true
    }
   },
   "outputs": [
    {
     "data": {
      "text/plain": [
       "'5'"
      ]
     },
     "execution_count": 72,
     "metadata": {},
     "output_type": "execute_result"
    }
   ],
   "source": [
    "out.number(\n",
    "    ateldf[ateldf.front == 'ל'].shape[0],\n",
    "    'atelext_ל_N'\n",
    ")"
   ]
  },
  {
   "cell_type": "code",
   "execution_count": 73,
   "metadata": {
    "collapsed": true,
    "jupyter": {
     "outputs_hidden": true
    }
   },
   "outputs": [],
   "source": [
    "# ts.show(\n",
    "#     df[df.front == 'ל'].sort_values(by='notes'),\n",
    "#     extra=['notes']\n",
    "# )"
   ]
  },
  {
   "cell_type": "code",
   "execution_count": 74,
   "metadata": {
    "collapsed": true,
    "jupyter": {
     "outputs_hidden": true
    }
   },
   "outputs": [
    {
     "name": "stdout",
     "output_type": "stream",
     "text": [
      "showing 1 of 1\n"
     ]
    },
    {
     "data": {
      "text/html": [
       "<style  type=\"text/css\" >\n",
       "#T_af75f_row0_col1{\n",
       "            font-size: 20px;\n",
       "             font-family:  Times New Roman;\n",
       "             text-align:  right;\n",
       "             max-width:  500px;\n",
       "        }</style><table id=\"T_af75f_\" ><thead>    <tr>        <th class=\"blank level0\" ></th>        <th class=\"col_heading level0 col0\" >verse</th>        <th class=\"col_heading level0 col1\" >clause</th>    </tr>    <tr>        <th class=\"index_name level0\" >node</th>        <th class=\"blank\" ></th>        <th class=\"blank\" ></th>    </tr></thead><tbody>\n",
       "                <tr>\n",
       "                        <th id=\"T_af75f_level0_row0\" class=\"row_heading level0 row0\" >509294</th>\n",
       "                        <td id=\"T_af75f_row0_col0\" class=\"data row0 col0\" >Nehemiah 9:3</td>\n",
       "                        <td id=\"T_af75f_row0_col1\" class=\"data row0 col1\" >וּרְבִעִית֙ מִתְוַדִּ֣ים </td>\n",
       "            </tr>\n",
       "    </tbody></table>"
      ],
      "text/plain": [
       "<pandas.io.formats.style.Styler at 0x7f83485d16d0>"
      ]
     },
     "execution_count": 74,
     "metadata": {},
     "output_type": "execute_result"
    }
   ],
   "source": [
    "ts.show(\n",
    "    ateldf[ateldf.front == 'רביעי']\n",
    ")"
   ]
  },
  {
   "cell_type": "code",
   "execution_count": 75,
   "metadata": {
    "collapsed": true,
    "jupyter": {
     "outputs_hidden": true
    }
   },
   "outputs": [
    {
     "name": "stdout",
     "output_type": "stream",
     "text": [
      "showing 25 of 34\n"
     ]
    },
    {
     "data": {
      "text/html": [
       "<style  type=\"text/css\" >\n",
       "#T_168b8_row0_col1,#T_168b8_row1_col1,#T_168b8_row2_col1,#T_168b8_row3_col1,#T_168b8_row4_col1,#T_168b8_row5_col1,#T_168b8_row6_col1,#T_168b8_row7_col1,#T_168b8_row8_col1,#T_168b8_row9_col1,#T_168b8_row10_col1,#T_168b8_row11_col1,#T_168b8_row12_col1,#T_168b8_row13_col1,#T_168b8_row14_col1,#T_168b8_row15_col1,#T_168b8_row16_col1,#T_168b8_row17_col1,#T_168b8_row18_col1,#T_168b8_row19_col1,#T_168b8_row20_col1,#T_168b8_row21_col1,#T_168b8_row22_col1,#T_168b8_row23_col1,#T_168b8_row24_col1{\n",
       "            font-size: 20px;\n",
       "             font-family:  Times New Roman;\n",
       "             text-align:  right;\n",
       "             max-width:  500px;\n",
       "        }</style><table id=\"T_168b8_\" ><thead>    <tr>        <th class=\"blank level0\" ></th>        <th class=\"col_heading level0 col0\" >verse</th>        <th class=\"col_heading level0 col1\" >clause</th>    </tr>    <tr>        <th class=\"index_name level0\" >node</th>        <th class=\"blank\" ></th>        <th class=\"blank\" ></th>    </tr></thead><tbody>\n",
       "                <tr>\n",
       "                        <th id=\"T_168b8_level0_row0\" class=\"row_heading level0 row0\" >432263</th>\n",
       "                        <td id=\"T_168b8_row0_col0\" class=\"data row0 col0\" >Genesis 41:36</td>\n",
       "                        <td id=\"T_168b8_row0_col1\" class=\"data row0 col1\" >וְהָיָ֨ה הָאֹ֤כֶל לְפִקָּדֹון֙ לָאָ֔רֶץ לְשֶׁ֨בַע֙ שְׁנֵ֣י הָרָעָ֔ב </td>\n",
       "            </tr>\n",
       "            <tr>\n",
       "                        <th id=\"T_168b8_level0_row1\" class=\"row_heading level0 row1\" >439051</th>\n",
       "                        <td id=\"T_168b8_row1_col0\" class=\"data row1 col0\" >Leviticus 13:21</td>\n",
       "                        <td id=\"T_168b8_row1_col1\" class=\"data row1 col1\" >וְהִסְגִּירֹ֥ו הַכֹּהֵ֖ן שִׁבְעַ֥ת יָמִֽים׃ </td>\n",
       "            </tr>\n",
       "            <tr>\n",
       "                        <th id=\"T_168b8_level0_row2\" class=\"row_heading level0 row2\" >439075</th>\n",
       "                        <td id=\"T_168b8_row2_col0\" class=\"data row2 col0\" >Leviticus 13:26</td>\n",
       "                        <td id=\"T_168b8_row2_col1\" class=\"data row2 col1\" >וְהִסְגִּירֹ֥ו הַכֹּהֵ֖ן שִׁבְעַ֥ת יָמִֽים׃ </td>\n",
       "            </tr>\n",
       "            <tr>\n",
       "                        <th id=\"T_168b8_level0_row3\" class=\"row_heading level0 row3\" >439107</th>\n",
       "                        <td id=\"T_168b8_row3_col0\" class=\"data row3 col0\" >Leviticus 13:33</td>\n",
       "                        <td id=\"T_168b8_row3_col1\" class=\"data row3 col1\" >וְהִסְגִּ֨יר הַכֹּהֵ֧ן אֶת־הַנֶּ֛תֶק שִׁבְעַ֥ת יָמִ֖ים שֵׁנִֽית׃ </td>\n",
       "            </tr>\n",
       "            <tr>\n",
       "                        <th id=\"T_168b8_level0_row4\" class=\"row_heading level0 row4\" >439171</th>\n",
       "                        <td id=\"T_168b8_row4_col0\" class=\"data row4 col0\" >Leviticus 13:50</td>\n",
       "                        <td id=\"T_168b8_row4_col1\" class=\"data row4 col1\" >וְהִסְגִּ֥יר אֶת־הַנֶּ֖גַע שִׁבְעַ֥ת יָמִֽים׃ </td>\n",
       "            </tr>\n",
       "            <tr>\n",
       "                        <th id=\"T_168b8_level0_row5\" class=\"row_heading level0 row5\" >439187</th>\n",
       "                        <td id=\"T_168b8_row5_col0\" class=\"data row5 col0\" >Leviticus 13:54</td>\n",
       "                        <td id=\"T_168b8_row5_col1\" class=\"data row5 col1\" >וְהִסְגִּירֹ֥ו שִׁבְעַת־יָמִ֖ים שֵׁנִֽית׃ </td>\n",
       "            </tr>\n",
       "            <tr>\n",
       "                        <th id=\"T_168b8_level0_row6\" class=\"row_heading level0 row6\" >442168</th>\n",
       "                        <td id=\"T_168b8_row6_col0\" class=\"data row6 col0\" >Numbers 11:32</td>\n",
       "                        <td id=\"T_168b8_row6_col1\" class=\"data row6 col1\" >וַיָּ֣קָם הָעָ֡ם כָּל־הַיֹּום֩ הַה֨וּא וְכָל־הַלַּ֜יְלָה וְכֹ֣ל׀ יֹ֣ום הַֽמָּחֳרָ֗ת </td>\n",
       "            </tr>\n",
       "            <tr>\n",
       "                        <th id=\"T_168b8_level0_row7\" class=\"row_heading level0 row7\" >442233</th>\n",
       "                        <td id=\"T_168b8_row7_col0\" class=\"data row7 col0\" >Numbers 12:14</td>\n",
       "                        <td id=\"T_168b8_row7_col1\" class=\"data row7 col1\" >תִּסָּגֵ֞ר שִׁבְעַ֤ת יָמִים֙ מִח֣וּץ לַֽמַּחֲנֶ֔ה </td>\n",
       "            </tr>\n",
       "            <tr>\n",
       "                        <th id=\"T_168b8_level0_row8\" class=\"row_heading level0 row8\" >442235</th>\n",
       "                        <td id=\"T_168b8_row8_col0\" class=\"data row8 col0\" >Numbers 12:15</td>\n",
       "                        <td id=\"T_168b8_row8_col1\" class=\"data row8 col1\" >וַתִּסָּגֵ֥ר מִרְיָ֛ם מִח֥וּץ לַֽמַּחֲנֶ֖ה שִׁבְעַ֣ת יָמִ֑ים </td>\n",
       "            </tr>\n",
       "            <tr>\n",
       "                        <th id=\"T_168b8_level0_row9\" class=\"row_heading level0 row9\" >451679</th>\n",
       "                        <td id=\"T_168b8_row9_col0\" class=\"data row9 col0\" >Judges 6:1</td>\n",
       "                        <td id=\"T_168b8_row9_col1\" class=\"data row9 col1\" >וַיִּתְּנֵ֧ם יְהוָ֛ה בְּיַד־מִדְיָ֖ן שֶׁ֥בַע שָׁנִֽים׃ </td>\n",
       "            </tr>\n",
       "            <tr>\n",
       "                        <th id=\"T_168b8_level0_row10\" class=\"row_heading level0 row10\" >452644</th>\n",
       "                        <td id=\"T_168b8_row10_col0\" class=\"data row10 col0\" >Judges 11:38</td>\n",
       "                        <td id=\"T_168b8_row10_col1\" class=\"data row10 col1\" >וַיִּשְׁלַ֥ח אֹותָ֖הּ שְׁנֵ֣י חֳדָשִׁ֑ים </td>\n",
       "            </tr>\n",
       "            <tr>\n",
       "                        <th id=\"T_168b8_level0_row11\" class=\"row_heading level0 row11\" >457566</th>\n",
       "                        <td id=\"T_168b8_row11_col0\" class=\"data row11 col0\" >1_Samuel 28:2</td>\n",
       "                        <td id=\"T_168b8_row11_col1\" class=\"data row11 col1\" >לָכֵ֗ן שֹׁמֵ֧ר לְרֹאשִׁ֛י אֲשִֽׂימְךָ֖ כָּל־הַיָּמִֽים׃ פ </td>\n",
       "            </tr>\n",
       "            <tr>\n",
       "                        <th id=\"T_168b8_level0_row12\" class=\"row_heading level0 row12\" >460534</th>\n",
       "                        <td id=\"T_168b8_row12_col0\" class=\"data row12 col0\" >2_Samuel 20:4</td>\n",
       "                        <td id=\"T_168b8_row12_col1\" class=\"data row12 col1\" >הַזְעֶק־לִ֥י אֶת־אִישׁ־יְהוּדָ֖ה שְׁלֹ֣שֶׁת יָמִ֑ים </td>\n",
       "            </tr>\n",
       "            <tr>\n",
       "                        <th id=\"T_168b8_level0_row13\" class=\"row_heading level0 row13\" >461071</th>\n",
       "                        <td id=\"T_168b8_row13_col0\" class=\"data row13 col0\" >2_Samuel 24:13</td>\n",
       "                        <td id=\"T_168b8_row13_col1\" class=\"data row13 col1\" >הֲתָבֹ֣וא לְךָ֣ שֶֽׁבַע שָׁנִ֣ים׀ רָעָ֣ב׀ בְּאַרְצֶ֡ךָ </td>\n",
       "            </tr>\n",
       "            <tr>\n",
       "                        <th id=\"T_168b8_level0_row14\" class=\"row_heading level0 row14\" >462499</th>\n",
       "                        <td id=\"T_168b8_row14_col0\" class=\"data row14 col0\" >1_Kings 9:5</td>\n",
       "                        <td id=\"T_168b8_row14_col1\" class=\"data row14 col1\" >וַהֲקִ֨מֹתִ֜י אֶת־כִּסֵּ֧א מַֽמְלַכְתְּךָ֛ עַל־יִשְׂרָאֵ֖ל לְעֹלָ֑ם </td>\n",
       "            </tr>\n",
       "            <tr>\n",
       "                        <th id=\"T_168b8_level0_row15\" class=\"row_heading level0 row15\" >462800</th>\n",
       "                        <td id=\"T_168b8_row15_col0\" class=\"data row15 col0\" >1_Kings 11:34</td>\n",
       "                        <td id=\"T_168b8_row15_col1\" class=\"data row15 col1\" >כִּ֣י׀ נָשִׂ֣יא אֲשִׁתֶ֗נּוּ כֹּ֚ל יְמֵ֣י חַיָּ֔יו לְמַ֨עַן דָּוִ֤ד עַבְדִּי֙ </td>\n",
       "            </tr>\n",
       "            <tr>\n",
       "                        <th id=\"T_168b8_level0_row16\" class=\"row_heading level0 row16\" >462860</th>\n",
       "                        <td id=\"T_168b8_row16_col0\" class=\"data row16 col0\" >1_Kings 12:5</td>\n",
       "                        <td id=\"T_168b8_row16_col1\" class=\"data row16 col1\" >לְכ֥וּ עֹ֛ד שְׁלֹשָׁ֥ה יָמִ֖ים </td>\n",
       "            </tr>\n",
       "            <tr>\n",
       "                        <th id=\"T_168b8_level0_row17\" class=\"row_heading level0 row17\" >465900</th>\n",
       "                        <td id=\"T_168b8_row17_col0\" class=\"data row17 col0\" >2_Kings 8:1</td>\n",
       "                        <td id=\"T_168b8_row17_col1\" class=\"data row17 col1\" >וְגַם־בָּ֥א אֶל־הָאָ֖רֶץ שֶׁ֥בַע שָׁנִֽים׃ </td>\n",
       "            </tr>\n",
       "            <tr>\n",
       "                        <th id=\"T_168b8_level0_row18\" class=\"row_heading level0 row18\" >466003</th>\n",
       "                        <td id=\"T_168b8_row18_col0\" class=\"data row18 col0\" >2_Kings 8:19</td>\n",
       "                        <td id=\"T_168b8_row18_col1\" class=\"data row18 col1\" >לְבָנָ֖יו כָּל־הַיָּמִֽים׃ </td>\n",
       "            </tr>\n",
       "            <tr>\n",
       "                        <th id=\"T_168b8_level0_row19\" class=\"row_heading level0 row19\" >467647</th>\n",
       "                        <td id=\"T_168b8_row19_col0\" class=\"data row19 col0\" >2_Kings 21:7</td>\n",
       "                        <td id=\"T_168b8_row19_col1\" class=\"data row19 col1\" >בַּבַּ֨יִת הַזֶּ֜ה וּבִירוּשָׁלִַ֗ם אָשִׂ֥ים אֶת־שְׁמִ֖י לְעֹולָֽם׃ </td>\n",
       "            </tr>\n",
       "            <tr>\n",
       "                        <th id=\"T_168b8_level0_row20\" class=\"row_heading level0 row20\" >469809</th>\n",
       "                        <td id=\"T_168b8_row20_col0\" class=\"data row20 col0\" >Isaiah 23:15</td>\n",
       "                        <td id=\"T_168b8_row20_col1\" class=\"data row20 col1\" >וְנִשְׁכַּ֤חַת צֹר֙ שִׁבְעִ֣ים שָׁנָ֔ה כִּימֵ֖י מֶ֣לֶךְ אֶחָ֑ד </td>\n",
       "            </tr>\n",
       "            <tr>\n",
       "                        <th id=\"T_168b8_level0_row21\" class=\"row_heading level0 row21\" >484481</th>\n",
       "                        <td id=\"T_168b8_row21_col0\" class=\"data row21 col0\" >Ezekiel 39:12</td>\n",
       "                        <td id=\"T_168b8_row21_col1\" class=\"data row21 col1\" >לְמַ֖עַן טַהֵ֣ר אֶת־הָאָ֑רֶץ שִׁבְעָ֖ה חֳדָשִֽׁים׃ </td>\n",
       "            </tr>\n",
       "            <tr>\n",
       "                        <th id=\"T_168b8_level0_row22\" class=\"row_heading level0 row22\" >507356</th>\n",
       "                        <td id=\"T_168b8_row22_col0\" class=\"data row22 col0\" >Daniel 9:27</td>\n",
       "                        <td id=\"T_168b8_row22_col1\" class=\"data row22 col1\" >וְהִגְבִּ֥יר בְּרִ֛ית לָרַבִּ֖ים שָׁב֣וּעַ אֶחָ֑ד </td>\n",
       "            </tr>\n",
       "            <tr>\n",
       "                        <th id=\"T_168b8_level0_row23\" class=\"row_heading level0 row23\" >514102</th>\n",
       "                        <td id=\"T_168b8_row23_col0\" class=\"data row23 col0\" >2_Chronicles 21:7</td>\n",
       "                        <td id=\"T_168b8_row23_col1\" class=\"data row23 col1\" >וּלְבָנָ֖יו כָּל־הַיָּמִֽים׃ </td>\n",
       "            </tr>\n",
       "            <tr>\n",
       "                        <th id=\"T_168b8_level0_row24\" class=\"row_heading level0 row24\" >514959</th>\n",
       "                        <td id=\"T_168b8_row24_col0\" class=\"data row24 col0\" >2_Chronicles 30:8</td>\n",
       "                        <td id=\"T_168b8_row24_col1\" class=\"data row24 col1\" >אֲשֶׁ֣ר הִקְדִּ֣ישׁ לְעֹולָ֔ם </td>\n",
       "            </tr>\n",
       "    </tbody></table>"
      ],
      "text/plain": [
       "<pandas.io.formats.style.Styler at 0x7f83485d1280>"
      ]
     },
     "execution_count": 75,
     "metadata": {},
     "output_type": "execute_result"
    }
   ],
   "source": [
    "# get some purposive extents for illustrating L-atelic ext\n",
    "\n",
    "ts.show(\n",
    "    df[df.function == 'purposive_ext']\n",
    ")"
   ]
  },
  {
   "cell_type": "code",
   "execution_count": 76,
   "metadata": {
    "collapsed": true,
    "jupyter": {
     "outputs_hidden": true
    }
   },
   "outputs": [
    {
     "data": {
      "text/plain": [
       "'2'"
      ]
     },
     "execution_count": 76,
     "metadata": {},
     "output_type": "execute_result"
    }
   ],
   "source": [
    "et_atel = ateldf[ateldf.front == 'את']\n",
    "\n",
    "out.number(\n",
    "    et_atel.shape[0],\n",
    "    'atelext_et_N'\n",
    ")"
   ]
  },
  {
   "cell_type": "code",
   "execution_count": 77,
   "metadata": {
    "collapsed": true,
    "jupyter": {
     "outputs_hidden": true
    }
   },
   "outputs": [
    {
     "data": {
      "text/plain": [
       "'2'"
      ]
     },
     "execution_count": 77,
     "metadata": {},
     "output_type": "execute_result"
    }
   ],
   "source": [
    "K_atel = ateldf[ateldf.front == 'כ']\n",
    "\n",
    "out.number(\n",
    "    K_atel.shape[0],\n",
    "    'atelext_K_N'\n",
    ")"
   ]
  },
  {
   "cell_type": "code",
   "execution_count": 78,
   "metadata": {
    "collapsed": true,
    "jupyter": {
     "outputs_hidden": true
    }
   },
   "outputs": [
    {
     "name": "stdout",
     "output_type": "stream",
     "text": [
      "showing 2 of 2\n"
     ]
    },
    {
     "data": {
      "text/html": [
       "<style  type=\"text/css\" >\n",
       "#T_6a814_row0_col1,#T_6a814_row1_col1{\n",
       "            font-size: 20px;\n",
       "             font-family:  Times New Roman;\n",
       "             text-align:  right;\n",
       "             max-width:  500px;\n",
       "        }</style><table id=\"T_6a814_\" ><thead>    <tr>        <th class=\"blank level0\" ></th>        <th class=\"col_heading level0 col0\" >verse</th>        <th class=\"col_heading level0 col1\" >clause</th>    </tr>    <tr>        <th class=\"index_name level0\" >node</th>        <th class=\"blank\" ></th>        <th class=\"blank\" ></th>    </tr></thead><tbody>\n",
       "                <tr>\n",
       "                        <th id=\"T_6a814_level0_row0\" class=\"row_heading level0 row0\" >489371</th>\n",
       "                        <td id=\"T_6a814_row0_col0\" class=\"data row0 col0\" >Zechariah 7:3</td>\n",
       "                        <td id=\"T_6a814_row0_col1\" class=\"data row0 col1\" >כַּאֲשֶׁ֣ר עָשִׂ֔יתִי זֶ֖ה כַּמֶּ֥ה שָׁנִֽים׃ פ </td>\n",
       "            </tr>\n",
       "            <tr>\n",
       "                        <th id=\"T_6a814_level0_row1\" class=\"row_heading level0 row1\" >502838</th>\n",
       "                        <td id=\"T_6a814_row1_col0\" class=\"data row1 col0\" >Ruth 1:4</td>\n",
       "                        <td id=\"T_6a814_row1_col1\" class=\"data row1 col1\" >וַיֵּ֥שְׁבוּ שָׁ֖ם כְּעֶ֥שֶׂר שָׁנִֽים׃ </td>\n",
       "            </tr>\n",
       "    </tbody></table>"
      ],
      "text/plain": [
       "<pandas.io.formats.style.Styler at 0x7f83485f8c10>"
      ]
     },
     "execution_count": 78,
     "metadata": {},
     "output_type": "execute_result"
    }
   ],
   "source": [
    "ts.show(\n",
    "    K_atel\n",
    ")"
   ]
  },
  {
   "cell_type": "markdown",
   "metadata": {},
   "source": [
    "### Phrase types"
   ]
  },
  {
   "cell_type": "code",
   "execution_count": 79,
   "metadata": {
    "collapsed": true,
    "jupyter": {
     "outputs_hidden": true
    }
   },
   "outputs": [
    {
     "name": "stdout",
     "output_type": "stream",
     "text": [
      "simultaneous\n",
      "sim_phtype_ct\n"
     ]
    },
    {
     "data": {
      "text/html": [
       "<div>\n",
       "<style scoped>\n",
       "    .dataframe tbody tr th:only-of-type {\n",
       "        vertical-align: middle;\n",
       "    }\n",
       "\n",
       "    .dataframe tbody tr th {\n",
       "        vertical-align: top;\n",
       "    }\n",
       "\n",
       "    .dataframe thead th {\n",
       "        text-align: right;\n",
       "    }\n",
       "</style>\n",
       "<table border=\"1\" class=\"dataframe\">\n",
       "  <thead>\n",
       "    <tr style=\"text-align: right;\">\n",
       "      <th></th>\n",
       "      <th>count</th>\n",
       "      <th>percent</th>\n",
       "    </tr>\n",
       "    <tr>\n",
       "      <th>Phrase Type</th>\n",
       "      <th></th>\n",
       "      <th></th>\n",
       "    </tr>\n",
       "  </thead>\n",
       "  <tbody>\n",
       "    <tr>\n",
       "      <th>PP</th>\n",
       "      <td>1131</td>\n",
       "      <td>60%</td>\n",
       "    </tr>\n",
       "    <tr>\n",
       "      <th>ADVB</th>\n",
       "      <td>458</td>\n",
       "      <td>24%</td>\n",
       "    </tr>\n",
       "    <tr>\n",
       "      <th>NP</th>\n",
       "      <td>293</td>\n",
       "      <td>16%</td>\n",
       "    </tr>\n",
       "  </tbody>\n",
       "</table>\n",
       "</div>"
      ],
      "text/plain": [
       "             count percent\n",
       "Phrase Type               \n",
       "PP            1131     60%\n",
       "ADVB           458     24%\n",
       "NP             293     16%"
      ]
     },
     "metadata": {},
     "output_type": "display_data"
    },
    {
     "name": "stdout",
     "output_type": "stream",
     "text": [
      "--------------------\n",
      "anterior_dur\n",
      "antdur_phtype_ct\n"
     ]
    },
    {
     "data": {
      "text/html": [
       "<div>\n",
       "<style scoped>\n",
       "    .dataframe tbody tr th:only-of-type {\n",
       "        vertical-align: middle;\n",
       "    }\n",
       "\n",
       "    .dataframe tbody tr th {\n",
       "        vertical-align: top;\n",
       "    }\n",
       "\n",
       "    .dataframe thead th {\n",
       "        text-align: right;\n",
       "    }\n",
       "</style>\n",
       "<table border=\"1\" class=\"dataframe\">\n",
       "  <thead>\n",
       "    <tr style=\"text-align: right;\">\n",
       "      <th></th>\n",
       "      <th>count</th>\n",
       "      <th>percent</th>\n",
       "    </tr>\n",
       "    <tr>\n",
       "      <th>Phrase Type</th>\n",
       "      <th></th>\n",
       "      <th></th>\n",
       "    </tr>\n",
       "  </thead>\n",
       "  <tbody>\n",
       "    <tr>\n",
       "      <th>PP</th>\n",
       "      <td>449</td>\n",
       "      <td>100%</td>\n",
       "    </tr>\n",
       "  </tbody>\n",
       "</table>\n",
       "</div>"
      ],
      "text/plain": [
       "             count percent\n",
       "Phrase Type               \n",
       "PP             449    100%"
      ]
     },
     "metadata": {},
     "output_type": "display_data"
    },
    {
     "name": "stdout",
     "output_type": "stream",
     "text": [
      "--------------------\n",
      "anterior\n",
      "ant_phtype_ct\n"
     ]
    },
    {
     "data": {
      "text/html": [
       "<div>\n",
       "<style scoped>\n",
       "    .dataframe tbody tr th:only-of-type {\n",
       "        vertical-align: middle;\n",
       "    }\n",
       "\n",
       "    .dataframe tbody tr th {\n",
       "        vertical-align: top;\n",
       "    }\n",
       "\n",
       "    .dataframe thead th {\n",
       "        text-align: right;\n",
       "    }\n",
       "</style>\n",
       "<table border=\"1\" class=\"dataframe\">\n",
       "  <thead>\n",
       "    <tr style=\"text-align: right;\">\n",
       "      <th></th>\n",
       "      <th>count</th>\n",
       "      <th>percent</th>\n",
       "    </tr>\n",
       "    <tr>\n",
       "      <th>Phrase Type</th>\n",
       "      <th></th>\n",
       "      <th></th>\n",
       "    </tr>\n",
       "  </thead>\n",
       "  <tbody>\n",
       "    <tr>\n",
       "      <th>PP</th>\n",
       "      <td>28</td>\n",
       "      <td>88%</td>\n",
       "    </tr>\n",
       "    <tr>\n",
       "      <th>ADVB</th>\n",
       "      <td>4</td>\n",
       "      <td>12%</td>\n",
       "    </tr>\n",
       "  </tbody>\n",
       "</table>\n",
       "</div>"
      ],
      "text/plain": [
       "             count percent\n",
       "Phrase Type               \n",
       "PP              28     88%\n",
       "ADVB             4     12%"
      ]
     },
     "metadata": {},
     "output_type": "display_data"
    },
    {
     "name": "stdout",
     "output_type": "stream",
     "text": [
      "--------------------\n",
      "atelic_ext\n",
      "atel_phtype_ct\n"
     ]
    },
    {
     "data": {
      "text/html": [
       "<div>\n",
       "<style scoped>\n",
       "    .dataframe tbody tr th:only-of-type {\n",
       "        vertical-align: middle;\n",
       "    }\n",
       "\n",
       "    .dataframe tbody tr th {\n",
       "        vertical-align: top;\n",
       "    }\n",
       "\n",
       "    .dataframe thead th {\n",
       "        text-align: right;\n",
       "    }\n",
       "</style>\n",
       "<table border=\"1\" class=\"dataframe\">\n",
       "  <thead>\n",
       "    <tr style=\"text-align: right;\">\n",
       "      <th></th>\n",
       "      <th>count</th>\n",
       "      <th>percent</th>\n",
       "    </tr>\n",
       "    <tr>\n",
       "      <th>Phrase Type</th>\n",
       "      <th></th>\n",
       "      <th></th>\n",
       "    </tr>\n",
       "  </thead>\n",
       "  <tbody>\n",
       "    <tr>\n",
       "      <th>NP</th>\n",
       "      <td>523</td>\n",
       "      <td>90%</td>\n",
       "    </tr>\n",
       "    <tr>\n",
       "      <th>ADVB</th>\n",
       "      <td>46</td>\n",
       "      <td>8%</td>\n",
       "    </tr>\n",
       "    <tr>\n",
       "      <th>PP</th>\n",
       "      <td>9</td>\n",
       "      <td>2%</td>\n",
       "    </tr>\n",
       "  </tbody>\n",
       "</table>\n",
       "</div>"
      ],
      "text/plain": [
       "             count percent\n",
       "Phrase Type               \n",
       "NP             523     90%\n",
       "ADVB            46      8%\n",
       "PP               9      2%"
      ]
     },
     "metadata": {},
     "output_type": "display_data"
    },
    {
     "name": "stdout",
     "output_type": "stream",
     "text": [
      "--------------------\n",
      "habitual\n",
      "hab_phtype_ct\n"
     ]
    },
    {
     "data": {
      "text/html": [
       "<div>\n",
       "<style scoped>\n",
       "    .dataframe tbody tr th:only-of-type {\n",
       "        vertical-align: middle;\n",
       "    }\n",
       "\n",
       "    .dataframe tbody tr th {\n",
       "        vertical-align: top;\n",
       "    }\n",
       "\n",
       "    .dataframe thead th {\n",
       "        text-align: right;\n",
       "    }\n",
       "</style>\n",
       "<table border=\"1\" class=\"dataframe\">\n",
       "  <thead>\n",
       "    <tr style=\"text-align: right;\">\n",
       "      <th></th>\n",
       "      <th>count</th>\n",
       "      <th>percent</th>\n",
       "    </tr>\n",
       "    <tr>\n",
       "      <th>Phrase Type</th>\n",
       "      <th></th>\n",
       "      <th></th>\n",
       "    </tr>\n",
       "  </thead>\n",
       "  <tbody>\n",
       "  </tbody>\n",
       "</table>\n",
       "</div>"
      ],
      "text/plain": [
       "Empty DataFrame\n",
       "Columns: [count, percent]\n",
       "Index: []"
      ]
     },
     "metadata": {},
     "output_type": "display_data"
    },
    {
     "name": "stdout",
     "output_type": "stream",
     "text": [
      "--------------------\n",
      "posterior\n",
      "post_phtype_ct\n"
     ]
    },
    {
     "data": {
      "text/html": [
       "<div>\n",
       "<style scoped>\n",
       "    .dataframe tbody tr th:only-of-type {\n",
       "        vertical-align: middle;\n",
       "    }\n",
       "\n",
       "    .dataframe tbody tr th {\n",
       "        vertical-align: top;\n",
       "    }\n",
       "\n",
       "    .dataframe thead th {\n",
       "        text-align: right;\n",
       "    }\n",
       "</style>\n",
       "<table border=\"1\" class=\"dataframe\">\n",
       "  <thead>\n",
       "    <tr style=\"text-align: right;\">\n",
       "      <th></th>\n",
       "      <th>count</th>\n",
       "      <th>percent</th>\n",
       "    </tr>\n",
       "    <tr>\n",
       "      <th>Phrase Type</th>\n",
       "      <th></th>\n",
       "      <th></th>\n",
       "    </tr>\n",
       "  </thead>\n",
       "  <tbody>\n",
       "    <tr>\n",
       "      <th>PP</th>\n",
       "      <td>190</td>\n",
       "      <td>85%</td>\n",
       "    </tr>\n",
       "    <tr>\n",
       "      <th>ADVB</th>\n",
       "      <td>34</td>\n",
       "      <td>15%</td>\n",
       "    </tr>\n",
       "  </tbody>\n",
       "</table>\n",
       "</div>"
      ],
      "text/plain": [
       "             count percent\n",
       "Phrase Type               \n",
       "PP             190     85%\n",
       "ADVB            34     15%"
      ]
     },
     "metadata": {},
     "output_type": "display_data"
    },
    {
     "name": "stdout",
     "output_type": "stream",
     "text": [
      "--------------------\n",
      "posterior_dur\n",
      "postdur_phtype_ct\n"
     ]
    },
    {
     "data": {
      "text/html": [
       "<div>\n",
       "<style scoped>\n",
       "    .dataframe tbody tr th:only-of-type {\n",
       "        vertical-align: middle;\n",
       "    }\n",
       "\n",
       "    .dataframe tbody tr th {\n",
       "        vertical-align: top;\n",
       "    }\n",
       "\n",
       "    .dataframe thead th {\n",
       "        text-align: right;\n",
       "    }\n",
       "</style>\n",
       "<table border=\"1\" class=\"dataframe\">\n",
       "  <thead>\n",
       "    <tr style=\"text-align: right;\">\n",
       "      <th></th>\n",
       "      <th>count</th>\n",
       "      <th>percent</th>\n",
       "    </tr>\n",
       "    <tr>\n",
       "      <th>Phrase Type</th>\n",
       "      <th></th>\n",
       "      <th></th>\n",
       "    </tr>\n",
       "  </thead>\n",
       "  <tbody>\n",
       "    <tr>\n",
       "      <th>PP</th>\n",
       "      <td>67</td>\n",
       "      <td>100%</td>\n",
       "    </tr>\n",
       "  </tbody>\n",
       "</table>\n",
       "</div>"
      ],
      "text/plain": [
       "             count percent\n",
       "Phrase Type               \n",
       "PP              67    100%"
      ]
     },
     "metadata": {},
     "output_type": "display_data"
    },
    {
     "name": "stdout",
     "output_type": "stream",
     "text": [
      "--------------------\n",
      "telic_ext\n",
      "telic_phtype_ct\n"
     ]
    },
    {
     "data": {
      "text/html": [
       "<div>\n",
       "<style scoped>\n",
       "    .dataframe tbody tr th:only-of-type {\n",
       "        vertical-align: middle;\n",
       "    }\n",
       "\n",
       "    .dataframe tbody tr th {\n",
       "        vertical-align: top;\n",
       "    }\n",
       "\n",
       "    .dataframe thead th {\n",
       "        text-align: right;\n",
       "    }\n",
       "</style>\n",
       "<table border=\"1\" class=\"dataframe\">\n",
       "  <thead>\n",
       "    <tr style=\"text-align: right;\">\n",
       "      <th></th>\n",
       "      <th>count</th>\n",
       "      <th>percent</th>\n",
       "    </tr>\n",
       "    <tr>\n",
       "      <th>Phrase Type</th>\n",
       "      <th></th>\n",
       "      <th></th>\n",
       "    </tr>\n",
       "  </thead>\n",
       "  <tbody>\n",
       "    <tr>\n",
       "      <th>PP</th>\n",
       "      <td>8</td>\n",
       "      <td>57%</td>\n",
       "    </tr>\n",
       "    <tr>\n",
       "      <th>NP</th>\n",
       "      <td>6</td>\n",
       "      <td>43%</td>\n",
       "    </tr>\n",
       "  </tbody>\n",
       "</table>\n",
       "</div>"
      ],
      "text/plain": [
       "             count percent\n",
       "Phrase Type               \n",
       "PP               8     57%\n",
       "NP               6     43%"
      ]
     },
     "metadata": {},
     "output_type": "display_data"
    },
    {
     "name": "stdout",
     "output_type": "stream",
     "text": [
      "--------------------\n",
      "dist_fut\n",
      "distfut_phtype_ct\n"
     ]
    },
    {
     "data": {
      "text/html": [
       "<div>\n",
       "<style scoped>\n",
       "    .dataframe tbody tr th:only-of-type {\n",
       "        vertical-align: middle;\n",
       "    }\n",
       "\n",
       "    .dataframe tbody tr th {\n",
       "        vertical-align: top;\n",
       "    }\n",
       "\n",
       "    .dataframe thead th {\n",
       "        text-align: right;\n",
       "    }\n",
       "</style>\n",
       "<table border=\"1\" class=\"dataframe\">\n",
       "  <thead>\n",
       "    <tr style=\"text-align: right;\">\n",
       "      <th></th>\n",
       "      <th>count</th>\n",
       "      <th>percent</th>\n",
       "    </tr>\n",
       "    <tr>\n",
       "      <th>Phrase Type</th>\n",
       "      <th></th>\n",
       "      <th></th>\n",
       "    </tr>\n",
       "  </thead>\n",
       "  <tbody>\n",
       "    <tr>\n",
       "      <th>PP</th>\n",
       "      <td>6</td>\n",
       "      <td>86%</td>\n",
       "    </tr>\n",
       "    <tr>\n",
       "      <th>NP</th>\n",
       "      <td>1</td>\n",
       "      <td>14%</td>\n",
       "    </tr>\n",
       "  </tbody>\n",
       "</table>\n",
       "</div>"
      ],
      "text/plain": [
       "             count percent\n",
       "Phrase Type               \n",
       "PP               6     86%\n",
       "NP               1     14%"
      ]
     },
     "metadata": {},
     "output_type": "display_data"
    },
    {
     "name": "stdout",
     "output_type": "stream",
     "text": [
      "--------------------\n",
      "dist_past\n",
      "distpast_phtype_ct\n"
     ]
    },
    {
     "data": {
      "text/html": [
       "<div>\n",
       "<style scoped>\n",
       "    .dataframe tbody tr th:only-of-type {\n",
       "        vertical-align: middle;\n",
       "    }\n",
       "\n",
       "    .dataframe tbody tr th {\n",
       "        vertical-align: top;\n",
       "    }\n",
       "\n",
       "    .dataframe thead th {\n",
       "        text-align: right;\n",
       "    }\n",
       "</style>\n",
       "<table border=\"1\" class=\"dataframe\">\n",
       "  <thead>\n",
       "    <tr style=\"text-align: right;\">\n",
       "      <th></th>\n",
       "      <th>count</th>\n",
       "      <th>percent</th>\n",
       "    </tr>\n",
       "    <tr>\n",
       "      <th>Phrase Type</th>\n",
       "      <th></th>\n",
       "      <th></th>\n",
       "    </tr>\n",
       "  </thead>\n",
       "  <tbody>\n",
       "    <tr>\n",
       "      <th>NP</th>\n",
       "      <td>3</td>\n",
       "      <td>100%</td>\n",
       "    </tr>\n",
       "  </tbody>\n",
       "</table>\n",
       "</div>"
      ],
      "text/plain": [
       "             count percent\n",
       "Phrase Type               \n",
       "NP               3    100%"
      ]
     },
     "metadata": {},
     "output_type": "display_data"
    },
    {
     "name": "stdout",
     "output_type": "stream",
     "text": [
      "--------------------\n"
     ]
    }
   ],
   "source": [
    "abbrevs = {\n",
    "    'simultaneous': ['sim', 'Simultaneous'],\n",
    "    'anterior_dur': ['antdur', 'Anterior Durative'],\n",
    "    'anterior': ['ant', 'Anterior'],\n",
    "    'atelic_ext': ['atel', 'Atelic Extent'],\n",
    "    'habitual': ['hab', 'Habitual'],\n",
    "    'posterior': ['post', 'Posterior'],\n",
    "    'posterior_dur': ['postdur', 'Posterior Durative'],\n",
    "    'telic_ext': ['telic', 'Telic Extent'],    \n",
    "    'dist_fut': ['distfut', 'Distance Future'],  \n",
    "    'dist_past': ['distpast', 'Distance Past'],  \n",
    "    'habitual': ['hab', 'Habitual'],\n",
    "}\n",
    "\n",
    "for function, namedata in abbrevs.items():\n",
    "    abbrev, full = namedata\n",
    "    phtype_cts = pd.DataFrame(\n",
    "        df_main[df_main.function == function]['ph_type'].value_counts()\n",
    "    )\n",
    "    phtype_cts = phtype_cts.rename_axis(index='Phrase Type').set_axis(['count'], 1)\n",
    "    phtype_prs = phtype_cts / phtype_cts.sum()\n",
    "    phtype_cp = join_ct_pr(phtype_cts, phtype_prs)\n",
    "    \n",
    "    print(function)\n",
    "    tablename = f'{abbrev}_phtype_ct'\n",
    "    print(tablename)\n",
    "    display(\n",
    "        out.table(\n",
    "            phtype_cp,\n",
    "            tablename,\n",
    "            caption=f'Attested {full} Phrase Types in Sample',\n",
    "        )\n",
    "    )\n",
    "    print('-'*20)"
   ]
  },
  {
   "cell_type": "markdown",
   "metadata": {},
   "source": [
    "## Telic Extent"
   ]
  },
  {
   "cell_type": "code",
   "execution_count": 80,
   "metadata": {
    "collapsed": true,
    "jupyter": {
     "outputs_hidden": true
    }
   },
   "outputs": [
    {
     "data": {
      "text/plain": [
       "'14'"
      ]
     },
     "execution_count": 80,
     "metadata": {},
     "output_type": "execute_result"
    }
   ],
   "source": [
    "teldf = df[df.function == 'telic_ext']\n",
    "\n",
    "out.number(\n",
    "    teldf.shape[0],\n",
    "    'N_telext'\n",
    ")"
   ]
  },
  {
   "cell_type": "code",
   "execution_count": 81,
   "metadata": {
    "collapsed": true,
    "jupyter": {
     "outputs_hidden": true
    }
   },
   "outputs": [
    {
     "name": "stdout",
     "output_type": "stream",
     "text": [
      "showing 14 of 14\n"
     ]
    },
    {
     "data": {
      "text/html": [
       "<style  type=\"text/css\" >\n",
       "#T_2c5b3_row0_col1,#T_2c5b3_row1_col1,#T_2c5b3_row2_col1,#T_2c5b3_row3_col1,#T_2c5b3_row4_col1,#T_2c5b3_row5_col1,#T_2c5b3_row6_col1,#T_2c5b3_row7_col1,#T_2c5b3_row8_col1,#T_2c5b3_row9_col1,#T_2c5b3_row10_col1,#T_2c5b3_row11_col1,#T_2c5b3_row12_col1,#T_2c5b3_row13_col1{\n",
       "            font-size: 20px;\n",
       "             font-family:  Times New Roman;\n",
       "             text-align:  right;\n",
       "             max-width:  500px;\n",
       "        }</style><table id=\"T_2c5b3_\" ><thead>    <tr>        <th class=\"blank level0\" ></th>        <th class=\"col_heading level0 col0\" >verse</th>        <th class=\"col_heading level0 col1\" >clause</th>        <th class=\"col_heading level0 col2\" >front</th>        <th class=\"col_heading level0 col3\" >modtag2</th>    </tr>    <tr>        <th class=\"index_name level0\" >node</th>        <th class=\"blank\" ></th>        <th class=\"blank\" ></th>        <th class=\"blank\" ></th>        <th class=\"blank\" ></th>    </tr></thead><tbody>\n",
       "                <tr>\n",
       "                        <th id=\"T_2c5b3_level0_row0\" class=\"row_heading level0 row0\" >436102</th>\n",
       "                        <td id=\"T_2c5b3_row0_col0\" class=\"data row0 col0\" >Exodus 23:29</td>\n",
       "                        <td id=\"T_2c5b3_row0_col1\" class=\"data row0 col1\" >לֹ֧א אֲגָרְשֶׁ֛נּוּ מִפָּנֶ֖יךָ בְּשָׁנָ֣ה אֶחָ֑ת </td>\n",
       "                        <td id=\"T_2c5b3_row0_col2\" class=\"data row0 col2\" >ב</td>\n",
       "                        <td id=\"T_2c5b3_row0_col3\" class=\"data row0 col3\" >NUM</td>\n",
       "            </tr>\n",
       "            <tr>\n",
       "                        <th id=\"T_2c5b3_level0_row1\" class=\"row_heading level0 row1\" >452897</th>\n",
       "                        <td id=\"T_2c5b3_row1_col0\" class=\"data row1 col0\" >Judges 14:12</td>\n",
       "                        <td id=\"T_2c5b3_row1_col1\" class=\"data row1 col1\" >אִם־הַגֵּ֣ד תַּגִּידוּ֩ אֹותָ֨הּ לִ֜י שִׁבְעַ֨ת יְמֵ֤י הַמִּשְׁתֶּה֙ </td>\n",
       "                        <td id=\"T_2c5b3_row1_col2\" class=\"data row1 col2\" >Ø</td>\n",
       "                        <td id=\"T_2c5b3_row1_col3\" class=\"data row1 col3\" >NUM+PL+C</td>\n",
       "            </tr>\n",
       "            <tr>\n",
       "                        <th id=\"T_2c5b3_level0_row2\" class=\"row_heading level0 row2\" >452909</th>\n",
       "                        <td id=\"T_2c5b3_row2_col0\" class=\"data row2 col0\" >Judges 14:14</td>\n",
       "                        <td id=\"T_2c5b3_row2_col1\" class=\"data row2 col1\" >וְלֹ֥א יָכְל֛וּ שְׁלֹ֥שֶׁת יָמִֽים׃ </td>\n",
       "                        <td id=\"T_2c5b3_row2_col2\" class=\"data row2 col2\" >Ø</td>\n",
       "                        <td id=\"T_2c5b3_row2_col3\" class=\"data row2 col3\" >NUM+PL</td>\n",
       "            </tr>\n",
       "            <tr>\n",
       "                        <th id=\"T_2c5b3_level0_row3\" class=\"row_heading level0 row3\" >457507</th>\n",
       "                        <td id=\"T_2c5b3_row3_col0\" class=\"data row3 col0\" >1_Samuel 27:1</td>\n",
       "                        <td id=\"T_2c5b3_row3_col1\" class=\"data row3 col1\" >עַתָּ֛ה אֶסָּפֶ֥ה יֹום־אֶחָ֖ד בְּיַד־שָׁא֑וּל </td>\n",
       "                        <td id=\"T_2c5b3_row3_col2\" class=\"data row3 col2\" >Ø</td>\n",
       "                        <td id=\"T_2c5b3_row3_col3\" class=\"data row3 col3\" >NUM</td>\n",
       "            </tr>\n",
       "            <tr>\n",
       "                        <th id=\"T_2c5b3_level0_row4\" class=\"row_heading level0 row4\" >462021</th>\n",
       "                        <td id=\"T_2c5b3_row4_col0\" class=\"data row4 col0\" >1_Kings 6:38</td>\n",
       "                        <td id=\"T_2c5b3_row4_col1\" class=\"data row4 col1\" >וַיִּבְנֵ֖הוּ שֶׁ֥בַע שָׁנִֽים׃ </td>\n",
       "                        <td id=\"T_2c5b3_row4_col2\" class=\"data row4 col2\" >Ø</td>\n",
       "                        <td id=\"T_2c5b3_row4_col3\" class=\"data row4 col3\" >NUM+PL</td>\n",
       "            </tr>\n",
       "            <tr>\n",
       "                        <th id=\"T_2c5b3_level0_row5\" class=\"row_heading level0 row5\" >462022</th>\n",
       "                        <td id=\"T_2c5b3_row5_col0\" class=\"data row5 col0\" >1_Kings 7:1</td>\n",
       "                        <td id=\"T_2c5b3_row5_col1\" class=\"data row5 col1\" >וְאֶת־בֵּיתֹו֙ בָּנָ֣ה שְׁלֹמֹ֔ה שְׁלֹ֥שׁ עֶשְׂרֵ֖ה שָׁנָ֑ה </td>\n",
       "                        <td id=\"T_2c5b3_row5_col2\" class=\"data row5 col2\" >Ø</td>\n",
       "                        <td id=\"T_2c5b3_row5_col3\" class=\"data row5 col3\" >NUM</td>\n",
       "            </tr>\n",
       "            <tr>\n",
       "                        <th id=\"T_2c5b3_level0_row6\" class=\"row_heading level0 row6\" >462635</th>\n",
       "                        <td id=\"T_2c5b3_row6_col0\" class=\"data row6 col0\" >1_Kings 10:14</td>\n",
       "                        <td id=\"T_2c5b3_row6_col1\" class=\"data row6 col1\" >אֲשֶׁר־בָּ֥א לִשְׁלֹמֹ֖ה בְּשָׁנָ֣ה אֶחָ֑ת </td>\n",
       "                        <td id=\"T_2c5b3_row6_col2\" class=\"data row6 col2\" >ב</td>\n",
       "                        <td id=\"T_2c5b3_row6_col3\" class=\"data row6 col3\" >NUM</td>\n",
       "            </tr>\n",
       "            <tr>\n",
       "                        <th id=\"T_2c5b3_level0_row7\" class=\"row_heading level0 row7\" >464251</th>\n",
       "                        <td id=\"T_2c5b3_row7_col0\" class=\"data row7 col0\" >1_Kings 20:29</td>\n",
       "                        <td id=\"T_2c5b3_row7_col1\" class=\"data row7 col1\" >וַיַּכּ֨וּ בְנֵֽי־יִשְׂרָאֵ֧ל אֶת־אֲרָ֛ם מֵאָה־אֶ֥לֶף רַגְלִ֖י בְּיֹ֥ום אֶחָֽד׃ </td>\n",
       "                        <td id=\"T_2c5b3_row7_col2\" class=\"data row7 col2\" >ב</td>\n",
       "                        <td id=\"T_2c5b3_row7_col3\" class=\"data row7 col3\" >NUM</td>\n",
       "            </tr>\n",
       "            <tr>\n",
       "                        <th id=\"T_2c5b3_level0_row8\" class=\"row_heading level0 row8\" >468855</th>\n",
       "                        <td id=\"T_2c5b3_row8_col0\" class=\"data row8 col0\" >Isaiah 9:13</td>\n",
       "                        <td id=\"T_2c5b3_row8_col1\" class=\"data row8 col1\" >וַיַּכְרֵ֨ת יְהוָ֜ה מִיִּשְׂרָאֵ֗ל רֹ֧אשׁ וְזָנָ֛ב כִּפָּ֥ה וְאַגְמֹ֖ון יֹ֥ום אֶחָֽד׃ </td>\n",
       "                        <td id=\"T_2c5b3_row8_col2\" class=\"data row8 col2\" >Ø</td>\n",
       "                        <td id=\"T_2c5b3_row8_col3\" class=\"data row8 col3\" >NUM</td>\n",
       "            </tr>\n",
       "            <tr>\n",
       "                        <th id=\"T_2c5b3_level0_row9\" class=\"row_heading level0 row9\" >468958</th>\n",
       "                        <td id=\"T_2c5b3_row9_col0\" class=\"data row9 col0\" >Isaiah 10:17</td>\n",
       "                        <td id=\"T_2c5b3_row9_col1\" class=\"data row9 col1\" >וְאָֽכְלָ֛ה שִׁיתֹ֥ו וּשְׁמִירֹ֖ו בְּיֹ֥ום אֶחָֽד׃ </td>\n",
       "                        <td id=\"T_2c5b3_row9_col2\" class=\"data row9 col2\" >ב</td>\n",
       "                        <td id=\"T_2c5b3_row9_col3\" class=\"data row9 col3\" >NUM</td>\n",
       "            </tr>\n",
       "            <tr>\n",
       "                        <th id=\"T_2c5b3_level0_row10\" class=\"row_heading level0 row10\" >473751</th>\n",
       "                        <td id=\"T_2c5b3_row10_col0\" class=\"data row10 col0\" >Isaiah 66:8</td>\n",
       "                        <td id=\"T_2c5b3_row10_col1\" class=\"data row10 col1\" >הֲי֤וּחַל אֶ֨רֶץ֙ בְּיֹ֣ום אֶחָ֔ד </td>\n",
       "                        <td id=\"T_2c5b3_row10_col2\" class=\"data row10 col2\" >ב</td>\n",
       "                        <td id=\"T_2c5b3_row10_col3\" class=\"data row10 col3\" >NUM</td>\n",
       "            </tr>\n",
       "            <tr>\n",
       "                        <th id=\"T_2c5b3_level0_row11\" class=\"row_heading level0 row11\" >504632</th>\n",
       "                        <td id=\"T_2c5b3_row11_col0\" class=\"data row11 col0\" >Ecclesiastes 11:1</td>\n",
       "                        <td id=\"T_2c5b3_row11_col1\" class=\"data row11 col1\" >כִּֽי־בְרֹ֥ב הַיָּמִ֖ים תִּמְצָאֶֽנּוּ׃ </td>\n",
       "                        <td id=\"T_2c5b3_row11_col2\" class=\"data row11 col2\" >ב</td>\n",
       "                        <td id=\"T_2c5b3_row11_col3\" class=\"data row11 col3\" >QUANT+DEF+PL</td>\n",
       "            </tr>\n",
       "            <tr>\n",
       "                        <th id=\"T_2c5b3_level0_row12\" class=\"row_heading level0 row12\" >513094</th>\n",
       "                        <td id=\"T_2c5b3_row12_col0\" class=\"data row12 col0\" >2_Chronicles 9:13</td>\n",
       "                        <td id=\"T_2c5b3_row12_col1\" class=\"data row12 col1\" >אֲשֶׁר־בָּ֥א לִשְׁלֹמֹ֖ה בְּשָׁנָ֣ה אֶחָ֑ת </td>\n",
       "                        <td id=\"T_2c5b3_row12_col2\" class=\"data row12 col2\" >ב</td>\n",
       "                        <td id=\"T_2c5b3_row12_col3\" class=\"data row12 col3\" >NUM</td>\n",
       "            </tr>\n",
       "            <tr>\n",
       "                        <th id=\"T_2c5b3_level0_row13\" class=\"row_heading level0 row13\" >514699</th>\n",
       "                        <td id=\"T_2c5b3_row13_col0\" class=\"data row13 col0\" >2_Chronicles 28:6</td>\n",
       "                        <td id=\"T_2c5b3_row13_col1\" class=\"data row13 col1\" >וַיַּהֲרֹג֩ פֶּ֨קַח בֶּן־רְמַלְיָ֜הוּ בִּֽיהוּדָ֗ה מֵאָ֨ה וְעֶשְׂרִ֥ים אֶ֛לֶף בְּיֹ֥ום אֶחָ֖ד </td>\n",
       "                        <td id=\"T_2c5b3_row13_col2\" class=\"data row13 col2\" >ב</td>\n",
       "                        <td id=\"T_2c5b3_row13_col3\" class=\"data row13 col3\" >NUM</td>\n",
       "            </tr>\n",
       "    </tbody></table>"
      ],
      "text/plain": [
       "<pandas.io.formats.style.Styler at 0x7f83485f8460>"
      ]
     },
     "execution_count": 81,
     "metadata": {},
     "output_type": "execute_result"
    }
   ],
   "source": [
    "ts.show(\n",
    "    teldf, extra=['front', 'modtag2']\n",
    ")"
   ]
  },
  {
   "cell_type": "code",
   "execution_count": 82,
   "metadata": {
    "collapsed": true,
    "jupyter": {
     "outputs_hidden": true
    }
   },
   "outputs": [
    {
     "data": {
      "text/html": [
       "<div>\n",
       "<style scoped>\n",
       "    .dataframe tbody tr th:only-of-type {\n",
       "        vertical-align: middle;\n",
       "    }\n",
       "\n",
       "    .dataframe tbody tr th {\n",
       "        vertical-align: top;\n",
       "    }\n",
       "\n",
       "    .dataframe thead th {\n",
       "        text-align: right;\n",
       "    }\n",
       "</style>\n",
       "<table border=\"1\" class=\"dataframe\">\n",
       "  <thead>\n",
       "    <tr style=\"text-align: right;\">\n",
       "      <th>modtag2</th>\n",
       "      <th>NUM</th>\n",
       "      <th>NUM+PL</th>\n",
       "      <th>NUM+PL+C</th>\n",
       "      <th>QUANT+DEF+PL</th>\n",
       "    </tr>\n",
       "    <tr>\n",
       "      <th>front</th>\n",
       "      <th></th>\n",
       "      <th></th>\n",
       "      <th></th>\n",
       "      <th></th>\n",
       "    </tr>\n",
       "  </thead>\n",
       "  <tbody>\n",
       "    <tr>\n",
       "      <th>ב</th>\n",
       "      <td>7</td>\n",
       "      <td>0</td>\n",
       "      <td>0</td>\n",
       "      <td>1</td>\n",
       "    </tr>\n",
       "    <tr>\n",
       "      <th>Ø</th>\n",
       "      <td>3</td>\n",
       "      <td>2</td>\n",
       "      <td>1</td>\n",
       "      <td>0</td>\n",
       "    </tr>\n",
       "  </tbody>\n",
       "</table>\n",
       "</div>"
      ],
      "text/plain": [
       "modtag2  NUM  NUM+PL  NUM+PL+C  QUANT+DEF+PL\n",
       "front                                       \n",
       "ב          7       0         0             1\n",
       "Ø          3       2         1             0"
      ]
     },
     "execution_count": 82,
     "metadata": {},
     "output_type": "execute_result"
    }
   ],
   "source": [
    "telext_mod_ct = pivot_ct(\n",
    "   teldf,\n",
    "    'front',\n",
    "    'modtag2'\n",
    ")\n",
    "\n",
    "\n",
    "telext_mod_pr = telext_mod_ct.div(telext_mod_ct.sum(1), 0)\n",
    "telext_mod_pc = telext_mod_pr.mul(100).round().astype(int).astype(str)+'%'\n",
    "\n",
    "out.table(\n",
    "    telext_mod_ct,\n",
    "    'telext_mod_ct',\n",
    "    caption='Modifier Frequencies for Telic Extent Forms'\n",
    ")"
   ]
  },
  {
   "cell_type": "code",
   "execution_count": 83,
   "metadata": {
    "collapsed": true,
    "jupyter": {
     "outputs_hidden": true
    }
   },
   "outputs": [
    {
     "data": {
      "text/html": [
       "<div>\n",
       "<style scoped>\n",
       "    .dataframe tbody tr th:only-of-type {\n",
       "        vertical-align: middle;\n",
       "    }\n",
       "\n",
       "    .dataframe tbody tr th {\n",
       "        vertical-align: top;\n",
       "    }\n",
       "\n",
       "    .dataframe thead th {\n",
       "        text-align: right;\n",
       "    }\n",
       "</style>\n",
       "<table border=\"1\" class=\"dataframe\">\n",
       "  <thead>\n",
       "    <tr style=\"text-align: right;\">\n",
       "      <th>modtag2</th>\n",
       "      <th>NUM</th>\n",
       "      <th>NUM+PL</th>\n",
       "      <th>NUM+PL+C</th>\n",
       "      <th>QUANT+DEF+PL</th>\n",
       "    </tr>\n",
       "    <tr>\n",
       "      <th>front</th>\n",
       "      <th></th>\n",
       "      <th></th>\n",
       "      <th></th>\n",
       "      <th></th>\n",
       "    </tr>\n",
       "  </thead>\n",
       "  <tbody>\n",
       "    <tr>\n",
       "      <th>ב</th>\n",
       "      <td>88%</td>\n",
       "      <td>0%</td>\n",
       "      <td>0%</td>\n",
       "      <td>12%</td>\n",
       "    </tr>\n",
       "    <tr>\n",
       "      <th>Ø</th>\n",
       "      <td>50%</td>\n",
       "      <td>33%</td>\n",
       "      <td>17%</td>\n",
       "      <td>0%</td>\n",
       "    </tr>\n",
       "  </tbody>\n",
       "</table>\n",
       "</div>"
      ],
      "text/plain": [
       "modtag2  NUM NUM+PL NUM+PL+C QUANT+DEF+PL\n",
       "front                                    \n",
       "ב        88%     0%       0%          12%\n",
       "Ø        50%    33%      17%           0%"
      ]
     },
     "execution_count": 83,
     "metadata": {},
     "output_type": "execute_result"
    }
   ],
   "source": [
    "out.table(\n",
    "    telext_mod_pc,\n",
    "    'telext_mod_pc',\n",
    "    caption='Modifier Percentages for Telic Extent Forms'\n",
    ")"
   ]
  },
  {
   "cell_type": "markdown",
   "metadata": {},
   "source": [
    "# Text Examples"
   ]
  },
  {
   "cell_type": "markdown",
   "metadata": {},
   "source": [
    "## Automatic Examples"
   ]
  },
  {
   "cell_type": "code",
   "execution_count": 92,
   "metadata": {
    "collapsed": true,
    "jupyter": {
     "outputs_hidden": true
    }
   },
   "outputs": [
    {
     "name": "stdout",
     "output_type": "stream",
     "text": [
      "anterior_dur\n",
      "עד\n",
      "showing 5 of 292\n"
     ]
    },
    {
     "data": {
      "text/html": [
       "<style  type=\"text/css\" >\n",
       "#T_afbcd_row0_col1,#T_afbcd_row1_col1,#T_afbcd_row2_col1,#T_afbcd_row3_col1,#T_afbcd_row4_col1{\n",
       "            font-size: 20px;\n",
       "             font-family:  Times New Roman;\n",
       "             text-align:  right;\n",
       "             max-width:  500px;\n",
       "        }</style><table id=\"T_afbcd_\" ><thead>    <tr>        <th class=\"blank level0\" ></th>        <th class=\"col_heading level0 col0\" >verse</th>        <th class=\"col_heading level0 col1\" >clause</th>        <th class=\"col_heading level0 col2\" >function</th>        <th class=\"col_heading level0 col3\" >front</th>    </tr>    <tr>        <th class=\"index_name level0\" >node</th>        <th class=\"blank\" ></th>        <th class=\"blank\" ></th>        <th class=\"blank\" ></th>        <th class=\"blank\" ></th>    </tr></thead><tbody>\n",
       "                <tr>\n",
       "                        <th id=\"T_afbcd_level0_row0\" class=\"row_heading level0 row0\" >428203</th>\n",
       "                        <td id=\"T_afbcd_row0_col0\" class=\"data row0 col0\" >Genesis 8:5</td>\n",
       "                        <td id=\"T_afbcd_row0_col1\" class=\"data row0 col1\" >וְהַמַּ֗יִם הָיוּ֙ הָלֹ֣וךְ וְחָסֹ֔ור עַ֖ד הַחֹ֣דֶשׁ הָֽעֲשִׂירִ֑י </td>\n",
       "                        <td id=\"T_afbcd_row0_col2\" class=\"data row0 col2\" >anterior_dur</td>\n",
       "                        <td id=\"T_afbcd_row0_col3\" class=\"data row0 col3\" >עד</td>\n",
       "            </tr>\n",
       "            <tr>\n",
       "                        <th id=\"T_afbcd_level0_row1\" class=\"row_heading level0 row1\" >444795</th>\n",
       "                        <td id=\"T_afbcd_row1_col0\" class=\"data row1 col0\" >Numbers 35:25</td>\n",
       "                        <td id=\"T_afbcd_row1_col1\" class=\"data row1 col1\" >וְיָ֣שַׁב בָּ֗הּ עַד־מֹות֙ הַכֹּהֵ֣ן הַגָּדֹ֔ל </td>\n",
       "                        <td id=\"T_afbcd_row1_col2\" class=\"data row1 col2\" >anterior_dur</td>\n",
       "                        <td id=\"T_afbcd_row1_col3\" class=\"data row1 col3\" >עד</td>\n",
       "            </tr>\n",
       "            <tr>\n",
       "                        <th id=\"T_afbcd_level0_row2\" class=\"row_heading level0 row2\" >458621</th>\n",
       "                        <td id=\"T_afbcd_row2_col0\" class=\"data row2 col0\" >2_Samuel 6:23</td>\n",
       "                        <td id=\"T_afbcd_row2_col1\" class=\"data row2 col1\" >לֹֽא־הָ֥יָה לָ֖הּ יָ֑לֶד עַ֖ד יֹ֥ום מֹותָֽהּ׃ פ </td>\n",
       "                        <td id=\"T_afbcd_row2_col2\" class=\"data row2 col2\" >anterior_dur</td>\n",
       "                        <td id=\"T_afbcd_row2_col3\" class=\"data row2 col3\" >עד</td>\n",
       "            </tr>\n",
       "            <tr>\n",
       "                        <th id=\"T_afbcd_level0_row3\" class=\"row_heading level0 row3\" >489006</th>\n",
       "                        <td id=\"T_afbcd_row3_col0\" class=\"data row3 col0\" >Zechariah 1:12</td>\n",
       "                        <td id=\"T_afbcd_row3_col1\" class=\"data row3 col1\" >עַד־מָתַ֗י אַתָּה֙ לֹֽא־תְרַחֵ֣ם אֶת־יְרוּשָׁלִַ֔ם וְאֵ֖ת עָרֵ֣י יְהוּדָ֑ה </td>\n",
       "                        <td id=\"T_afbcd_row3_col2\" class=\"data row3 col2\" >anterior_dur</td>\n",
       "                        <td id=\"T_afbcd_row3_col3\" class=\"data row3 col3\" >עד</td>\n",
       "            </tr>\n",
       "            <tr>\n",
       "                        <th id=\"T_afbcd_level0_row4\" class=\"row_heading level0 row4\" >515582</th>\n",
       "                        <td id=\"T_afbcd_row4_col0\" class=\"data row4 col0\" >2_Chronicles 35:25</td>\n",
       "                        <td id=\"T_afbcd_row4_col1\" class=\"data row4 col1\" >וַיֹּאמְר֣וּ כָֽל־הַשָּׁרִ֣ים׀ וְ֠הַשָּׁרֹות בְּקִינֹ֨ותֵיהֶ֤ם עַל־יֹאשִׁיָּ֨הוּ֙ עַד־הַיֹּ֔ום </td>\n",
       "                        <td id=\"T_afbcd_row4_col2\" class=\"data row4 col2\" >anterior_dur</td>\n",
       "                        <td id=\"T_afbcd_row4_col3\" class=\"data row4 col3\" >עד</td>\n",
       "            </tr>\n",
       "    </tbody></table>"
      ],
      "text/plain": [
       "<pandas.io.formats.style.Styler at 0x7f834866de50>"
      ]
     },
     "metadata": {},
     "output_type": "display_data"
    },
    {
     "name": "stdout",
     "output_type": "stream",
     "text": [
      "ל\n",
      "showing 5 of 154\n"
     ]
    },
    {
     "data": {
      "text/html": [
       "<style  type=\"text/css\" >\n",
       "#T_2edb7_row0_col1,#T_2edb7_row1_col1,#T_2edb7_row2_col1,#T_2edb7_row3_col1,#T_2edb7_row4_col1{\n",
       "            font-size: 20px;\n",
       "             font-family:  Times New Roman;\n",
       "             text-align:  right;\n",
       "             max-width:  500px;\n",
       "        }</style><table id=\"T_2edb7_\" ><thead>    <tr>        <th class=\"blank level0\" ></th>        <th class=\"col_heading level0 col0\" >verse</th>        <th class=\"col_heading level0 col1\" >clause</th>        <th class=\"col_heading level0 col2\" >function</th>        <th class=\"col_heading level0 col3\" >front</th>    </tr>    <tr>        <th class=\"index_name level0\" >node</th>        <th class=\"blank\" ></th>        <th class=\"blank\" ></th>        <th class=\"blank\" ></th>        <th class=\"blank\" ></th>    </tr></thead><tbody>\n",
       "                <tr>\n",
       "                        <th id=\"T_2edb7_level0_row0\" class=\"row_heading level0 row0\" >427870</th>\n",
       "                        <td id=\"T_2edb7_row0_col0\" class=\"data row0 col0\" >Genesis 3:22</td>\n",
       "                        <td id=\"T_2edb7_row0_col1\" class=\"data row0 col1\" >וָחַ֥י לְעֹלָֽם׃ </td>\n",
       "                        <td id=\"T_2edb7_row0_col2\" class=\"data row0 col2\" >anterior_dur</td>\n",
       "                        <td id=\"T_2edb7_row0_col3\" class=\"data row0 col3\" >ל</td>\n",
       "            </tr>\n",
       "            <tr>\n",
       "                        <th id=\"T_2edb7_level0_row1\" class=\"row_heading level0 row1\" >477457</th>\n",
       "                        <td id=\"T_2edb7_row1_col0\" class=\"data row1 col0\" >Jeremiah 31:40</td>\n",
       "                        <td id=\"T_2edb7_row1_col1\" class=\"data row1 col1\" >וְֽלֹא־יֵהָרֵ֛ס עֹ֖וד לְעֹולָֽם׃ ס </td>\n",
       "                        <td id=\"T_2edb7_row1_col2\" class=\"data row1 col2\" >anterior_dur</td>\n",
       "                        <td id=\"T_2edb7_row1_col3\" class=\"data row1 col3\" >ל</td>\n",
       "            </tr>\n",
       "            <tr>\n",
       "                        <th id=\"T_2edb7_level0_row2\" class=\"row_heading level0 row2\" >492218</th>\n",
       "                        <td id=\"T_2edb7_row2_col0\" class=\"data row2 col0\" >Psalms 41:13</td>\n",
       "                        <td id=\"T_2edb7_row2_col1\" class=\"data row2 col1\" >וַתַּצִּיבֵ֖נִי לְפָנֶ֣יךָ לְעֹולָֽם׃ </td>\n",
       "                        <td id=\"T_2edb7_row2_col2\" class=\"data row2 col2\" >anterior_dur</td>\n",
       "                        <td id=\"T_2edb7_row2_col3\" class=\"data row2 col3\" >ל</td>\n",
       "            </tr>\n",
       "            <tr>\n",
       "                        <th id=\"T_2edb7_level0_row3\" class=\"row_heading level0 row3\" >495904</th>\n",
       "                        <td id=\"T_2edb7_row3_col0\" class=\"data row3 col0\" >Psalms 111:10</td>\n",
       "                        <td id=\"T_2edb7_row3_col1\" class=\"data row3 col1\" >תְּ֝הִלָּתֹ֗ו עֹמֶ֥דֶת לָעַֽד׃ </td>\n",
       "                        <td id=\"T_2edb7_row3_col2\" class=\"data row3 col2\" >anterior_dur</td>\n",
       "                        <td id=\"T_2edb7_row3_col3\" class=\"data row3 col3\" >ל</td>\n",
       "            </tr>\n",
       "            <tr>\n",
       "                        <th id=\"T_2edb7_level0_row4\" class=\"row_heading level0 row4\" >515267</th>\n",
       "                        <td id=\"T_2edb7_row4_col0\" class=\"data row4 col0\" >2_Chronicles 33:7</td>\n",
       "                        <td id=\"T_2edb7_row4_col1\" class=\"data row4 col1\" >בַּבַּ֨יִת הַזֶּ֜ה וּבִֽירוּשָׁלִַ֗ם אָשִׂ֥ים אֶת־שְׁמִ֖י לְעֵילֹֽום׃ </td>\n",
       "                        <td id=\"T_2edb7_row4_col2\" class=\"data row4 col2\" >anterior_dur</td>\n",
       "                        <td id=\"T_2edb7_row4_col3\" class=\"data row4 col3\" >ל</td>\n",
       "            </tr>\n",
       "    </tbody></table>"
      ],
      "text/plain": [
       "<pandas.io.formats.style.Styler at 0x7f834866dfd0>"
      ]
     },
     "metadata": {},
     "output_type": "display_data"
    },
    {
     "name": "stdout",
     "output_type": "stream",
     "text": [
      "עד+ל\n",
      "showing 3 of 3\n"
     ]
    },
    {
     "data": {
      "text/html": [
       "<style  type=\"text/css\" >\n",
       "#T_2b9e9_row0_col1,#T_2b9e9_row1_col1,#T_2b9e9_row2_col1{\n",
       "            font-size: 20px;\n",
       "             font-family:  Times New Roman;\n",
       "             text-align:  right;\n",
       "             max-width:  500px;\n",
       "        }</style><table id=\"T_2b9e9_\" ><thead>    <tr>        <th class=\"blank level0\" ></th>        <th class=\"col_heading level0 col0\" >verse</th>        <th class=\"col_heading level0 col1\" >clause</th>        <th class=\"col_heading level0 col2\" >function</th>        <th class=\"col_heading level0 col3\" >front</th>    </tr>    <tr>        <th class=\"index_name level0\" >node</th>        <th class=\"blank\" ></th>        <th class=\"blank\" ></th>        <th class=\"blank\" ></th>        <th class=\"blank\" ></th>    </tr></thead><tbody>\n",
       "                <tr>\n",
       "                        <th id=\"T_2b9e9_level0_row0\" class=\"row_heading level0 row0\" >508373</th>\n",
       "                        <td id=\"T_2b9e9_row0_col0\" class=\"data row0 col0\" >Ezra 9:4</td>\n",
       "                        <td id=\"T_2b9e9_row0_col1\" class=\"data row0 col1\" >וַאֲנִי֙ יֹשֵׁ֣ב מְשֹׁומֵ֔ם עַ֖ד לְמִנְחַ֥ת הָעָֽרֶב׃ </td>\n",
       "                        <td id=\"T_2b9e9_row0_col2\" class=\"data row0 col2\" >anterior_dur</td>\n",
       "                        <td id=\"T_2b9e9_row0_col3\" class=\"data row0 col3\" >עד+ל</td>\n",
       "            </tr>\n",
       "            <tr>\n",
       "                        <th id=\"T_2b9e9_level0_row1\" class=\"row_heading level0 row1\" >511836</th>\n",
       "                        <td id=\"T_2b9e9_row1_col0\" class=\"data row1 col0\" >1_Chronicles 23:25</td>\n",
       "                        <td id=\"T_2b9e9_row1_col1\" class=\"data row1 col1\" >וַיִּשְׁכֹּ֥ן בִּירוּשָׁלִַ֖ם עַד־לְעֹולָֽם׃ </td>\n",
       "                        <td id=\"T_2b9e9_row1_col2\" class=\"data row1 col2\" >anterior_dur</td>\n",
       "                        <td id=\"T_2b9e9_row1_col3\" class=\"data row1 col3\" >עד+ל</td>\n",
       "            </tr>\n",
       "            <tr>\n",
       "                        <th id=\"T_2b9e9_level0_row2\" class=\"row_heading level0 row2\" >512186</th>\n",
       "                        <td id=\"T_2b9e9_row2_col0\" class=\"data row2 col0\" >1_Chronicles 28:7</td>\n",
       "                        <td id=\"T_2b9e9_row2_col1\" class=\"data row2 col1\" >וַהֲכִינֹותִ֥י אֶת־מַלְכוּתֹ֖ו עַד־לְעֹולָ֑ם </td>\n",
       "                        <td id=\"T_2b9e9_row2_col2\" class=\"data row2 col2\" >anterior_dur</td>\n",
       "                        <td id=\"T_2b9e9_row2_col3\" class=\"data row2 col3\" >עד+ל</td>\n",
       "            </tr>\n",
       "    </tbody></table>"
      ],
      "text/plain": [
       "<pandas.io.formats.style.Styler at 0x7f8348675490>"
      ]
     },
     "metadata": {},
     "output_type": "display_data"
    },
    {
     "name": "stdout",
     "output_type": "stream",
     "text": [
      "--------------------------------------------------\n",
      "anterior\n",
      "ל+פנה\n",
      "showing 5 of 27\n"
     ]
    },
    {
     "data": {
      "text/html": [
       "<style  type=\"text/css\" >\n",
       "#T_fd5b3_row0_col1,#T_fd5b3_row1_col1,#T_fd5b3_row2_col1,#T_fd5b3_row3_col1,#T_fd5b3_row4_col1{\n",
       "            font-size: 20px;\n",
       "             font-family:  Times New Roman;\n",
       "             text-align:  right;\n",
       "             max-width:  500px;\n",
       "        }</style><table id=\"T_fd5b3_\" ><thead>    <tr>        <th class=\"blank level0\" ></th>        <th class=\"col_heading level0 col0\" >verse</th>        <th class=\"col_heading level0 col1\" >clause</th>        <th class=\"col_heading level0 col2\" >function</th>        <th class=\"col_heading level0 col3\" >front</th>    </tr>    <tr>        <th class=\"index_name level0\" >node</th>        <th class=\"blank\" ></th>        <th class=\"blank\" ></th>        <th class=\"blank\" ></th>        <th class=\"blank\" ></th>    </tr></thead><tbody>\n",
       "                <tr>\n",
       "                        <th id=\"T_fd5b3_level0_row0\" class=\"row_heading level0 row0\" >430247</th>\n",
       "                        <td id=\"T_fd5b3_row0_col0\" class=\"data row0 col0\" >Genesis 27:7</td>\n",
       "                        <td id=\"T_fd5b3_row0_col1\" class=\"data row0 col1\" >וַאֲבָרֶכְכָ֛ה לִפְנֵ֥י יְהוָ֖ה לִפְנֵ֥י מֹותִֽי׃ </td>\n",
       "                        <td id=\"T_fd5b3_row0_col2\" class=\"data row0 col2\" >anterior</td>\n",
       "                        <td id=\"T_fd5b3_row0_col3\" class=\"data row0 col3\" >ל+פנה</td>\n",
       "            </tr>\n",
       "            <tr>\n",
       "                        <th id=\"T_fd5b3_level0_row1\" class=\"row_heading level0 row1\" >445130</th>\n",
       "                        <td id=\"T_fd5b3_row1_col0\" class=\"data row1 col0\" >Deuteronomy 2:20</td>\n",
       "                        <td id=\"T_fd5b3_row1_col1\" class=\"data row1 col1\" >רְפָאִ֤ים יָֽשְׁבוּ־בָהּ֙ לְפָנִ֔ים </td>\n",
       "                        <td id=\"T_fd5b3_row1_col2\" class=\"data row1 col2\" >anterior</td>\n",
       "                        <td id=\"T_fd5b3_row1_col3\" class=\"data row1 col3\" >ל+פנה</td>\n",
       "            </tr>\n",
       "            <tr>\n",
       "                        <th id=\"T_fd5b3_level0_row2\" class=\"row_heading level0 row2\" >451182</th>\n",
       "                        <td id=\"T_fd5b3_row2_col0\" class=\"data row2 col0\" >Judges 1:23</td>\n",
       "                        <td id=\"T_fd5b3_row2_col1\" class=\"data row2 col1\" >וְשֵׁם־הָעִ֥יר לְפָנִ֖ים לֽוּז׃ </td>\n",
       "                        <td id=\"T_fd5b3_row2_col2\" class=\"data row2 col2\" >anterior</td>\n",
       "                        <td id=\"T_fd5b3_row2_col3\" class=\"data row2 col3\" >ל+פנה</td>\n",
       "            </tr>\n",
       "            <tr>\n",
       "                        <th id=\"T_fd5b3_level0_row3\" class=\"row_heading level0 row3\" >498056</th>\n",
       "                        <td id=\"T_fd5b3_row3_col0\" class=\"data row3 col0\" >Job 8:16</td>\n",
       "                        <td id=\"T_fd5b3_row3_col1\" class=\"data row3 col1\" >רָטֹ֣ב ה֖וּא לִפְנֵי־שָׁ֑מֶשׁ </td>\n",
       "                        <td id=\"T_fd5b3_row3_col2\" class=\"data row3 col2\" >anterior</td>\n",
       "                        <td id=\"T_fd5b3_row3_col3\" class=\"data row3 col3\" >ל+פנה</td>\n",
       "            </tr>\n",
       "            <tr>\n",
       "                        <th id=\"T_fd5b3_level0_row4\" class=\"row_heading level0 row4\" >513086</th>\n",
       "                        <td id=\"T_fd5b3_row4_col0\" class=\"data row4 col0\" >2_Chronicles 9:11</td>\n",
       "                        <td id=\"T_fd5b3_row4_col1\" class=\"data row4 col1\" >וְלֹא־נִרְא֥וּ כָהֵ֛ם לְפָנִ֖ים בְּאֶ֥רֶץ יְהוּדָֽה׃ </td>\n",
       "                        <td id=\"T_fd5b3_row4_col2\" class=\"data row4 col2\" >anterior</td>\n",
       "                        <td id=\"T_fd5b3_row4_col3\" class=\"data row4 col3\" >ל+פנה</td>\n",
       "            </tr>\n",
       "    </tbody></table>"
      ],
      "text/plain": [
       "<pandas.io.formats.style.Styler at 0x7f834866d370>"
      ]
     },
     "metadata": {},
     "output_type": "display_data"
    },
    {
     "name": "stdout",
     "output_type": "stream",
     "text": [
      "טרם\n",
      "showing 4 of 4\n"
     ]
    },
    {
     "data": {
      "text/html": [
       "<style  type=\"text/css\" >\n",
       "#T_eecb4_row0_col1,#T_eecb4_row1_col1,#T_eecb4_row2_col1,#T_eecb4_row3_col1{\n",
       "            font-size: 20px;\n",
       "             font-family:  Times New Roman;\n",
       "             text-align:  right;\n",
       "             max-width:  500px;\n",
       "        }</style><table id=\"T_eecb4_\" ><thead>    <tr>        <th class=\"blank level0\" ></th>        <th class=\"col_heading level0 col0\" >verse</th>        <th class=\"col_heading level0 col1\" >clause</th>        <th class=\"col_heading level0 col2\" >function</th>        <th class=\"col_heading level0 col3\" >front</th>    </tr>    <tr>        <th class=\"index_name level0\" >node</th>        <th class=\"blank\" ></th>        <th class=\"blank\" ></th>        <th class=\"blank\" ></th>        <th class=\"blank\" ></th>    </tr></thead><tbody>\n",
       "                <tr>\n",
       "                        <th id=\"T_eecb4_level0_row0\" class=\"row_heading level0 row0\" >427693</th>\n",
       "                        <td id=\"T_eecb4_row0_col0\" class=\"data row0 col0\" >Genesis 2:5</td>\n",
       "                        <td id=\"T_eecb4_row0_col1\" class=\"data row0 col1\" >וְכֹ֣ל׀ שִׂ֣יחַ הַשָּׂדֶ֗ה טֶ֚רֶם יִֽהְיֶ֣ה בָאָ֔רֶץ </td>\n",
       "                        <td id=\"T_eecb4_row0_col2\" class=\"data row0 col2\" >anterior</td>\n",
       "                        <td id=\"T_eecb4_row0_col3\" class=\"data row0 col3\" >טרם</td>\n",
       "            </tr>\n",
       "            <tr>\n",
       "                        <th id=\"T_eecb4_level0_row1\" class=\"row_heading level0 row1\" >427694</th>\n",
       "                        <td id=\"T_eecb4_row1_col0\" class=\"data row1 col0\" >Genesis 2:5</td>\n",
       "                        <td id=\"T_eecb4_row1_col1\" class=\"data row1 col1\" >וְכָל־עֵ֥שֶׂב הַשָּׂדֶ֖ה טֶ֣רֶם יִצְמָ֑ח </td>\n",
       "                        <td id=\"T_eecb4_row1_col2\" class=\"data row1 col2\" >anterior</td>\n",
       "                        <td id=\"T_eecb4_row1_col3\" class=\"data row1 col3\" >טרם</td>\n",
       "            </tr>\n",
       "            <tr>\n",
       "                        <th id=\"T_eecb4_level0_row2\" class=\"row_heading level0 row2\" >434600</th>\n",
       "                        <td id=\"T_eecb4_row2_col0\" class=\"data row2 col0\" >Exodus 10:7</td>\n",
       "                        <td id=\"T_eecb4_row2_col1\" class=\"data row2 col1\" >הֲטֶ֣רֶם תֵּדַ֔ע </td>\n",
       "                        <td id=\"T_eecb4_row2_col2\" class=\"data row2 col2\" >anterior</td>\n",
       "                        <td id=\"T_eecb4_row2_col3\" class=\"data row2 col3\" >טרם</td>\n",
       "            </tr>\n",
       "            <tr>\n",
       "                        <th id=\"T_eecb4_level0_row3\" class=\"row_heading level0 row3\" >448860</th>\n",
       "                        <td id=\"T_eecb4_row3_col0\" class=\"data row3 col0\" >Joshua 2:8</td>\n",
       "                        <td id=\"T_eecb4_row3_col1\" class=\"data row3 col1\" >טֶ֣רֶם יִשְׁכָּב֑וּן </td>\n",
       "                        <td id=\"T_eecb4_row3_col2\" class=\"data row3 col2\" >anterior</td>\n",
       "                        <td id=\"T_eecb4_row3_col3\" class=\"data row3 col3\" >טרם</td>\n",
       "            </tr>\n",
       "    </tbody></table>"
      ],
      "text/plain": [
       "<pandas.io.formats.style.Styler at 0x7f834866d2b0>"
      ]
     },
     "metadata": {},
     "output_type": "display_data"
    },
    {
     "name": "stdout",
     "output_type": "stream",
     "text": [
      "ל+פנה+מן\n",
      "showing 1 of 1\n"
     ]
    },
    {
     "data": {
      "text/html": [
       "<style  type=\"text/css\" >\n",
       "#T_bf9b4_row0_col1{\n",
       "            font-size: 20px;\n",
       "             font-family:  Times New Roman;\n",
       "             text-align:  right;\n",
       "             max-width:  500px;\n",
       "        }</style><table id=\"T_bf9b4_\" ><thead>    <tr>        <th class=\"blank level0\" ></th>        <th class=\"col_heading level0 col0\" >verse</th>        <th class=\"col_heading level0 col1\" >clause</th>        <th class=\"col_heading level0 col2\" >function</th>        <th class=\"col_heading level0 col3\" >front</th>    </tr>    <tr>        <th class=\"index_name level0\" >node</th>        <th class=\"blank\" ></th>        <th class=\"blank\" ></th>        <th class=\"blank\" ></th>        <th class=\"blank\" ></th>    </tr></thead><tbody>\n",
       "                <tr>\n",
       "                        <th id=\"T_bf9b4_level0_row0\" class=\"row_heading level0 row0\" >509727</th>\n",
       "                        <td id=\"T_bf9b4_row0_col0\" class=\"data row0 col0\" >Nehemiah 13:4</td>\n",
       "                        <td id=\"T_bf9b4_row0_col1\" class=\"data row0 col1\" >וְלִפְנֵ֣י מִזֶּ֔ה אֶלְיָשִׁיב֙ הַכֹּהֵ֔ן </td>\n",
       "                        <td id=\"T_bf9b4_row0_col2\" class=\"data row0 col2\" >anterior</td>\n",
       "                        <td id=\"T_bf9b4_row0_col3\" class=\"data row0 col3\" >ל+פנה+מן</td>\n",
       "            </tr>\n",
       "    </tbody></table>"
      ],
      "text/plain": [
       "<pandas.io.formats.style.Styler at 0x7f834a8a1af0>"
      ]
     },
     "metadata": {},
     "output_type": "display_data"
    },
    {
     "name": "stdout",
     "output_type": "stream",
     "text": [
      "--------------------------------------------------\n",
      "posterior\n",
      "אחר\n",
      "showing 5 of 161\n"
     ]
    },
    {
     "data": {
      "text/html": [
       "<style  type=\"text/css\" >\n",
       "#T_49489_row0_col1,#T_49489_row1_col1,#T_49489_row2_col1,#T_49489_row3_col1,#T_49489_row4_col1{\n",
       "            font-size: 20px;\n",
       "             font-family:  Times New Roman;\n",
       "             text-align:  right;\n",
       "             max-width:  500px;\n",
       "        }</style><table id=\"T_49489_\" ><thead>    <tr>        <th class=\"blank level0\" ></th>        <th class=\"col_heading level0 col0\" >verse</th>        <th class=\"col_heading level0 col1\" >clause</th>        <th class=\"col_heading level0 col2\" >function</th>        <th class=\"col_heading level0 col3\" >front</th>    </tr>    <tr>        <th class=\"index_name level0\" >node</th>        <th class=\"blank\" ></th>        <th class=\"blank\" ></th>        <th class=\"blank\" ></th>        <th class=\"blank\" ></th>    </tr></thead><tbody>\n",
       "                <tr>\n",
       "                        <th id=\"T_49489_level0_row0\" class=\"row_heading level0 row0\" >428070</th>\n",
       "                        <td id=\"T_49489_row0_col0\" class=\"data row0 col0\" >Genesis 6:4</td>\n",
       "                        <td id=\"T_49489_row0_col1\" class=\"data row0 col1\" >וְגַ֣ם אַֽחֲרֵי־כֵ֗ן </td>\n",
       "                        <td id=\"T_49489_row0_col2\" class=\"data row0 col2\" >posterior</td>\n",
       "                        <td id=\"T_49489_row0_col3\" class=\"data row0 col3\" >אחר</td>\n",
       "            </tr>\n",
       "            <tr>\n",
       "                        <th id=\"T_49489_level0_row1\" class=\"row_heading level0 row1\" >440180</th>\n",
       "                        <td id=\"T_49489_row1_col0\" class=\"data row1 col0\" >Leviticus 22:7</td>\n",
       "                        <td id=\"T_49489_row1_col1\" class=\"data row1 col1\" >וְאַחַר֙ יֹאכַ֣ל מִן־הַקֳּדָשִׁ֔ים </td>\n",
       "                        <td id=\"T_49489_row1_col2\" class=\"data row1 col2\" >posterior</td>\n",
       "                        <td id=\"T_49489_row1_col3\" class=\"data row1 col3\" >אחר</td>\n",
       "            </tr>\n",
       "            <tr>\n",
       "                        <th id=\"T_49489_level0_row2\" class=\"row_heading level0 row2\" >457117</th>\n",
       "                        <td id=\"T_49489_row2_col0\" class=\"data row2 col0\" >1_Samuel 24:22</td>\n",
       "                        <td id=\"T_49489_row2_col1\" class=\"data row2 col1\" >אִם־תַּכְרִ֥ית אֶת־זַרְעִ֖י אַֽחֲרָ֑י </td>\n",
       "                        <td id=\"T_49489_row2_col2\" class=\"data row2 col2\" >posterior</td>\n",
       "                        <td id=\"T_49489_row2_col3\" class=\"data row2 col3\" >אחר</td>\n",
       "            </tr>\n",
       "            <tr>\n",
       "                        <th id=\"T_49489_level0_row3\" class=\"row_heading level0 row3\" >502997</th>\n",
       "                        <td id=\"T_49489_row3_col0\" class=\"data row3 col0\" >Ruth 2:11</td>\n",
       "                        <td id=\"T_49489_row3_col1\" class=\"data row3 col1\" >אֲשֶׁר־עָשִׂית֙ אֶת־חֲמֹותֵ֔ךְ אַחֲרֵ֖י מֹ֣ות אִישֵׁ֑ךְ </td>\n",
       "                        <td id=\"T_49489_row3_col2\" class=\"data row3 col2\" >posterior</td>\n",
       "                        <td id=\"T_49489_row3_col3\" class=\"data row3 col3\" >אחר</td>\n",
       "            </tr>\n",
       "            <tr>\n",
       "                        <th id=\"T_49489_level0_row4\" class=\"row_heading level0 row4\" >515548</th>\n",
       "                        <td id=\"T_49489_row4_col0\" class=\"data row4 col0\" >2_Chronicles 35:20</td>\n",
       "                        <td id=\"T_49489_row4_col1\" class=\"data row4 col1\" >אַחֲרֵ֣י כָל־זֹ֗את עָלָ֞ה נְכֹ֧ו מֶֽלֶךְ־מִצְרַ֛יִם </td>\n",
       "                        <td id=\"T_49489_row4_col2\" class=\"data row4 col2\" >posterior</td>\n",
       "                        <td id=\"T_49489_row4_col3\" class=\"data row4 col3\" >אחר</td>\n",
       "            </tr>\n",
       "    </tbody></table>"
      ],
      "text/plain": [
       "<pandas.io.formats.style.Styler at 0x7f83486756d0>"
      ]
     },
     "metadata": {},
     "output_type": "display_data"
    },
    {
     "name": "stdout",
     "output_type": "stream",
     "text": [
      "מן\n",
      "showing 5 of 32\n"
     ]
    },
    {
     "data": {
      "text/html": [
       "<style  type=\"text/css\" >\n",
       "#T_88bc0_row0_col1,#T_88bc0_row1_col1,#T_88bc0_row2_col1,#T_88bc0_row3_col1,#T_88bc0_row4_col1{\n",
       "            font-size: 20px;\n",
       "             font-family:  Times New Roman;\n",
       "             text-align:  right;\n",
       "             max-width:  500px;\n",
       "        }</style><table id=\"T_88bc0_\" ><thead>    <tr>        <th class=\"blank level0\" ></th>        <th class=\"col_heading level0 col0\" >verse</th>        <th class=\"col_heading level0 col1\" >clause</th>        <th class=\"col_heading level0 col2\" >function</th>        <th class=\"col_heading level0 col3\" >front</th>    </tr>    <tr>        <th class=\"index_name level0\" >node</th>        <th class=\"blank\" ></th>        <th class=\"blank\" ></th>        <th class=\"blank\" ></th>        <th class=\"blank\" ></th>    </tr></thead><tbody>\n",
       "                <tr>\n",
       "                        <th id=\"T_88bc0_level0_row0\" class=\"row_heading level0 row0\" >429260</th>\n",
       "                        <td id=\"T_88bc0_row0_col0\" class=\"data row0 col0\" >Genesis 19:34</td>\n",
       "                        <td id=\"T_88bc0_row0_col1\" class=\"data row0 col1\" >וַֽיְהִי֙ מִֽמָּחֳרָ֔ת </td>\n",
       "                        <td id=\"T_88bc0_row0_col2\" class=\"data row0 col2\" >posterior</td>\n",
       "                        <td id=\"T_88bc0_row0_col3\" class=\"data row0 col3\" >מן</td>\n",
       "            </tr>\n",
       "            <tr>\n",
       "                        <th id=\"T_88bc0_level0_row1\" class=\"row_heading level0 row1\" >442804</th>\n",
       "                        <td id=\"T_88bc0_row1_col0\" class=\"data row1 col0\" >Numbers 17:6</td>\n",
       "                        <td id=\"T_88bc0_row1_col1\" class=\"data row1 col1\" >וַיִּלֹּ֜נוּ כָּל־עֲדַ֤ת בְּנֵֽי־יִשְׂרָאֵל֙ מִֽמָּחֳרָ֔ת עַל־מֹשֶׁ֥ה וְעַֽל־אַהֲרֹ֖ן </td>\n",
       "                        <td id=\"T_88bc0_row1_col2\" class=\"data row1 col2\" >posterior</td>\n",
       "                        <td id=\"T_88bc0_row1_col3\" class=\"data row1 col3\" >מן</td>\n",
       "            </tr>\n",
       "            <tr>\n",
       "                        <th id=\"T_88bc0_level0_row2\" class=\"row_heading level0 row2\" >453845</th>\n",
       "                        <td id=\"T_88bc0_row2_col0\" class=\"data row2 col0\" >Judges 21:4</td>\n",
       "                        <td id=\"T_88bc0_row2_col1\" class=\"data row2 col1\" >וַֽיְהִי֙ מִֽמָּחֳרָ֔ת </td>\n",
       "                        <td id=\"T_88bc0_row2_col2\" class=\"data row2 col2\" >posterior</td>\n",
       "                        <td id=\"T_88bc0_row2_col3\" class=\"data row2 col3\" >מן</td>\n",
       "            </tr>\n",
       "            <tr>\n",
       "                        <th id=\"T_88bc0_level0_row3\" class=\"row_heading level0 row3\" >474107</th>\n",
       "                        <td id=\"T_88bc0_row3_col0\" class=\"data row3 col0\" >Jeremiah 3:4</td>\n",
       "                        <td id=\"T_88bc0_row3_col1\" class=\"data row3 col1\" >הֲלֹ֣וא מֵעַ֔תָּה קָרָ֥את לִ֖י </td>\n",
       "                        <td id=\"T_88bc0_row3_col2\" class=\"data row3 col2\" >posterior</td>\n",
       "                        <td id=\"T_88bc0_row3_col3\" class=\"data row3 col3\" >מן</td>\n",
       "            </tr>\n",
       "            <tr>\n",
       "                        <th id=\"T_88bc0_level0_row4\" class=\"row_heading level0 row4\" >514549</th>\n",
       "                        <td id=\"T_88bc0_row4_col0\" class=\"data row4 col0\" >2_Chronicles 25:27</td>\n",
       "                        <td id=\"T_88bc0_row4_col1\" class=\"data row4 col1\" >וּמֵעֵ֗ת </td>\n",
       "                        <td id=\"T_88bc0_row4_col2\" class=\"data row4 col2\" >posterior</td>\n",
       "                        <td id=\"T_88bc0_row4_col3\" class=\"data row4 col3\" >מן</td>\n",
       "            </tr>\n",
       "    </tbody></table>"
      ],
      "text/plain": [
       "<pandas.io.formats.style.Styler at 0x7f83486750a0>"
      ]
     },
     "metadata": {},
     "output_type": "display_data"
    },
    {
     "name": "stdout",
     "output_type": "stream",
     "text": [
      "מן+קץ\n",
      "showing 5 of 18\n"
     ]
    },
    {
     "data": {
      "text/html": [
       "<style  type=\"text/css\" >\n",
       "#T_6e7a3_row0_col1,#T_6e7a3_row1_col1,#T_6e7a3_row2_col1,#T_6e7a3_row3_col1,#T_6e7a3_row4_col1{\n",
       "            font-size: 20px;\n",
       "             font-family:  Times New Roman;\n",
       "             text-align:  right;\n",
       "             max-width:  500px;\n",
       "        }</style><table id=\"T_6e7a3_\" ><thead>    <tr>        <th class=\"blank level0\" ></th>        <th class=\"col_heading level0 col0\" >verse</th>        <th class=\"col_heading level0 col1\" >clause</th>        <th class=\"col_heading level0 col2\" >function</th>        <th class=\"col_heading level0 col3\" >front</th>    </tr>    <tr>        <th class=\"index_name level0\" >node</th>        <th class=\"blank\" ></th>        <th class=\"blank\" ></th>        <th class=\"blank\" ></th>        <th class=\"blank\" ></th>    </tr></thead><tbody>\n",
       "                <tr>\n",
       "                        <th id=\"T_6e7a3_level0_row0\" class=\"row_heading level0 row0\" >427887</th>\n",
       "                        <td id=\"T_6e7a3_row0_col0\" class=\"data row0 col0\" >Genesis 4:3</td>\n",
       "                        <td id=\"T_6e7a3_row0_col1\" class=\"data row0 col1\" >וַֽיְהִ֖י מִקֵּ֣ץ יָמִ֑ים </td>\n",
       "                        <td id=\"T_6e7a3_row0_col2\" class=\"data row0 col2\" >posterior</td>\n",
       "                        <td id=\"T_6e7a3_row0_col3\" class=\"data row0 col3\" >מן+קץ</td>\n",
       "            </tr>\n",
       "            <tr>\n",
       "                        <th id=\"T_6e7a3_level0_row1\" class=\"row_heading level0 row1\" >445968</th>\n",
       "                        <td id=\"T_6e7a3_row1_col0\" class=\"data row1 col0\" >Deuteronomy 9:11</td>\n",
       "                        <td id=\"T_6e7a3_row1_col1\" class=\"data row1 col1\" >מִקֵּץ֙ אַרְבָּעִ֣ים יֹ֔ום וְאַרְבָּעִ֖ים לָ֑יְלָה נָתַ֨ן יְהוָ֜ה אֵלַ֗י אֶת־שְׁנֵ֛י לֻחֹ֥ת הָאֲבָנִ֖ים לֻחֹ֥ות הַבְּרִֽית׃ </td>\n",
       "                        <td id=\"T_6e7a3_row1_col2\" class=\"data row1 col2\" >posterior</td>\n",
       "                        <td id=\"T_6e7a3_row1_col3\" class=\"data row1 col3\" >מן+קץ</td>\n",
       "            </tr>\n",
       "            <tr>\n",
       "                        <th id=\"T_6e7a3_level0_row2\" class=\"row_heading level0 row2\" >459695</th>\n",
       "                        <td id=\"T_6e7a3_row2_col0\" class=\"data row2 col0\" >2_Samuel 15:7</td>\n",
       "                        <td id=\"T_6e7a3_row2_col1\" class=\"data row2 col1\" >וַיְהִ֕י מִקֵּ֖ץ אַרְבָּעִ֣ים שָׁנָ֑ה </td>\n",
       "                        <td id=\"T_6e7a3_row2_col2\" class=\"data row2 col2\" >posterior</td>\n",
       "                        <td id=\"T_6e7a3_row2_col3\" class=\"data row2 col3\" >מן+קץ</td>\n",
       "            </tr>\n",
       "            <tr>\n",
       "                        <th id=\"T_6e7a3_level0_row3\" class=\"row_heading level0 row3\" >469819</th>\n",
       "                        <td id=\"T_6e7a3_row3_col0\" class=\"data row3 col0\" >Isaiah 23:17</td>\n",
       "                        <td id=\"T_6e7a3_row3_col1\" class=\"data row3 col1\" >וְהָיָ֞ה מִקֵּ֣ץ׀ שִׁבְעִ֣ים שָׁנָ֗ה </td>\n",
       "                        <td id=\"T_6e7a3_row3_col2\" class=\"data row3 col2\" >posterior</td>\n",
       "                        <td id=\"T_6e7a3_row3_col3\" class=\"data row3 col3\" >מן+קץ</td>\n",
       "            </tr>\n",
       "            <tr>\n",
       "                        <th id=\"T_6e7a3_level0_row4\" class=\"row_heading level0 row4\" >512988</th>\n",
       "                        <td id=\"T_6e7a3_row4_col0\" class=\"data row4 col0\" >2_Chronicles 8:1</td>\n",
       "                        <td id=\"T_6e7a3_row4_col1\" class=\"data row4 col1\" >וַיְהִ֞י מִקֵּ֣ץ׀ עֶשְׂרִ֣ים שָׁנָ֗ה </td>\n",
       "                        <td id=\"T_6e7a3_row4_col2\" class=\"data row4 col2\" >posterior</td>\n",
       "                        <td id=\"T_6e7a3_row4_col3\" class=\"data row4 col3\" >מן+קץ</td>\n",
       "            </tr>\n",
       "    </tbody></table>"
      ],
      "text/plain": [
       "<pandas.io.formats.style.Styler at 0x7f8348675f40>"
      ]
     },
     "metadata": {},
     "output_type": "display_data"
    },
    {
     "name": "stdout",
     "output_type": "stream",
     "text": [
      "מן+קצה\n",
      "showing 5 of 10\n"
     ]
    },
    {
     "data": {
      "text/html": [
       "<style  type=\"text/css\" >\n",
       "#T_bc6aa_row0_col1,#T_bc6aa_row1_col1,#T_bc6aa_row2_col1,#T_bc6aa_row3_col1,#T_bc6aa_row4_col1{\n",
       "            font-size: 20px;\n",
       "             font-family:  Times New Roman;\n",
       "             text-align:  right;\n",
       "             max-width:  500px;\n",
       "        }</style><table id=\"T_bc6aa_\" ><thead>    <tr>        <th class=\"blank level0\" ></th>        <th class=\"col_heading level0 col0\" >verse</th>        <th class=\"col_heading level0 col1\" >clause</th>        <th class=\"col_heading level0 col2\" >function</th>        <th class=\"col_heading level0 col3\" >front</th>    </tr>    <tr>        <th class=\"index_name level0\" >node</th>        <th class=\"blank\" ></th>        <th class=\"blank\" ></th>        <th class=\"blank\" ></th>        <th class=\"blank\" ></th>    </tr></thead><tbody>\n",
       "                <tr>\n",
       "                        <th id=\"T_bc6aa_level0_row0\" class=\"row_heading level0 row0\" >428201</th>\n",
       "                        <td id=\"T_bc6aa_row0_col0\" class=\"data row0 col0\" >Genesis 8:3</td>\n",
       "                        <td id=\"T_bc6aa_row0_col1\" class=\"data row0 col1\" >וַיַּחְסְר֣וּ הַמַּ֔יִם מִקְצֵ֕ה חֲמִשִּׁ֥ים וּמְאַ֖ת יֹֽום׃ </td>\n",
       "                        <td id=\"T_bc6aa_row0_col2\" class=\"data row0 col2\" >posterior</td>\n",
       "                        <td id=\"T_bc6aa_row0_col3\" class=\"data row0 col3\" >מן+קצה</td>\n",
       "            </tr>\n",
       "            <tr>\n",
       "                        <th id=\"T_bc6aa_level0_row1\" class=\"row_heading level0 row1\" >449658</th>\n",
       "                        <td id=\"T_bc6aa_row1_col0\" class=\"data row1 col0\" >Joshua 9:16</td>\n",
       "                        <td id=\"T_bc6aa_row1_col1\" class=\"data row1 col1\" >וַיְהִ֗י מִקְצֵה֙ שְׁלֹ֣שֶׁת יָמִ֔ים </td>\n",
       "                        <td id=\"T_bc6aa_row1_col2\" class=\"data row1 col2\" >posterior</td>\n",
       "                        <td id=\"T_bc6aa_row1_col3\" class=\"data row1 col3\" >מן+קצה</td>\n",
       "            </tr>\n",
       "            <tr>\n",
       "                        <th id=\"T_bc6aa_level0_row2\" class=\"row_heading level0 row2\" >462527</th>\n",
       "                        <td id=\"T_bc6aa_row2_col0\" class=\"data row2 col0\" >1_Kings 9:10</td>\n",
       "                        <td id=\"T_bc6aa_row2_col1\" class=\"data row2 col1\" >וַיְהִ֗י מִקְצֵה֙ עֶשְׂרִ֣ים שָׁנָ֔ה </td>\n",
       "                        <td id=\"T_bc6aa_row2_col2\" class=\"data row2 col2\" >posterior</td>\n",
       "                        <td id=\"T_bc6aa_row2_col3\" class=\"data row2 col3\" >מן+קצה</td>\n",
       "            </tr>\n",
       "            <tr>\n",
       "                        <th id=\"T_bc6aa_level0_row3\" class=\"row_heading level0 row3\" >467220</th>\n",
       "                        <td id=\"T_bc6aa_row3_col0\" class=\"data row3 col0\" >2_Kings 18:10</td>\n",
       "                        <td id=\"T_bc6aa_row3_col1\" class=\"data row3 col1\" >וַֽיִּלְכְּדֻ֗הָ מִקְצֵה֙ שָׁלֹ֣שׁ שָׁנִ֔ים </td>\n",
       "                        <td id=\"T_bc6aa_row3_col2\" class=\"data row3 col2\" >posterior</td>\n",
       "                        <td id=\"T_bc6aa_row3_col3\" class=\"data row3 col3\" >מן+קצה</td>\n",
       "            </tr>\n",
       "            <tr>\n",
       "                        <th id=\"T_bc6aa_level0_row4\" class=\"row_heading level0 row4\" >484490</th>\n",
       "                        <td id=\"T_bc6aa_row4_col0\" class=\"data row4 col0\" >Ezekiel 39:14</td>\n",
       "                        <td id=\"T_bc6aa_row4_col1\" class=\"data row4 col1\" >מִקְצֵ֥ה שִׁבְעָֽה־חֳדָשִׁ֖ים יַחְקֹֽרוּ׃ </td>\n",
       "                        <td id=\"T_bc6aa_row4_col2\" class=\"data row4 col2\" >posterior</td>\n",
       "                        <td id=\"T_bc6aa_row4_col3\" class=\"data row4 col3\" >מן+קצה</td>\n",
       "            </tr>\n",
       "    </tbody></table>"
      ],
      "text/plain": [
       "<pandas.io.formats.style.Styler at 0x7f8348675fd0>"
      ]
     },
     "metadata": {},
     "output_type": "display_data"
    },
    {
     "name": "stdout",
     "output_type": "stream",
     "text": [
      "מן+אחר\n",
      "showing 2 of 2\n"
     ]
    },
    {
     "data": {
      "text/html": [
       "<style  type=\"text/css\" >\n",
       "#T_e37af_row0_col1,#T_e37af_row1_col1{\n",
       "            font-size: 20px;\n",
       "             font-family:  Times New Roman;\n",
       "             text-align:  right;\n",
       "             max-width:  500px;\n",
       "        }</style><table id=\"T_e37af_\" ><thead>    <tr>        <th class=\"blank level0\" ></th>        <th class=\"col_heading level0 col0\" >verse</th>        <th class=\"col_heading level0 col1\" >clause</th>        <th class=\"col_heading level0 col2\" >function</th>        <th class=\"col_heading level0 col3\" >front</th>    </tr>    <tr>        <th class=\"index_name level0\" >node</th>        <th class=\"blank\" ></th>        <th class=\"blank\" ></th>        <th class=\"blank\" ></th>        <th class=\"blank\" ></th>    </tr></thead><tbody>\n",
       "                <tr>\n",
       "                        <th id=\"T_e37af_level0_row0\" class=\"row_heading level0 row0\" >458335</th>\n",
       "                        <td id=\"T_e37af_row0_col0\" class=\"data row0 col0\" >2_Samuel 3:28</td>\n",
       "                        <td id=\"T_e37af_row0_col1\" class=\"data row0 col1\" >וַיִּשְׁמַ֤ע דָּוִד֙ מֵאַ֣חֲרֵי כֵ֔ן </td>\n",
       "                        <td id=\"T_e37af_row0_col2\" class=\"data row0 col2\" >posterior</td>\n",
       "                        <td id=\"T_e37af_row0_col3\" class=\"data row0 col3\" >מן+אחר</td>\n",
       "            </tr>\n",
       "            <tr>\n",
       "                        <th id=\"T_e37af_level0_row1\" class=\"row_heading level0 row1\" >459663</th>\n",
       "                        <td id=\"T_e37af_row1_col0\" class=\"data row1 col0\" >2_Samuel 15:1</td>\n",
       "                        <td id=\"T_e37af_row1_col1\" class=\"data row1 col1\" >וַֽיְהִי֙ מֵאַ֣חֲרֵי כֵ֔ן </td>\n",
       "                        <td id=\"T_e37af_row1_col2\" class=\"data row1 col2\" >posterior</td>\n",
       "                        <td id=\"T_e37af_row1_col3\" class=\"data row1 col3\" >מן+אחר</td>\n",
       "            </tr>\n",
       "    </tbody></table>"
      ],
      "text/plain": [
       "<pandas.io.formats.style.Styler at 0x7f8348660eb0>"
      ]
     },
     "metadata": {},
     "output_type": "display_data"
    },
    {
     "name": "stdout",
     "output_type": "stream",
     "text": [
      "מן+קצת\n",
      "showing 1 of 1\n"
     ]
    },
    {
     "data": {
      "text/html": [
       "<style  type=\"text/css\" >\n",
       "#T_48750_row0_col1{\n",
       "            font-size: 20px;\n",
       "             font-family:  Times New Roman;\n",
       "             text-align:  right;\n",
       "             max-width:  500px;\n",
       "        }</style><table id=\"T_48750_\" ><thead>    <tr>        <th class=\"blank level0\" ></th>        <th class=\"col_heading level0 col0\" >verse</th>        <th class=\"col_heading level0 col1\" >clause</th>        <th class=\"col_heading level0 col2\" >function</th>        <th class=\"col_heading level0 col3\" >front</th>    </tr>    <tr>        <th class=\"index_name level0\" >node</th>        <th class=\"blank\" ></th>        <th class=\"blank\" ></th>        <th class=\"blank\" ></th>        <th class=\"blank\" ></th>    </tr></thead><tbody>\n",
       "                <tr>\n",
       "                        <th id=\"T_48750_level0_row0\" class=\"row_heading level0 row0\" >506047</th>\n",
       "                        <td id=\"T_48750_row0_col0\" class=\"data row0 col0\" >Daniel 1:15</td>\n",
       "                        <td id=\"T_48750_row0_col1\" class=\"data row0 col1\" >וּמִקְצָת֙ יָמִ֣ים עֲשָׂרָ֔ה נִרְאָ֤ה מַרְאֵיהֶם֙ </td>\n",
       "                        <td id=\"T_48750_row0_col2\" class=\"data row0 col2\" >posterior</td>\n",
       "                        <td id=\"T_48750_row0_col3\" class=\"data row0 col3\" >מן+קצת</td>\n",
       "            </tr>\n",
       "    </tbody></table>"
      ],
      "text/plain": [
       "<pandas.io.formats.style.Styler at 0x7f834867e460>"
      ]
     },
     "metadata": {},
     "output_type": "display_data"
    },
    {
     "name": "stdout",
     "output_type": "stream",
     "text": [
      "--------------------------------------------------\n",
      "posterior_dur\n",
      "מן\n",
      "showing 5 of 64\n"
     ]
    },
    {
     "data": {
      "text/html": [
       "<style  type=\"text/css\" >\n",
       "#T_d802b_row0_col1,#T_d802b_row1_col1,#T_d802b_row2_col1,#T_d802b_row3_col1,#T_d802b_row4_col1{\n",
       "            font-size: 20px;\n",
       "             font-family:  Times New Roman;\n",
       "             text-align:  right;\n",
       "             max-width:  500px;\n",
       "        }</style><table id=\"T_d802b_\" ><thead>    <tr>        <th class=\"blank level0\" ></th>        <th class=\"col_heading level0 col0\" >verse</th>        <th class=\"col_heading level0 col1\" >clause</th>        <th class=\"col_heading level0 col2\" >function</th>        <th class=\"col_heading level0 col3\" >front</th>    </tr>    <tr>        <th class=\"index_name level0\" >node</th>        <th class=\"blank\" ></th>        <th class=\"blank\" ></th>        <th class=\"blank\" ></th>        <th class=\"blank\" ></th>    </tr></thead><tbody>\n",
       "                <tr>\n",
       "                        <th id=\"T_d802b_level0_row0\" class=\"row_heading level0 row0\" >435870</th>\n",
       "                        <td id=\"T_d802b_row0_col0\" class=\"data row0 col0\" >Exodus 21:29</td>\n",
       "                        <td id=\"T_d802b_row0_col1\" class=\"data row0 col1\" >וְאִ֡ם שֹׁור֩ נַגָּ֨ח ה֜וּא מִתְּמֹ֣ל שִׁלְשֹׁ֗ם </td>\n",
       "                        <td id=\"T_d802b_row0_col2\" class=\"data row0 col2\" >posterior_dur</td>\n",
       "                        <td id=\"T_d802b_row0_col3\" class=\"data row0 col3\" >מן</td>\n",
       "            </tr>\n",
       "            <tr>\n",
       "                        <th id=\"T_d802b_level0_row1\" class=\"row_heading level0 row1\" >471018</th>\n",
       "                        <td id=\"T_d802b_row1_col0\" class=\"data row1 col0\" >Isaiah 37:26</td>\n",
       "                        <td id=\"T_d802b_row1_col1\" class=\"data row1 col1\" >אֹותָ֣הּ עָשִׂ֔יתִי מִ֥ימֵי קֶ֖דֶם </td>\n",
       "                        <td id=\"T_d802b_row1_col2\" class=\"data row1 col2\" >posterior_dur</td>\n",
       "                        <td id=\"T_d802b_row1_col3\" class=\"data row1 col3\" >מן</td>\n",
       "            </tr>\n",
       "            <tr>\n",
       "                        <th id=\"T_d802b_level0_row2\" class=\"row_heading level0 row2\" >472211</th>\n",
       "                        <td id=\"T_d802b_row2_col0\" class=\"data row2 col0\" >Isaiah 48:5</td>\n",
       "                        <td id=\"T_d802b_row2_col1\" class=\"data row2 col1\" >וָאַגִּ֤יד לְךָ֙ מֵאָ֔ז </td>\n",
       "                        <td id=\"T_d802b_row2_col2\" class=\"data row2 col2\" >posterior_dur</td>\n",
       "                        <td id=\"T_d802b_row2_col3\" class=\"data row2 col3\" >מן</td>\n",
       "            </tr>\n",
       "            <tr>\n",
       "                        <th id=\"T_d802b_level0_row3\" class=\"row_heading level0 row3\" >486452</th>\n",
       "                        <td id=\"T_d802b_row3_col0\" class=\"data row3 col0\" >Joel 2:2</td>\n",
       "                        <td id=\"T_d802b_row3_col1\" class=\"data row3 col1\" >כָּמֹ֗הוּ לֹ֤א נִֽהְיָה֙ מִן־הָ֣עֹולָ֔ם </td>\n",
       "                        <td id=\"T_d802b_row3_col2\" class=\"data row3 col2\" >posterior_dur</td>\n",
       "                        <td id=\"T_d802b_row3_col3\" class=\"data row3 col3\" >מן</td>\n",
       "            </tr>\n",
       "            <tr>\n",
       "                        <th id=\"T_d802b_level0_row4\" class=\"row_heading level0 row4\" >515543</th>\n",
       "                        <td id=\"T_d802b_row4_col0\" class=\"data row4 col0\" >2_Chronicles 35:18</td>\n",
       "                        <td id=\"T_d802b_row4_col1\" class=\"data row4 col1\" >וְלֹֽא־נַעֲשָׂ֨ה פֶ֤סַח כָּמֹ֨הוּ֙ בְּיִשְׂרָאֵ֔ל מִימֵ֖י שְׁמוּאֵ֣ל הַנָּבִ֑יא </td>\n",
       "                        <td id=\"T_d802b_row4_col2\" class=\"data row4 col2\" >posterior_dur</td>\n",
       "                        <td id=\"T_d802b_row4_col3\" class=\"data row4 col3\" >מן</td>\n",
       "            </tr>\n",
       "    </tbody></table>"
      ],
      "text/plain": [
       "<pandas.io.formats.style.Styler at 0x7f834867ecd0>"
      ]
     },
     "metadata": {},
     "output_type": "display_data"
    },
    {
     "name": "stdout",
     "output_type": "stream",
     "text": [
      "מן+ל\n",
      "showing 1 of 1\n"
     ]
    },
    {
     "data": {
      "text/html": [
       "<style  type=\"text/css\" >\n",
       "#T_7aee9_row0_col1{\n",
       "            font-size: 20px;\n",
       "             font-family:  Times New Roman;\n",
       "             text-align:  right;\n",
       "             max-width:  500px;\n",
       "        }</style><table id=\"T_7aee9_\" ><thead>    <tr>        <th class=\"blank level0\" ></th>        <th class=\"col_heading level0 col0\" >verse</th>        <th class=\"col_heading level0 col1\" >clause</th>        <th class=\"col_heading level0 col2\" >function</th>        <th class=\"col_heading level0 col3\" >front</th>    </tr>    <tr>        <th class=\"index_name level0\" >node</th>        <th class=\"blank\" ></th>        <th class=\"blank\" ></th>        <th class=\"blank\" ></th>        <th class=\"blank\" ></th>    </tr></thead><tbody>\n",
       "                <tr>\n",
       "                        <th id=\"T_7aee9_level0_row0\" class=\"row_heading level0 row0\" >471467</th>\n",
       "                        <td id=\"T_7aee9_row0_col0\" class=\"data row0 col0\" >Isaiah 41:26</td>\n",
       "                        <td id=\"T_7aee9_row0_col1\" class=\"data row0 col1\" >וּמִלְּפָנִ֖ים </td>\n",
       "                        <td id=\"T_7aee9_row0_col2\" class=\"data row0 col2\" >posterior_dur</td>\n",
       "                        <td id=\"T_7aee9_row0_col3\" class=\"data row0 col3\" >מן+ל</td>\n",
       "            </tr>\n",
       "    </tbody></table>"
      ],
      "text/plain": [
       "<pandas.io.formats.style.Styler at 0x7f8348675fa0>"
      ]
     },
     "metadata": {},
     "output_type": "display_data"
    },
    {
     "name": "stdout",
     "output_type": "stream",
     "text": [
      "מן+תחלה\n",
      "showing 1 of 1\n"
     ]
    },
    {
     "data": {
      "text/html": [
       "<style  type=\"text/css\" >\n",
       "#T_7046e_row0_col1{\n",
       "            font-size: 20px;\n",
       "             font-family:  Times New Roman;\n",
       "             text-align:  right;\n",
       "             max-width:  500px;\n",
       "        }</style><table id=\"T_7046e_\" ><thead>    <tr>        <th class=\"blank level0\" ></th>        <th class=\"col_heading level0 col0\" >verse</th>        <th class=\"col_heading level0 col1\" >clause</th>        <th class=\"col_heading level0 col2\" >function</th>        <th class=\"col_heading level0 col3\" >front</th>    </tr>    <tr>        <th class=\"index_name level0\" >node</th>        <th class=\"blank\" ></th>        <th class=\"blank\" ></th>        <th class=\"blank\" ></th>        <th class=\"blank\" ></th>    </tr></thead><tbody>\n",
       "                <tr>\n",
       "                        <th id=\"T_7046e_level0_row0\" class=\"row_heading level0 row0\" >460695</th>\n",
       "                        <td id=\"T_7046e_row0_col0\" class=\"data row0 col0\" >2_Samuel 21:10</td>\n",
       "                        <td id=\"T_7046e_row0_col1\" class=\"data row0 col1\" >וַתַּטֵּ֨הוּ לָ֤הּ אֶל־הַצּוּר֙ מִתְּחִלַּ֣ת קָצִ֔יר </td>\n",
       "                        <td id=\"T_7046e_row0_col2\" class=\"data row0 col2\" >posterior_dur</td>\n",
       "                        <td id=\"T_7046e_row0_col3\" class=\"data row0 col3\" >מן+תחלה</td>\n",
       "            </tr>\n",
       "    </tbody></table>"
      ],
      "text/plain": [
       "<pandas.io.formats.style.Styler at 0x7f834866d130>"
      ]
     },
     "metadata": {},
     "output_type": "display_data"
    },
    {
     "name": "stdout",
     "output_type": "stream",
     "text": [
      "ל+מן\n",
      "showing 1 of 1\n"
     ]
    },
    {
     "data": {
      "text/html": [
       "<style  type=\"text/css\" >\n",
       "#T_5146e_row0_col1{\n",
       "            font-size: 20px;\n",
       "             font-family:  Times New Roman;\n",
       "             text-align:  right;\n",
       "             max-width:  500px;\n",
       "        }</style><table id=\"T_5146e_\" ><thead>    <tr>        <th class=\"blank level0\" ></th>        <th class=\"col_heading level0 col0\" >verse</th>        <th class=\"col_heading level0 col1\" >clause</th>        <th class=\"col_heading level0 col2\" >function</th>        <th class=\"col_heading level0 col3\" >front</th>    </tr>    <tr>        <th class=\"index_name level0\" >node</th>        <th class=\"blank\" ></th>        <th class=\"blank\" ></th>        <th class=\"blank\" ></th>        <th class=\"blank\" ></th>    </tr></thead><tbody>\n",
       "                <tr>\n",
       "                        <th id=\"T_5146e_level0_row0\" class=\"row_heading level0 row0\" >490132</th>\n",
       "                        <td id=\"T_5146e_row0_col0\" class=\"data row0 col0\" >Malachi 3:7</td>\n",
       "                        <td id=\"T_5146e_row0_col1\" class=\"data row0 col1\" >לְמִימֵ֨י אֲבֹתֵיכֶ֜ם סַרְתֶּ֤ם מֵֽחֻקַּי֙ </td>\n",
       "                        <td id=\"T_5146e_row0_col2\" class=\"data row0 col2\" >posterior_dur</td>\n",
       "                        <td id=\"T_5146e_row0_col3\" class=\"data row0 col3\" >ל+מן</td>\n",
       "            </tr>\n",
       "    </tbody></table>"
      ],
      "text/plain": [
       "<pandas.io.formats.style.Styler at 0x7f8348675eb0>"
      ]
     },
     "metadata": {},
     "output_type": "display_data"
    },
    {
     "name": "stdout",
     "output_type": "stream",
     "text": [
      "--------------------------------------------------\n",
      "dist_past\n",
      "Ø\n",
      "showing 3 of 3\n"
     ]
    },
    {
     "data": {
      "text/html": [
       "<style  type=\"text/css\" >\n",
       "#T_65583_row0_col1,#T_65583_row1_col1,#T_65583_row2_col1{\n",
       "            font-size: 20px;\n",
       "             font-family:  Times New Roman;\n",
       "             text-align:  right;\n",
       "             max-width:  500px;\n",
       "        }</style><table id=\"T_65583_\" ><thead>    <tr>        <th class=\"blank level0\" ></th>        <th class=\"col_heading level0 col0\" >verse</th>        <th class=\"col_heading level0 col1\" >clause</th>        <th class=\"col_heading level0 col2\" >function</th>        <th class=\"col_heading level0 col3\" >front</th>    </tr>    <tr>        <th class=\"index_name level0\" >node</th>        <th class=\"blank\" ></th>        <th class=\"blank\" ></th>        <th class=\"blank\" ></th>        <th class=\"blank\" ></th>    </tr></thead><tbody>\n",
       "                <tr>\n",
       "                        <th id=\"T_65583_level0_row0\" class=\"row_heading level0 row0\" >434026</th>\n",
       "                        <td id=\"T_65583_row0_col0\" class=\"data row0 col0\" >Exodus 5:8</td>\n",
       "                        <td id=\"T_65583_row0_col1\" class=\"data row0 col1\" >אֲשֶׁ֣ר הֵם֩ עֹשִׂ֨ים תְּמֹ֤ול שִׁלְשֹׁם֙ </td>\n",
       "                        <td id=\"T_65583_row0_col2\" class=\"data row0 col2\" >dist_past</td>\n",
       "                        <td id=\"T_65583_row0_col3\" class=\"data row0 col3\" >Ø</td>\n",
       "            </tr>\n",
       "            <tr>\n",
       "                        <th id=\"T_65583_level0_row1\" class=\"row_heading level0 row1\" >454375</th>\n",
       "                        <td id=\"T_65583_row1_col0\" class=\"data row1 col0\" >1_Samuel 4:7</td>\n",
       "                        <td id=\"T_65583_row1_col1\" class=\"data row1 col1\" >כִּ֣י לֹ֥א הָיְתָ֛ה כָּזֹ֖את אֶתְמֹ֥ול שִׁלְשֹֽׁם׃ </td>\n",
       "                        <td id=\"T_65583_row1_col2\" class=\"data row1 col2\" >dist_past</td>\n",
       "                        <td id=\"T_65583_row1_col3\" class=\"data row1 col3\" >Ø</td>\n",
       "            </tr>\n",
       "            <tr>\n",
       "                        <th id=\"T_65583_level0_row2\" class=\"row_heading level0 row2\" >503000</th>\n",
       "                        <td id=\"T_65583_row2_col0\" class=\"data row2 col0\" >Ruth 2:11</td>\n",
       "                        <td id=\"T_65583_row2_col1\" class=\"data row2 col1\" >אֲשֶׁ֥ר לֹא־יָדַ֖עַתְּ תְּמֹ֥ול שִׁלְשֹֽׁום׃ </td>\n",
       "                        <td id=\"T_65583_row2_col2\" class=\"data row2 col2\" >dist_past</td>\n",
       "                        <td id=\"T_65583_row2_col3\" class=\"data row2 col3\" >Ø</td>\n",
       "            </tr>\n",
       "    </tbody></table>"
      ],
      "text/plain": [
       "<pandas.io.formats.style.Styler at 0x7f83486756a0>"
      ]
     },
     "metadata": {},
     "output_type": "display_data"
    },
    {
     "name": "stdout",
     "output_type": "stream",
     "text": [
      "--------------------------------------------------\n",
      "dist_fut\n",
      "ב\n",
      "showing 5 of 6\n"
     ]
    },
    {
     "data": {
      "text/html": [
       "<style  type=\"text/css\" >\n",
       "#T_b6e58_row0_col1,#T_b6e58_row1_col1,#T_b6e58_row2_col1,#T_b6e58_row3_col1,#T_b6e58_row4_col1{\n",
       "            font-size: 20px;\n",
       "             font-family:  Times New Roman;\n",
       "             text-align:  right;\n",
       "             max-width:  500px;\n",
       "        }</style><table id=\"T_b6e58_\" ><thead>    <tr>        <th class=\"blank level0\" ></th>        <th class=\"col_heading level0 col0\" >verse</th>        <th class=\"col_heading level0 col1\" >clause</th>        <th class=\"col_heading level0 col2\" >function</th>        <th class=\"col_heading level0 col3\" >front</th>    </tr>    <tr>        <th class=\"index_name level0\" >node</th>        <th class=\"blank\" ></th>        <th class=\"blank\" ></th>        <th class=\"blank\" ></th>        <th class=\"blank\" ></th>    </tr></thead><tbody>\n",
       "                <tr>\n",
       "                        <th id=\"T_b6e58_level0_row0\" class=\"row_heading level0 row0\" >432107</th>\n",
       "                        <td id=\"T_b6e58_row0_col0\" class=\"data row0 col0\" >Genesis 40:13</td>\n",
       "                        <td id=\"T_b6e58_row0_col1\" class=\"data row0 col1\" >בְּעֹ֣וד׀ שְׁלֹ֣שֶׁת יָמִ֗ים יִשָּׂ֤א פַרְעֹה֙ אֶת־רֹאשֶׁ֔ךָ </td>\n",
       "                        <td id=\"T_b6e58_row0_col2\" class=\"data row0 col2\" >dist_fut</td>\n",
       "                        <td id=\"T_b6e58_row0_col3\" class=\"data row0 col3\" >ב</td>\n",
       "            </tr>\n",
       "            <tr>\n",
       "                        <th id=\"T_b6e58_level0_row1\" class=\"row_heading level0 row1\" >448778</th>\n",
       "                        <td id=\"T_b6e58_row1_col0\" class=\"data row1 col0\" >Joshua 1:11</td>\n",
       "                        <td id=\"T_b6e58_row1_col1\" class=\"data row1 col1\" >כִּ֞י בְּעֹ֣וד׀ שְׁלֹ֣שֶׁת יָמִ֗ים אַתֶּם֙ עֹֽבְרִים֙ אֶת־הַיַּרְדֵּ֣ן הַזֶּ֔ה </td>\n",
       "                        <td id=\"T_b6e58_row1_col2\" class=\"data row1 col2\" >dist_fut</td>\n",
       "                        <td id=\"T_b6e58_row1_col3\" class=\"data row1 col3\" >ב</td>\n",
       "            </tr>\n",
       "            <tr>\n",
       "                        <th id=\"T_b6e58_level0_row2\" class=\"row_heading level0 row2\" >468659</th>\n",
       "                        <td id=\"T_b6e58_row2_col0\" class=\"data row2 col0\" >Isaiah 7:8</td>\n",
       "                        <td id=\"T_b6e58_row2_col1\" class=\"data row2 col1\" >וּבְעֹ֗וד שִׁשִּׁ֤ים וְחָמֵשׁ֙ שָׁנָ֔ה יֵחַ֥ת אֶפְרַ֖יִם מֵעָֽם׃ </td>\n",
       "                        <td id=\"T_b6e58_row2_col2\" class=\"data row2 col2\" >dist_fut</td>\n",
       "                        <td id=\"T_b6e58_row2_col3\" class=\"data row2 col3\" >ב</td>\n",
       "            </tr>\n",
       "            <tr>\n",
       "                        <th id=\"T_b6e58_level0_row3\" class=\"row_heading level0 row3\" >486871</th>\n",
       "                        <td id=\"T_b6e58_row3_col0\" class=\"data row3 col0\" >Amos 4:7</td>\n",
       "                        <td id=\"T_b6e58_row3_col1\" class=\"data row3 col1\" >וְגַ֣ם אָנֹכִי֩ מָנַ֨עְתִּי מִכֶּ֜ם אֶת־הַגֶּ֗שֶׁם בְּעֹ֨וד שְׁלֹשָׁ֤ה חֳדָשִׁים֙ לַקָּצִ֔יר </td>\n",
       "                        <td id=\"T_b6e58_row3_col2\" class=\"data row3 col2\" >dist_fut</td>\n",
       "                        <td id=\"T_b6e58_row3_col3\" class=\"data row3 col3\" >ב</td>\n",
       "            </tr>\n",
       "            <tr>\n",
       "                        <th id=\"T_b6e58_level0_row4\" class=\"row_heading level0 row4\" >507564</th>\n",
       "                        <td id=\"T_b6e58_row4_col0\" class=\"data row4 col0\" >Daniel 11:20</td>\n",
       "                        <td id=\"T_b6e58_row4_col1\" class=\"data row4 col1\" >וּבְיָמִ֤ים אֲחָדִים֙ יִשָּׁבֵ֔ר </td>\n",
       "                        <td id=\"T_b6e58_row4_col2\" class=\"data row4 col2\" >dist_fut</td>\n",
       "                        <td id=\"T_b6e58_row4_col3\" class=\"data row4 col3\" >ב</td>\n",
       "            </tr>\n",
       "    </tbody></table>"
      ],
      "text/plain": [
       "<pandas.io.formats.style.Styler at 0x7f8348659130>"
      ]
     },
     "metadata": {},
     "output_type": "display_data"
    },
    {
     "name": "stdout",
     "output_type": "stream",
     "text": [
      "Ø\n",
      "showing 1 of 1\n"
     ]
    },
    {
     "data": {
      "text/html": [
       "<style  type=\"text/css\" >\n",
       "#T_62cf6_row0_col1{\n",
       "            font-size: 20px;\n",
       "             font-family:  Times New Roman;\n",
       "             text-align:  right;\n",
       "             max-width:  500px;\n",
       "        }</style><table id=\"T_62cf6_\" ><thead>    <tr>        <th class=\"blank level0\" ></th>        <th class=\"col_heading level0 col0\" >verse</th>        <th class=\"col_heading level0 col1\" >clause</th>        <th class=\"col_heading level0 col2\" >function</th>        <th class=\"col_heading level0 col3\" >front</th>    </tr>    <tr>        <th class=\"index_name level0\" >node</th>        <th class=\"blank\" ></th>        <th class=\"blank\" ></th>        <th class=\"blank\" ></th>        <th class=\"blank\" ></th>    </tr></thead><tbody>\n",
       "                <tr>\n",
       "                        <th id=\"T_62cf6_level0_row0\" class=\"row_heading level0 row0\" >470561</th>\n",
       "                        <td id=\"T_62cf6_row0_col0\" class=\"data row0 col0\" >Isaiah 32:10</td>\n",
       "                        <td id=\"T_62cf6_row0_col1\" class=\"data row0 col1\" >יָמִים֙ עַל־שָׁנָ֔ה תִּרְגַּ֖זְנָה </td>\n",
       "                        <td id=\"T_62cf6_row0_col2\" class=\"data row0 col2\" >dist_fut</td>\n",
       "                        <td id=\"T_62cf6_row0_col3\" class=\"data row0 col3\" >Ø</td>\n",
       "            </tr>\n",
       "    </tbody></table>"
      ],
      "text/plain": [
       "<pandas.io.formats.style.Styler at 0x7f834867e340>"
      ]
     },
     "metadata": {},
     "output_type": "display_data"
    },
    {
     "name": "stdout",
     "output_type": "stream",
     "text": [
      "--------------------------------------------------\n"
     ]
    }
   ],
   "source": [
    "exs = {\n",
    "    'anterior_dur': ['antdur', 'Anterior Durative'],\n",
    "    'anterior': ['ant', 'Anterior'],\n",
    "    'posterior': ['post', 'Posterior'],\n",
    "    'posterior_dur': ['postdur', 'Posterior Durative'],\n",
    "    'dist_past': ['distpast', 'Distance Past'],\n",
    "    'dist_fut': ['distfut', 'Distance Future'],\n",
    "\n",
    "}\n",
    "\n",
    "for function, namedata in exs.items():\n",
    "    abbrev, full = namedata\n",
    "    fronts = funct2data[function]['ct'].index\n",
    "    print(function)\n",
    "    for front in fronts:\n",
    "        print(front)\n",
    "        exdf = df_main[\n",
    "            (df_main.function == function)\n",
    "            & (df_main.front == front)\n",
    "        ]\n",
    "        display(\n",
    "            ts.show(exdf, spread=5, extra=['function', 'front'])\n",
    "        )\n",
    "    print('-'*50)"
   ]
  }
 ],
 "metadata": {
  "kernelspec": {
   "display_name": "Python 3",
   "language": "python",
   "name": "python3"
  },
  "language_info": {
   "codemirror_mode": {
    "name": "ipython",
    "version": 3
   },
   "file_extension": ".py",
   "mimetype": "text/x-python",
   "name": "python",
   "nbconvert_exporter": "python",
   "pygments_lexer": "ipython3",
   "version": "3.8.5"
  }
 },
 "nbformat": 4,
 "nbformat_minor": 4
}
