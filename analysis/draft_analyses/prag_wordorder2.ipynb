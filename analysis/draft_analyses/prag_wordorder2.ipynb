{
 "cells": [
  {
   "cell_type": "markdown",
   "metadata": {},
   "source": [
    "# Word Order in Clause (Continued)"
   ]
  },
  {
   "cell_type": "code",
   "execution_count": 1,
   "metadata": {},
   "outputs": [
    {
     "data": {
      "text/plain": [
       "(2217, 72)"
      ]
     },
     "execution_count": 1,
     "metadata": {},
     "output_type": "execute_result"
    }
   ],
   "source": [
    "from scripts.imports import *\n",
    "\n",
    "# designate some additional parameters for a clause to be \"main\"\n",
    "non_main = [\n",
    "    'InfC', 'InfA', 'Reop', \n",
    "    'Voct', 'CPen', 'Ellp', \n",
    "    'MSyn',\n",
    "]\n",
    "\n",
    "main_df = df[\n",
    "    (df.cl_rela == 'Main')\n",
    "    & (~df.cl_type2.isin(non_main))\n",
    "    & (df.n_times == 1)\n",
    "    & (~df.cl_type.isin(['NmCl', 'AjCl']))\n",
    "]\n",
    "\n",
    "out = Exporter(\n",
    "    paths['outdir'],\n",
    "    'pragmatics',\n",
    ")\n",
    "\n",
    "main_df.shape"
   ]
  },
  {
   "cell_type": "markdown",
   "metadata": {},
   "source": [
    "# Identifying Causes of Preposing\n",
    "\n",
    "Some ideas for experiments:\n",
    "\n",
    "* extract waw-initial clauses\n",
    "* look at cases where preceding clause has a TA, subsequent clause has TA\n",
    "* \\*ETCBC tree detection: detect clauses that contain a TA and have a large number of children in its subordinated tree"
   ]
  },
  {
   "cell_type": "code",
   "execution_count": 2,
   "metadata": {},
   "outputs": [
    {
     "data": {
      "text/plain": [
       "(1553, 72)"
      ]
     },
     "execution_count": 2,
     "metadata": {},
     "output_type": "execute_result"
    }
   ],
   "source": [
    "cluster4_advbs = [\n",
    " 'ב.ה.זמן.הם',\n",
    " 'ה.זמן.זה',\n",
    " 'ב.מ׳.זמן',\n",
    " 'אחר.זמן',\n",
    " 'ב.ה.זמן.הוא',\n",
    " 'ה.זמן',\n",
    " 'עד.זמן',\n",
    " 'זמן',\n",
    " 'ב.זמן',\n",
    " 'ב.ה.זמן.ס׳',\n",
    " 'ב.ה.זמן.היא',\n",
    " 'ב.אחרית.ה.זמן',\n",
    " 'כ.זמן',\n",
    " 'ל.זמן',\n",
    " 'מ׳.זמן',\n",
    " 'מן.זמן'\n",
    "]\n",
    "\n",
    "clust4_df = main_df[main_df.lex_token.isin(cluster4_advbs)]\n",
    "\n",
    "clust4_df.shape"
   ]
  },
  {
   "cell_type": "markdown",
   "metadata": {},
   "source": [
    "## By presence of waw"
   ]
  },
  {
   "cell_type": "code",
   "execution_count": 3,
   "metadata": {},
   "outputs": [
    {
     "name": "stderr",
     "output_type": "stream",
     "text": [
      "<ipython-input-3-8782ebcd57d5>:1: SettingWithCopyWarning: \n",
      "A value is trying to be set on a copy of a slice from a DataFrame.\n",
      "Try using .loc[row_indexer,col_indexer] = value instead\n",
      "\n",
      "See the caveats in the documentation: https://pandas.pydata.org/pandas-docs/stable/user_guide/indexing.html#returning-a-view-versus-a-copy\n",
      "  main_df['syndetic clause'] = (main_df.firstw == '\\texthebrew{ו}') * 1\n"
     ]
    }
   ],
   "source": [
    "main_df['syndetic clause'] = (main_df.firstw == '\\texthebrew{ו}') * 1"
   ]
  },
  {
   "cell_type": "code",
   "execution_count": 4,
   "metadata": {},
   "outputs": [
    {
     "data": {
      "text/plain": [
       "node\n",
       "427553    0\n",
       "427680    1\n",
       "427682    1\n",
       "427693    1\n",
       "427694    1\n",
       "         ..\n",
       "515601    1\n",
       "515619    1\n",
       "515624    1\n",
       "515659    0\n",
       "515661    1\n",
       "Name: syndetic clause, Length: 2217, dtype: int64"
      ]
     },
     "execution_count": 4,
     "metadata": {},
     "output_type": "execute_result"
    }
   ],
   "source": [
    "main_df['syndetic clause']"
   ]
  },
  {
   "cell_type": "code",
   "execution_count": 5,
   "metadata": {},
   "outputs": [
    {
     "data": {
      "text/html": [
       "<div>\n",
       "<style scoped>\n",
       "    .dataframe tbody tr th:only-of-type {\n",
       "        vertical-align: middle;\n",
       "    }\n",
       "\n",
       "    .dataframe tbody tr th {\n",
       "        vertical-align: top;\n",
       "    }\n",
       "\n",
       "    .dataframe thead th {\n",
       "        text-align: right;\n",
       "    }\n",
       "</style>\n",
       "<table border=\"1\" class=\"dataframe\">\n",
       "  <thead>\n",
       "    <tr style=\"text-align: right;\">\n",
       "      <th>Time Position</th>\n",
       "      <th>final</th>\n",
       "      <th>preposed</th>\n",
       "      <th>medial</th>\n",
       "    </tr>\n",
       "    <tr>\n",
       "      <th>syndetic clause</th>\n",
       "      <th></th>\n",
       "      <th></th>\n",
       "      <th></th>\n",
       "    </tr>\n",
       "  </thead>\n",
       "  <tbody>\n",
       "    <tr>\n",
       "      <th>1</th>\n",
       "      <td>946</td>\n",
       "      <td>276</td>\n",
       "      <td>109</td>\n",
       "    </tr>\n",
       "    <tr>\n",
       "      <th>0</th>\n",
       "      <td>300</td>\n",
       "      <td>513</td>\n",
       "      <td>73</td>\n",
       "    </tr>\n",
       "  </tbody>\n",
       "</table>\n",
       "</div>"
      ],
      "text/plain": [
       "Time Position    final  preposed  medial\n",
       "syndetic clause                         \n",
       "1                  946       276     109\n",
       "0                  300       513      73"
      ]
     },
     "execution_count": 5,
     "metadata": {},
     "output_type": "execute_result"
    }
   ],
   "source": [
    "waw_ct = pivot_ct(\n",
    "    main_df,\n",
    "    'syndetic clause',\n",
    "    'Time Position'\n",
    ")\n",
    "\n",
    "waw_ct"
   ]
  },
  {
   "cell_type": "code",
   "execution_count": 6,
   "metadata": {},
   "outputs": [
    {
     "data": {
      "text/html": [
       "<div>\n",
       "<style scoped>\n",
       "    .dataframe tbody tr th:only-of-type {\n",
       "        vertical-align: middle;\n",
       "    }\n",
       "\n",
       "    .dataframe tbody tr th {\n",
       "        vertical-align: top;\n",
       "    }\n",
       "\n",
       "    .dataframe thead th {\n",
       "        text-align: right;\n",
       "    }\n",
       "</style>\n",
       "<table border=\"1\" class=\"dataframe\">\n",
       "  <thead>\n",
       "    <tr style=\"text-align: right;\">\n",
       "      <th>Time Position</th>\n",
       "      <th>final</th>\n",
       "      <th>preposed</th>\n",
       "      <th>medial</th>\n",
       "    </tr>\n",
       "    <tr>\n",
       "      <th>syndetic clause</th>\n",
       "      <th></th>\n",
       "      <th></th>\n",
       "      <th></th>\n",
       "    </tr>\n",
       "  </thead>\n",
       "  <tbody>\n",
       "    <tr>\n",
       "      <th>1</th>\n",
       "      <td>0.710744</td>\n",
       "      <td>0.207363</td>\n",
       "      <td>0.081893</td>\n",
       "    </tr>\n",
       "    <tr>\n",
       "      <th>0</th>\n",
       "      <td>0.338600</td>\n",
       "      <td>0.579007</td>\n",
       "      <td>0.082393</td>\n",
       "    </tr>\n",
       "  </tbody>\n",
       "</table>\n",
       "</div>"
      ],
      "text/plain": [
       "Time Position       final  preposed    medial\n",
       "syndetic clause                              \n",
       "1                0.710744  0.207363  0.081893\n",
       "0                0.338600  0.579007  0.082393"
      ]
     },
     "execution_count": 6,
     "metadata": {},
     "output_type": "execute_result"
    }
   ],
   "source": [
    "waw_pr = waw_ct.div(waw_ct.sum(1), 0)\n",
    "\n",
    "waw_pr"
   ]
  },
  {
   "cell_type": "markdown",
   "metadata": {},
   "source": [
    "## By N-Successors"
   ]
  },
  {
   "cell_type": "markdown",
   "metadata": {},
   "source": [
    "Identify cases of time adverbial clauses with a large number of successors."
   ]
  },
  {
   "cell_type": "code",
   "execution_count": 8,
   "metadata": {},
   "outputs": [],
   "source": [
    "# nsucc_ct = pos_df.cl_nsuccs.value_counts()\n",
    "# nsucc_pr = nsucc_ct / nsucc_ct.sum()\n",
    "\n",
    "# print(nsucc_ct.shape)\n",
    "\n",
    "# nsucc_ct.head(10)"
   ]
  },
  {
   "cell_type": "code",
   "execution_count": null,
   "metadata": {},
   "outputs": [],
   "source": [
    "nsucc_pr.head(20)"
   ]
  },
  {
   "cell_type": "code",
   "execution_count": null,
   "metadata": {},
   "outputs": [],
   "source": [
    "fig, ax = plt.subplots(figsize=(10, 6))\n",
    "ax.plot(nsucc_ct.values)\n",
    "ax.set_yscale('log')\n",
    "ax.set_xticks(np.arange(nsucc_ct.shape[0], step=5))\n",
    "ax.set_xticklabels(np.arange(nsucc_ct.shape[0], step=5))\n",
    "ax.grid(axis='x')\n",
    "plt.show()"
   ]
  },
  {
   "cell_type": "code",
   "execution_count": null,
   "metadata": {},
   "outputs": [],
   "source": [
    "nsucc_ct.loc[nsucc_ct.index > 5].sum()"
   ]
  },
  {
   "cell_type": "code",
   "execution_count": null,
   "metadata": {},
   "outputs": [],
   "source": [
    "nsucc_ct.loc[nsucc_ct.index <= 2].sum()"
   ]
  },
  {
   "cell_type": "code",
   "execution_count": null,
   "metadata": {},
   "outputs": [],
   "source": [
    "eight_df = pos_df[pos_df.cl_nsuccs > 7]"
   ]
  },
  {
   "cell_type": "code",
   "execution_count": null,
   "metadata": {},
   "outputs": [],
   "source": [
    "epos_ct = eight_df['Time Position'].value_counts()\n",
    "epos_pr = epos_ct / epos_ct.sum()\n",
    "\n",
    "epos_pr"
   ]
  },
  {
   "cell_type": "code",
   "execution_count": null,
   "metadata": {},
   "outputs": [],
   "source": [
    "ts.show(\n",
    "    eight_df[\n",
    "        (eight_df.firstw != '\\texthebrew{ו}')\n",
    "        & (eight_df['Time Position'] == 'preposed')\n",
    "        & (eight_df.quality == 'duration')\n",
    "    ].sort_values(by='cl_nsuccs', ascending=False), \n",
    "    extra=['gendom', 'quality', 'cl_nsuccs'],\n",
    "    spread=10,\n",
    ")"
   ]
  },
  {
   "cell_type": "code",
   "execution_count": null,
   "metadata": {},
   "outputs": [],
   "source": [
    "ts.show(\n",
    "    eight_df[\n",
    "        (eight_df.firstw != '\\texthebrew{ו}')\n",
    "        & (eight_df['Time Position'] == 'preposed')\n",
    "        & (eight_df.quality.isin(['location', 'sequence']))\n",
    "        & (eight_df.gendom.str.startswith('prose'))\n",
    "    ],\n",
    "    extra=['gendom', 'quality', 'cl_nsuccs'],\n",
    "    spread=10,\n",
    ")"
   ]
  },
  {
   "cell_type": "code",
   "execution_count": null,
   "metadata": {},
   "outputs": [],
   "source": []
  }
 ],
 "metadata": {
  "kernelspec": {
   "display_name": "Python 3",
   "language": "python",
   "name": "python3"
  },
  "language_info": {
   "codemirror_mode": {
    "name": "ipython",
    "version": 3
   },
   "file_extension": ".py",
   "mimetype": "text/x-python",
   "name": "python",
   "nbconvert_exporter": "python",
   "pygments_lexer": "ipython3",
   "version": "3.8.5"
  }
 },
 "nbformat": 4,
 "nbformat_minor": 4
}
