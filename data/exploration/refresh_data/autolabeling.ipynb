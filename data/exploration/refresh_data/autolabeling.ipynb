{
 "cells": [
  {
   "cell_type": "markdown",
   "id": "603a991d-8d9b-424b-bd5b-de9966160791",
   "metadata": {},
   "source": [
    "# Autolabeling"
   ]
  },
  {
   "cell_type": "code",
   "execution_count": 383,
   "id": "45428cdd-c507-4003-9351-acfb6cc33a99",
   "metadata": {},
   "outputs": [],
   "source": [
    "import collections\n",
    "\n",
    "from datetime import datetime\n",
    "from typing import NamedTuple, Tuple, List, Dict, Set, Optional\n",
    "from textwrap import dedent\n",
    "from abc import abstractmethod, ABC\n",
    "\n",
    "from tf.fabric import Fabric\n",
    "from tf.core.api import Api\n",
    "from tf.app import use"
   ]
  },
  {
   "cell_type": "code",
   "execution_count": 85,
   "id": "7227d519-f7eb-4879-8860-8f65e39f80e4",
   "metadata": {},
   "outputs": [
    {
     "name": "stdout",
     "output_type": "stream",
     "text": [
      "  1.26s Feature overview: 81 for nodes; 3 for edges; 2 configs; 9 computed\n"
     ]
    }
   ],
   "source": [
    "CORPUS = '/Users/cody/github/BH_time_collocations/data/data/corpus/'\n",
    "\n",
    "tf_fabric = Fabric(locations=CORPUS)\n",
    "api = tf_fabric.loadAll()\n",
    "\n",
    "F, E, T, L, S = (getattr(api, l) for l in 'FETLS')"
   ]
  },
  {
   "cell_type": "code",
   "execution_count": 396,
   "id": "62e7feb7-13a0-4404-a9b5-a9e77d861480",
   "metadata": {},
   "outputs": [
    {
     "data": {
      "text/markdown": [
       "**Locating corpus resources ...**"
      ],
      "text/plain": [
       "<IPython.core.display.Markdown object>"
      ]
     },
     "metadata": {},
     "output_type": "display_data"
    },
    {
     "data": {
      "text/html": [
       "<b title=\"local commit\">app:</b> <span title=\"#b83bcaee62ada4d03547df0b0e7aac2fd5de3f67 offline under /Users/cody/text-fabric-data/github\">~/text-fabric-data/github/ETCBC/bhsa/app</span>"
      ],
      "text/plain": [
       "<IPython.core.display.HTML object>"
      ]
     },
     "metadata": {},
     "output_type": "display_data"
    },
    {
     "data": {
      "text/html": [
       "\n",
       "            <b>Text-Fabric:</b> <a target=\"_blank\" href=\"https://annotation.github.io/text-fabric/tf/cheatsheet.html\" title=\"text-fabric-api\">Text-Fabric API 11.4.4</a>, <a target=\"_blank\" href=\"https://github.com/ETCBC/bhsa/blob/master/app\" title=\"ETCBC/bhsa app\">ETCBC/bhsa/app  v3</a>, <a target=\"_blank\" href=\"https://annotation.github.io/text-fabric/tf/about/searchusage.html\" title=\"Search Templates Introduction and Reference\">Search Reference</a><br>\n",
       "            <b>Data:</b> <a target=\"_blank\" href=\"https://ETCBC.github.io/bhsa/0_home\" title=\"provenance of BHSA = Biblia Hebraica Stuttgartensia Amstelodamensis\">ETCBC - bhsa 2021</a>, <a target=\"_blank\" href=\"https://annotation.github.io/text-fabric/tf/writing/hebrew.html\" title=\"How TF features represent text\">Character table</a>, <a target=\"_blank\" href=\"https://ETCBC.github.io/bhsa/features/0_home\" title=\"ETCBC - bhsa feature documentation\">Feature docs</a><br>\n",
       "            <details class=\"nodeinfo\"><summary><b>Node types</b></summary>\n",
       "<table class=\"nodeinfo\">\n",
       "    <tr>\n",
       "        <th>Name</th>\n",
       "        <th># of nodes</th>\n",
       "        <th># slots/node</th>\n",
       "        <th>% coverage</th>\n",
       "    </tr>\n",
       "\n",
       "<tr>\n",
       "    <th>book</th>\n",
       "    <td>11</td>\n",
       "    <td>19279.27</td>\n",
       "    <td><b>100</b></td>\n",
       "</tr>\n",
       "\n",
       "<tr>\n",
       "    <th>chapter</th>\n",
       "    <td>334</td>\n",
       "    <td>634.95</td>\n",
       "    <td><b>100</b></td>\n",
       "</tr>\n",
       "\n",
       "<tr>\n",
       "    <th>verse</th>\n",
       "    <td>10171</td>\n",
       "    <td>20.85</td>\n",
       "    <td><b>100</b></td>\n",
       "</tr>\n",
       "\n",
       "<tr>\n",
       "    <th>half_verse</th>\n",
       "    <td>19786</td>\n",
       "    <td>10.72</td>\n",
       "    <td><b>100</b></td>\n",
       "</tr>\n",
       "\n",
       "<tr>\n",
       "    <th>sentence</th>\n",
       "    <td>29519</td>\n",
       "    <td>7.18</td>\n",
       "    <td><b>100</b></td>\n",
       "</tr>\n",
       "\n",
       "<tr>\n",
       "    <th>sentence_atom</th>\n",
       "    <td>29764</td>\n",
       "    <td>7.13</td>\n",
       "    <td><b>100</b></td>\n",
       "</tr>\n",
       "\n",
       "<tr>\n",
       "    <th>clause</th>\n",
       "    <td>40592</td>\n",
       "    <td>5.22</td>\n",
       "    <td><b>100</b></td>\n",
       "</tr>\n",
       "\n",
       "<tr>\n",
       "    <th>clause_atom</th>\n",
       "    <td>41834</td>\n",
       "    <td>5.07</td>\n",
       "    <td><b>100</b></td>\n",
       "</tr>\n",
       "\n",
       "<tr>\n",
       "    <th>lex</th>\n",
       "    <td>1310</td>\n",
       "    <td>1.97</td>\n",
       "    <td>1</td>\n",
       "</tr>\n",
       "\n",
       "<tr>\n",
       "    <th>phrase</th>\n",
       "    <td>122547</td>\n",
       "    <td>1.73</td>\n",
       "    <td><b>100</b></td>\n",
       "</tr>\n",
       "\n",
       "<tr>\n",
       "    <th>phrase_atom</th>\n",
       "    <td>130112</td>\n",
       "    <td>1.63</td>\n",
       "    <td><b>100</b></td>\n",
       "</tr>\n",
       "\n",
       "<tr>\n",
       "    <th>subphrase</th>\n",
       "    <td>56512</td>\n",
       "    <td>1.48</td>\n",
       "    <td>40</td>\n",
       "</tr>\n",
       "\n",
       "<tr>\n",
       "    <th><i>word</i></th>\n",
       "    <td>212072</td>\n",
       "    <td>1.00</td>\n",
       "    <td><b>100</b></td>\n",
       "</tr>\n",
       "</table></details>\n",
       "            <b>Sets:</b> no custom sets<br>\n",
       "            <b>Features:</b><br>\n",
       "<details><summary><b>github/BH_time_collocations/data//data</b></summary>\n",
       "    <div class=\"fcorpus\">\n",
       "\n",
       "<div class=\"frow\">\n",
       "    <div class=\"fnamecat \">\n",
       "<a target=\"_blank\" href=\"https://github.com/github/BH_time_collocations/tree/master/data\" title=\"~/github/BH_time_collocations/data/data/corpus/book.tf\">book</a>\n",
       "</div>\n",
       "<div class=\"fmono\">str</div>\n",
       "\n",
       "<span> ✅ book name in Latin (Genesis; Numeri; Reges1; ...)</span>\n",
       "\n",
       "</div>\n",
       "\n",
       "<div class=\"frow\">\n",
       "    <div class=\"fnamecat \">\n",
       "<a target=\"_blank\" href=\"https://github.com/github/BH_time_collocations/tree/master/data\" title=\"~/github/BH_time_collocations/data/data/corpus/book@en.tf\">book@ll</a>\n",
       "</div>\n",
       "<div class=\"fmono\">str</div>\n",
       "\n",
       "<span> ✅ book name in english (English)</span>\n",
       "\n",
       "</div>\n",
       "\n",
       "<div class=\"frow\">\n",
       "    <div class=\"fnamecat \">\n",
       "<a target=\"_blank\" href=\"https://github.com/github/BH_time_collocations/tree/master/data\" title=\"~/github/BH_time_collocations/data/data/corpus/chapter.tf\">chapter</a>\n",
       "</div>\n",
       "<div class=\"fmono\">int</div>\n",
       "\n",
       "<span> ✅ chapter number (1; 2; 3; ...)</span>\n",
       "\n",
       "</div>\n",
       "\n",
       "<div class=\"frow\">\n",
       "    <div class=\"fnamecat \">\n",
       "<a target=\"_blank\" href=\"https://github.com/github/BH_time_collocations/tree/master/data\" title=\"~/github/BH_time_collocations/data/data/corpus/code.tf\">code</a>\n",
       "</div>\n",
       "<div class=\"fmono\">int</div>\n",
       "\n",
       "<span> ✅ identifier of a clause atom relationship (0; 74; 367; ...)</span>\n",
       "\n",
       "</div>\n",
       "\n",
       "<div class=\"frow\">\n",
       "    <div class=\"fnamecat \">\n",
       "<a target=\"_blank\" href=\"https://github.com/github/BH_time_collocations/tree/master/data\" title=\"~/github/BH_time_collocations/data/data/corpus/det.tf\">det</a>\n",
       "</div>\n",
       "<div class=\"fmono\">str</div>\n",
       "\n",
       "<span> ✅ determinedness of phrase(atom) (det; und; NA.)</span>\n",
       "\n",
       "</div>\n",
       "\n",
       "<div class=\"frow\">\n",
       "    <div class=\"fnamecat \">\n",
       "<a target=\"_blank\" href=\"https://github.com/github/BH_time_collocations/tree/master/data\" title=\"~/github/BH_time_collocations/data/data/corpus/domain.tf\">domain</a>\n",
       "</div>\n",
       "<div class=\"fmono\">str</div>\n",
       "\n",
       "<span> ✅ text type of clause (? (Unknown); N (narrative); D (discursive); Q (Quotation).)</span>\n",
       "\n",
       "</div>\n",
       "\n",
       "<div class=\"frow\">\n",
       "    <div class=\"fnamecat \">\n",
       "<a target=\"_blank\" href=\"https://github.com/github/BH_time_collocations/tree/master/data\" title=\"~/github/BH_time_collocations/data/data/corpus/freq_lex.tf\">freq_lex</a>\n",
       "</div>\n",
       "<div class=\"fmono\">int</div>\n",
       "\n",
       "<span> ✅ frequency of lexemes</span>\n",
       "\n",
       "</div>\n",
       "\n",
       "<div class=\"frow\">\n",
       "    <div class=\"fnamecat \">\n",
       "<a target=\"_blank\" href=\"https://github.com/github/BH_time_collocations/tree/master/data\" title=\"~/github/BH_time_collocations/data/data/corpus/freq_occ.tf\">freq_occ</a>\n",
       "</div>\n",
       "<div class=\"fmono\">int</div>\n",
       "\n",
       "<span> ✅ frequency of occurrences</span>\n",
       "\n",
       "</div>\n",
       "\n",
       "<div class=\"frow\">\n",
       "    <div class=\"fnamecat \">\n",
       "<a target=\"_blank\" href=\"https://github.com/github/BH_time_collocations/tree/master/data\" title=\"~/github/BH_time_collocations/data/data/corpus/function.tf\">function</a>\n",
       "</div>\n",
       "<div class=\"fmono\">str</div>\n",
       "\n",
       "<span> ✅ syntactic function of phrase (Cmpl; Objc; Pred; ...)</span>\n",
       "\n",
       "</div>\n",
       "\n",
       "<div class=\"frow\">\n",
       "    <div class=\"fnamecat \">\n",
       "<a target=\"_blank\" href=\"https://github.com/github/BH_time_collocations/tree/master/data\" title=\"~/github/BH_time_collocations/data/data/corpus/g_cons.tf\">g_cons</a>\n",
       "</div>\n",
       "<div class=\"fmono\">str</div>\n",
       "\n",
       "<span> ✅ word consonantal-transliterated (B R>CJT BR> >LHJM ...)</span>\n",
       "\n",
       "</div>\n",
       "\n",
       "<div class=\"frow\">\n",
       "    <div class=\"fnamecat \">\n",
       "<a target=\"_blank\" href=\"https://github.com/github/BH_time_collocations/tree/master/data\" title=\"~/github/BH_time_collocations/data/data/corpus/g_cons_utf8.tf\">g_cons_utf8</a>\n",
       "</div>\n",
       "<div class=\"fmono\">str</div>\n",
       "\n",
       "<span> ✅ word consonantal-Hebrew (ב ראשׁית ברא אלהים)</span>\n",
       "\n",
       "</div>\n",
       "\n",
       "<div class=\"frow\">\n",
       "    <div class=\"fnamecat \">\n",
       "<a target=\"_blank\" href=\"https://github.com/github/BH_time_collocations/tree/master/data\" title=\"~/github/BH_time_collocations/data/data/corpus/g_lex.tf\">g_lex</a>\n",
       "</div>\n",
       "<div class=\"fmono\">str</div>\n",
       "\n",
       "<span> ✅ lexeme pointed-transliterated (B.:- R;>CIJT B.@R@> >:ELOH ...)</span>\n",
       "\n",
       "</div>\n",
       "\n",
       "<div class=\"frow\">\n",
       "    <div class=\"fnamecat \">\n",
       "<a target=\"_blank\" href=\"https://github.com/github/BH_time_collocations/tree/master/data\" title=\"~/github/BH_time_collocations/data/data/corpus/g_lex_utf8.tf\">g_lex_utf8</a>\n",
       "</div>\n",
       "<div class=\"fmono\">str</div>\n",
       "\n",
       "<span> ✅ lexeme pointed-Hebrew (בְּ רֵאשִׁית בָּרָא אֱלֹה)</span>\n",
       "\n",
       "</div>\n",
       "\n",
       "<div class=\"frow\">\n",
       "    <div class=\"fnamecat \">\n",
       "<a target=\"_blank\" href=\"https://github.com/github/BH_time_collocations/tree/master/data\" title=\"~/github/BH_time_collocations/data/data/corpus/g_nme.tf\">g_nme</a>\n",
       "</div>\n",
       "<div class=\"fmono\">str</div>\n",
       "\n",
       "<span> ✅ nominal ending pointed-transliterated (/IJM /ET /;J ...)</span>\n",
       "\n",
       "</div>\n",
       "\n",
       "<div class=\"frow\">\n",
       "    <div class=\"fnamecat \">\n",
       "<a target=\"_blank\" href=\"https://github.com/github/BH_time_collocations/tree/master/data\" title=\"~/github/BH_time_collocations/data/data/corpus/g_nme_utf8.tf\">g_nme_utf8</a>\n",
       "</div>\n",
       "<div class=\"fmono\">str</div>\n",
       "\n",
       "<span> ✅ nominal ending pointed-Hebrew (ים ֶ֜ת  ֵ֜י)</span>\n",
       "\n",
       "</div>\n",
       "\n",
       "<div class=\"frow\">\n",
       "    <div class=\"fnamecat \">\n",
       "<a target=\"_blank\" href=\"https://github.com/github/BH_time_collocations/tree/master/data\" title=\"~/github/BH_time_collocations/data/data/corpus/g_pfm.tf\">g_pfm</a>\n",
       "</div>\n",
       "<div class=\"fmono\">str</div>\n",
       "\n",
       "<span> ✅ preformative pointed-transliterated (!J.O! !J:! !J:! !J.A! ...)</span>\n",
       "\n",
       "</div>\n",
       "\n",
       "<div class=\"frow\">\n",
       "    <div class=\"fnamecat \">\n",
       "<a target=\"_blank\" href=\"https://github.com/github/BH_time_collocations/tree/master/data\" title=\"~/github/BH_time_collocations/data/data/corpus/g_pfm_utf8.tf\">g_pfm_utf8</a>\n",
       "</div>\n",
       "<div class=\"fmono\">str</div>\n",
       "\n",
       "<span> ✅ preformative pointed-Hebrew (יְ יְ יַּ)</span>\n",
       "\n",
       "</div>\n",
       "\n",
       "<div class=\"frow\">\n",
       "    <div class=\"fnamecat \">\n",
       "<a target=\"_blank\" href=\"https://github.com/github/BH_time_collocations/tree/master/data\" title=\"~/github/BH_time_collocations/data/data/corpus/g_prs.tf\">g_prs</a>\n",
       "</div>\n",
       "<div class=\"fmono\">str</div>\n",
       "\n",
       "<span> ✅ pronominal suffix pointed-transliterated (+OW +;HW ...)</span>\n",
       "\n",
       "</div>\n",
       "\n",
       "<div class=\"frow\">\n",
       "    <div class=\"fnamecat \">\n",
       "<a target=\"_blank\" href=\"https://github.com/github/BH_time_collocations/tree/master/data\" title=\"~/github/BH_time_collocations/data/data/corpus/g_prs_utf8.tf\">g_prs_utf8</a>\n",
       "</div>\n",
       "<div class=\"fmono\">str</div>\n",
       "\n",
       "<span> ✅ pronominal suffix pointed-Hebrew (ו ֵהוּ)</span>\n",
       "\n",
       "</div>\n",
       "\n",
       "<div class=\"frow\">\n",
       "    <div class=\"fnamecat \">\n",
       "<a target=\"_blank\" href=\"https://github.com/github/BH_time_collocations/tree/master/data\" title=\"~/github/BH_time_collocations/data/data/corpus/g_uvf.tf\">g_uvf</a>\n",
       "</div>\n",
       "<div class=\"fmono\">str</div>\n",
       "\n",
       "<span> ✅ univalent final consonant pointed-transliterated (~OW ~E ~@H ...)</span>\n",
       "\n",
       "</div>\n",
       "\n",
       "<div class=\"frow\">\n",
       "    <div class=\"fnamecat \">\n",
       "<a target=\"_blank\" href=\"https://github.com/github/BH_time_collocations/tree/master/data\" title=\"~/github/BH_time_collocations/data/data/corpus/g_uvf_utf8.tf\">g_uvf_utf8</a>\n",
       "</div>\n",
       "<div class=\"fmono\">str</div>\n",
       "\n",
       "<span> ✅ univalent final consonant pointed-Hebrew (ֶ ָה)</span>\n",
       "\n",
       "</div>\n",
       "\n",
       "<div class=\"frow\">\n",
       "    <div class=\"fnamecat \">\n",
       "<a target=\"_blank\" href=\"https://github.com/github/BH_time_collocations/tree/master/data\" title=\"~/github/BH_time_collocations/data/data/corpus/g_vbe.tf\">g_vbe</a>\n",
       "</div>\n",
       "<div class=\"fmono\">str</div>\n",
       "\n",
       "<span> ✅ verbal ending pointed-transliterated ([W. ...)</span>\n",
       "\n",
       "</div>\n",
       "\n",
       "<div class=\"frow\">\n",
       "    <div class=\"fnamecat \">\n",
       "<a target=\"_blank\" href=\"https://github.com/github/BH_time_collocations/tree/master/data\" title=\"~/github/BH_time_collocations/data/data/corpus/g_vbe_utf8.tf\">g_vbe_utf8</a>\n",
       "</div>\n",
       "<div class=\"fmono\">str</div>\n",
       "\n",
       "<span> ✅ verbal ending pointed-Hebrew (וּ)</span>\n",
       "\n",
       "</div>\n",
       "\n",
       "<div class=\"frow\">\n",
       "    <div class=\"fnamecat \">\n",
       "<a target=\"_blank\" href=\"https://github.com/github/BH_time_collocations/tree/master/data\" title=\"~/github/BH_time_collocations/data/data/corpus/g_vbs.tf\">g_vbs</a>\n",
       "</div>\n",
       "<div class=\"fmono\">str</div>\n",
       "\n",
       "<span> ✅ root formation pointed-transliteratedeg (]] ]HA] ...)</span>\n",
       "\n",
       "</div>\n",
       "\n",
       "<div class=\"frow\">\n",
       "    <div class=\"fnamecat \">\n",
       "<a target=\"_blank\" href=\"https://github.com/github/BH_time_collocations/tree/master/data\" title=\"~/github/BH_time_collocations/data/data/corpus/g_vbs_utf8.tf\">g_vbs_utf8</a>\n",
       "</div>\n",
       "<div class=\"fmono\">str</div>\n",
       "\n",
       "<span> ✅ root formation pointed-Hebrew (הַ)</span>\n",
       "\n",
       "</div>\n",
       "\n",
       "<div class=\"frow\">\n",
       "    <div class=\"fnamecat \">\n",
       "<a target=\"_blank\" href=\"https://github.com/github/BH_time_collocations/tree/master/data\" title=\"~/github/BH_time_collocations/data/data/corpus/g_word.tf\">g_word</a>\n",
       "</div>\n",
       "<div class=\"fmono\">str</div>\n",
       "\n",
       "<span> ✅ word pointed-transliterated (B.:- R;>CI73JT B.@R@74> >:ELOHI92JM)</span>\n",
       "\n",
       "</div>\n",
       "\n",
       "<div class=\"frow\">\n",
       "    <div class=\"fnamecat \">\n",
       "<a target=\"_blank\" href=\"https://github.com/github/BH_time_collocations/tree/master/data\" title=\"~/github/BH_time_collocations/data/data/corpus/g_word_utf8.tf\">g_word_utf8</a>\n",
       "</div>\n",
       "<div class=\"fmono\">str</div>\n",
       "\n",
       "<span> ✅ word pointed-Hebrew (בְּ רֵאשִׁ֖ית בָּרָ֣א אֱלֹהִ֑ים)</span>\n",
       "\n",
       "</div>\n",
       "\n",
       "<div class=\"frow\">\n",
       "    <div class=\"fnamecat \">\n",
       "<a target=\"_blank\" href=\"https://github.com/github/BH_time_collocations/tree/master/data\" title=\"~/github/BH_time_collocations/data/data/corpus/genre.tf\">genre</a>\n",
       "</div>\n",
       "<div class=\"fmono\">str</div>\n",
       "\n",
       "<span> (sub)genre of a verse node</span>\n",
       "\n",
       "</div>\n",
       "\n",
       "<div class=\"frow\">\n",
       "    <div class=\"fnamecat \">\n",
       "<a target=\"_blank\" href=\"https://github.com/github/BH_time_collocations/tree/master/data\" title=\"~/github/BH_time_collocations/data/data/corpus/gloss.tf\">gloss</a>\n",
       "</div>\n",
       "<div class=\"fmono\">str</div>\n",
       "\n",
       "<span> 🆗 english translation of lexeme (beginning create god(s))</span>\n",
       "\n",
       "</div>\n",
       "\n",
       "<div class=\"frow\">\n",
       "    <div class=\"fnamecat \">\n",
       "<a target=\"_blank\" href=\"https://github.com/github/BH_time_collocations/tree/master/data\" title=\"~/github/BH_time_collocations/data/data/corpus/gn.tf\">gn</a>\n",
       "</div>\n",
       "<div class=\"fmono\">str</div>\n",
       "\n",
       "<span> ✅ grammatical gender (m; f; NA; unknown.)</span>\n",
       "\n",
       "</div>\n",
       "\n",
       "<div class=\"frow\">\n",
       "    <div class=\"fnamecat \">\n",
       "<a target=\"_blank\" href=\"https://github.com/github/BH_time_collocations/tree/master/data\" title=\"~/github/BH_time_collocations/data/data/corpus/instruction.tf\">instruction</a>\n",
       "</div>\n",
       "<div class=\"fmono\">str</div>\n",
       "\n",
       "<span> ❓ change the set of actors (.e; d.; ..; .#; .q; ...)</span>\n",
       "\n",
       "</div>\n",
       "\n",
       "<div class=\"frow\">\n",
       "    <div class=\"fnamecat \">\n",
       "<a target=\"_blank\" href=\"https://github.com/github/BH_time_collocations/tree/master/data\" title=\"~/github/BH_time_collocations/data/data/corpus/is_root.tf\">is_root</a>\n",
       "</div>\n",
       "<div class=\"fmono\">str</div>\n",
       "\n",
       "<span> A modified version of the ETCBC's BHSA for my Cambridge PhD thesis</span>\n",
       "\n",
       "</div>\n",
       "\n",
       "<div class=\"frow\">\n",
       "    <div class=\"fnamecat \">\n",
       "<a target=\"_blank\" href=\"https://github.com/github/BH_time_collocations/tree/master/data\" title=\"~/github/BH_time_collocations/data/data/corpus/kind.tf\">kind</a>\n",
       "</div>\n",
       "<div class=\"fmono\">str</div>\n",
       "\n",
       "<span> ✅ clause kind (VC (verbal); NC (nominal); WP (without predication))</span>\n",
       "\n",
       "</div>\n",
       "\n",
       "<div class=\"frow\">\n",
       "    <div class=\"fnamecat \">\n",
       "<a target=\"_blank\" href=\"https://github.com/github/BH_time_collocations/tree/master/data\" title=\"~/github/BH_time_collocations/data/data/corpus/kq_hybrid.tf\">kq_hybrid</a>\n",
       "</div>\n",
       "<div class=\"fmono\">str</div>\n",
       "\n",
       "<span> ❓ unclear, ketiv/qere related</span>\n",
       "\n",
       "</div>\n",
       "\n",
       "<div class=\"frow\">\n",
       "    <div class=\"fnamecat \">\n",
       "<a target=\"_blank\" href=\"https://github.com/github/BH_time_collocations/tree/master/data\" title=\"~/github/BH_time_collocations/data/data/corpus/kq_hybrid_utf8.tf\">kq_hybrid_utf8</a>\n",
       "</div>\n",
       "<div class=\"fmono\">str</div>\n",
       "\n",
       "<span> ❓ unclear, ketiv/qere related</span>\n",
       "\n",
       "</div>\n",
       "\n",
       "<div class=\"frow\">\n",
       "    <div class=\"fnamecat \">\n",
       "<a target=\"_blank\" href=\"https://github.com/github/BH_time_collocations/tree/master/data\" title=\"~/github/BH_time_collocations/data/data/corpus/label.tf\">label</a>\n",
       "</div>\n",
       "<div class=\"fmono\">str</div>\n",
       "\n",
       "<span> ✅ (half-)verse label (half verses: A; B; C; verses:  GEN 01,02)</span>\n",
       "\n",
       "</div>\n",
       "\n",
       "<div class=\"frow\">\n",
       "    <div class=\"fnamecat \">\n",
       "<a target=\"_blank\" href=\"https://github.com/github/BH_time_collocations/tree/master/data\" title=\"~/github/BH_time_collocations/data/data/corpus/language.tf\">language</a>\n",
       "</div>\n",
       "<div class=\"fmono\">str</div>\n",
       "\n",
       "<span> ✅ of word or lexeme (Hebrew; Aramaic.)</span>\n",
       "\n",
       "</div>\n",
       "\n",
       "<div class=\"frow\">\n",
       "    <div class=\"fnamecat \">\n",
       "<a target=\"_blank\" href=\"https://github.com/github/BH_time_collocations/tree/master/data\" title=\"~/github/BH_time_collocations/data/data/corpus/lex.tf\">lex</a>\n",
       "</div>\n",
       "<div class=\"fmono\">str</div>\n",
       "\n",
       "<span> ✅ lexeme consonantal-transliterated (B R>CJT/ BR>[ >LHJM/)</span>\n",
       "\n",
       "</div>\n",
       "\n",
       "<div class=\"frow\">\n",
       "    <div class=\"fnamecat \">\n",
       "<a target=\"_blank\" href=\"https://github.com/github/BH_time_collocations/tree/master/data\" title=\"~/github/BH_time_collocations/data/data/corpus/lex0.tf\">lex0</a>\n",
       "</div>\n",
       "<div class=\"fmono\">str</div>\n",
       "\n",
       "<span> ✅ lexeme consonantal-transliterated without disambiguation (B R>CJT BR> >LHJM)</span>\n",
       "\n",
       "</div>\n",
       "\n",
       "<div class=\"frow\">\n",
       "    <div class=\"fnamecat \">\n",
       "<a target=\"_blank\" href=\"https://github.com/github/BH_time_collocations/tree/master/data\" title=\"~/github/BH_time_collocations/data/data/corpus/lex_utf8.tf\">lex_utf8</a>\n",
       "</div>\n",
       "<div class=\"fmono\">str</div>\n",
       "\n",
       "<span> ✅ lexeme consonantal-Hebrew (ב ראשׁית֜ ברא אלהים֜)</span>\n",
       "\n",
       "</div>\n",
       "\n",
       "<div class=\"frow\">\n",
       "    <div class=\"fnamecat \">\n",
       "<a target=\"_blank\" href=\"https://github.com/github/BH_time_collocations/tree/master/data\" title=\"~/github/BH_time_collocations/data/data/corpus/lexeme_count.tf\">lexeme_count</a>\n",
       "</div>\n",
       "<div class=\"fmono\">int</div>\n",
       "\n",
       "<span> ✅ on words: the number of occurrences of its lexeme</span>\n",
       "\n",
       "</div>\n",
       "\n",
       "<div class=\"frow\">\n",
       "    <div class=\"fnamecat \">\n",
       "<a target=\"_blank\" href=\"https://github.com/github/BH_time_collocations/tree/master/data\" title=\"~/github/BH_time_collocations/data/data/corpus/ls.tf\">ls</a>\n",
       "</div>\n",
       "<div class=\"fmono\">str</div>\n",
       "\n",
       "<span> ✅ lexical set, subclassification of part-of-speech (card; ques; mult)</span>\n",
       "\n",
       "</div>\n",
       "\n",
       "<div class=\"frow\">\n",
       "    <div class=\"fnamecat \">\n",
       "<a target=\"_blank\" href=\"https://github.com/github/BH_time_collocations/tree/master/data\" title=\"~/github/BH_time_collocations/data/data/corpus/nametype.tf\">nametype</a>\n",
       "</div>\n",
       "<div class=\"fmono\">str</div>\n",
       "\n",
       "<span> ⚠️ named entity type (pers; mens; gens; topo; ppde.)</span>\n",
       "\n",
       "</div>\n",
       "\n",
       "<div class=\"frow\">\n",
       "    <div class=\"fnamecat \">\n",
       "<a target=\"_blank\" href=\"https://github.com/github/BH_time_collocations/tree/master/data\" title=\"~/github/BH_time_collocations/data/data/corpus/nme.tf\">nme</a>\n",
       "</div>\n",
       "<div class=\"fmono\">str</div>\n",
       "\n",
       "<span> ✅ nominal ending consonantal-transliterated (absent; n/a; JM, ...)</span>\n",
       "\n",
       "</div>\n",
       "\n",
       "<div class=\"frow\">\n",
       "    <div class=\"fnamecat \">\n",
       "<a target=\"_blank\" href=\"https://github.com/github/BH_time_collocations/tree/master/data\" title=\"~/github/BH_time_collocations/data/data/corpus/nu.tf\">nu</a>\n",
       "</div>\n",
       "<div class=\"fmono\">str</div>\n",
       "\n",
       "<span> ✅ grammatical number (sg; du; pl; NA; unknown.)</span>\n",
       "\n",
       "</div>\n",
       "\n",
       "<div class=\"frow\">\n",
       "    <div class=\"fnamecat \">\n",
       "<a target=\"_blank\" href=\"https://github.com/github/BH_time_collocations/tree/master/data\" title=\"~/github/BH_time_collocations/data/data/corpus/number.tf\">number</a>\n",
       "</div>\n",
       "<div class=\"fmono\">int</div>\n",
       "\n",
       "<span> ✅ sequence number of an object within its context</span>\n",
       "\n",
       "</div>\n",
       "\n",
       "<div class=\"frow\">\n",
       "    <div class=\"fnamecat \">\n",
       "<a target=\"_blank\" href=\"https://github.com/github/BH_time_collocations/tree/master/data\" title=\"~/github/BH_time_collocations/data/data/corpus/otype.tf\">otype</a>\n",
       "</div>\n",
       "<div class=\"fmono\">str</div>\n",
       "\n",
       "<span> A modified version of the ETCBC's BHSA for my Cambridge PhD thesis</span>\n",
       "\n",
       "</div>\n",
       "\n",
       "<div class=\"frow\">\n",
       "    <div class=\"fnamecat \">\n",
       "<a target=\"_blank\" href=\"https://github.com/github/BH_time_collocations/tree/master/data\" title=\"~/github/BH_time_collocations/data/data/corpus/pargr.tf\">pargr</a>\n",
       "</div>\n",
       "<div class=\"fmono\">str</div>\n",
       "\n",
       "<span> 🆗 hierarchical paragraph number (1; 1.2; 1.2.3.4; ...)</span>\n",
       "\n",
       "</div>\n",
       "\n",
       "<div class=\"frow\">\n",
       "    <div class=\"fnamecat \">\n",
       "<a target=\"_blank\" href=\"https://github.com/github/BH_time_collocations/tree/master/data\" title=\"~/github/BH_time_collocations/data/data/corpus/pdp.tf\">pdp</a>\n",
       "</div>\n",
       "<div class=\"fmono\">str</div>\n",
       "\n",
       "<span> ✅ phrase dependent part-of-speech (art; verb; subs; nmpr, ...)</span>\n",
       "\n",
       "</div>\n",
       "\n",
       "<div class=\"frow\">\n",
       "    <div class=\"fnamecat \">\n",
       "<a target=\"_blank\" href=\"https://github.com/github/BH_time_collocations/tree/master/data\" title=\"~/github/BH_time_collocations/data/data/corpus/pfm.tf\">pfm</a>\n",
       "</div>\n",
       "<div class=\"fmono\">str</div>\n",
       "\n",
       "<span> ✅ preformative consonantal-transliterated (absent; n/a; J, ...)</span>\n",
       "\n",
       "</div>\n",
       "\n",
       "<div class=\"frow\">\n",
       "    <div class=\"fnamecat \">\n",
       "<a target=\"_blank\" href=\"https://github.com/github/BH_time_collocations/tree/master/data\" title=\"~/github/BH_time_collocations/data/data/corpus/prs.tf\">prs</a>\n",
       "</div>\n",
       "<div class=\"fmono\">str</div>\n",
       "\n",
       "<span> ✅ pronominal suffix consonantal-transliterated (absent; n/a; W; ...)</span>\n",
       "\n",
       "</div>\n",
       "\n",
       "<div class=\"frow\">\n",
       "    <div class=\"fnamecat \">\n",
       "<a target=\"_blank\" href=\"https://github.com/github/BH_time_collocations/tree/master/data\" title=\"~/github/BH_time_collocations/data/data/corpus/prs_gn.tf\">prs_gn</a>\n",
       "</div>\n",
       "<div class=\"fmono\">str</div>\n",
       "\n",
       "<span> ✅ pronominal suffix gender (m; f; NA; unknown.)</span>\n",
       "\n",
       "</div>\n",
       "\n",
       "<div class=\"frow\">\n",
       "    <div class=\"fnamecat \">\n",
       "<a target=\"_blank\" href=\"https://github.com/github/BH_time_collocations/tree/master/data\" title=\"~/github/BH_time_collocations/data/data/corpus/prs_nu.tf\">prs_nu</a>\n",
       "</div>\n",
       "<div class=\"fmono\">str</div>\n",
       "\n",
       "<span> ✅ pronominal suffix number (sg; du; pl; NA; unknown.)</span>\n",
       "\n",
       "</div>\n",
       "\n",
       "<div class=\"frow\">\n",
       "    <div class=\"fnamecat \">\n",
       "<a target=\"_blank\" href=\"https://github.com/github/BH_time_collocations/tree/master/data\" title=\"~/github/BH_time_collocations/data/data/corpus/prs_ps.tf\">prs_ps</a>\n",
       "</div>\n",
       "<div class=\"fmono\">str</div>\n",
       "\n",
       "<span> ✅ pronominal suffix person (p1; p2; p3; NA; unknown.)</span>\n",
       "\n",
       "</div>\n",
       "\n",
       "<div class=\"frow\">\n",
       "    <div class=\"fnamecat \">\n",
       "<a target=\"_blank\" href=\"https://github.com/github/BH_time_collocations/tree/master/data\" title=\"~/github/BH_time_collocations/data/data/corpus/ps.tf\">ps</a>\n",
       "</div>\n",
       "<div class=\"fmono\">str</div>\n",
       "\n",
       "<span> ✅ grammatical person (p1; p2; p3; NA; unknown.)</span>\n",
       "\n",
       "</div>\n",
       "\n",
       "<div class=\"frow\">\n",
       "    <div class=\"fnamecat \">\n",
       "<a target=\"_blank\" href=\"https://github.com/github/BH_time_collocations/tree/master/data\" title=\"~/github/BH_time_collocations/data/data/corpus/qere.tf\">qere</a>\n",
       "</div>\n",
       "<div class=\"fmono\">str</div>\n",
       "\n",
       "<span> ✅ word pointed-transliterated masoretic reading correction</span>\n",
       "\n",
       "</div>\n",
       "\n",
       "<div class=\"frow\">\n",
       "    <div class=\"fnamecat \">\n",
       "<a target=\"_blank\" href=\"https://github.com/github/BH_time_collocations/tree/master/data\" title=\"~/github/BH_time_collocations/data/data/corpus/qere_trailer.tf\">qere_trailer</a>\n",
       "</div>\n",
       "<div class=\"fmono\">str</div>\n",
       "\n",
       "<span> ✅ interword material -pointed-transliterated (Masoretic correction)</span>\n",
       "\n",
       "</div>\n",
       "\n",
       "<div class=\"frow\">\n",
       "    <div class=\"fnamecat \">\n",
       "<a target=\"_blank\" href=\"https://github.com/github/BH_time_collocations/tree/master/data\" title=\"~/github/BH_time_collocations/data/data/corpus/qere_trailer_utf8.tf\">qere_trailer_utf8</a>\n",
       "</div>\n",
       "<div class=\"fmono\">str</div>\n",
       "\n",
       "<span> ✅ interword material -pointed-transliterated (Masoretic correction)</span>\n",
       "\n",
       "</div>\n",
       "\n",
       "<div class=\"frow\">\n",
       "    <div class=\"fnamecat \">\n",
       "<a target=\"_blank\" href=\"https://github.com/github/BH_time_collocations/tree/master/data\" title=\"~/github/BH_time_collocations/data/data/corpus/qere_utf8.tf\">qere_utf8</a>\n",
       "</div>\n",
       "<div class=\"fmono\">str</div>\n",
       "\n",
       "<span> ✅ word pointed-Hebrew masoretic reading correction</span>\n",
       "\n",
       "</div>\n",
       "\n",
       "<div class=\"frow\">\n",
       "    <div class=\"fnamecat \">\n",
       "<a target=\"_blank\" href=\"https://github.com/github/BH_time_collocations/tree/master/data\" title=\"~/github/BH_time_collocations/data/data/corpus/rank_lex.tf\">rank_lex</a>\n",
       "</div>\n",
       "<div class=\"fmono\">int</div>\n",
       "\n",
       "<span> ✅ ranking of lexemes based on freqnuecy</span>\n",
       "\n",
       "</div>\n",
       "\n",
       "<div class=\"frow\">\n",
       "    <div class=\"fnamecat \">\n",
       "<a target=\"_blank\" href=\"https://github.com/github/BH_time_collocations/tree/master/data\" title=\"~/github/BH_time_collocations/data/data/corpus/rank_occ.tf\">rank_occ</a>\n",
       "</div>\n",
       "<div class=\"fmono\">int</div>\n",
       "\n",
       "<span> ✅ ranking of occurrences based on frequency</span>\n",
       "\n",
       "</div>\n",
       "\n",
       "<div class=\"frow\">\n",
       "    <div class=\"fnamecat \">\n",
       "<a target=\"_blank\" href=\"https://github.com/github/BH_time_collocations/tree/master/data\" title=\"~/github/BH_time_collocations/data/data/corpus/rela.tf\">rela</a>\n",
       "</div>\n",
       "<div class=\"fmono\">str</div>\n",
       "\n",
       "<span> ✅ linguistic relation between clause/(sub)phrase(atom) (ADJ; MOD; ATR; ...)</span>\n",
       "\n",
       "</div>\n",
       "\n",
       "<div class=\"frow\">\n",
       "    <div class=\"fnamecat \">\n",
       "<a target=\"_blank\" href=\"https://github.com/github/BH_time_collocations/tree/master/data\" title=\"~/github/BH_time_collocations/data/data/corpus/root.tf\">root</a>\n",
       "</div>\n",
       "<div class=\"fmono\">str</div>\n",
       "\n",
       "<span> ⚠️ root of word or lexeme (R>C CMH XCK <unknown>)</span>\n",
       "\n",
       "</div>\n",
       "\n",
       "<div class=\"frow\">\n",
       "    <div class=\"fnamecat \">\n",
       "<a target=\"_blank\" href=\"https://github.com/github/BH_time_collocations/tree/master/data\" title=\"~/github/BH_time_collocations/data/data/corpus/sp.tf\">sp</a>\n",
       "</div>\n",
       "<div class=\"fmono\">str</div>\n",
       "\n",
       "<span> ✅ part-of-speech (art; verb; subs; nmpr, ...)</span>\n",
       "\n",
       "</div>\n",
       "\n",
       "<div class=\"frow\">\n",
       "    <div class=\"fnamecat \">\n",
       "<a target=\"_blank\" href=\"https://github.com/github/BH_time_collocations/tree/master/data\" title=\"~/github/BH_time_collocations/data/data/corpus/st.tf\">st</a>\n",
       "</div>\n",
       "<div class=\"fmono\">str</div>\n",
       "\n",
       "<span> ✅ state of a noun (a (absolute); c (construct); e (emphatic).)</span>\n",
       "\n",
       "</div>\n",
       "\n",
       "<div class=\"frow\">\n",
       "    <div class=\"fnamecat \">\n",
       "<a target=\"_blank\" href=\"https://github.com/github/BH_time_collocations/tree/master/data\" title=\"~/github/BH_time_collocations/data/data/corpus/suffix_gender.tf\">suffix_gender</a>\n",
       "</div>\n",
       "<div class=\"fmono\">str</div>\n",
       "\n",
       "<span> A modified version of the ETCBC's BHSA for my Cambridge PhD thesis</span>\n",
       "\n",
       "</div>\n",
       "\n",
       "<div class=\"frow\">\n",
       "    <div class=\"fnamecat \">\n",
       "<a target=\"_blank\" href=\"https://github.com/github/BH_time_collocations/tree/master/data\" title=\"~/github/BH_time_collocations/data/data/corpus/suffix_number.tf\">suffix_number</a>\n",
       "</div>\n",
       "<div class=\"fmono\">str</div>\n",
       "\n",
       "<span> A modified version of the ETCBC's BHSA for my Cambridge PhD thesis</span>\n",
       "\n",
       "</div>\n",
       "\n",
       "<div class=\"frow\">\n",
       "    <div class=\"fnamecat \">\n",
       "<a target=\"_blank\" href=\"https://github.com/github/BH_time_collocations/tree/master/data\" title=\"~/github/BH_time_collocations/data/data/corpus/suffix_person.tf\">suffix_person</a>\n",
       "</div>\n",
       "<div class=\"fmono\">str</div>\n",
       "\n",
       "<span> A modified version of the ETCBC's BHSA for my Cambridge PhD thesis</span>\n",
       "\n",
       "</div>\n",
       "\n",
       "<div class=\"frow\">\n",
       "    <div class=\"fnamecat \">\n",
       "<a target=\"_blank\" href=\"https://github.com/github/BH_time_collocations/tree/master/data\" title=\"~/github/BH_time_collocations/data/data/corpus/tab.tf\">tab</a>\n",
       "</div>\n",
       "<div class=\"fmono\">int</div>\n",
       "\n",
       "<span> ✅ clause atom: its level in the linguistic embedding</span>\n",
       "\n",
       "</div>\n",
       "\n",
       "<div class=\"frow\">\n",
       "    <div class=\"fnamecat \">\n",
       "<a target=\"_blank\" href=\"https://github.com/github/BH_time_collocations/tree/master/data\" title=\"~/github/BH_time_collocations/data/data/corpus/trailer.tf\">trailer</a>\n",
       "</div>\n",
       "<div class=\"fmono\">str</div>\n",
       "\n",
       "<span> ✅ interword material pointed-transliterated (& 00 05 00_P ...)</span>\n",
       "\n",
       "</div>\n",
       "\n",
       "<div class=\"frow\">\n",
       "    <div class=\"fnamecat \">\n",
       "<a target=\"_blank\" href=\"https://github.com/github/BH_time_collocations/tree/master/data\" title=\"~/github/BH_time_collocations/data/data/corpus/trailer_utf8.tf\">trailer_utf8</a>\n",
       "</div>\n",
       "<div class=\"fmono\">str</div>\n",
       "\n",
       "<span> ✅ interword material pointed-Hebrew (־ ׃)</span>\n",
       "\n",
       "</div>\n",
       "\n",
       "<div class=\"frow\">\n",
       "    <div class=\"fnamecat \">\n",
       "<a target=\"_blank\" href=\"https://github.com/github/BH_time_collocations/tree/master/data\" title=\"~/github/BH_time_collocations/data/data/corpus/txt.tf\">txt</a>\n",
       "</div>\n",
       "<div class=\"fmono\">str</div>\n",
       "\n",
       "<span> ✅ text type of clause and surrounding (repetion of ? N D Q as in feature domain)</span>\n",
       "\n",
       "</div>\n",
       "\n",
       "<div class=\"frow\">\n",
       "    <div class=\"fnamecat \">\n",
       "<a target=\"_blank\" href=\"https://github.com/github/BH_time_collocations/tree/master/data\" title=\"~/github/BH_time_collocations/data/data/corpus/typ.tf\">typ</a>\n",
       "</div>\n",
       "<div class=\"fmono\">str</div>\n",
       "\n",
       "<span> ✅ clause/phrase(atom) type (VP; NP; Ellp; Ptcp; WayX)</span>\n",
       "\n",
       "</div>\n",
       "\n",
       "<div class=\"frow\">\n",
       "    <div class=\"fnamecat \">\n",
       "<a target=\"_blank\" href=\"https://github.com/github/BH_time_collocations/tree/master/data\" title=\"~/github/BH_time_collocations/data/data/corpus/uvf.tf\">uvf</a>\n",
       "</div>\n",
       "<div class=\"fmono\">str</div>\n",
       "\n",
       "<span> ✅ univalent final consonant consonantal-transliterated (absent; N; J; ...)</span>\n",
       "\n",
       "</div>\n",
       "\n",
       "<div class=\"frow\">\n",
       "    <div class=\"fnamecat \">\n",
       "<a target=\"_blank\" href=\"https://github.com/github/BH_time_collocations/tree/master/data\" title=\"~/github/BH_time_collocations/data/data/corpus/vbe.tf\">vbe</a>\n",
       "</div>\n",
       "<div class=\"fmono\">str</div>\n",
       "\n",
       "<span> ✅ verbal ending consonantal-transliterated (n/a; W; ...)</span>\n",
       "\n",
       "</div>\n",
       "\n",
       "<div class=\"frow\">\n",
       "    <div class=\"fnamecat \">\n",
       "<a target=\"_blank\" href=\"https://github.com/github/BH_time_collocations/tree/master/data\" title=\"~/github/BH_time_collocations/data/data/corpus/vbs.tf\">vbs</a>\n",
       "</div>\n",
       "<div class=\"fmono\">str</div>\n",
       "\n",
       "<span> ✅ root formation consonantal-transliterated (absent; n/a; H; ...)</span>\n",
       "\n",
       "</div>\n",
       "\n",
       "<div class=\"frow\">\n",
       "    <div class=\"fnamecat \">\n",
       "<a target=\"_blank\" href=\"https://github.com/github/BH_time_collocations/tree/master/data\" title=\"~/github/BH_time_collocations/data/data/corpus/verse.tf\">verse</a>\n",
       "</div>\n",
       "<div class=\"fmono\">int</div>\n",
       "\n",
       "<span> ✅ verse number</span>\n",
       "\n",
       "</div>\n",
       "\n",
       "<div class=\"frow\">\n",
       "    <div class=\"fnamecat \">\n",
       "<a target=\"_blank\" href=\"https://github.com/github/BH_time_collocations/tree/master/data\" title=\"~/github/BH_time_collocations/data/data/corpus/voc_lex.tf\">voc_lex</a>\n",
       "</div>\n",
       "<div class=\"fmono\">str</div>\n",
       "\n",
       "<span> ✅ vocalized lexeme pointed-transliterated (B.: R;>CIJT BR> >:ELOHIJM)</span>\n",
       "\n",
       "</div>\n",
       "\n",
       "<div class=\"frow\">\n",
       "    <div class=\"fnamecat \">\n",
       "<a target=\"_blank\" href=\"https://github.com/github/BH_time_collocations/tree/master/data\" title=\"~/github/BH_time_collocations/data/data/corpus/voc_lex_utf8.tf\">voc_lex_utf8</a>\n",
       "</div>\n",
       "<div class=\"fmono\">str</div>\n",
       "\n",
       "<span> ✅ vocalized lexeme pointed-Hebrew (בְּ רֵאשִׁית ברא אֱלֹהִים)</span>\n",
       "\n",
       "</div>\n",
       "\n",
       "<div class=\"frow\">\n",
       "    <div class=\"fnamecat \">\n",
       "<a target=\"_blank\" href=\"https://github.com/github/BH_time_collocations/tree/master/data\" title=\"~/github/BH_time_collocations/data/data/corpus/vs.tf\">vs</a>\n",
       "</div>\n",
       "<div class=\"fmono\">str</div>\n",
       "\n",
       "<span> ✅ verbal stem (qal; piel; hif; apel; pael)</span>\n",
       "\n",
       "</div>\n",
       "\n",
       "<div class=\"frow\">\n",
       "    <div class=\"fnamecat \">\n",
       "<a target=\"_blank\" href=\"https://github.com/github/BH_time_collocations/tree/master/data\" title=\"~/github/BH_time_collocations/data/data/corpus/vt.tf\">vt</a>\n",
       "</div>\n",
       "<div class=\"fmono\">str</div>\n",
       "\n",
       "<span> ✅ verbal tense (perf; impv; wayq; infc)</span>\n",
       "\n",
       "</div>\n",
       "\n",
       "<div class=\"frow\">\n",
       "    <div class=\"fnamecat edge\">\n",
       "<a target=\"_blank\" href=\"https://github.com/github/BH_time_collocations/tree/master/data\" title=\"~/github/BH_time_collocations/data/data/corpus/mother.tf\">mother</a>\n",
       "</div>\n",
       "<div class=\"fmono\">none</div>\n",
       "\n",
       "<span> ✅ linguistic dependency between textual objects</span>\n",
       "\n",
       "</div>\n",
       "\n",
       "<div class=\"frow\">\n",
       "    <div class=\"fnamecat edge\">\n",
       "<a target=\"_blank\" href=\"https://github.com/github/BH_time_collocations/tree/master/data\" title=\"~/github/BH_time_collocations/data/data/corpus/omap@2021-KT.tf\">omap@ll</a>\n",
       "</div>\n",
       "<div class=\"fmono\">none</div>\n",
       "\n",
       "<span> Mapping between nodes in BHSA 2021 version to BHSA Kingham Thesis version</span>\n",
       "\n",
       "</div>\n",
       "\n",
       "<div class=\"frow\">\n",
       "    <div class=\"fnamecat edge\">\n",
       "<a target=\"_blank\" href=\"https://github.com/github/BH_time_collocations/tree/master/data\" title=\"~/github/BH_time_collocations/data/data/corpus/oslots.tf\">oslots</a>\n",
       "</div>\n",
       "<div class=\"fmono\">none</div>\n",
       "\n",
       "<span> A modified version of the ETCBC's BHSA for my Cambridge PhD thesis</span>\n",
       "\n",
       "</div>\n",
       "\n",
       "    </div>\n",
       "</details>\n",
       "\n"
      ],
      "text/plain": [
       "<IPython.core.display.HTML object>"
      ]
     },
     "metadata": {},
     "output_type": "display_data"
    },
    {
     "data": {
      "text/html": [
       "<style>tr.tf.ltr, td.tf.ltr, th.tf.ltr { text-align: left ! important;}\n",
       "tr.tf.rtl, td.tf.rtl, th.tf.rtl { text-align: right ! important;}\n",
       "@font-face {\n",
       "  font-family: \"Gentium Plus\";\n",
       "  src: local('Gentium Plus'), local('GentiumPlus'),\n",
       "    url('/server/static/fonts/GentiumPlus-R.woff') format('woff'),\n",
       "    url('https://github.com/annotation/text-fabric/blob/master/tf/server/static/fonts/GentiumPlus-R.woff?raw=true') format('woff');\n",
       "}\n",
       "\n",
       "@font-face {\n",
       "  font-family: \"Ezra SIL\";\n",
       "  src: local('Ezra SIL'), local('EzraSIL'),\n",
       "    url('/server/static/fonts/SILEOT.woff') format('woff'),\n",
       "    url('https://github.com/annotation/text-fabric/blob/master/tf/server/static/fonts/SILEOT.woff?raw=true') format('woff');\n",
       "}\n",
       "\n",
       "@font-face {\n",
       "  font-family: \"SBL Hebrew\";\n",
       "  src: local('SBL Hebrew'), local('SBLHebrew'),\n",
       "    url('/server/static/fonts/SBL_Hbrw.woff') format('woff'),\n",
       "    url('https://github.com/annotation/text-fabric/blob/master/tf/server/static/fonts/SBL_Hbrw.woff?raw=true') format('woff');\n",
       "}\n",
       "\n",
       "@font-face {\n",
       "  font-family: \"Estrangelo Edessa\";\n",
       "  src: local('Estrangelo Edessa'), local('EstrangeloEdessa');\n",
       "    url('/server/static/fonts/SyrCOMEdessa.woff') format('woff'),\n",
       "    url('https://github.com/annotation/text-fabric/blob/master/tf/server/static/fonts/SyrCOMEdessa.woff?raw=true') format('woff');\n",
       "}\n",
       "\n",
       "@font-face {\n",
       "  font-family: AmiriQuran;\n",
       "  font-style: normal;\n",
       "  font-weight: 400;\n",
       "  src: local('Amiri Quran'), local('AmiriQuran'),\n",
       "    url('/server/static/fonts/AmiriQuran.woff') format('woff'),\n",
       "    url('https://github.com/annotation/text-fabric/blob/master/tf/server/static/fonts/AmiriQuran.woff?raw=true') format('woff');\n",
       "}\n",
       "\n",
       "@font-face {\n",
       "  font-family: AmiriQuranColored;\n",
       "  font-style: normal;\n",
       "  font-weight: 400;\n",
       "  src: local('Amiri Quran Colored'), local('AmiriQuranColored'),\n",
       "    url('/server/static/fonts/AmiriQuranColored.woff') format('woff'),\n",
       "    url('https://github.com/annotation/text-fabric/blob/master/tf/server/static/fonts/AmiriQuranColored.woff?raw=true') format('woff');\n",
       "}\n",
       "\n",
       "@font-face {\n",
       "  font-family: \"Santakku\";\n",
       "  src: local('Santakku'),\n",
       "    url('/server/static/fonts/Santakku.woff') format('woff'),\n",
       "    url('https://github.com/annotation/text-fabric/blob/master/tf/server/static/fonts/Santakku.woff?raw=true') format('woff');\n",
       "}\n",
       "\n",
       "@font-face {\n",
       "  font-family: \"SantakkuM\";\n",
       "  src: local('SantakkuM'),\n",
       "    url('/server/static/fonts/SantakkuM.woff') format('woff'),\n",
       "    url('https://github.com/annotation/text-fabric/blob/master/tf/server/static/fonts/SantakkuM.woff?raw=true') format('woff');\n",
       "}\n",
       "/* bypassing some classical notebook settings */\n",
       "div#notebook {\n",
       "  line-height: unset;\n",
       "}\n",
       "/* neutral text */\n",
       ".txtn,.txtn a:visited,.txtn a:link {\n",
       "    font-family: sans-serif;\n",
       "    font-size: medium;\n",
       "    direction: ltr;\n",
       "    unicode-bidi: embed;\n",
       "    text-decoration: none;\n",
       "    color: var(--text-color);\n",
       "}\n",
       "/* transcription text */\n",
       ".txtt,.txtt a:visited,.txtt a:link {\n",
       "    font-family: monospace;\n",
       "    font-size: medium;\n",
       "    direction: ltr;\n",
       "    unicode-bidi: embed;\n",
       "    text-decoration: none;\n",
       "    color: var(--text-color);\n",
       "}\n",
       "/* source text */\n",
       ".txto,.txto a:visited,.txto a:link {\n",
       "    font-family: serif;\n",
       "    font-size: medium;\n",
       "    direction: ltr;\n",
       "    unicode-bidi: embed;\n",
       "    text-decoration: none;\n",
       "    color: var(--text-color);\n",
       "}\n",
       "/* phonetic text */\n",
       ".txtp,.txtp a:visited,.txtp a:link {\n",
       "    font-family: Gentium, sans-serif;\n",
       "    font-size: medium;\n",
       "    direction: ltr;\n",
       "    unicode-bidi: embed;\n",
       "    text-decoration: none;\n",
       "    color: var(--text-color);\n",
       "}\n",
       "/* original script text */\n",
       ".txtu,.txtu a:visited,.txtu a:link {\n",
       "    font-family: Gentium, sans-serif;\n",
       "    font-size: medium;\n",
       "    text-decoration: none;\n",
       "    color: var(--text-color);\n",
       "}\n",
       "/* hebrew */\n",
       ".txtu.hbo,.lex.hbo {\n",
       "    font-family: \"Ezra SIL\", \"SBL Hebrew\", sans-serif;\n",
       "    font-size: large;\n",
       "    direction: rtl ! important;\n",
       "    unicode-bidi: embed;\n",
       "}\n",
       "/* syriac */\n",
       ".txtu.syc,.lex.syc {\n",
       "    font-family: \"Estrangelo Edessa\", sans-serif;\n",
       "    font-size: medium;\n",
       "    direction: rtl ! important;\n",
       "    unicode-bidi: embed;\n",
       "}\n",
       "/* neo aramaic */\n",
       ".txtu.cld,.lex.cld {\n",
       "    font-family: \"CharisSIL-R\", sans-serif;\n",
       "    font-size: medium;\n",
       "    direction: ltr ! important;\n",
       "    unicode-bidi: embed;\n",
       "}\n",
       "/* standard arabic */\n",
       ".txtu.ara,.lex.ara {\n",
       "    font-family: \"AmiriQuran\", sans-serif;\n",
       "    font-size: large;\n",
       "    direction: rtl ! important;\n",
       "    unicode-bidi: embed;\n",
       "}\n",
       "/* cuneiform */\n",
       ".txtu.akk,.lex.akk {\n",
       "    font-family: Santakku, sans-serif;\n",
       "    font-size: large;\n",
       "    direction: ltr ! important;\n",
       "    unicode-bidi: embed;\n",
       "}\n",
       "/* greek */\n",
       ".txtu.grc,.lex.grc a:link {\n",
       "    font-family: Gentium, sans-serif;\n",
       "    font-size: medium;\n",
       "    direction: ltr ! important;\n",
       "    unicode-bidi: embed;\n",
       "}\n",
       "a:hover {\n",
       "    text-decoration: underline | important;\n",
       "    color: #0000ff | important;\n",
       "}\n",
       ".ltr {\n",
       "    direction: ltr ! important;\n",
       "    unicode-bidi: embed;\n",
       "}\n",
       ".rtl {\n",
       "    direction: rtl ! important;\n",
       "    unicode-bidi: embed;\n",
       "}\n",
       ".ubd {\n",
       "    unicode-bidi: embed;\n",
       "}\n",
       ".col {\n",
       "   display: inline-block;\n",
       "}\n",
       ".features {\n",
       "    font-family: monospace;\n",
       "    font-size: medium;\n",
       "    font-weight: bold;\n",
       "    color: var(--features);\n",
       "    display: flex;\n",
       "    flex-flow: column nowrap;\n",
       "    justify-content: flex-start;\n",
       "    align-items: flex-start;\n",
       "    align-content: flex-start;\n",
       "    padding: 2px;\n",
       "    margin: 2px;\n",
       "    direction: ltr;\n",
       "    unicode-bidi: embed;\n",
       "    border: var(--meta-width) solid var(--meta-color);\n",
       "    border-radius: var(--meta-width);\n",
       "}\n",
       ".features div,.features span {\n",
       "    padding: 0;\n",
       "    margin: -2px 0;\n",
       "}\n",
       ".features .f {\n",
       "    font-family: sans-serif;\n",
       "    font-size: small;\n",
       "    font-weight: normal;\n",
       "    color: #5555bb;\n",
       "}\n",
       ".features .xft {\n",
       "  color: #000000;\n",
       "  background-color: #eeeeee;\n",
       "  font-size: medium;\n",
       "  margin: 2px 0px;\n",
       "}\n",
       ".features .xft .f {\n",
       "  color: #000000;\n",
       "  background-color: #eeeeee;\n",
       "  font-size: small;\n",
       "  font-weight: normal;\n",
       "}\n",
       ".tfsechead {\n",
       "    font-family: sans-serif;\n",
       "    font-size: small;\n",
       "    font-weight: bold;\n",
       "    color: var(--tfsechead);\n",
       "    unicode-bidi: embed;\n",
       "    text-align: start;\n",
       "}\n",
       ".structure {\n",
       "    font-family: sans-serif;\n",
       "    font-size: small;\n",
       "    font-weight: bold;\n",
       "    color: var(--structure);\n",
       "    unicode-bidi: embed;\n",
       "    text-align: start;\n",
       "}\n",
       ".comments {\n",
       "    display: flex;\n",
       "    justify-content: flex-start;\n",
       "    align-items: flex-start;\n",
       "    align-content: flex-start;\n",
       "    flex-flow: column nowrap;\n",
       "}\n",
       ".nd, a:link.nd {\n",
       "    font-family: sans-serif;\n",
       "    font-size: small;\n",
       "    color: var(--node);\n",
       "    vertical-align: super;\n",
       "    direction: ltr ! important;\n",
       "    unicode-bidi: embed;\n",
       "}\n",
       ".lex {\n",
       "  color: var(--lex-color);;\n",
       "}\n",
       ".children,.children.ltr {\n",
       "    display: flex;\n",
       "    border: 0;\n",
       "    background-color: #ffffff;\n",
       "    justify-content: flex-start;\n",
       "    align-items: flex-start;\n",
       "    align-content: flex-start;\n",
       "}\n",
       ".children.stretch {\n",
       "    align-items: stretch;\n",
       "}\n",
       ".children.hor {\n",
       "    flex-flow: row nowrap;\n",
       "}\n",
       ".children.hor.wrap {\n",
       "    flex-flow: row wrap;\n",
       "}\n",
       ".children.ver {\n",
       "    flex-flow: column nowrap;\n",
       "}\n",
       ".children.ver.wrap {\n",
       "    flex-flow: column wrap;\n",
       "}\n",
       ".contnr {\n",
       "    width: fit-content;\n",
       "    display: flex;\n",
       "    justify-content: flex-start;\n",
       "    align-items: flex-start;\n",
       "    align-content: flex-start;\n",
       "    flex-flow: column nowrap;\n",
       "    background: #ffffff none repeat scroll 0 0;\n",
       "    padding:  10px 2px 2px 2px;\n",
       "    margin: 16px 2px 2px 2px;\n",
       "    border-style: solid;\n",
       "    font-size: small;\n",
       "}\n",
       ".contnr.trm {\n",
       "    background-attachment: local;\n",
       "}\n",
       ".contnr.cnul {\n",
       "    padding:  0;\n",
       "    margin: 0;\n",
       "    border-style: solid;\n",
       "    font-size: xx-small;\n",
       "}\n",
       ".contnr.cnul,.lbl.cnul {\n",
       "    border-color: var(--border-color-nul);\n",
       "    border-width: var(--border-width-nul);\n",
       "    border-radius: var(--border-width-nul);\n",
       "}\n",
       ".contnr.c0,.lbl.c0 {\n",
       "    border-color: var(--border-color0);\n",
       "    border-width: var(--border-width0);\n",
       "    border-radius: var(--border-width0);\n",
       "}\n",
       ".contnr.c1,.lbl.c1 {\n",
       "    border-color: var(--border-color1);\n",
       "    border-width: var(--border-width1);\n",
       "    border-radius: var(--border-width1);\n",
       "}\n",
       ".contnr.c2,.lbl.c2 {\n",
       "    border-color: var(--border-color2);\n",
       "    border-width: var(--border-width2);\n",
       "    border-radius: var(--border-width2);\n",
       "}\n",
       ".contnr.c3,.lbl.c3 {\n",
       "    border-color: var(--border-color3);\n",
       "    border-width: var(--border-width3);\n",
       "    border-radius: var(--border-width3);\n",
       "}\n",
       ".contnr.c4,.lbl.c4 {\n",
       "    border-color: var(--border-color4);\n",
       "    border-width: var(--border-width4);\n",
       "    border-radius: var(--border-width4);\n",
       "}\n",
       "span.plain {\n",
       "    /*display: inline-block;*/\n",
       "    display: inline-flex;\n",
       "    flex-flow: row wrap;\n",
       "    white-space: pre-wrap;\n",
       "}\n",
       "span.break {\n",
       "  flex-basis: 100%;\n",
       "  height: 0;\n",
       "}\n",
       ".plain {\n",
       "    background-color: #ffffff;\n",
       "}\n",
       ".plain.l,.contnr.l,.contnr.l>.lbl {\n",
       "    border-left-style: dotted\n",
       "}\n",
       ".plain.r,.contnr.r,.contnr.r>.lbl {\n",
       "    border-right-style: dotted\n",
       "}\n",
       ".plain.lno,.contnr.lno,.contnr.lno>.lbl {\n",
       "    border-left-style: none\n",
       "}\n",
       ".plain.rno,.contnr.rno,.contnr.rno>.lbl {\n",
       "    border-right-style: none\n",
       "}\n",
       ".plain.l {\n",
       "    padding-left: 4px;\n",
       "    margin-left: 2px;\n",
       "    border-width: var(--border-width-plain);\n",
       "}\n",
       ".plain.r {\n",
       "    padding-right: 4px;\n",
       "    margin-right: 2px;\n",
       "    border-width: var(--border-width-plain);\n",
       "}\n",
       ".lbl {\n",
       "    font-family: monospace;\n",
       "    margin-top: -24px;\n",
       "    margin-left: 20px;\n",
       "    background: #ffffff none repeat scroll 0 0;\n",
       "    padding: 0 6px;\n",
       "    border-style: solid;\n",
       "    display: block;\n",
       "    color: var(--label)\n",
       "}\n",
       ".lbl.trm {\n",
       "    background-attachment: local;\n",
       "    margin-top: 2px;\n",
       "    margin-left: 2px;\n",
       "    padding: 2px 2px;\n",
       "    border-style: none;\n",
       "}\n",
       ".lbl.cnul {\n",
       "    font-size: xx-small;\n",
       "}\n",
       ".lbl.c0 {\n",
       "    font-size: small;\n",
       "}\n",
       ".lbl.c1 {\n",
       "    font-size: small;\n",
       "}\n",
       ".lbl.c2 {\n",
       "    font-size: medium;\n",
       "}\n",
       ".lbl.c3 {\n",
       "    font-size: medium;\n",
       "}\n",
       ".lbl.c4 {\n",
       "    font-size: large;\n",
       "}\n",
       ".occs, a:link.occs {\n",
       "    font-size: small;\n",
       "}\n",
       "\n",
       "/* PROVENANCE */\n",
       "\n",
       "div.prov {\n",
       "\tmargin: 40px;\n",
       "\tpadding: 20px;\n",
       "\tborder: 2px solid var(--fog-rim);\n",
       "}\n",
       "div.pline {\n",
       "\tdisplay: flex;\n",
       "\tflex-flow: row nowrap;\n",
       "\tjustify-content: stretch;\n",
       "\talign-items: baseline;\n",
       "}\n",
       "div.p2line {\n",
       "\tmargin-left: 2em;\n",
       "\tdisplay: flex;\n",
       "\tflex-flow: row nowrap;\n",
       "\tjustify-content: stretch;\n",
       "\talign-items: baseline;\n",
       "}\n",
       "div.psline {\n",
       "\tdisplay: flex;\n",
       "\tflex-flow: row nowrap;\n",
       "\tjustify-content: stretch;\n",
       "\talign-items: baseline;\n",
       "\tbackground-color: var(--gold-mist-back);\n",
       "}\n",
       "div.pname {\n",
       "\tflex: 0 0 5rem;\n",
       "\tfont-weight: bold;\n",
       "}\n",
       "div.pval {\n",
       "    flex: 1 1 auto;\n",
       "}\n",
       "\n",
       "/* KEYBOARD */\n",
       ".ccoff {\n",
       "  background-color: inherit;\n",
       "}\n",
       ".ccon {\n",
       "  background-color: yellow ! important;\n",
       "}\n",
       ".ccon,.ccoff {\n",
       "  padding: 0.2rem;\n",
       "  margin: 0.2rem;\n",
       "  border: 0.1rem solid var(--letter-box-border);\n",
       "  border-radius: 0.1rem;\n",
       "}\n",
       ".ccline {\n",
       "  font-size: xx-large ! important;\n",
       "  font-weight: bold;\n",
       "  line-height: 2em ! important;\n",
       "}\n",
       "/* TF header */\n",
       "\n",
       "summary {\n",
       "  /* needed to override the normalize.less\n",
       "   * in the classical jupyter notebook\n",
       "   */\n",
       "  display: list-item ! important;\n",
       "}\n",
       "\n",
       ".fcorpus {\n",
       "  display: flex;\n",
       "  flex-flow: column nowrap;\n",
       "  justify-content: flex-start;\n",
       "  align-items: flex-start;\n",
       "  align-content: flex-start;\n",
       "}\n",
       ".frow {\n",
       "  display: flex;\n",
       "  flex-flow: row nowrap;\n",
       "  justify-content: flex-start;\n",
       "  align-items: flex-start;\n",
       "  align-content: flex-start;\n",
       "}\n",
       ".fmeta {\n",
       "  display: flex;\n",
       "  flex-flow: column nowrap;\n",
       "  justify-content: flex-start;\n",
       "  align-items: flex-start;\n",
       "  align-content: flex-start;\n",
       "}\n",
       ".fmetarow {\n",
       "  display: flex;\n",
       "  flex-flow: row nowrap;\n",
       "  justify-content: flex-start;\n",
       "  align-items: flex-start;\n",
       "  align-content: flex-start;\n",
       "}\n",
       ".fmetakey {\n",
       "  min-width: 8em;\n",
       "  font-family: monospace;\n",
       "}\n",
       ".fnamecat {\n",
       "  min-width: 8em;\n",
       "}\n",
       ".fnamecat.edge {\n",
       "  font-weight: bold;\n",
       "  font-style: italic;\n",
       "}\n",
       ".fmono {\n",
       "    font-family: monospace;\n",
       "}\n",
       "\n",
       ":root {\n",
       "\t--node:               hsla(120, 100%,  20%, 1.0  );\n",
       "\t--label:              hsla(  0, 100%,  20%, 1.0  );\n",
       "\t--tfsechead:          hsla(  0, 100%,  25%, 1.0  );\n",
       "\t--structure:          hsla(120, 100%,  25%, 1.0  );\n",
       "\t--features:           hsla(  0,   0%,  30%, 1.0  );\n",
       "  --text-color:         hsla( 60,  80%,  10%, 1.0  );\n",
       "  --lex-color:          hsla(220,  90%,  60%, 1.0  );\n",
       "  --meta-color:         hsla(  0,   0%,  90%, 0.7  );\n",
       "  --meta-width:         3px;\n",
       "  --border-color-nul:   hsla(  0,   0%,  90%, 0.5  );\n",
       "  --border-color0:      hsla(  0,   0%,  90%, 0.9  );\n",
       "  --border-color1:      hsla(  0,   0%,  80%, 0.9  );\n",
       "  --border-color2:      hsla(  0,   0%,  70%, 0.9  );\n",
       "  --border-color3:      hsla(  0,   0%,  80%, 0.8  );\n",
       "  --border-color4:      hsla(  0,   0%,  60%, 0.9  );\n",
       "\t--letter-box-border:  hsla(  0,   0%,  80%, 0.5  );\n",
       "  --border-width-nul:   2px;\n",
       "  --border-width0:      2px;\n",
       "  --border-width1:      3px;\n",
       "  --border-width2:      4px;\n",
       "  --border-width3:      6px;\n",
       "  --border-width4:      5px;\n",
       "  --border-width-plain: 2px;\n",
       "}\n",
       ".hl {\n",
       "  background-color: var(--hl-strong);\n",
       "}\n",
       "span.hl {\n",
       "\tbackground-color: var(--hl-strong);\n",
       "\tborder-width: 0;\n",
       "\tborder-radius: 2px;\n",
       "\tborder-style: solid;\n",
       "}\n",
       "div.contnr.hl,div.lbl.hl {\n",
       "  background-color: var(--hl-strong);\n",
       "}\n",
       "div.contnr.hl {\n",
       "  border-color: var(--hl-rim) ! important;\n",
       "\tborder-width: 4px ! important;\n",
       "}\n",
       "\n",
       "span.hlbx {\n",
       "\tborder-color: var(--hl-rim);\n",
       "\tborder-width: 4px ! important;\n",
       "\tborder-style: solid;\n",
       "\tborder-radius: 6px;\n",
       "  padding: 4px;\n",
       "  margin: 4px;\n",
       "}\n",
       "\n",
       ":root {\n",
       "\t--hl-strong:        hsla( 60, 100%,  70%, 0.9  );\n",
       "\t--hl-rim:           hsla( 55,  80%,  50%, 1.0  );\n",
       "}\n",
       "</style>"
      ],
      "text/plain": [
       "<IPython.core.display.HTML object>"
      ]
     },
     "metadata": {},
     "output_type": "display_data"
    },
    {
     "data": {
      "text/html": [
       "\n",
       "<script>\n",
       "globalThis.copyChar = (el, c) => {\n",
       "    for (const el of document.getElementsByClassName('ccon')) {\n",
       "        el.className = 'ccoff'\n",
       "    }\n",
       "    el.className = 'ccon'\n",
       "    navigator.clipboard.writeText(String.fromCharCode(c))\n",
       "}\n",
       "</script>\n"
      ],
      "text/plain": [
       "<IPython.core.display.HTML object>"
      ]
     },
     "metadata": {},
     "output_type": "display_data"
    }
   ],
   "source": [
    "app = use('ETCBC/bhsa', api=api)"
   ]
  },
  {
   "cell_type": "code",
   "execution_count": 397,
   "id": "9f02ab0c-bce8-4c79-b41e-a4fca9648a30",
   "metadata": {},
   "outputs": [],
   "source": [
    "app.displaySetup(\n",
    "    condenseType='clause',\n",
    "    withNodes=True,\n",
    ")"
   ]
  },
  {
   "cell_type": "code",
   "execution_count": 289,
   "id": "62d349d1-b614-4b6b-8803-4a0a9942de07",
   "metadata": {},
   "outputs": [],
   "source": [
    "class AnnotationObjectSpecifier(NamedTuple):\n",
    "    \"\"\"Object of interest to collect for annotation.\"\"\"\n",
    "    name: str\n",
    "    query: str\n",
    "\n",
    "\n",
    "class ObjectIdentifier(NamedTuple):\n",
    "    \"\"\"Slot-based identifier for a linguistic object.\"\"\"\n",
    "    slots: Tuple[int]\n",
    "    otype: str\n",
    "\n",
    "    def serialize(self) -> Tuple[Tuple[int], str]:\n",
    "        \"\"\"Serialize the identifier.\"\"\"\n",
    "        return self.slots, self.otype\n",
    "\n",
    "    @classmethod\n",
    "    def from_serialization(cls, serialization: Tuple[Tuple[int], str]) -> 'ObjectIdentifier':\n",
    "        \"\"\"Get an ObjectIdentifier from a serialized format.\"\"\"\n",
    "        return cls(*serialization)\n",
    "\n",
    "    \n",
    "class LingLabel(NamedTuple):\n",
    "    \"\"\"Object for storing linguistic labels.\"\"\"\n",
    "    label: str\n",
    "    value: str\n",
    "    node: int\n",
    "    target: str"
   ]
  },
  {
   "cell_type": "code",
   "execution_count": 344,
   "id": "e33f0351-b219-4143-8f6f-9195ed4921b6",
   "metadata": {},
   "outputs": [],
   "source": [
    "class BaseLabelProcessor(ABC):\n",
    "    \"\"\"Base object for label processing.\"\"\"\n",
    "    \n",
    "    @abstractmethod\n",
    "    def label(\n",
    "        label_target_list: List[LabelTargets]\n",
    "    ) -> Dict[str, Dict[str, Set[int]]]:\n",
    "        \"\"\"\n",
    "        Process targets for a given label name.\n",
    "        \n",
    "        :param label_target_list: a list of LabelTarget types\n",
    "        :return: a dict conforming to the following structure:\n",
    "            {label: value: {12345, 12346, 12347}}\n",
    "            where integers are object nodes in Text-Fabric\n",
    "        \"\"\"\n",
    "\n",
    "\n",
    "class LabelQuery:\n",
    "    \"\"\"Class for storing label-value queries.\"\"\"\n",
    "    \n",
    "    def __init__(\n",
    "            self,\n",
    "            targets: Set[str],\n",
    "            label: str,\n",
    "            value: str,\n",
    "            query: str,\n",
    "    ) -> None:\n",
    "        \"\"\"Initialize the label query object.\"\"\"\n",
    "        self.label = label\n",
    "        self.value = value\n",
    "        self.targets = targets\n",
    "        self._query = query\n",
    "        \n",
    "    @property\n",
    "    def query(self) -> str:\n",
    "        \"\"\"Retrieve query value.\"\"\"\n",
    "        return dedent(self._query)\n",
    "        \n",
    "        \n",
    "class QueryLabeler(BaseLabelProcessor):\n",
    "    \"\"\"\n",
    "    Processor for autolabeling with Text-Fabric queries.\n",
    "    \n",
    "    The processor is initialized with a dict of specs. E.g.\n",
    "\n",
    "        {\n",
    "            # label\n",
    "            \"clause_type\": (\n",
    "                # label values\n",
    "                (\"x_clause\", [query])\n",
    "                (\"clause_x\", [query])\n",
    "            )\n",
    "        }\n",
    "\n",
    "    [query] should utilize the standard \"target\" set.\n",
    "    For example, \"x_clause\" could be defined as:\n",
    "    \n",
    "        t:time_phrase\n",
    "        /with/\n",
    "        clause\n",
    "            t\n",
    "            <: phrase function=Pred\n",
    "        /-/\n",
    "    \n",
    "    where `time_phrase` is a key defined by the output of the \n",
    "    AnnotationObjectSpecifier with a set of nodes as the value.\n",
    "    \n",
    "    NB: Queries are defined in-order, so that if an earlier query produces a result that\n",
    "    overlaps with a later one, the later on will take precedence.\n",
    "    \"\"\"\n",
    "\n",
    "    def __init__(\n",
    "            self, \n",
    "            tf_fabric: Fabric,\n",
    "            label_queries: List[LabelQuery],\n",
    "    ) -> None:\n",
    "        \"\"\"\n",
    "        Initialize the labeler.\n",
    "        \n",
    "        :param tf_fabric: Text-Fabric object to use for running the queries\n",
    "        :param label_queries: a dictionary that maps labels to label values\n",
    "            to queries\n",
    "        :return: None\n",
    "        \"\"\"\n",
    "        self.tf_fabric = tf_fabric\n",
    "        self.api = tf_fabric.api\n",
    "        self.label_queries = label_queries\n",
    "    \n",
    "    def _run_query(\n",
    "            self,\n",
    "            query: str,\n",
    "            targets: Set[str],\n",
    "    ) -> Set[int]:\n",
    "        \"\"\"Execute query and return results.\"\"\"\n",
    "        result_set = self.api.S.search(\n",
    "            query,\n",
    "            shallow=True,\n",
    "            sets={'target': targets},\n",
    "        )\n",
    "        return result_set\n",
    "\n",
    "    def label(\n",
    "            self,\n",
    "            annotation_objects: Dict[str, Set[int]],\n",
    "    ) -> List[LingLabel]:\n",
    "        \"\"\"Assign labels to targets based on queries.\"\"\"\n",
    "        labeled_targets: List[LingLabel] = []\n",
    "        for label_query in self.label_queries:\n",
    "            for target in label_query.targets:\n",
    "                target_set = annotation_objects[target]\n",
    "                print(f'Running query for: {label_query.label}={label_query.value}...')\n",
    "                query_results = self._run_query(label_query.query, target_set)\n",
    "                print(f'\\tresults: {len(query_results)}')\n",
    "                for node in query_results:\n",
    "                    labeled_targets.append(\n",
    "                        LingLabel(\n",
    "                            label_query.label, \n",
    "                            label_query.value,\n",
    "                            node, \n",
    "                            target,\n",
    "                        )\n",
    "                    )\n",
    "        return labeled_targets"
   ]
  },
  {
   "cell_type": "code",
   "execution_count": 374,
   "id": "1cb2779d-4112-416c-8805-4a691c3435c2",
   "metadata": {
    "tags": []
   },
   "outputs": [],
   "source": [
    "class AutoLabeler:\n",
    "    \"\"\"Object for assigning labels to linguistic objects automatically.\"\"\"\n",
    "    \n",
    "    def __init__(\n",
    "            self,\n",
    "            outdir: str,\n",
    "            tf_fabric: Fabric,\n",
    "            annotation_obj_specs: List[AnnotationObjectSpecifier],\n",
    "            label_specs: Dict[str, Set[str]],\n",
    "            label_processors: List[BaseLabelProcessor],\n",
    "    ) -> None:\n",
    "        \"\"\"Initialialize the autolabeler.\"\"\"\n",
    "        self.outdir = outdir\n",
    "        self.annotation_obj_specs = annotation_obj_specs\n",
    "        self.label_specs = label_specs\n",
    "        self.label_processors = label_processors\n",
    "        self.tf_fabric = tf_fabric\n",
    "        self.tf_api = tf_fabric.api\n",
    "        self.clause_rank = self.tf_api.Nodes.otypeRank['clause']\n",
    "\n",
    "    def _log(self, message: str, ts=False, indent=0):\n",
    "        \"\"\"Print log messages.\"\"\"\n",
    "        indent_str = '\\t' * indent\n",
    "        now = f'{datetime.now()}  ' if ts else ''\n",
    "        print(f'{indent_str}{now}{message}')\n",
    "        \n",
    "    def _run_object_query(self, query: str) -> Set[int]:\n",
    "        \"\"\"Run a Text-Fabric query for an annotation object.\"\"\"\n",
    "        result_set = self.tf_api.S.search(query, shallow=True)\n",
    "        return result_set\n",
    "\n",
    "    def _collect_annotation_objects(\n",
    "        self, \n",
    "        object_specs: List[AnnotationObjectSpecifier]\n",
    "    ) -> Dict[str, Set[int]]:\n",
    "        \"\"\"Collect all annotation objects.\"\"\"\n",
    "        annotation_objects: Dict[str, Set[int]] = collections.defaultdict(set)\n",
    "        for spec in object_specs:\n",
    "            annotation_objects[spec.name] = self._run_object_query(spec.query)\n",
    "        return annotation_objects\n",
    "\n",
    "    def _filter_labeled_objects(\n",
    "        self,\n",
    "        annotation_objects: Dict[str, Set[int]],\n",
    "    ) -> Dict[str, Set[int]]:\n",
    "        \"\"\"Filter out objects that have already been annotated.\"\"\"\n",
    "        # TODO\n",
    "        return annotation_objects\n",
    "\n",
    "    def _get_auto_labels(\n",
    "            self, \n",
    "            annotation_objects: Dict[str, Set[int]],\n",
    "    ) -> Dict[int, Dict[str, str]]:\n",
    "        \"\"\"Get autolabels for all targeted nodes.\"\"\"\n",
    "        # collect all labels \n",
    "        auto_labels: List[LingLabel] = []\n",
    "        covered_targets = collections.defaultdict(set)\n",
    "        n_labeled = collections.Counter()\n",
    "        \n",
    "        # collect all labels produced by processors\n",
    "        for processor in self.label_processors:\n",
    "            for label in processor.label(annotation_objects):\n",
    "                covered_targets[label.label].add(label.node)\n",
    "                auto_labels.append(label)\n",
    "                n_labeled[label.label] += 1\n",
    "                \n",
    "        # append empty labels for unlabeled targets\n",
    "        n_unlabeled = collections.Counter()\n",
    "        for name, nodes in annotation_objects.items():\n",
    "            expected_labels = self.label_specs[name]\n",
    "            for node in nodes:\n",
    "                for label_str in expected_labels:\n",
    "                    if node not in covered_targets[label_str]:\n",
    "                        n_unlabeled[label_str] += 1\n",
    "                        auto_labels.append(\n",
    "                            LingLabel(label_str, '', node, name)\n",
    "                        )\n",
    "\n",
    "        # give report on labeling outcome\n",
    "        self._log('**** Successfully Autolabeled ****')\n",
    "        self._log(n_labeled.most_common(), ts=False, indent=1)\n",
    "        self._log('********* Needs Labels ***********')\n",
    "        self._log(n_unlabeled.most_common(), ts=False, indent=1)\n",
    "        \n",
    "        # done\n",
    "        return auto_labels\n",
    "    \n",
    "    def _get_clause_node(self, node: int) -> int:\n",
    "        \"\"\"Assign a clause node for a given node.\"\"\"\n",
    "        label_otype = self.tf_api.F.otype.v(node)\n",
    "        rank = self.tf_api.Nodes.otypeRank[label_otype]\n",
    "        if rank > self.clause_rank:\n",
    "            raise Exception(f'node {node} has a otype > clause!')\n",
    "        elif label_otype == 'clause':\n",
    "            return node\n",
    "        else:\n",
    "            return self.tf_api.L.u(node, 'clause')[0]\n",
    "\n",
    "    def _cluster_labels_by_clause(self, labels: List[LingLabel]):\n",
    "        \"\"\"Cluster labels by clause.\"\"\"\n",
    "        cl_clustered_labels = collections.defaultdict(list)\n",
    "        for label in labels:\n",
    "            cl_node = self._get_clause_node(label.node)\n",
    "            cl_clustered_labels[cl_node].append(label)\n",
    "        return cl_clustered_labels\n",
    "    \n",
    "    def labelize(self) -> None:\n",
    "        \"\"\"Generate labels and output an annotation file.\"\"\"\n",
    "        annotation_objects = self._collect_annotation_objects(self.annotation_obj_specs)\n",
    "        new_annotation_objs = self._filter_labeled_objects(annotation_objects)  \n",
    "        auto_labels = self._get_auto_labels(new_annotation_objs)\n",
    "        cl_clustered_labels = self._cluster_labels_by_clause(auto_labels)\n",
    "        return cl_clustered_labels"
   ]
  },
  {
   "cell_type": "code",
   "execution_count": 375,
   "id": "ee92c530-0538-4eb6-849c-9aa6de2cbda3",
   "metadata": {},
   "outputs": [],
   "source": [
    "annotation_obj_specs = [\n",
    "    AnnotationObjectSpecifier(\n",
    "        \"time_clause\",\n",
    "        dedent(\"\"\"\n",
    "            clause\n",
    "            /with/\n",
    "                phrase function=Time\n",
    "            /-/\n",
    "        \"\"\"),\n",
    "    ),\n",
    "    AnnotationObjectSpecifier(\n",
    "        \"time_phrase\",\n",
    "        dedent(\"\"\"\n",
    "            phrase function=Time\n",
    "        \"\"\")\n",
    "    ),\n",
    "    AnnotationObjectSpecifier(\n",
    "        \"verb\",\n",
    "        dedent(\"\"\"\n",
    "            w:word pdp=verb\n",
    "            /with/\n",
    "            clause\n",
    "                phrase function=Time\n",
    "                w\n",
    "            /-/\n",
    "        \"\"\")\n",
    "    ),\n",
    "]\n",
    "\n",
    "\n",
    "label_specs = {\n",
    "    'time_clause': {'cl_type'},\n",
    "    'time_phrase': {'tp_cluster'},\n",
    "    'verb': {'tense'},\n",
    "}\n",
    "\n",
    "\n",
    "label_queries = [\n",
    "    LabelQuery(\n",
    "        targets={'time_clause'},\n",
    "        label='cl_type',\n",
    "        value='x_clause',\n",
    "        query=\"\"\"\n",
    "            t:target\n",
    "            /with/\n",
    "                phrase function=Time\n",
    "                < phrase function=Pred\n",
    "            /-/\n",
    "        \"\"\",\n",
    "    ),\n",
    "]\n",
    "\n",
    "\n",
    "processors = [\n",
    "    QueryLabeler(tf_fabric, label_queries),\n",
    "]\n",
    "\n",
    "\n",
    "labeler = AutoLabeler(\n",
    "    outdir='',\n",
    "    tf_fabric=tf_fabric,\n",
    "    annotation_obj_specs=annotation_obj_specs,\n",
    "    label_specs=label_specs,\n",
    "    label_processors=processors,\n",
    ")"
   ]
  },
  {
   "cell_type": "code",
   "execution_count": 376,
   "id": "d9e6c248-2123-41cf-ad29-8e45133c1d09",
   "metadata": {},
   "outputs": [
    {
     "name": "stdout",
     "output_type": "stream",
     "text": [
      "Running query for: cl_type=x_clause...\n",
      "\tresults: 408\n",
      "**** Successfully Autolabeled ****\n",
      "\t[('cl_type', 408)]\n",
      "********* Needs Labels ***********\n",
      "\t[('tp_cluster', 2168), ('tense', 1775), ('cl_type', 1679)]\n"
     ]
    }
   ],
   "source": [
    "labels = labeler.labelize()"
   ]
  },
  {
   "cell_type": "code",
   "execution_count": 379,
   "id": "3b8c0128-b7de-4d67-b58d-9b21e610ebb0",
   "metadata": {
    "tags": []
   },
   "outputs": [
    {
     "data": {
      "text/plain": [
       "[(306178,\n",
       "  [LingLabel(label='cl_type', value='x_clause', node=306178, target='time_clause'),\n",
       "   LingLabel(label='tp_cluster', value='', node=395151, target='time_phrase'),\n",
       "   LingLabel(label='tense', value='', node=15925, target='verb')]),\n",
       " (324610,\n",
       "  [LingLabel(label='cl_type', value='x_clause', node=324610, target='time_clause'),\n",
       "   LingLabel(label='tp_cluster', value='', node=450979, target='time_phrase'),\n",
       "   LingLabel(label='tense', value='', node=115422, target='verb')]),\n",
       " (303108,\n",
       "  [LingLabel(label='cl_type', value='x_clause', node=303108, target='time_clause'),\n",
       "   LingLabel(label='tp_cluster', value='', node=385809, target='time_phrase'),\n",
       "   LingLabel(label='tense', value='', node=751, target='verb')]),\n",
       " (303109,\n",
       "  [LingLabel(label='cl_type', value='x_clause', node=303109, target='time_clause'),\n",
       "   LingLabel(label='tp_cluster', value='', node=385814, target='time_phrase'),\n",
       "   LingLabel(label='tense', value='', node=761, target='verb')]),\n",
       " (343044,\n",
       "  [LingLabel(label='cl_type', value='x_clause', node=343044, target='time_clause'),\n",
       "   LingLabel(label='tp_cluster', value='', node=506320, target='time_phrase'),\n",
       "   LingLabel(label='tense', value='', node=208691, target='verb')]),\n",
       " (319495,\n",
       "  [LingLabel(label='cl_type', value='x_clause', node=319495, target='time_clause'),\n",
       "   LingLabel(label='tp_cluster', value='', node=435495, target='time_phrase'),\n",
       "   LingLabel(label='tense', value='', node=87512, target='verb')]),\n",
       " (330757,\n",
       "  [LingLabel(label='cl_type', value='x_clause', node=330757, target='time_clause'),\n",
       "   LingLabel(label='tp_cluster', value='', node=469659, target='time_phrase'),\n",
       "   LingLabel(label='tense', value='', node=148062, target='verb')]),\n",
       " (320519,\n",
       "  [LingLabel(label='cl_type', value='x_clause', node=320519, target='time_clause'),\n",
       "   LingLabel(label='tp_cluster', value='', node=438713, target='time_phrase'),\n",
       "   LingLabel(label='tense', value='', node=93938, target='verb')]),\n",
       " (330765,\n",
       "  [LingLabel(label='cl_type', value='x_clause', node=330765, target='time_clause'),\n",
       "   LingLabel(label='tp_cluster', value='', node=469684, target='time_phrase'),\n",
       "   LingLabel(label='tp_cluster', value='', node=469689, target='time_phrase'),\n",
       "   LingLabel(label='tense', value='', node=148094, target='verb')]),\n",
       " (330766,\n",
       "  [LingLabel(label='cl_type', value='x_clause', node=330766, target='time_clause'),\n",
       "   LingLabel(label='tp_cluster', value='', node=469691, target='time_phrase'),\n",
       "   LingLabel(label='tense', value='', node=148106, target='verb')]),\n",
       " (336914,\n",
       "  [LingLabel(label='cl_type', value='x_clause', node=336914, target='time_clause'),\n",
       "   LingLabel(label='tp_cluster', value='', node=488281, target='time_phrase'),\n",
       "   LingLabel(label='tense', value='', node=177835, target='verb')]),\n",
       " (342035,\n",
       "  [LingLabel(label='cl_type', value='x_clause', node=342035, target='time_clause'),\n",
       "   LingLabel(label='tp_cluster', value='', node=503207, target='time_phrase'),\n",
       "   LingLabel(label='tp_cluster', value='', node=503212, target='time_phrase'),\n",
       "   LingLabel(label='tense', value='', node=203095, target='verb')]),\n",
       " (338964,\n",
       "  [LingLabel(label='cl_type', value='x_clause', node=338964, target='time_clause'),\n",
       "   LingLabel(label='tp_cluster', value='', node=494537, target='time_phrase'),\n",
       "   LingLabel(label='tp_cluster', value='', node=494541, target='time_phrase'),\n",
       "   LingLabel(label='tense', value='', node=189559, target='verb')]),\n",
       " (319513,\n",
       "  [LingLabel(label='cl_type', value='x_clause', node=319513, target='time_clause'),\n",
       "   LingLabel(label='tp_cluster', value='', node=435548, target='time_phrase'),\n",
       "   LingLabel(label='tense', value='', node=87654, target='verb')]),\n",
       " (322593,\n",
       "  [LingLabel(label='cl_type', value='x_clause', node=322593, target='time_clause'),\n",
       "   LingLabel(label='tp_cluster', value='', node=444980, target='time_phrase'),\n",
       "   LingLabel(label='tense', value='', node=105125, target='verb')]),\n",
       " (337954,\n",
       "  [LingLabel(label='cl_type', value='x_clause', node=337954, target='time_clause'),\n",
       "   LingLabel(label='tp_cluster', value='', node=491392, target='time_phrase'),\n",
       "   LingLabel(label='tense', value='', node=183964, target='verb')]),\n",
       " (319530,\n",
       "  [LingLabel(label='cl_type', value='x_clause', node=319530, target='time_clause'),\n",
       "   LingLabel(label='tp_cluster', value='', node=435597, target='time_phrase'),\n",
       "   LingLabel(label='tense', value='', node=87769, target='verb')]),\n",
       " (319532,\n",
       "  [LingLabel(label='cl_type', value='x_clause', node=319532, target='time_clause'),\n",
       "   LingLabel(label='tp_cluster', value='', node=435605, target='time_phrase'),\n",
       "   LingLabel(label='tense', value='', node=87791, target='verb')]),\n",
       " (327725,\n",
       "  [LingLabel(label='cl_type', value='x_clause', node=327725, target='time_clause'),\n",
       "   LingLabel(label='tp_cluster', value='', node=460445, target='time_phrase'),\n",
       "   LingLabel(label='tense', value='', node=133565, target='verb')]),\n",
       " (310316,\n",
       "  [LingLabel(label='cl_type', value='x_clause', node=310316, target='time_clause'),\n",
       "   LingLabel(label='tp_cluster', value='', node=407502, target='time_phrase'),\n",
       "   LingLabel(label='tense', value='', node=35653, target='verb')]),\n",
       " (303153,\n",
       "  [LingLabel(label='cl_type', value='x_clause', node=303153, target='time_clause'),\n",
       "   LingLabel(label='tp_cluster', value='', node=385941, target='time_phrase'),\n",
       "   LingLabel(label='tense', value='', node=995, target='verb')]),\n",
       " (342065,\n",
       "  [LingLabel(label='cl_type', value='x_clause', node=342065, target='time_clause'),\n",
       "   LingLabel(label='tp_cluster', value='', node=503310, target='time_phrase'),\n",
       "   LingLabel(label='tp_cluster', value='', node=503315, target='time_phrase'),\n",
       "   LingLabel(label='tense', value='', node=203284, target='verb')]),\n",
       " (310325,\n",
       "  [LingLabel(label='cl_type', value='x_clause', node=310325, target='time_clause'),\n",
       "   LingLabel(label='tp_cluster', value='', node=407537, target='time_phrase'),\n",
       "   LingLabel(label='tense', value='', node=35700, target='verb')]),\n",
       " (333879,\n",
       "  [LingLabel(label='cl_type', value='x_clause', node=333879, target='time_clause'),\n",
       "   LingLabel(label='tp_cluster', value='', node=479151, target='time_phrase'),\n",
       "   LingLabel(label='tense', value='', node=162958, target='verb')]),\n",
       " (319547,\n",
       "  [LingLabel(label='cl_type', value='x_clause', node=319547, target='time_clause'),\n",
       "   LingLabel(label='tp_cluster', value='', node=435644, target='time_phrase'),\n",
       "   LingLabel(label='tense', value='', node=87881, target='verb')])]"
      ]
     },
     "execution_count": 379,
     "metadata": {},
     "output_type": "execute_result"
    }
   ],
   "source": [
    "list(labels.items())[:25]"
   ]
  },
  {
   "cell_type": "markdown",
   "id": "7fabe7f5-f212-4669-8bbb-97c52d805d81",
   "metadata": {},
   "source": [
    "# Build Queries"
   ]
  },
  {
   "cell_type": "code",
   "execution_count": 422,
   "id": "89e231de-0408-4319-b37f-8949ae887983",
   "metadata": {},
   "outputs": [
    {
     "name": "stdout",
     "output_type": "stream",
     "text": [
      "  0.39s 56 results\n"
     ]
    }
   ],
   "source": [
    "search = app.search(\"\"\"\n",
    "\n",
    "clause\n",
    "    word pdp=verb lex=BW>[|HLK[|CWB[|QRB[|>MR[\n",
    "    phrase function=Time\n",
    "    phrase function=Cmpl\n",
    "        word lex=>L pdp=prep\n",
    "\n",
    "\"\"\")"
   ]
  },
  {
   "cell_type": "code",
   "execution_count": 423,
   "id": "d462a176-e630-4141-8f78-5f9c10f8d4b4",
   "metadata": {},
   "outputs": [
    {
     "data": {
      "text/html": [
       "<p><b>result</b> <i>1</i>"
      ],
      "text/plain": [
       "<IPython.core.display.HTML object>"
      ]
     },
     "metadata": {},
     "output_type": "display_data"
    },
    {
     "data": {
      "text/html": [
       "<div class=\"tfsechead rtl\"><span class=\"ltr\"><a target=\"_blank\" href=\"https://shebanq.ancient-data.org/hebrew/text?book=Genesis&amp;chapter=7&amp;verse=13&amp;version=2021&amp;mr=m&amp;qw=q&amp;tp=txt_p&amp;tr=hb&amp;wget=v&amp;qget=v&amp;nget=vt\" title=\"Show this on SHEBANQ\" sec=\"Genesis 7:13\">Genesis 7:13</a></span></div><div class=\"rtl children\"><div class=\"contnr c2  rtl  \" ><div class=\"lbl c2  \" ><span class=\"nd\">clause:303576 </span> <span class=\"\"><span title=\"typ\">xQtX</span> <span title=\"rela\">NA</span></span></div><div class=\"children hor wrap rtl\"><div class=\"contnr c1  rtl  hl\" ><div class=\"lbl c1  hl\" ><span class=\"nd\">phrase:387267 </span> <span class=\"\"><span title=\"typ\">PP</span> <span title=\"function\">Time</span></span></div><div class=\"features\"><span class=\"function xft\" ><span class=\"f\">function=</span>Time</span></div><div class=\"children hor wrap rtl\"><div class=\"contnr c0 trm rtl  \" ><div class=\"lbl c0 trm \" ><span class=\"nd\">3275 </span> <span class=\"txtu hbo\">בְּ</span></div><div class=\"features\"><span class=\"lex xft\" ><span class=\"f\">lex=</span>B</span></div></div><div class=\"contnr c0 trm rtl  \" ><div class=\"lbl c0 trm \" ><span class=\"nd\">3276 </span> <span class=\"txtu hbo\">עֶ֨צֶם </span></div><div class=\"features\"><span class=\"lex xft\" ><span class=\"f\">lex=</span>&lt;YM/</span></div></div><div class=\"contnr c0 trm rtl  \" ><div class=\"lbl c0 trm \" ><span class=\"nd\">3277 </span> <span class=\"txtu hbo\">הַ</span></div><div class=\"features\"><span class=\"lex xft\" ><span class=\"f\">lex=</span>H</span></div></div><div class=\"contnr c0 trm rtl  \" ><div class=\"lbl c0 trm \" ><span class=\"nd\">3278 </span> <span class=\"txtu hbo\">יֹּ֤ום </span></div><div class=\"features\"><span class=\"lex xft\" ><span class=\"f\">lex=</span>JWM/</span></div></div><div class=\"contnr c0 trm rtl  \" ><div class=\"lbl c0 trm \" ><span class=\"nd\">3279 </span> <span class=\"txtu hbo\">הַ</span></div><div class=\"features\"><span class=\"lex xft\" ><span class=\"f\">lex=</span>H</span></div></div><div class=\"contnr c0 trm rtl  \" ><div class=\"lbl c0 trm \" ><span class=\"nd\">3280 </span> <span class=\"txtu hbo\">זֶּה֙ </span></div><div class=\"features\"><span class=\"lex xft\" ><span class=\"f\">lex=</span>ZH</span></div></div></div></div><div class=\"contnr c1  rtl  \" ><div class=\"lbl c1  \" ><span class=\"nd\">phrase:387268 </span> <span class=\"\"><span title=\"typ\">VP</span> <span title=\"function\">Pred</span></span></div><div class=\"features\"><span class=\"function xft\" ><span class=\"f\">function=</span>Pred</span></div><div class=\"children hor wrap rtl\"><div class=\"contnr c0 trm rtl  hl\" ><div class=\"lbl c0 trm hl\" ><span class=\"nd\">3281 </span> <span class=\"txtu hbo\">בָּ֣א </span></div><div class=\"features\"><span class=\"lex xft\" ><span class=\"f\">lex=</span>BW>[</span></div></div></div></div><div class=\"contnr c1  rtl  \" ><div class=\"lbl c1  \" ><span class=\"nd\">phrase:387269 </span> <span class=\"\"><span title=\"typ\">PrNP</span> <span title=\"function\">Subj</span></span></div><div class=\"features\"><span class=\"function xft\" ><span class=\"f\">function=</span>Subj</span></div><div class=\"children hor wrap rtl\"><div class=\"contnr c0 trm rtl  \" ><div class=\"lbl c0 trm \" ><span class=\"nd\">3282 </span> <span class=\"txtu hbo\">נֹ֔חַ </span></div><div class=\"features\"><span class=\"lex xft\" ><span class=\"f\">lex=</span>NX/</span></div></div><div class=\"contnr c0 trm rtl  \" ><div class=\"lbl c0 trm \" ><span class=\"nd\">3283 </span> <span class=\"txtu hbo\">וְ</span></div><div class=\"features\"><span class=\"lex xft\" ><span class=\"f\">lex=</span>W</span></div></div><div class=\"contnr c0 trm rtl  \" ><div class=\"lbl c0 trm \" ><span class=\"nd\">3284 </span> <span class=\"txtu hbo\">שֵׁם־</span></div><div class=\"features\"><span class=\"lex xft\" ><span class=\"f\">lex=</span>CM=/</span></div></div><div class=\"contnr c0 trm rtl  \" ><div class=\"lbl c0 trm \" ><span class=\"nd\">3285 </span> <span class=\"txtu hbo\">וְ</span></div><div class=\"features\"><span class=\"lex xft\" ><span class=\"f\">lex=</span>W</span></div></div><div class=\"contnr c0 trm rtl  \" ><div class=\"lbl c0 trm \" ><span class=\"nd\">3286 </span> <span class=\"txtu hbo\">חָ֥ם </span></div><div class=\"features\"><span class=\"lex xft\" ><span class=\"f\">lex=</span>XM===/</span></div></div><div class=\"contnr c0 trm rtl  \" ><div class=\"lbl c0 trm \" ><span class=\"nd\">3287 </span> <span class=\"txtu hbo\">וָ</span></div><div class=\"features\"><span class=\"lex xft\" ><span class=\"f\">lex=</span>W</span></div></div><div class=\"contnr c0 trm rtl  \" ><div class=\"lbl c0 trm \" ><span class=\"nd\">3288 </span> <span class=\"txtu hbo\">יֶ֖פֶת </span></div><div class=\"features\"><span class=\"lex xft\" ><span class=\"f\">lex=</span>JPT/</span></div></div><div class=\"contnr c0 trm rtl  \" ><div class=\"lbl c0 trm \" ><span class=\"nd\">3289 </span> <span class=\"txtu hbo\">בְּנֵי־</span></div><div class=\"features\"><span class=\"lex xft\" ><span class=\"f\">lex=</span>BN/</span></div></div><div class=\"contnr c0 trm rtl  \" ><div class=\"lbl c0 trm \" ><span class=\"nd\">3290 </span> <span class=\"txtu hbo\">נֹ֑חַ </span></div><div class=\"features\"><span class=\"lex xft\" ><span class=\"f\">lex=</span>NX/</span></div></div><div class=\"contnr c0 trm rtl  \" ><div class=\"lbl c0 trm \" ><span class=\"nd\">3291 </span> <span class=\"txtu hbo\">וְ</span></div><div class=\"features\"><span class=\"lex xft\" ><span class=\"f\">lex=</span>W</span></div></div><div class=\"contnr c0 trm rtl  \" ><div class=\"lbl c0 trm \" ><span class=\"nd\">3292 </span> <span class=\"txtu hbo\">אֵ֣שֶׁת </span></div><div class=\"features\"><span class=\"lex xft\" ><span class=\"f\">lex=</span>>CH/</span></div></div><div class=\"contnr c0 trm rtl  \" ><div class=\"lbl c0 trm \" ><span class=\"nd\">3293 </span> <span class=\"txtu hbo\">נֹ֗חַ </span></div><div class=\"features\"><span class=\"lex xft\" ><span class=\"f\">lex=</span>NX/</span></div></div><div class=\"contnr c0 trm rtl  \" ><div class=\"lbl c0 trm \" ><span class=\"nd\">3294 </span> <span class=\"txtu hbo\">וּ</span></div><div class=\"features\"><span class=\"lex xft\" ><span class=\"f\">lex=</span>W</span></div></div><div class=\"contnr c0 trm rtl  \" ><div class=\"lbl c0 trm \" ><span class=\"nd\">3295 </span> <span class=\"txtu hbo\">שְׁלֹ֧שֶׁת </span></div><div class=\"features\"><span class=\"lex xft\" ><span class=\"f\">lex=</span>CLC/</span></div></div><div class=\"contnr c0 trm rtl  \" ><div class=\"lbl c0 trm \" ><span class=\"nd\">3296 </span> <span class=\"txtu hbo\">נְשֵֽׁי־</span></div><div class=\"features\"><span class=\"lex xft\" ><span class=\"f\">lex=</span>>CH/</span></div></div><div class=\"contnr c0 trm rtl  \" ><div class=\"lbl c0 trm \" ><span class=\"nd\">3297 </span> <span class=\"txtu hbo\">בָנָ֛יו </span></div><div class=\"features\"><span class=\"lex xft\" ><span class=\"f\">lex=</span>BN/</span></div></div><div class=\"contnr c0 trm rtl  \" ><div class=\"lbl c0 trm \" ><span class=\"nd\">3298 </span> <span class=\"txtu hbo\">אִתָּ֖ם </span></div><div class=\"features\"><span class=\"lex xft\" ><span class=\"f\">lex=</span>>T==</span></div></div></div></div><div class=\"contnr c1  rtl  hl\" ><div class=\"lbl c1  hl\" ><span class=\"nd\">phrase:387270 </span> <span class=\"\"><span title=\"typ\">PP</span> <span title=\"function\">Cmpl</span></span></div><div class=\"features\"><span class=\"function xft\" ><span class=\"f\">function=</span>Cmpl</span></div><div class=\"children hor wrap rtl\"><div class=\"contnr c0 trm rtl  hl\" ><div class=\"lbl c0 trm hl\" ><span class=\"nd\">3299 </span> <span class=\"txtu hbo\">אֶל־</span></div><div class=\"features\"><span class=\"lex xft\" ><span class=\"f\">lex=</span>>L</span></div></div><div class=\"contnr c0 trm rtl  \" ><div class=\"lbl c0 trm \" ><span class=\"nd\">3300 </span> <span class=\"txtu hbo\">הַ</span></div><div class=\"features\"><span class=\"lex xft\" ><span class=\"f\">lex=</span>H</span></div></div><div class=\"contnr c0 trm rtl  \" ><div class=\"lbl c0 trm \" ><span class=\"nd\">3301 </span> <a class=\" txtu hbo\" target=\"_blank\" href=\"https://shebanq.ancient-data.org/hebrew/word?version=2021&amp;id=1TBHn\" title=\"Show this on SHEBANQ\"><span class=\"txtu hbo\">תֵּבָֽה׃ </span></a></div><div class=\"features\"><span class=\"lex xft\" ><span class=\"f\">lex=</span>TBH/</span></div></div></div></div></div></div></div>"
      ],
      "text/plain": [
       "<IPython.core.display.HTML object>"
      ]
     },
     "metadata": {},
     "output_type": "display_data"
    },
    {
     "data": {
      "text/html": [
       "<p><b>result</b> <i>2</i>"
      ],
      "text/plain": [
       "<IPython.core.display.HTML object>"
      ]
     },
     "metadata": {},
     "output_type": "display_data"
    },
    {
     "data": {
      "text/html": [
       "<div class=\"tfsechead rtl\"><span class=\"ltr\"><a target=\"_blank\" href=\"https://shebanq.ancient-data.org/hebrew/text?book=Genesis&amp;chapter=8&amp;verse=11&amp;version=2021&amp;mr=m&amp;qw=q&amp;tp=txt_p&amp;tr=hb&amp;wget=v&amp;qget=v&amp;nget=vt\" title=\"Show this on SHEBANQ\" sec=\"Genesis 8:11\">Genesis 8:11</a></span></div><div class=\"rtl children\"><div class=\"contnr c2  rtl  \" ><div class=\"lbl c2  \" ><span class=\"nd\">clause:303638 </span> <span class=\"\"><span title=\"typ\">WayX</span> <span title=\"rela\">NA</span></span></div><div class=\"children hor wrap rtl\"><div class=\"contnr c1  rtl  \" ><div class=\"lbl c1  \" ><span class=\"nd\">phrase:387480 </span> <span class=\"\"><span title=\"typ\">CP</span> <span title=\"function\">Conj</span></span></div><div class=\"features\"><span class=\"function xft\" ><span class=\"f\">function=</span>Conj</span></div><div class=\"children hor wrap rtl\"><div class=\"contnr c0 trm rtl  \" ><div class=\"lbl c0 trm \" ><span class=\"nd\">3754 </span> <span class=\"txtu hbo\">וַ</span></div><div class=\"features\"><span class=\"lex xft\" ><span class=\"f\">lex=</span>W</span></div></div></div></div><div class=\"contnr c1  rtl  \" ><div class=\"lbl c1  \" ><span class=\"nd\">phrase:387481 </span> <span class=\"\"><span title=\"typ\">VP</span> <span title=\"function\">Pred</span></span></div><div class=\"features\"><span class=\"function xft\" ><span class=\"f\">function=</span>Pred</span></div><div class=\"children hor wrap rtl\"><div class=\"contnr c0 trm rtl  hl\" ><div class=\"lbl c0 trm hl\" ><span class=\"nd\">3755 </span> <span class=\"txtu hbo\">תָּבֹ֨א </span></div><div class=\"features\"><span class=\"lex xft\" ><span class=\"f\">lex=</span>BW>[</span></div></div></div></div><div class=\"contnr c1  rtl  hl\" ><div class=\"lbl c1  hl\" ><span class=\"nd\">phrase:387482 </span> <span class=\"\"><span title=\"typ\">PP</span> <span title=\"function\">Cmpl</span></span></div><div class=\"features\"><span class=\"function xft\" ><span class=\"f\">function=</span>Cmpl</span></div><div class=\"children hor wrap rtl\"><div class=\"contnr c0 trm rtl  hl\" ><div class=\"lbl c0 trm hl\" ><span class=\"nd\">3756 </span> <span class=\"txtu hbo\">אֵלָ֤יו </span></div><div class=\"features\"><span class=\"lex xft\" ><span class=\"f\">lex=</span>>L</span></div></div></div></div><div class=\"contnr c1  rtl  \" ><div class=\"lbl c1  \" ><span class=\"nd\">phrase:387483 </span> <span class=\"\"><span title=\"typ\">NP</span> <span title=\"function\">Subj</span></span></div><div class=\"features\"><span class=\"function xft\" ><span class=\"f\">function=</span>Subj</span></div><div class=\"children hor wrap rtl\"><div class=\"contnr c0 trm rtl  \" ><div class=\"lbl c0 trm \" ><span class=\"nd\">3757 </span> <span class=\"txtu hbo\">הַ</span></div><div class=\"features\"><span class=\"lex xft\" ><span class=\"f\">lex=</span>H</span></div></div><div class=\"contnr c0 trm rtl  \" ><div class=\"lbl c0 trm \" ><span class=\"nd\">3758 </span> <span class=\"txtu hbo\">יֹּונָה֙ </span></div><div class=\"features\"><span class=\"lex xft\" ><span class=\"f\">lex=</span>JWNH/</span></div></div></div></div><div class=\"contnr c1  rtl  hl\" ><div class=\"lbl c1  hl\" ><span class=\"nd\">phrase:387484 </span> <span class=\"\"><span title=\"typ\">PP</span> <span title=\"function\">Time</span></span></div><div class=\"features\"><span class=\"function xft\" ><span class=\"f\">function=</span>Time</span></div><div class=\"children hor wrap rtl\"><div class=\"contnr c0 trm rtl  \" ><div class=\"lbl c0 trm \" ><span class=\"nd\">3759 </span> <span class=\"txtu hbo\">לְ</span></div><div class=\"features\"><span class=\"lex xft\" ><span class=\"f\">lex=</span>L</span></div></div><div class=\"contnr c0 trm rtl  \" ><div class=\"lbl c0 trm \" ><span class=\"nd\">3760 </span> <span class=\"txtu hbo\">עֵ֣ת </span></div><div class=\"features\"><span class=\"lex xft\" ><span class=\"f\">lex=</span>&lt;T/</span></div></div><div class=\"contnr c0 trm rtl  \" ><div class=\"lbl c0 trm \" ><span class=\"nd\">3761 </span> <span class=\"txtu hbo\">עֶ֔רֶב </span></div><div class=\"features\"><span class=\"lex xft\" ><span class=\"f\">lex=</span>&lt;RB/</span></div></div></div></div></div></div></div>"
      ],
      "text/plain": [
       "<IPython.core.display.HTML object>"
      ]
     },
     "metadata": {},
     "output_type": "display_data"
    },
    {
     "data": {
      "text/html": [
       "<p><b>result</b> <i>3</i>"
      ],
      "text/plain": [
       "<IPython.core.display.HTML object>"
      ]
     },
     "metadata": {},
     "output_type": "display_data"
    },
    {
     "data": {
      "text/html": [
       "<div class=\"tfsechead rtl\"><span class=\"ltr\"><a target=\"_blank\" href=\"https://shebanq.ancient-data.org/hebrew/text?book=Genesis&amp;chapter=18&amp;verse=10&amp;version=2021&amp;mr=m&amp;qw=q&amp;tp=txt_p&amp;tr=hb&amp;wget=v&amp;qget=v&amp;nget=vt\" title=\"Show this on SHEBANQ\" sec=\"Genesis 18:10\">Genesis 18:10</a></span></div><div class=\"rtl children\"><div class=\"contnr c2  rtl  \" ><div class=\"lbl c2  \" ><span class=\"nd\">clause:304404 </span> <span class=\"\"><span title=\"typ\">xYq0</span> <span title=\"rela\">NA</span></span></div><div class=\"children hor wrap rtl\"><div class=\"contnr c1  rtl  \" ><div class=\"lbl c1  \" ><span class=\"nd\">phrase:389855 </span> <span class=\"\"><span title=\"typ\">AdvP</span> <span title=\"function\">Modi</span></span></div><div class=\"features\"><span class=\"function xft\" ><span class=\"f\">function=</span>Modi</span></div><div class=\"children hor wrap rtl\"><div class=\"contnr c0 trm rtl  \" ><div class=\"lbl c0 trm \" ><span class=\"nd\">7970 </span> <span class=\"txtu hbo\">שֹׁ֣וב </span></div><div class=\"features\"><span class=\"lex xft\" ><span class=\"f\">lex=</span>CWB[</span></div></div></div></div><div class=\"contnr c1  rtl  \" ><div class=\"lbl c1  \" ><span class=\"nd\">phrase:389856 </span> <span class=\"\"><span title=\"typ\">VP</span> <span title=\"function\">Pred</span></span></div><div class=\"features\"><span class=\"function xft\" ><span class=\"f\">function=</span>Pred</span></div><div class=\"children hor wrap rtl\"><div class=\"contnr c0 trm rtl  hl\" ><div class=\"lbl c0 trm hl\" ><span class=\"nd\">7971 </span> <span class=\"txtu hbo\">אָשׁ֤וּב </span></div><div class=\"features\"><span class=\"lex xft\" ><span class=\"f\">lex=</span>CWB[</span></div></div></div></div><div class=\"contnr c1  rtl  hl\" ><div class=\"lbl c1  hl\" ><span class=\"nd\">phrase:389857 </span> <span class=\"\"><span title=\"typ\">PP</span> <span title=\"function\">Cmpl</span></span></div><div class=\"features\"><span class=\"function xft\" ><span class=\"f\">function=</span>Cmpl</span></div><div class=\"children hor wrap rtl\"><div class=\"contnr c0 trm rtl  hl\" ><div class=\"lbl c0 trm hl\" ><span class=\"nd\">7972 </span> <span class=\"txtu hbo\">אֵלֶ֨יךָ֙ </span></div><div class=\"features\"><span class=\"lex xft\" ><span class=\"f\">lex=</span>>L</span></div></div></div></div><div class=\"contnr c1  rtl  hl\" ><div class=\"lbl c1  hl\" ><span class=\"nd\">phrase:389858 </span> <span class=\"\"><span title=\"typ\">PP</span> <span title=\"function\">Time</span></span></div><div class=\"features\"><span class=\"function xft\" ><span class=\"f\">function=</span>Time</span></div><div class=\"children hor wrap rtl\"><div class=\"contnr c0 trm rtl  \" ><div class=\"lbl c0 trm \" ><span class=\"nd\">7973 </span> <span class=\"txtu hbo\">כָּ</span></div><div class=\"features\"><span class=\"lex xft\" ><span class=\"f\">lex=</span>K</span></div></div><div class=\"contnr c0 trm rtl  \" ><div class=\"lbl c0 trm \" ><span class=\"nd\">7974 </span></div><div class=\"features\"><span class=\"lex xft\" ><span class=\"f\">lex=</span>H</span></div></div><div class=\"contnr c0 trm rtl  \" ><div class=\"lbl c0 trm \" ><span class=\"nd\">7975 </span> <span class=\"txtu hbo\">עֵ֣ת </span></div><div class=\"features\"><span class=\"lex xft\" ><span class=\"f\">lex=</span>&lt;T/</span></div></div><div class=\"contnr c0 trm rtl  \" ><div class=\"lbl c0 trm \" ><span class=\"nd\">7976 </span> <span class=\"txtu hbo\">חַיָּ֔ה </span></div><div class=\"features\"><span class=\"lex xft\" ><span class=\"f\">lex=</span>XJ/</span></div></div></div></div></div></div></div>"
      ],
      "text/plain": [
       "<IPython.core.display.HTML object>"
      ]
     },
     "metadata": {},
     "output_type": "display_data"
    },
    {
     "data": {
      "text/html": [
       "<p><b>result</b> <i>4</i>"
      ],
      "text/plain": [
       "<IPython.core.display.HTML object>"
      ]
     },
     "metadata": {},
     "output_type": "display_data"
    },
    {
     "data": {
      "text/html": [
       "<div class=\"tfsechead rtl\"><span class=\"ltr\"><a target=\"_blank\" href=\"https://shebanq.ancient-data.org/hebrew/text?book=Genesis&amp;chapter=18&amp;verse=14&amp;version=2021&amp;mr=m&amp;qw=q&amp;tp=txt_p&amp;tr=hb&amp;wget=v&amp;qget=v&amp;nget=vt\" title=\"Show this on SHEBANQ\" sec=\"Genesis 18:14\">Genesis 18:14</a></span></div><div class=\"rtl children\"><div class=\"contnr c2  rtl  \" ><div class=\"lbl c2  \" ><span class=\"nd\">clause:304423 </span> <span class=\"\"><span title=\"typ\">xYq0</span> <span title=\"rela\">NA</span></span></div><div class=\"children hor wrap rtl\"><div class=\"contnr c1  rtl  hl\" ><div class=\"lbl c1  hl\" ><span class=\"nd\">phrase:389909 </span> <span class=\"\"><span title=\"typ\">PP</span> <span title=\"function\">Time</span></span></div><div class=\"features\"><span class=\"function xft\" ><span class=\"f\">function=</span>Time</span></div><div class=\"children hor wrap rtl\"><div class=\"contnr c0 trm rtl  \" ><div class=\"lbl c0 trm \" ><span class=\"nd\">8048 </span> <span class=\"txtu hbo\">לַ</span></div><div class=\"features\"><span class=\"lex xft\" ><span class=\"f\">lex=</span>L</span></div></div><div class=\"contnr c0 trm rtl  \" ><div class=\"lbl c0 trm \" ><span class=\"nd\">8049 </span></div><div class=\"features\"><span class=\"lex xft\" ><span class=\"f\">lex=</span>H</span></div></div><div class=\"contnr c0 trm rtl  \" ><div class=\"lbl c0 trm \" ><span class=\"nd\">8050 </span> <span class=\"txtu hbo\">מֹּועֵ֞ד </span></div><div class=\"features\"><span class=\"lex xft\" ><span class=\"f\">lex=</span>MW&lt;D/</span></div></div></div></div><div class=\"contnr c1  rtl  \" ><div class=\"lbl c1  \" ><span class=\"nd\">phrase:389910 </span> <span class=\"\"><span title=\"typ\">VP</span> <span title=\"function\">Pred</span></span></div><div class=\"features\"><span class=\"function xft\" ><span class=\"f\">function=</span>Pred</span></div><div class=\"children hor wrap rtl\"><div class=\"contnr c0 trm rtl  hl\" ><div class=\"lbl c0 trm hl\" ><span class=\"nd\">8051 </span> <span class=\"txtu hbo\">אָשׁ֥וּב </span></div><div class=\"features\"><span class=\"lex xft\" ><span class=\"f\">lex=</span>CWB[</span></div></div></div></div><div class=\"contnr c1  rtl  hl\" ><div class=\"lbl c1  hl\" ><span class=\"nd\">phrase:389911 </span> <span class=\"\"><span title=\"typ\">PP</span> <span title=\"function\">Cmpl</span></span></div><div class=\"features\"><span class=\"function xft\" ><span class=\"f\">function=</span>Cmpl</span></div><div class=\"children hor wrap rtl\"><div class=\"contnr c0 trm rtl  hl\" ><div class=\"lbl c0 trm hl\" ><span class=\"nd\">8052 </span> <span class=\"txtu hbo\">אֵלֶ֛יךָ </span></div><div class=\"features\"><span class=\"lex xft\" ><span class=\"f\">lex=</span>>L</span></div></div></div></div><div class=\"contnr c1  rtl  \" ><div class=\"lbl c1  \" ><span class=\"nd\">phrase:389912 </span> <span class=\"\"><span title=\"typ\">PP</span> <span title=\"function\">Time</span></span></div><div class=\"features\"><span class=\"function xft\" ><span class=\"f\">function=</span>Time</span></div><div class=\"children hor wrap rtl\"><div class=\"contnr c0 trm rtl  \" ><div class=\"lbl c0 trm \" ><span class=\"nd\">8053 </span> <span class=\"txtu hbo\">כָּ</span></div><div class=\"features\"><span class=\"lex xft\" ><span class=\"f\">lex=</span>K</span></div></div><div class=\"contnr c0 trm rtl  \" ><div class=\"lbl c0 trm \" ><span class=\"nd\">8054 </span></div><div class=\"features\"><span class=\"lex xft\" ><span class=\"f\">lex=</span>H</span></div></div><div class=\"contnr c0 trm rtl  \" ><div class=\"lbl c0 trm \" ><span class=\"nd\">8055 </span> <span class=\"txtu hbo\">עֵ֥ת </span></div><div class=\"features\"><span class=\"lex xft\" ><span class=\"f\">lex=</span>&lt;T/</span></div></div><div class=\"contnr c0 trm rtl  \" ><div class=\"lbl c0 trm \" ><span class=\"nd\">8056 </span> <span class=\"txtu hbo\">חַיָּ֖ה </span></div><div class=\"features\"><span class=\"lex xft\" ><span class=\"f\">lex=</span>XJ/</span></div></div></div></div></div></div></div>"
      ],
      "text/plain": [
       "<IPython.core.display.HTML object>"
      ]
     },
     "metadata": {},
     "output_type": "display_data"
    },
    {
     "data": {
      "text/html": [
       "<p><b>result</b> <i>5</i>"
      ],
      "text/plain": [
       "<IPython.core.display.HTML object>"
      ]
     },
     "metadata": {},
     "output_type": "display_data"
    },
    {
     "data": {
      "text/html": [
       "<div class=\"tfsechead rtl\"><span class=\"ltr\"><a target=\"_blank\" href=\"https://shebanq.ancient-data.org/hebrew/text?book=Genesis&amp;chapter=18&amp;verse=14&amp;version=2021&amp;mr=m&amp;qw=q&amp;tp=txt_p&amp;tr=hb&amp;wget=v&amp;qget=v&amp;nget=vt\" title=\"Show this on SHEBANQ\" sec=\"Genesis 18:14\">Genesis 18:14</a></span></div><div class=\"rtl children\"><div class=\"contnr c2  rtl  \" ><div class=\"lbl c2  \" ><span class=\"nd\">clause:304423 </span> <span class=\"\"><span title=\"typ\">xYq0</span> <span title=\"rela\">NA</span></span></div><div class=\"children hor wrap rtl\"><div class=\"contnr c1  rtl  \" ><div class=\"lbl c1  \" ><span class=\"nd\">phrase:389909 </span> <span class=\"\"><span title=\"typ\">PP</span> <span title=\"function\">Time</span></span></div><div class=\"features\"><span class=\"function xft\" ><span class=\"f\">function=</span>Time</span></div><div class=\"children hor wrap rtl\"><div class=\"contnr c0 trm rtl  \" ><div class=\"lbl c0 trm \" ><span class=\"nd\">8048 </span> <span class=\"txtu hbo\">לַ</span></div><div class=\"features\"><span class=\"lex xft\" ><span class=\"f\">lex=</span>L</span></div></div><div class=\"contnr c0 trm rtl  \" ><div class=\"lbl c0 trm \" ><span class=\"nd\">8049 </span></div><div class=\"features\"><span class=\"lex xft\" ><span class=\"f\">lex=</span>H</span></div></div><div class=\"contnr c0 trm rtl  \" ><div class=\"lbl c0 trm \" ><span class=\"nd\">8050 </span> <span class=\"txtu hbo\">מֹּועֵ֞ד </span></div><div class=\"features\"><span class=\"lex xft\" ><span class=\"f\">lex=</span>MW&lt;D/</span></div></div></div></div><div class=\"contnr c1  rtl  \" ><div class=\"lbl c1  \" ><span class=\"nd\">phrase:389910 </span> <span class=\"\"><span title=\"typ\">VP</span> <span title=\"function\">Pred</span></span></div><div class=\"features\"><span class=\"function xft\" ><span class=\"f\">function=</span>Pred</span></div><div class=\"children hor wrap rtl\"><div class=\"contnr c0 trm rtl  hl\" ><div class=\"lbl c0 trm hl\" ><span class=\"nd\">8051 </span> <span class=\"txtu hbo\">אָשׁ֥וּב </span></div><div class=\"features\"><span class=\"lex xft\" ><span class=\"f\">lex=</span>CWB[</span></div></div></div></div><div class=\"contnr c1  rtl  hl\" ><div class=\"lbl c1  hl\" ><span class=\"nd\">phrase:389911 </span> <span class=\"\"><span title=\"typ\">PP</span> <span title=\"function\">Cmpl</span></span></div><div class=\"features\"><span class=\"function xft\" ><span class=\"f\">function=</span>Cmpl</span></div><div class=\"children hor wrap rtl\"><div class=\"contnr c0 trm rtl  hl\" ><div class=\"lbl c0 trm hl\" ><span class=\"nd\">8052 </span> <span class=\"txtu hbo\">אֵלֶ֛יךָ </span></div><div class=\"features\"><span class=\"lex xft\" ><span class=\"f\">lex=</span>>L</span></div></div></div></div><div class=\"contnr c1  rtl  hl\" ><div class=\"lbl c1  hl\" ><span class=\"nd\">phrase:389912 </span> <span class=\"\"><span title=\"typ\">PP</span> <span title=\"function\">Time</span></span></div><div class=\"features\"><span class=\"function xft\" ><span class=\"f\">function=</span>Time</span></div><div class=\"children hor wrap rtl\"><div class=\"contnr c0 trm rtl  \" ><div class=\"lbl c0 trm \" ><span class=\"nd\">8053 </span> <span class=\"txtu hbo\">כָּ</span></div><div class=\"features\"><span class=\"lex xft\" ><span class=\"f\">lex=</span>K</span></div></div><div class=\"contnr c0 trm rtl  \" ><div class=\"lbl c0 trm \" ><span class=\"nd\">8054 </span></div><div class=\"features\"><span class=\"lex xft\" ><span class=\"f\">lex=</span>H</span></div></div><div class=\"contnr c0 trm rtl  \" ><div class=\"lbl c0 trm \" ><span class=\"nd\">8055 </span> <span class=\"txtu hbo\">עֵ֥ת </span></div><div class=\"features\"><span class=\"lex xft\" ><span class=\"f\">lex=</span>&lt;T/</span></div></div><div class=\"contnr c0 trm rtl  \" ><div class=\"lbl c0 trm \" ><span class=\"nd\">8056 </span> <span class=\"txtu hbo\">חַיָּ֖ה </span></div><div class=\"features\"><span class=\"lex xft\" ><span class=\"f\">lex=</span>XJ/</span></div></div></div></div></div></div></div>"
      ],
      "text/plain": [
       "<IPython.core.display.HTML object>"
      ]
     },
     "metadata": {},
     "output_type": "display_data"
    },
    {
     "data": {
      "text/html": [
       "<p><b>result</b> <i>6</i>"
      ],
      "text/plain": [
       "<IPython.core.display.HTML object>"
      ]
     },
     "metadata": {},
     "output_type": "display_data"
    },
    {
     "data": {
      "text/html": [
       "<div class=\"tfsechead rtl\"><span class=\"ltr\"><a target=\"_blank\" href=\"https://shebanq.ancient-data.org/hebrew/text?book=Genesis&amp;chapter=19&amp;verse=5&amp;version=2021&amp;mr=m&amp;qw=q&amp;tp=txt_p&amp;tr=hb&amp;wget=v&amp;qget=v&amp;nget=vt\" title=\"Show this on SHEBANQ\" sec=\"Genesis 19:5\">Genesis 19:5</a></span></div><div class=\"rtl children\"><div class=\"contnr c2  rtl  \" ><div class=\"lbl c2  \" ><span class=\"nd\">clause:304546 </span> <span class=\"\"><span title=\"typ\">xQt0</span> <span title=\"rela\">Attr</span></span></div><div class=\"children hor wrap rtl\"><div class=\"contnr c1  rtl  \" ><div class=\"lbl c1  \" ><span class=\"nd\">phrase:390254 </span> <span class=\"\"><span title=\"typ\">CP</span> <span title=\"function\">Rela</span></span></div><div class=\"features\"><span class=\"function xft\" ><span class=\"f\">function=</span>Rela</span></div><div class=\"children hor wrap rtl\"><div class=\"contnr c0 trm rtl  \" ><div class=\"lbl c0 trm \" ><span class=\"nd\">8531 </span> <span class=\"txtu hbo\">אֲשֶׁר־</span></div><div class=\"features\"><span class=\"lex xft\" ><span class=\"f\">lex=</span>>CR</span></div></div></div></div><div class=\"contnr c1  rtl  \" ><div class=\"lbl c1  \" ><span class=\"nd\">phrase:390255 </span> <span class=\"\"><span title=\"typ\">VP</span> <span title=\"function\">Pred</span></span></div><div class=\"features\"><span class=\"function xft\" ><span class=\"f\">function=</span>Pred</span></div><div class=\"children hor wrap rtl\"><div class=\"contnr c0 trm rtl  hl\" ><div class=\"lbl c0 trm hl\" ><span class=\"nd\">8532 </span> <span class=\"txtu hbo\">בָּ֥אוּ </span></div><div class=\"features\"><span class=\"lex xft\" ><span class=\"f\">lex=</span>BW>[</span></div></div></div></div><div class=\"contnr c1  rtl  hl\" ><div class=\"lbl c1  hl\" ><span class=\"nd\">phrase:390256 </span> <span class=\"\"><span title=\"typ\">PP</span> <span title=\"function\">Cmpl</span></span></div><div class=\"features\"><span class=\"function xft\" ><span class=\"f\">function=</span>Cmpl</span></div><div class=\"children hor wrap rtl\"><div class=\"contnr c0 trm rtl  hl\" ><div class=\"lbl c0 trm hl\" ><span class=\"nd\">8533 </span> <span class=\"txtu hbo\">אֵלֶ֖יךָ </span></div><div class=\"features\"><span class=\"lex xft\" ><span class=\"f\">lex=</span>>L</span></div></div></div></div><div class=\"contnr c1  rtl  hl\" ><div class=\"lbl c1  hl\" ><span class=\"nd\">phrase:390257 </span> <span class=\"\"><span title=\"typ\">NP</span> <span title=\"function\">Time</span></span></div><div class=\"features\"><span class=\"function xft\" ><span class=\"f\">function=</span>Time</span></div><div class=\"children hor wrap rtl\"><div class=\"contnr c0 trm rtl  \" ><div class=\"lbl c0 trm \" ><span class=\"nd\">8534 </span> <span class=\"txtu hbo\">הַ</span></div><div class=\"features\"><span class=\"lex xft\" ><span class=\"f\">lex=</span>H</span></div></div><div class=\"contnr c0 trm rtl  \" ><div class=\"lbl c0 trm \" ><span class=\"nd\">8535 </span> <span class=\"txtu hbo\">לָּ֑יְלָה </span></div><div class=\"features\"><span class=\"lex xft\" ><span class=\"f\">lex=</span>LJLH/</span></div></div></div></div></div></div></div>"
      ],
      "text/plain": [
       "<IPython.core.display.HTML object>"
      ]
     },
     "metadata": {},
     "output_type": "display_data"
    },
    {
     "data": {
      "text/html": [
       "<p><b>result</b> <i>7</i>"
      ],
      "text/plain": [
       "<IPython.core.display.HTML object>"
      ]
     },
     "metadata": {},
     "output_type": "display_data"
    },
    {
     "data": {
      "text/html": [
       "<div class=\"tfsechead rtl\"><span class=\"ltr\"><a target=\"_blank\" href=\"https://shebanq.ancient-data.org/hebrew/text?book=Genesis&amp;chapter=20&amp;verse=3&amp;version=2021&amp;mr=m&amp;qw=q&amp;tp=txt_p&amp;tr=hb&amp;wget=v&amp;qget=v&amp;nget=vt\" title=\"Show this on SHEBANQ\" sec=\"Genesis 20:3\">Genesis 20:3</a></span></div><div class=\"rtl children\"><div class=\"contnr c2  rtl  \" ><div class=\"lbl c2  \" ><span class=\"nd\">clause:304702 </span> <span class=\"\"><span title=\"typ\">WayX</span> <span title=\"rela\">NA</span></span></div><div class=\"children hor wrap rtl\"><div class=\"contnr c1  rtl  \" ><div class=\"lbl c1  \" ><span class=\"nd\">phrase:390728 </span> <span class=\"\"><span title=\"typ\">CP</span> <span title=\"function\">Conj</span></span></div><div class=\"features\"><span class=\"function xft\" ><span class=\"f\">function=</span>Conj</span></div><div class=\"children hor wrap rtl\"><div class=\"contnr c0 trm rtl  \" ><div class=\"lbl c0 trm \" ><span class=\"nd\">9282 </span> <span class=\"txtu hbo\">וַ</span></div><div class=\"features\"><span class=\"lex xft\" ><span class=\"f\">lex=</span>W</span></div></div></div></div><div class=\"contnr c1  rtl  \" ><div class=\"lbl c1  \" ><span class=\"nd\">phrase:390729 </span> <span class=\"\"><span title=\"typ\">VP</span> <span title=\"function\">Pred</span></span></div><div class=\"features\"><span class=\"function xft\" ><span class=\"f\">function=</span>Pred</span></div><div class=\"children hor wrap rtl\"><div class=\"contnr c0 trm rtl  hl\" ><div class=\"lbl c0 trm hl\" ><span class=\"nd\">9283 </span> <span class=\"txtu hbo\">יָּבֹ֧א </span></div><div class=\"features\"><span class=\"lex xft\" ><span class=\"f\">lex=</span>BW>[</span></div></div></div></div><div class=\"contnr c1  rtl  \" ><div class=\"lbl c1  \" ><span class=\"nd\">phrase:390730 </span> <span class=\"\"><span title=\"typ\">NP</span> <span title=\"function\">Subj</span></span></div><div class=\"features\"><span class=\"function xft\" ><span class=\"f\">function=</span>Subj</span></div><div class=\"children hor wrap rtl\"><div class=\"contnr c0 trm rtl  \" ><div class=\"lbl c0 trm \" ><span class=\"nd\">9284 </span> <span class=\"txtu hbo\">אֱלֹהִ֛ים </span></div><div class=\"features\"><span class=\"lex xft\" ><span class=\"f\">lex=</span>>LHJM/</span></div></div></div></div><div class=\"contnr c1  rtl  hl\" ><div class=\"lbl c1  hl\" ><span class=\"nd\">phrase:390731 </span> <span class=\"\"><span title=\"typ\">PP</span> <span title=\"function\">Cmpl</span></span></div><div class=\"features\"><span class=\"function xft\" ><span class=\"f\">function=</span>Cmpl</span></div><div class=\"children hor wrap rtl\"><div class=\"contnr c0 trm rtl  hl\" ><div class=\"lbl c0 trm hl\" ><span class=\"nd\">9285 </span> <span class=\"txtu hbo\">אֶל־</span></div><div class=\"features\"><span class=\"lex xft\" ><span class=\"f\">lex=</span>>L</span></div></div><div class=\"contnr c0 trm rtl  \" ><div class=\"lbl c0 trm \" ><span class=\"nd\">9286 </span> <span class=\"txtu hbo\">אֲבִימֶ֖לֶךְ </span></div><div class=\"features\"><span class=\"lex xft\" ><span class=\"f\">lex=</span>>BJMLK/</span></div></div></div></div><div class=\"contnr c1  rtl  \" ><div class=\"lbl c1  \" ><span class=\"nd\">phrase:390732 </span> <span class=\"\"><span title=\"typ\">PP</span> <span title=\"function\">Adju</span></span></div><div class=\"features\"><span class=\"function xft\" ><span class=\"f\">function=</span>Adju</span></div><div class=\"children hor wrap rtl\"><div class=\"contnr c0 trm rtl  \" ><div class=\"lbl c0 trm \" ><span class=\"nd\">9287 </span> <span class=\"txtu hbo\">בַּ</span></div><div class=\"features\"><span class=\"lex xft\" ><span class=\"f\">lex=</span>B</span></div></div><div class=\"contnr c0 trm rtl  \" ><div class=\"lbl c0 trm \" ><span class=\"nd\">9288 </span> <span class=\"txtu hbo\">חֲלֹ֣ום </span></div><div class=\"features\"><span class=\"lex xft\" ><span class=\"f\">lex=</span>XLWM/</span></div></div></div></div><div class=\"contnr c1  rtl  hl\" ><div class=\"lbl c1  hl\" ><span class=\"nd\">phrase:390733 </span> <span class=\"\"><span title=\"typ\">NP</span> <span title=\"function\">Time</span></span></div><div class=\"features\"><span class=\"function xft\" ><span class=\"f\">function=</span>Time</span></div><div class=\"children hor wrap rtl\"><div class=\"contnr c0 trm rtl  \" ><div class=\"lbl c0 trm \" ><span class=\"nd\">9289 </span> <span class=\"txtu hbo\">הַ</span></div><div class=\"features\"><span class=\"lex xft\" ><span class=\"f\">lex=</span>H</span></div></div><div class=\"contnr c0 trm rtl  \" ><div class=\"lbl c0 trm \" ><span class=\"nd\">9290 </span> <span class=\"txtu hbo\">לָּ֑יְלָה </span></div><div class=\"features\"><span class=\"lex xft\" ><span class=\"f\">lex=</span>LJLH/</span></div></div></div></div></div></div></div>"
      ],
      "text/plain": [
       "<IPython.core.display.HTML object>"
      ]
     },
     "metadata": {},
     "output_type": "display_data"
    },
    {
     "data": {
      "text/html": [
       "<p><b>result</b> <i>8</i>"
      ],
      "text/plain": [
       "<IPython.core.display.HTML object>"
      ]
     },
     "metadata": {},
     "output_type": "display_data"
    },
    {
     "data": {
      "text/html": [
       "<div class=\"tfsechead rtl\"><span class=\"ltr\"><a target=\"_blank\" href=\"https://shebanq.ancient-data.org/hebrew/text?book=Genesis&amp;chapter=24&amp;verse=42&amp;version=2021&amp;mr=m&amp;qw=q&amp;tp=txt_p&amp;tr=hb&amp;wget=v&amp;qget=v&amp;nget=vt\" title=\"Show this on SHEBANQ\" sec=\"Genesis 24:42\">Genesis 24:42</a></span></div><div class=\"rtl children\"><div class=\"contnr c2  rtl  \" ><div class=\"lbl c2  \" ><span class=\"nd\">clause:305252 </span> <span class=\"\"><span title=\"typ\">Way0</span> <span title=\"rela\">NA</span></span></div><div class=\"children hor wrap rtl\"><div class=\"contnr c1  rtl  \" ><div class=\"lbl c1  \" ><span class=\"nd\">phrase:392387 </span> <span class=\"\"><span title=\"typ\">CP</span> <span title=\"function\">Conj</span></span></div><div class=\"features\"><span class=\"function xft\" ><span class=\"f\">function=</span>Conj</span></div><div class=\"children hor wrap rtl\"><div class=\"contnr c0 trm rtl  \" ><div class=\"lbl c0 trm \" ><span class=\"nd\">11913 </span> <span class=\"txtu hbo\">וָ</span></div><div class=\"features\"><span class=\"lex xft\" ><span class=\"f\">lex=</span>W</span></div></div></div></div><div class=\"contnr c1  rtl  \" ><div class=\"lbl c1  \" ><span class=\"nd\">phrase:392388 </span> <span class=\"\"><span title=\"typ\">VP</span> <span title=\"function\">Pred</span></span></div><div class=\"features\"><span class=\"function xft\" ><span class=\"f\">function=</span>Pred</span></div><div class=\"children hor wrap rtl\"><div class=\"contnr c0 trm rtl  hl\" ><div class=\"lbl c0 trm hl\" ><span class=\"nd\">11914 </span> <span class=\"txtu hbo\">אָבֹ֥א </span></div><div class=\"features\"><span class=\"lex xft\" ><span class=\"f\">lex=</span>BW>[</span></div></div></div></div><div class=\"contnr c1  rtl  hl\" ><div class=\"lbl c1  hl\" ><span class=\"nd\">phrase:392389 </span> <span class=\"\"><span title=\"typ\">NP</span> <span title=\"function\">Time</span></span></div><div class=\"features\"><span class=\"function xft\" ><span class=\"f\">function=</span>Time</span></div><div class=\"children hor wrap rtl\"><div class=\"contnr c0 trm rtl  \" ><div class=\"lbl c0 trm \" ><span class=\"nd\">11915 </span> <span class=\"txtu hbo\">הַ</span></div><div class=\"features\"><span class=\"lex xft\" ><span class=\"f\">lex=</span>H</span></div></div><div class=\"contnr c0 trm rtl  \" ><div class=\"lbl c0 trm \" ><span class=\"nd\">11916 </span> <span class=\"txtu hbo\">יֹּ֖ום </span></div><div class=\"features\"><span class=\"lex xft\" ><span class=\"f\">lex=</span>JWM/</span></div></div></div></div><div class=\"contnr c1  rtl  hl\" ><div class=\"lbl c1  hl\" ><span class=\"nd\">phrase:392390 </span> <span class=\"\"><span title=\"typ\">PP</span> <span title=\"function\">Cmpl</span></span></div><div class=\"features\"><span class=\"function xft\" ><span class=\"f\">function=</span>Cmpl</span></div><div class=\"children hor wrap rtl\"><div class=\"contnr c0 trm rtl  hl\" ><div class=\"lbl c0 trm hl\" ><span class=\"nd\">11917 </span> <span class=\"txtu hbo\">אֶל־</span></div><div class=\"features\"><span class=\"lex xft\" ><span class=\"f\">lex=</span>>L</span></div></div><div class=\"contnr c0 trm rtl  \" ><div class=\"lbl c0 trm \" ><span class=\"nd\">11918 </span> <span class=\"txtu hbo\">הָ</span></div><div class=\"features\"><span class=\"lex xft\" ><span class=\"f\">lex=</span>H</span></div></div><div class=\"contnr c0 trm rtl  \" ><div class=\"lbl c0 trm \" ><span class=\"nd\">11919 </span> <span class=\"txtu hbo\">עָ֑יִן </span></div><div class=\"features\"><span class=\"lex xft\" ><span class=\"f\">lex=</span>&lt;JN/</span></div></div></div></div></div></div></div>"
      ],
      "text/plain": [
       "<IPython.core.display.HTML object>"
      ]
     },
     "metadata": {},
     "output_type": "display_data"
    },
    {
     "data": {
      "text/html": [
       "<p><b>result</b> <i>9</i>"
      ],
      "text/plain": [
       "<IPython.core.display.HTML object>"
      ]
     },
     "metadata": {},
     "output_type": "display_data"
    },
    {
     "data": {
      "text/html": [
       "<div class=\"tfsechead rtl\"><span class=\"ltr\"><a target=\"_blank\" href=\"https://shebanq.ancient-data.org/hebrew/text?book=Genesis&amp;chapter=31&amp;verse=24&amp;version=2021&amp;mr=m&amp;qw=q&amp;tp=txt_p&amp;tr=hb&amp;wget=v&amp;qget=v&amp;nget=vt\" title=\"Show this on SHEBANQ\" sec=\"Genesis 31:24\">Genesis 31:24</a></span></div><div class=\"rtl children\"><div class=\"contnr c2  rtl  \" ><div class=\"lbl c2  \" ><span class=\"nd\">clause:306359 </span> <span class=\"\"><span title=\"typ\">WayX</span> <span title=\"rela\">NA</span></span></div><div class=\"children hor wrap rtl\"><div class=\"contnr c1  rtl  \" ><div class=\"lbl c1  \" ><span class=\"nd\">phrase:395705 </span> <span class=\"\"><span title=\"typ\">CP</span> <span title=\"function\">Conj</span></span></div><div class=\"features\"><span class=\"function xft\" ><span class=\"f\">function=</span>Conj</span></div><div class=\"children hor wrap rtl\"><div class=\"contnr c0 trm rtl  \" ><div class=\"lbl c0 trm \" ><span class=\"nd\">16795 </span> <span class=\"txtu hbo\">וַ</span></div><div class=\"features\"><span class=\"lex xft\" ><span class=\"f\">lex=</span>W</span></div></div></div></div><div class=\"contnr c1  rtl  \" ><div class=\"lbl c1  \" ><span class=\"nd\">phrase:395706 </span> <span class=\"\"><span title=\"typ\">VP</span> <span title=\"function\">Pred</span></span></div><div class=\"features\"><span class=\"function xft\" ><span class=\"f\">function=</span>Pred</span></div><div class=\"children hor wrap rtl\"><div class=\"contnr c0 trm rtl  hl\" ><div class=\"lbl c0 trm hl\" ><span class=\"nd\">16796 </span> <span class=\"txtu hbo\">יָּבֹ֧א </span></div><div class=\"features\"><span class=\"lex xft\" ><span class=\"f\">lex=</span>BW>[</span></div></div></div></div><div class=\"contnr c1  rtl  \" ><div class=\"lbl c1  \" ><span class=\"nd\">phrase:395707 </span> <span class=\"\"><span title=\"typ\">NP</span> <span title=\"function\">Subj</span></span></div><div class=\"features\"><span class=\"function xft\" ><span class=\"f\">function=</span>Subj</span></div><div class=\"children hor wrap rtl\"><div class=\"contnr c0 trm rtl  \" ><div class=\"lbl c0 trm \" ><span class=\"nd\">16797 </span> <span class=\"txtu hbo\">אֱלֹהִ֛ים </span></div><div class=\"features\"><span class=\"lex xft\" ><span class=\"f\">lex=</span>>LHJM/</span></div></div></div></div><div class=\"contnr c1  rtl  hl\" ><div class=\"lbl c1  hl\" ><span class=\"nd\">phrase:395708 </span> <span class=\"\"><span title=\"typ\">PP</span> <span title=\"function\">Cmpl</span></span></div><div class=\"features\"><span class=\"function xft\" ><span class=\"f\">function=</span>Cmpl</span></div><div class=\"children hor wrap rtl\"><div class=\"contnr c0 trm rtl  hl\" ><div class=\"lbl c0 trm hl\" ><span class=\"nd\">16798 </span> <span class=\"txtu hbo\">אֶל־</span></div><div class=\"features\"><span class=\"lex xft\" ><span class=\"f\">lex=</span>>L</span></div></div><div class=\"contnr c0 trm rtl  \" ><div class=\"lbl c0 trm \" ><span class=\"nd\">16799 </span> <a class=\" txtu hbo\" target=\"_blank\" href=\"https://shebanq.ancient-data.org/hebrew/word?version=2021&amp;id=1LBNin\" title=\"Show this on SHEBANQ\"><span class=\"txtu hbo\">לָבָ֥ן </span></a></div><div class=\"features\"><span class=\"lex xft\" ><span class=\"f\">lex=</span>LBN=/</span></div></div><div class=\"contnr c0 trm rtl  \" ><div class=\"lbl c0 trm \" ><span class=\"nd\">16800 </span> <span class=\"txtu hbo\">הָ</span></div><div class=\"features\"><span class=\"lex xft\" ><span class=\"f\">lex=</span>H</span></div></div><div class=\"contnr c0 trm rtl  \" ><div class=\"lbl c0 trm \" ><span class=\"nd\">16801 </span> <span class=\"txtu hbo\">אֲרַמִּ֖י </span></div><div class=\"features\"><span class=\"lex xft\" ><span class=\"f\">lex=</span>>RMJ/</span></div></div></div></div><div class=\"contnr c1  rtl  \" ><div class=\"lbl c1  \" ><span class=\"nd\">phrase:395709 </span> <span class=\"\"><span title=\"typ\">PP</span> <span title=\"function\">Adju</span></span></div><div class=\"features\"><span class=\"function xft\" ><span class=\"f\">function=</span>Adju</span></div><div class=\"children hor wrap rtl\"><div class=\"contnr c0 trm rtl  \" ><div class=\"lbl c0 trm \" ><span class=\"nd\">16802 </span> <span class=\"txtu hbo\">בַּ</span></div><div class=\"features\"><span class=\"lex xft\" ><span class=\"f\">lex=</span>B</span></div></div><div class=\"contnr c0 trm rtl  \" ><div class=\"lbl c0 trm \" ><span class=\"nd\">16803 </span> <span class=\"txtu hbo\">חֲלֹ֣ם </span></div><div class=\"features\"><span class=\"lex xft\" ><span class=\"f\">lex=</span>XLWM/</span></div></div></div></div><div class=\"contnr c1  rtl  hl\" ><div class=\"lbl c1  hl\" ><span class=\"nd\">phrase:395710 </span> <span class=\"\"><span title=\"typ\">NP</span> <span title=\"function\">Time</span></span></div><div class=\"features\"><span class=\"function xft\" ><span class=\"f\">function=</span>Time</span></div><div class=\"children hor wrap rtl\"><div class=\"contnr c0 trm rtl  \" ><div class=\"lbl c0 trm \" ><span class=\"nd\">16804 </span> <span class=\"txtu hbo\">הַ</span></div><div class=\"features\"><span class=\"lex xft\" ><span class=\"f\">lex=</span>H</span></div></div><div class=\"contnr c0 trm rtl  \" ><div class=\"lbl c0 trm \" ><span class=\"nd\">16805 </span> <span class=\"txtu hbo\">לָּ֑יְלָה </span></div><div class=\"features\"><span class=\"lex xft\" ><span class=\"f\">lex=</span>LJLH/</span></div></div></div></div></div></div></div>"
      ],
      "text/plain": [
       "<IPython.core.display.HTML object>"
      ]
     },
     "metadata": {},
     "output_type": "display_data"
    },
    {
     "data": {
      "text/html": [
       "<p><b>result</b> <i>10</i>"
      ],
      "text/plain": [
       "<IPython.core.display.HTML object>"
      ]
     },
     "metadata": {},
     "output_type": "display_data"
    },
    {
     "data": {
      "text/html": [
       "<div class=\"tfsechead rtl\"><span class=\"ltr\"><a target=\"_blank\" href=\"https://shebanq.ancient-data.org/hebrew/text?book=Genesis&amp;chapter=31&amp;verse=29&amp;version=2021&amp;mr=m&amp;qw=q&amp;tp=txt_p&amp;tr=hb&amp;wget=v&amp;qget=v&amp;nget=vt\" title=\"Show this on SHEBANQ\" sec=\"Genesis 31:29\">Genesis 31:29</a></span></div><div class=\"rtl children\"><div class=\"contnr c2  rtl  \" ><div class=\"lbl c2  \" ><span class=\"nd\">clause:306381 </span> <span class=\"\"><span title=\"typ\">WXQt</span> <span title=\"rela\">NA</span></span></div><div class=\"children hor wrap rtl\"><div class=\"contnr c1  rtl  \" ><div class=\"lbl c1  \" ><span class=\"nd\">phrase:395773 </span> <span class=\"\"><span title=\"typ\">CP</span> <span title=\"function\">Conj</span></span></div><div class=\"features\"><span class=\"function xft\" ><span class=\"f\">function=</span>Conj</span></div><div class=\"children hor wrap rtl\"><div class=\"contnr c0 trm rtl  \" ><div class=\"lbl c0 trm \" ><span class=\"nd\">16903 </span> <span class=\"txtu hbo\">וֵֽ</span></div><div class=\"features\"><span class=\"lex xft\" ><span class=\"f\">lex=</span>W</span></div></div></div></div><div class=\"contnr c1  rtl  \" ><div class=\"lbl c1  \" ><span class=\"nd\">phrase:395774 </span> <span class=\"\"><span title=\"typ\">NP</span> <span title=\"function\">Subj</span></span></div><div class=\"features\"><span class=\"function xft\" ><span class=\"f\">function=</span>Subj</span></div><div class=\"children hor wrap rtl\"><div class=\"contnr c0 trm rtl  \" ><div class=\"lbl c0 trm \" ><span class=\"nd\">16904 </span> <span class=\"txtu hbo\">אלֹהֵ֨י </span></div><div class=\"features\"><span class=\"lex xft\" ><span class=\"f\">lex=</span>>LHJM/</span></div></div><div class=\"contnr c0 trm rtl  \" ><div class=\"lbl c0 trm \" ><span class=\"nd\">16905 </span> <span class=\"txtu hbo\">אֲבִיכֶ֜ם </span></div><div class=\"features\"><span class=\"lex xft\" ><span class=\"f\">lex=</span>>B/</span></div></div></div></div><div class=\"contnr c1  rtl  hl\" ><div class=\"lbl c1  hl\" ><span class=\"nd\">phrase:395775 </span> <span class=\"\"><span title=\"typ\">AdvP</span> <span title=\"function\">Time</span></span></div><div class=\"features\"><span class=\"function xft\" ><span class=\"f\">function=</span>Time</span></div><div class=\"children hor wrap rtl\"><div class=\"contnr c0 trm rtl  \" ><div class=\"lbl c0 trm \" ><span class=\"nd\">16906 </span> <span class=\"txtu hbo\">אֶ֣מֶשׁ׀ </span></div><div class=\"features\"><span class=\"lex xft\" ><span class=\"f\">lex=</span>>MC/</span></div></div></div></div><div class=\"contnr c1  rtl  \" ><div class=\"lbl c1  \" ><span class=\"nd\">phrase:395776 </span> <span class=\"\"><span title=\"typ\">VP</span> <span title=\"function\">Pred</span></span></div><div class=\"features\"><span class=\"function xft\" ><span class=\"f\">function=</span>Pred</span></div><div class=\"children hor wrap rtl\"><div class=\"contnr c0 trm rtl  hl\" ><div class=\"lbl c0 trm hl\" ><span class=\"nd\">16907 </span> <span class=\"txtu hbo\">אָמַ֧ר </span></div><div class=\"features\"><span class=\"lex xft\" ><span class=\"f\">lex=</span>>MR[</span></div></div></div></div><div class=\"contnr c1  rtl  hl\" ><div class=\"lbl c1  hl\" ><span class=\"nd\">phrase:395777 </span> <span class=\"\"><span title=\"typ\">PP</span> <span title=\"function\">Cmpl</span></span></div><div class=\"features\"><span class=\"function xft\" ><span class=\"f\">function=</span>Cmpl</span></div><div class=\"children hor wrap rtl\"><div class=\"contnr c0 trm rtl  hl\" ><div class=\"lbl c0 trm hl\" ><span class=\"nd\">16908 </span> <span class=\"txtu hbo\">אֵלַ֣י </span></div><div class=\"features\"><span class=\"lex xft\" ><span class=\"f\">lex=</span>>L</span></div></div></div></div></div></div></div>"
      ],
      "text/plain": [
       "<IPython.core.display.HTML object>"
      ]
     },
     "metadata": {},
     "output_type": "display_data"
    },
    {
     "data": {
      "text/html": [
       "<p><b>result</b> <i>11</i>"
      ],
      "text/plain": [
       "<IPython.core.display.HTML object>"
      ]
     },
     "metadata": {},
     "output_type": "display_data"
    },
    {
     "data": {
      "text/html": [
       "<div class=\"tfsechead rtl\"><span class=\"ltr\"><a target=\"_blank\" href=\"https://shebanq.ancient-data.org/hebrew/text?book=Genesis&amp;chapter=40&amp;verse=6&amp;version=2021&amp;mr=m&amp;qw=q&amp;tp=txt_p&amp;tr=hb&amp;wget=v&amp;qget=v&amp;nget=vt\" title=\"Show this on SHEBANQ\" sec=\"Genesis 40:6\">Genesis 40:6</a></span></div><div class=\"rtl children\"><div class=\"contnr c2  rtl  \" ><div class=\"lbl c2  \" ><span class=\"nd\">clause:307494 </span> <span class=\"\"><span title=\"typ\">WayX</span> <span title=\"rela\">NA</span></span></div><div class=\"children hor wrap rtl\"><div class=\"contnr c1  rtl  \" ><div class=\"lbl c1  \" ><span class=\"nd\">phrase:399045 </span> <span class=\"\"><span title=\"typ\">CP</span> <span title=\"function\">Conj</span></span></div><div class=\"features\"><span class=\"function xft\" ><span class=\"f\">function=</span>Conj</span></div><div class=\"children hor wrap rtl\"><div class=\"contnr c0 trm rtl  \" ><div class=\"lbl c0 trm \" ><span class=\"nd\">22011 </span> <span class=\"txtu hbo\">וַ</span></div><div class=\"features\"><span class=\"lex xft\" ><span class=\"f\">lex=</span>W</span></div></div></div></div><div class=\"contnr c1  rtl  \" ><div class=\"lbl c1  \" ><span class=\"nd\">phrase:399046 </span> <span class=\"\"><span title=\"typ\">VP</span> <span title=\"function\">Pred</span></span></div><div class=\"features\"><span class=\"function xft\" ><span class=\"f\">function=</span>Pred</span></div><div class=\"children hor wrap rtl\"><div class=\"contnr c0 trm rtl  hl\" ><div class=\"lbl c0 trm hl\" ><span class=\"nd\">22012 </span> <span class=\"txtu hbo\">יָּבֹ֧א </span></div><div class=\"features\"><span class=\"lex xft\" ><span class=\"f\">lex=</span>BW>[</span></div></div></div></div><div class=\"contnr c1  rtl  hl\" ><div class=\"lbl c1  hl\" ><span class=\"nd\">phrase:399047 </span> <span class=\"\"><span title=\"typ\">PP</span> <span title=\"function\">Cmpl</span></span></div><div class=\"features\"><span class=\"function xft\" ><span class=\"f\">function=</span>Cmpl</span></div><div class=\"children hor wrap rtl\"><div class=\"contnr c0 trm rtl  hl\" ><div class=\"lbl c0 trm hl\" ><span class=\"nd\">22013 </span> <span class=\"txtu hbo\">אֲלֵיהֶ֛ם </span></div><div class=\"features\"><span class=\"lex xft\" ><span class=\"f\">lex=</span>>L</span></div></div></div></div><div class=\"contnr c1  rtl  \" ><div class=\"lbl c1  \" ><span class=\"nd\">phrase:399048 </span> <span class=\"\"><span title=\"typ\">PrNP</span> <span title=\"function\">Subj</span></span></div><div class=\"features\"><span class=\"function xft\" ><span class=\"f\">function=</span>Subj</span></div><div class=\"children hor wrap rtl\"><div class=\"contnr c0 trm rtl  \" ><div class=\"lbl c0 trm \" ><span class=\"nd\">22014 </span> <span class=\"txtu hbo\">יֹוסֵ֖ף </span></div><div class=\"features\"><span class=\"lex xft\" ><span class=\"f\">lex=</span>JWSP/</span></div></div></div></div><div class=\"contnr c1  rtl  hl\" ><div class=\"lbl c1  hl\" ><span class=\"nd\">phrase:399049 </span> <span class=\"\"><span title=\"typ\">PP</span> <span title=\"function\">Time</span></span></div><div class=\"features\"><span class=\"function xft\" ><span class=\"f\">function=</span>Time</span></div><div class=\"children hor wrap rtl\"><div class=\"contnr c0 trm rtl  \" ><div class=\"lbl c0 trm \" ><span class=\"nd\">22015 </span> <span class=\"txtu hbo\">בַּ</span></div><div class=\"features\"><span class=\"lex xft\" ><span class=\"f\">lex=</span>B</span></div></div><div class=\"contnr c0 trm rtl  \" ><div class=\"lbl c0 trm \" ><span class=\"nd\">22016 </span></div><div class=\"features\"><span class=\"lex xft\" ><span class=\"f\">lex=</span>H</span></div></div><div class=\"contnr c0 trm rtl  \" ><div class=\"lbl c0 trm \" ><span class=\"nd\">22017 </span> <span class=\"txtu hbo\">בֹּ֑קֶר </span></div><div class=\"features\"><span class=\"lex xft\" ><span class=\"f\">lex=</span>BQR=/</span></div></div></div></div></div></div></div>"
      ],
      "text/plain": [
       "<IPython.core.display.HTML object>"
      ]
     },
     "metadata": {},
     "output_type": "display_data"
    },
    {
     "data": {
      "text/html": [
       "<p><b>result</b> <i>12</i>"
      ],
      "text/plain": [
       "<IPython.core.display.HTML object>"
      ]
     },
     "metadata": {},
     "output_type": "display_data"
    },
    {
     "data": {
      "text/html": [
       "<div class=\"tfsechead rtl\"><span class=\"ltr\"><a target=\"_blank\" href=\"https://shebanq.ancient-data.org/hebrew/text?book=Genesis&amp;chapter=42&amp;verse=18&amp;version=2021&amp;mr=m&amp;qw=q&amp;tp=txt_p&amp;tr=hb&amp;wget=v&amp;qget=v&amp;nget=vt\" title=\"Show this on SHEBANQ\" sec=\"Genesis 42:18\">Genesis 42:18</a></span></div><div class=\"rtl children\"><div class=\"contnr c2  rtl  \" ><div class=\"lbl c2  \" ><span class=\"nd\">clause:307834 </span> <span class=\"\"><span title=\"typ\">WayX</span> <span title=\"rela\">NA</span></span></div><div class=\"children hor wrap rtl\"><div class=\"contnr c1  rtl  \" ><div class=\"lbl c1  \" ><span class=\"nd\">phrase:400087 </span> <span class=\"\"><span title=\"typ\">CP</span> <span title=\"function\">Conj</span></span></div><div class=\"features\"><span class=\"function xft\" ><span class=\"f\">function=</span>Conj</span></div><div class=\"children hor wrap rtl\"><div class=\"contnr c0 trm rtl  \" ><div class=\"lbl c0 trm \" ><span class=\"nd\">23711 </span> <span class=\"txtu hbo\">וַ</span></div><div class=\"features\"><span class=\"lex xft\" ><span class=\"f\">lex=</span>W</span></div></div></div></div><div class=\"contnr c1  rtl  \" ><div class=\"lbl c1  \" ><span class=\"nd\">phrase:400088 </span> <span class=\"\"><span title=\"typ\">VP</span> <span title=\"function\">Pred</span></span></div><div class=\"features\"><span class=\"function xft\" ><span class=\"f\">function=</span>Pred</span></div><div class=\"children hor wrap rtl\"><div class=\"contnr c0 trm rtl  hl\" ><div class=\"lbl c0 trm hl\" ><span class=\"nd\">23712 </span> <span class=\"txtu hbo\">יֹּ֨אמֶר </span></div><div class=\"features\"><span class=\"lex xft\" ><span class=\"f\">lex=</span>>MR[</span></div></div></div></div><div class=\"contnr c1  rtl  hl\" ><div class=\"lbl c1  hl\" ><span class=\"nd\">phrase:400089 </span> <span class=\"\"><span title=\"typ\">PP</span> <span title=\"function\">Cmpl</span></span></div><div class=\"features\"><span class=\"function xft\" ><span class=\"f\">function=</span>Cmpl</span></div><div class=\"children hor wrap rtl\"><div class=\"contnr c0 trm rtl  hl\" ><div class=\"lbl c0 trm hl\" ><span class=\"nd\">23713 </span> <span class=\"txtu hbo\">אֲלֵהֶ֤ם </span></div><div class=\"features\"><span class=\"lex xft\" ><span class=\"f\">lex=</span>>L</span></div></div></div></div><div class=\"contnr c1  rtl  \" ><div class=\"lbl c1  \" ><span class=\"nd\">phrase:400090 </span> <span class=\"\"><span title=\"typ\">PrNP</span> <span title=\"function\">Subj</span></span></div><div class=\"features\"><span class=\"function xft\" ><span class=\"f\">function=</span>Subj</span></div><div class=\"children hor wrap rtl\"><div class=\"contnr c0 trm rtl  \" ><div class=\"lbl c0 trm \" ><span class=\"nd\">23714 </span> <span class=\"txtu hbo\">יֹוסֵף֙ </span></div><div class=\"features\"><span class=\"lex xft\" ><span class=\"f\">lex=</span>JWSP/</span></div></div></div></div><div class=\"contnr c1  rtl  hl\" ><div class=\"lbl c1  hl\" ><span class=\"nd\">phrase:400091 </span> <span class=\"\"><span title=\"typ\">PP</span> <span title=\"function\">Time</span></span></div><div class=\"features\"><span class=\"function xft\" ><span class=\"f\">function=</span>Time</span></div><div class=\"children hor wrap rtl\"><div class=\"contnr c0 trm rtl  \" ><div class=\"lbl c0 trm \" ><span class=\"nd\">23715 </span> <span class=\"txtu hbo\">בַּ</span></div><div class=\"features\"><span class=\"lex xft\" ><span class=\"f\">lex=</span>B</span></div></div><div class=\"contnr c0 trm rtl  \" ><div class=\"lbl c0 trm \" ><span class=\"nd\">23716 </span></div><div class=\"features\"><span class=\"lex xft\" ><span class=\"f\">lex=</span>H</span></div></div><div class=\"contnr c0 trm rtl  \" ><div class=\"lbl c0 trm \" ><span class=\"nd\">23717 </span> <span class=\"txtu hbo\">יֹּ֣ום </span></div><div class=\"features\"><span class=\"lex xft\" ><span class=\"f\">lex=</span>JWM/</span></div></div><div class=\"contnr c0 trm rtl  \" ><div class=\"lbl c0 trm \" ><span class=\"nd\">23718 </span> <span class=\"txtu hbo\">הַ</span></div><div class=\"features\"><span class=\"lex xft\" ><span class=\"f\">lex=</span>H</span></div></div><div class=\"contnr c0 trm rtl  \" ><div class=\"lbl c0 trm \" ><span class=\"nd\">23719 </span> <span class=\"txtu hbo\">שְּׁלִישִׁ֔י </span></div><div class=\"features\"><span class=\"lex xft\" ><span class=\"f\">lex=</span>CLJCJ/</span></div></div></div></div></div></div></div>"
      ],
      "text/plain": [
       "<IPython.core.display.HTML object>"
      ]
     },
     "metadata": {},
     "output_type": "display_data"
    },
    {
     "data": {
      "text/html": [
       "<p><b>result</b> <i>13</i>"
      ],
      "text/plain": [
       "<IPython.core.display.HTML object>"
      ]
     },
     "metadata": {},
     "output_type": "display_data"
    },
    {
     "data": {
      "text/html": [
       "<div class=\"tfsechead rtl\"><span class=\"ltr\"><a target=\"_blank\" href=\"https://shebanq.ancient-data.org/hebrew/text?book=Genesis&amp;chapter=47&amp;verse=18&amp;version=2021&amp;mr=m&amp;qw=q&amp;tp=txt_p&amp;tr=hb&amp;wget=v&amp;qget=v&amp;nget=vt\" title=\"Show this on SHEBANQ\" sec=\"Genesis 47:18\">Genesis 47:18</a></span></div><div class=\"rtl children\"><div class=\"contnr c2  rtl  \" ><div class=\"lbl c2  \" ><span class=\"nd\">clause:308557 </span> <span class=\"\"><span title=\"typ\">Way0</span> <span title=\"rela\">NA</span></span></div><div class=\"children hor wrap rtl\"><div class=\"contnr c1  rtl  \" ><div class=\"lbl c1  \" ><span class=\"nd\">phrase:402214 </span> <span class=\"\"><span title=\"typ\">CP</span> <span title=\"function\">Conj</span></span></div><div class=\"features\"><span class=\"function xft\" ><span class=\"f\">function=</span>Conj</span></div><div class=\"children hor wrap rtl\"><div class=\"contnr c0 trm rtl  \" ><div class=\"lbl c0 trm \" ><span class=\"nd\">26949 </span> <span class=\"txtu hbo\">וַ</span></div><div class=\"features\"><span class=\"lex xft\" ><span class=\"f\">lex=</span>W</span></div></div></div></div><div class=\"contnr c1  rtl  \" ><div class=\"lbl c1  \" ><span class=\"nd\">phrase:402215 </span> <span class=\"\"><span title=\"typ\">VP</span> <span title=\"function\">Pred</span></span></div><div class=\"features\"><span class=\"function xft\" ><span class=\"f\">function=</span>Pred</span></div><div class=\"children hor wrap rtl\"><div class=\"contnr c0 trm rtl  hl\" ><div class=\"lbl c0 trm hl\" ><span class=\"nd\">26950 </span> <span class=\"txtu hbo\">יָּבֹ֨אוּ </span></div><div class=\"features\"><span class=\"lex xft\" ><span class=\"f\">lex=</span>BW>[</span></div></div></div></div><div class=\"contnr c1  rtl  hl\" ><div class=\"lbl c1  hl\" ><span class=\"nd\">phrase:402216 </span> <span class=\"\"><span title=\"typ\">PP</span> <span title=\"function\">Cmpl</span></span></div><div class=\"features\"><span class=\"function xft\" ><span class=\"f\">function=</span>Cmpl</span></div><div class=\"children hor wrap rtl\"><div class=\"contnr c0 trm rtl  hl\" ><div class=\"lbl c0 trm hl\" ><span class=\"nd\">26951 </span> <span class=\"txtu hbo\">אֵלָ֜יו </span></div><div class=\"features\"><span class=\"lex xft\" ><span class=\"f\">lex=</span>>L</span></div></div></div></div><div class=\"contnr c1  rtl  hl\" ><div class=\"lbl c1  hl\" ><span class=\"nd\">phrase:402217 </span> <span class=\"\"><span title=\"typ\">PP</span> <span title=\"function\">Time</span></span></div><div class=\"features\"><span class=\"function xft\" ><span class=\"f\">function=</span>Time</span></div><div class=\"children hor wrap rtl\"><div class=\"contnr c0 trm rtl  \" ><div class=\"lbl c0 trm \" ><span class=\"nd\">26952 </span> <span class=\"txtu hbo\">בַּ</span></div><div class=\"features\"><span class=\"lex xft\" ><span class=\"f\">lex=</span>B</span></div></div><div class=\"contnr c0 trm rtl  \" ><div class=\"lbl c0 trm \" ><span class=\"nd\">26953 </span></div><div class=\"features\"><span class=\"lex xft\" ><span class=\"f\">lex=</span>H</span></div></div><div class=\"contnr c0 trm rtl  \" ><div class=\"lbl c0 trm \" ><span class=\"nd\">26954 </span> <span class=\"txtu hbo\">שָּׁנָ֣ה </span></div><div class=\"features\"><span class=\"lex xft\" ><span class=\"f\">lex=</span>CNH/</span></div></div><div class=\"contnr c0 trm rtl  \" ><div class=\"lbl c0 trm \" ><span class=\"nd\">26955 </span> <span class=\"txtu hbo\">הַ</span></div><div class=\"features\"><span class=\"lex xft\" ><span class=\"f\">lex=</span>H</span></div></div><div class=\"contnr c0 trm rtl  \" ><div class=\"lbl c0 trm \" ><span class=\"nd\">26956 </span> <span class=\"txtu hbo\">שֵּׁנִ֗ית </span></div><div class=\"features\"><span class=\"lex xft\" ><span class=\"f\">lex=</span>CNJ/</span></div></div></div></div></div></div></div>"
      ],
      "text/plain": [
       "<IPython.core.display.HTML object>"
      ]
     },
     "metadata": {},
     "output_type": "display_data"
    },
    {
     "data": {
      "text/html": [
       "<p><b>result</b> <i>14</i>"
      ],
      "text/plain": [
       "<IPython.core.display.HTML object>"
      ]
     },
     "metadata": {},
     "output_type": "display_data"
    },
    {
     "data": {
      "text/html": [
       "<div class=\"tfsechead rtl\"><span class=\"ltr\"><a target=\"_blank\" href=\"https://shebanq.ancient-data.org/hebrew/text?book=Exodus&amp;chapter=7&amp;verse=15&amp;version=2021&amp;mr=m&amp;qw=q&amp;tp=txt_p&amp;tr=hb&amp;wget=v&amp;qget=v&amp;nget=vt\" title=\"Show this on SHEBANQ\" sec=\"Exodus 7:15\">Exodus 7:15</a></span></div><div class=\"rtl children\"><div class=\"contnr c2  rtl  \" ><div class=\"lbl c2  \" ><span class=\"nd\">clause:309654 </span> <span class=\"\"><span title=\"typ\">ZIm0</span> <span title=\"rela\">NA</span></span></div><div class=\"children hor wrap rtl\"><div class=\"contnr c1  rtl  \" ><div class=\"lbl c1  \" ><span class=\"nd\">phrase:405428 </span> <span class=\"\"><span title=\"typ\">VP</span> <span title=\"function\">Pred</span></span></div><div class=\"features\"><span class=\"function xft\" ><span class=\"f\">function=</span>Pred</span></div><div class=\"children hor wrap rtl\"><div class=\"contnr c0 trm rtl  hl\" ><div class=\"lbl c0 trm hl\" ><span class=\"nd\">32030 </span> <span class=\"txtu hbo\">לֵ֣ךְ </span></div><div class=\"features\"><span class=\"lex xft\" ><span class=\"f\">lex=</span>HLK[</span></div></div></div></div><div class=\"contnr c1  rtl  hl\" ><div class=\"lbl c1  hl\" ><span class=\"nd\">phrase:405429 </span> <span class=\"\"><span title=\"typ\">PP</span> <span title=\"function\">Cmpl</span></span></div><div class=\"features\"><span class=\"function xft\" ><span class=\"f\">function=</span>Cmpl</span></div><div class=\"children hor wrap rtl\"><div class=\"contnr c0 trm rtl  hl\" ><div class=\"lbl c0 trm hl\" ><span class=\"nd\">32031 </span> <span class=\"txtu hbo\">אֶל־</span></div><div class=\"features\"><span class=\"lex xft\" ><span class=\"f\">lex=</span>>L</span></div></div><div class=\"contnr c0 trm rtl  \" ><div class=\"lbl c0 trm \" ><span class=\"nd\">32032 </span> <span class=\"txtu hbo\">פַּרְעֹ֞ה </span></div><div class=\"features\"><span class=\"lex xft\" ><span class=\"f\">lex=</span>PR&lt;H/</span></div></div></div></div><div class=\"contnr c1  rtl  hl\" ><div class=\"lbl c1  hl\" ><span class=\"nd\">phrase:405430 </span> <span class=\"\"><span title=\"typ\">PP</span> <span title=\"function\">Time</span></span></div><div class=\"features\"><span class=\"function xft\" ><span class=\"f\">function=</span>Time</span></div><div class=\"children hor wrap rtl\"><div class=\"contnr c0 trm rtl  \" ><div class=\"lbl c0 trm \" ><span class=\"nd\">32033 </span> <span class=\"txtu hbo\">בַּ</span></div><div class=\"features\"><span class=\"lex xft\" ><span class=\"f\">lex=</span>B</span></div></div><div class=\"contnr c0 trm rtl  \" ><div class=\"lbl c0 trm \" ><span class=\"nd\">32034 </span></div><div class=\"features\"><span class=\"lex xft\" ><span class=\"f\">lex=</span>H</span></div></div><div class=\"contnr c0 trm rtl  \" ><div class=\"lbl c0 trm \" ><span class=\"nd\">32035 </span> <span class=\"txtu hbo\">בֹּ֗קֶר </span></div><div class=\"features\"><span class=\"lex xft\" ><span class=\"f\">lex=</span>BQR=/</span></div></div></div></div></div></div></div>"
      ],
      "text/plain": [
       "<IPython.core.display.HTML object>"
      ]
     },
     "metadata": {},
     "output_type": "display_data"
    },
    {
     "data": {
      "text/html": [
       "<p><b>result</b> <i>15</i>"
      ],
      "text/plain": [
       "<IPython.core.display.HTML object>"
      ]
     },
     "metadata": {},
     "output_type": "display_data"
    },
    {
     "data": {
      "text/html": [
       "<div class=\"tfsechead rtl\"><span class=\"ltr\"><a target=\"_blank\" href=\"https://shebanq.ancient-data.org/hebrew/text?book=Exodus&amp;chapter=14&amp;verse=20&amp;version=2021&amp;mr=m&amp;qw=q&amp;tp=txt_p&amp;tr=hb&amp;wget=v&amp;qget=v&amp;nget=vt\" title=\"Show this on SHEBANQ\" sec=\"Exodus 14:20\">Exodus 14:20</a></span></div><div class=\"rtl children\"><div class=\"contnr c2  rtl  \" ><div class=\"lbl c2  \" ><span class=\"nd\">clause:310501 </span> <span class=\"\"><span title=\"typ\">WxQX</span> <span title=\"rela\">NA</span></span></div><div class=\"children hor wrap rtl\"><div class=\"contnr c1  rtl  \" ><div class=\"lbl c1  \" ><span class=\"nd\">phrase:408086 </span> <span class=\"\"><span title=\"typ\">CP</span> <span title=\"function\">Conj</span></span></div><div class=\"features\"><span class=\"function xft\" ><span class=\"f\">function=</span>Conj</span></div><div class=\"children hor wrap rtl\"><div class=\"contnr c0 trm rtl  \" ><div class=\"lbl c0 trm \" ><span class=\"nd\">36640 </span> <span class=\"txtu hbo\">וְ</span></div><div class=\"features\"><span class=\"lex xft\" ><span class=\"f\">lex=</span>W</span></div></div></div></div><div class=\"contnr c1  rtl  \" ><div class=\"lbl c1  \" ><span class=\"nd\">phrase:408087 </span> <span class=\"\"><span title=\"typ\">NegP</span> <span title=\"function\">Nega</span></span></div><div class=\"features\"><span class=\"function xft\" ><span class=\"f\">function=</span>Nega</span></div><div class=\"children hor wrap rtl\"><div class=\"contnr c0 trm rtl  \" ><div class=\"lbl c0 trm \" ><span class=\"nd\">36641 </span> <span class=\"txtu hbo\">לֹא־</span></div><div class=\"features\"><span class=\"lex xft\" ><span class=\"f\">lex=</span>L></span></div></div></div></div><div class=\"contnr c1  rtl  \" ><div class=\"lbl c1  \" ><span class=\"nd\">phrase:408088 </span> <span class=\"\"><span title=\"typ\">VP</span> <span title=\"function\">Pred</span></span></div><div class=\"features\"><span class=\"function xft\" ><span class=\"f\">function=</span>Pred</span></div><div class=\"children hor wrap rtl\"><div class=\"contnr c0 trm rtl  hl\" ><div class=\"lbl c0 trm hl\" ><span class=\"nd\">36642 </span> <span class=\"txtu hbo\">קָרַ֥ב </span></div><div class=\"features\"><span class=\"lex xft\" ><span class=\"f\">lex=</span>QRB[</span></div></div></div></div><div class=\"contnr c1  rtl  \" ><div class=\"lbl c1  \" ><span class=\"nd\">phrase:408089 </span> <span class=\"\"><span title=\"typ\">DPrP</span> <span title=\"function\">Subj</span></span></div><div class=\"features\"><span class=\"function xft\" ><span class=\"f\">function=</span>Subj</span></div><div class=\"children hor wrap rtl\"><div class=\"contnr c0 trm rtl  \" ><div class=\"lbl c0 trm \" ><span class=\"nd\">36643 </span> <span class=\"txtu hbo\">זֶ֛ה </span></div><div class=\"features\"><span class=\"lex xft\" ><span class=\"f\">lex=</span>ZH</span></div></div></div></div><div class=\"contnr c1  rtl  hl\" ><div class=\"lbl c1  hl\" ><span class=\"nd\">phrase:408090 </span> <span class=\"\"><span title=\"typ\">PP</span> <span title=\"function\">Cmpl</span></span></div><div class=\"features\"><span class=\"function xft\" ><span class=\"f\">function=</span>Cmpl</span></div><div class=\"children hor wrap rtl\"><div class=\"contnr c0 trm rtl  hl\" ><div class=\"lbl c0 trm hl\" ><span class=\"nd\">36644 </span> <span class=\"txtu hbo\">אֶל־</span></div><div class=\"features\"><span class=\"lex xft\" ><span class=\"f\">lex=</span>>L</span></div></div><div class=\"contnr c0 trm rtl  \" ><div class=\"lbl c0 trm \" ><span class=\"nd\">36645 </span> <span class=\"txtu hbo\">זֶ֖ה </span></div><div class=\"features\"><span class=\"lex xft\" ><span class=\"f\">lex=</span>ZH</span></div></div></div></div><div class=\"contnr c1  rtl  hl\" ><div class=\"lbl c1  hl\" ><span class=\"nd\">phrase:408091 </span> <span class=\"\"><span title=\"typ\">NP</span> <span title=\"function\">Time</span></span></div><div class=\"features\"><span class=\"function xft\" ><span class=\"f\">function=</span>Time</span></div><div class=\"children hor wrap rtl\"><div class=\"contnr c0 trm rtl  \" ><div class=\"lbl c0 trm \" ><span class=\"nd\">36646 </span> <span class=\"txtu hbo\">כָּל־</span></div><div class=\"features\"><span class=\"lex xft\" ><span class=\"f\">lex=</span>KL/</span></div></div><div class=\"contnr c0 trm rtl  \" ><div class=\"lbl c0 trm \" ><span class=\"nd\">36647 </span> <span class=\"txtu hbo\">הַ</span></div><div class=\"features\"><span class=\"lex xft\" ><span class=\"f\">lex=</span>H</span></div></div><div class=\"contnr c0 trm rtl  \" ><div class=\"lbl c0 trm \" ><span class=\"nd\">36648 </span> <span class=\"txtu hbo\">לָּֽיְלָה׃ </span></div><div class=\"features\"><span class=\"lex xft\" ><span class=\"f\">lex=</span>LJLH/</span></div></div></div></div></div></div></div>"
      ],
      "text/plain": [
       "<IPython.core.display.HTML object>"
      ]
     },
     "metadata": {},
     "output_type": "display_data"
    },
    {
     "data": {
      "text/html": [
       "<p><b>result</b> <i>16</i>"
      ],
      "text/plain": [
       "<IPython.core.display.HTML object>"
      ]
     },
     "metadata": {},
     "output_type": "display_data"
    },
    {
     "data": {
      "text/html": [
       "<div class=\"tfsechead rtl\"><span class=\"ltr\"><a target=\"_blank\" href=\"https://shebanq.ancient-data.org/hebrew/text?book=Exodus&amp;chapter=16&amp;verse=1&amp;version=2021&amp;mr=m&amp;qw=q&amp;tp=txt_p&amp;tr=hb&amp;wget=v&amp;qget=v&amp;nget=vt\" title=\"Show this on SHEBANQ\" sec=\"Exodus 16:1\">Exodus 16:1</a></span></div><div class=\"rtl children\"><div class=\"contnr c2  rtl l \" ><div class=\"lbl c2  \" ><span class=\"nd\">clause:310652 </span> <span class=\"\"><span title=\"typ\">WayX</span> <span title=\"rela\">NA</span></span></div><div class=\"children hor wrap rtl\"><div class=\"contnr c1  rtl  \" ><div class=\"lbl c1  \" ><span class=\"nd\">phrase:408529 </span> <span class=\"\"><span title=\"typ\">CP</span> <span title=\"function\">Conj</span></span></div><div class=\"features\"><span class=\"function xft\" ><span class=\"f\">function=</span>Conj</span></div><div class=\"children hor wrap rtl\"><div class=\"contnr c0 trm rtl  \" ><div class=\"lbl c0 trm \" ><span class=\"nd\">37352 </span> <span class=\"txtu hbo\">וַ</span></div><div class=\"features\"><span class=\"lex xft\" ><span class=\"f\">lex=</span>W</span></div></div></div></div><div class=\"contnr c1  rtl  \" ><div class=\"lbl c1  \" ><span class=\"nd\">phrase:408530 </span> <span class=\"\"><span title=\"typ\">VP</span> <span title=\"function\">Pred</span></span></div><div class=\"features\"><span class=\"function xft\" ><span class=\"f\">function=</span>Pred</span></div><div class=\"children hor wrap rtl\"><div class=\"contnr c0 trm rtl  hl\" ><div class=\"lbl c0 trm hl\" ><span class=\"nd\">37353 </span> <span class=\"txtu hbo\">יָּבֹ֜אוּ </span></div><div class=\"features\"><span class=\"lex xft\" ><span class=\"f\">lex=</span>BW>[</span></div></div></div></div><div class=\"contnr c1  rtl  \" ><div class=\"lbl c1  \" ><span class=\"nd\">phrase:408531 </span> <span class=\"\"><span title=\"typ\">NP</span> <span title=\"function\">Subj</span></span></div><div class=\"features\"><span class=\"function xft\" ><span class=\"f\">function=</span>Subj</span></div><div class=\"children hor wrap rtl\"><div class=\"contnr c0 trm rtl  \" ><div class=\"lbl c0 trm \" ><span class=\"nd\">37354 </span> <span class=\"txtu hbo\">כָּל־</span></div><div class=\"features\"><span class=\"lex xft\" ><span class=\"f\">lex=</span>KL/</span></div></div><div class=\"contnr c0 trm rtl  \" ><div class=\"lbl c0 trm \" ><span class=\"nd\">37355 </span> <span class=\"txtu hbo\">עֲדַ֤ת </span></div><div class=\"features\"><span class=\"lex xft\" ><span class=\"f\">lex=</span>&lt;DH/</span></div></div><div class=\"contnr c0 trm rtl  \" ><div class=\"lbl c0 trm \" ><span class=\"nd\">37356 </span> <span class=\"txtu hbo\">בְּנֵֽי־</span></div><div class=\"features\"><span class=\"lex xft\" ><span class=\"f\">lex=</span>BN/</span></div></div><div class=\"contnr c0 trm rtl  \" ><div class=\"lbl c0 trm \" ><span class=\"nd\">37357 </span> <span class=\"txtu hbo\">יִשְׂרָאֵל֙ </span></div><div class=\"features\"><span class=\"lex xft\" ><span class=\"f\">lex=</span>JFR>L/</span></div></div></div></div><div class=\"contnr c1  rtl  hl\" ><div class=\"lbl c1  hl\" ><span class=\"nd\">phrase:408532 </span> <span class=\"\"><span title=\"typ\">PP</span> <span title=\"function\">Cmpl</span></span></div><div class=\"features\"><span class=\"function xft\" ><span class=\"f\">function=</span>Cmpl</span></div><div class=\"children hor wrap rtl\"><div class=\"contnr c0 trm rtl  hl\" ><div class=\"lbl c0 trm hl\" ><span class=\"nd\">37358 </span> <span class=\"txtu hbo\">אֶל־</span></div><div class=\"features\"><span class=\"lex xft\" ><span class=\"f\">lex=</span>>L</span></div></div><div class=\"contnr c0 trm rtl  \" ><div class=\"lbl c0 trm \" ><span class=\"nd\">37359 </span> <span class=\"txtu hbo\">מִדְבַּר־</span></div><div class=\"features\"><span class=\"lex xft\" ><span class=\"f\">lex=</span>MDBR/</span></div></div><div class=\"contnr c0 trm rtl  \" ><div class=\"lbl c0 trm \" ><span class=\"nd\">37360 </span> <span class=\"txtu hbo\">סִ֔ין </span></div><div class=\"features\"><span class=\"lex xft\" ><span class=\"f\">lex=</span>SJN/</span></div></div></div></div></div></div><div class=\"contnr c2  rtl r \" ><div class=\"lbl c2  \" ><span class=\"nd\">clause:310652 </span> <span class=\"\"><span title=\"typ\">WayX</span> <span title=\"rela\">NA</span></span></div><div class=\"children hor wrap rtl\"><div class=\"contnr c1  rtl  hl\" ><div class=\"lbl c1  hl\" ><span class=\"nd\">phrase:408535 </span> <span class=\"\"><span title=\"typ\">PP</span> <span title=\"function\">Time</span></span></div><div class=\"features\"><span class=\"function xft\" ><span class=\"f\">function=</span>Time</span></div><div class=\"children hor wrap rtl\"><div class=\"contnr c0 trm rtl  \" ><div class=\"lbl c0 trm \" ><span class=\"nd\">37367 </span> <span class=\"txtu hbo\">בַּ</span></div><div class=\"features\"><span class=\"lex xft\" ><span class=\"f\">lex=</span>B</span></div></div><div class=\"contnr c0 trm rtl  \" ><div class=\"lbl c0 trm \" ><span class=\"nd\">37368 </span> <span class=\"txtu hbo\">חֲמִשָּׁ֨ה </span></div><div class=\"features\"><span class=\"lex xft\" ><span class=\"f\">lex=</span>XMC/</span></div></div><div class=\"contnr c0 trm rtl  \" ><div class=\"lbl c0 trm \" ><span class=\"nd\">37369 </span> <span class=\"txtu hbo\">עָשָׂ֥ר </span></div><div class=\"features\"><span class=\"lex xft\" ><span class=\"f\">lex=</span>&lt;FR/</span></div></div><div class=\"contnr c0 trm rtl  \" ><div class=\"lbl c0 trm \" ><span class=\"nd\">37370 </span> <span class=\"txtu hbo\">יֹום֙ </span></div><div class=\"features\"><span class=\"lex xft\" ><span class=\"f\">lex=</span>JWM/</span></div></div><div class=\"contnr c0 trm rtl  \" ><div class=\"lbl c0 trm \" ><span class=\"nd\">37371 </span> <span class=\"txtu hbo\">לַ</span></div><div class=\"features\"><span class=\"lex xft\" ><span class=\"f\">lex=</span>L</span></div></div><div class=\"contnr c0 trm rtl  \" ><div class=\"lbl c0 trm \" ><span class=\"nd\">37372 </span></div><div class=\"features\"><span class=\"lex xft\" ><span class=\"f\">lex=</span>H</span></div></div><div class=\"contnr c0 trm rtl  \" ><div class=\"lbl c0 trm \" ><span class=\"nd\">37373 </span> <span class=\"txtu hbo\">חֹ֣דֶשׁ </span></div><div class=\"features\"><span class=\"lex xft\" ><span class=\"f\">lex=</span>XDC=/</span></div></div><div class=\"contnr c0 trm rtl  \" ><div class=\"lbl c0 trm \" ><span class=\"nd\">37374 </span> <span class=\"txtu hbo\">הַ</span></div><div class=\"features\"><span class=\"lex xft\" ><span class=\"f\">lex=</span>H</span></div></div><div class=\"contnr c0 trm rtl  \" ><div class=\"lbl c0 trm \" ><span class=\"nd\">37375 </span> <span class=\"txtu hbo\">שֵּׁנִ֔י </span></div><div class=\"features\"><span class=\"lex xft\" ><span class=\"f\">lex=</span>CNJ/</span></div></div></div></div></div></div></div>"
      ],
      "text/plain": [
       "<IPython.core.display.HTML object>"
      ]
     },
     "metadata": {},
     "output_type": "display_data"
    },
    {
     "data": {
      "text/html": [
       "<p><b>result</b> <i>17</i>"
      ],
      "text/plain": [
       "<IPython.core.display.HTML object>"
      ]
     },
     "metadata": {},
     "output_type": "display_data"
    },
    {
     "data": {
      "text/html": [
       "<div class=\"tfsechead rtl\"><span class=\"ltr\"><a target=\"_blank\" href=\"https://shebanq.ancient-data.org/hebrew/text?book=Exodus&amp;chapter=36&amp;verse=3&amp;version=2021&amp;mr=m&amp;qw=q&amp;tp=txt_p&amp;tr=hb&amp;wget=v&amp;qget=v&amp;nget=vt\" title=\"Show this on SHEBANQ\" sec=\"Exodus 36:3\">Exodus 36:3</a></span></div><div class=\"rtl children\"><div class=\"contnr c2  rtl  \" ><div class=\"lbl c2  \" ><span class=\"nd\">clause:312819 </span> <span class=\"\"><span title=\"typ\">WXQt</span> <span title=\"rela\">NA</span></span></div><div class=\"children hor wrap rtl\"><div class=\"contnr c1  rtl  \" ><div class=\"lbl c1  \" ><span class=\"nd\">phrase:415157 </span> <span class=\"\"><span title=\"typ\">CP</span> <span title=\"function\">Conj</span></span></div><div class=\"features\"><span class=\"function xft\" ><span class=\"f\">function=</span>Conj</span></div><div class=\"children hor wrap rtl\"><div class=\"contnr c0 trm rtl  \" ><div class=\"lbl c0 trm \" ><span class=\"nd\">49249 </span> <span class=\"txtu hbo\">וְ֠</span></div><div class=\"features\"><span class=\"lex xft\" ><span class=\"f\">lex=</span>W</span></div></div></div></div><div class=\"contnr c1  rtl  \" ><div class=\"lbl c1  \" ><span class=\"nd\">phrase:415158 </span> <span class=\"\"><span title=\"typ\">PPrP</span> <span title=\"function\">Subj</span></span></div><div class=\"features\"><span class=\"function xft\" ><span class=\"f\">function=</span>Subj</span></div><div class=\"children hor wrap rtl\"><div class=\"contnr c0 trm rtl  \" ><div class=\"lbl c0 trm \" ><span class=\"nd\">49250 </span> <span class=\"txtu hbo\">הֵם </span></div><div class=\"features\"><span class=\"lex xft\" ><span class=\"f\">lex=</span>HM</span></div></div></div></div><div class=\"contnr c1  rtl  \" ><div class=\"lbl c1  \" ><span class=\"nd\">phrase:415159 </span> <span class=\"\"><span title=\"typ\">VP</span> <span title=\"function\">Pred</span></span></div><div class=\"features\"><span class=\"function xft\" ><span class=\"f\">function=</span>Pred</span></div><div class=\"children hor wrap rtl\"><div class=\"contnr c0 trm rtl  hl\" ><div class=\"lbl c0 trm hl\" ><span class=\"nd\">49251 </span> <span class=\"txtu hbo\">הֵבִ֨יאוּ </span></div><div class=\"features\"><span class=\"lex xft\" ><span class=\"f\">lex=</span>BW>[</span></div></div></div></div><div class=\"contnr c1  rtl  hl\" ><div class=\"lbl c1  hl\" ><span class=\"nd\">phrase:415160 </span> <span class=\"\"><span title=\"typ\">PP</span> <span title=\"function\">Cmpl</span></span></div><div class=\"features\"><span class=\"function xft\" ><span class=\"f\">function=</span>Cmpl</span></div><div class=\"children hor wrap rtl\"><div class=\"contnr c0 trm rtl  hl\" ><div class=\"lbl c0 trm hl\" ><span class=\"nd\">49252 </span> <span class=\"txtu hbo\">אֵלָ֥יו </span></div><div class=\"features\"><span class=\"lex xft\" ><span class=\"f\">lex=</span>>L</span></div></div></div></div><div class=\"contnr c1  rtl  \" ><div class=\"lbl c1  \" ><span class=\"nd\">phrase:415161 </span> <span class=\"\"><span title=\"typ\">AdvP</span> <span title=\"function\">Modi</span></span></div><div class=\"features\"><span class=\"function xft\" ><span class=\"f\">function=</span>Modi</span></div><div class=\"children hor wrap rtl\"><div class=\"contnr c0 trm rtl  \" ><div class=\"lbl c0 trm \" ><span class=\"nd\">49253 </span> <span class=\"txtu hbo\">עֹ֛וד </span></div><div class=\"features\"><span class=\"lex xft\" ><span class=\"f\">lex=</span>&lt;WD/</span></div></div></div></div><div class=\"contnr c1  rtl  \" ><div class=\"lbl c1  \" ><span class=\"nd\">phrase:415162 </span> <span class=\"\"><span title=\"typ\">NP</span> <span title=\"function\">Objc</span></span></div><div class=\"features\"><span class=\"function xft\" ><span class=\"f\">function=</span>Objc</span></div><div class=\"children hor wrap rtl\"><div class=\"contnr c0 trm rtl  \" ><div class=\"lbl c0 trm \" ><span class=\"nd\">49254 </span> <span class=\"txtu hbo\">נְדָבָ֖ה </span></div><div class=\"features\"><span class=\"lex xft\" ><span class=\"f\">lex=</span>NDBH/</span></div></div></div></div><div class=\"contnr c1  rtl  hl\" ><div class=\"lbl c1  hl\" ><span class=\"nd\">phrase:415163 </span> <span class=\"\"><span title=\"typ\">PP</span> <span title=\"function\">Time</span></span></div><div class=\"features\"><span class=\"function xft\" ><span class=\"f\">function=</span>Time</span></div><div class=\"children hor wrap rtl\"><div class=\"contnr c0 trm rtl  \" ><div class=\"lbl c0 trm \" ><span class=\"nd\">49255 </span> <span class=\"txtu hbo\">בַּ</span></div><div class=\"features\"><span class=\"lex xft\" ><span class=\"f\">lex=</span>B</span></div></div><div class=\"contnr c0 trm rtl  \" ><div class=\"lbl c0 trm \" ><span class=\"nd\">49256 </span></div><div class=\"features\"><span class=\"lex xft\" ><span class=\"f\">lex=</span>H</span></div></div><div class=\"contnr c0 trm rtl  \" ><div class=\"lbl c0 trm \" ><span class=\"nd\">49257 </span> <span class=\"txtu hbo\">בֹּ֥קֶר </span></div><div class=\"features\"><span class=\"lex xft\" ><span class=\"f\">lex=</span>BQR=/</span></div></div><div class=\"contnr c0 trm rtl  \" ><div class=\"lbl c0 trm \" ><span class=\"nd\">49258 </span> <span class=\"txtu hbo\">בַּ</span></div><div class=\"features\"><span class=\"lex xft\" ><span class=\"f\">lex=</span>B</span></div></div><div class=\"contnr c0 trm rtl  \" ><div class=\"lbl c0 trm \" ><span class=\"nd\">49259 </span></div><div class=\"features\"><span class=\"lex xft\" ><span class=\"f\">lex=</span>H</span></div></div><div class=\"contnr c0 trm rtl  \" ><div class=\"lbl c0 trm \" ><span class=\"nd\">49260 </span> <span class=\"txtu hbo\">בֹּֽקֶר׃ </span></div><div class=\"features\"><span class=\"lex xft\" ><span class=\"f\">lex=</span>BQR=/</span></div></div></div></div></div></div></div>"
      ],
      "text/plain": [
       "<IPython.core.display.HTML object>"
      ]
     },
     "metadata": {},
     "output_type": "display_data"
    },
    {
     "data": {
      "text/html": [
       "<p><b>result</b> <i>18</i>"
      ],
      "text/plain": [
       "<IPython.core.display.HTML object>"
      ]
     },
     "metadata": {},
     "output_type": "display_data"
    },
    {
     "data": {
      "text/html": [
       "<div class=\"tfsechead rtl\"><span class=\"ltr\"><a target=\"_blank\" href=\"https://shebanq.ancient-data.org/hebrew/text?book=Leviticus&amp;chapter=14&amp;verse=8&amp;version=2021&amp;mr=m&amp;qw=q&amp;tp=txt_p&amp;tr=hb&amp;wget=v&amp;qget=v&amp;nget=vt\" title=\"Show this on SHEBANQ\" sec=\"Leviticus 14:8\">Leviticus 14:8</a></span></div><div class=\"rtl children\"><div class=\"contnr c2  rtl  \" ><div class=\"lbl c2  \" ><span class=\"nd\">clause:314651 </span> <span class=\"\"><span title=\"typ\">WxY0</span> <span title=\"rela\">NA</span></span></div><div class=\"children hor wrap rtl\"><div class=\"contnr c1  rtl  \" ><div class=\"lbl c1  \" ><span class=\"nd\">phrase:420829 </span> <span class=\"\"><span title=\"typ\">CP</span> <span title=\"function\">Conj</span></span></div><div class=\"features\"><span class=\"function xft\" ><span class=\"f\">function=</span>Conj</span></div><div class=\"children hor wrap rtl\"><div class=\"contnr c0 trm rtl  \" ><div class=\"lbl c0 trm \" ><span class=\"nd\">60373 </span> <span class=\"txtu hbo\">וְ</span></div><div class=\"features\"><span class=\"lex xft\" ><span class=\"f\">lex=</span>W</span></div></div></div></div><div class=\"contnr c1  rtl  hl\" ><div class=\"lbl c1  hl\" ><span class=\"nd\">phrase:420830 </span> <span class=\"\"><span title=\"typ\">AdvP</span> <span title=\"function\">Time</span></span></div><div class=\"features\"><span class=\"function xft\" ><span class=\"f\">function=</span>Time</span></div><div class=\"children hor wrap rtl\"><div class=\"contnr c0 trm rtl  \" ><div class=\"lbl c0 trm \" ><span class=\"nd\">60374 </span> <span class=\"txtu hbo\">אַחַ֖ר </span></div><div class=\"features\"><span class=\"lex xft\" ><span class=\"f\">lex=</span>>XR/</span></div></div></div></div><div class=\"contnr c1  rtl  \" ><div class=\"lbl c1  \" ><span class=\"nd\">phrase:420831 </span> <span class=\"\"><span title=\"typ\">VP</span> <span title=\"function\">Pred</span></span></div><div class=\"features\"><span class=\"function xft\" ><span class=\"f\">function=</span>Pred</span></div><div class=\"children hor wrap rtl\"><div class=\"contnr c0 trm rtl  hl\" ><div class=\"lbl c0 trm hl\" ><span class=\"nd\">60375 </span> <span class=\"txtu hbo\">יָבֹ֣וא </span></div><div class=\"features\"><span class=\"lex xft\" ><span class=\"f\">lex=</span>BW>[</span></div></div></div></div><div class=\"contnr c1  rtl  hl\" ><div class=\"lbl c1  hl\" ><span class=\"nd\">phrase:420832 </span> <span class=\"\"><span title=\"typ\">PP</span> <span title=\"function\">Cmpl</span></span></div><div class=\"features\"><span class=\"function xft\" ><span class=\"f\">function=</span>Cmpl</span></div><div class=\"children hor wrap rtl\"><div class=\"contnr c0 trm rtl  hl\" ><div class=\"lbl c0 trm hl\" ><span class=\"nd\">60376 </span> <span class=\"txtu hbo\">אֶל־</span></div><div class=\"features\"><span class=\"lex xft\" ><span class=\"f\">lex=</span>>L</span></div></div><div class=\"contnr c0 trm rtl  \" ><div class=\"lbl c0 trm \" ><span class=\"nd\">60377 </span> <span class=\"txtu hbo\">הַֽ</span></div><div class=\"features\"><span class=\"lex xft\" ><span class=\"f\">lex=</span>H</span></div></div><div class=\"contnr c0 trm rtl  \" ><div class=\"lbl c0 trm \" ><span class=\"nd\">60378 </span> <span class=\"txtu hbo\">מַּחֲנֶ֑ה </span></div><div class=\"features\"><span class=\"lex xft\" ><span class=\"f\">lex=</span>MXNH/</span></div></div></div></div></div></div></div>"
      ],
      "text/plain": [
       "<IPython.core.display.HTML object>"
      ]
     },
     "metadata": {},
     "output_type": "display_data"
    },
    {
     "data": {
      "text/html": [
       "<p><b>result</b> <i>19</i>"
      ],
      "text/plain": [
       "<IPython.core.display.HTML object>"
      ]
     },
     "metadata": {},
     "output_type": "display_data"
    },
    {
     "data": {
      "text/html": [
       "<div class=\"tfsechead rtl\"><span class=\"ltr\"><a target=\"_blank\" href=\"https://shebanq.ancient-data.org/hebrew/text?book=Leviticus&amp;chapter=14&amp;verse=23&amp;version=2021&amp;mr=m&amp;qw=q&amp;tp=txt_p&amp;tr=hb&amp;wget=v&amp;qget=v&amp;nget=vt\" title=\"Show this on SHEBANQ\" sec=\"Leviticus 14:23\">Leviticus 14:23</a></span></div><div class=\"rtl children\"><div class=\"contnr c2  rtl  \" ><div class=\"lbl c2  \" ><span class=\"nd\">clause:314701 </span> <span class=\"\"><span title=\"typ\">WQt0</span> <span title=\"rela\">NA</span></span></div><div class=\"children hor wrap rtl\"><div class=\"contnr c1  rtl  \" ><div class=\"lbl c1  \" ><span class=\"nd\">phrase:421000 </span> <span class=\"\"><span title=\"typ\">CP</span> <span title=\"function\">Conj</span></span></div><div class=\"features\"><span class=\"function xft\" ><span class=\"f\">function=</span>Conj</span></div><div class=\"children hor wrap rtl\"><div class=\"contnr c0 trm rtl  \" ><div class=\"lbl c0 trm \" ><span class=\"nd\">60754 </span> <span class=\"txtu hbo\">וְ</span></div><div class=\"features\"><span class=\"lex xft\" ><span class=\"f\">lex=</span>W</span></div></div></div></div><div class=\"contnr c1  rtl  \" ><div class=\"lbl c1  \" ><span class=\"nd\">phrase:421001 </span> <span class=\"\"><span title=\"typ\">VP</span> <span title=\"function\">Pred</span></span></div><div class=\"features\"><span class=\"function xft\" ><span class=\"f\">function=</span>Pred</span></div><div class=\"children hor wrap rtl\"><div class=\"contnr c0 trm rtl  hl\" ><div class=\"lbl c0 trm hl\" ><span class=\"nd\">60755 </span> <span class=\"txtu hbo\">הֵבִ֨יא </span></div><div class=\"features\"><span class=\"lex xft\" ><span class=\"f\">lex=</span>BW>[</span></div></div></div></div><div class=\"contnr c1  rtl  \" ><div class=\"lbl c1  \" ><span class=\"nd\">phrase:421002 </span> <span class=\"\"><span title=\"typ\">PP</span> <span title=\"function\">Objc</span></span></div><div class=\"features\"><span class=\"function xft\" ><span class=\"f\">function=</span>Objc</span></div><div class=\"children hor wrap rtl\"><div class=\"contnr c0 trm rtl  \" ><div class=\"lbl c0 trm \" ><span class=\"nd\">60756 </span> <span class=\"txtu hbo\">אֹתָ֜ם </span></div><div class=\"features\"><span class=\"lex xft\" ><span class=\"f\">lex=</span>>T</span></div></div></div></div><div class=\"contnr c1  rtl  hl\" ><div class=\"lbl c1  hl\" ><span class=\"nd\">phrase:421003 </span> <span class=\"\"><span title=\"typ\">PP</span> <span title=\"function\">Time</span></span></div><div class=\"features\"><span class=\"function xft\" ><span class=\"f\">function=</span>Time</span></div><div class=\"children hor wrap rtl\"><div class=\"contnr c0 trm rtl  \" ><div class=\"lbl c0 trm \" ><span class=\"nd\">60757 </span> <span class=\"txtu hbo\">בַּ</span></div><div class=\"features\"><span class=\"lex xft\" ><span class=\"f\">lex=</span>B</span></div></div><div class=\"contnr c0 trm rtl  \" ><div class=\"lbl c0 trm \" ><span class=\"nd\">60758 </span></div><div class=\"features\"><span class=\"lex xft\" ><span class=\"f\">lex=</span>H</span></div></div><div class=\"contnr c0 trm rtl  \" ><div class=\"lbl c0 trm \" ><span class=\"nd\">60759 </span> <span class=\"txtu hbo\">יֹּ֧ום </span></div><div class=\"features\"><span class=\"lex xft\" ><span class=\"f\">lex=</span>JWM/</span></div></div><div class=\"contnr c0 trm rtl  \" ><div class=\"lbl c0 trm \" ><span class=\"nd\">60760 </span> <span class=\"txtu hbo\">הַ</span></div><div class=\"features\"><span class=\"lex xft\" ><span class=\"f\">lex=</span>H</span></div></div><div class=\"contnr c0 trm rtl  \" ><div class=\"lbl c0 trm \" ><span class=\"nd\">60761 </span> <span class=\"txtu hbo\">שְּׁמִינִ֛י </span></div><div class=\"features\"><span class=\"lex xft\" ><span class=\"f\">lex=</span>CMJNJ/</span></div></div></div></div><div class=\"contnr c1  rtl  \" ><div class=\"lbl c1  \" ><span class=\"nd\">phrase:421004 </span> <span class=\"\"><span title=\"typ\">PP</span> <span title=\"function\">Adju</span></span></div><div class=\"features\"><span class=\"function xft\" ><span class=\"f\">function=</span>Adju</span></div><div class=\"children hor wrap rtl\"><div class=\"contnr c0 trm rtl  \" ><div class=\"lbl c0 trm \" ><span class=\"nd\">60762 </span> <span class=\"txtu hbo\">לְ</span></div><div class=\"features\"><span class=\"lex xft\" ><span class=\"f\">lex=</span>L</span></div></div><div class=\"contnr c0 trm rtl  \" ><div class=\"lbl c0 trm \" ><span class=\"nd\">60763 </span> <span class=\"txtu hbo\">טָהֳרָתֹ֖ו </span></div><div class=\"features\"><span class=\"lex xft\" ><span class=\"f\">lex=</span>VHRH/</span></div></div></div></div><div class=\"contnr c1  rtl  hl\" ><div class=\"lbl c1  hl\" ><span class=\"nd\">phrase:421005 </span> <span class=\"\"><span title=\"typ\">PP</span> <span title=\"function\">Cmpl</span></span></div><div class=\"features\"><span class=\"function xft\" ><span class=\"f\">function=</span>Cmpl</span></div><div class=\"children hor wrap rtl\"><div class=\"contnr c0 trm rtl  hl\" ><div class=\"lbl c0 trm hl\" ><span class=\"nd\">60764 </span> <span class=\"txtu hbo\">אֶל־</span></div><div class=\"features\"><span class=\"lex xft\" ><span class=\"f\">lex=</span>>L</span></div></div><div class=\"contnr c0 trm rtl  \" ><div class=\"lbl c0 trm \" ><span class=\"nd\">60765 </span> <span class=\"txtu hbo\">הַ</span></div><div class=\"features\"><span class=\"lex xft\" ><span class=\"f\">lex=</span>H</span></div></div><div class=\"contnr c0 trm rtl  \" ><div class=\"lbl c0 trm \" ><span class=\"nd\">60766 </span> <span class=\"txtu hbo\">כֹּהֵ֑ן </span></div><div class=\"features\"><span class=\"lex xft\" ><span class=\"f\">lex=</span>KHN/</span></div></div></div></div><div class=\"contnr c1  rtl  \" ><div class=\"lbl c1  \" ><span class=\"nd\">phrase:421006 </span> <span class=\"\"><span title=\"typ\">PP</span> <span title=\"function\">Loca</span></span></div><div class=\"features\"><span class=\"function xft\" ><span class=\"f\">function=</span>Loca</span></div><div class=\"children hor wrap rtl\"><div class=\"contnr c0 trm rtl  \" ><div class=\"lbl c0 trm \" ><span class=\"nd\">60767 </span> <span class=\"txtu hbo\">אֶל־</span></div><div class=\"features\"><span class=\"lex xft\" ><span class=\"f\">lex=</span>>L</span></div></div><div class=\"contnr c0 trm rtl  \" ><div class=\"lbl c0 trm \" ><span class=\"nd\">60768 </span> <span class=\"txtu hbo\">פֶּ֥תַח </span></div><div class=\"features\"><span class=\"lex xft\" ><span class=\"f\">lex=</span>PTX/</span></div></div><div class=\"contnr c0 trm rtl  \" ><div class=\"lbl c0 trm \" ><span class=\"nd\">60769 </span> <span class=\"txtu hbo\">אֹֽהֶל־</span></div><div class=\"features\"><span class=\"lex xft\" ><span class=\"f\">lex=</span>>HL/</span></div></div><div class=\"contnr c0 trm rtl  \" ><div class=\"lbl c0 trm \" ><span class=\"nd\">60770 </span> <span class=\"txtu hbo\">מֹועֵ֖ד </span></div><div class=\"features\"><span class=\"lex xft\" ><span class=\"f\">lex=</span>MW&lt;D/</span></div></div></div></div><div class=\"contnr c1  rtl  \" ><div class=\"lbl c1  \" ><span class=\"nd\">phrase:421007 </span> <span class=\"\"><span title=\"typ\">PP</span> <span title=\"function\">Adju</span></span></div><div class=\"features\"><span class=\"function xft\" ><span class=\"f\">function=</span>Adju</span></div><div class=\"children hor wrap rtl\"><div class=\"contnr c0 trm rtl  \" ><div class=\"lbl c0 trm \" ><span class=\"nd\">60771 </span> <span class=\"txtu hbo\">לִ</span></div><div class=\"features\"><span class=\"lex xft\" ><span class=\"f\">lex=</span>L</span></div></div><div class=\"contnr c0 trm rtl  \" ><div class=\"lbl c0 trm \" ><span class=\"nd\">60772 </span> <span class=\"txtu hbo\">פְנֵ֥י </span></div><div class=\"features\"><span class=\"lex xft\" ><span class=\"f\">lex=</span>PNH/</span></div></div><div class=\"contnr c0 trm rtl  \" ><div class=\"lbl c0 trm \" ><span class=\"nd\">60773 </span> <span class=\"txtu hbo\">יְהוָֽה׃ </span></div><div class=\"features\"><span class=\"lex xft\" ><span class=\"f\">lex=</span>JHWH/</span></div></div></div></div></div></div></div>"
      ],
      "text/plain": [
       "<IPython.core.display.HTML object>"
      ]
     },
     "metadata": {},
     "output_type": "display_data"
    },
    {
     "data": {
      "text/html": [
       "<p><b>result</b> <i>20</i>"
      ],
      "text/plain": [
       "<IPython.core.display.HTML object>"
      ]
     },
     "metadata": {},
     "output_type": "display_data"
    },
    {
     "data": {
      "text/html": [
       "<div class=\"tfsechead rtl\"><span class=\"ltr\"><a target=\"_blank\" href=\"https://shebanq.ancient-data.org/hebrew/text?book=Leviticus&amp;chapter=14&amp;verse=46&amp;version=2021&amp;mr=m&amp;qw=q&amp;tp=txt_p&amp;tr=hb&amp;wget=v&amp;qget=v&amp;nget=vt\" title=\"Show this on SHEBANQ\" sec=\"Leviticus 14:46\">Leviticus 14:46</a></span></div><div class=\"rtl children\"><div class=\"contnr c2  rtl  \" ><div class=\"lbl c2  \" ><span class=\"nd\">clause:314775 </span> <span class=\"\"><span title=\"typ\">Ptcp</span> <span title=\"rela\">Subj</span></span></div><div class=\"children hor wrap rtl\"><div class=\"contnr c1  rtl  \" ><div class=\"lbl c1  \" ><span class=\"nd\">phrase:421247 </span> <span class=\"\"><span title=\"typ\">CP</span> <span title=\"function\">Rela</span></span></div><div class=\"features\"><span class=\"function xft\" ><span class=\"f\">function=</span>Rela</span></div><div class=\"children hor wrap rtl\"><div class=\"contnr c0 trm rtl  \" ><div class=\"lbl c0 trm \" ><span class=\"nd\">61266 </span> <span class=\"txtu hbo\">הַ</span></div><div class=\"features\"><span class=\"lex xft\" ><span class=\"f\">lex=</span>H</span></div></div></div></div><div class=\"contnr c1  rtl  \" ><div class=\"lbl c1  \" ><span class=\"nd\">phrase:421248 </span> <span class=\"\"><span title=\"typ\">VP</span> <span title=\"function\">PreC</span></span></div><div class=\"features\"><span class=\"function xft\" ><span class=\"f\">function=</span>PreC</span></div><div class=\"children hor wrap rtl\"><div class=\"contnr c0 trm rtl  hl\" ><div class=\"lbl c0 trm hl\" ><span class=\"nd\">61267 </span> <span class=\"txtu hbo\">בָּא֙ </span></div><div class=\"features\"><span class=\"lex xft\" ><span class=\"f\">lex=</span>BW>[</span></div></div></div></div><div class=\"contnr c1  rtl  hl\" ><div class=\"lbl c1  hl\" ><span class=\"nd\">phrase:421249 </span> <span class=\"\"><span title=\"typ\">PP</span> <span title=\"function\">Cmpl</span></span></div><div class=\"features\"><span class=\"function xft\" ><span class=\"f\">function=</span>Cmpl</span></div><div class=\"children hor wrap rtl\"><div class=\"contnr c0 trm rtl  hl\" ><div class=\"lbl c0 trm hl\" ><span class=\"nd\">61268 </span> <span class=\"txtu hbo\">אֶל־</span></div><div class=\"features\"><span class=\"lex xft\" ><span class=\"f\">lex=</span>>L</span></div></div><div class=\"contnr c0 trm rtl  \" ><div class=\"lbl c0 trm \" ><span class=\"nd\">61269 </span> <span class=\"txtu hbo\">הַ</span></div><div class=\"features\"><span class=\"lex xft\" ><span class=\"f\">lex=</span>H</span></div></div><div class=\"contnr c0 trm rtl  \" ><div class=\"lbl c0 trm \" ><span class=\"nd\">61270 </span> <span class=\"txtu hbo\">בַּ֔יִת </span></div><div class=\"features\"><span class=\"lex xft\" ><span class=\"f\">lex=</span>BJT/</span></div></div></div></div><div class=\"contnr c1  rtl  hl\" ><div class=\"lbl c1  hl\" ><span class=\"nd\">phrase:421250 </span> <span class=\"\"><span title=\"typ\">NP</span> <span title=\"function\">Time</span></span></div><div class=\"features\"><span class=\"function xft\" ><span class=\"f\">function=</span>Time</span></div><div class=\"children hor wrap rtl\"><div class=\"contnr c0 trm rtl  \" ><div class=\"lbl c0 trm \" ><span class=\"nd\">61271 </span> <span class=\"txtu hbo\">כָּל־</span></div><div class=\"features\"><span class=\"lex xft\" ><span class=\"f\">lex=</span>KL/</span></div></div><div class=\"contnr c0 trm rtl  \" ><div class=\"lbl c0 trm \" ><span class=\"nd\">61272 </span> <span class=\"txtu hbo\">יְמֵ֖י </span></div><div class=\"features\"><span class=\"lex xft\" ><span class=\"f\">lex=</span>JWM/</span></div></div></div></div></div></div></div>"
      ],
      "text/plain": [
       "<IPython.core.display.HTML object>"
      ]
     },
     "metadata": {},
     "output_type": "display_data"
    },
    {
     "data": {
      "text/html": [
       "<p><b>result</b> <i>21</i>"
      ],
      "text/plain": [
       "<IPython.core.display.HTML object>"
      ]
     },
     "metadata": {},
     "output_type": "display_data"
    },
    {
     "data": {
      "text/html": [
       "<div class=\"tfsechead rtl\"><span class=\"ltr\"><a target=\"_blank\" href=\"https://shebanq.ancient-data.org/hebrew/text?book=Leviticus&amp;chapter=16&amp;verse=2&amp;version=2021&amp;mr=m&amp;qw=q&amp;tp=txt_p&amp;tr=hb&amp;wget=v&amp;qget=v&amp;nget=vt\" title=\"Show this on SHEBANQ\" sec=\"Leviticus 16:2\">Leviticus 16:2</a></span></div><div class=\"rtl children\"><div class=\"contnr c2  rtl  \" ><div class=\"lbl c2  \" ><span class=\"nd\">clause:314943 </span> <span class=\"\"><span title=\"typ\">WxY0</span> <span title=\"rela\">NA</span></span></div><div class=\"children hor wrap rtl\"><div class=\"contnr c1  rtl  \" ><div class=\"lbl c1  \" ><span class=\"nd\">phrase:421801 </span> <span class=\"\"><span title=\"typ\">CP</span> <span title=\"function\">Conj</span></span></div><div class=\"features\"><span class=\"function xft\" ><span class=\"f\">function=</span>Conj</span></div><div class=\"children hor wrap rtl\"><div class=\"contnr c0 trm rtl  \" ><div class=\"lbl c0 trm \" ><span class=\"nd\">62204 </span> <span class=\"txtu hbo\">וְ</span></div><div class=\"features\"><span class=\"lex xft\" ><span class=\"f\">lex=</span>W</span></div></div></div></div><div class=\"contnr c1  rtl  \" ><div class=\"lbl c1  \" ><span class=\"nd\">phrase:421802 </span> <span class=\"\"><span title=\"typ\">NegP</span> <span title=\"function\">Nega</span></span></div><div class=\"features\"><span class=\"function xft\" ><span class=\"f\">function=</span>Nega</span></div><div class=\"children hor wrap rtl\"><div class=\"contnr c0 trm rtl  \" ><div class=\"lbl c0 trm \" ><span class=\"nd\">62205 </span> <span class=\"txtu hbo\">אַל־</span></div><div class=\"features\"><span class=\"lex xft\" ><span class=\"f\">lex=</span>>L=</span></div></div></div></div><div class=\"contnr c1  rtl  \" ><div class=\"lbl c1  \" ><span class=\"nd\">phrase:421803 </span> <span class=\"\"><span title=\"typ\">VP</span> <span title=\"function\">Pred</span></span></div><div class=\"features\"><span class=\"function xft\" ><span class=\"f\">function=</span>Pred</span></div><div class=\"children hor wrap rtl\"><div class=\"contnr c0 trm rtl  hl\" ><div class=\"lbl c0 trm hl\" ><span class=\"nd\">62206 </span> <span class=\"txtu hbo\">יָבֹ֤א </span></div><div class=\"features\"><span class=\"lex xft\" ><span class=\"f\">lex=</span>BW>[</span></div></div></div></div><div class=\"contnr c1  rtl  hl\" ><div class=\"lbl c1  hl\" ><span class=\"nd\">phrase:421804 </span> <span class=\"\"><span title=\"typ\">PP</span> <span title=\"function\">Time</span></span></div><div class=\"features\"><span class=\"function xft\" ><span class=\"f\">function=</span>Time</span></div><div class=\"children hor wrap rtl\"><div class=\"contnr c0 trm rtl  \" ><div class=\"lbl c0 trm \" ><span class=\"nd\">62207 </span> <span class=\"txtu hbo\">בְ</span></div><div class=\"features\"><span class=\"lex xft\" ><span class=\"f\">lex=</span>B</span></div></div><div class=\"contnr c0 trm rtl  \" ><div class=\"lbl c0 trm \" ><span class=\"nd\">62208 </span> <span class=\"txtu hbo\">כָל־</span></div><div class=\"features\"><span class=\"lex xft\" ><span class=\"f\">lex=</span>KL/</span></div></div><div class=\"contnr c0 trm rtl  \" ><div class=\"lbl c0 trm \" ><span class=\"nd\">62209 </span> <span class=\"txtu hbo\">עֵת֙ </span></div><div class=\"features\"><span class=\"lex xft\" ><span class=\"f\">lex=</span>&lt;T/</span></div></div></div></div><div class=\"contnr c1  rtl  hl\" ><div class=\"lbl c1  hl\" ><span class=\"nd\">phrase:421805 </span> <span class=\"\"><span title=\"typ\">PP</span> <span title=\"function\">Cmpl</span></span></div><div class=\"features\"><span class=\"function xft\" ><span class=\"f\">function=</span>Cmpl</span></div><div class=\"children hor wrap rtl\"><div class=\"contnr c0 trm rtl  hl\" ><div class=\"lbl c0 trm hl\" ><span class=\"nd\">62210 </span> <span class=\"txtu hbo\">אֶל־</span></div><div class=\"features\"><span class=\"lex xft\" ><span class=\"f\">lex=</span>>L</span></div></div><div class=\"contnr c0 trm rtl  \" ><div class=\"lbl c0 trm \" ><span class=\"nd\">62211 </span> <span class=\"txtu hbo\">הַ</span></div><div class=\"features\"><span class=\"lex xft\" ><span class=\"f\">lex=</span>H</span></div></div><div class=\"contnr c0 trm rtl  \" ><div class=\"lbl c0 trm \" ><span class=\"nd\">62212 </span> <span class=\"txtu hbo\">קֹּ֔דֶשׁ </span></div><div class=\"features\"><span class=\"lex xft\" ><span class=\"f\">lex=</span>QDC/</span></div></div><div class=\"contnr c0 trm rtl  \" ><div class=\"lbl c0 trm \" ><span class=\"nd\">62213 </span> <span class=\"txtu hbo\">מִ</span></div><div class=\"features\"><span class=\"lex xft\" ><span class=\"f\">lex=</span>MN</span></div></div><div class=\"contnr c0 trm rtl  \" ><div class=\"lbl c0 trm \" ><span class=\"nd\">62214 </span> <span class=\"txtu hbo\">בֵּ֖ית </span></div><div class=\"features\"><span class=\"lex xft\" ><span class=\"f\">lex=</span>BJT/</span></div></div><div class=\"contnr c0 trm rtl  \" ><div class=\"lbl c0 trm \" ><span class=\"nd\">62215 </span> <span class=\"txtu hbo\">לַ</span></div><div class=\"features\"><span class=\"lex xft\" ><span class=\"f\">lex=</span>L</span></div></div><div class=\"contnr c0 trm rtl  \" ><div class=\"lbl c0 trm \" ><span class=\"nd\">62216 </span></div><div class=\"features\"><span class=\"lex xft\" ><span class=\"f\">lex=</span>H</span></div></div><div class=\"contnr c0 trm rtl  \" ><div class=\"lbl c0 trm \" ><span class=\"nd\">62217 </span> <span class=\"txtu hbo\">פָּרֹ֑כֶת </span></div><div class=\"features\"><span class=\"lex xft\" ><span class=\"f\">lex=</span>PRKT/</span></div></div><div class=\"contnr c0 trm rtl  \" ><div class=\"lbl c0 trm \" ><span class=\"nd\">62218 </span> <span class=\"txtu hbo\">אֶל־</span></div><div class=\"features\"><span class=\"lex xft\" ><span class=\"f\">lex=</span>>L</span></div></div><div class=\"contnr c0 trm rtl  \" ><div class=\"lbl c0 trm \" ><span class=\"nd\">62219 </span> <span class=\"txtu hbo\">פְּנֵ֨י </span></div><div class=\"features\"><span class=\"lex xft\" ><span class=\"f\">lex=</span>PNH/</span></div></div><div class=\"contnr c0 trm rtl  \" ><div class=\"lbl c0 trm \" ><span class=\"nd\">62220 </span> <span class=\"txtu hbo\">הַ</span></div><div class=\"features\"><span class=\"lex xft\" ><span class=\"f\">lex=</span>H</span></div></div><div class=\"contnr c0 trm rtl  \" ><div class=\"lbl c0 trm \" ><span class=\"nd\">62221 </span> <span class=\"txtu hbo\">כַּפֹּ֜רֶת </span></div><div class=\"features\"><span class=\"lex xft\" ><span class=\"f\">lex=</span>KPRT/</span></div></div></div></div></div></div></div>"
      ],
      "text/plain": [
       "<IPython.core.display.HTML object>"
      ]
     },
     "metadata": {},
     "output_type": "display_data"
    },
    {
     "data": {
      "text/html": [
       "<p><b>result</b> <i>22</i>"
      ],
      "text/plain": [
       "<IPython.core.display.HTML object>"
      ]
     },
     "metadata": {},
     "output_type": "display_data"
    },
    {
     "data": {
      "text/html": [
       "<div class=\"tfsechead rtl\"><span class=\"ltr\"><a target=\"_blank\" href=\"https://shebanq.ancient-data.org/hebrew/text?book=Leviticus&amp;chapter=16&amp;verse=2&amp;version=2021&amp;mr=m&amp;qw=q&amp;tp=txt_p&amp;tr=hb&amp;wget=v&amp;qget=v&amp;nget=vt\" title=\"Show this on SHEBANQ\" sec=\"Leviticus 16:2\">Leviticus 16:2</a></span></div><div class=\"rtl children\"><div class=\"contnr c2  rtl  \" ><div class=\"lbl c2  \" ><span class=\"nd\">clause:314943 </span> <span class=\"\"><span title=\"typ\">WxY0</span> <span title=\"rela\">NA</span></span></div><div class=\"children hor wrap rtl\"><div class=\"contnr c1  rtl  \" ><div class=\"lbl c1  \" ><span class=\"nd\">phrase:421801 </span> <span class=\"\"><span title=\"typ\">CP</span> <span title=\"function\">Conj</span></span></div><div class=\"features\"><span class=\"function xft\" ><span class=\"f\">function=</span>Conj</span></div><div class=\"children hor wrap rtl\"><div class=\"contnr c0 trm rtl  \" ><div class=\"lbl c0 trm \" ><span class=\"nd\">62204 </span> <span class=\"txtu hbo\">וְ</span></div><div class=\"features\"><span class=\"lex xft\" ><span class=\"f\">lex=</span>W</span></div></div></div></div><div class=\"contnr c1  rtl  \" ><div class=\"lbl c1  \" ><span class=\"nd\">phrase:421802 </span> <span class=\"\"><span title=\"typ\">NegP</span> <span title=\"function\">Nega</span></span></div><div class=\"features\"><span class=\"function xft\" ><span class=\"f\">function=</span>Nega</span></div><div class=\"children hor wrap rtl\"><div class=\"contnr c0 trm rtl  \" ><div class=\"lbl c0 trm \" ><span class=\"nd\">62205 </span> <span class=\"txtu hbo\">אַל־</span></div><div class=\"features\"><span class=\"lex xft\" ><span class=\"f\">lex=</span>>L=</span></div></div></div></div><div class=\"contnr c1  rtl  \" ><div class=\"lbl c1  \" ><span class=\"nd\">phrase:421803 </span> <span class=\"\"><span title=\"typ\">VP</span> <span title=\"function\">Pred</span></span></div><div class=\"features\"><span class=\"function xft\" ><span class=\"f\">function=</span>Pred</span></div><div class=\"children hor wrap rtl\"><div class=\"contnr c0 trm rtl  hl\" ><div class=\"lbl c0 trm hl\" ><span class=\"nd\">62206 </span> <span class=\"txtu hbo\">יָבֹ֤א </span></div><div class=\"features\"><span class=\"lex xft\" ><span class=\"f\">lex=</span>BW>[</span></div></div></div></div><div class=\"contnr c1  rtl  hl\" ><div class=\"lbl c1  hl\" ><span class=\"nd\">phrase:421804 </span> <span class=\"\"><span title=\"typ\">PP</span> <span title=\"function\">Time</span></span></div><div class=\"features\"><span class=\"function xft\" ><span class=\"f\">function=</span>Time</span></div><div class=\"children hor wrap rtl\"><div class=\"contnr c0 trm rtl  \" ><div class=\"lbl c0 trm \" ><span class=\"nd\">62207 </span> <span class=\"txtu hbo\">בְ</span></div><div class=\"features\"><span class=\"lex xft\" ><span class=\"f\">lex=</span>B</span></div></div><div class=\"contnr c0 trm rtl  \" ><div class=\"lbl c0 trm \" ><span class=\"nd\">62208 </span> <span class=\"txtu hbo\">כָל־</span></div><div class=\"features\"><span class=\"lex xft\" ><span class=\"f\">lex=</span>KL/</span></div></div><div class=\"contnr c0 trm rtl  \" ><div class=\"lbl c0 trm \" ><span class=\"nd\">62209 </span> <span class=\"txtu hbo\">עֵת֙ </span></div><div class=\"features\"><span class=\"lex xft\" ><span class=\"f\">lex=</span>&lt;T/</span></div></div></div></div><div class=\"contnr c1  rtl  hl\" ><div class=\"lbl c1  hl\" ><span class=\"nd\">phrase:421805 </span> <span class=\"\"><span title=\"typ\">PP</span> <span title=\"function\">Cmpl</span></span></div><div class=\"features\"><span class=\"function xft\" ><span class=\"f\">function=</span>Cmpl</span></div><div class=\"children hor wrap rtl\"><div class=\"contnr c0 trm rtl  \" ><div class=\"lbl c0 trm \" ><span class=\"nd\">62210 </span> <span class=\"txtu hbo\">אֶל־</span></div><div class=\"features\"><span class=\"lex xft\" ><span class=\"f\">lex=</span>>L</span></div></div><div class=\"contnr c0 trm rtl  \" ><div class=\"lbl c0 trm \" ><span class=\"nd\">62211 </span> <span class=\"txtu hbo\">הַ</span></div><div class=\"features\"><span class=\"lex xft\" ><span class=\"f\">lex=</span>H</span></div></div><div class=\"contnr c0 trm rtl  \" ><div class=\"lbl c0 trm \" ><span class=\"nd\">62212 </span> <span class=\"txtu hbo\">קֹּ֔דֶשׁ </span></div><div class=\"features\"><span class=\"lex xft\" ><span class=\"f\">lex=</span>QDC/</span></div></div><div class=\"contnr c0 trm rtl  \" ><div class=\"lbl c0 trm \" ><span class=\"nd\">62213 </span> <span class=\"txtu hbo\">מִ</span></div><div class=\"features\"><span class=\"lex xft\" ><span class=\"f\">lex=</span>MN</span></div></div><div class=\"contnr c0 trm rtl  \" ><div class=\"lbl c0 trm \" ><span class=\"nd\">62214 </span> <span class=\"txtu hbo\">בֵּ֖ית </span></div><div class=\"features\"><span class=\"lex xft\" ><span class=\"f\">lex=</span>BJT/</span></div></div><div class=\"contnr c0 trm rtl  \" ><div class=\"lbl c0 trm \" ><span class=\"nd\">62215 </span> <span class=\"txtu hbo\">לַ</span></div><div class=\"features\"><span class=\"lex xft\" ><span class=\"f\">lex=</span>L</span></div></div><div class=\"contnr c0 trm rtl  \" ><div class=\"lbl c0 trm \" ><span class=\"nd\">62216 </span></div><div class=\"features\"><span class=\"lex xft\" ><span class=\"f\">lex=</span>H</span></div></div><div class=\"contnr c0 trm rtl  \" ><div class=\"lbl c0 trm \" ><span class=\"nd\">62217 </span> <span class=\"txtu hbo\">פָּרֹ֑כֶת </span></div><div class=\"features\"><span class=\"lex xft\" ><span class=\"f\">lex=</span>PRKT/</span></div></div><div class=\"contnr c0 trm rtl  hl\" ><div class=\"lbl c0 trm hl\" ><span class=\"nd\">62218 </span> <span class=\"txtu hbo\">אֶל־</span></div><div class=\"features\"><span class=\"lex xft\" ><span class=\"f\">lex=</span>>L</span></div></div><div class=\"contnr c0 trm rtl  \" ><div class=\"lbl c0 trm \" ><span class=\"nd\">62219 </span> <span class=\"txtu hbo\">פְּנֵ֨י </span></div><div class=\"features\"><span class=\"lex xft\" ><span class=\"f\">lex=</span>PNH/</span></div></div><div class=\"contnr c0 trm rtl  \" ><div class=\"lbl c0 trm \" ><span class=\"nd\">62220 </span> <span class=\"txtu hbo\">הַ</span></div><div class=\"features\"><span class=\"lex xft\" ><span class=\"f\">lex=</span>H</span></div></div><div class=\"contnr c0 trm rtl  \" ><div class=\"lbl c0 trm \" ><span class=\"nd\">62221 </span> <span class=\"txtu hbo\">כַּפֹּ֜רֶת </span></div><div class=\"features\"><span class=\"lex xft\" ><span class=\"f\">lex=</span>KPRT/</span></div></div></div></div></div></div></div>"
      ],
      "text/plain": [
       "<IPython.core.display.HTML object>"
      ]
     },
     "metadata": {},
     "output_type": "display_data"
    },
    {
     "data": {
      "text/html": [
       "<p><b>result</b> <i>23</i>"
      ],
      "text/plain": [
       "<IPython.core.display.HTML object>"
      ]
     },
     "metadata": {},
     "output_type": "display_data"
    },
    {
     "data": {
      "text/html": [
       "<div class=\"tfsechead rtl\"><span class=\"ltr\"><a target=\"_blank\" href=\"https://shebanq.ancient-data.org/hebrew/text?book=Leviticus&amp;chapter=16&amp;verse=26&amp;version=2021&amp;mr=m&amp;qw=q&amp;tp=txt_p&amp;tr=hb&amp;wget=v&amp;qget=v&amp;nget=vt\" title=\"Show this on SHEBANQ\" sec=\"Leviticus 16:26\">Leviticus 16:26</a></span></div><div class=\"rtl children\"><div class=\"contnr c2  rtl  \" ><div class=\"lbl c2  \" ><span class=\"nd\">clause:315034 </span> <span class=\"\"><span title=\"typ\">WxY0</span> <span title=\"rela\">NA</span></span></div><div class=\"children hor wrap rtl\"><div class=\"contnr c1  rtl  \" ><div class=\"lbl c1  \" ><span class=\"nd\">phrase:422099 </span> <span class=\"\"><span title=\"typ\">CP</span> <span title=\"function\">Conj</span></span></div><div class=\"features\"><span class=\"function xft\" ><span class=\"f\">function=</span>Conj</span></div><div class=\"children hor wrap rtl\"><div class=\"contnr c0 trm rtl  \" ><div class=\"lbl c0 trm \" ><span class=\"nd\">62803 </span> <span class=\"txtu hbo\">וְ</span></div><div class=\"features\"><span class=\"lex xft\" ><span class=\"f\">lex=</span>W</span></div></div></div></div><div class=\"contnr c1  rtl  hl\" ><div class=\"lbl c1  hl\" ><span class=\"nd\">phrase:422100 </span> <span class=\"\"><span title=\"typ\">PP</span> <span title=\"function\">Time</span></span></div><div class=\"features\"><span class=\"function xft\" ><span class=\"f\">function=</span>Time</span></div><div class=\"children hor wrap rtl\"><div class=\"contnr c0 trm rtl  \" ><div class=\"lbl c0 trm \" ><span class=\"nd\">62804 </span> <span class=\"txtu hbo\">אַחֲרֵי־</span></div><div class=\"features\"><span class=\"lex xft\" ><span class=\"f\">lex=</span>>XR/</span></div></div><div class=\"contnr c0 trm rtl  \" ><div class=\"lbl c0 trm \" ><span class=\"nd\">62805 </span> <span class=\"txtu hbo\">כֵ֖ן </span></div><div class=\"features\"><span class=\"lex xft\" ><span class=\"f\">lex=</span>KN</span></div></div></div></div><div class=\"contnr c1  rtl  \" ><div class=\"lbl c1  \" ><span class=\"nd\">phrase:422101 </span> <span class=\"\"><span title=\"typ\">VP</span> <span title=\"function\">Pred</span></span></div><div class=\"features\"><span class=\"function xft\" ><span class=\"f\">function=</span>Pred</span></div><div class=\"children hor wrap rtl\"><div class=\"contnr c0 trm rtl  hl\" ><div class=\"lbl c0 trm hl\" ><span class=\"nd\">62806 </span> <span class=\"txtu hbo\">יָבֹ֥וא </span></div><div class=\"features\"><span class=\"lex xft\" ><span class=\"f\">lex=</span>BW>[</span></div></div></div></div><div class=\"contnr c1  rtl  hl\" ><div class=\"lbl c1  hl\" ><span class=\"nd\">phrase:422102 </span> <span class=\"\"><span title=\"typ\">PP</span> <span title=\"function\">Cmpl</span></span></div><div class=\"features\"><span class=\"function xft\" ><span class=\"f\">function=</span>Cmpl</span></div><div class=\"children hor wrap rtl\"><div class=\"contnr c0 trm rtl  hl\" ><div class=\"lbl c0 trm hl\" ><span class=\"nd\">62807 </span> <span class=\"txtu hbo\">אֶל־</span></div><div class=\"features\"><span class=\"lex xft\" ><span class=\"f\">lex=</span>>L</span></div></div><div class=\"contnr c0 trm rtl  \" ><div class=\"lbl c0 trm \" ><span class=\"nd\">62808 </span> <span class=\"txtu hbo\">הַֽ</span></div><div class=\"features\"><span class=\"lex xft\" ><span class=\"f\">lex=</span>H</span></div></div><div class=\"contnr c0 trm rtl  \" ><div class=\"lbl c0 trm \" ><span class=\"nd\">62809 </span> <span class=\"txtu hbo\">מַּחֲנֶֽה׃ </span></div><div class=\"features\"><span class=\"lex xft\" ><span class=\"f\">lex=</span>MXNH/</span></div></div></div></div></div></div></div>"
      ],
      "text/plain": [
       "<IPython.core.display.HTML object>"
      ]
     },
     "metadata": {},
     "output_type": "display_data"
    },
    {
     "data": {
      "text/html": [
       "<p><b>result</b> <i>24</i>"
      ],
      "text/plain": [
       "<IPython.core.display.HTML object>"
      ]
     },
     "metadata": {},
     "output_type": "display_data"
    },
    {
     "data": {
      "text/html": [
       "<div class=\"tfsechead rtl\"><span class=\"ltr\"><a target=\"_blank\" href=\"https://shebanq.ancient-data.org/hebrew/text?book=Leviticus&amp;chapter=16&amp;verse=28&amp;version=2021&amp;mr=m&amp;qw=q&amp;tp=txt_p&amp;tr=hb&amp;wget=v&amp;qget=v&amp;nget=vt\" title=\"Show this on SHEBANQ\" sec=\"Leviticus 16:28\">Leviticus 16:28</a></span></div><div class=\"rtl children\"><div class=\"contnr c2  rtl  \" ><div class=\"lbl c2  \" ><span class=\"nd\">clause:315042 </span> <span class=\"\"><span title=\"typ\">WxY0</span> <span title=\"rela\">NA</span></span></div><div class=\"children hor wrap rtl\"><div class=\"contnr c1  rtl  \" ><div class=\"lbl c1  \" ><span class=\"nd\">phrase:422126 </span> <span class=\"\"><span title=\"typ\">CP</span> <span title=\"function\">Conj</span></span></div><div class=\"features\"><span class=\"function xft\" ><span class=\"f\">function=</span>Conj</span></div><div class=\"children hor wrap rtl\"><div class=\"contnr c0 trm rtl  \" ><div class=\"lbl c0 trm \" ><span class=\"nd\">62862 </span> <span class=\"txtu hbo\">וְ</span></div><div class=\"features\"><span class=\"lex xft\" ><span class=\"f\">lex=</span>W</span></div></div></div></div><div class=\"contnr c1  rtl  hl\" ><div class=\"lbl c1  hl\" ><span class=\"nd\">phrase:422127 </span> <span class=\"\"><span title=\"typ\">PP</span> <span title=\"function\">Time</span></span></div><div class=\"features\"><span class=\"function xft\" ><span class=\"f\">function=</span>Time</span></div><div class=\"children hor wrap rtl\"><div class=\"contnr c0 trm rtl  \" ><div class=\"lbl c0 trm \" ><span class=\"nd\">62863 </span> <span class=\"txtu hbo\">אַחֲרֵי־</span></div><div class=\"features\"><span class=\"lex xft\" ><span class=\"f\">lex=</span>>XR/</span></div></div><div class=\"contnr c0 trm rtl  \" ><div class=\"lbl c0 trm \" ><span class=\"nd\">62864 </span> <span class=\"txtu hbo\">כֵ֖ן </span></div><div class=\"features\"><span class=\"lex xft\" ><span class=\"f\">lex=</span>KN</span></div></div></div></div><div class=\"contnr c1  rtl  \" ><div class=\"lbl c1  \" ><span class=\"nd\">phrase:422128 </span> <span class=\"\"><span title=\"typ\">VP</span> <span title=\"function\">Pred</span></span></div><div class=\"features\"><span class=\"function xft\" ><span class=\"f\">function=</span>Pred</span></div><div class=\"children hor wrap rtl\"><div class=\"contnr c0 trm rtl  hl\" ><div class=\"lbl c0 trm hl\" ><span class=\"nd\">62865 </span> <span class=\"txtu hbo\">יָבֹ֥וא </span></div><div class=\"features\"><span class=\"lex xft\" ><span class=\"f\">lex=</span>BW>[</span></div></div></div></div><div class=\"contnr c1  rtl  hl\" ><div class=\"lbl c1  hl\" ><span class=\"nd\">phrase:422129 </span> <span class=\"\"><span title=\"typ\">PP</span> <span title=\"function\">Cmpl</span></span></div><div class=\"features\"><span class=\"function xft\" ><span class=\"f\">function=</span>Cmpl</span></div><div class=\"children hor wrap rtl\"><div class=\"contnr c0 trm rtl  hl\" ><div class=\"lbl c0 trm hl\" ><span class=\"nd\">62866 </span> <span class=\"txtu hbo\">אֶל־</span></div><div class=\"features\"><span class=\"lex xft\" ><span class=\"f\">lex=</span>>L</span></div></div><div class=\"contnr c0 trm rtl  \" ><div class=\"lbl c0 trm \" ><span class=\"nd\">62867 </span> <span class=\"txtu hbo\">הַֽ</span></div><div class=\"features\"><span class=\"lex xft\" ><span class=\"f\">lex=</span>H</span></div></div><div class=\"contnr c0 trm rtl  \" ><div class=\"lbl c0 trm \" ><span class=\"nd\">62868 </span> <span class=\"txtu hbo\">מַּחֲנֶֽה׃ </span></div><div class=\"features\"><span class=\"lex xft\" ><span class=\"f\">lex=</span>MXNH/</span></div></div></div></div></div></div></div>"
      ],
      "text/plain": [
       "<IPython.core.display.HTML object>"
      ]
     },
     "metadata": {},
     "output_type": "display_data"
    },
    {
     "data": {
      "text/html": [
       "<p><b>result</b> <i>25</i>"
      ],
      "text/plain": [
       "<IPython.core.display.HTML object>"
      ]
     },
     "metadata": {},
     "output_type": "display_data"
    },
    {
     "data": {
      "text/html": [
       "<div class=\"tfsechead rtl\"><span class=\"ltr\"><a target=\"_blank\" href=\"https://shebanq.ancient-data.org/hebrew/text?book=Numeri&amp;chapter=6&amp;verse=10&amp;version=2021&amp;mr=m&amp;qw=q&amp;tp=txt_p&amp;tr=hb&amp;wget=v&amp;qget=v&amp;nget=vt\" title=\"Show this on SHEBANQ\" sec=\"Numbers 6:10\">Numbers 6:10</a></span></div><div class=\"rtl children\"><div class=\"contnr c2  rtl  \" ><div class=\"lbl c2  \" ><span class=\"nd\">clause:316918 </span> <span class=\"\"><span title=\"typ\">WxY0</span> <span title=\"rela\">NA</span></span></div><div class=\"children hor wrap rtl\"><div class=\"contnr c1  rtl  \" ><div class=\"lbl c1  \" ><span class=\"nd\">phrase:427840 </span> <span class=\"\"><span title=\"typ\">CP</span> <span title=\"function\">Conj</span></span></div><div class=\"features\"><span class=\"function xft\" ><span class=\"f\">function=</span>Conj</span></div><div class=\"children hor wrap rtl\"><div class=\"contnr c0 trm rtl  \" ><div class=\"lbl c0 trm \" ><span class=\"nd\">73552 </span> <span class=\"txtu hbo\">וּ</span></div><div class=\"features\"><span class=\"lex xft\" ><span class=\"f\">lex=</span>W</span></div></div></div></div><div class=\"contnr c1  rtl  hl\" ><div class=\"lbl c1  hl\" ><span class=\"nd\">phrase:427841 </span> <span class=\"\"><span title=\"typ\">PP</span> <span title=\"function\">Time</span></span></div><div class=\"features\"><span class=\"function xft\" ><span class=\"f\">function=</span>Time</span></div><div class=\"children hor wrap rtl\"><div class=\"contnr c0 trm rtl  \" ><div class=\"lbl c0 trm \" ><span class=\"nd\">73553 </span> <span class=\"txtu hbo\">בַ</span></div><div class=\"features\"><span class=\"lex xft\" ><span class=\"f\">lex=</span>B</span></div></div><div class=\"contnr c0 trm rtl  \" ><div class=\"lbl c0 trm \" ><span class=\"nd\">73554 </span></div><div class=\"features\"><span class=\"lex xft\" ><span class=\"f\">lex=</span>H</span></div></div><div class=\"contnr c0 trm rtl  \" ><div class=\"lbl c0 trm \" ><span class=\"nd\">73555 </span> <span class=\"txtu hbo\">יֹּ֣ום </span></div><div class=\"features\"><span class=\"lex xft\" ><span class=\"f\">lex=</span>JWM/</span></div></div><div class=\"contnr c0 trm rtl  \" ><div class=\"lbl c0 trm \" ><span class=\"nd\">73556 </span> <span class=\"txtu hbo\">הַ</span></div><div class=\"features\"><span class=\"lex xft\" ><span class=\"f\">lex=</span>H</span></div></div><div class=\"contnr c0 trm rtl  \" ><div class=\"lbl c0 trm \" ><span class=\"nd\">73557 </span> <span class=\"txtu hbo\">שְּׁמִינִ֗י </span></div><div class=\"features\"><span class=\"lex xft\" ><span class=\"f\">lex=</span>CMJNJ/</span></div></div></div></div><div class=\"contnr c1  rtl  \" ><div class=\"lbl c1  \" ><span class=\"nd\">phrase:427842 </span> <span class=\"\"><span title=\"typ\">VP</span> <span title=\"function\">Pred</span></span></div><div class=\"features\"><span class=\"function xft\" ><span class=\"f\">function=</span>Pred</span></div><div class=\"children hor wrap rtl\"><div class=\"contnr c0 trm rtl  hl\" ><div class=\"lbl c0 trm hl\" ><span class=\"nd\">73558 </span> <span class=\"txtu hbo\">יָבִא֙ </span></div><div class=\"features\"><span class=\"lex xft\" ><span class=\"f\">lex=</span>BW>[</span></div></div></div></div><div class=\"contnr c1  rtl  \" ><div class=\"lbl c1  \" ><span class=\"nd\">phrase:427843 </span> <span class=\"\"><span title=\"typ\">NP</span> <span title=\"function\">Objc</span></span></div><div class=\"features\"><span class=\"function xft\" ><span class=\"f\">function=</span>Objc</span></div><div class=\"children hor wrap rtl\"><div class=\"contnr c0 trm rtl  \" ><div class=\"lbl c0 trm \" ><span class=\"nd\">73559 </span> <span class=\"txtu hbo\">שְׁתֵּ֣י </span></div><div class=\"features\"><span class=\"lex xft\" ><span class=\"f\">lex=</span>CNJM/</span></div></div><div class=\"contnr c0 trm rtl  \" ><div class=\"lbl c0 trm \" ><span class=\"nd\">73560 </span> <span class=\"txtu hbo\">תֹרִ֔ים </span></div><div class=\"features\"><span class=\"lex xft\" ><span class=\"f\">lex=</span>TWR/</span></div></div><div class=\"contnr c0 trm rtl  \" ><div class=\"lbl c0 trm \" ><span class=\"nd\">73561 </span> <span class=\"txtu hbo\">אֹ֥ו </span></div><div class=\"features\"><span class=\"lex xft\" ><span class=\"f\">lex=</span>>W</span></div></div><div class=\"contnr c0 trm rtl  \" ><div class=\"lbl c0 trm \" ><span class=\"nd\">73562 </span> <span class=\"txtu hbo\">שְׁנֵ֖י </span></div><div class=\"features\"><span class=\"lex xft\" ><span class=\"f\">lex=</span>CNJM/</span></div></div><div class=\"contnr c0 trm rtl  \" ><div class=\"lbl c0 trm \" ><span class=\"nd\">73563 </span> <span class=\"txtu hbo\">בְּנֵ֣י </span></div><div class=\"features\"><span class=\"lex xft\" ><span class=\"f\">lex=</span>BN/</span></div></div><div class=\"contnr c0 trm rtl  \" ><div class=\"lbl c0 trm \" ><span class=\"nd\">73564 </span> <span class=\"txtu hbo\">יֹונָ֑ה </span></div><div class=\"features\"><span class=\"lex xft\" ><span class=\"f\">lex=</span>JWNH/</span></div></div></div></div><div class=\"contnr c1  rtl  hl\" ><div class=\"lbl c1  hl\" ><span class=\"nd\">phrase:427844 </span> <span class=\"\"><span title=\"typ\">PP</span> <span title=\"function\">Cmpl</span></span></div><div class=\"features\"><span class=\"function xft\" ><span class=\"f\">function=</span>Cmpl</span></div><div class=\"children hor wrap rtl\"><div class=\"contnr c0 trm rtl  hl\" ><div class=\"lbl c0 trm hl\" ><span class=\"nd\">73565 </span> <span class=\"txtu hbo\">אֶל־</span></div><div class=\"features\"><span class=\"lex xft\" ><span class=\"f\">lex=</span>>L</span></div></div><div class=\"contnr c0 trm rtl  \" ><div class=\"lbl c0 trm \" ><span class=\"nd\">73566 </span> <span class=\"txtu hbo\">הַ</span></div><div class=\"features\"><span class=\"lex xft\" ><span class=\"f\">lex=</span>H</span></div></div><div class=\"contnr c0 trm rtl  \" ><div class=\"lbl c0 trm \" ><span class=\"nd\">73567 </span> <span class=\"txtu hbo\">כֹּהֵ֔ן </span></div><div class=\"features\"><span class=\"lex xft\" ><span class=\"f\">lex=</span>KHN/</span></div></div></div></div><div class=\"contnr c1  rtl  \" ><div class=\"lbl c1  \" ><span class=\"nd\">phrase:427845 </span> <span class=\"\"><span title=\"typ\">PP</span> <span title=\"function\">Loca</span></span></div><div class=\"features\"><span class=\"function xft\" ><span class=\"f\">function=</span>Loca</span></div><div class=\"children hor wrap rtl\"><div class=\"contnr c0 trm rtl  \" ><div class=\"lbl c0 trm \" ><span class=\"nd\">73568 </span> <span class=\"txtu hbo\">אֶל־</span></div><div class=\"features\"><span class=\"lex xft\" ><span class=\"f\">lex=</span>>L</span></div></div><div class=\"contnr c0 trm rtl  \" ><div class=\"lbl c0 trm \" ><span class=\"nd\">73569 </span> <span class=\"txtu hbo\">פֶּ֖תַח </span></div><div class=\"features\"><span class=\"lex xft\" ><span class=\"f\">lex=</span>PTX/</span></div></div><div class=\"contnr c0 trm rtl  \" ><div class=\"lbl c0 trm \" ><span class=\"nd\">73570 </span> <span class=\"txtu hbo\">אֹ֥הֶל </span></div><div class=\"features\"><span class=\"lex xft\" ><span class=\"f\">lex=</span>>HL/</span></div></div><div class=\"contnr c0 trm rtl  \" ><div class=\"lbl c0 trm \" ><span class=\"nd\">73571 </span> <span class=\"txtu hbo\">מֹועֵֽד׃ </span></div><div class=\"features\"><span class=\"lex xft\" ><span class=\"f\">lex=</span>MW&lt;D/</span></div></div></div></div></div></div></div>"
      ],
      "text/plain": [
       "<IPython.core.display.HTML object>"
      ]
     },
     "metadata": {},
     "output_type": "display_data"
    },
    {
     "data": {
      "text/html": [
       "<p><b>result</b> <i>26</i>"
      ],
      "text/plain": [
       "<IPython.core.display.HTML object>"
      ]
     },
     "metadata": {},
     "output_type": "display_data"
    },
    {
     "data": {
      "text/html": [
       "<div class=\"tfsechead rtl\"><span class=\"ltr\"><a target=\"_blank\" href=\"https://shebanq.ancient-data.org/hebrew/text?book=Numeri&amp;chapter=6&amp;verse=13&amp;version=2021&amp;mr=m&amp;qw=q&amp;tp=txt_p&amp;tr=hb&amp;wget=v&amp;qget=v&amp;nget=vt\" title=\"Show this on SHEBANQ\" sec=\"Numbers 6:13\">Numbers 6:13</a></span></div><div class=\"rtl children\"><div class=\"contnr c2  rtl l \" ><div class=\"lbl c2  \" ><span class=\"nd\">clause:316929 </span> <span class=\"\"><span title=\"typ\">xYq0</span> <span title=\"rela\">NA</span></span></div><div class=\"children hor wrap rtl\"><div class=\"contnr c1  rtl  hl\" ><div class=\"lbl c1  hl\" ><span class=\"nd\">phrase:427881 </span> <span class=\"\"><span title=\"typ\">PP</span> <span title=\"function\">Time</span></span></div><div class=\"features\"><span class=\"function xft\" ><span class=\"f\">function=</span>Time</span></div><div class=\"children hor wrap rtl\"><div class=\"contnr c0 trm rtl  \" ><div class=\"lbl c0 trm \" ><span class=\"nd\">73629 </span> <span class=\"txtu hbo\">בְּ</span></div><div class=\"features\"><span class=\"lex xft\" ><span class=\"f\">lex=</span>B</span></div></div><div class=\"contnr c0 trm rtl  \" ><div class=\"lbl c0 trm \" ><span class=\"nd\">73630 </span> <span class=\"txtu hbo\">יֹ֗ום </span></div><div class=\"features\"><span class=\"lex xft\" ><span class=\"f\">lex=</span>JWM/</span></div></div></div></div></div></div><div class=\"contnr c2  rtl r \" ><div class=\"lbl c2  \" ><span class=\"nd\">clause:316929 </span> <span class=\"\"><span title=\"typ\">xYq0</span> <span title=\"rela\">NA</span></span></div><div class=\"children hor wrap rtl\"><div class=\"contnr c1  rtl  \" ><div class=\"lbl c1  \" ><span class=\"nd\">phrase:427884 </span> <span class=\"\"><span title=\"typ\">VP</span> <span title=\"function\">Pred</span></span></div><div class=\"features\"><span class=\"function xft\" ><span class=\"f\">function=</span>Pred</span></div><div class=\"children hor wrap rtl\"><div class=\"contnr c0 trm rtl  hl\" ><div class=\"lbl c0 trm hl\" ><span class=\"nd\">73634 </span> <span class=\"txtu hbo\">יָבִ֣יא </span></div><div class=\"features\"><span class=\"lex xft\" ><span class=\"f\">lex=</span>BW>[</span></div></div></div></div><div class=\"contnr c1  rtl  \" ><div class=\"lbl c1  \" ><span class=\"nd\">phrase:427885 </span> <span class=\"\"><span title=\"typ\">PP</span> <span title=\"function\">Objc</span></span></div><div class=\"features\"><span class=\"function xft\" ><span class=\"f\">function=</span>Objc</span></div><div class=\"children hor wrap rtl\"><div class=\"contnr c0 trm rtl  \" ><div class=\"lbl c0 trm \" ><span class=\"nd\">73635 </span> <span class=\"txtu hbo\">אֹתֹ֔ו </span></div><div class=\"features\"><span class=\"lex xft\" ><span class=\"f\">lex=</span>>T</span></div></div></div></div><div class=\"contnr c1  rtl  hl\" ><div class=\"lbl c1  hl\" ><span class=\"nd\">phrase:427886 </span> <span class=\"\"><span title=\"typ\">PP</span> <span title=\"function\">Cmpl</span></span></div><div class=\"features\"><span class=\"function xft\" ><span class=\"f\">function=</span>Cmpl</span></div><div class=\"children hor wrap rtl\"><div class=\"contnr c0 trm rtl  hl\" ><div class=\"lbl c0 trm hl\" ><span class=\"nd\">73636 </span> <span class=\"txtu hbo\">אֶל־</span></div><div class=\"features\"><span class=\"lex xft\" ><span class=\"f\">lex=</span>>L</span></div></div><div class=\"contnr c0 trm rtl  \" ><div class=\"lbl c0 trm \" ><span class=\"nd\">73637 </span> <span class=\"txtu hbo\">פֶּ֖תַח </span></div><div class=\"features\"><span class=\"lex xft\" ><span class=\"f\">lex=</span>PTX/</span></div></div><div class=\"contnr c0 trm rtl  \" ><div class=\"lbl c0 trm \" ><span class=\"nd\">73638 </span> <span class=\"txtu hbo\">אֹ֥הֶל </span></div><div class=\"features\"><span class=\"lex xft\" ><span class=\"f\">lex=</span>>HL/</span></div></div><div class=\"contnr c0 trm rtl  \" ><div class=\"lbl c0 trm \" ><span class=\"nd\">73639 </span> <span class=\"txtu hbo\">מֹועֵֽד׃ </span></div><div class=\"features\"><span class=\"lex xft\" ><span class=\"f\">lex=</span>MW&lt;D/</span></div></div></div></div></div></div></div>"
      ],
      "text/plain": [
       "<IPython.core.display.HTML object>"
      ]
     },
     "metadata": {},
     "output_type": "display_data"
    },
    {
     "data": {
      "text/html": [
       "<p><b>result</b> <i>27</i>"
      ],
      "text/plain": [
       "<IPython.core.display.HTML object>"
      ]
     },
     "metadata": {},
     "output_type": "display_data"
    },
    {
     "data": {
      "text/html": [
       "<div class=\"tfsechead rtl\"><span class=\"ltr\"><a target=\"_blank\" href=\"https://shebanq.ancient-data.org/hebrew/text?book=Numeri&amp;chapter=19&amp;verse=7&amp;version=2021&amp;mr=m&amp;qw=q&amp;tp=txt_p&amp;tr=hb&amp;wget=v&amp;qget=v&amp;nget=vt\" title=\"Show this on SHEBANQ\" sec=\"Numbers 19:7\">Numbers 19:7</a></span></div><div class=\"rtl children\"><div class=\"contnr c2  rtl  \" ><div class=\"lbl c2  \" ><span class=\"nd\">clause:318429 </span> <span class=\"\"><span title=\"typ\">WxY0</span> <span title=\"rela\">NA</span></span></div><div class=\"children hor wrap rtl\"><div class=\"contnr c1  rtl  \" ><div class=\"lbl c1  \" ><span class=\"nd\">phrase:432389 </span> <span class=\"\"><span title=\"typ\">CP</span> <span title=\"function\">Conj</span></span></div><div class=\"features\"><span class=\"function xft\" ><span class=\"f\">function=</span>Conj</span></div><div class=\"children hor wrap rtl\"><div class=\"contnr c0 trm rtl  \" ><div class=\"lbl c0 trm \" ><span class=\"nd\">82133 </span> <span class=\"txtu hbo\">וְ</span></div><div class=\"features\"><span class=\"lex xft\" ><span class=\"f\">lex=</span>W</span></div></div></div></div><div class=\"contnr c1  rtl  hl\" ><div class=\"lbl c1  hl\" ><span class=\"nd\">phrase:432390 </span> <span class=\"\"><span title=\"typ\">AdvP</span> <span title=\"function\">Time</span></span></div><div class=\"features\"><span class=\"function xft\" ><span class=\"f\">function=</span>Time</span></div><div class=\"children hor wrap rtl\"><div class=\"contnr c0 trm rtl  \" ><div class=\"lbl c0 trm \" ><span class=\"nd\">82134 </span> <span class=\"txtu hbo\">אַחַ֖ר </span></div><div class=\"features\"><span class=\"lex xft\" ><span class=\"f\">lex=</span>>XR/</span></div></div></div></div><div class=\"contnr c1  rtl  \" ><div class=\"lbl c1  \" ><span class=\"nd\">phrase:432391 </span> <span class=\"\"><span title=\"typ\">VP</span> <span title=\"function\">Pred</span></span></div><div class=\"features\"><span class=\"function xft\" ><span class=\"f\">function=</span>Pred</span></div><div class=\"children hor wrap rtl\"><div class=\"contnr c0 trm rtl  hl\" ><div class=\"lbl c0 trm hl\" ><span class=\"nd\">82135 </span> <span class=\"txtu hbo\">יָבֹ֣וא </span></div><div class=\"features\"><span class=\"lex xft\" ><span class=\"f\">lex=</span>BW>[</span></div></div></div></div><div class=\"contnr c1  rtl  hl\" ><div class=\"lbl c1  hl\" ><span class=\"nd\">phrase:432392 </span> <span class=\"\"><span title=\"typ\">PP</span> <span title=\"function\">Cmpl</span></span></div><div class=\"features\"><span class=\"function xft\" ><span class=\"f\">function=</span>Cmpl</span></div><div class=\"children hor wrap rtl\"><div class=\"contnr c0 trm rtl  hl\" ><div class=\"lbl c0 trm hl\" ><span class=\"nd\">82136 </span> <span class=\"txtu hbo\">אֶל־</span></div><div class=\"features\"><span class=\"lex xft\" ><span class=\"f\">lex=</span>>L</span></div></div><div class=\"contnr c0 trm rtl  \" ><div class=\"lbl c0 trm \" ><span class=\"nd\">82137 </span> <span class=\"txtu hbo\">הַֽ</span></div><div class=\"features\"><span class=\"lex xft\" ><span class=\"f\">lex=</span>H</span></div></div><div class=\"contnr c0 trm rtl  \" ><div class=\"lbl c0 trm \" ><span class=\"nd\">82138 </span> <span class=\"txtu hbo\">מַּחֲנֶ֑ה </span></div><div class=\"features\"><span class=\"lex xft\" ><span class=\"f\">lex=</span>MXNH/</span></div></div></div></div></div></div></div>"
      ],
      "text/plain": [
       "<IPython.core.display.HTML object>"
      ]
     },
     "metadata": {},
     "output_type": "display_data"
    },
    {
     "data": {
      "text/html": [
       "<p><b>result</b> <i>28</i>"
      ],
      "text/plain": [
       "<IPython.core.display.HTML object>"
      ]
     },
     "metadata": {},
     "output_type": "display_data"
    },
    {
     "data": {
      "text/html": [
       "<div class=\"tfsechead rtl\"><span class=\"ltr\"><a target=\"_blank\" href=\"https://shebanq.ancient-data.org/hebrew/text?book=Numeri&amp;chapter=22&amp;verse=20&amp;version=2021&amp;mr=m&amp;qw=q&amp;tp=txt_p&amp;tr=hb&amp;wget=v&amp;qget=v&amp;nget=vt\" title=\"Show this on SHEBANQ\" sec=\"Numbers 22:20\">Numbers 22:20</a></span></div><div class=\"rtl children\"><div class=\"contnr c2  rtl  \" ><div class=\"lbl c2  \" ><span class=\"nd\">clause:318836 </span> <span class=\"\"><span title=\"typ\">WayX</span> <span title=\"rela\">NA</span></span></div><div class=\"children hor wrap rtl\"><div class=\"contnr c1  rtl  \" ><div class=\"lbl c1  \" ><span class=\"nd\">phrase:433642 </span> <span class=\"\"><span title=\"typ\">CP</span> <span title=\"function\">Conj</span></span></div><div class=\"features\"><span class=\"function xft\" ><span class=\"f\">function=</span>Conj</span></div><div class=\"children hor wrap rtl\"><div class=\"contnr c0 trm rtl  \" ><div class=\"lbl c0 trm \" ><span class=\"nd\">84197 </span> <span class=\"txtu hbo\">וַ</span></div><div class=\"features\"><span class=\"lex xft\" ><span class=\"f\">lex=</span>W</span></div></div></div></div><div class=\"contnr c1  rtl  \" ><div class=\"lbl c1  \" ><span class=\"nd\">phrase:433643 </span> <span class=\"\"><span title=\"typ\">VP</span> <span title=\"function\">Pred</span></span></div><div class=\"features\"><span class=\"function xft\" ><span class=\"f\">function=</span>Pred</span></div><div class=\"children hor wrap rtl\"><div class=\"contnr c0 trm rtl  hl\" ><div class=\"lbl c0 trm hl\" ><span class=\"nd\">84198 </span> <span class=\"txtu hbo\">יָּבֹ֨א </span></div><div class=\"features\"><span class=\"lex xft\" ><span class=\"f\">lex=</span>BW>[</span></div></div></div></div><div class=\"contnr c1  rtl  \" ><div class=\"lbl c1  \" ><span class=\"nd\">phrase:433644 </span> <span class=\"\"><span title=\"typ\">NP</span> <span title=\"function\">Subj</span></span></div><div class=\"features\"><span class=\"function xft\" ><span class=\"f\">function=</span>Subj</span></div><div class=\"children hor wrap rtl\"><div class=\"contnr c0 trm rtl  \" ><div class=\"lbl c0 trm \" ><span class=\"nd\">84199 </span> <span class=\"txtu hbo\">אֱלֹהִ֥ים׀ </span></div><div class=\"features\"><span class=\"lex xft\" ><span class=\"f\">lex=</span>>LHJM/</span></div></div></div></div><div class=\"contnr c1  rtl  hl\" ><div class=\"lbl c1  hl\" ><span class=\"nd\">phrase:433645 </span> <span class=\"\"><span title=\"typ\">PP</span> <span title=\"function\">Cmpl</span></span></div><div class=\"features\"><span class=\"function xft\" ><span class=\"f\">function=</span>Cmpl</span></div><div class=\"children hor wrap rtl\"><div class=\"contnr c0 trm rtl  hl\" ><div class=\"lbl c0 trm hl\" ><span class=\"nd\">84200 </span> <span class=\"txtu hbo\">אֶל־</span></div><div class=\"features\"><span class=\"lex xft\" ><span class=\"f\">lex=</span>>L</span></div></div><div class=\"contnr c0 trm rtl  \" ><div class=\"lbl c0 trm \" ><span class=\"nd\">84201 </span> <span class=\"txtu hbo\">בִּלְעָם֮ </span></div><div class=\"features\"><span class=\"lex xft\" ><span class=\"f\">lex=</span>BL&lt;M/</span></div></div></div></div><div class=\"contnr c1  rtl  hl\" ><div class=\"lbl c1  hl\" ><span class=\"nd\">phrase:433646 </span> <span class=\"\"><span title=\"typ\">AdvP</span> <span title=\"function\">Time</span></span></div><div class=\"features\"><span class=\"function xft\" ><span class=\"f\">function=</span>Time</span></div><div class=\"children hor wrap rtl\"><div class=\"contnr c0 trm rtl  \" ><div class=\"lbl c0 trm \" ><span class=\"nd\">84202 </span> <span class=\"txtu hbo\">לַיְלָה֒ </span></div><div class=\"features\"><span class=\"lex xft\" ><span class=\"f\">lex=</span>LJLH/</span></div></div></div></div></div></div></div>"
      ],
      "text/plain": [
       "<IPython.core.display.HTML object>"
      ]
     },
     "metadata": {},
     "output_type": "display_data"
    },
    {
     "data": {
      "text/html": [
       "<p><b>result</b> <i>29</i>"
      ],
      "text/plain": [
       "<IPython.core.display.HTML object>"
      ]
     },
     "metadata": {},
     "output_type": "display_data"
    },
    {
     "data": {
      "text/html": [
       "<div class=\"tfsechead rtl\"><span class=\"ltr\"><a target=\"_blank\" href=\"https://shebanq.ancient-data.org/hebrew/text?book=Numeri&amp;chapter=31&amp;verse=24&amp;version=2021&amp;mr=m&amp;qw=q&amp;tp=txt_p&amp;tr=hb&amp;wget=v&amp;qget=v&amp;nget=vt\" title=\"Show this on SHEBANQ\" sec=\"Numbers 31:24\">Numbers 31:24</a></span></div><div class=\"rtl children\"><div class=\"contnr c2  rtl  \" ><div class=\"lbl c2  \" ><span class=\"nd\">clause:319738 </span> <span class=\"\"><span title=\"typ\">WxY0</span> <span title=\"rela\">NA</span></span></div><div class=\"children hor wrap rtl\"><div class=\"contnr c1  rtl  \" ><div class=\"lbl c1  \" ><span class=\"nd\">phrase:436260 </span> <span class=\"\"><span title=\"typ\">CP</span> <span title=\"function\">Conj</span></span></div><div class=\"features\"><span class=\"function xft\" ><span class=\"f\">function=</span>Conj</span></div><div class=\"children hor wrap rtl\"><div class=\"contnr c0 trm rtl  \" ><div class=\"lbl c0 trm \" ><span class=\"nd\">89355 </span> <span class=\"txtu hbo\">וְ</span></div><div class=\"features\"><span class=\"lex xft\" ><span class=\"f\">lex=</span>W</span></div></div></div></div><div class=\"contnr c1  rtl  hl\" ><div class=\"lbl c1  hl\" ><span class=\"nd\">phrase:436261 </span> <span class=\"\"><span title=\"typ\">AdvP</span> <span title=\"function\">Time</span></span></div><div class=\"features\"><span class=\"function xft\" ><span class=\"f\">function=</span>Time</span></div><div class=\"children hor wrap rtl\"><div class=\"contnr c0 trm rtl  \" ><div class=\"lbl c0 trm \" ><span class=\"nd\">89356 </span> <span class=\"txtu hbo\">אַחַ֖ר </span></div><div class=\"features\"><span class=\"lex xft\" ><span class=\"f\">lex=</span>>XR/</span></div></div></div></div><div class=\"contnr c1  rtl  \" ><div class=\"lbl c1  \" ><span class=\"nd\">phrase:436262 </span> <span class=\"\"><span title=\"typ\">VP</span> <span title=\"function\">Pred</span></span></div><div class=\"features\"><span class=\"function xft\" ><span class=\"f\">function=</span>Pred</span></div><div class=\"children hor wrap rtl\"><div class=\"contnr c0 trm rtl  hl\" ><div class=\"lbl c0 trm hl\" ><span class=\"nd\">89357 </span> <span class=\"txtu hbo\">תָּבֹ֥אוּ </span></div><div class=\"features\"><span class=\"lex xft\" ><span class=\"f\">lex=</span>BW>[</span></div></div></div></div><div class=\"contnr c1  rtl  hl\" ><div class=\"lbl c1  hl\" ><span class=\"nd\">phrase:436263 </span> <span class=\"\"><span title=\"typ\">PP</span> <span title=\"function\">Cmpl</span></span></div><div class=\"features\"><span class=\"function xft\" ><span class=\"f\">function=</span>Cmpl</span></div><div class=\"children hor wrap rtl\"><div class=\"contnr c0 trm rtl  hl\" ><div class=\"lbl c0 trm hl\" ><span class=\"nd\">89358 </span> <span class=\"txtu hbo\">אֶל־</span></div><div class=\"features\"><span class=\"lex xft\" ><span class=\"f\">lex=</span>>L</span></div></div><div class=\"contnr c0 trm rtl  \" ><div class=\"lbl c0 trm \" ><span class=\"nd\">89359 </span> <span class=\"txtu hbo\">הַֽ</span></div><div class=\"features\"><span class=\"lex xft\" ><span class=\"f\">lex=</span>H</span></div></div><div class=\"contnr c0 trm rtl  \" ><div class=\"lbl c0 trm \" ><span class=\"nd\">89360 </span> <span class=\"txtu hbo\">מַּחֲנֶֽה׃ פ </span></div><div class=\"features\"><span class=\"lex xft\" ><span class=\"f\">lex=</span>MXNH/</span></div></div></div></div></div></div></div>"
      ],
      "text/plain": [
       "<IPython.core.display.HTML object>"
      ]
     },
     "metadata": {},
     "output_type": "display_data"
    },
    {
     "data": {
      "text/html": [
       "<p><b>result</b> <i>30</i>"
      ],
      "text/plain": [
       "<IPython.core.display.HTML object>"
      ]
     },
     "metadata": {},
     "output_type": "display_data"
    },
    {
     "data": {
      "text/html": [
       "<div class=\"tfsechead rtl\"><span class=\"ltr\"><a target=\"_blank\" href=\"https://shebanq.ancient-data.org/hebrew/text?book=Numeri&amp;chapter=35&amp;verse=28&amp;version=2021&amp;mr=m&amp;qw=q&amp;tp=txt_p&amp;tr=hb&amp;wget=v&amp;qget=v&amp;nget=vt\" title=\"Show this on SHEBANQ\" sec=\"Numbers 35:28\">Numbers 35:28</a></span></div><div class=\"rtl children\"><div class=\"contnr c2  rtl  \" ><div class=\"lbl c2  \" ><span class=\"nd\">clause:320224 </span> <span class=\"\"><span title=\"typ\">WxYX</span> <span title=\"rela\">NA</span></span></div><div class=\"children hor wrap rtl\"><div class=\"contnr c1  rtl  \" ><div class=\"lbl c1  \" ><span class=\"nd\">phrase:437824 </span> <span class=\"\"><span title=\"typ\">CP</span> <span title=\"function\">Conj</span></span></div><div class=\"features\"><span class=\"function xft\" ><span class=\"f\">function=</span>Conj</span></div><div class=\"children hor wrap rtl\"><div class=\"contnr c0 trm rtl  \" ><div class=\"lbl c0 trm \" ><span class=\"nd\">92376 </span> <span class=\"txtu hbo\">וְ</span></div><div class=\"features\"><span class=\"lex xft\" ><span class=\"f\">lex=</span>W</span></div></div></div></div><div class=\"contnr c1  rtl  hl\" ><div class=\"lbl c1  hl\" ><span class=\"nd\">phrase:437825 </span> <span class=\"\"><span title=\"typ\">PP</span> <span title=\"function\">Time</span></span></div><div class=\"features\"><span class=\"function xft\" ><span class=\"f\">function=</span>Time</span></div><div class=\"children hor wrap rtl\"><div class=\"contnr c0 trm rtl  \" ><div class=\"lbl c0 trm \" ><span class=\"nd\">92377 </span> <span class=\"txtu hbo\">אַחֲרֵ֥י </span></div><div class=\"features\"><span class=\"lex xft\" ><span class=\"f\">lex=</span>>XR/</span></div></div><div class=\"contnr c0 trm rtl  \" ><div class=\"lbl c0 trm \" ><span class=\"nd\">92378 </span> <span class=\"txtu hbo\">מֹות֙ </span></div><div class=\"features\"><span class=\"lex xft\" ><span class=\"f\">lex=</span>MWT/</span></div></div><div class=\"contnr c0 trm rtl  \" ><div class=\"lbl c0 trm \" ><span class=\"nd\">92379 </span> <span class=\"txtu hbo\">הַ</span></div><div class=\"features\"><span class=\"lex xft\" ><span class=\"f\">lex=</span>H</span></div></div><div class=\"contnr c0 trm rtl  \" ><div class=\"lbl c0 trm \" ><span class=\"nd\">92380 </span> <span class=\"txtu hbo\">כֹּהֵ֣ן </span></div><div class=\"features\"><span class=\"lex xft\" ><span class=\"f\">lex=</span>KHN/</span></div></div><div class=\"contnr c0 trm rtl  \" ><div class=\"lbl c0 trm \" ><span class=\"nd\">92381 </span> <span class=\"txtu hbo\">הַ</span></div><div class=\"features\"><span class=\"lex xft\" ><span class=\"f\">lex=</span>H</span></div></div><div class=\"contnr c0 trm rtl  \" ><div class=\"lbl c0 trm \" ><span class=\"nd\">92382 </span> <span class=\"txtu hbo\">גָּדֹ֔ל </span></div><div class=\"features\"><span class=\"lex xft\" ><span class=\"f\">lex=</span>GDWL/</span></div></div></div></div><div class=\"contnr c1  rtl  \" ><div class=\"lbl c1  \" ><span class=\"nd\">phrase:437826 </span> <span class=\"\"><span title=\"typ\">VP</span> <span title=\"function\">Pred</span></span></div><div class=\"features\"><span class=\"function xft\" ><span class=\"f\">function=</span>Pred</span></div><div class=\"children hor wrap rtl\"><div class=\"contnr c0 trm rtl  hl\" ><div class=\"lbl c0 trm hl\" ><span class=\"nd\">92383 </span> <span class=\"txtu hbo\">יָשׁוּב֙ </span></div><div class=\"features\"><span class=\"lex xft\" ><span class=\"f\">lex=</span>CWB[</span></div></div></div></div><div class=\"contnr c1  rtl  \" ><div class=\"lbl c1  \" ><span class=\"nd\">phrase:437827 </span> <span class=\"\"><span title=\"typ\">NP</span> <span title=\"function\">Subj</span></span></div><div class=\"features\"><span class=\"function xft\" ><span class=\"f\">function=</span>Subj</span></div><div class=\"children hor wrap rtl\"><div class=\"contnr c0 trm rtl  \" ><div class=\"lbl c0 trm \" ><span class=\"nd\">92384 </span> <span class=\"txtu hbo\">הָ</span></div><div class=\"features\"><span class=\"lex xft\" ><span class=\"f\">lex=</span>H</span></div></div><div class=\"contnr c0 trm rtl  \" ><div class=\"lbl c0 trm \" ><span class=\"nd\">92385 </span> <span class=\"txtu hbo\">רֹצֵ֔חַ </span></div><div class=\"features\"><span class=\"lex xft\" ><span class=\"f\">lex=</span>RYX[</span></div></div></div></div><div class=\"contnr c1  rtl  hl\" ><div class=\"lbl c1  hl\" ><span class=\"nd\">phrase:437828 </span> <span class=\"\"><span title=\"typ\">PP</span> <span title=\"function\">Cmpl</span></span></div><div class=\"features\"><span class=\"function xft\" ><span class=\"f\">function=</span>Cmpl</span></div><div class=\"children hor wrap rtl\"><div class=\"contnr c0 trm rtl  hl\" ><div class=\"lbl c0 trm hl\" ><span class=\"nd\">92386 </span> <span class=\"txtu hbo\">אֶל־</span></div><div class=\"features\"><span class=\"lex xft\" ><span class=\"f\">lex=</span>>L</span></div></div><div class=\"contnr c0 trm rtl  \" ><div class=\"lbl c0 trm \" ><span class=\"nd\">92387 </span> <span class=\"txtu hbo\">אֶ֖רֶץ </span></div><div class=\"features\"><span class=\"lex xft\" ><span class=\"f\">lex=</span>>RY/</span></div></div><div class=\"contnr c0 trm rtl  \" ><div class=\"lbl c0 trm \" ><span class=\"nd\">92388 </span> <span class=\"txtu hbo\">אֲחֻזָּתֹֽו׃ </span></div><div class=\"features\"><span class=\"lex xft\" ><span class=\"f\">lex=</span>>XZH/</span></div></div></div></div></div></div></div>"
      ],
      "text/plain": [
       "<IPython.core.display.HTML object>"
      ]
     },
     "metadata": {},
     "output_type": "display_data"
    },
    {
     "data": {
      "text/html": [
       "<p><b>result</b> <i>31</i>"
      ],
      "text/plain": [
       "<IPython.core.display.HTML object>"
      ]
     },
     "metadata": {},
     "output_type": "display_data"
    },
    {
     "data": {
      "text/html": [
       "<div class=\"tfsechead rtl\"><span class=\"ltr\"><a target=\"_blank\" href=\"https://shebanq.ancient-data.org/hebrew/text?book=Deuteronomium&amp;chapter=1&amp;verse=9&amp;version=2021&amp;mr=m&amp;qw=q&amp;tp=txt_p&amp;tr=hb&amp;wget=v&amp;qget=v&amp;nget=vt\" title=\"Show this on SHEBANQ\" sec=\"Deuteronomy 1:9\">Deuteronomy 1:9</a></span></div><div class=\"rtl children\"><div class=\"contnr c2  rtl  \" ><div class=\"lbl c2  \" ><span class=\"nd\">clause:320317 </span> <span class=\"\"><span title=\"typ\">Way0</span> <span title=\"rela\">NA</span></span></div><div class=\"children hor wrap rtl\"><div class=\"contnr c1  rtl  \" ><div class=\"lbl c1  \" ><span class=\"nd\">phrase:438124 </span> <span class=\"\"><span title=\"typ\">CP</span> <span title=\"function\">Conj</span></span></div><div class=\"features\"><span class=\"function xft\" ><span class=\"f\">function=</span>Conj</span></div><div class=\"children hor wrap rtl\"><div class=\"contnr c0 trm rtl  \" ><div class=\"lbl c0 trm \" ><span class=\"nd\">93001 </span> <span class=\"txtu hbo\">וָ</span></div><div class=\"features\"><span class=\"lex xft\" ><span class=\"f\">lex=</span>W</span></div></div></div></div><div class=\"contnr c1  rtl  \" ><div class=\"lbl c1  \" ><span class=\"nd\">phrase:438125 </span> <span class=\"\"><span title=\"typ\">VP</span> <span title=\"function\">Pred</span></span></div><div class=\"features\"><span class=\"function xft\" ><span class=\"f\">function=</span>Pred</span></div><div class=\"children hor wrap rtl\"><div class=\"contnr c0 trm rtl  hl\" ><div class=\"lbl c0 trm hl\" ><span class=\"nd\">93002 </span> <span class=\"txtu hbo\">אֹמַ֣ר </span></div><div class=\"features\"><span class=\"lex xft\" ><span class=\"f\">lex=</span>>MR[</span></div></div></div></div><div class=\"contnr c1  rtl  hl\" ><div class=\"lbl c1  hl\" ><span class=\"nd\">phrase:438126 </span> <span class=\"\"><span title=\"typ\">PP</span> <span title=\"function\">Cmpl</span></span></div><div class=\"features\"><span class=\"function xft\" ><span class=\"f\">function=</span>Cmpl</span></div><div class=\"children hor wrap rtl\"><div class=\"contnr c0 trm rtl  hl\" ><div class=\"lbl c0 trm hl\" ><span class=\"nd\">93003 </span> <span class=\"txtu hbo\">אֲלֵכֶ֔ם </span></div><div class=\"features\"><span class=\"lex xft\" ><span class=\"f\">lex=</span>>L</span></div></div></div></div><div class=\"contnr c1  rtl  hl\" ><div class=\"lbl c1  hl\" ><span class=\"nd\">phrase:438127 </span> <span class=\"\"><span title=\"typ\">PP</span> <span title=\"function\">Time</span></span></div><div class=\"features\"><span class=\"function xft\" ><span class=\"f\">function=</span>Time</span></div><div class=\"children hor wrap rtl\"><div class=\"contnr c0 trm rtl  \" ><div class=\"lbl c0 trm \" ><span class=\"nd\">93004 </span> <span class=\"txtu hbo\">בָּ</span></div><div class=\"features\"><span class=\"lex xft\" ><span class=\"f\">lex=</span>B</span></div></div><div class=\"contnr c0 trm rtl  \" ><div class=\"lbl c0 trm \" ><span class=\"nd\">93005 </span></div><div class=\"features\"><span class=\"lex xft\" ><span class=\"f\">lex=</span>H</span></div></div><div class=\"contnr c0 trm rtl  \" ><div class=\"lbl c0 trm \" ><span class=\"nd\">93006 </span> <span class=\"txtu hbo\">עֵ֥ת </span></div><div class=\"features\"><span class=\"lex xft\" ><span class=\"f\">lex=</span>&lt;T/</span></div></div><div class=\"contnr c0 trm rtl  \" ><div class=\"lbl c0 trm \" ><span class=\"nd\">93007 </span> <span class=\"txtu hbo\">הַ</span></div><div class=\"features\"><span class=\"lex xft\" ><span class=\"f\">lex=</span>H</span></div></div><div class=\"contnr c0 trm rtl  \" ><div class=\"lbl c0 trm \" ><span class=\"nd\">93008 </span> <span class=\"txtu hbo\">הִ֖וא </span></div><div class=\"features\"><span class=\"lex xft\" ><span class=\"f\">lex=</span>HJ></span></div></div></div></div></div></div></div>"
      ],
      "text/plain": [
       "<IPython.core.display.HTML object>"
      ]
     },
     "metadata": {},
     "output_type": "display_data"
    },
    {
     "data": {
      "text/html": [
       "<p><b>result</b> <i>32</i>"
      ],
      "text/plain": [
       "<IPython.core.display.HTML object>"
      ]
     },
     "metadata": {},
     "output_type": "display_data"
    },
    {
     "data": {
      "text/html": [
       "<div class=\"tfsechead rtl\"><span class=\"ltr\"><a target=\"_blank\" href=\"https://shebanq.ancient-data.org/hebrew/text?book=Deuteronomium&amp;chapter=10&amp;verse=1&amp;version=2021&amp;mr=m&amp;qw=q&amp;tp=txt_p&amp;tr=hb&amp;wget=v&amp;qget=v&amp;nget=vt\" title=\"Show this on SHEBANQ\" sec=\"Deuteronomy 10:1\">Deuteronomy 10:1</a></span></div><div class=\"rtl children\"><div class=\"contnr c2  rtl  \" ><div class=\"lbl c2  \" ><span class=\"nd\">clause:321476 </span> <span class=\"\"><span title=\"typ\">xQtX</span> <span title=\"rela\">NA</span></span></div><div class=\"children hor wrap rtl\"><div class=\"contnr c1  rtl  hl\" ><div class=\"lbl c1  hl\" ><span class=\"nd\">phrase:441547 </span> <span class=\"\"><span title=\"typ\">PP</span> <span title=\"function\">Time</span></span></div><div class=\"features\"><span class=\"function xft\" ><span class=\"f\">function=</span>Time</span></div><div class=\"children hor wrap rtl\"><div class=\"contnr c0 trm rtl  \" ><div class=\"lbl c0 trm \" ><span class=\"nd\">99116 </span> <span class=\"txtu hbo\">בָּ</span></div><div class=\"features\"><span class=\"lex xft\" ><span class=\"f\">lex=</span>B</span></div></div><div class=\"contnr c0 trm rtl  \" ><div class=\"lbl c0 trm \" ><span class=\"nd\">99117 </span></div><div class=\"features\"><span class=\"lex xft\" ><span class=\"f\">lex=</span>H</span></div></div><div class=\"contnr c0 trm rtl  \" ><div class=\"lbl c0 trm \" ><span class=\"nd\">99118 </span> <span class=\"txtu hbo\">עֵ֨ת </span></div><div class=\"features\"><span class=\"lex xft\" ><span class=\"f\">lex=</span>&lt;T/</span></div></div><div class=\"contnr c0 trm rtl  \" ><div class=\"lbl c0 trm \" ><span class=\"nd\">99119 </span> <span class=\"txtu hbo\">הַ</span></div><div class=\"features\"><span class=\"lex xft\" ><span class=\"f\">lex=</span>H</span></div></div><div class=\"contnr c0 trm rtl  \" ><div class=\"lbl c0 trm \" ><span class=\"nd\">99120 </span> <span class=\"txtu hbo\">הִ֜וא </span></div><div class=\"features\"><span class=\"lex xft\" ><span class=\"f\">lex=</span>HJ></span></div></div></div></div><div class=\"contnr c1  rtl  \" ><div class=\"lbl c1  \" ><span class=\"nd\">phrase:441548 </span> <span class=\"\"><span title=\"typ\">VP</span> <span title=\"function\">Pred</span></span></div><div class=\"features\"><span class=\"function xft\" ><span class=\"f\">function=</span>Pred</span></div><div class=\"children hor wrap rtl\"><div class=\"contnr c0 trm rtl  hl\" ><div class=\"lbl c0 trm hl\" ><span class=\"nd\">99121 </span> <span class=\"txtu hbo\">אָמַ֧ר </span></div><div class=\"features\"><span class=\"lex xft\" ><span class=\"f\">lex=</span>>MR[</span></div></div></div></div><div class=\"contnr c1  rtl  \" ><div class=\"lbl c1  \" ><span class=\"nd\">phrase:441549 </span> <span class=\"\"><span title=\"typ\">PrNP</span> <span title=\"function\">Subj</span></span></div><div class=\"features\"><span class=\"function xft\" ><span class=\"f\">function=</span>Subj</span></div><div class=\"children hor wrap rtl\"><div class=\"contnr c0 trm rtl  \" ><div class=\"lbl c0 trm \" ><span class=\"nd\">99122 </span> <span class=\"txtu hbo\">יְהוָ֣ה </span></div><div class=\"features\"><span class=\"lex xft\" ><span class=\"f\">lex=</span>JHWH/</span></div></div></div></div><div class=\"contnr c1  rtl  hl\" ><div class=\"lbl c1  hl\" ><span class=\"nd\">phrase:441550 </span> <span class=\"\"><span title=\"typ\">PP</span> <span title=\"function\">Cmpl</span></span></div><div class=\"features\"><span class=\"function xft\" ><span class=\"f\">function=</span>Cmpl</span></div><div class=\"children hor wrap rtl\"><div class=\"contnr c0 trm rtl  hl\" ><div class=\"lbl c0 trm hl\" ><span class=\"nd\">99123 </span> <span class=\"txtu hbo\">אֵלַ֗י </span></div><div class=\"features\"><span class=\"lex xft\" ><span class=\"f\">lex=</span>>L</span></div></div></div></div></div></div></div>"
      ],
      "text/plain": [
       "<IPython.core.display.HTML object>"
      ]
     },
     "metadata": {},
     "output_type": "display_data"
    },
    {
     "data": {
      "text/html": [
       "<p><b>result</b> <i>33</i>"
      ],
      "text/plain": [
       "<IPython.core.display.HTML object>"
      ]
     },
     "metadata": {},
     "output_type": "display_data"
    },
    {
     "data": {
      "text/html": [
       "<div class=\"tfsechead rtl\"><span class=\"ltr\"><a target=\"_blank\" href=\"https://shebanq.ancient-data.org/hebrew/text?book=Deuteronomium&amp;chapter=12&amp;verse=9&amp;version=2021&amp;mr=m&amp;qw=q&amp;tp=txt_p&amp;tr=hb&amp;wget=v&amp;qget=v&amp;nget=vt\" title=\"Show this on SHEBANQ\" sec=\"Deuteronomy 12:9\">Deuteronomy 12:9</a></span></div><div class=\"rtl children\"><div class=\"contnr c2  rtl  \" ><div class=\"lbl c2  \" ><span class=\"nd\">clause:321713 </span> <span class=\"\"><span title=\"typ\">xQt0</span> <span title=\"rela\">NA</span></span></div><div class=\"children hor wrap rtl\"><div class=\"contnr c1  rtl  \" ><div class=\"lbl c1  \" ><span class=\"nd\">phrase:442285 </span> <span class=\"\"><span title=\"typ\">CP</span> <span title=\"function\">Conj</span></span></div><div class=\"features\"><span class=\"function xft\" ><span class=\"f\">function=</span>Conj</span></div><div class=\"children hor wrap rtl\"><div class=\"contnr c0 trm rtl  \" ><div class=\"lbl c0 trm \" ><span class=\"nd\">100479 </span> <span class=\"txtu hbo\">כִּ֥י </span></div><div class=\"features\"><span class=\"lex xft\" ><span class=\"f\">lex=</span>KJ</span></div></div></div></div><div class=\"contnr c1  rtl  \" ><div class=\"lbl c1  \" ><span class=\"nd\">phrase:442286 </span> <span class=\"\"><span title=\"typ\">NegP</span> <span title=\"function\">Nega</span></span></div><div class=\"features\"><span class=\"function xft\" ><span class=\"f\">function=</span>Nega</span></div><div class=\"children hor wrap rtl\"><div class=\"contnr c0 trm rtl  \" ><div class=\"lbl c0 trm \" ><span class=\"nd\">100480 </span> <span class=\"txtu hbo\">לֹא־</span></div><div class=\"features\"><span class=\"lex xft\" ><span class=\"f\">lex=</span>L></span></div></div></div></div><div class=\"contnr c1  rtl  \" ><div class=\"lbl c1  \" ><span class=\"nd\">phrase:442287 </span> <span class=\"\"><span title=\"typ\">VP</span> <span title=\"function\">Pred</span></span></div><div class=\"features\"><span class=\"function xft\" ><span class=\"f\">function=</span>Pred</span></div><div class=\"children hor wrap rtl\"><div class=\"contnr c0 trm rtl  hl\" ><div class=\"lbl c0 trm hl\" ><span class=\"nd\">100481 </span> <span class=\"txtu hbo\">בָּאתֶ֖ם </span></div><div class=\"features\"><span class=\"lex xft\" ><span class=\"f\">lex=</span>BW>[</span></div></div></div></div><div class=\"contnr c1  rtl  hl\" ><div class=\"lbl c1  hl\" ><span class=\"nd\">phrase:442288 </span> <span class=\"\"><span title=\"typ\">PP</span> <span title=\"function\">Time</span></span></div><div class=\"features\"><span class=\"function xft\" ><span class=\"f\">function=</span>Time</span></div><div class=\"children hor wrap rtl\"><div class=\"contnr c0 trm rtl  \" ><div class=\"lbl c0 trm \" ><span class=\"nd\">100482 </span> <span class=\"txtu hbo\">עַד־</span></div><div class=\"features\"><span class=\"lex xft\" ><span class=\"f\">lex=</span>&lt;D</span></div></div><div class=\"contnr c0 trm rtl  \" ><div class=\"lbl c0 trm \" ><span class=\"nd\">100483 </span> <span class=\"txtu hbo\">עָ֑תָּה </span></div><div class=\"features\"><span class=\"lex xft\" ><span class=\"f\">lex=</span>&lt;TH</span></div></div></div></div><div class=\"contnr c1  rtl  hl\" ><div class=\"lbl c1  hl\" ><span class=\"nd\">phrase:442289 </span> <span class=\"\"><span title=\"typ\">PP</span> <span title=\"function\">Cmpl</span></span></div><div class=\"features\"><span class=\"function xft\" ><span class=\"f\">function=</span>Cmpl</span></div><div class=\"children hor wrap rtl\"><div class=\"contnr c0 trm rtl  hl\" ><div class=\"lbl c0 trm hl\" ><span class=\"nd\">100484 </span> <span class=\"txtu hbo\">אֶל־</span></div><div class=\"features\"><span class=\"lex xft\" ><span class=\"f\">lex=</span>>L</span></div></div><div class=\"contnr c0 trm rtl  \" ><div class=\"lbl c0 trm \" ><span class=\"nd\">100485 </span> <span class=\"txtu hbo\">הַ</span></div><div class=\"features\"><span class=\"lex xft\" ><span class=\"f\">lex=</span>H</span></div></div><div class=\"contnr c0 trm rtl  \" ><div class=\"lbl c0 trm \" ><span class=\"nd\">100486 </span> <span class=\"txtu hbo\">מְּנוּחָה֙ </span></div><div class=\"features\"><span class=\"lex xft\" ><span class=\"f\">lex=</span>MNWXH/</span></div></div><div class=\"contnr c0 trm rtl  \" ><div class=\"lbl c0 trm \" ><span class=\"nd\">100487 </span> <span class=\"txtu hbo\">וְ</span></div><div class=\"features\"><span class=\"lex xft\" ><span class=\"f\">lex=</span>W</span></div></div><div class=\"contnr c0 trm rtl  \" ><div class=\"lbl c0 trm \" ><span class=\"nd\">100488 </span> <span class=\"txtu hbo\">אֶל־</span></div><div class=\"features\"><span class=\"lex xft\" ><span class=\"f\">lex=</span>>L</span></div></div><div class=\"contnr c0 trm rtl  \" ><div class=\"lbl c0 trm \" ><span class=\"nd\">100489 </span> <span class=\"txtu hbo\">הַֽ</span></div><div class=\"features\"><span class=\"lex xft\" ><span class=\"f\">lex=</span>H</span></div></div><div class=\"contnr c0 trm rtl  \" ><div class=\"lbl c0 trm \" ><span class=\"nd\">100490 </span> <span class=\"txtu hbo\">נַּחֲלָ֔ה </span></div><div class=\"features\"><span class=\"lex xft\" ><span class=\"f\">lex=</span>NXLH/</span></div></div></div></div></div></div></div>"
      ],
      "text/plain": [
       "<IPython.core.display.HTML object>"
      ]
     },
     "metadata": {},
     "output_type": "display_data"
    },
    {
     "data": {
      "text/html": [
       "<p><b>result</b> <i>34</i>"
      ],
      "text/plain": [
       "<IPython.core.display.HTML object>"
      ]
     },
     "metadata": {},
     "output_type": "display_data"
    },
    {
     "data": {
      "text/html": [
       "<div class=\"tfsechead rtl\"><span class=\"ltr\"><a target=\"_blank\" href=\"https://shebanq.ancient-data.org/hebrew/text?book=Deuteronomium&amp;chapter=12&amp;verse=9&amp;version=2021&amp;mr=m&amp;qw=q&amp;tp=txt_p&amp;tr=hb&amp;wget=v&amp;qget=v&amp;nget=vt\" title=\"Show this on SHEBANQ\" sec=\"Deuteronomy 12:9\">Deuteronomy 12:9</a></span></div><div class=\"rtl children\"><div class=\"contnr c2  rtl  \" ><div class=\"lbl c2  \" ><span class=\"nd\">clause:321713 </span> <span class=\"\"><span title=\"typ\">xQt0</span> <span title=\"rela\">NA</span></span></div><div class=\"children hor wrap rtl\"><div class=\"contnr c1  rtl  \" ><div class=\"lbl c1  \" ><span class=\"nd\">phrase:442285 </span> <span class=\"\"><span title=\"typ\">CP</span> <span title=\"function\">Conj</span></span></div><div class=\"features\"><span class=\"function xft\" ><span class=\"f\">function=</span>Conj</span></div><div class=\"children hor wrap rtl\"><div class=\"contnr c0 trm rtl  \" ><div class=\"lbl c0 trm \" ><span class=\"nd\">100479 </span> <span class=\"txtu hbo\">כִּ֥י </span></div><div class=\"features\"><span class=\"lex xft\" ><span class=\"f\">lex=</span>KJ</span></div></div></div></div><div class=\"contnr c1  rtl  \" ><div class=\"lbl c1  \" ><span class=\"nd\">phrase:442286 </span> <span class=\"\"><span title=\"typ\">NegP</span> <span title=\"function\">Nega</span></span></div><div class=\"features\"><span class=\"function xft\" ><span class=\"f\">function=</span>Nega</span></div><div class=\"children hor wrap rtl\"><div class=\"contnr c0 trm rtl  \" ><div class=\"lbl c0 trm \" ><span class=\"nd\">100480 </span> <span class=\"txtu hbo\">לֹא־</span></div><div class=\"features\"><span class=\"lex xft\" ><span class=\"f\">lex=</span>L></span></div></div></div></div><div class=\"contnr c1  rtl  \" ><div class=\"lbl c1  \" ><span class=\"nd\">phrase:442287 </span> <span class=\"\"><span title=\"typ\">VP</span> <span title=\"function\">Pred</span></span></div><div class=\"features\"><span class=\"function xft\" ><span class=\"f\">function=</span>Pred</span></div><div class=\"children hor wrap rtl\"><div class=\"contnr c0 trm rtl  hl\" ><div class=\"lbl c0 trm hl\" ><span class=\"nd\">100481 </span> <span class=\"txtu hbo\">בָּאתֶ֖ם </span></div><div class=\"features\"><span class=\"lex xft\" ><span class=\"f\">lex=</span>BW>[</span></div></div></div></div><div class=\"contnr c1  rtl  hl\" ><div class=\"lbl c1  hl\" ><span class=\"nd\">phrase:442288 </span> <span class=\"\"><span title=\"typ\">PP</span> <span title=\"function\">Time</span></span></div><div class=\"features\"><span class=\"function xft\" ><span class=\"f\">function=</span>Time</span></div><div class=\"children hor wrap rtl\"><div class=\"contnr c0 trm rtl  \" ><div class=\"lbl c0 trm \" ><span class=\"nd\">100482 </span> <span class=\"txtu hbo\">עַד־</span></div><div class=\"features\"><span class=\"lex xft\" ><span class=\"f\">lex=</span>&lt;D</span></div></div><div class=\"contnr c0 trm rtl  \" ><div class=\"lbl c0 trm \" ><span class=\"nd\">100483 </span> <span class=\"txtu hbo\">עָ֑תָּה </span></div><div class=\"features\"><span class=\"lex xft\" ><span class=\"f\">lex=</span>&lt;TH</span></div></div></div></div><div class=\"contnr c1  rtl  hl\" ><div class=\"lbl c1  hl\" ><span class=\"nd\">phrase:442289 </span> <span class=\"\"><span title=\"typ\">PP</span> <span title=\"function\">Cmpl</span></span></div><div class=\"features\"><span class=\"function xft\" ><span class=\"f\">function=</span>Cmpl</span></div><div class=\"children hor wrap rtl\"><div class=\"contnr c0 trm rtl  \" ><div class=\"lbl c0 trm \" ><span class=\"nd\">100484 </span> <span class=\"txtu hbo\">אֶל־</span></div><div class=\"features\"><span class=\"lex xft\" ><span class=\"f\">lex=</span>>L</span></div></div><div class=\"contnr c0 trm rtl  \" ><div class=\"lbl c0 trm \" ><span class=\"nd\">100485 </span> <span class=\"txtu hbo\">הַ</span></div><div class=\"features\"><span class=\"lex xft\" ><span class=\"f\">lex=</span>H</span></div></div><div class=\"contnr c0 trm rtl  \" ><div class=\"lbl c0 trm \" ><span class=\"nd\">100486 </span> <span class=\"txtu hbo\">מְּנוּחָה֙ </span></div><div class=\"features\"><span class=\"lex xft\" ><span class=\"f\">lex=</span>MNWXH/</span></div></div><div class=\"contnr c0 trm rtl  \" ><div class=\"lbl c0 trm \" ><span class=\"nd\">100487 </span> <span class=\"txtu hbo\">וְ</span></div><div class=\"features\"><span class=\"lex xft\" ><span class=\"f\">lex=</span>W</span></div></div><div class=\"contnr c0 trm rtl  hl\" ><div class=\"lbl c0 trm hl\" ><span class=\"nd\">100488 </span> <span class=\"txtu hbo\">אֶל־</span></div><div class=\"features\"><span class=\"lex xft\" ><span class=\"f\">lex=</span>>L</span></div></div><div class=\"contnr c0 trm rtl  \" ><div class=\"lbl c0 trm \" ><span class=\"nd\">100489 </span> <span class=\"txtu hbo\">הַֽ</span></div><div class=\"features\"><span class=\"lex xft\" ><span class=\"f\">lex=</span>H</span></div></div><div class=\"contnr c0 trm rtl  \" ><div class=\"lbl c0 trm \" ><span class=\"nd\">100490 </span> <span class=\"txtu hbo\">נַּחֲלָ֔ה </span></div><div class=\"features\"><span class=\"lex xft\" ><span class=\"f\">lex=</span>NXLH/</span></div></div></div></div></div></div></div>"
      ],
      "text/plain": [
       "<IPython.core.display.HTML object>"
      ]
     },
     "metadata": {},
     "output_type": "display_data"
    },
    {
     "data": {
      "text/html": [
       "<p><b>result</b> <i>35</i>"
      ],
      "text/plain": [
       "<IPython.core.display.HTML object>"
      ]
     },
     "metadata": {},
     "output_type": "display_data"
    },
    {
     "data": {
      "text/html": [
       "<div class=\"tfsechead rtl\"><span class=\"ltr\"><a target=\"_blank\" href=\"https://shebanq.ancient-data.org/hebrew/text?book=Josua&amp;chapter=5&amp;verse=2&amp;version=2021&amp;mr=m&amp;qw=q&amp;tp=txt_p&amp;tr=hb&amp;wget=v&amp;qget=v&amp;nget=vt\" title=\"Show this on SHEBANQ\" sec=\"Joshua 5:2\">Joshua 5:2</a></span></div><div class=\"rtl children\"><div class=\"contnr c2  rtl  \" ><div class=\"lbl c2  \" ><span class=\"nd\">clause:324531 </span> <span class=\"\"><span title=\"typ\">xQtX</span> <span title=\"rela\">NA</span></span></div><div class=\"children hor wrap rtl\"><div class=\"contnr c1  rtl  hl\" ><div class=\"lbl c1  hl\" ><span class=\"nd\">phrase:450725 </span> <span class=\"\"><span title=\"typ\">PP</span> <span title=\"function\">Time</span></span></div><div class=\"features\"><span class=\"function xft\" ><span class=\"f\">function=</span>Time</span></div><div class=\"children hor wrap rtl\"><div class=\"contnr c0 trm rtl  \" ><div class=\"lbl c0 trm \" ><span class=\"nd\">114988 </span> <span class=\"txtu hbo\">בָּ</span></div><div class=\"features\"><span class=\"lex xft\" ><span class=\"f\">lex=</span>B</span></div></div><div class=\"contnr c0 trm rtl  \" ><div class=\"lbl c0 trm \" ><span class=\"nd\">114989 </span></div><div class=\"features\"><span class=\"lex xft\" ><span class=\"f\">lex=</span>H</span></div></div><div class=\"contnr c0 trm rtl  \" ><div class=\"lbl c0 trm \" ><span class=\"nd\">114990 </span> <span class=\"txtu hbo\">עֵ֣ת </span></div><div class=\"features\"><span class=\"lex xft\" ><span class=\"f\">lex=</span>&lt;T/</span></div></div><div class=\"contnr c0 trm rtl  \" ><div class=\"lbl c0 trm \" ><span class=\"nd\">114991 </span> <span class=\"txtu hbo\">הַ</span></div><div class=\"features\"><span class=\"lex xft\" ><span class=\"f\">lex=</span>H</span></div></div><div class=\"contnr c0 trm rtl  \" ><div class=\"lbl c0 trm \" ><span class=\"nd\">114992 </span> <span class=\"txtu hbo\">הִ֗יא </span></div><div class=\"features\"><span class=\"lex xft\" ><span class=\"f\">lex=</span>HJ></span></div></div></div></div><div class=\"contnr c1  rtl  \" ><div class=\"lbl c1  \" ><span class=\"nd\">phrase:450726 </span> <span class=\"\"><span title=\"typ\">VP</span> <span title=\"function\">Pred</span></span></div><div class=\"features\"><span class=\"function xft\" ><span class=\"f\">function=</span>Pred</span></div><div class=\"children hor wrap rtl\"><div class=\"contnr c0 trm rtl  hl\" ><div class=\"lbl c0 trm hl\" ><span class=\"nd\">114993 </span> <span class=\"txtu hbo\">אָמַ֤ר </span></div><div class=\"features\"><span class=\"lex xft\" ><span class=\"f\">lex=</span>>MR[</span></div></div></div></div><div class=\"contnr c1  rtl  \" ><div class=\"lbl c1  \" ><span class=\"nd\">phrase:450727 </span> <span class=\"\"><span title=\"typ\">PrNP</span> <span title=\"function\">Subj</span></span></div><div class=\"features\"><span class=\"function xft\" ><span class=\"f\">function=</span>Subj</span></div><div class=\"children hor wrap rtl\"><div class=\"contnr c0 trm rtl  \" ><div class=\"lbl c0 trm \" ><span class=\"nd\">114994 </span> <span class=\"txtu hbo\">יְהוָה֙ </span></div><div class=\"features\"><span class=\"lex xft\" ><span class=\"f\">lex=</span>JHWH/</span></div></div></div></div><div class=\"contnr c1  rtl  hl\" ><div class=\"lbl c1  hl\" ><span class=\"nd\">phrase:450728 </span> <span class=\"\"><span title=\"typ\">PP</span> <span title=\"function\">Cmpl</span></span></div><div class=\"features\"><span class=\"function xft\" ><span class=\"f\">function=</span>Cmpl</span></div><div class=\"children hor wrap rtl\"><div class=\"contnr c0 trm rtl  hl\" ><div class=\"lbl c0 trm hl\" ><span class=\"nd\">114995 </span> <span class=\"txtu hbo\">אֶל־</span></div><div class=\"features\"><span class=\"lex xft\" ><span class=\"f\">lex=</span>>L</span></div></div><div class=\"contnr c0 trm rtl  \" ><div class=\"lbl c0 trm \" ><span class=\"nd\">114996 </span> <span class=\"txtu hbo\">יְהֹושֻׁ֔עַ </span></div><div class=\"features\"><span class=\"lex xft\" ><span class=\"f\">lex=</span>JHWC&lt;/</span></div></div></div></div></div></div></div>"
      ],
      "text/plain": [
       "<IPython.core.display.HTML object>"
      ]
     },
     "metadata": {},
     "output_type": "display_data"
    },
    {
     "data": {
      "text/html": [
       "<p><b>result</b> <i>36</i>"
      ],
      "text/plain": [
       "<IPython.core.display.HTML object>"
      ]
     },
     "metadata": {},
     "output_type": "display_data"
    },
    {
     "data": {
      "text/html": [
       "<div class=\"tfsechead rtl\"><span class=\"ltr\"><a target=\"_blank\" href=\"https://shebanq.ancient-data.org/hebrew/text?book=Josua&amp;chapter=9&amp;verse=17&amp;version=2021&amp;mr=m&amp;qw=q&amp;tp=txt_p&amp;tr=hb&amp;wget=v&amp;qget=v&amp;nget=vt\" title=\"Show this on SHEBANQ\" sec=\"Joshua 9:17\">Joshua 9:17</a></span></div><div class=\"rtl children\"><div class=\"contnr c2  rtl  \" ><div class=\"lbl c2  \" ><span class=\"nd\">clause:325086 </span> <span class=\"\"><span title=\"typ\">Way0</span> <span title=\"rela\">NA</span></span></div><div class=\"children hor wrap rtl\"><div class=\"contnr c1  rtl  \" ><div class=\"lbl c1  \" ><span class=\"nd\">phrase:452443 </span> <span class=\"\"><span title=\"typ\">CP</span> <span title=\"function\">Conj</span></span></div><div class=\"features\"><span class=\"function xft\" ><span class=\"f\">function=</span>Conj</span></div><div class=\"children hor wrap rtl\"><div class=\"contnr c0 trm rtl  \" ><div class=\"lbl c0 trm \" ><span class=\"nd\">118093 </span> <span class=\"txtu hbo\">וַ</span></div><div class=\"features\"><span class=\"lex xft\" ><span class=\"f\">lex=</span>W</span></div></div></div></div><div class=\"contnr c1  rtl  \" ><div class=\"lbl c1  \" ><span class=\"nd\">phrase:452444 </span> <span class=\"\"><span title=\"typ\">VP</span> <span title=\"function\">Pred</span></span></div><div class=\"features\"><span class=\"function xft\" ><span class=\"f\">function=</span>Pred</span></div><div class=\"children hor wrap rtl\"><div class=\"contnr c0 trm rtl  hl\" ><div class=\"lbl c0 trm hl\" ><span class=\"nd\">118094 </span> <span class=\"txtu hbo\">יָּבֹ֛אוּ </span></div><div class=\"features\"><span class=\"lex xft\" ><span class=\"f\">lex=</span>BW>[</span></div></div></div></div><div class=\"contnr c1  rtl  hl\" ><div class=\"lbl c1  hl\" ><span class=\"nd\">phrase:452445 </span> <span class=\"\"><span title=\"typ\">PP</span> <span title=\"function\">Cmpl</span></span></div><div class=\"features\"><span class=\"function xft\" ><span class=\"f\">function=</span>Cmpl</span></div><div class=\"children hor wrap rtl\"><div class=\"contnr c0 trm rtl  hl\" ><div class=\"lbl c0 trm hl\" ><span class=\"nd\">118095 </span> <span class=\"txtu hbo\">אֶל־</span></div><div class=\"features\"><span class=\"lex xft\" ><span class=\"f\">lex=</span>>L</span></div></div><div class=\"contnr c0 trm rtl  \" ><div class=\"lbl c0 trm \" ><span class=\"nd\">118096 </span> <span class=\"txtu hbo\">עָרֵיהֶ֖ם </span></div><div class=\"features\"><span class=\"lex xft\" ><span class=\"f\">lex=</span>&lt;JR/</span></div></div></div></div><div class=\"contnr c1  rtl  hl\" ><div class=\"lbl c1  hl\" ><span class=\"nd\">phrase:452446 </span> <span class=\"\"><span title=\"typ\">PP</span> <span title=\"function\">Time</span></span></div><div class=\"features\"><span class=\"function xft\" ><span class=\"f\">function=</span>Time</span></div><div class=\"children hor wrap rtl\"><div class=\"contnr c0 trm rtl  \" ><div class=\"lbl c0 trm \" ><span class=\"nd\">118097 </span> <span class=\"txtu hbo\">בַּ</span></div><div class=\"features\"><span class=\"lex xft\" ><span class=\"f\">lex=</span>B</span></div></div><div class=\"contnr c0 trm rtl  \" ><div class=\"lbl c0 trm \" ><span class=\"nd\">118098 </span></div><div class=\"features\"><span class=\"lex xft\" ><span class=\"f\">lex=</span>H</span></div></div><div class=\"contnr c0 trm rtl  \" ><div class=\"lbl c0 trm \" ><span class=\"nd\">118099 </span> <span class=\"txtu hbo\">יֹּ֣ום </span></div><div class=\"features\"><span class=\"lex xft\" ><span class=\"f\">lex=</span>JWM/</span></div></div><div class=\"contnr c0 trm rtl  \" ><div class=\"lbl c0 trm \" ><span class=\"nd\">118100 </span> <span class=\"txtu hbo\">הַ</span></div><div class=\"features\"><span class=\"lex xft\" ><span class=\"f\">lex=</span>H</span></div></div><div class=\"contnr c0 trm rtl  \" ><div class=\"lbl c0 trm \" ><span class=\"nd\">118101 </span> <span class=\"txtu hbo\">שְּׁלִישִׁ֑י </span></div><div class=\"features\"><span class=\"lex xft\" ><span class=\"f\">lex=</span>CLJCJ/</span></div></div></div></div></div></div></div>"
      ],
      "text/plain": [
       "<IPython.core.display.HTML object>"
      ]
     },
     "metadata": {},
     "output_type": "display_data"
    },
    {
     "data": {
      "text/html": [
       "<p><b>result</b> <i>37</i>"
      ],
      "text/plain": [
       "<IPython.core.display.HTML object>"
      ]
     },
     "metadata": {},
     "output_type": "display_data"
    },
    {
     "data": {
      "text/html": [
       "<div class=\"tfsechead rtl\"><span class=\"ltr\"><a target=\"_blank\" href=\"https://shebanq.ancient-data.org/hebrew/text?book=Josua&amp;chapter=22&amp;verse=28&amp;version=2021&amp;mr=m&amp;qw=q&amp;tp=txt_p&amp;tr=hb&amp;wget=v&amp;qget=v&amp;nget=vt\" title=\"Show this on SHEBANQ\" sec=\"Joshua 22:28\">Joshua 22:28</a></span></div><div class=\"rtl children\"><div class=\"contnr c2  rtl  \" ><div class=\"lbl c2  \" ><span class=\"nd\">clause:326264 </span> <span class=\"\"><span title=\"typ\">xYq0</span> <span title=\"rela\">NA</span></span></div><div class=\"children hor wrap rtl\"><div class=\"contnr c1  rtl  \" ><div class=\"lbl c1  \" ><span class=\"nd\">phrase:455950 </span> <span class=\"\"><span title=\"typ\">CP</span> <span title=\"function\">Conj</span></span></div><div class=\"features\"><span class=\"function xft\" ><span class=\"f\">function=</span>Conj</span></div><div class=\"children hor wrap rtl\"><div class=\"contnr c0 trm rtl  \" ><div class=\"lbl c0 trm \" ><span class=\"nd\">125972 </span> <span class=\"txtu hbo\">כִּֽי־</span></div><div class=\"features\"><span class=\"lex xft\" ><span class=\"f\">lex=</span>KJ</span></div></div></div></div><div class=\"contnr c1  rtl  \" ><div class=\"lbl c1  \" ><span class=\"nd\">phrase:455951 </span> <span class=\"\"><span title=\"typ\">VP</span> <span title=\"function\">Pred</span></span></div><div class=\"features\"><span class=\"function xft\" ><span class=\"f\">function=</span>Pred</span></div><div class=\"children hor wrap rtl\"><div class=\"contnr c0 trm rtl  hl\" ><div class=\"lbl c0 trm hl\" ><span class=\"nd\">125973 </span> <span class=\"txtu hbo\">יֹאמְר֥וּ </span></div><div class=\"features\"><span class=\"lex xft\" ><span class=\"f\">lex=</span>>MR[</span></div></div></div></div><div class=\"contnr c1  rtl  hl\" ><div class=\"lbl c1  hl\" ><span class=\"nd\">phrase:455952 </span> <span class=\"\"><span title=\"typ\">PP</span> <span title=\"function\">Cmpl</span></span></div><div class=\"features\"><span class=\"function xft\" ><span class=\"f\">function=</span>Cmpl</span></div><div class=\"children hor wrap rtl\"><div class=\"contnr c0 trm rtl  hl\" ><div class=\"lbl c0 trm hl\" ><span class=\"nd\">125974 </span> <span class=\"txtu hbo\">אֵלֵ֛ינוּ </span></div><div class=\"features\"><span class=\"lex xft\" ><span class=\"f\">lex=</span>>L</span></div></div><div class=\"contnr c0 trm rtl  \" ><div class=\"lbl c0 trm \" ><span class=\"nd\">125975 </span> <span class=\"txtu hbo\">וְ</span></div><div class=\"features\"><span class=\"lex xft\" ><span class=\"f\">lex=</span>W</span></div></div><div class=\"contnr c0 trm rtl  \" ><div class=\"lbl c0 trm \" ><span class=\"nd\">125976 </span> <span class=\"txtu hbo\">אֶל־</span></div><div class=\"features\"><span class=\"lex xft\" ><span class=\"f\">lex=</span>>L</span></div></div><div class=\"contnr c0 trm rtl  \" ><div class=\"lbl c0 trm \" ><span class=\"nd\">125977 </span> <span class=\"txtu hbo\">דֹּרֹתֵ֖ינוּ </span></div><div class=\"features\"><span class=\"lex xft\" ><span class=\"f\">lex=</span>DWR/</span></div></div></div></div><div class=\"contnr c1  rtl  hl\" ><div class=\"lbl c1  hl\" ><span class=\"nd\">phrase:455953 </span> <span class=\"\"><span title=\"typ\">AdvP</span> <span title=\"function\">Time</span></span></div><div class=\"features\"><span class=\"function xft\" ><span class=\"f\">function=</span>Time</span></div><div class=\"children hor wrap rtl\"><div class=\"contnr c0 trm rtl  \" ><div class=\"lbl c0 trm \" ><span class=\"nd\">125978 </span> <span class=\"txtu hbo\">מָחָ֑ר </span></div><div class=\"features\"><span class=\"lex xft\" ><span class=\"f\">lex=</span>MXR/</span></div></div></div></div></div></div></div>"
      ],
      "text/plain": [
       "<IPython.core.display.HTML object>"
      ]
     },
     "metadata": {},
     "output_type": "display_data"
    },
    {
     "data": {
      "text/html": [
       "<p><b>result</b> <i>38</i>"
      ],
      "text/plain": [
       "<IPython.core.display.HTML object>"
      ]
     },
     "metadata": {},
     "output_type": "display_data"
    },
    {
     "data": {
      "text/html": [
       "<div class=\"tfsechead rtl\"><span class=\"ltr\"><a target=\"_blank\" href=\"https://shebanq.ancient-data.org/hebrew/text?book=Josua&amp;chapter=22&amp;verse=28&amp;version=2021&amp;mr=m&amp;qw=q&amp;tp=txt_p&amp;tr=hb&amp;wget=v&amp;qget=v&amp;nget=vt\" title=\"Show this on SHEBANQ\" sec=\"Joshua 22:28\">Joshua 22:28</a></span></div><div class=\"rtl children\"><div class=\"contnr c2  rtl  \" ><div class=\"lbl c2  \" ><span class=\"nd\">clause:326264 </span> <span class=\"\"><span title=\"typ\">xYq0</span> <span title=\"rela\">NA</span></span></div><div class=\"children hor wrap rtl\"><div class=\"contnr c1  rtl  \" ><div class=\"lbl c1  \" ><span class=\"nd\">phrase:455950 </span> <span class=\"\"><span title=\"typ\">CP</span> <span title=\"function\">Conj</span></span></div><div class=\"features\"><span class=\"function xft\" ><span class=\"f\">function=</span>Conj</span></div><div class=\"children hor wrap rtl\"><div class=\"contnr c0 trm rtl  \" ><div class=\"lbl c0 trm \" ><span class=\"nd\">125972 </span> <span class=\"txtu hbo\">כִּֽי־</span></div><div class=\"features\"><span class=\"lex xft\" ><span class=\"f\">lex=</span>KJ</span></div></div></div></div><div class=\"contnr c1  rtl  \" ><div class=\"lbl c1  \" ><span class=\"nd\">phrase:455951 </span> <span class=\"\"><span title=\"typ\">VP</span> <span title=\"function\">Pred</span></span></div><div class=\"features\"><span class=\"function xft\" ><span class=\"f\">function=</span>Pred</span></div><div class=\"children hor wrap rtl\"><div class=\"contnr c0 trm rtl  hl\" ><div class=\"lbl c0 trm hl\" ><span class=\"nd\">125973 </span> <span class=\"txtu hbo\">יֹאמְר֥וּ </span></div><div class=\"features\"><span class=\"lex xft\" ><span class=\"f\">lex=</span>>MR[</span></div></div></div></div><div class=\"contnr c1  rtl  hl\" ><div class=\"lbl c1  hl\" ><span class=\"nd\">phrase:455952 </span> <span class=\"\"><span title=\"typ\">PP</span> <span title=\"function\">Cmpl</span></span></div><div class=\"features\"><span class=\"function xft\" ><span class=\"f\">function=</span>Cmpl</span></div><div class=\"children hor wrap rtl\"><div class=\"contnr c0 trm rtl  \" ><div class=\"lbl c0 trm \" ><span class=\"nd\">125974 </span> <span class=\"txtu hbo\">אֵלֵ֛ינוּ </span></div><div class=\"features\"><span class=\"lex xft\" ><span class=\"f\">lex=</span>>L</span></div></div><div class=\"contnr c0 trm rtl  \" ><div class=\"lbl c0 trm \" ><span class=\"nd\">125975 </span> <span class=\"txtu hbo\">וְ</span></div><div class=\"features\"><span class=\"lex xft\" ><span class=\"f\">lex=</span>W</span></div></div><div class=\"contnr c0 trm rtl  hl\" ><div class=\"lbl c0 trm hl\" ><span class=\"nd\">125976 </span> <span class=\"txtu hbo\">אֶל־</span></div><div class=\"features\"><span class=\"lex xft\" ><span class=\"f\">lex=</span>>L</span></div></div><div class=\"contnr c0 trm rtl  \" ><div class=\"lbl c0 trm \" ><span class=\"nd\">125977 </span> <span class=\"txtu hbo\">דֹּרֹתֵ֖ינוּ </span></div><div class=\"features\"><span class=\"lex xft\" ><span class=\"f\">lex=</span>DWR/</span></div></div></div></div><div class=\"contnr c1  rtl  hl\" ><div class=\"lbl c1  hl\" ><span class=\"nd\">phrase:455953 </span> <span class=\"\"><span title=\"typ\">AdvP</span> <span title=\"function\">Time</span></span></div><div class=\"features\"><span class=\"function xft\" ><span class=\"f\">function=</span>Time</span></div><div class=\"children hor wrap rtl\"><div class=\"contnr c0 trm rtl  \" ><div class=\"lbl c0 trm \" ><span class=\"nd\">125978 </span> <span class=\"txtu hbo\">מָחָ֑ר </span></div><div class=\"features\"><span class=\"lex xft\" ><span class=\"f\">lex=</span>MXR/</span></div></div></div></div></div></div></div>"
      ],
      "text/plain": [
       "<IPython.core.display.HTML object>"
      ]
     },
     "metadata": {},
     "output_type": "display_data"
    },
    {
     "data": {
      "text/html": [
       "<p><b>result</b> <i>39</i>"
      ],
      "text/plain": [
       "<IPython.core.display.HTML object>"
      ]
     },
     "metadata": {},
     "output_type": "display_data"
    },
    {
     "data": {
      "text/html": [
       "<div class=\"tfsechead rtl\"><span class=\"ltr\"><a target=\"_blank\" href=\"https://shebanq.ancient-data.org/hebrew/text?book=Judices&amp;chapter=11&amp;verse=7&amp;version=2021&amp;mr=m&amp;qw=q&amp;tp=txt_p&amp;tr=hb&amp;wget=v&amp;qget=v&amp;nget=vt\" title=\"Show this on SHEBANQ\" sec=\"Judges 11:7\">Judges 11:7</a></span></div><div class=\"rtl children\"><div class=\"contnr c2  rtl  \" ><div class=\"lbl c2  \" ><span class=\"nd\">clause:327934 </span> <span class=\"\"><span title=\"typ\">WxQ0</span> <span title=\"rela\">NA</span></span></div><div class=\"children hor wrap rtl\"><div class=\"contnr c1  rtl  \" ><div class=\"lbl c1  \" ><span class=\"nd\">phrase:461080 </span> <span class=\"\"><span title=\"typ\">CP</span> <span title=\"function\">Conj</span></span></div><div class=\"features\"><span class=\"function xft\" ><span class=\"f\">function=</span>Conj</span></div><div class=\"children hor wrap rtl\"><div class=\"contnr c0 trm rtl  \" ><div class=\"lbl c0 trm \" ><span class=\"nd\">134602 </span> <span class=\"txtu hbo\">וּ</span></div><div class=\"features\"><span class=\"lex xft\" ><span class=\"f\">lex=</span>W</span></div></div></div></div><div class=\"contnr c1  rtl  \" ><div class=\"lbl c1  \" ><span class=\"nd\">phrase:461081 </span> <span class=\"\"><span title=\"typ\">InrP</span> <span title=\"function\">Ques</span></span></div><div class=\"features\"><span class=\"function xft\" ><span class=\"f\">function=</span>Ques</span></div><div class=\"children hor wrap rtl\"><div class=\"contnr c0 trm rtl  \" ><div class=\"lbl c0 trm \" ><span class=\"nd\">134603 </span> <span class=\"txtu hbo\">מַדּ֜וּעַ </span></div><div class=\"features\"><span class=\"lex xft\" ><span class=\"f\">lex=</span>MDW&lt;</span></div></div></div></div><div class=\"contnr c1  rtl  \" ><div class=\"lbl c1  \" ><span class=\"nd\">phrase:461082 </span> <span class=\"\"><span title=\"typ\">VP</span> <span title=\"function\">Pred</span></span></div><div class=\"features\"><span class=\"function xft\" ><span class=\"f\">function=</span>Pred</span></div><div class=\"children hor wrap rtl\"><div class=\"contnr c0 trm rtl  hl\" ><div class=\"lbl c0 trm hl\" ><span class=\"nd\">134604 </span> <span class=\"txtu hbo\">בָּאתֶ֤ם </span></div><div class=\"features\"><span class=\"lex xft\" ><span class=\"f\">lex=</span>BW>[</span></div></div></div></div><div class=\"contnr c1  rtl  hl\" ><div class=\"lbl c1  hl\" ><span class=\"nd\">phrase:461083 </span> <span class=\"\"><span title=\"typ\">PP</span> <span title=\"function\">Cmpl</span></span></div><div class=\"features\"><span class=\"function xft\" ><span class=\"f\">function=</span>Cmpl</span></div><div class=\"children hor wrap rtl\"><div class=\"contnr c0 trm rtl  hl\" ><div class=\"lbl c0 trm hl\" ><span class=\"nd\">134605 </span> <span class=\"txtu hbo\">אֵלַי֙ </span></div><div class=\"features\"><span class=\"lex xft\" ><span class=\"f\">lex=</span>>L</span></div></div></div></div><div class=\"contnr c1  rtl  hl\" ><div class=\"lbl c1  hl\" ><span class=\"nd\">phrase:461084 </span> <span class=\"\"><span title=\"typ\">AdvP</span> <span title=\"function\">Time</span></span></div><div class=\"features\"><span class=\"function xft\" ><span class=\"f\">function=</span>Time</span></div><div class=\"children hor wrap rtl\"><div class=\"contnr c0 trm rtl  \" ><div class=\"lbl c0 trm \" ><span class=\"nd\">134606 </span> <span class=\"txtu hbo\">עַ֔תָּה </span></div><div class=\"features\"><span class=\"lex xft\" ><span class=\"f\">lex=</span>&lt;TH</span></div></div></div></div></div></div></div>"
      ],
      "text/plain": [
       "<IPython.core.display.HTML object>"
      ]
     },
     "metadata": {},
     "output_type": "display_data"
    },
    {
     "data": {
      "text/html": [
       "<p><b>result</b> <i>40</i>"
      ],
      "text/plain": [
       "<IPython.core.display.HTML object>"
      ]
     },
     "metadata": {},
     "output_type": "display_data"
    },
    {
     "data": {
      "text/html": [
       "<div class=\"tfsechead rtl\"><span class=\"ltr\"><a target=\"_blank\" href=\"https://shebanq.ancient-data.org/hebrew/text?book=Judices&amp;chapter=11&amp;verse=8&amp;version=2021&amp;mr=m&amp;qw=q&amp;tp=txt_p&amp;tr=hb&amp;wget=v&amp;qget=v&amp;nget=vt\" title=\"Show this on SHEBANQ\" sec=\"Judges 11:8\">Judges 11:8</a></span></div><div class=\"rtl children\"><div class=\"contnr c2  rtl  \" ><div class=\"lbl c2  \" ><span class=\"nd\">clause:327937 </span> <span class=\"\"><span title=\"typ\">xQt0</span> <span title=\"rela\">NA</span></span></div><div class=\"children hor wrap rtl\"><div class=\"contnr c1  rtl  \" ><div class=\"lbl c1  \" ><span class=\"nd\">phrase:461092 </span> <span class=\"\"><span title=\"typ\">AdvP</span> <span title=\"function\">Modi</span></span></div><div class=\"features\"><span class=\"function xft\" ><span class=\"f\">function=</span>Modi</span></div><div class=\"children hor wrap rtl\"><div class=\"contnr c0 trm rtl  \" ><div class=\"lbl c0 trm \" ><span class=\"nd\">134617 </span> <span class=\"txtu hbo\">לָכֵן֙ </span></div><div class=\"features\"><span class=\"lex xft\" ><span class=\"f\">lex=</span>LKN</span></div></div></div></div><div class=\"contnr c1  rtl  hl\" ><div class=\"lbl c1  hl\" ><span class=\"nd\">phrase:461093 </span> <span class=\"\"><span title=\"typ\">AdvP</span> <span title=\"function\">Time</span></span></div><div class=\"features\"><span class=\"function xft\" ><span class=\"f\">function=</span>Time</span></div><div class=\"children hor wrap rtl\"><div class=\"contnr c0 trm rtl  \" ><div class=\"lbl c0 trm \" ><span class=\"nd\">134618 </span> <span class=\"txtu hbo\">עַתָּה֙ </span></div><div class=\"features\"><span class=\"lex xft\" ><span class=\"f\">lex=</span>&lt;TH</span></div></div></div></div><div class=\"contnr c1  rtl  \" ><div class=\"lbl c1  \" ><span class=\"nd\">phrase:461094 </span> <span class=\"\"><span title=\"typ\">VP</span> <span title=\"function\">Pred</span></span></div><div class=\"features\"><span class=\"function xft\" ><span class=\"f\">function=</span>Pred</span></div><div class=\"children hor wrap rtl\"><div class=\"contnr c0 trm rtl  hl\" ><div class=\"lbl c0 trm hl\" ><span class=\"nd\">134619 </span> <span class=\"txtu hbo\">שַׁ֣בְנוּ </span></div><div class=\"features\"><span class=\"lex xft\" ><span class=\"f\">lex=</span>CWB[</span></div></div></div></div><div class=\"contnr c1  rtl  hl\" ><div class=\"lbl c1  hl\" ><span class=\"nd\">phrase:461095 </span> <span class=\"\"><span title=\"typ\">PP</span> <span title=\"function\">Cmpl</span></span></div><div class=\"features\"><span class=\"function xft\" ><span class=\"f\">function=</span>Cmpl</span></div><div class=\"children hor wrap rtl\"><div class=\"contnr c0 trm rtl  hl\" ><div class=\"lbl c0 trm hl\" ><span class=\"nd\">134620 </span> <span class=\"txtu hbo\">אֵלֶ֔יךָ </span></div><div class=\"features\"><span class=\"lex xft\" ><span class=\"f\">lex=</span>>L</span></div></div></div></div></div></div></div>"
      ],
      "text/plain": [
       "<IPython.core.display.HTML object>"
      ]
     },
     "metadata": {},
     "output_type": "display_data"
    },
    {
     "data": {
      "text/html": [
       "<p><b>result</b> <i>41</i>"
      ],
      "text/plain": [
       "<IPython.core.display.HTML object>"
      ]
     },
     "metadata": {},
     "output_type": "display_data"
    },
    {
     "data": {
      "text/html": [
       "<div class=\"tfsechead rtl\"><span class=\"ltr\"><a target=\"_blank\" href=\"https://shebanq.ancient-data.org/hebrew/text?book=Judices&amp;chapter=13&amp;verse=10&amp;version=2021&amp;mr=m&amp;qw=q&amp;tp=txt_p&amp;tr=hb&amp;wget=v&amp;qget=v&amp;nget=vt\" title=\"Show this on SHEBANQ\" sec=\"Judges 13:10\">Judges 13:10</a></span></div><div class=\"rtl children\"><div class=\"contnr c2  rtl  \" ><div class=\"lbl c2  \" ><span class=\"nd\">clause:328201 </span> <span class=\"\"><span title=\"typ\">xQt0</span> <span title=\"rela\">Attr</span></span></div><div class=\"children hor wrap rtl\"><div class=\"contnr c1  rtl  \" ><div class=\"lbl c1  \" ><span class=\"nd\">phrase:461933 </span> <span class=\"\"><span title=\"typ\">CP</span> <span title=\"function\">Rela</span></span></div><div class=\"features\"><span class=\"function xft\" ><span class=\"f\">function=</span>Rela</span></div><div class=\"children hor wrap rtl\"><div class=\"contnr c0 trm rtl  \" ><div class=\"lbl c0 trm \" ><span class=\"nd\">135941 </span> <span class=\"txtu hbo\">אֲשֶׁר־</span></div><div class=\"features\"><span class=\"lex xft\" ><span class=\"f\">lex=</span>>CR</span></div></div></div></div><div class=\"contnr c1  rtl  \" ><div class=\"lbl c1  \" ><span class=\"nd\">phrase:461934 </span> <span class=\"\"><span title=\"typ\">VP</span> <span title=\"function\">Pred</span></span></div><div class=\"features\"><span class=\"function xft\" ><span class=\"f\">function=</span>Pred</span></div><div class=\"children hor wrap rtl\"><div class=\"contnr c0 trm rtl  hl\" ><div class=\"lbl c0 trm hl\" ><span class=\"nd\">135942 </span> <span class=\"txtu hbo\">בָּ֥א </span></div><div class=\"features\"><span class=\"lex xft\" ><span class=\"f\">lex=</span>BW>[</span></div></div></div></div><div class=\"contnr c1  rtl  hl\" ><div class=\"lbl c1  hl\" ><span class=\"nd\">phrase:461935 </span> <span class=\"\"><span title=\"typ\">PP</span> <span title=\"function\">Time</span></span></div><div class=\"features\"><span class=\"function xft\" ><span class=\"f\">function=</span>Time</span></div><div class=\"children hor wrap rtl\"><div class=\"contnr c0 trm rtl  \" ><div class=\"lbl c0 trm \" ><span class=\"nd\">135943 </span> <span class=\"txtu hbo\">בַ</span></div><div class=\"features\"><span class=\"lex xft\" ><span class=\"f\">lex=</span>B</span></div></div><div class=\"contnr c0 trm rtl  \" ><div class=\"lbl c0 trm \" ><span class=\"nd\">135944 </span></div><div class=\"features\"><span class=\"lex xft\" ><span class=\"f\">lex=</span>H</span></div></div><div class=\"contnr c0 trm rtl  \" ><div class=\"lbl c0 trm \" ><span class=\"nd\">135945 </span> <span class=\"txtu hbo\">יֹּ֖ום </span></div><div class=\"features\"><span class=\"lex xft\" ><span class=\"f\">lex=</span>JWM/</span></div></div></div></div><div class=\"contnr c1  rtl  hl\" ><div class=\"lbl c1  hl\" ><span class=\"nd\">phrase:461936 </span> <span class=\"\"><span title=\"typ\">PP</span> <span title=\"function\">Cmpl</span></span></div><div class=\"features\"><span class=\"function xft\" ><span class=\"f\">function=</span>Cmpl</span></div><div class=\"children hor wrap rtl\"><div class=\"contnr c0 trm rtl  hl\" ><div class=\"lbl c0 trm hl\" ><span class=\"nd\">135946 </span> <span class=\"txtu hbo\">אֵלָֽי׃ </span></div><div class=\"features\"><span class=\"lex xft\" ><span class=\"f\">lex=</span>>L</span></div></div></div></div></div></div></div>"
      ],
      "text/plain": [
       "<IPython.core.display.HTML object>"
      ]
     },
     "metadata": {},
     "output_type": "display_data"
    },
    {
     "data": {
      "text/html": [
       "<p><b>result</b> <i>42</i>"
      ],
      "text/plain": [
       "<IPython.core.display.HTML object>"
      ]
     },
     "metadata": {},
     "output_type": "display_data"
    },
    {
     "data": {
      "text/html": [
       "<div class=\"tfsechead rtl\"><span class=\"ltr\"><a target=\"_blank\" href=\"https://shebanq.ancient-data.org/hebrew/text?book=Judices&amp;chapter=20&amp;verse=24&amp;version=2021&amp;mr=m&amp;qw=q&amp;tp=txt_p&amp;tr=hb&amp;wget=v&amp;qget=v&amp;nget=vt\" title=\"Show this on SHEBANQ\" sec=\"Judges 20:24\">Judges 20:24</a></span></div><div class=\"rtl children\"><div class=\"contnr c2  rtl  \" ><div class=\"lbl c2  \" ><span class=\"nd\">clause:329160 </span> <span class=\"\"><span title=\"typ\">WayX</span> <span title=\"rela\">NA</span></span></div><div class=\"children hor wrap rtl\"><div class=\"contnr c1  rtl  \" ><div class=\"lbl c1  \" ><span class=\"nd\">phrase:464793 </span> <span class=\"\"><span title=\"typ\">CP</span> <span title=\"function\">Conj</span></span></div><div class=\"features\"><span class=\"function xft\" ><span class=\"f\">function=</span>Conj</span></div><div class=\"children hor wrap rtl\"><div class=\"contnr c0 trm rtl  \" ><div class=\"lbl c0 trm \" ><span class=\"nd\">140404 </span> <span class=\"txtu hbo\">וַ</span></div><div class=\"features\"><span class=\"lex xft\" ><span class=\"f\">lex=</span>W</span></div></div></div></div><div class=\"contnr c1  rtl  \" ><div class=\"lbl c1  \" ><span class=\"nd\">phrase:464794 </span> <span class=\"\"><span title=\"typ\">VP</span> <span title=\"function\">Pred</span></span></div><div class=\"features\"><span class=\"function xft\" ><span class=\"f\">function=</span>Pred</span></div><div class=\"children hor wrap rtl\"><div class=\"contnr c0 trm rtl  hl\" ><div class=\"lbl c0 trm hl\" ><span class=\"nd\">140405 </span> <span class=\"txtu hbo\">יִּקְרְב֧וּ </span></div><div class=\"features\"><span class=\"lex xft\" ><span class=\"f\">lex=</span>QRB[</span></div></div></div></div><div class=\"contnr c1  rtl  \" ><div class=\"lbl c1  \" ><span class=\"nd\">phrase:464795 </span> <span class=\"\"><span title=\"typ\">NP</span> <span title=\"function\">Subj</span></span></div><div class=\"features\"><span class=\"function xft\" ><span class=\"f\">function=</span>Subj</span></div><div class=\"children hor wrap rtl\"><div class=\"contnr c0 trm rtl  \" ><div class=\"lbl c0 trm \" ><span class=\"nd\">140406 </span> <span class=\"txtu hbo\">בְנֵֽי־</span></div><div class=\"features\"><span class=\"lex xft\" ><span class=\"f\">lex=</span>BN/</span></div></div><div class=\"contnr c0 trm rtl  \" ><div class=\"lbl c0 trm \" ><span class=\"nd\">140407 </span> <span class=\"txtu hbo\">יִשְׂרָאֵ֛ל </span></div><div class=\"features\"><span class=\"lex xft\" ><span class=\"f\">lex=</span>JFR>L/</span></div></div></div></div><div class=\"contnr c1  rtl  hl\" ><div class=\"lbl c1  hl\" ><span class=\"nd\">phrase:464796 </span> <span class=\"\"><span title=\"typ\">PP</span> <span title=\"function\">Cmpl</span></span></div><div class=\"features\"><span class=\"function xft\" ><span class=\"f\">function=</span>Cmpl</span></div><div class=\"children hor wrap rtl\"><div class=\"contnr c0 trm rtl  hl\" ><div class=\"lbl c0 trm hl\" ><span class=\"nd\">140408 </span> <span class=\"txtu hbo\">אֶל־</span></div><div class=\"features\"><span class=\"lex xft\" ><span class=\"f\">lex=</span>>L</span></div></div><div class=\"contnr c0 trm rtl  \" ><div class=\"lbl c0 trm \" ><span class=\"nd\">140409 </span> <span class=\"txtu hbo\">בְּנֵ֥י </span></div><div class=\"features\"><span class=\"lex xft\" ><span class=\"f\">lex=</span>BN/</span></div></div><div class=\"contnr c0 trm rtl  \" ><div class=\"lbl c0 trm \" ><span class=\"nd\">140410 </span> <span class=\"txtu hbo\">בִנְיָמִ֖ן </span></div><div class=\"features\"><span class=\"lex xft\" ><span class=\"f\">lex=</span>BNJMN/</span></div></div></div></div><div class=\"contnr c1  rtl  hl\" ><div class=\"lbl c1  hl\" ><span class=\"nd\">phrase:464797 </span> <span class=\"\"><span title=\"typ\">PP</span> <span title=\"function\">Time</span></span></div><div class=\"features\"><span class=\"function xft\" ><span class=\"f\">function=</span>Time</span></div><div class=\"children hor wrap rtl\"><div class=\"contnr c0 trm rtl  \" ><div class=\"lbl c0 trm \" ><span class=\"nd\">140411 </span> <span class=\"txtu hbo\">בַּ</span></div><div class=\"features\"><span class=\"lex xft\" ><span class=\"f\">lex=</span>B</span></div></div><div class=\"contnr c0 trm rtl  \" ><div class=\"lbl c0 trm \" ><span class=\"nd\">140412 </span></div><div class=\"features\"><span class=\"lex xft\" ><span class=\"f\">lex=</span>H</span></div></div><div class=\"contnr c0 trm rtl  \" ><div class=\"lbl c0 trm \" ><span class=\"nd\">140413 </span> <span class=\"txtu hbo\">יֹּ֥ום </span></div><div class=\"features\"><span class=\"lex xft\" ><span class=\"f\">lex=</span>JWM/</span></div></div><div class=\"contnr c0 trm rtl  \" ><div class=\"lbl c0 trm \" ><span class=\"nd\">140414 </span> <span class=\"txtu hbo\">הַ</span></div><div class=\"features\"><span class=\"lex xft\" ><span class=\"f\">lex=</span>H</span></div></div><div class=\"contnr c0 trm rtl  \" ><div class=\"lbl c0 trm \" ><span class=\"nd\">140415 </span> <span class=\"txtu hbo\">שֵּׁנִֽי׃ </span></div><div class=\"features\"><span class=\"lex xft\" ><span class=\"f\">lex=</span>CNJ/</span></div></div></div></div></div></div></div>"
      ],
      "text/plain": [
       "<IPython.core.display.HTML object>"
      ]
     },
     "metadata": {},
     "output_type": "display_data"
    },
    {
     "data": {
      "text/html": [
       "<p><b>result</b> <i>43</i>"
      ],
      "text/plain": [
       "<IPython.core.display.HTML object>"
      ]
     },
     "metadata": {},
     "output_type": "display_data"
    },
    {
     "data": {
      "text/html": [
       "<div class=\"tfsechead rtl\"><span class=\"ltr\"><a target=\"_blank\" href=\"https://shebanq.ancient-data.org/hebrew/text?book=Samuel_I&amp;chapter=20&amp;verse=27&amp;version=2021&amp;mr=m&amp;qw=q&amp;tp=txt_p&amp;tr=hb&amp;wget=v&amp;qget=v&amp;nget=vt\" title=\"Show this on SHEBANQ\" sec=\"1_Samuel 20:27\">1_Samuel 20:27</a></span></div><div class=\"rtl children\"><div class=\"contnr c2  rtl  \" ><div class=\"lbl c2  \" ><span class=\"nd\">clause:332019 </span> <span class=\"\"><span title=\"typ\">xQtX</span> <span title=\"rela\">NA</span></span></div><div class=\"children hor wrap rtl\"><div class=\"contnr c1  rtl  \" ><div class=\"lbl c1  \" ><span class=\"nd\">phrase:473465 </span> <span class=\"\"><span title=\"typ\">InrP</span> <span title=\"function\">Ques</span></span></div><div class=\"features\"><span class=\"function xft\" ><span class=\"f\">function=</span>Ques</span></div><div class=\"children hor wrap rtl\"><div class=\"contnr c0 trm rtl  \" ><div class=\"lbl c0 trm \" ><span class=\"nd\">153998 </span> <span class=\"txtu hbo\">מַדּ֜וּעַ </span></div><div class=\"features\"><span class=\"lex xft\" ><span class=\"f\">lex=</span>MDW&lt;</span></div></div></div></div><div class=\"contnr c1  rtl  \" ><div class=\"lbl c1  \" ><span class=\"nd\">phrase:473466 </span> <span class=\"\"><span title=\"typ\">NegP</span> <span title=\"function\">Nega</span></span></div><div class=\"features\"><span class=\"function xft\" ><span class=\"f\">function=</span>Nega</span></div><div class=\"children hor wrap rtl\"><div class=\"contnr c0 trm rtl  \" ><div class=\"lbl c0 trm \" ><span class=\"nd\">153999 </span> <span class=\"txtu hbo\">לֹא־</span></div><div class=\"features\"><span class=\"lex xft\" ><span class=\"f\">lex=</span>L></span></div></div></div></div><div class=\"contnr c1  rtl  \" ><div class=\"lbl c1  \" ><span class=\"nd\">phrase:473467 </span> <span class=\"\"><span title=\"typ\">VP</span> <span title=\"function\">Pred</span></span></div><div class=\"features\"><span class=\"function xft\" ><span class=\"f\">function=</span>Pred</span></div><div class=\"children hor wrap rtl\"><div class=\"contnr c0 trm rtl  hl\" ><div class=\"lbl c0 trm hl\" ><span class=\"nd\">154000 </span> <span class=\"txtu hbo\">בָ֧א </span></div><div class=\"features\"><span class=\"lex xft\" ><span class=\"f\">lex=</span>BW>[</span></div></div></div></div><div class=\"contnr c1  rtl  \" ><div class=\"lbl c1  \" ><span class=\"nd\">phrase:473468 </span> <span class=\"\"><span title=\"typ\">NP</span> <span title=\"function\">Subj</span></span></div><div class=\"features\"><span class=\"function xft\" ><span class=\"f\">function=</span>Subj</span></div><div class=\"children hor wrap rtl\"><div class=\"contnr c0 trm rtl  \" ><div class=\"lbl c0 trm \" ><span class=\"nd\">154001 </span> <span class=\"txtu hbo\">בֶן־</span></div><div class=\"features\"><span class=\"lex xft\" ><span class=\"f\">lex=</span>BN/</span></div></div><div class=\"contnr c0 trm rtl  \" ><div class=\"lbl c0 trm \" ><span class=\"nd\">154002 </span> <span class=\"txtu hbo\">יִשַׁ֛י </span></div><div class=\"features\"><span class=\"lex xft\" ><span class=\"f\">lex=</span>JCJ/</span></div></div></div></div><div class=\"contnr c1  rtl  hl\" ><div class=\"lbl c1  hl\" ><span class=\"nd\">phrase:473469 </span> <span class=\"\"><span title=\"typ\">NP</span> <span title=\"function\">Time</span></span></div><div class=\"features\"><span class=\"function xft\" ><span class=\"f\">function=</span>Time</span></div><div class=\"children hor wrap rtl\"><div class=\"contnr c0 trm rtl  \" ><div class=\"lbl c0 trm \" ><span class=\"nd\">154003 </span> <span class=\"txtu hbo\">גַּם־</span></div><div class=\"features\"><span class=\"lex xft\" ><span class=\"f\">lex=</span>GM</span></div></div><div class=\"contnr c0 trm rtl  \" ><div class=\"lbl c0 trm \" ><span class=\"nd\">154004 </span> <span class=\"txtu hbo\">תְּמֹ֥ול </span></div><div class=\"features\"><span class=\"lex xft\" ><span class=\"f\">lex=</span>TMWL/</span></div></div><div class=\"contnr c0 trm rtl  \" ><div class=\"lbl c0 trm \" ><span class=\"nd\">154005 </span> <span class=\"txtu hbo\">גַּם־</span></div><div class=\"features\"><span class=\"lex xft\" ><span class=\"f\">lex=</span>GM</span></div></div><div class=\"contnr c0 trm rtl  \" ><div class=\"lbl c0 trm \" ><span class=\"nd\">154006 </span> <span class=\"txtu hbo\">הַ</span></div><div class=\"features\"><span class=\"lex xft\" ><span class=\"f\">lex=</span>H</span></div></div><div class=\"contnr c0 trm rtl  \" ><div class=\"lbl c0 trm \" ><span class=\"nd\">154007 </span> <span class=\"txtu hbo\">יֹּ֖ום </span></div><div class=\"features\"><span class=\"lex xft\" ><span class=\"f\">lex=</span>JWM/</span></div></div></div></div><div class=\"contnr c1  rtl  hl\" ><div class=\"lbl c1  hl\" ><span class=\"nd\">phrase:473470 </span> <span class=\"\"><span title=\"typ\">PP</span> <span title=\"function\">Cmpl</span></span></div><div class=\"features\"><span class=\"function xft\" ><span class=\"f\">function=</span>Cmpl</span></div><div class=\"children hor wrap rtl\"><div class=\"contnr c0 trm rtl  hl\" ><div class=\"lbl c0 trm hl\" ><span class=\"nd\">154008 </span> <span class=\"txtu hbo\">אֶל־</span></div><div class=\"features\"><span class=\"lex xft\" ><span class=\"f\">lex=</span>>L</span></div></div><div class=\"contnr c0 trm rtl  \" ><div class=\"lbl c0 trm \" ><span class=\"nd\">154009 </span> <span class=\"txtu hbo\">הַ</span></div><div class=\"features\"><span class=\"lex xft\" ><span class=\"f\">lex=</span>H</span></div></div><div class=\"contnr c0 trm rtl  \" ><div class=\"lbl c0 trm \" ><span class=\"nd\">154010 </span> <span class=\"txtu hbo\">לָּֽחֶם׃ </span></div><div class=\"features\"><span class=\"lex xft\" ><span class=\"f\">lex=</span>LXM/</span></div></div></div></div></div></div></div>"
      ],
      "text/plain": [
       "<IPython.core.display.HTML object>"
      ]
     },
     "metadata": {},
     "output_type": "display_data"
    },
    {
     "data": {
      "text/html": [
       "<p><b>result</b> <i>44</i>"
      ],
      "text/plain": [
       "<IPython.core.display.HTML object>"
      ]
     },
     "metadata": {},
     "output_type": "display_data"
    },
    {
     "data": {
      "text/html": [
       "<div class=\"tfsechead rtl\"><span class=\"ltr\"><a target=\"_blank\" href=\"https://shebanq.ancient-data.org/hebrew/text?book=Samuel_I&amp;chapter=26&amp;verse=7&amp;version=2021&amp;mr=m&amp;qw=q&amp;tp=txt_p&amp;tr=hb&amp;wget=v&amp;qget=v&amp;nget=vt\" title=\"Show this on SHEBANQ\" sec=\"1_Samuel 26:7\">1_Samuel 26:7</a></span></div><div class=\"rtl children\"><div class=\"contnr c2  rtl  \" ><div class=\"lbl c2  \" ><span class=\"nd\">clause:332817 </span> <span class=\"\"><span title=\"typ\">WayX</span> <span title=\"rela\">NA</span></span></div><div class=\"children hor wrap rtl\"><div class=\"contnr c1  rtl  \" ><div class=\"lbl c1  \" ><span class=\"nd\">phrase:475903 </span> <span class=\"\"><span title=\"typ\">CP</span> <span title=\"function\">Conj</span></span></div><div class=\"features\"><span class=\"function xft\" ><span class=\"f\">function=</span>Conj</span></div><div class=\"children hor wrap rtl\"><div class=\"contnr c0 trm rtl  \" ><div class=\"lbl c0 trm \" ><span class=\"nd\">157709 </span> <span class=\"txtu hbo\">וַ</span></div><div class=\"features\"><span class=\"lex xft\" ><span class=\"f\">lex=</span>W</span></div></div></div></div><div class=\"contnr c1  rtl  \" ><div class=\"lbl c1  \" ><span class=\"nd\">phrase:475904 </span> <span class=\"\"><span title=\"typ\">VP</span> <span title=\"function\">Pred</span></span></div><div class=\"features\"><span class=\"function xft\" ><span class=\"f\">function=</span>Pred</span></div><div class=\"children hor wrap rtl\"><div class=\"contnr c0 trm rtl  hl\" ><div class=\"lbl c0 trm hl\" ><span class=\"nd\">157710 </span> <span class=\"txtu hbo\">יָּבֹא֩ </span></div><div class=\"features\"><span class=\"lex xft\" ><span class=\"f\">lex=</span>BW>[</span></div></div></div></div><div class=\"contnr c1  rtl  \" ><div class=\"lbl c1  \" ><span class=\"nd\">phrase:475905 </span> <span class=\"\"><span title=\"typ\">PrNP</span> <span title=\"function\">Subj</span></span></div><div class=\"features\"><span class=\"function xft\" ><span class=\"f\">function=</span>Subj</span></div><div class=\"children hor wrap rtl\"><div class=\"contnr c0 trm rtl  \" ><div class=\"lbl c0 trm \" ><span class=\"nd\">157711 </span> <span class=\"txtu hbo\">דָוִ֨ד </span></div><div class=\"features\"><span class=\"lex xft\" ><span class=\"f\">lex=</span>DWD==/</span></div></div><div class=\"contnr c0 trm rtl  \" ><div class=\"lbl c0 trm \" ><span class=\"nd\">157712 </span> <span class=\"txtu hbo\">וַ</span></div><div class=\"features\"><span class=\"lex xft\" ><span class=\"f\">lex=</span>W</span></div></div><div class=\"contnr c0 trm rtl  \" ><div class=\"lbl c0 trm \" ><span class=\"nd\">157713 </span> <span class=\"txtu hbo\">אֲבִישַׁ֥י׀ </span></div><div class=\"features\"><span class=\"lex xft\" ><span class=\"f\">lex=</span>>BJCJ/</span></div></div></div></div><div class=\"contnr c1  rtl  hl\" ><div class=\"lbl c1  hl\" ><span class=\"nd\">phrase:475906 </span> <span class=\"\"><span title=\"typ\">PP</span> <span title=\"function\">Cmpl</span></span></div><div class=\"features\"><span class=\"function xft\" ><span class=\"f\">function=</span>Cmpl</span></div><div class=\"children hor wrap rtl\"><div class=\"contnr c0 trm rtl  hl\" ><div class=\"lbl c0 trm hl\" ><span class=\"nd\">157714 </span> <span class=\"txtu hbo\">אֶל־</span></div><div class=\"features\"><span class=\"lex xft\" ><span class=\"f\">lex=</span>>L</span></div></div><div class=\"contnr c0 trm rtl  \" ><div class=\"lbl c0 trm \" ><span class=\"nd\">157715 </span> <span class=\"txtu hbo\">הָ</span></div><div class=\"features\"><span class=\"lex xft\" ><span class=\"f\">lex=</span>H</span></div></div><div class=\"contnr c0 trm rtl  \" ><div class=\"lbl c0 trm \" ><span class=\"nd\">157716 </span> <span class=\"txtu hbo\">עָם֮ </span></div><div class=\"features\"><span class=\"lex xft\" ><span class=\"f\">lex=</span>&lt;M/</span></div></div></div></div><div class=\"contnr c1  rtl  hl\" ><div class=\"lbl c1  hl\" ><span class=\"nd\">phrase:475907 </span> <span class=\"\"><span title=\"typ\">AdvP</span> <span title=\"function\">Time</span></span></div><div class=\"features\"><span class=\"function xft\" ><span class=\"f\">function=</span>Time</span></div><div class=\"children hor wrap rtl\"><div class=\"contnr c0 trm rtl  \" ><div class=\"lbl c0 trm \" ><span class=\"nd\">157717 </span> <span class=\"txtu hbo\">לַיְלָה֒ </span></div><div class=\"features\"><span class=\"lex xft\" ><span class=\"f\">lex=</span>LJLH/</span></div></div></div></div></div></div></div>"
      ],
      "text/plain": [
       "<IPython.core.display.HTML object>"
      ]
     },
     "metadata": {},
     "output_type": "display_data"
    },
    {
     "data": {
      "text/html": [
       "<p><b>result</b> <i>45</i>"
      ],
      "text/plain": [
       "<IPython.core.display.HTML object>"
      ]
     },
     "metadata": {},
     "output_type": "display_data"
    },
    {
     "data": {
      "text/html": [
       "<div class=\"tfsechead rtl\"><span class=\"ltr\"><a target=\"_blank\" href=\"https://shebanq.ancient-data.org/hebrew/text?book=Samuel_I&amp;chapter=28&amp;verse=8&amp;version=2021&amp;mr=m&amp;qw=q&amp;tp=txt_p&amp;tr=hb&amp;wget=v&amp;qget=v&amp;nget=vt\" title=\"Show this on SHEBANQ\" sec=\"1_Samuel 28:8\">1_Samuel 28:8</a></span></div><div class=\"rtl children\"><div class=\"contnr c2  rtl  \" ><div class=\"lbl c2  \" ><span class=\"nd\">clause:333016 </span> <span class=\"\"><span title=\"typ\">Way0</span> <span title=\"rela\">NA</span></span></div><div class=\"children hor wrap rtl\"><div class=\"contnr c1  rtl  \" ><div class=\"lbl c1  \" ><span class=\"nd\">phrase:476521 </span> <span class=\"\"><span title=\"typ\">CP</span> <span title=\"function\">Conj</span></span></div><div class=\"features\"><span class=\"function xft\" ><span class=\"f\">function=</span>Conj</span></div><div class=\"children hor wrap rtl\"><div class=\"contnr c0 trm rtl  \" ><div class=\"lbl c0 trm \" ><span class=\"nd\">158681 </span> <span class=\"txtu hbo\">וַ</span></div><div class=\"features\"><span class=\"lex xft\" ><span class=\"f\">lex=</span>W</span></div></div></div></div><div class=\"contnr c1  rtl  \" ><div class=\"lbl c1  \" ><span class=\"nd\">phrase:476522 </span> <span class=\"\"><span title=\"typ\">VP</span> <span title=\"function\">Pred</span></span></div><div class=\"features\"><span class=\"function xft\" ><span class=\"f\">function=</span>Pred</span></div><div class=\"children hor wrap rtl\"><div class=\"contnr c0 trm rtl  hl\" ><div class=\"lbl c0 trm hl\" ><span class=\"nd\">158682 </span> <span class=\"txtu hbo\">יָּבֹ֥אוּ </span></div><div class=\"features\"><span class=\"lex xft\" ><span class=\"f\">lex=</span>BW>[</span></div></div></div></div><div class=\"contnr c1  rtl  hl\" ><div class=\"lbl c1  hl\" ><span class=\"nd\">phrase:476523 </span> <span class=\"\"><span title=\"typ\">PP</span> <span title=\"function\">Cmpl</span></span></div><div class=\"features\"><span class=\"function xft\" ><span class=\"f\">function=</span>Cmpl</span></div><div class=\"children hor wrap rtl\"><div class=\"contnr c0 trm rtl  hl\" ><div class=\"lbl c0 trm hl\" ><span class=\"nd\">158683 </span> <span class=\"txtu hbo\">אֶל־</span></div><div class=\"features\"><span class=\"lex xft\" ><span class=\"f\">lex=</span>>L</span></div></div><div class=\"contnr c0 trm rtl  \" ><div class=\"lbl c0 trm \" ><span class=\"nd\">158684 </span> <span class=\"txtu hbo\">הָ</span></div><div class=\"features\"><span class=\"lex xft\" ><span class=\"f\">lex=</span>H</span></div></div><div class=\"contnr c0 trm rtl  \" ><div class=\"lbl c0 trm \" ><span class=\"nd\">158685 </span> <span class=\"txtu hbo\">אִשָּׁ֖ה </span></div><div class=\"features\"><span class=\"lex xft\" ><span class=\"f\">lex=</span>>CH/</span></div></div></div></div><div class=\"contnr c1  rtl  hl\" ><div class=\"lbl c1  hl\" ><span class=\"nd\">phrase:476524 </span> <span class=\"\"><span title=\"typ\">AdvP</span> <span title=\"function\">Time</span></span></div><div class=\"features\"><span class=\"function xft\" ><span class=\"f\">function=</span>Time</span></div><div class=\"children hor wrap rtl\"><div class=\"contnr c0 trm rtl  \" ><div class=\"lbl c0 trm \" ><span class=\"nd\">158686 </span> <span class=\"txtu hbo\">לָ֑יְלָה </span></div><div class=\"features\"><span class=\"lex xft\" ><span class=\"f\">lex=</span>LJLH/</span></div></div></div></div></div></div></div>"
      ],
      "text/plain": [
       "<IPython.core.display.HTML object>"
      ]
     },
     "metadata": {},
     "output_type": "display_data"
    },
    {
     "data": {
      "text/html": [
       "<p><b>result</b> <i>46</i>"
      ],
      "text/plain": [
       "<IPython.core.display.HTML object>"
      ]
     },
     "metadata": {},
     "output_type": "display_data"
    },
    {
     "data": {
      "text/html": [
       "<div class=\"tfsechead rtl\"><span class=\"ltr\"><a target=\"_blank\" href=\"https://shebanq.ancient-data.org/hebrew/text?book=Samuel_II&amp;chapter=23&amp;verse=13&amp;version=2021&amp;mr=m&amp;qw=q&amp;tp=txt_p&amp;tr=hb&amp;wget=v&amp;qget=v&amp;nget=vt\" title=\"Show this on SHEBANQ\" sec=\"2_Samuel 23:13\">2_Samuel 23:13</a></span></div><div class=\"rtl children\"><div class=\"contnr c2  rtl  \" ><div class=\"lbl c2  \" ><span class=\"nd\">clause:336363 </span> <span class=\"\"><span title=\"typ\">Way0</span> <span title=\"rela\">NA</span></span></div><div class=\"children hor wrap rtl\"><div class=\"contnr c1  rtl  \" ><div class=\"lbl c1  \" ><span class=\"nd\">phrase:486672 </span> <span class=\"\"><span title=\"typ\">CP</span> <span title=\"function\">Conj</span></span></div><div class=\"features\"><span class=\"function xft\" ><span class=\"f\">function=</span>Conj</span></div><div class=\"children hor wrap rtl\"><div class=\"contnr c0 trm rtl  \" ><div class=\"lbl c0 trm \" ><span class=\"nd\">175063 </span> <span class=\"txtu hbo\">וַ</span></div><div class=\"features\"><span class=\"lex xft\" ><span class=\"f\">lex=</span>W</span></div></div></div></div><div class=\"contnr c1  rtl  \" ><div class=\"lbl c1  \" ><span class=\"nd\">phrase:486673 </span> <span class=\"\"><span title=\"typ\">VP</span> <span title=\"function\">Pred</span></span></div><div class=\"features\"><span class=\"function xft\" ><span class=\"f\">function=</span>Pred</span></div><div class=\"children hor wrap rtl\"><div class=\"contnr c0 trm rtl  hl\" ><div class=\"lbl c0 trm hl\" ><span class=\"nd\">175064 </span> <span class=\"txtu hbo\">יָּבֹ֤אוּ </span></div><div class=\"features\"><span class=\"lex xft\" ><span class=\"f\">lex=</span>BW>[</span></div></div></div></div><div class=\"contnr c1  rtl  hl\" ><div class=\"lbl c1  hl\" ><span class=\"nd\">phrase:486674 </span> <span class=\"\"><span title=\"typ\">PP</span> <span title=\"function\">Time</span></span></div><div class=\"features\"><span class=\"function xft\" ><span class=\"f\">function=</span>Time</span></div><div class=\"children hor wrap rtl\"><div class=\"contnr c0 trm rtl  \" ><div class=\"lbl c0 trm \" ><span class=\"nd\">175065 </span> <span class=\"txtu hbo\">אֶל־</span></div><div class=\"features\"><span class=\"lex xft\" ><span class=\"f\">lex=</span>>L</span></div></div><div class=\"contnr c0 trm rtl  \" ><div class=\"lbl c0 trm \" ><span class=\"nd\">175066 </span> <span class=\"txtu hbo\">קָצִיר֙ </span></div><div class=\"features\"><span class=\"lex xft\" ><span class=\"f\">lex=</span>QYJR/</span></div></div></div></div><div class=\"contnr c1  rtl  hl\" ><div class=\"lbl c1  hl\" ><span class=\"nd\">phrase:486675 </span> <span class=\"\"><span title=\"typ\">PP</span> <span title=\"function\">Cmpl</span></span></div><div class=\"features\"><span class=\"function xft\" ><span class=\"f\">function=</span>Cmpl</span></div><div class=\"children hor wrap rtl\"><div class=\"contnr c0 trm rtl  hl\" ><div class=\"lbl c0 trm hl\" ><span class=\"nd\">175067 </span> <span class=\"txtu hbo\">אֶל־</span></div><div class=\"features\"><span class=\"lex xft\" ><span class=\"f\">lex=</span>>L</span></div></div><div class=\"contnr c0 trm rtl  \" ><div class=\"lbl c0 trm \" ><span class=\"nd\">175068 </span> <span class=\"txtu hbo\">דָּוִ֔ד </span></div><div class=\"features\"><span class=\"lex xft\" ><span class=\"f\">lex=</span>DWD==/</span></div></div></div></div><div class=\"contnr c1  rtl  \" ><div class=\"lbl c1  \" ><span class=\"nd\">phrase:486676 </span> <span class=\"\"><span title=\"typ\">PP</span> <span title=\"function\">Cmpl</span></span></div><div class=\"features\"><span class=\"function xft\" ><span class=\"f\">function=</span>Cmpl</span></div><div class=\"children hor wrap rtl\"><div class=\"contnr c0 trm rtl  \" ><div class=\"lbl c0 trm \" ><span class=\"nd\">175069 </span> <span class=\"txtu hbo\">אֶל־</span></div><div class=\"features\"><span class=\"lex xft\" ><span class=\"f\">lex=</span>>L</span></div></div><div class=\"contnr c0 trm rtl  \" ><div class=\"lbl c0 trm \" ><span class=\"nd\">175070 </span> <span class=\"txtu hbo\">מְעָרַ֖ת </span></div><div class=\"features\"><span class=\"lex xft\" ><span class=\"f\">lex=</span>M&lt;RH/</span></div></div><div class=\"contnr c0 trm rtl  \" ><div class=\"lbl c0 trm \" ><span class=\"nd\">175071 </span> <span class=\"txtu hbo\">עֲדֻלָּ֑ם </span></div><div class=\"features\"><span class=\"lex xft\" ><span class=\"f\">lex=</span>&lt;DLM/</span></div></div></div></div></div></div></div>"
      ],
      "text/plain": [
       "<IPython.core.display.HTML object>"
      ]
     },
     "metadata": {},
     "output_type": "display_data"
    },
    {
     "data": {
      "text/html": [
       "<p><b>result</b> <i>47</i>"
      ],
      "text/plain": [
       "<IPython.core.display.HTML object>"
      ]
     },
     "metadata": {},
     "output_type": "display_data"
    },
    {
     "data": {
      "text/html": [
       "<div class=\"tfsechead rtl\"><span class=\"ltr\"><a target=\"_blank\" href=\"https://shebanq.ancient-data.org/hebrew/text?book=Samuel_II&amp;chapter=23&amp;verse=13&amp;version=2021&amp;mr=m&amp;qw=q&amp;tp=txt_p&amp;tr=hb&amp;wget=v&amp;qget=v&amp;nget=vt\" title=\"Show this on SHEBANQ\" sec=\"2_Samuel 23:13\">2_Samuel 23:13</a></span></div><div class=\"rtl children\"><div class=\"contnr c2  rtl  \" ><div class=\"lbl c2  \" ><span class=\"nd\">clause:336363 </span> <span class=\"\"><span title=\"typ\">Way0</span> <span title=\"rela\">NA</span></span></div><div class=\"children hor wrap rtl\"><div class=\"contnr c1  rtl  \" ><div class=\"lbl c1  \" ><span class=\"nd\">phrase:486672 </span> <span class=\"\"><span title=\"typ\">CP</span> <span title=\"function\">Conj</span></span></div><div class=\"features\"><span class=\"function xft\" ><span class=\"f\">function=</span>Conj</span></div><div class=\"children hor wrap rtl\"><div class=\"contnr c0 trm rtl  \" ><div class=\"lbl c0 trm \" ><span class=\"nd\">175063 </span> <span class=\"txtu hbo\">וַ</span></div><div class=\"features\"><span class=\"lex xft\" ><span class=\"f\">lex=</span>W</span></div></div></div></div><div class=\"contnr c1  rtl  \" ><div class=\"lbl c1  \" ><span class=\"nd\">phrase:486673 </span> <span class=\"\"><span title=\"typ\">VP</span> <span title=\"function\">Pred</span></span></div><div class=\"features\"><span class=\"function xft\" ><span class=\"f\">function=</span>Pred</span></div><div class=\"children hor wrap rtl\"><div class=\"contnr c0 trm rtl  hl\" ><div class=\"lbl c0 trm hl\" ><span class=\"nd\">175064 </span> <span class=\"txtu hbo\">יָּבֹ֤אוּ </span></div><div class=\"features\"><span class=\"lex xft\" ><span class=\"f\">lex=</span>BW>[</span></div></div></div></div><div class=\"contnr c1  rtl  hl\" ><div class=\"lbl c1  hl\" ><span class=\"nd\">phrase:486674 </span> <span class=\"\"><span title=\"typ\">PP</span> <span title=\"function\">Time</span></span></div><div class=\"features\"><span class=\"function xft\" ><span class=\"f\">function=</span>Time</span></div><div class=\"children hor wrap rtl\"><div class=\"contnr c0 trm rtl  \" ><div class=\"lbl c0 trm \" ><span class=\"nd\">175065 </span> <span class=\"txtu hbo\">אֶל־</span></div><div class=\"features\"><span class=\"lex xft\" ><span class=\"f\">lex=</span>>L</span></div></div><div class=\"contnr c0 trm rtl  \" ><div class=\"lbl c0 trm \" ><span class=\"nd\">175066 </span> <span class=\"txtu hbo\">קָצִיר֙ </span></div><div class=\"features\"><span class=\"lex xft\" ><span class=\"f\">lex=</span>QYJR/</span></div></div></div></div><div class=\"contnr c1  rtl  \" ><div class=\"lbl c1  \" ><span class=\"nd\">phrase:486675 </span> <span class=\"\"><span title=\"typ\">PP</span> <span title=\"function\">Cmpl</span></span></div><div class=\"features\"><span class=\"function xft\" ><span class=\"f\">function=</span>Cmpl</span></div><div class=\"children hor wrap rtl\"><div class=\"contnr c0 trm rtl  \" ><div class=\"lbl c0 trm \" ><span class=\"nd\">175067 </span> <span class=\"txtu hbo\">אֶל־</span></div><div class=\"features\"><span class=\"lex xft\" ><span class=\"f\">lex=</span>>L</span></div></div><div class=\"contnr c0 trm rtl  \" ><div class=\"lbl c0 trm \" ><span class=\"nd\">175068 </span> <span class=\"txtu hbo\">דָּוִ֔ד </span></div><div class=\"features\"><span class=\"lex xft\" ><span class=\"f\">lex=</span>DWD==/</span></div></div></div></div><div class=\"contnr c1  rtl  hl\" ><div class=\"lbl c1  hl\" ><span class=\"nd\">phrase:486676 </span> <span class=\"\"><span title=\"typ\">PP</span> <span title=\"function\">Cmpl</span></span></div><div class=\"features\"><span class=\"function xft\" ><span class=\"f\">function=</span>Cmpl</span></div><div class=\"children hor wrap rtl\"><div class=\"contnr c0 trm rtl  hl\" ><div class=\"lbl c0 trm hl\" ><span class=\"nd\">175069 </span> <span class=\"txtu hbo\">אֶל־</span></div><div class=\"features\"><span class=\"lex xft\" ><span class=\"f\">lex=</span>>L</span></div></div><div class=\"contnr c0 trm rtl  \" ><div class=\"lbl c0 trm \" ><span class=\"nd\">175070 </span> <span class=\"txtu hbo\">מְעָרַ֖ת </span></div><div class=\"features\"><span class=\"lex xft\" ><span class=\"f\">lex=</span>M&lt;RH/</span></div></div><div class=\"contnr c0 trm rtl  \" ><div class=\"lbl c0 trm \" ><span class=\"nd\">175071 </span> <span class=\"txtu hbo\">עֲדֻלָּ֑ם </span></div><div class=\"features\"><span class=\"lex xft\" ><span class=\"f\">lex=</span>&lt;DLM/</span></div></div></div></div></div></div></div>"
      ],
      "text/plain": [
       "<IPython.core.display.HTML object>"
      ]
     },
     "metadata": {},
     "output_type": "display_data"
    },
    {
     "data": {
      "text/html": [
       "<p><b>result</b> <i>48</i>"
      ],
      "text/plain": [
       "<IPython.core.display.HTML object>"
      ]
     },
     "metadata": {},
     "output_type": "display_data"
    },
    {
     "data": {
      "text/html": [
       "<div class=\"tfsechead rtl\"><span class=\"ltr\"><a target=\"_blank\" href=\"https://shebanq.ancient-data.org/hebrew/text?book=Samuel_II&amp;chapter=24&amp;verse=18&amp;version=2021&amp;mr=m&amp;qw=q&amp;tp=txt_p&amp;tr=hb&amp;wget=v&amp;qget=v&amp;nget=vt\" title=\"Show this on SHEBANQ\" sec=\"2_Samuel 24:18\">2_Samuel 24:18</a></span></div><div class=\"rtl children\"><div class=\"contnr c2  rtl  \" ><div class=\"lbl c2  \" ><span class=\"nd\">clause:336528 </span> <span class=\"\"><span title=\"typ\">WayX</span> <span title=\"rela\">NA</span></span></div><div class=\"children hor wrap rtl\"><div class=\"contnr c1  rtl  \" ><div class=\"lbl c1  \" ><span class=\"nd\">phrase:487113 </span> <span class=\"\"><span title=\"typ\">CP</span> <span title=\"function\">Conj</span></span></div><div class=\"features\"><span class=\"function xft\" ><span class=\"f\">function=</span>Conj</span></div><div class=\"children hor wrap rtl\"><div class=\"contnr c0 trm rtl  \" ><div class=\"lbl c0 trm \" ><span class=\"nd\">175882 </span> <span class=\"txtu hbo\">וַ</span></div><div class=\"features\"><span class=\"lex xft\" ><span class=\"f\">lex=</span>W</span></div></div></div></div><div class=\"contnr c1  rtl  \" ><div class=\"lbl c1  \" ><span class=\"nd\">phrase:487114 </span> <span class=\"\"><span title=\"typ\">VP</span> <span title=\"function\">Pred</span></span></div><div class=\"features\"><span class=\"function xft\" ><span class=\"f\">function=</span>Pred</span></div><div class=\"children hor wrap rtl\"><div class=\"contnr c0 trm rtl  hl\" ><div class=\"lbl c0 trm hl\" ><span class=\"nd\">175883 </span> <span class=\"txtu hbo\">יָּבֹא־</span></div><div class=\"features\"><span class=\"lex xft\" ><span class=\"f\">lex=</span>BW>[</span></div></div></div></div><div class=\"contnr c1  rtl  \" ><div class=\"lbl c1  \" ><span class=\"nd\">phrase:487115 </span> <span class=\"\"><span title=\"typ\">PrNP</span> <span title=\"function\">Subj</span></span></div><div class=\"features\"><span class=\"function xft\" ><span class=\"f\">function=</span>Subj</span></div><div class=\"children hor wrap rtl\"><div class=\"contnr c0 trm rtl  \" ><div class=\"lbl c0 trm \" ><span class=\"nd\">175884 </span> <span class=\"txtu hbo\">גָ֥ד </span></div><div class=\"features\"><span class=\"lex xft\" ><span class=\"f\">lex=</span>GD==/</span></div></div></div></div><div class=\"contnr c1  rtl  hl\" ><div class=\"lbl c1  hl\" ><span class=\"nd\">phrase:487116 </span> <span class=\"\"><span title=\"typ\">PP</span> <span title=\"function\">Cmpl</span></span></div><div class=\"features\"><span class=\"function xft\" ><span class=\"f\">function=</span>Cmpl</span></div><div class=\"children hor wrap rtl\"><div class=\"contnr c0 trm rtl  hl\" ><div class=\"lbl c0 trm hl\" ><span class=\"nd\">175885 </span> <span class=\"txtu hbo\">אֶל־</span></div><div class=\"features\"><span class=\"lex xft\" ><span class=\"f\">lex=</span>>L</span></div></div><div class=\"contnr c0 trm rtl  \" ><div class=\"lbl c0 trm \" ><span class=\"nd\">175886 </span> <span class=\"txtu hbo\">דָּוִ֖ד </span></div><div class=\"features\"><span class=\"lex xft\" ><span class=\"f\">lex=</span>DWD==/</span></div></div></div></div><div class=\"contnr c1  rtl  hl\" ><div class=\"lbl c1  hl\" ><span class=\"nd\">phrase:487117 </span> <span class=\"\"><span title=\"typ\">PP</span> <span title=\"function\">Time</span></span></div><div class=\"features\"><span class=\"function xft\" ><span class=\"f\">function=</span>Time</span></div><div class=\"children hor wrap rtl\"><div class=\"contnr c0 trm rtl  \" ><div class=\"lbl c0 trm \" ><span class=\"nd\">175887 </span> <span class=\"txtu hbo\">בַּ</span></div><div class=\"features\"><span class=\"lex xft\" ><span class=\"f\">lex=</span>B</span></div></div><div class=\"contnr c0 trm rtl  \" ><div class=\"lbl c0 trm \" ><span class=\"nd\">175888 </span></div><div class=\"features\"><span class=\"lex xft\" ><span class=\"f\">lex=</span>H</span></div></div><div class=\"contnr c0 trm rtl  \" ><div class=\"lbl c0 trm \" ><span class=\"nd\">175889 </span> <span class=\"txtu hbo\">יֹּ֣ום </span></div><div class=\"features\"><span class=\"lex xft\" ><span class=\"f\">lex=</span>JWM/</span></div></div><div class=\"contnr c0 trm rtl  \" ><div class=\"lbl c0 trm \" ><span class=\"nd\">175890 </span> <span class=\"txtu hbo\">הַ</span></div><div class=\"features\"><span class=\"lex xft\" ><span class=\"f\">lex=</span>H</span></div></div><div class=\"contnr c0 trm rtl  \" ><div class=\"lbl c0 trm \" ><span class=\"nd\">175891 </span> <span class=\"txtu hbo\">ה֑וּא </span></div><div class=\"features\"><span class=\"lex xft\" ><span class=\"f\">lex=</span>HW></span></div></div></div></div></div></div></div>"
      ],
      "text/plain": [
       "<IPython.core.display.HTML object>"
      ]
     },
     "metadata": {},
     "output_type": "display_data"
    },
    {
     "data": {
      "text/html": [
       "<p><b>result</b> <i>49</i>"
      ],
      "text/plain": [
       "<IPython.core.display.HTML object>"
      ]
     },
     "metadata": {},
     "output_type": "display_data"
    },
    {
     "data": {
      "text/html": [
       "<div class=\"tfsechead rtl\"><span class=\"ltr\"><a target=\"_blank\" href=\"https://shebanq.ancient-data.org/hebrew/text?book=Reges_I&amp;chapter=3&amp;verse=16&amp;version=2021&amp;mr=m&amp;qw=q&amp;tp=txt_p&amp;tr=hb&amp;wget=v&amp;qget=v&amp;nget=vt\" title=\"Show this on SHEBANQ\" sec=\"1_Kings 3:16\">1_Kings 3:16</a></span></div><div class=\"rtl children\"><div class=\"contnr c2  rtl  \" ><div class=\"lbl c2  \" ><span class=\"nd\">clause:337102 </span> <span class=\"\"><span title=\"typ\">xYqX</span> <span title=\"rela\">NA</span></span></div><div class=\"children hor wrap rtl\"><div class=\"contnr c1  rtl  hl\" ><div class=\"lbl c1  hl\" ><span class=\"nd\">phrase:488864 </span> <span class=\"\"><span title=\"typ\">AdvP</span> <span title=\"function\">Time</span></span></div><div class=\"features\"><span class=\"function xft\" ><span class=\"f\">function=</span>Time</span></div><div class=\"children hor wrap rtl\"><div class=\"contnr c0 trm rtl  \" ><div class=\"lbl c0 trm \" ><span class=\"nd\">178764 </span> <span class=\"txtu hbo\">אָ֣ז </span></div><div class=\"features\"><span class=\"lex xft\" ><span class=\"f\">lex=</span>>Z</span></div></div></div></div><div class=\"contnr c1  rtl  \" ><div class=\"lbl c1  \" ><span class=\"nd\">phrase:488865 </span> <span class=\"\"><span title=\"typ\">VP</span> <span title=\"function\">Pred</span></span></div><div class=\"features\"><span class=\"function xft\" ><span class=\"f\">function=</span>Pred</span></div><div class=\"children hor wrap rtl\"><div class=\"contnr c0 trm rtl  hl\" ><div class=\"lbl c0 trm hl\" ><span class=\"nd\">178765 </span> <span class=\"txtu hbo\">תָּבֹ֗אנָה </span></div><div class=\"features\"><span class=\"lex xft\" ><span class=\"f\">lex=</span>BW>[</span></div></div></div></div><div class=\"contnr c1  rtl  \" ><div class=\"lbl c1  \" ><span class=\"nd\">phrase:488866 </span> <span class=\"\"><span title=\"typ\">NP</span> <span title=\"function\">Subj</span></span></div><div class=\"features\"><span class=\"function xft\" ><span class=\"f\">function=</span>Subj</span></div><div class=\"children hor wrap rtl\"><div class=\"contnr c0 trm rtl  \" ><div class=\"lbl c0 trm \" ><span class=\"nd\">178766 </span> <span class=\"txtu hbo\">שְׁתַּ֛יִם </span></div><div class=\"features\"><span class=\"lex xft\" ><span class=\"f\">lex=</span>CNJM/</span></div></div><div class=\"contnr c0 trm rtl  \" ><div class=\"lbl c0 trm \" ><span class=\"nd\">178767 </span> <span class=\"txtu hbo\">נָשִׁ֥ים </span></div><div class=\"features\"><span class=\"lex xft\" ><span class=\"f\">lex=</span>>CH/</span></div></div><div class=\"contnr c0 trm rtl  \" ><div class=\"lbl c0 trm \" ><span class=\"nd\">178768 </span> <span class=\"txtu hbo\">זֹנֹ֖ות </span></div><div class=\"features\"><span class=\"lex xft\" ><span class=\"f\">lex=</span>ZNH[</span></div></div></div></div><div class=\"contnr c1  rtl  hl\" ><div class=\"lbl c1  hl\" ><span class=\"nd\">phrase:488867 </span> <span class=\"\"><span title=\"typ\">PP</span> <span title=\"function\">Cmpl</span></span></div><div class=\"features\"><span class=\"function xft\" ><span class=\"f\">function=</span>Cmpl</span></div><div class=\"children hor wrap rtl\"><div class=\"contnr c0 trm rtl  hl\" ><div class=\"lbl c0 trm hl\" ><span class=\"nd\">178769 </span> <span class=\"txtu hbo\">אֶל־</span></div><div class=\"features\"><span class=\"lex xft\" ><span class=\"f\">lex=</span>>L</span></div></div><div class=\"contnr c0 trm rtl  \" ><div class=\"lbl c0 trm \" ><span class=\"nd\">178770 </span> <span class=\"txtu hbo\">הַ</span></div><div class=\"features\"><span class=\"lex xft\" ><span class=\"f\">lex=</span>H</span></div></div><div class=\"contnr c0 trm rtl  \" ><div class=\"lbl c0 trm \" ><span class=\"nd\">178771 </span> <span class=\"txtu hbo\">מֶּ֑לֶךְ </span></div><div class=\"features\"><span class=\"lex xft\" ><span class=\"f\">lex=</span>MLK/</span></div></div></div></div></div></div></div>"
      ],
      "text/plain": [
       "<IPython.core.display.HTML object>"
      ]
     },
     "metadata": {},
     "output_type": "display_data"
    },
    {
     "data": {
      "text/html": [
       "<p><b>result</b> <i>50</i>"
      ],
      "text/plain": [
       "<IPython.core.display.HTML object>"
      ]
     },
     "metadata": {},
     "output_type": "display_data"
    },
    {
     "data": {
      "text/html": [
       "<div class=\"tfsechead rtl\"><span class=\"ltr\"><a target=\"_blank\" href=\"https://shebanq.ancient-data.org/hebrew/text?book=Reges_I&amp;chapter=12&amp;verse=12&amp;version=2021&amp;mr=m&amp;qw=q&amp;tp=txt_p&amp;tr=hb&amp;wget=v&amp;qget=v&amp;nget=vt\" title=\"Show this on SHEBANQ\" sec=\"1_Kings 12:12\">1_Kings 12:12</a></span></div><div class=\"rtl children\"><div class=\"contnr c2  rtl  \" ><div class=\"lbl c2  \" ><span class=\"nd\">clause:338327 </span> <span class=\"\"><span title=\"typ\">WayX</span> <span title=\"rela\">NA</span></span></div><div class=\"children hor wrap rtl\"><div class=\"contnr c1  rtl  \" ><div class=\"lbl c1  \" ><span class=\"nd\">phrase:492607 </span> <span class=\"\"><span title=\"typ\">CP</span> <span title=\"function\">Conj</span></span></div><div class=\"features\"><span class=\"function xft\" ><span class=\"f\">function=</span>Conj</span></div><div class=\"children hor wrap rtl\"><div class=\"contnr c0 trm rtl  \" ><div class=\"lbl c0 trm \" ><span class=\"nd\">186210 </span> <span class=\"txtu hbo\">וַ</span></div><div class=\"features\"><span class=\"lex xft\" ><span class=\"f\">lex=</span>W</span></div></div></div></div><div class=\"contnr c1  rtl  \" ><div class=\"lbl c1  \" ><span class=\"nd\">phrase:492608 </span> <span class=\"\"><span title=\"typ\">VP</span> <span title=\"function\">Pred</span></span></div><div class=\"features\"><span class=\"function xft\" ><span class=\"f\">function=</span>Pred</span></div><div class=\"children hor wrap rtl\"><div class=\"contnr c0 trm rtl  hl\" ><div class=\"lbl c0 trm hl\" ><span class=\"nd\">186211 </span> <span class=\"txtu hbo\">יָּבֹ֨וא </span></div><div class=\"features\"><span class=\"lex xft\" ><span class=\"f\">lex=</span>BW>[</span></div></div></div></div><div class=\"contnr c1  rtl  \" ><div class=\"lbl c1  \" ><span class=\"nd\">phrase:492609 </span> <span class=\"\"><span title=\"typ\">PrNP</span> <span title=\"function\">Subj</span></span></div><div class=\"features\"><span class=\"function xft\" ><span class=\"f\">function=</span>Subj</span></div><div class=\"children hor wrap rtl\"><div class=\"contnr c0 trm rtl  \" ><div class=\"lbl c0 trm \" ><span class=\"nd\">186212 </span> <span class=\"txtu hbo\">יָרָבְעָ֧ם </span></div><div class=\"features\"><span class=\"lex xft\" ><span class=\"f\">lex=</span>JRB&lt;M/</span></div></div><div class=\"contnr c0 trm rtl  \" ><div class=\"lbl c0 trm \" ><span class=\"nd\">186213 </span> <span class=\"txtu hbo\">וְ</span></div><div class=\"features\"><span class=\"lex xft\" ><span class=\"f\">lex=</span>W</span></div></div><div class=\"contnr c0 trm rtl  \" ><div class=\"lbl c0 trm \" ><span class=\"nd\">186214 </span> <span class=\"txtu hbo\">כָל־</span></div><div class=\"features\"><span class=\"lex xft\" ><span class=\"f\">lex=</span>KL/</span></div></div><div class=\"contnr c0 trm rtl  \" ><div class=\"lbl c0 trm \" ><span class=\"nd\">186215 </span> <span class=\"txtu hbo\">הָ</span></div><div class=\"features\"><span class=\"lex xft\" ><span class=\"f\">lex=</span>H</span></div></div><div class=\"contnr c0 trm rtl  \" ><div class=\"lbl c0 trm \" ><span class=\"nd\">186216 </span> <span class=\"txtu hbo\">עָ֛ם </span></div><div class=\"features\"><span class=\"lex xft\" ><span class=\"f\">lex=</span>&lt;M/</span></div></div></div></div><div class=\"contnr c1  rtl  hl\" ><div class=\"lbl c1  hl\" ><span class=\"nd\">phrase:492610 </span> <span class=\"\"><span title=\"typ\">PP</span> <span title=\"function\">Cmpl</span></span></div><div class=\"features\"><span class=\"function xft\" ><span class=\"f\">function=</span>Cmpl</span></div><div class=\"children hor wrap rtl\"><div class=\"contnr c0 trm rtl  hl\" ><div class=\"lbl c0 trm hl\" ><span class=\"nd\">186217 </span> <span class=\"txtu hbo\">אֶל־</span></div><div class=\"features\"><span class=\"lex xft\" ><span class=\"f\">lex=</span>>L</span></div></div><div class=\"contnr c0 trm rtl  \" ><div class=\"lbl c0 trm \" ><span class=\"nd\">186218 </span> <span class=\"txtu hbo\">רְחַבְעָ֖ם </span></div><div class=\"features\"><span class=\"lex xft\" ><span class=\"f\">lex=</span>RXB&lt;M/</span></div></div></div></div><div class=\"contnr c1  rtl  hl\" ><div class=\"lbl c1  hl\" ><span class=\"nd\">phrase:492611 </span> <span class=\"\"><span title=\"typ\">PP</span> <span title=\"function\">Time</span></span></div><div class=\"features\"><span class=\"function xft\" ><span class=\"f\">function=</span>Time</span></div><div class=\"children hor wrap rtl\"><div class=\"contnr c0 trm rtl  \" ><div class=\"lbl c0 trm \" ><span class=\"nd\">186219 </span> <span class=\"txtu hbo\">בַּ</span></div><div class=\"features\"><span class=\"lex xft\" ><span class=\"f\">lex=</span>B</span></div></div><div class=\"contnr c0 trm rtl  \" ><div class=\"lbl c0 trm \" ><span class=\"nd\">186220 </span></div><div class=\"features\"><span class=\"lex xft\" ><span class=\"f\">lex=</span>H</span></div></div><div class=\"contnr c0 trm rtl  \" ><div class=\"lbl c0 trm \" ><span class=\"nd\">186221 </span> <span class=\"txtu hbo\">יֹּ֣ום </span></div><div class=\"features\"><span class=\"lex xft\" ><span class=\"f\">lex=</span>JWM/</span></div></div><div class=\"contnr c0 trm rtl  \" ><div class=\"lbl c0 trm \" ><span class=\"nd\">186222 </span> <span class=\"txtu hbo\">הַ</span></div><div class=\"features\"><span class=\"lex xft\" ><span class=\"f\">lex=</span>H</span></div></div><div class=\"contnr c0 trm rtl  \" ><div class=\"lbl c0 trm \" ><span class=\"nd\">186223 </span> <span class=\"txtu hbo\">שְּׁלִישִׁ֑י </span></div><div class=\"features\"><span class=\"lex xft\" ><span class=\"f\">lex=</span>CLJCJ/</span></div></div></div></div></div></div></div>"
      ],
      "text/plain": [
       "<IPython.core.display.HTML object>"
      ]
     },
     "metadata": {},
     "output_type": "display_data"
    },
    {
     "data": {
      "text/html": [
       "<p><b>result</b> <i>51</i>"
      ],
      "text/plain": [
       "<IPython.core.display.HTML object>"
      ]
     },
     "metadata": {},
     "output_type": "display_data"
    },
    {
     "data": {
      "text/html": [
       "<div class=\"tfsechead rtl\"><span class=\"ltr\"><a target=\"_blank\" href=\"https://shebanq.ancient-data.org/hebrew/text?book=Reges_I&amp;chapter=12&amp;verse=12&amp;version=2021&amp;mr=m&amp;qw=q&amp;tp=txt_p&amp;tr=hb&amp;wget=v&amp;qget=v&amp;nget=vt\" title=\"Show this on SHEBANQ\" sec=\"1_Kings 12:12\">1_Kings 12:12</a></span></div><div class=\"rtl children\"><div class=\"contnr c2  rtl  \" ><div class=\"lbl c2  \" ><span class=\"nd\">clause:338330 </span> <span class=\"\"><span title=\"typ\">ZIm0</span> <span title=\"rela\">NA</span></span></div><div class=\"children hor wrap rtl\"><div class=\"contnr c1  rtl  \" ><div class=\"lbl c1  \" ><span class=\"nd\">phrase:492616 </span> <span class=\"\"><span title=\"typ\">VP</span> <span title=\"function\">Pred</span></span></div><div class=\"features\"><span class=\"function xft\" ><span class=\"f\">function=</span>Pred</span></div><div class=\"children hor wrap rtl\"><div class=\"contnr c0 trm rtl  hl\" ><div class=\"lbl c0 trm hl\" ><span class=\"nd\">186231 </span> <span class=\"txtu hbo\">שׁ֥וּבוּ </span></div><div class=\"features\"><span class=\"lex xft\" ><span class=\"f\">lex=</span>CWB[</span></div></div></div></div><div class=\"contnr c1  rtl  hl\" ><div class=\"lbl c1  hl\" ><span class=\"nd\">phrase:492617 </span> <span class=\"\"><span title=\"typ\">PP</span> <span title=\"function\">Cmpl</span></span></div><div class=\"features\"><span class=\"function xft\" ><span class=\"f\">function=</span>Cmpl</span></div><div class=\"children hor wrap rtl\"><div class=\"contnr c0 trm rtl  hl\" ><div class=\"lbl c0 trm hl\" ><span class=\"nd\">186232 </span> <span class=\"txtu hbo\">אֵלַ֖י </span></div><div class=\"features\"><span class=\"lex xft\" ><span class=\"f\">lex=</span>>L</span></div></div></div></div><div class=\"contnr c1  rtl  hl\" ><div class=\"lbl c1  hl\" ><span class=\"nd\">phrase:492618 </span> <span class=\"\"><span title=\"typ\">PP</span> <span title=\"function\">Time</span></span></div><div class=\"features\"><span class=\"function xft\" ><span class=\"f\">function=</span>Time</span></div><div class=\"children hor wrap rtl\"><div class=\"contnr c0 trm rtl  \" ><div class=\"lbl c0 trm \" ><span class=\"nd\">186233 </span> <span class=\"txtu hbo\">בַּ</span></div><div class=\"features\"><span class=\"lex xft\" ><span class=\"f\">lex=</span>B</span></div></div><div class=\"contnr c0 trm rtl  \" ><div class=\"lbl c0 trm \" ><span class=\"nd\">186234 </span></div><div class=\"features\"><span class=\"lex xft\" ><span class=\"f\">lex=</span>H</span></div></div><div class=\"contnr c0 trm rtl  \" ><div class=\"lbl c0 trm \" ><span class=\"nd\">186235 </span> <span class=\"txtu hbo\">יֹּ֥ום </span></div><div class=\"features\"><span class=\"lex xft\" ><span class=\"f\">lex=</span>JWM/</span></div></div><div class=\"contnr c0 trm rtl  \" ><div class=\"lbl c0 trm \" ><span class=\"nd\">186236 </span> <span class=\"txtu hbo\">הַ</span></div><div class=\"features\"><span class=\"lex xft\" ><span class=\"f\">lex=</span>H</span></div></div><div class=\"contnr c0 trm rtl  \" ><div class=\"lbl c0 trm \" ><span class=\"nd\">186237 </span> <span class=\"txtu hbo\">שְּׁלִישִֽׁי׃ </span></div><div class=\"features\"><span class=\"lex xft\" ><span class=\"f\">lex=</span>CLJCJ/</span></div></div></div></div></div></div></div>"
      ],
      "text/plain": [
       "<IPython.core.display.HTML object>"
      ]
     },
     "metadata": {},
     "output_type": "display_data"
    },
    {
     "data": {
      "text/html": [
       "<p><b>result</b> <i>52</i>"
      ],
      "text/plain": [
       "<IPython.core.display.HTML object>"
      ]
     },
     "metadata": {},
     "output_type": "display_data"
    },
    {
     "data": {
      "text/html": [
       "<div class=\"tfsechead rtl\"><span class=\"ltr\"><a target=\"_blank\" href=\"https://shebanq.ancient-data.org/hebrew/text?book=Reges_II&amp;chapter=4&amp;verse=23&amp;version=2021&amp;mr=m&amp;qw=q&amp;tp=txt_p&amp;tr=hb&amp;wget=v&amp;qget=v&amp;nget=vt\" title=\"Show this on SHEBANQ\" sec=\"2_Kings 4:23\">2_Kings 4:23</a></span></div><div class=\"rtl children\"><div class=\"contnr c2  rtl  \" ><div class=\"lbl c2  \" ><span class=\"nd\">clause:340675 </span> <span class=\"\"><span title=\"typ\">Ptcp</span> <span title=\"rela\">NA</span></span></div><div class=\"children hor wrap rtl\"><div class=\"contnr c1  rtl  \" ><div class=\"lbl c1  \" ><span class=\"nd\">phrase:499367 </span> <span class=\"\"><span title=\"typ\">InrP</span> <span title=\"function\">Ques</span></span></div><div class=\"features\"><span class=\"function xft\" ><span class=\"f\">function=</span>Ques</span></div><div class=\"children hor wrap rtl\"><div class=\"contnr c0 trm rtl  \" ><div class=\"lbl c0 trm \" ><span class=\"nd\">196931 </span> <span class=\"txtu hbo\">מַ֠דּוּעַ </span></div><div class=\"features\"><span class=\"lex xft\" ><span class=\"f\">lex=</span>MDW&lt;</span></div></div></div></div><div class=\"contnr c1  rtl  \" ><div class=\"lbl c1  \" ><span class=\"nd\">phrase:499368 </span> <span class=\"\"><span title=\"typ\">PPrP</span> <span title=\"function\">Subj</span></span></div><div class=\"features\"><span class=\"function xft\" ><span class=\"f\">function=</span>Subj</span></div><div class=\"children hor wrap rtl\"><div class=\"contnr c0 trm rtl  \" ><div class=\"lbl c0 trm \" ><span class=\"nd\">196932 </span> <span class=\"txtu hbo\">אַ֣תְּ </span></div><div class=\"features\"><span class=\"lex xft\" ><span class=\"f\">lex=</span>>T=</span></div></div></div></div><div class=\"contnr c1  rtl  \" ><div class=\"lbl c1  \" ><span class=\"nd\">phrase:499369 </span> <span class=\"\"><span title=\"typ\">VP</span> <span title=\"function\">PreC</span></span></div><div class=\"features\"><span class=\"function xft\" ><span class=\"f\">function=</span>PreC</span></div><div class=\"children hor wrap rtl\"><div class=\"contnr c0 trm rtl  hl\" ><div class=\"lbl c0 trm hl\" ><span class=\"nd\">196933 </span> <span class=\"txtu hbo\">הֹלֶ֤כֶת </span></div><div class=\"features\"><span class=\"lex xft\" ><span class=\"f\">lex=</span>HLK[</span></div></div></div></div><div class=\"contnr c1  rtl  hl\" ><div class=\"lbl c1  hl\" ><span class=\"nd\">phrase:499370 </span> <span class=\"\"><span title=\"typ\">PP</span> <span title=\"function\">Cmpl</span></span></div><div class=\"features\"><span class=\"function xft\" ><span class=\"f\">function=</span>Cmpl</span></div><div class=\"children hor wrap rtl\"><div class=\"contnr c0 trm rtl  hl\" ><div class=\"lbl c0 trm hl\" ><span class=\"nd\">196934 </span> <span class=\"txtu hbo\">אֵלָיו֙ </span></div><div class=\"features\"><span class=\"lex xft\" ><span class=\"f\">lex=</span>>L</span></div></div></div></div><div class=\"contnr c1  rtl  hl\" ><div class=\"lbl c1  hl\" ><span class=\"nd\">phrase:499371 </span> <span class=\"\"><span title=\"typ\">NP</span> <span title=\"function\">Time</span></span></div><div class=\"features\"><span class=\"function xft\" ><span class=\"f\">function=</span>Time</span></div><div class=\"children hor wrap rtl\"><div class=\"contnr c0 trm rtl  \" ><div class=\"lbl c0 trm \" ><span class=\"nd\">196935 </span> <span class=\"txtu hbo\">הַ</span></div><div class=\"features\"><span class=\"lex xft\" ><span class=\"f\">lex=</span>H</span></div></div><div class=\"contnr c0 trm rtl  \" ><div class=\"lbl c0 trm \" ><span class=\"nd\">196936 </span> <span class=\"txtu hbo\">יֹּ֔ום </span></div><div class=\"features\"><span class=\"lex xft\" ><span class=\"f\">lex=</span>JWM/</span></div></div></div></div></div></div></div>"
      ],
      "text/plain": [
       "<IPython.core.display.HTML object>"
      ]
     },
     "metadata": {},
     "output_type": "display_data"
    },
    {
     "data": {
      "text/html": [
       "<p><b>result</b> <i>53</i>"
      ],
      "text/plain": [
       "<IPython.core.display.HTML object>"
      ]
     },
     "metadata": {},
     "output_type": "display_data"
    },
    {
     "data": {
      "text/html": [
       "<div class=\"tfsechead rtl\"><span class=\"ltr\"><a target=\"_blank\" href=\"https://shebanq.ancient-data.org/hebrew/text?book=Reges_II&amp;chapter=5&amp;verse=22&amp;version=2021&amp;mr=m&amp;qw=q&amp;tp=txt_p&amp;tr=hb&amp;wget=v&amp;qget=v&amp;nget=vt\" title=\"Show this on SHEBANQ\" sec=\"2_Kings 5:22\">2_Kings 5:22</a></span></div><div class=\"rtl children\"><div class=\"contnr c2  rtl  \" ><div class=\"lbl c2  \" ><span class=\"nd\">clause:340949 </span> <span class=\"\"><span title=\"typ\">xQtX</span> <span title=\"rela\">NA</span></span></div><div class=\"children hor wrap rtl\"><div class=\"contnr c1  rtl  \" ><div class=\"lbl c1  \" ><span class=\"nd\">phrase:500124 </span> <span class=\"\"><span title=\"typ\">InjP</span> <span title=\"function\">Intj</span></span></div><div class=\"features\"><span class=\"function xft\" ><span class=\"f\">function=</span>Intj</span></div><div class=\"children hor wrap rtl\"><div class=\"contnr c0 trm rtl  \" ><div class=\"lbl c0 trm \" ><span class=\"nd\">198011 </span> <span class=\"txtu hbo\">הִנֵּ֣ה </span></div><div class=\"features\"><span class=\"lex xft\" ><span class=\"f\">lex=</span>HNH</span></div></div></div></div><div class=\"contnr c1  rtl  hl\" ><div class=\"lbl c1  hl\" ><span class=\"nd\">phrase:500125 </span> <span class=\"\"><span title=\"typ\">AdvP</span> <span title=\"function\">Time</span></span></div><div class=\"features\"><span class=\"function xft\" ><span class=\"f\">function=</span>Time</span></div><div class=\"children hor wrap rtl\"><div class=\"contnr c0 trm rtl  \" ><div class=\"lbl c0 trm \" ><span class=\"nd\">198012 </span> <span class=\"txtu hbo\">עַתָּ֡ה </span></div><div class=\"features\"><span class=\"lex xft\" ><span class=\"f\">lex=</span>&lt;TH</span></div></div><div class=\"contnr c0 trm rtl  \" ><div class=\"lbl c0 trm \" ><span class=\"nd\">198013 </span> <span class=\"txtu hbo\">זֶ֠ה </span></div><div class=\"features\"><span class=\"lex xft\" ><span class=\"f\">lex=</span>ZH</span></div></div></div></div><div class=\"contnr c1  rtl  \" ><div class=\"lbl c1  \" ><span class=\"nd\">phrase:500126 </span> <span class=\"\"><span title=\"typ\">VP</span> <span title=\"function\">Pred</span></span></div><div class=\"features\"><span class=\"function xft\" ><span class=\"f\">function=</span>Pred</span></div><div class=\"children hor wrap rtl\"><div class=\"contnr c0 trm rtl  hl\" ><div class=\"lbl c0 trm hl\" ><span class=\"nd\">198014 </span> <span class=\"txtu hbo\">בָּ֣אוּ </span></div><div class=\"features\"><span class=\"lex xft\" ><span class=\"f\">lex=</span>BW>[</span></div></div></div></div><div class=\"contnr c1  rtl  hl\" ><div class=\"lbl c1  hl\" ><span class=\"nd\">phrase:500127 </span> <span class=\"\"><span title=\"typ\">PP</span> <span title=\"function\">Cmpl</span></span></div><div class=\"features\"><span class=\"function xft\" ><span class=\"f\">function=</span>Cmpl</span></div><div class=\"children hor wrap rtl\"><div class=\"contnr c0 trm rtl  hl\" ><div class=\"lbl c0 trm hl\" ><span class=\"nd\">198015 </span> <span class=\"txtu hbo\">אֵלַ֧י </span></div><div class=\"features\"><span class=\"lex xft\" ><span class=\"f\">lex=</span>>L</span></div></div></div></div><div class=\"contnr c1  rtl l \" ><div class=\"lbl c1  \" ><span class=\"nd\">phrase:500128 </span> <span class=\"\"><span title=\"typ\">NP</span> <span title=\"function\">Subj</span></span></div><div class=\"features\"><span class=\"function xft\" ><span class=\"f\">function=</span>Subj</span></div><div class=\"children hor wrap rtl\"><div class=\"contnr c0 trm rtl  \" ><div class=\"lbl c0 trm \" ><span class=\"nd\">198016 </span> <span class=\"txtu hbo\">שְׁנֵֽי־</span></div><div class=\"features\"><span class=\"lex xft\" ><span class=\"f\">lex=</span>CNJM/</span></div></div><div class=\"contnr c0 trm rtl  \" ><div class=\"lbl c0 trm \" ><span class=\"nd\">198017 </span> <span class=\"txtu hbo\">נְעָרִ֛ים </span></div><div class=\"features\"><span class=\"lex xft\" ><span class=\"f\">lex=</span>N&lt;R/</span></div></div></div></div><div class=\"contnr c1  rtl  \" ><div class=\"lbl c1  \" ><span class=\"nd\">phrase:500129 </span> <span class=\"\"><span title=\"typ\">PP</span> <span title=\"function\">Cmpl</span></span></div><div class=\"features\"><span class=\"function xft\" ><span class=\"f\">function=</span>Cmpl</span></div><div class=\"children hor wrap rtl\"><div class=\"contnr c0 trm rtl  \" ><div class=\"lbl c0 trm \" ><span class=\"nd\">198018 </span> <span class=\"txtu hbo\">מֵ</span></div><div class=\"features\"><span class=\"lex xft\" ><span class=\"f\">lex=</span>MN</span></div></div><div class=\"contnr c0 trm rtl  \" ><div class=\"lbl c0 trm \" ><span class=\"nd\">198019 </span> <span class=\"txtu hbo\">הַ֥ר </span></div><div class=\"features\"><span class=\"lex xft\" ><span class=\"f\">lex=</span>HR/</span></div></div><div class=\"contnr c0 trm rtl  \" ><div class=\"lbl c0 trm \" ><span class=\"nd\">198020 </span> <span class=\"txtu hbo\">אֶפְרַ֖יִם </span></div><div class=\"features\"><span class=\"lex xft\" ><span class=\"f\">lex=</span>>PRJM/</span></div></div></div></div><div class=\"contnr c1  rtl r \" ><div class=\"lbl c1  \" ><span class=\"nd\">phrase:500128 </span> <span class=\"\"><span title=\"typ\">NP</span> <span title=\"function\">Subj</span></span></div><div class=\"features\"><span class=\"function xft\" ><span class=\"f\">function=</span>Subj</span></div><div class=\"children hor wrap rtl\"><div class=\"contnr c0 trm rtl  \" ><div class=\"lbl c0 trm \" ><span class=\"nd\">198021 </span> <span class=\"txtu hbo\">מִ</span></div><div class=\"features\"><span class=\"lex xft\" ><span class=\"f\">lex=</span>MN</span></div></div><div class=\"contnr c0 trm rtl  \" ><div class=\"lbl c0 trm \" ><span class=\"nd\">198022 </span> <span class=\"txtu hbo\">בְּנֵ֣י </span></div><div class=\"features\"><span class=\"lex xft\" ><span class=\"f\">lex=</span>BN/</span></div></div><div class=\"contnr c0 trm rtl  \" ><div class=\"lbl c0 trm \" ><span class=\"nd\">198023 </span> <span class=\"txtu hbo\">הַ</span></div><div class=\"features\"><span class=\"lex xft\" ><span class=\"f\">lex=</span>H</span></div></div><div class=\"contnr c0 trm rtl  \" ><div class=\"lbl c0 trm \" ><span class=\"nd\">198024 </span> <span class=\"txtu hbo\">נְּבִיאִ֑ים </span></div><div class=\"features\"><span class=\"lex xft\" ><span class=\"f\">lex=</span>NBJ>/</span></div></div></div></div></div></div></div>"
      ],
      "text/plain": [
       "<IPython.core.display.HTML object>"
      ]
     },
     "metadata": {},
     "output_type": "display_data"
    },
    {
     "data": {
      "text/html": [
       "<p><b>result</b> <i>54</i>"
      ],
      "text/plain": [
       "<IPython.core.display.HTML object>"
      ]
     },
     "metadata": {},
     "output_type": "display_data"
    },
    {
     "data": {
      "text/html": [
       "<div class=\"tfsechead rtl\"><span class=\"ltr\"><a target=\"_blank\" href=\"https://shebanq.ancient-data.org/hebrew/text?book=Reges_II&amp;chapter=6&amp;verse=29&amp;version=2021&amp;mr=m&amp;qw=q&amp;tp=txt_p&amp;tr=hb&amp;wget=v&amp;qget=v&amp;nget=vt\" title=\"Show this on SHEBANQ\" sec=\"2_Kings 6:29\">2_Kings 6:29</a></span></div><div class=\"rtl children\"><div class=\"contnr c2  rtl  \" ><div class=\"lbl c2  \" ><span class=\"nd\">clause:341142 </span> <span class=\"\"><span title=\"typ\">Way0</span> <span title=\"rela\">NA</span></span></div><div class=\"children hor wrap rtl\"><div class=\"contnr c1  rtl  \" ><div class=\"lbl c1  \" ><span class=\"nd\">phrase:500646 </span> <span class=\"\"><span title=\"typ\">CP</span> <span title=\"function\">Conj</span></span></div><div class=\"features\"><span class=\"function xft\" ><span class=\"f\">function=</span>Conj</span></div><div class=\"children hor wrap rtl\"><div class=\"contnr c0 trm rtl  \" ><div class=\"lbl c0 trm \" ><span class=\"nd\">198770 </span> <span class=\"txtu hbo\">וָ</span></div><div class=\"features\"><span class=\"lex xft\" ><span class=\"f\">lex=</span>W</span></div></div></div></div><div class=\"contnr c1  rtl  \" ><div class=\"lbl c1  \" ><span class=\"nd\">phrase:500647 </span> <span class=\"\"><span title=\"typ\">VP</span> <span title=\"function\">Pred</span></span></div><div class=\"features\"><span class=\"function xft\" ><span class=\"f\">function=</span>Pred</span></div><div class=\"children hor wrap rtl\"><div class=\"contnr c0 trm rtl  hl\" ><div class=\"lbl c0 trm hl\" ><span class=\"nd\">198771 </span> <span class=\"txtu hbo\">אֹמַ֨ר </span></div><div class=\"features\"><span class=\"lex xft\" ><span class=\"f\">lex=</span>>MR[</span></div></div></div></div><div class=\"contnr c1  rtl  hl\" ><div class=\"lbl c1  hl\" ><span class=\"nd\">phrase:500648 </span> <span class=\"\"><span title=\"typ\">PP</span> <span title=\"function\">Cmpl</span></span></div><div class=\"features\"><span class=\"function xft\" ><span class=\"f\">function=</span>Cmpl</span></div><div class=\"children hor wrap rtl\"><div class=\"contnr c0 trm rtl  hl\" ><div class=\"lbl c0 trm hl\" ><span class=\"nd\">198772 </span> <span class=\"txtu hbo\">אֵלֶ֜יהָ </span></div><div class=\"features\"><span class=\"lex xft\" ><span class=\"f\">lex=</span>>L</span></div></div></div></div><div class=\"contnr c1  rtl  hl\" ><div class=\"lbl c1  hl\" ><span class=\"nd\">phrase:500649 </span> <span class=\"\"><span title=\"typ\">PP</span> <span title=\"function\">Time</span></span></div><div class=\"features\"><span class=\"function xft\" ><span class=\"f\">function=</span>Time</span></div><div class=\"children hor wrap rtl\"><div class=\"contnr c0 trm rtl  \" ><div class=\"lbl c0 trm \" ><span class=\"nd\">198773 </span> <span class=\"txtu hbo\">בַּ</span></div><div class=\"features\"><span class=\"lex xft\" ><span class=\"f\">lex=</span>B</span></div></div><div class=\"contnr c0 trm rtl  \" ><div class=\"lbl c0 trm \" ><span class=\"nd\">198774 </span></div><div class=\"features\"><span class=\"lex xft\" ><span class=\"f\">lex=</span>H</span></div></div><div class=\"contnr c0 trm rtl  \" ><div class=\"lbl c0 trm \" ><span class=\"nd\">198775 </span> <span class=\"txtu hbo\">יֹּ֣ום </span></div><div class=\"features\"><span class=\"lex xft\" ><span class=\"f\">lex=</span>JWM/</span></div></div><div class=\"contnr c0 trm rtl  \" ><div class=\"lbl c0 trm \" ><span class=\"nd\">198776 </span> <span class=\"txtu hbo\">הָ</span></div><div class=\"features\"><span class=\"lex xft\" ><span class=\"f\">lex=</span>H</span></div></div><div class=\"contnr c0 trm rtl  \" ><div class=\"lbl c0 trm \" ><span class=\"nd\">198777 </span> <span class=\"txtu hbo\">אַחֵ֗ר </span></div><div class=\"features\"><span class=\"lex xft\" ><span class=\"f\">lex=</span>>XR=/</span></div></div></div></div></div></div></div>"
      ],
      "text/plain": [
       "<IPython.core.display.HTML object>"
      ]
     },
     "metadata": {},
     "output_type": "display_data"
    },
    {
     "data": {
      "text/html": [
       "<p><b>result</b> <i>55</i>"
      ],
      "text/plain": [
       "<IPython.core.display.HTML object>"
      ]
     },
     "metadata": {},
     "output_type": "display_data"
    },
    {
     "data": {
      "text/html": [
       "<div class=\"tfsechead rtl\"><span class=\"ltr\"><a target=\"_blank\" href=\"https://shebanq.ancient-data.org/hebrew/text?book=Reges_II&amp;chapter=8&amp;verse=1&amp;version=2021&amp;mr=m&amp;qw=q&amp;tp=txt_p&amp;tr=hb&amp;wget=v&amp;qget=v&amp;nget=vt\" title=\"Show this on SHEBANQ\" sec=\"2_Kings 8:1\">2_Kings 8:1</a></span></div><div class=\"rtl children\"><div class=\"contnr c2  rtl  \" ><div class=\"lbl c2  \" ><span class=\"nd\">clause:341325 </span> <span class=\"\"><span title=\"typ\">WxQ0</span> <span title=\"rela\">NA</span></span></div><div class=\"children hor wrap rtl\"><div class=\"contnr c1  rtl  \" ><div class=\"lbl c1  \" ><span class=\"nd\">phrase:501160 </span> <span class=\"\"><span title=\"typ\">CP</span> <span title=\"function\">Conj</span></span></div><div class=\"features\"><span class=\"function xft\" ><span class=\"f\">function=</span>Conj</span></div><div class=\"children hor wrap rtl\"><div class=\"contnr c0 trm rtl  \" ><div class=\"lbl c0 trm \" ><span class=\"nd\">199554 </span> <span class=\"txtu hbo\">וְ</span></div><div class=\"features\"><span class=\"lex xft\" ><span class=\"f\">lex=</span>W</span></div></div></div></div><div class=\"contnr c1  rtl  \" ><div class=\"lbl c1  \" ><span class=\"nd\">phrase:501161 </span> <span class=\"\"><span title=\"typ\">AdvP</span> <span title=\"function\">Modi</span></span></div><div class=\"features\"><span class=\"function xft\" ><span class=\"f\">function=</span>Modi</span></div><div class=\"children hor wrap rtl\"><div class=\"contnr c0 trm rtl  \" ><div class=\"lbl c0 trm \" ><span class=\"nd\">199555 </span> <span class=\"txtu hbo\">גַם־</span></div><div class=\"features\"><span class=\"lex xft\" ><span class=\"f\">lex=</span>GM</span></div></div></div></div><div class=\"contnr c1  rtl  \" ><div class=\"lbl c1  \" ><span class=\"nd\">phrase:501162 </span> <span class=\"\"><span title=\"typ\">VP</span> <span title=\"function\">Pred</span></span></div><div class=\"features\"><span class=\"function xft\" ><span class=\"f\">function=</span>Pred</span></div><div class=\"children hor wrap rtl\"><div class=\"contnr c0 trm rtl  hl\" ><div class=\"lbl c0 trm hl\" ><span class=\"nd\">199556 </span> <span class=\"txtu hbo\">בָּ֥א </span></div><div class=\"features\"><span class=\"lex xft\" ><span class=\"f\">lex=</span>BW>[</span></div></div></div></div><div class=\"contnr c1  rtl  hl\" ><div class=\"lbl c1  hl\" ><span class=\"nd\">phrase:501163 </span> <span class=\"\"><span title=\"typ\">PP</span> <span title=\"function\">Cmpl</span></span></div><div class=\"features\"><span class=\"function xft\" ><span class=\"f\">function=</span>Cmpl</span></div><div class=\"children hor wrap rtl\"><div class=\"contnr c0 trm rtl  hl\" ><div class=\"lbl c0 trm hl\" ><span class=\"nd\">199557 </span> <span class=\"txtu hbo\">אֶל־</span></div><div class=\"features\"><span class=\"lex xft\" ><span class=\"f\">lex=</span>>L</span></div></div><div class=\"contnr c0 trm rtl  \" ><div class=\"lbl c0 trm \" ><span class=\"nd\">199558 </span> <span class=\"txtu hbo\">הָ</span></div><div class=\"features\"><span class=\"lex xft\" ><span class=\"f\">lex=</span>H</span></div></div><div class=\"contnr c0 trm rtl  \" ><div class=\"lbl c0 trm \" ><span class=\"nd\">199559 </span> <span class=\"txtu hbo\">אָ֖רֶץ </span></div><div class=\"features\"><span class=\"lex xft\" ><span class=\"f\">lex=</span>>RY/</span></div></div></div></div><div class=\"contnr c1  rtl  hl\" ><div class=\"lbl c1  hl\" ><span class=\"nd\">phrase:501164 </span> <span class=\"\"><span title=\"typ\">NP</span> <span title=\"function\">Time</span></span></div><div class=\"features\"><span class=\"function xft\" ><span class=\"f\">function=</span>Time</span></div><div class=\"children hor wrap rtl\"><div class=\"contnr c0 trm rtl  \" ><div class=\"lbl c0 trm \" ><span class=\"nd\">199560 </span> <span class=\"txtu hbo\">שֶׁ֥בַע </span></div><div class=\"features\"><span class=\"lex xft\" ><span class=\"f\">lex=</span>CB&lt;/</span></div></div><div class=\"contnr c0 trm rtl  \" ><div class=\"lbl c0 trm \" ><span class=\"nd\">199561 </span> <span class=\"txtu hbo\">שָׁנִֽים׃ </span></div><div class=\"features\"><span class=\"lex xft\" ><span class=\"f\">lex=</span>CNH/</span></div></div></div></div></div></div></div>"
      ],
      "text/plain": [
       "<IPython.core.display.HTML object>"
      ]
     },
     "metadata": {},
     "output_type": "display_data"
    },
    {
     "data": {
      "text/html": [
       "<p><b>result</b> <i>56</i>"
      ],
      "text/plain": [
       "<IPython.core.display.HTML object>"
      ]
     },
     "metadata": {},
     "output_type": "display_data"
    },
    {
     "data": {
      "text/html": [
       "<div class=\"tfsechead rtl\"><span class=\"ltr\"><a target=\"_blank\" href=\"https://shebanq.ancient-data.org/hebrew/text?book=Reges_II&amp;chapter=10&amp;verse=6&amp;version=2021&amp;mr=m&amp;qw=q&amp;tp=txt_p&amp;tr=hb&amp;wget=v&amp;qget=v&amp;nget=vt\" title=\"Show this on SHEBANQ\" sec=\"2_Kings 10:6\">2_Kings 10:6</a></span></div><div class=\"rtl children\"><div class=\"contnr c2  rtl  \" ><div class=\"lbl c2  \" ><span class=\"nd\">clause:341705 </span> <span class=\"\"><span title=\"typ\">WIm0</span> <span title=\"rela\">NA</span></span></div><div class=\"children hor wrap rtl\"><div class=\"contnr c1  rtl  \" ><div class=\"lbl c1  \" ><span class=\"nd\">phrase:502212 </span> <span class=\"\"><span title=\"typ\">CP</span> <span title=\"function\">Conj</span></span></div><div class=\"features\"><span class=\"function xft\" ><span class=\"f\">function=</span>Conj</span></div><div class=\"children hor wrap rtl\"><div class=\"contnr c0 trm rtl  \" ><div class=\"lbl c0 trm \" ><span class=\"nd\">201267 </span> <span class=\"txtu hbo\">וּ</span></div><div class=\"features\"><span class=\"lex xft\" ><span class=\"f\">lex=</span>W</span></div></div></div></div><div class=\"contnr c1  rtl  \" ><div class=\"lbl c1  \" ><span class=\"nd\">phrase:502213 </span> <span class=\"\"><span title=\"typ\">VP</span> <span title=\"function\">Pred</span></span></div><div class=\"features\"><span class=\"function xft\" ><span class=\"f\">function=</span>Pred</span></div><div class=\"children hor wrap rtl\"><div class=\"contnr c0 trm rtl  hl\" ><div class=\"lbl c0 trm hl\" ><span class=\"nd\">201268 </span> <span class=\"txtu hbo\">בֹ֧אוּ </span></div><div class=\"features\"><span class=\"lex xft\" ><span class=\"f\">lex=</span>BW>[</span></div></div></div></div><div class=\"contnr c1  rtl  hl\" ><div class=\"lbl c1  hl\" ><span class=\"nd\">phrase:502214 </span> <span class=\"\"><span title=\"typ\">PP</span> <span title=\"function\">Cmpl</span></span></div><div class=\"features\"><span class=\"function xft\" ><span class=\"f\">function=</span>Cmpl</span></div><div class=\"children hor wrap rtl\"><div class=\"contnr c0 trm rtl  hl\" ><div class=\"lbl c0 trm hl\" ><span class=\"nd\">201269 </span> <span class=\"txtu hbo\">אֵלַ֛י </span></div><div class=\"features\"><span class=\"lex xft\" ><span class=\"f\">lex=</span>>L</span></div></div></div></div><div class=\"contnr c1  rtl  hl\" ><div class=\"lbl c1  hl\" ><span class=\"nd\">phrase:502215 </span> <span class=\"\"><span title=\"typ\">PP</span> <span title=\"function\">Time</span></span></div><div class=\"features\"><span class=\"function xft\" ><span class=\"f\">function=</span>Time</span></div><div class=\"children hor wrap rtl\"><div class=\"contnr c0 trm rtl  \" ><div class=\"lbl c0 trm \" ><span class=\"nd\">201270 </span> <span class=\"txtu hbo\">כָּ</span></div><div class=\"features\"><span class=\"lex xft\" ><span class=\"f\">lex=</span>K</span></div></div><div class=\"contnr c0 trm rtl  \" ><div class=\"lbl c0 trm \" ><span class=\"nd\">201271 </span></div><div class=\"features\"><span class=\"lex xft\" ><span class=\"f\">lex=</span>H</span></div></div><div class=\"contnr c0 trm rtl  \" ><div class=\"lbl c0 trm \" ><span class=\"nd\">201272 </span> <span class=\"txtu hbo\">עֵ֥ת </span></div><div class=\"features\"><span class=\"lex xft\" ><span class=\"f\">lex=</span>&lt;T/</span></div></div><div class=\"contnr c0 trm rtl  \" ><div class=\"lbl c0 trm \" ><span class=\"nd\">201273 </span> <span class=\"txtu hbo\">מָחָ֖ר </span></div><div class=\"features\"><span class=\"lex xft\" ><span class=\"f\">lex=</span>MXR/</span></div></div></div></div><div class=\"contnr c1  rtl  \" ><div class=\"lbl c1  \" ><span class=\"nd\">phrase:502216 </span> <span class=\"\"><span title=\"typ\">AdvP</span> <span title=\"function\">Cmpl</span></span></div><div class=\"features\"><span class=\"function xft\" ><span class=\"f\">function=</span>Cmpl</span></div><div class=\"children hor wrap rtl\"><div class=\"contnr c0 trm rtl  \" ><div class=\"lbl c0 trm \" ><span class=\"nd\">201274 </span> <span class=\"txtu hbo\">יִזְרְעֶ֑אלָה </span></div><div class=\"features\"><span class=\"lex xft\" ><span class=\"f\">lex=</span>JZR&lt;>L/</span></div></div></div></div></div></div></div>"
      ],
      "text/plain": [
       "<IPython.core.display.HTML object>"
      ]
     },
     "metadata": {},
     "output_type": "display_data"
    }
   ],
   "source": [
    "app.show(search)"
   ]
  },
  {
   "cell_type": "code",
   "execution_count": 424,
   "id": "44ab1a76-df9e-4b23-95d1-723cb809c705",
   "metadata": {},
   "outputs": [],
   "source": [
    "from pathlib import Path"
   ]
  },
  {
   "cell_type": "code",
   "execution_count": 427,
   "id": "09d33563-eddc-414d-99f3-a1eb60b58d68",
   "metadata": {},
   "outputs": [
    {
     "data": {
      "text/plain": [
       "[PosixPath('../../data/corpus/g_vbe_utf8.tf'),\n",
       " PosixPath('../../data/corpus/function.tf'),\n",
       " PosixPath('../../data/corpus/uvf.tf'),\n",
       " PosixPath('../../data/corpus/g_vbs.tf'),\n",
       " PosixPath('../../data/corpus/vbe.tf'),\n",
       " PosixPath('../../data/corpus/prs_gn.tf'),\n",
       " PosixPath('../../data/corpus/genre.tf'),\n",
       " PosixPath('../../data/corpus/instruction.tf'),\n",
       " PosixPath('../../data/corpus/tab.tf'),\n",
       " PosixPath('../../data/corpus/qere_trailer_utf8.tf'),\n",
       " PosixPath('../../data/corpus/prs.tf'),\n",
       " PosixPath('../../data/corpus/prs_nu.tf'),\n",
       " PosixPath('../../data/corpus/root.tf'),\n",
       " PosixPath('../../data/corpus/prs_ps.tf'),\n",
       " PosixPath('../../data/corpus/pargr.tf'),\n",
       " PosixPath('../../data/corpus/qere.tf'),\n",
       " PosixPath('../../data/corpus/book.tf'),\n",
       " PosixPath('../../data/corpus/vbs.tf'),\n",
       " PosixPath('../../data/corpus/g_vbe.tf'),\n",
       " PosixPath('../../data/corpus/g_uvf.tf'),\n",
       " PosixPath('../../data/corpus/g_vbs_utf8.tf'),\n",
       " PosixPath('../../data/corpus/kq_hybrid.tf'),\n",
       " PosixPath('../../data/corpus/verse.tf'),\n",
       " PosixPath('../../data/corpus/language.tf'),\n",
       " PosixPath('../../data/corpus/ps.tf'),\n",
       " PosixPath('../../data/corpus/label.tf'),\n",
       " PosixPath('../../data/corpus/nu.tf'),\n",
       " PosixPath('../../data/corpus/g_word_utf8.tf'),\n",
       " PosixPath('../../data/corpus/lex0.tf'),\n",
       " PosixPath('../../data/corpus/trailer_utf8.tf'),\n",
       " PosixPath('../../data/corpus/lexeme_count.tf'),\n",
       " PosixPath('../../data/corpus/gn.tf'),\n",
       " PosixPath('../../data/corpus/qere_utf8.tf'),\n",
       " PosixPath('../../data/corpus/g_prs.tf'),\n",
       " PosixPath('../../data/corpus/otype.tf'),\n",
       " PosixPath('../../data/corpus/vs.tf'),\n",
       " PosixPath('../../data/corpus/ls.tf'),\n",
       " PosixPath('../../data/corpus/g_prs_utf8.tf'),\n",
       " PosixPath('../../data/corpus/book@en.tf'),\n",
       " PosixPath('../../data/corpus/rank_occ.tf'),\n",
       " PosixPath('../../data/corpus/is_root.tf'),\n",
       " PosixPath('../../data/corpus/typ.tf'),\n",
       " PosixPath('../../data/corpus/vt.tf'),\n",
       " PosixPath('../../data/corpus/g_nme.tf'),\n",
       " PosixPath('../../data/corpus/txt.tf'),\n",
       " PosixPath('../../data/corpus/code.tf'),\n",
       " PosixPath('../../data/corpus/mother.tf'),\n",
       " PosixPath('../../data/corpus/.tf'),\n",
       " PosixPath('../../data/corpus/otext.tf'),\n",
       " PosixPath('../../data/corpus/oslots.tf'),\n",
       " PosixPath('../../data/corpus/number.tf'),\n",
       " PosixPath('../../data/corpus/suffix_person.tf'),\n",
       " PosixPath('../../data/corpus/voc_lex.tf'),\n",
       " PosixPath('../../data/corpus/g_pfm.tf'),\n",
       " PosixPath('../../data/corpus/sp.tf'),\n",
       " PosixPath('../../data/corpus/g_cons.tf'),\n",
       " PosixPath('../../data/corpus/g_word.tf'),\n",
       " PosixPath('../../data/corpus/rank_lex.tf'),\n",
       " PosixPath('../../data/corpus/voc_lex_utf8.tf'),\n",
       " PosixPath('../../data/corpus/g_uvf_utf8.tf'),\n",
       " PosixPath('../../data/corpus/suffix_gender.tf'),\n",
       " PosixPath('../../data/corpus/omap@2021-KT.tf'),\n",
       " PosixPath('../../data/corpus/g_lex.tf'),\n",
       " PosixPath('../../data/corpus/st.tf'),\n",
       " PosixPath('../../data/corpus/pdp.tf'),\n",
       " PosixPath('../../data/corpus/freq_occ.tf'),\n",
       " PosixPath('../../data/corpus/domain.tf'),\n",
       " PosixPath('../../data/corpus/nametype.tf'),\n",
       " PosixPath('../../data/corpus/nme.tf'),\n",
       " PosixPath('../../data/corpus/g_lex_utf8.tf'),\n",
       " PosixPath('../../data/corpus/rela.tf'),\n",
       " PosixPath('../../data/corpus/suffix_number.tf'),\n",
       " PosixPath('../../data/corpus/qere_trailer.tf'),\n",
       " PosixPath('../../data/corpus/g_pfm_utf8.tf'),\n",
       " PosixPath('../../data/corpus/g_nme_utf8.tf'),\n",
       " PosixPath('../../data/corpus/chapter.tf'),\n",
       " PosixPath('../../data/corpus/kind.tf'),\n",
       " PosixPath('../../data/corpus/lex.tf'),\n",
       " PosixPath('../../data/corpus/lex_utf8.tf'),\n",
       " PosixPath('../../data/corpus/gloss.tf'),\n",
       " PosixPath('../../data/corpus/g_cons_utf8.tf'),\n",
       " PosixPath('../../data/corpus/det.tf'),\n",
       " PosixPath('../../data/corpus/pfm.tf'),\n",
       " PosixPath('../../data/corpus/kq_hybrid_utf8.tf'),\n",
       " PosixPath('../../data/corpus/prep_type.tf'),\n",
       " PosixPath('../../data/corpus/freq_lex.tf'),\n",
       " PosixPath('../../data/corpus/trailer.tf')]"
      ]
     },
     "execution_count": 427,
     "metadata": {},
     "output_type": "execute_result"
    }
   ],
   "source": [
    "list(Path('../../data/corpus/').glob('*.tf'))"
   ]
  },
  {
   "cell_type": "code",
   "execution_count": null,
   "id": "c6e28100-8e1a-4f36-842e-6b5f11945906",
   "metadata": {},
   "outputs": [],
   "source": []
  }
 ],
 "metadata": {
  "kernelspec": {
   "display_name": "thesis",
   "language": "python",
   "name": "thesis"
  },
  "language_info": {
   "codemirror_mode": {
    "name": "ipython",
    "version": 3
   },
   "file_extension": ".py",
   "mimetype": "text/x-python",
   "name": "python",
   "nbconvert_exporter": "python",
   "pygments_lexer": "ipython3",
   "version": "3.10.0"
  }
 },
 "nbformat": 4,
 "nbformat_minor": 5
}
