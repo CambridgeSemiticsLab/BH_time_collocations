{
 "cells": [
  {
   "cell_type": "markdown",
   "metadata": {},
   "source": [
    "# Time Adverbial Eval (n=0)"
   ]
  },
  {
   "cell_type": "code",
   "execution_count": null,
   "metadata": {},
   "outputs": [],
   "source": [
    "from eval_tools import load_style, Tracker\n",
    "load_style()\n",
    "tracker = Tracker(\n",
    "  \"/Users/cody/github/CambridgeSemiticsLab/time_collocations/results/parsing/time_parsings.json\",\n",
    "  \"/Users/cody/github/CambridgeSemiticsLab/time_collocations/results/parsing/time_corrections.json\",\n",
    ")\n",
    "save = tracker.save"
   ]
  }
 ],
 "metadata": {},
 "nbformat": 4,
 "nbformat_minor": 4
}
