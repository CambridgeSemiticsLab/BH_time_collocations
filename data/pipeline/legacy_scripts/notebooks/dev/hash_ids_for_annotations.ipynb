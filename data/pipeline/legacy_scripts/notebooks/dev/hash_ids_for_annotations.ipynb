{
 "cells": [
  {
   "cell_type": "code",
   "execution_count": 38,
   "id": "6310d17d-6f4c-4290-a64d-950c98a66858",
   "metadata": {},
   "outputs": [],
   "source": [
    "import hashlib\n",
    "\n",
    "h = hashlib.shake_256('Hello World'.encode())\n"
   ]
  },
  {
   "cell_type": "code",
   "execution_count": 41,
   "id": "5123817a-16ac-47a4-8849-7eb1d21f8011",
   "metadata": {},
   "outputs": [
    {
     "data": {
      "text/plain": [
       "'840d1ce81a'"
      ]
     },
     "execution_count": 41,
     "metadata": {},
     "output_type": "execute_result"
    }
   ],
   "source": [
    "h.hexdigest(5)"
   ]
  },
  {
   "cell_type": "code",
   "execution_count": 35,
   "id": "b1f6540f-a8cb-4ad4-85f4-c7a9045f7fcb",
   "metadata": {},
   "outputs": [],
   "source": [
    "import hashlib\n",
    "h = hashlib.sha1(\"my message\".encode(\"UTF-8\")).hexdigest()"
   ]
  },
  {
   "cell_type": "code",
   "execution_count": 36,
   "id": "b7187454-60b2-417f-b26f-16a5499e1f58",
   "metadata": {},
   "outputs": [
    {
     "data": {
      "text/plain": [
       "'104ab42f1193c336aa2cf08a2c946d5c6fd0fcdb'"
      ]
     },
     "execution_count": 36,
     "metadata": {},
     "output_type": "execute_result"
    }
   ],
   "source": [
    "h"
   ]
  },
  {
   "cell_type": "code",
   "execution_count": 42,
   "id": "889f20a9-23f8-4365-888c-be88e44deb0d",
   "metadata": {},
   "outputs": [],
   "source": [
    "import collections"
   ]
  },
  {
   "cell_type": "code",
   "execution_count": 73,
   "id": "aa5725f2-2482-4b87-9909-39b0df3cca8f",
   "metadata": {},
   "outputs": [],
   "source": [
    "def get_hash(string):\n",
    "    return hashlib.sha1(string.encode()).hexdigest()\n",
    "\n",
    "uniques = collections.Counter()\n",
    "message = \"test message {unique}\"\n",
    "\n",
    "TRUNCATE = 8\n",
    "\n",
    "hash_to_data = {}\n",
    "\n",
    "for i in range(100000):\n",
    "    unique_message = message.format(unique=i)\n",
    "    message_hash = get_hash(unique_message)\n",
    "    \n",
    "    # get unique truncated hash to prevent collisions\n",
    "    trunc_len = TRUNCATE\n",
    "    truncated_hash = message_hash[:TRUNCATE]\n",
    "    while truncated_hash in hash_to_data:\n",
    "        trunc_len += 1\n",
    "        truncated_hash = message_hash[:trunc_len]\n",
    "    \n",
    "    hash_to_data[truncated_hash] = {'message': unique_message, 'test': i}\n",
    "    uniques[truncated_hash] += 1"
   ]
  },
  {
   "cell_type": "code",
   "execution_count": 75,
   "id": "ba19692e-49f6-4c96-95e0-6514bb430912",
   "metadata": {},
   "outputs": [
    {
     "data": {
      "text/plain": [
       "['79474f8f1', '482c3de17']"
      ]
     },
     "execution_count": 75,
     "metadata": {},
     "output_type": "execute_result"
    }
   ],
   "source": [
    "# show longer hashes that resulted from collisions\n",
    "\n",
    "[h for h in hash_to_data if len(h) > TRUNCATE]"
   ]
  },
  {
   "cell_type": "code",
   "execution_count": null,
   "id": "24d9a963-bc8c-4af7-8566-39c67ff3c44c",
   "metadata": {},
   "outputs": [],
   "source": []
  }
 ],
 "metadata": {
  "kernelspec": {
   "display_name": "thesis",
   "language": "python",
   "name": "thesis"
  },
  "language_info": {
   "codemirror_mode": {
    "name": "ipython",
    "version": 3
   },
   "file_extension": ".py",
   "mimetype": "text/x-python",
   "name": "python",
   "nbconvert_exporter": "python",
   "pygments_lexer": "ipython3",
   "version": "3.10.0"
  }
 },
 "nbformat": 4,
 "nbformat_minor": 5
}
