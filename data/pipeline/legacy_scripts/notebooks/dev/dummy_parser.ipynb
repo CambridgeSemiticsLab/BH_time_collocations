{
 "cells": [
  {
   "cell_type": "code",
   "execution_count": 10,
   "metadata": {},
   "outputs": [],
   "source": [
    "from sly import Lexer, Parser"
   ]
  },
  {
   "cell_type": "code",
   "execution_count": 15,
   "metadata": {},
   "outputs": [
    {
     "name": "stderr",
     "output_type": "stream",
     "text": [
      "WARNING: Token {N} defined, but not used\n",
      "WARNING: There is 1 unused token\n",
      "WARNING: 1 reduce/reduce conflict\n",
      "Parser debugging for Parser written to parser.out\n"
     ]
    }
   ],
   "source": [
    "class Lexer(Lexer):\n",
    "    tokens = {P, N}\n",
    "    P = 'P'\n",
    "    N = 'N'\n",
    "    \n",
    "class Parser(Parser):\n",
    "    tokens = Lexer.tokens\n",
    "    debugfile = 'parser.out'\n",
    "    \n",
    "    @_('pp', 'pr')\n",
    "    def phrase(self, p):\n",
    "        return [p[0]]\n",
    "    \n",
    "    @_('P')\n",
    "    def pp(self, p):\n",
    "        return [p.P]\n",
    "    \n",
    "    @_('P')\n",
    "    def pr(self, p):\n",
    "        return [p.P]"
   ]
  },
  {
   "cell_type": "code",
   "execution_count": null,
   "metadata": {},
   "outputs": [],
   "source": [
    "test = 'ABBCDE'"
   ]
  }
 ],
 "metadata": {
  "kernelspec": {
   "display_name": "Python 3",
   "language": "python",
   "name": "python3"
  },
  "language_info": {
   "codemirror_mode": {
    "name": "ipython",
    "version": 3
   },
   "file_extension": ".py",
   "mimetype": "text/x-python",
   "name": "python",
   "nbconvert_exporter": "python",
   "pygments_lexer": "ipython3",
   "version": "3.8.5"
  }
 },
 "nbformat": 4,
 "nbformat_minor": 4
}
