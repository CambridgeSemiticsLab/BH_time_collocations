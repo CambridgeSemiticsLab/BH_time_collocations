{
 "cells": [
  {
   "cell_type": "code",
   "execution_count": 6,
   "id": "3236c6db-cef0-4f5b-92b7-1ae30e9084e6",
   "metadata": {},
   "outputs": [],
   "source": [
    "from typing import NamedTuple, Tuple"
   ]
  },
  {
   "cell_type": "code",
   "execution_count": 7,
   "id": "a83bfb9a-09ae-48f7-a3a1-840eb29abb2a",
   "metadata": {},
   "outputs": [],
   "source": [
    "import json"
   ]
  },
  {
   "cell_type": "code",
   "execution_count": 47,
   "id": "21b66b2e-48be-4a7f-a383-bc09fc95f6e0",
   "metadata": {},
   "outputs": [],
   "source": [
    "class NodeIdentifier(NamedTuple):\n",
    "    \"\"\"Class for representing a linguistic node without using the node number.\"\"\"\n",
    "\n",
    "    otype: str\n",
    "    oslots: Tuple[int]\n",
    "\n",
    "\n",
    "class ArchivableLingLabel(NamedTuple):\n",
    "    \"\"\"\n",
    "    Object for long-term storage of linguistic labels.\n",
    "\n",
    "    Since node numbers might change after annotations are completed,\n",
    "    we store the final annotation data under the slots and otype associated\n",
    "    with the original node. Obsoleted FrozenLingLabels can easily be\n",
    "    identified by searching for nodes with the same otype and oslots\n",
    "    within a newer version of the corpus. Failure to find a match indicates\n",
    "    the label should be redone.\n",
    "    \"\"\"\n",
    "\n",
    "    label: str\n",
    "    value: str\n",
    "    nid: NodeIdentifier\n",
    "    target: str\n",
    "    \n",
    "    @classmethod\n",
    "    def from_serialization(cls, serialization):\n",
    "        \"\"\"Read in as serialization.\"\"\"\n",
    "        label, value, raw_nid, target = serialization\n",
    "        return cls(\n",
    "            label,\n",
    "            value,\n",
    "            NodeIdentifier(raw_nid[0], tuple(raw_nid[1])),\n",
    "            target\n",
    "        )"
   ]
  },
  {
   "cell_type": "code",
   "execution_count": 70,
   "id": "b1008623-96df-4066-9645-70780d27eab8",
   "metadata": {},
   "outputs": [],
   "source": [
    "labels = []\n",
    "\n",
    "for i in range(1000):\n",
    "    nid = NodeIdentifier('test', (i, i+1, i+2))\n",
    "    label = ArchivableLingLabel(\n",
    "        f'{i}test_label',\n",
    "        f'{i}test_value',\n",
    "        nid,\n",
    "        f'{i}test_phrase',\n",
    "    )\n",
    "    labels.append(label)"
   ]
  },
  {
   "cell_type": "code",
   "execution_count": 71,
   "id": "b616bf80-a994-4537-854b-24fb6d586003",
   "metadata": {},
   "outputs": [
    {
     "data": {
      "text/plain": [
       "[ArchivableLingLabel(label='0test_label', value='0test_value', nid=NodeIdentifier(otype='test', oslots=(0, 1, 2)), target='0test_phrase'),\n",
       " ArchivableLingLabel(label='1test_label', value='1test_value', nid=NodeIdentifier(otype='test', oslots=(1, 2, 3)), target='1test_phrase'),\n",
       " ArchivableLingLabel(label='2test_label', value='2test_value', nid=NodeIdentifier(otype='test', oslots=(2, 3, 4)), target='2test_phrase'),\n",
       " ArchivableLingLabel(label='3test_label', value='3test_value', nid=NodeIdentifier(otype='test', oslots=(3, 4, 5)), target='3test_phrase'),\n",
       " ArchivableLingLabel(label='4test_label', value='4test_value', nid=NodeIdentifier(otype='test', oslots=(4, 5, 6)), target='4test_phrase'),\n",
       " ArchivableLingLabel(label='5test_label', value='5test_value', nid=NodeIdentifier(otype='test', oslots=(5, 6, 7)), target='5test_phrase'),\n",
       " ArchivableLingLabel(label='6test_label', value='6test_value', nid=NodeIdentifier(otype='test', oslots=(6, 7, 8)), target='6test_phrase'),\n",
       " ArchivableLingLabel(label='7test_label', value='7test_value', nid=NodeIdentifier(otype='test', oslots=(7, 8, 9)), target='7test_phrase'),\n",
       " ArchivableLingLabel(label='8test_label', value='8test_value', nid=NodeIdentifier(otype='test', oslots=(8, 9, 10)), target='8test_phrase'),\n",
       " ArchivableLingLabel(label='9test_label', value='9test_value', nid=NodeIdentifier(otype='test', oslots=(9, 10, 11)), target='9test_phrase')]"
      ]
     },
     "execution_count": 71,
     "metadata": {},
     "output_type": "execute_result"
    }
   ],
   "source": [
    "labels[:10]"
   ]
  },
  {
   "cell_type": "code",
   "execution_count": 72,
   "id": "ed4c5559-db1f-46ec-ab8d-8747172fa629",
   "metadata": {},
   "outputs": [],
   "source": [
    "import random"
   ]
  },
  {
   "cell_type": "code",
   "execution_count": 73,
   "id": "bdb551ce-1b26-42d1-8471-e07cdef461fd",
   "metadata": {},
   "outputs": [],
   "source": [
    "random.shuffle(labels)"
   ]
  },
  {
   "cell_type": "code",
   "execution_count": 74,
   "id": "dc71509f-ecd2-4fd1-8517-102910dc8211",
   "metadata": {},
   "outputs": [
    {
     "data": {
      "text/plain": [
       "[ArchivableLingLabel(label='40test_label', value='40test_value', nid=NodeIdentifier(otype='test', oslots=(40, 41, 42)), target='40test_phrase'),\n",
       " ArchivableLingLabel(label='643test_label', value='643test_value', nid=NodeIdentifier(otype='test', oslots=(643, 644, 645)), target='643test_phrase'),\n",
       " ArchivableLingLabel(label='911test_label', value='911test_value', nid=NodeIdentifier(otype='test', oslots=(911, 912, 913)), target='911test_phrase'),\n",
       " ArchivableLingLabel(label='87test_label', value='87test_value', nid=NodeIdentifier(otype='test', oslots=(87, 88, 89)), target='87test_phrase'),\n",
       " ArchivableLingLabel(label='544test_label', value='544test_value', nid=NodeIdentifier(otype='test', oslots=(544, 545, 546)), target='544test_phrase'),\n",
       " ArchivableLingLabel(label='951test_label', value='951test_value', nid=NodeIdentifier(otype='test', oslots=(951, 952, 953)), target='951test_phrase'),\n",
       " ArchivableLingLabel(label='737test_label', value='737test_value', nid=NodeIdentifier(otype='test', oslots=(737, 738, 739)), target='737test_phrase'),\n",
       " ArchivableLingLabel(label='385test_label', value='385test_value', nid=NodeIdentifier(otype='test', oslots=(385, 386, 387)), target='385test_phrase'),\n",
       " ArchivableLingLabel(label='842test_label', value='842test_value', nid=NodeIdentifier(otype='test', oslots=(842, 843, 844)), target='842test_phrase'),\n",
       " ArchivableLingLabel(label='403test_label', value='403test_value', nid=NodeIdentifier(otype='test', oslots=(403, 404, 405)), target='403test_phrase')]"
      ]
     },
     "execution_count": 74,
     "metadata": {},
     "output_type": "execute_result"
    }
   ],
   "source": [
    "labels[:10]"
   ]
  },
  {
   "cell_type": "code",
   "execution_count": 75,
   "id": "ee47f8ef-a1e9-424e-9af7-f7a03e074b4e",
   "metadata": {},
   "outputs": [
    {
     "data": {
      "text/plain": [
       "[ArchivableLingLabel(label='0test_label', value='0test_value', nid=NodeIdentifier(otype='test', oslots=(0, 1, 2)), target='0test_phrase'),\n",
       " ArchivableLingLabel(label='100test_label', value='100test_value', nid=NodeIdentifier(otype='test', oslots=(100, 101, 102)), target='100test_phrase'),\n",
       " ArchivableLingLabel(label='101test_label', value='101test_value', nid=NodeIdentifier(otype='test', oslots=(101, 102, 103)), target='101test_phrase'),\n",
       " ArchivableLingLabel(label='102test_label', value='102test_value', nid=NodeIdentifier(otype='test', oslots=(102, 103, 104)), target='102test_phrase'),\n",
       " ArchivableLingLabel(label='103test_label', value='103test_value', nid=NodeIdentifier(otype='test', oslots=(103, 104, 105)), target='103test_phrase'),\n",
       " ArchivableLingLabel(label='104test_label', value='104test_value', nid=NodeIdentifier(otype='test', oslots=(104, 105, 106)), target='104test_phrase'),\n",
       " ArchivableLingLabel(label='105test_label', value='105test_value', nid=NodeIdentifier(otype='test', oslots=(105, 106, 107)), target='105test_phrase'),\n",
       " ArchivableLingLabel(label='106test_label', value='106test_value', nid=NodeIdentifier(otype='test', oslots=(106, 107, 108)), target='106test_phrase'),\n",
       " ArchivableLingLabel(label='107test_label', value='107test_value', nid=NodeIdentifier(otype='test', oslots=(107, 108, 109)), target='107test_phrase'),\n",
       " ArchivableLingLabel(label='108test_label', value='108test_value', nid=NodeIdentifier(otype='test', oslots=(108, 109, 110)), target='108test_phrase')]"
      ]
     },
     "execution_count": 75,
     "metadata": {},
     "output_type": "execute_result"
    }
   ],
   "source": [
    "sorted(labels)[:10]"
   ]
  },
  {
   "cell_type": "code",
   "execution_count": 26,
   "id": "6c39cb50-7939-44d2-af1f-3275545ea443",
   "metadata": {},
   "outputs": [],
   "source": [
    "with open('test_archive.json', 'w') as outfile:\n",
    "    json.dump(labels, outfile, indent=2)"
   ]
  },
  {
   "cell_type": "code",
   "execution_count": 18,
   "id": "982e5fde-6bc1-438a-957d-1c8d22ebce18",
   "metadata": {},
   "outputs": [],
   "source": [
    "with open('test_archive.json', 'r') as infile:\n",
    "    in_labels = [\n",
    "        ArchivableLingLabel.from_serialization(label)\n",
    "        for label in json.load(infile)\n",
    "    ]"
   ]
  },
  {
   "cell_type": "code",
   "execution_count": 23,
   "id": "8d695d44-16e8-426e-9687-07ed9ac9364e",
   "metadata": {},
   "outputs": [
    {
     "data": {
      "text/plain": [
       "0"
      ]
     },
     "execution_count": 23,
     "metadata": {},
     "output_type": "execute_result"
    }
   ],
   "source": [
    "in_labels[0].nid.oslots[0]"
   ]
  },
  {
   "cell_type": "code",
   "execution_count": 39,
   "id": "c7b7d0ae-09cf-4805-b2c4-8e2a0e5ea4fb",
   "metadata": {},
   "outputs": [],
   "source": [
    "import test"
   ]
  },
  {
   "cell_type": "code",
   "execution_count": 40,
   "id": "e04dcb2e-e2f4-4ac0-801e-89a4d6812bd6",
   "metadata": {},
   "outputs": [],
   "source": [
    "hits = []\n",
    "\n",
    "for typ_name in dir(test):\n",
    "    typ = getattr(test, typ_name)\n",
    "    if hasattr(typ, 'TEST'):\n",
    "        hits.append(typ)"
   ]
  },
  {
   "cell_type": "code",
   "execution_count": 41,
   "id": "644e0e83-804b-469f-a1b0-508f4181b162",
   "metadata": {},
   "outputs": [
    {
     "data": {
      "text/plain": [
       "[test.Test, test.Test2]"
      ]
     },
     "execution_count": 41,
     "metadata": {},
     "output_type": "execute_result"
    }
   ],
   "source": [
    "hits"
   ]
  },
  {
   "cell_type": "code",
   "execution_count": 42,
   "id": "1ef92b6e-fa0e-4b99-82ce-d8d525fe4faf",
   "metadata": {},
   "outputs": [],
   "source": [
    "test = hits[1]()"
   ]
  },
  {
   "cell_type": "code",
   "execution_count": 43,
   "id": "e92d3da9-3316-4e6d-9294-47b9684a6541",
   "metadata": {},
   "outputs": [
    {
     "data": {
      "text/plain": [
       "<test.Test2 at 0x106b5a950>"
      ]
     },
     "execution_count": 43,
     "metadata": {},
     "output_type": "execute_result"
    }
   ],
   "source": [
    "test"
   ]
  },
  {
   "cell_type": "code",
   "execution_count": 44,
   "id": "ec8d3afb-7a44-42c1-a6fd-ee9256268f53",
   "metadata": {},
   "outputs": [
    {
     "data": {
      "text/plain": [
       "1"
      ]
     },
     "execution_count": 44,
     "metadata": {},
     "output_type": "execute_result"
    }
   ],
   "source": [
    "test.TEST"
   ]
  },
  {
   "cell_type": "code",
   "execution_count": 46,
   "id": "088de370-2c74-48fa-82e4-b102b7aa839f",
   "metadata": {},
   "outputs": [
    {
     "data": {
      "text/plain": [
       "2"
      ]
     },
     "execution_count": 46,
     "metadata": {},
     "output_type": "execute_result"
    }
   ],
   "source": [
    "test.TEST2"
   ]
  },
  {
   "cell_type": "code",
   "execution_count": null,
   "id": "f3ec9b30-77a6-45c0-9bfb-f20ef50bda44",
   "metadata": {},
   "outputs": [],
   "source": []
  }
 ],
 "metadata": {
  "kernelspec": {
   "display_name": "thesis",
   "language": "python",
   "name": "thesis"
  },
  "language_info": {
   "codemirror_mode": {
    "name": "ipython",
    "version": 3
   },
   "file_extension": ".py",
   "mimetype": "text/x-python",
   "name": "python",
   "nbconvert_exporter": "python",
   "pygments_lexer": "ipython3",
   "version": "3.10.0"
  }
 },
 "nbformat": 4,
 "nbformat_minor": 5
}
