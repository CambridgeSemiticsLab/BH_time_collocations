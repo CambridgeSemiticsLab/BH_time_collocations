{
 "cells": [
  {
   "cell_type": "markdown",
   "metadata": {},
   "source": [
    "# Clause Word Order (Main Clauses)"
   ]
  },
  {
   "cell_type": "code",
   "execution_count": 2,
   "metadata": {},
   "outputs": [
    {
     "data": {
      "text/plain": [
       "(2217, 72)"
      ]
     },
     "execution_count": 2,
     "metadata": {},
     "output_type": "execute_result"
    }
   ],
   "source": [
    "from scripts.imports import *\n",
    "\n",
    "# designate some additional parameters for a clause to be \"main\"\n",
    "non_main = [\n",
    "    'InfC', 'InfA', 'Reop', \n",
    "    'Voct', 'CPen', 'Ellp', \n",
    "    'MSyn',\n",
    "]\n",
    "\n",
    "main_df = df[\n",
    "    (df.cl_rela == 'Main')\n",
    "    & (~df.cl_type2.isin(non_main))\n",
    "    & (df.n_times == 1)\n",
    "    & (~df.cl_type.isin(['NmCl', 'AjCl']))\n",
    "]\n",
    "\n",
    "out = Exporter(\n",
    "    paths['outdir'],\n",
    "    'pragmatics',\n",
    ")\n",
    "\n",
    "main_df.shape"
   ]
  },
  {
   "cell_type": "markdown",
   "metadata": {},
   "source": [
    "# Exploring Word Order in TA Clauses\n",
    "\n",
    "We have a strict / literal word order tag. We will eventially process that tag into narrower categories. But first, we can do a formal analysis of the strict tag."
   ]
  },
  {
   "cell_type": "code",
   "execution_count": 3,
   "metadata": {},
   "outputs": [
    {
     "name": "stdout",
     "output_type": "stream",
     "text": [
      "(528,)\n"
     ]
    },
    {
     "data": {
      "text/plain": [
       "W-V-T        258\n",
       "W-V-O-T       75\n",
       "T-V-O         72\n",
       "W-V-S-T       71\n",
       "W-V-C-T       67\n",
       "T-V           60\n",
       "W-T-V-C       55\n",
       "T-V-S         50\n",
       "W-V-S-C-T     41\n",
       "W-T-V         40\n",
       "Name: cl_args, dtype: int64"
      ]
     },
     "execution_count": 3,
     "metadata": {},
     "output_type": "execute_result"
    }
   ],
   "source": [
    "clargs_count = main_df.cl_args.value_counts()\n",
    "\n",
    "print(clargs_count.shape)\n",
    "\n",
    "clargs_count.head(10)"
   ]
  },
  {
   "cell_type": "code",
   "execution_count": 4,
   "metadata": {},
   "outputs": [
    {
     "data": {
      "text/plain": [
       "'528'"
      ]
     },
     "execution_count": 4,
     "metadata": {},
     "output_type": "execute_result"
    }
   ],
   "source": [
    "out.number(\n",
    "    clargs_count.shape[0],\n",
    "    'n_clargtags'\n",
    ")"
   ]
  },
  {
   "cell_type": "code",
   "execution_count": 5,
   "metadata": {},
   "outputs": [
    {
     "data": {
      "text/plain": [
       "'A-S-V-C-T-O, A-V-O-T-C, C-V-S-T-O-A, I-V-O-T-C, I-V-O-T-C-C, I-V-T-C, M-V-S-T-C, M-V-T-C, M-V-T-O, Q-V-C-T-S-C, Q-V-O-S-T-C, Q-V-T-C, Q-V-T-S, S-V-C-T-O, S-V-T-C, S-V-T-C-A, S-V-T-O, S-V-T-O-A, V-C-T-O, V-C-T-O-O, V-C-T-S, V-I-C-T-O, V-I-T-O, V-O-T-C, V-O-T-C-A, V-O-T-O, V-S-T-C, V-S-T-O, V-S-T-O-A, V-S-T-O-C, V-T-A-O, V-T-C, V-T-C-A, V-T-C-O, V-T-O, V-T-O-A, V-T-O-C, V-T-S, V-T-S-C, W-I-S-V-T-C, W-L-V-T-C, W-L-V-T-PrC-O-O, W-O-V-O-T-C, W-O-V-T-C, W-PrC-V-T-S, W-S-V-T-C, W-S-V-T-O, W-S-V-T-O-L, W-S-V-T-PrC-A-A, W-V-A-O-T-C, W-V-A-T-O-C, W-V-C-S-T-O, W-V-C-T-A-O, W-V-C-T-C, W-V-C-T-O, W-V-C-T-O-A, W-V-C-T-PrC, W-V-C-T-S, W-V-O-T-A-C-L-A, W-V-O-T-C, W-V-O-T-O, W-V-O-T-S, W-V-S-C-T-C, W-V-S-C-T-O, W-V-S-T-A-O, W-V-S-T-C, W-V-S-T-C-A, W-V-S-T-O, W-V-S-T-O-A, W-V-S-T-O-C, W-V-S-T-PrC, W-V-S-T-PrC-C, W-V-T-A-S, W-V-T-C, W-V-T-C-A, W-V-T-C-C, W-V-T-C-L, W-V-T-O, W-V-T-O-A, W-V-T-O-C-L, W-V-T-O-O, W-V-T-O-S, W-V-T-PrC, W-V-T-PrC-O, W-V-T-S, W-V-T-S-A, W-V-T-S-C-A, W-V-T-S-C-C, W-V-T-S-O'"
      ]
     },
     "execution_count": 5,
     "metadata": {},
     "output_type": "execute_result"
    }
   ],
   "source": [
    "', '.join(sorted(main_df[main_df['Time Position'] == 'medial'].cl_args.unique()))"
   ]
  },
  {
   "cell_type": "code",
   "execution_count": 6,
   "metadata": {},
   "outputs": [
    {
     "data": {
      "text/plain": [
       "'A-T-C-V, A-T-V, A-T-V-O-A, C-T-V, C-T-V-O, C-T-V-PrC-C, C-T-V-S, C-T-V-S-C, I-T-V-C-S-C, I-T-V-O, I-T-V-O-A, I-T-V-S-O, M-S-T-V, M-T-S-V, M-T-V-C, O-T-V, Q-T-A-V, Q-T-V, Q-T-V-C, Q-T-V-O, Q-T-V-S, Q-T-V-S-A, S-T-O-V-A, S-T-V, S-T-V-C-C, S-T-V-O, S-T-V-O-A, T-A-PrC-V-C, T-A-S-V-C-O, T-A-T-V-C, T-A-V, T-A-V-C-A, T-A-V-O, T-A-V-O-C, T-C-V, T-C-V-O, T-C-V-S, T-L-M-V-S-A, T-M-V-S, T-M-V-S-C, T-O-V, T-O-V-C, T-PrA-V, T-PrC-V, T-S-V, T-S-V-A, T-S-V-C, T-S-V-C-A, T-S-V-L, T-S-V-O, T-S-V-O-A, T-S-V-PrC, T-T-V-S-A-A, T-V, T-V-A, T-V-A-A, T-V-A-C, T-V-A-L, T-V-A-O, T-V-A-S, T-V-C, T-V-C-A, T-V-C-C-A, T-V-C-C-A-A, T-V-C-L, T-V-C-O, T-V-C-O-A, T-V-C-PrC-A, T-V-C-S, T-V-C-S-O, T-V-L, T-V-L-O, T-V-M, T-V-M-S-A, T-V-O, T-V-O-A, T-V-O-A-C-C, T-V-O-C, T-V-O-C-A, T-V-O-I-C, T-V-O-L, T-V-O-M, T-V-O-O, T-V-O-O-C, T-V-O-S, T-V-O-S-A, T-V-O-S-A-L, T-V-O-S-C, T-V-PrC, T-V-PrC-A, T-V-PrC-C, T-V-PrC-S, T-V-PrC-S-A, T-V-S, T-V-S-A, T-V-S-A-A, T-V-S-A-A-A, T-V-S-A-C, T-V-S-A-L, T-V-S-A-O, T-V-S-C, T-V-S-C-A, T-V-S-C-A-A, T-V-S-C-C, T-V-S-C-O, T-V-S-C-O-A, T-V-S-L, T-V-S-L-A, T-V-S-O, T-V-S-O-A, T-V-S-O-A-A, T-V-S-O-C, T-V-S-O-C-A, T-V-S-O-C-C-A, T-V-S-O-C-L, T-V-S-O-C-L-A-A, T-V-S-O-L, T-V-S-O-L-A, T-V-S-PrC, T-V-S-PrC-A, T-V-S-PrC-A-A, T-V-S-PrC-C-A, W-C-T-V, W-C-T-V-O, W-M-T-S-V, W-O-T-V, W-O-T-V-A, W-S-T-V, W-S-T-V-A, W-S-T-V-C, W-S-T-V-C-A, W-S-T-V-O, W-S-T-V-PrC, W-T-A-A-V-O-A, W-T-A-S-V-PrC, W-T-A-V, W-T-A-V-C, W-T-A-V-C-A, W-T-A-V-O, W-T-A-V-S, W-T-A-V-S-O, W-T-C-S-V-C-A, W-T-C-V, W-T-I-V, W-T-M-V-O, W-T-O-M-A-V, W-T-O-V, W-T-O-V-C, W-T-PrC-V, W-T-S-C-V, W-T-S-V, W-T-S-V-A-A, W-T-S-V-C, W-T-S-V-C-A, W-T-S-V-C-O, W-T-S-V-O, W-T-S-V-PrC, W-T-V, W-T-V-A, W-T-V-A-M, W-T-V-A-S, W-T-V-C, W-T-V-C-A, W-T-V-C-O, W-T-V-C-S, W-T-V-L, W-T-V-M, W-T-V-O, W-T-V-O-A, W-T-V-O-C, W-T-V-O-C-A, W-T-V-O-C-L, W-T-V-O-C-O-T, W-T-V-O-C-PrA, W-T-V-O-L, W-T-V-O-L-L, W-T-V-O-M, W-T-V-O-O, W-T-V-O-PrA-C, W-T-V-O-S, W-T-V-O-S-C, W-T-V-O-S-C-A, W-T-V-PrA-C-O, W-T-V-PrC, W-T-V-PrC-A, W-T-V-S, W-T-V-S-A, W-T-V-S-C, W-T-V-S-C-A, W-T-V-S-C-C, W-T-V-S-L-A, W-T-V-S-O, W-T-V-S-O-C, W-T-V-S-O-C-L, W-T-V-S-PrC'"
      ]
     },
     "execution_count": 6,
     "metadata": {},
     "output_type": "execute_result"
    }
   ],
   "source": [
    "', '.join(sorted(main_df[main_df['Time Position'] == 'preposed'].cl_args.unique()))"
   ]
  },
  {
   "cell_type": "code",
   "execution_count": 7,
   "metadata": {},
   "outputs": [
    {
     "data": {
      "text/plain": [
       "'A-O-V-C-S-T, A-S-V-O-O-T, A-S-V-T, A-V-C-O-T, A-V-C-S-L-L-T, A-V-C-T, A-V-O-O-T, A-V-O-S-T, A-V-O-T, A-V-S-C-L-T, A-V-S-O-T, A-V-S-PrC-C-T-A, A-V-S-T, A-V-T, C-S-V-M-T, C-S-V-T, C-V-C-T-A, C-V-O-T, C-V-S-T, C-V-S-T-A, C-V-T, I-S-V-C-T-M, I-S-V-L-T, I-V-S-O-A-M-T-A, L-V-S-C-A-T, L-V-T, M-O-V-O-T, M-V-C-L-O-T, M-V-C-T, M-V-C-T-A, M-V-O-I-T, M-V-O-T-A, M-V-S-PrC-T, M-V-S-T, M-V-T, M-V-T-A, O-S-V-T, O-V-A-T, O-V-C-L-T, O-V-C-T-A, O-V-O-T, O-V-T, O-V-T-A, PrC-V-C-T, PrC-V-S-T, Q-S-V-C-T, Q-V-C-T, Q-V-O-T, Q-V-PrC-T, Q-V-S-T, Q-V-T, Q-V-T-A, Q-V-T-A-A, S-C-V-T, S-V-C-A-M-T, S-V-C-L-T, S-V-C-T, S-V-C-T-A, S-V-M-T-A, S-V-O-A-T, S-V-O-T, S-V-PrC-C-T, S-V-PrC-T, S-V-T, S-V-T-A, T, V-A-T, V-C-M-S-PrC-T, V-C-O-T, V-C-T, V-I-C-S-T, V-I-C-T, V-I-O-T, V-I-T, V-L-T, V-M-T, V-O-A-C-T, V-O-A-T, V-O-C-T, V-O-O-T, V-O-S-T, V-O-T, V-O-T-A, V-PrC-S-T, V-PrC-T, V-S-A-T, V-S-C-T, V-S-C-T-A, V-S-O-C-T, V-S-O-T, V-S-T, V-S-T-L, V-T, V-T-A, V-T-M, V-T-PrA-A, W-A-S-V-A-T, W-A-S-V-C-T, W-A-V-S-C-O-T-L, W-A-V-T, W-C-S-V-T, W-C-V-O-T, W-C-V-S-L-T, W-C-V-S-T, W-C-V-T, W-I-S-V-C-T, W-L-V-T, W-M-V-C-T, W-O-V-C-A-T, W-O-V-C-T, W-O-V-S-T, W-O-V-S-T-A, W-O-V-T, W-O-V-T-A, W-PrC-V-S-T-A, W-Q-S-V-O-T, W-Q-V-C-T-A, W-Q-V-S-T-M, W-Q-V-T, W-S-A-V-PrC-T, W-S-C-V-T, W-S-M-V-O-T-A, W-S-PrA-V-T, W-S-PrC-V-T-L, W-S-V-A-M-T, W-S-V-A-T, W-S-V-C-L-T, W-S-V-C-O-T, W-S-V-C-T, W-S-V-C-T-A, W-S-V-M-T, W-S-V-O-A-T, W-S-V-O-C-T, W-S-V-O-L-T, W-S-V-O-T, W-S-V-O-T-A, W-S-V-O-T-A-A, W-S-V-PrA-T, W-S-V-PrC-C-A-T, W-S-V-PrC-C-T, W-S-V-PrC-L-T, W-S-V-PrC-T, W-S-V-PrC-T-A, W-S-V-T, W-S-V-T-A, W-S-V-T-A-A, W-S-V-T-L, W-V-A-L-PrC-T, W-V-A-O-T, W-V-A-T, W-V-A-T-A, W-V-A-T-L, W-V-C-A-T, W-V-C-C-T, W-V-C-M-T, W-V-C-O-A-L-T, W-V-C-O-A-T, W-V-C-O-L-T, W-V-C-O-T, W-V-C-PrC-T, W-V-C-PrC-T-T, W-V-C-S-PrC-T, W-V-C-S-T, W-V-C-S-T-A, W-V-C-T, W-V-C-T-A, W-V-C-T-L, W-V-C-T-PrA-A, W-V-I-C-T, W-V-L-PrC-T, W-V-L-S-L-T, W-V-L-S-PrC-T-A, W-V-L-S-T-A, W-V-L-T, W-V-L-T-A, W-V-M-PrC-T, W-V-M-T, W-V-M-T-A-A, W-V-O-A-A-T, W-V-O-A-C-T, W-V-O-A-T, W-V-O-C-A-T, W-V-O-C-C-T-A, W-V-O-C-M-T, W-V-O-C-T, W-V-O-C-T-A, W-V-O-L-T, W-V-O-L-T-A, W-V-O-O-T, W-V-O-S-C-T, W-V-O-S-C-T-L, W-V-O-S-T, W-V-O-S-T-A, W-V-O-S-T-M, W-V-O-T, W-V-O-T-A, W-V-O-T-M, W-V-PrC-A-T, W-V-PrC-C-T, W-V-PrC-T, W-V-PrC-T-A, W-V-PrC-T-A-L, W-V-S-A-A-A-T, W-V-S-A-C-T, W-V-S-A-L-T, W-V-S-A-O-C-T, W-V-S-A-O-T, W-V-S-A-T, W-V-S-A-T-A, W-V-S-C-A-T, W-V-S-C-C-T, W-V-S-C-L-T, W-V-S-C-O-A-T, W-V-S-C-O-T, W-V-S-C-T, W-V-S-C-T-A, W-V-S-L-A-T, W-V-S-L-O-T-A, W-V-S-L-T, W-V-S-M-C-T-A, W-V-S-M-PrC-T, W-V-S-M-T, W-V-S-O-A-C-A-A-L-T, W-V-S-O-A-T, W-V-S-O-C-L-T, W-V-S-O-C-T, W-V-S-O-C-T-L, W-V-S-O-L-T, W-V-S-O-T, W-V-S-O-T-A, W-V-S-O-T-M, W-V-S-PrC-A-T, W-V-S-PrC-C-T, W-V-S-PrC-O-T, W-V-S-PrC-T, W-V-S-T, W-V-S-T-A, W-V-S-T-A-A, W-V-S-T-L, W-V-S-T-L-PrA, W-V-S-T-M, W-V-S-T-PrA, W-V-T, W-V-T-A'"
      ]
     },
     "execution_count": 7,
     "metadata": {},
     "output_type": "execute_result"
    }
   ],
   "source": [
    "', '.join(sorted(main_df[main_df['Time Position'] == 'final'].cl_args.unique()))"
   ]
  },
  {
   "cell_type": "markdown",
   "metadata": {},
   "source": [
    "## Overall Position Counts"
   ]
  },
  {
   "cell_type": "code",
   "execution_count": 8,
   "metadata": {},
   "outputs": [
    {
     "data": {
      "text/html": [
       "<div>\n",
       "<style scoped>\n",
       "    .dataframe tbody tr th:only-of-type {\n",
       "        vertical-align: middle;\n",
       "    }\n",
       "\n",
       "    .dataframe tbody tr th {\n",
       "        vertical-align: top;\n",
       "    }\n",
       "\n",
       "    .dataframe thead th {\n",
       "        text-align: right;\n",
       "    }\n",
       "</style>\n",
       "<table border=\"1\" class=\"dataframe\">\n",
       "  <thead>\n",
       "    <tr style=\"text-align: right;\">\n",
       "      <th></th>\n",
       "      <th>count</th>\n",
       "      <th>percent</th>\n",
       "    </tr>\n",
       "    <tr>\n",
       "      <th>Time Position</th>\n",
       "      <th></th>\n",
       "      <th></th>\n",
       "    </tr>\n",
       "  </thead>\n",
       "  <tbody>\n",
       "    <tr>\n",
       "      <th>final</th>\n",
       "      <td>1246</td>\n",
       "      <td>56%</td>\n",
       "    </tr>\n",
       "    <tr>\n",
       "      <th>preposed</th>\n",
       "      <td>789</td>\n",
       "      <td>36%</td>\n",
       "    </tr>\n",
       "    <tr>\n",
       "      <th>medial</th>\n",
       "      <td>182</td>\n",
       "      <td>8%</td>\n",
       "    </tr>\n",
       "  </tbody>\n",
       "</table>\n",
       "</div>"
      ],
      "text/plain": [
       "               count percent\n",
       "Time Position               \n",
       "final           1246     56%\n",
       "preposed         789     36%\n",
       "medial           182      8%"
      ]
     },
     "execution_count": 8,
     "metadata": {},
     "output_type": "execute_result"
    }
   ],
   "source": [
    "pos_ct = main_df['Time Position'].value_counts()\n",
    "pos_pr = pos_ct / pos_ct.sum()\n",
    "pos_cp = join_ct_pr(pos_ct, pos_pr)\n",
    "pos_cp.rename_axis(index='Time Position', inplace=True)\n",
    "\n",
    "out.table(\n",
    "    pos_cp,\n",
    "    'posi_cp',\n",
    "    caption='Counts for Time Clause Positions in Hebrew Bible'\n",
    ")\n",
    "\n",
    "pos_cp"
   ]
  },
  {
   "cell_type": "code",
   "execution_count": 9,
   "metadata": {},
   "outputs": [
    {
     "data": {
      "text/plain": [
       "'36'"
      ]
     },
     "execution_count": 9,
     "metadata": {},
     "output_type": "execute_result"
    }
   ],
   "source": [
    "out.number(\n",
    "    pos_pr.loc['preposed']*100,\n",
    "    'prepose_all_pr',\n",
    ")"
   ]
  },
  {
   "cell_type": "markdown",
   "metadata": {},
   "source": [
    "## Playing Around with Distribution Through HB"
   ]
  },
  {
   "cell_type": "code",
   "execution_count": 10,
   "metadata": {},
   "outputs": [
    {
     "data": {
      "text/plain": [
       "<AxesSubplot:xlabel='cl_clust10'>"
      ]
     },
     "execution_count": 10,
     "metadata": {},
     "output_type": "execute_result"
    },
    {
     "data": {
      "image/png": "[encoded data removed]",
      "text/plain": [
       "<Figure size 432x288 with 1 Axes>"
      ]
     },
     "metadata": {
      "needs_background": "light"
     },
     "output_type": "display_data"
    }
   ],
   "source": [
    "sns.swarmplot(x=main_df[main_df['Time Position'] == 'preposed'].cl_clust10)"
   ]
  },
  {
   "cell_type": "code",
   "execution_count": 11,
   "metadata": {},
   "outputs": [
    {
     "data": {
      "text/plain": [
       "<AxesSubplot:xlabel='cl_clust10'>"
      ]
     },
     "execution_count": 11,
     "metadata": {},
     "output_type": "execute_result"
    },
    {
     "data": {
      "image/png": "[encoded data removed]",
      "text/plain": [
       "<Figure size 432x288 with 1 Axes>"
      ]
     },
     "metadata": {
      "needs_background": "light"
     },
     "output_type": "display_data"
    }
   ],
   "source": [
    "sns.swarmplot(x=main_df[main_df['Time Position'] == 'medial'].cl_clust10)"
   ]
  },
  {
   "cell_type": "markdown",
   "metadata": {},
   "source": [
    "## Position Counts by Genre"
   ]
  },
  {
   "cell_type": "code",
   "execution_count": 12,
   "metadata": {},
   "outputs": [
    {
     "data": {
      "text/html": [
       "<div>\n",
       "<style scoped>\n",
       "    .dataframe tbody tr th:only-of-type {\n",
       "        vertical-align: middle;\n",
       "    }\n",
       "\n",
       "    .dataframe tbody tr th {\n",
       "        vertical-align: top;\n",
       "    }\n",
       "\n",
       "    .dataframe thead th {\n",
       "        text-align: right;\n",
       "    }\n",
       "</style>\n",
       "<table border=\"1\" class=\"dataframe\">\n",
       "  <thead>\n",
       "    <tr style=\"text-align: right;\">\n",
       "      <th>Time Position</th>\n",
       "      <th>final</th>\n",
       "      <th>preposed</th>\n",
       "      <th>medial</th>\n",
       "    </tr>\n",
       "    <tr>\n",
       "      <th>gendom</th>\n",
       "      <th></th>\n",
       "      <th></th>\n",
       "      <th></th>\n",
       "    </tr>\n",
       "  </thead>\n",
       "  <tbody>\n",
       "    <tr>\n",
       "      <th>prose.N</th>\n",
       "      <td>529</td>\n",
       "      <td>117</td>\n",
       "      <td>68</td>\n",
       "    </tr>\n",
       "    <tr>\n",
       "      <th>prose.Q</th>\n",
       "      <td>243</td>\n",
       "      <td>164</td>\n",
       "      <td>63</td>\n",
       "    </tr>\n",
       "    <tr>\n",
       "      <th>prophetic.Q</th>\n",
       "      <td>159</td>\n",
       "      <td>153</td>\n",
       "      <td>16</td>\n",
       "    </tr>\n",
       "    <tr>\n",
       "      <th>poetry.Q</th>\n",
       "      <td>110</td>\n",
       "      <td>120</td>\n",
       "      <td>21</td>\n",
       "    </tr>\n",
       "    <tr>\n",
       "      <th>instruction.Q</th>\n",
       "      <td>107</td>\n",
       "      <td>82</td>\n",
       "      <td>7</td>\n",
       "    </tr>\n",
       "  </tbody>\n",
       "</table>\n",
       "</div>"
      ],
      "text/plain": [
       "Time Position  final  preposed  medial\n",
       "gendom                                \n",
       "prose.N          529       117      68\n",
       "prose.Q          243       164      63\n",
       "prophetic.Q      159       153      16\n",
       "poetry.Q         110       120      21\n",
       "instruction.Q    107        82       7"
      ]
     },
     "execution_count": 12,
     "metadata": {},
     "output_type": "execute_result"
    }
   ],
   "source": [
    "posg_ct = pivot_ct(\n",
    "    main_df,\n",
    "    'gendom',\n",
    "    'Time Position',\n",
    ")\n",
    "\n",
    "main_gen = ['prose.N', 'prose.Q', 'prophetic.Q', 'poetry.Q', 'instruction.Q']\n",
    "\n",
    "posg_ct = posg_ct.loc[main_gen]\n",
    "\n",
    "posg_pr = posg_ct.div(posg_ct.sum(1), 0).round(2)\n",
    "\n",
    "out.table(\n",
    "    posg_ct,\n",
    "    'posig_ct',\n",
    "    caption='Counts for Time Clause Positions by Genre',\n",
    ")"
   ]
  },
  {
   "cell_type": "code",
   "execution_count": 13,
   "metadata": {},
   "outputs": [
    {
     "data": {
      "text/html": [
       "<div>\n",
       "<style scoped>\n",
       "    .dataframe tbody tr th:only-of-type {\n",
       "        vertical-align: middle;\n",
       "    }\n",
       "\n",
       "    .dataframe tbody tr th {\n",
       "        vertical-align: top;\n",
       "    }\n",
       "\n",
       "    .dataframe thead th {\n",
       "        text-align: right;\n",
       "    }\n",
       "</style>\n",
       "<table border=\"1\" class=\"dataframe\">\n",
       "  <thead>\n",
       "    <tr style=\"text-align: right;\">\n",
       "      <th>Time Position</th>\n",
       "      <th>final</th>\n",
       "      <th>preposed</th>\n",
       "      <th>medial</th>\n",
       "    </tr>\n",
       "    <tr>\n",
       "      <th>gendom</th>\n",
       "      <th></th>\n",
       "      <th></th>\n",
       "      <th></th>\n",
       "    </tr>\n",
       "  </thead>\n",
       "  <tbody>\n",
       "    <tr>\n",
       "      <th>prose.N</th>\n",
       "      <td>74%</td>\n",
       "      <td>16%</td>\n",
       "      <td>10%</td>\n",
       "    </tr>\n",
       "    <tr>\n",
       "      <th>prose.Q</th>\n",
       "      <td>52%</td>\n",
       "      <td>35%</td>\n",
       "      <td>13%</td>\n",
       "    </tr>\n",
       "    <tr>\n",
       "      <th>prophetic.Q</th>\n",
       "      <td>48%</td>\n",
       "      <td>47%</td>\n",
       "      <td>5%</td>\n",
       "    </tr>\n",
       "    <tr>\n",
       "      <th>poetry.Q</th>\n",
       "      <td>44%</td>\n",
       "      <td>48%</td>\n",
       "      <td>8%</td>\n",
       "    </tr>\n",
       "    <tr>\n",
       "      <th>instruction.Q</th>\n",
       "      <td>55%</td>\n",
       "      <td>42%</td>\n",
       "      <td>4%</td>\n",
       "    </tr>\n",
       "  </tbody>\n",
       "</table>\n",
       "</div>"
      ],
      "text/plain": [
       "Time Position final preposed medial\n",
       "gendom                             \n",
       "prose.N         74%      16%    10%\n",
       "prose.Q         52%      35%    13%\n",
       "prophetic.Q     48%      47%     5%\n",
       "poetry.Q        44%      48%     8%\n",
       "instruction.Q   55%      42%     4%"
      ]
     },
     "execution_count": 13,
     "metadata": {},
     "output_type": "execute_result"
    }
   ],
   "source": [
    "out.table(\n",
    "    posg_pr.mul(100).round(2).astype(int).astype(str)+'%',\n",
    "    'posig_pr',\n",
    "    caption='Percentages for Time Clause Positions by Genre',\n",
    ")"
   ]
  },
  {
   "cell_type": "code",
   "execution_count": 14,
   "metadata": {},
   "outputs": [
    {
     "data": {
      "text/plain": [
       "'16'"
      ]
     },
     "execution_count": 14,
     "metadata": {},
     "output_type": "execute_result"
    }
   ],
   "source": [
    "out.number(\n",
    "    posg_pr.loc['prose.N']['preposed']*100,\n",
    "    'proseN_pre_pr',\n",
    ")"
   ]
  },
  {
   "cell_type": "code",
   "execution_count": 15,
   "metadata": {},
   "outputs": [
    {
     "data": {
      "text/plain": [
       "'35'"
      ]
     },
     "execution_count": 15,
     "metadata": {},
     "output_type": "execute_result"
    }
   ],
   "source": [
    "out.number(\n",
    "    posg_pr.loc['prose.Q']['preposed']*100,\n",
    "    'proseQ_pre_pr',\n",
    ")"
   ]
  },
  {
   "cell_type": "code",
   "execution_count": 16,
   "metadata": {},
   "outputs": [
    {
     "data": {
      "text/plain": [
       "'48'"
      ]
     },
     "execution_count": 16,
     "metadata": {},
     "output_type": "execute_result"
    }
   ],
   "source": [
    "out.number(\n",
    "    posg_pr.loc['poetry.Q']['preposed']*100,\n",
    "    'poetry_pre_pr',\n",
    ")"
   ]
  },
  {
   "cell_type": "code",
   "execution_count": 17,
   "metadata": {},
   "outputs": [
    {
     "data": {
      "text/plain": [
       "'47'"
      ]
     },
     "execution_count": 17,
     "metadata": {},
     "output_type": "execute_result"
    }
   ],
   "source": [
    "out.number(\n",
    "    posg_pr.loc['prophetic.Q']['preposed']*100,\n",
    "    'proph_pre_pr',\n",
    ")"
   ]
  },
  {
   "cell_type": "code",
   "execution_count": 18,
   "metadata": {},
   "outputs": [
    {
     "data": {
      "text/plain": [
       "'42'"
      ]
     },
     "execution_count": 18,
     "metadata": {},
     "output_type": "execute_result"
    }
   ],
   "source": [
    "out.number(\n",
    "    posg_pr.loc['instruction.Q']['preposed']*100,\n",
    "    'instr_pre_pr',\n",
    ")"
   ]
  },
  {
   "cell_type": "code",
   "execution_count": 19,
   "metadata": {},
   "outputs": [],
   "source": [
    "# todo: make 2x3 subplots with barplots but have the last row\n",
    "# omit a plot in order to plot 5 of them\n",
    "\n",
    "# https://stackoverflow.com/questions/26767281/position-5-subplots-in-matplotlib"
   ]
  },
  {
   "cell_type": "markdown",
   "metadata": {},
   "source": [
    "# Position Counts by Tokenlex"
   ]
  },
  {
   "cell_type": "code",
   "execution_count": 20,
   "metadata": {},
   "outputs": [
    {
     "name": "stdout",
     "output_type": "stream",
     "text": [
      "(89, 3)\n",
      "(36, 3)\n"
     ]
    },
    {
     "data": {
      "text/html": [
       "<div>\n",
       "<style scoped>\n",
       "    .dataframe tbody tr th:only-of-type {\n",
       "        vertical-align: middle;\n",
       "    }\n",
       "\n",
       "    .dataframe tbody tr th {\n",
       "        vertical-align: top;\n",
       "    }\n",
       "\n",
       "    .dataframe thead th {\n",
       "        text-align: right;\n",
       "    }\n",
       "</style>\n",
       "<table border=\"1\" class=\"dataframe\">\n",
       "  <thead>\n",
       "    <tr style=\"text-align: right;\">\n",
       "      <th>Time Position</th>\n",
       "      <th>final</th>\n",
       "      <th>preposed</th>\n",
       "      <th>medial</th>\n",
       "    </tr>\n",
       "  </thead>\n",
       "  <tbody>\n",
       "    <tr>\n",
       "      <th>\\texthebrew{מ׳.זמן}</th>\n",
       "      <td>153</td>\n",
       "      <td>82</td>\n",
       "      <td>14</td>\n",
       "    </tr>\n",
       "    <tr>\n",
       "      <th>\\texthebrew{ב.ה.זמן.הוא}</th>\n",
       "      <td>114</td>\n",
       "      <td>58</td>\n",
       "      <td>35</td>\n",
       "    </tr>\n",
       "    <tr>\n",
       "      <th>\\texthebrew{ב.זמן}</th>\n",
       "      <td>99</td>\n",
       "      <td>66</td>\n",
       "      <td>10</td>\n",
       "    </tr>\n",
       "    <tr>\n",
       "      <th>\\texthebrew{ה.זמן}</th>\n",
       "      <td>92</td>\n",
       "      <td>32</td>\n",
       "      <td>36</td>\n",
       "    </tr>\n",
       "    <tr>\n",
       "      <th>\\texthebrew{ל.זמן}</th>\n",
       "      <td>86</td>\n",
       "      <td>42</td>\n",
       "      <td>12</td>\n",
       "    </tr>\n",
       "    <tr>\n",
       "      <th>\\texthebrew{ב.ה.זמן}</th>\n",
       "      <td>90</td>\n",
       "      <td>23</td>\n",
       "      <td>15</td>\n",
       "    </tr>\n",
       "    <tr>\n",
       "      <th>\\texthebrew{ב.ה.זמן.ס׳}</th>\n",
       "      <td>60</td>\n",
       "      <td>42</td>\n",
       "      <td>8</td>\n",
       "    </tr>\n",
       "    <tr>\n",
       "      <th>\\texthebrew{עד.זמן}</th>\n",
       "      <td>62</td>\n",
       "      <td>44</td>\n",
       "      <td>0</td>\n",
       "    </tr>\n",
       "    <tr>\n",
       "      <th>\\texthebrew{זמן}</th>\n",
       "      <td>53</td>\n",
       "      <td>41</td>\n",
       "      <td>10</td>\n",
       "    </tr>\n",
       "    <tr>\n",
       "      <th>\\texthebrew{ב.מ׳.זמן}</th>\n",
       "      <td>33</td>\n",
       "      <td>34</td>\n",
       "      <td>3</td>\n",
       "    </tr>\n",
       "    <tr>\n",
       "      <th>\\texthebrew{עתה}</th>\n",
       "      <td>6</td>\n",
       "      <td>61</td>\n",
       "      <td>0</td>\n",
       "    </tr>\n",
       "    <tr>\n",
       "      <th>\\texthebrew{אחר.זמן}</th>\n",
       "      <td>30</td>\n",
       "      <td>34</td>\n",
       "      <td>1</td>\n",
       "    </tr>\n",
       "    <tr>\n",
       "      <th>\\texthebrew{ב.ה.זמן.היא}</th>\n",
       "      <td>31</td>\n",
       "      <td>22</td>\n",
       "      <td>5</td>\n",
       "    </tr>\n",
       "    <tr>\n",
       "      <th>\\texthebrew{עד.ה.זמן}</th>\n",
       "      <td>54</td>\n",
       "      <td>0</td>\n",
       "      <td>2</td>\n",
       "    </tr>\n",
       "    <tr>\n",
       "      <th>\\texthebrew{מן.זמן}</th>\n",
       "      <td>35</td>\n",
       "      <td>18</td>\n",
       "      <td>2</td>\n",
       "    </tr>\n",
       "    <tr>\n",
       "      <th>\\texthebrew{אז}</th>\n",
       "      <td>1</td>\n",
       "      <td>52</td>\n",
       "      <td>0</td>\n",
       "    </tr>\n",
       "    <tr>\n",
       "      <th>\\texthebrew{עד.ה.זמן.זה}</th>\n",
       "      <td>52</td>\n",
       "      <td>1</td>\n",
       "      <td>0</td>\n",
       "    </tr>\n",
       "    <tr>\n",
       "      <th>\\texthebrew{אחר}</th>\n",
       "      <td>0</td>\n",
       "      <td>31</td>\n",
       "      <td>0</td>\n",
       "    </tr>\n",
       "    <tr>\n",
       "      <th>\\texthebrew{לילה}</th>\n",
       "      <td>22</td>\n",
       "      <td>4</td>\n",
       "      <td>5</td>\n",
       "    </tr>\n",
       "    <tr>\n",
       "      <th>\\texthebrew{מחר}</th>\n",
       "      <td>4</td>\n",
       "      <td>13</td>\n",
       "      <td>4</td>\n",
       "    </tr>\n",
       "    <tr>\n",
       "      <th>\\texthebrew{ב.ה.זמן.הם}</th>\n",
       "      <td>7</td>\n",
       "      <td>12</td>\n",
       "      <td>0</td>\n",
       "    </tr>\n",
       "    <tr>\n",
       "      <th>\\texthebrew{ל.ה.זמן}</th>\n",
       "      <td>7</td>\n",
       "      <td>6</td>\n",
       "      <td>6</td>\n",
       "    </tr>\n",
       "    <tr>\n",
       "      <th>\\texthebrew{ה.זמן.זה}</th>\n",
       "      <td>7</td>\n",
       "      <td>9</td>\n",
       "      <td>2</td>\n",
       "    </tr>\n",
       "    <tr>\n",
       "      <th>\\texthebrew{ב.ה.זמן.זה}</th>\n",
       "      <td>12</td>\n",
       "      <td>4</td>\n",
       "      <td>0</td>\n",
       "    </tr>\n",
       "    <tr>\n",
       "      <th>\\texthebrew{כ.ה.זמן}</th>\n",
       "      <td>4</td>\n",
       "      <td>4</td>\n",
       "      <td>7</td>\n",
       "    </tr>\n",
       "  </tbody>\n",
       "</table>\n",
       "</div>"
      ],
      "text/plain": [
       "Time Position             final  preposed  medial\n",
       "\\texthebrew{מ׳.זמן}         153        82      14\n",
       "\\texthebrew{ב.ה.זמן.הוא}    114        58      35\n",
       "\\texthebrew{ב.זמן}           99        66      10\n",
       "\\texthebrew{ה.זמן}           92        32      36\n",
       "\\texthebrew{ל.זמן}           86        42      12\n",
       "\\texthebrew{ב.ה.זמן}         90        23      15\n",
       "\\texthebrew{ב.ה.זמן.ס׳}      60        42       8\n",
       "\\texthebrew{עד.זמן}          62        44       0\n",
       "\\texthebrew{זמן}             53        41      10\n",
       "\\texthebrew{ב.מ׳.זמן}        33        34       3\n",
       "\\texthebrew{עתה}              6        61       0\n",
       "\\texthebrew{אחר.זמן}         30        34       1\n",
       "\\texthebrew{ב.ה.זמן.היא}     31        22       5\n",
       "\\texthebrew{עד.ה.זמן}        54         0       2\n",
       "\\texthebrew{מן.זמן}          35        18       2\n",
       "\\texthebrew{אז}               1        52       0\n",
       "\\texthebrew{עד.ה.זמן.זה}     52         1       0\n",
       "\\texthebrew{אחר}              0        31       0\n",
       "\\texthebrew{לילה}            22         4       5\n",
       "\\texthebrew{מחר}              4        13       4\n",
       "\\texthebrew{ב.ה.זמן.הם}       7        12       0\n",
       "\\texthebrew{ל.ה.זמן}          7         6       6\n",
       "\\texthebrew{ה.זמן.זה}         7         9       2\n",
       "\\texthebrew{ב.ה.זמן.זה}      12         4       0\n",
       "\\texthebrew{כ.ה.זמן}          4         4       7"
      ]
     },
     "execution_count": 20,
     "metadata": {},
     "output_type": "execute_result"
    }
   ],
   "source": [
    "poslt_ct = pivot_ct(\n",
    "    main_df,\n",
    "    'lex_token',\n",
    "    'Time Position',\n",
    ")\n",
    "\n",
    "print(poslt_ct.shape)\n",
    "\n",
    "out.number(\n",
    "    poslt_ct.shape[0],\n",
    "    'shape_posltct_prefilt'\n",
    ")\n",
    "\n",
    "# filter out by occurrences at least 5\n",
    "poslt_ct = poslt_ct[poslt_ct.sum(1) >= 5]\n",
    "\n",
    "print(poslt_ct.shape)\n",
    "\n",
    "out.number(\n",
    "    poslt_ct.shape[0],\n",
    "    'shape_posltct_filt'\n",
    ")\n",
    "\n",
    "out.number(\n",
    "    poslt_ct.size,\n",
    "    'size_posltct_filt'\n",
    ")\n",
    "\n",
    "out.table(\n",
    "    poslt_ct.head(25),\n",
    "    'poslt_ct_25',\n",
    "    caption='Lexeme-Modifier Token Counts by Position in Clause (top 25)',\n",
    "    hebindex=True\n",
    ")"
   ]
  },
  {
   "cell_type": "code",
   "execution_count": 21,
   "metadata": {},
   "outputs": [
    {
     "data": {
      "text/html": [
       "<div>\n",
       "<style scoped>\n",
       "    .dataframe tbody tr th:only-of-type {\n",
       "        vertical-align: middle;\n",
       "    }\n",
       "\n",
       "    .dataframe tbody tr th {\n",
       "        vertical-align: top;\n",
       "    }\n",
       "\n",
       "    .dataframe thead th {\n",
       "        text-align: right;\n",
       "    }\n",
       "</style>\n",
       "<table border=\"1\" class=\"dataframe\">\n",
       "  <thead>\n",
       "    <tr style=\"text-align: right;\">\n",
       "      <th>Time Position</th>\n",
       "      <th>final</th>\n",
       "      <th>preposed</th>\n",
       "      <th>medial</th>\n",
       "    </tr>\n",
       "    <tr>\n",
       "      <th>lex_token</th>\n",
       "      <th></th>\n",
       "      <th></th>\n",
       "      <th></th>\n",
       "    </tr>\n",
       "  </thead>\n",
       "  <tbody>\n",
       "    <tr>\n",
       "      <th>מ׳.זמן</th>\n",
       "      <td>0.614458</td>\n",
       "      <td>0.329317</td>\n",
       "      <td>0.056225</td>\n",
       "    </tr>\n",
       "    <tr>\n",
       "      <th>ב.ה.זמן.הוא</th>\n",
       "      <td>0.550725</td>\n",
       "      <td>0.280193</td>\n",
       "      <td>0.169082</td>\n",
       "    </tr>\n",
       "    <tr>\n",
       "      <th>ב.זמן</th>\n",
       "      <td>0.565714</td>\n",
       "      <td>0.377143</td>\n",
       "      <td>0.057143</td>\n",
       "    </tr>\n",
       "    <tr>\n",
       "      <th>ה.זמן</th>\n",
       "      <td>0.575000</td>\n",
       "      <td>0.200000</td>\n",
       "      <td>0.225000</td>\n",
       "    </tr>\n",
       "    <tr>\n",
       "      <th>ל.זמן</th>\n",
       "      <td>0.614286</td>\n",
       "      <td>0.300000</td>\n",
       "      <td>0.085714</td>\n",
       "    </tr>\n",
       "  </tbody>\n",
       "</table>\n",
       "</div>"
      ],
      "text/plain": [
       "Time Position     final  preposed    medial\n",
       "lex_token                                  \n",
       "מ׳.זמן         0.614458  0.329317  0.056225\n",
       "ב.ה.זמן.הוא    0.550725  0.280193  0.169082\n",
       "ב.זמן          0.565714  0.377143  0.057143\n",
       "ה.זמן          0.575000  0.200000  0.225000\n",
       "ל.זמן          0.614286  0.300000  0.085714"
      ]
     },
     "execution_count": 21,
     "metadata": {},
     "output_type": "execute_result"
    }
   ],
   "source": [
    "poslt_pr = poslt_ct.div(poslt_ct.sum(1), 0)\n",
    "\n",
    "poslt_pr.head()"
   ]
  },
  {
   "cell_type": "code",
   "execution_count": 22,
   "metadata": {},
   "outputs": [
    {
     "data": {
      "text/html": [
       "<div>\n",
       "<style scoped>\n",
       "    .dataframe tbody tr th:only-of-type {\n",
       "        vertical-align: middle;\n",
       "    }\n",
       "\n",
       "    .dataframe tbody tr th {\n",
       "        vertical-align: top;\n",
       "    }\n",
       "\n",
       "    .dataframe thead th {\n",
       "        text-align: right;\n",
       "    }\n",
       "</style>\n",
       "<table border=\"1\" class=\"dataframe\">\n",
       "  <thead>\n",
       "    <tr style=\"text-align: right;\">\n",
       "      <th>Time Position</th>\n",
       "      <th>final</th>\n",
       "      <th>preposed</th>\n",
       "      <th>medial</th>\n",
       "    </tr>\n",
       "    <tr>\n",
       "      <th>lex_token</th>\n",
       "      <th></th>\n",
       "      <th></th>\n",
       "      <th></th>\n",
       "    </tr>\n",
       "  </thead>\n",
       "  <tbody>\n",
       "    <tr>\n",
       "      <th>מ׳.זמן</th>\n",
       "      <td>0.061210</td>\n",
       "      <td>-0.029575</td>\n",
       "      <td>-0.031635</td>\n",
       "    </tr>\n",
       "    <tr>\n",
       "      <th>ב.ה.זמן.הוא</th>\n",
       "      <td>-0.010734</td>\n",
       "      <td>-0.083348</td>\n",
       "      <td>0.094082</td>\n",
       "    </tr>\n",
       "    <tr>\n",
       "      <th>ב.זמן</th>\n",
       "      <td>0.005776</td>\n",
       "      <td>0.023659</td>\n",
       "      <td>-0.029435</td>\n",
       "    </tr>\n",
       "    <tr>\n",
       "      <th>ה.זמן</th>\n",
       "      <td>0.015773</td>\n",
       "      <td>-0.168073</td>\n",
       "      <td>0.152300</td>\n",
       "    </tr>\n",
       "    <tr>\n",
       "      <th>ל.זמן</th>\n",
       "      <td>0.057668</td>\n",
       "      <td>-0.059336</td>\n",
       "      <td>0.001668</td>\n",
       "    </tr>\n",
       "  </tbody>\n",
       "</table>\n",
       "</div>"
      ],
      "text/plain": [
       "Time Position     final  preposed    medial\n",
       "lex_token                                  \n",
       "מ׳.זמן         0.061210 -0.029575 -0.031635\n",
       "ב.ה.זמן.הוא   -0.010734 -0.083348  0.094082\n",
       "ב.זמן          0.005776  0.023659 -0.029435\n",
       "ה.זמן          0.015773 -0.168073  0.152300\n",
       "ל.זמן          0.057668 -0.059336  0.001668"
      ]
     },
     "execution_count": 22,
     "metadata": {},
     "output_type": "execute_result"
    }
   ],
   "source": [
    "poslt_dp = sig.apply_deltaP(poslt_ct, 0, 1)\n",
    "\n",
    "poslt_dp.head()"
   ]
  },
  {
   "cell_type": "code",
   "execution_count": 23,
   "metadata": {},
   "outputs": [],
   "source": [
    "poslt_pr_plot = poslt_pr.copy()\n",
    "\n",
    "poslt_pr_plot.index = [get_display(tok) for tok in poslt_pr_plot.index]"
   ]
  },
  {
   "cell_type": "code",
   "execution_count": 24,
   "metadata": {},
   "outputs": [
    {
     "data": {
      "image/png": "[encoded data removed]",
      "text/plain": [
       "<Figure size 720x720 with 4 Axes>"
      ]
     },
     "metadata": {
      "needs_background": "light"
     },
     "output_type": "display_data"
    }
   ],
   "source": [
    "g = sns.clustermap(\n",
    "    poslt_pr_plot, \n",
    "    dendrogram_ratio=(0.25, 0),\n",
    "    cmap='magma', \n",
    "    col_cluster=False,\n",
    "    cbar_pos=(1.07, .2, .03, .5),\n",
    "    annot=True,\n",
    "#    cbar_kws={'label': 'proportion'}\n",
    ")\n",
    "\n",
    "g.ax_heatmap.set_yticklabels(\n",
    "    g.ax_heatmap.get_ymajorticklabels(), \n",
    "    fontsize = 16,\n",
    "    fontfamily='SBL Biblit'\n",
    ")\n",
    "\n",
    "g.ax_heatmap.set_xlabel('Time Position', size=12)\n",
    "\n",
    "g.ax_heatmap.set_xticklabels(\n",
    "    g.ax_heatmap.get_xmajorticklabels(), \n",
    "    fontsize = 12,\n",
    ")\n",
    "\n",
    "g.ax_cbar.set_ylabel('proportion', size=12, rotation=270, labelpad=25)\n",
    "\n",
    "out.plot(\n",
    "    'clust_position_lextok',\n",
    ")\n"
   ]
  },
  {
   "cell_type": "markdown",
   "metadata": {},
   "source": [
    "### Assign Clusters for Later Reference"
   ]
  },
  {
   "cell_type": "code",
   "execution_count": 25,
   "metadata": {},
   "outputs": [
    {
     "data": {
      "text/html": [
       "<div>\n",
       "<style scoped>\n",
       "    .dataframe tbody tr th:only-of-type {\n",
       "        vertical-align: middle;\n",
       "    }\n",
       "\n",
       "    .dataframe tbody tr th {\n",
       "        vertical-align: top;\n",
       "    }\n",
       "\n",
       "    .dataframe thead th {\n",
       "        text-align: right;\n",
       "    }\n",
       "</style>\n",
       "<table border=\"1\" class=\"dataframe\">\n",
       "  <thead>\n",
       "    <tr style=\"text-align: right;\">\n",
       "      <th>Time Position</th>\n",
       "      <th>final</th>\n",
       "      <th>preposed</th>\n",
       "      <th>medial</th>\n",
       "    </tr>\n",
       "  </thead>\n",
       "  <tbody>\n",
       "    <tr>\n",
       "      <th>מחר</th>\n",
       "      <td>0.190476</td>\n",
       "      <td>0.619048</td>\n",
       "      <td>0.190476</td>\n",
       "    </tr>\n",
       "    <tr>\n",
       "      <th>ב.ה.זמן.המה</th>\n",
       "      <td>0.200000</td>\n",
       "      <td>0.800000</td>\n",
       "      <td>0.000000</td>\n",
       "    </tr>\n",
       "    <tr>\n",
       "      <th>עתה</th>\n",
       "      <td>0.089552</td>\n",
       "      <td>0.910448</td>\n",
       "      <td>0.000000</td>\n",
       "    </tr>\n",
       "    <tr>\n",
       "      <th>אז</th>\n",
       "      <td>0.018868</td>\n",
       "      <td>0.981132</td>\n",
       "      <td>0.000000</td>\n",
       "    </tr>\n",
       "    <tr>\n",
       "      <th>אחר</th>\n",
       "      <td>0.000000</td>\n",
       "      <td>1.000000</td>\n",
       "      <td>0.000000</td>\n",
       "    </tr>\n",
       "  </tbody>\n",
       "</table>\n",
       "</div>"
      ],
      "text/plain": [
       "Time Position     final  preposed    medial\n",
       "מחר            0.190476  0.619048  0.190476\n",
       "ב.ה.זמן.המה    0.200000  0.800000  0.000000\n",
       "עתה            0.089552  0.910448  0.000000\n",
       "אז             0.018868  0.981132  0.000000\n",
       "אחר            0.000000  1.000000  0.000000"
      ]
     },
     "execution_count": 25,
     "metadata": {},
     "output_type": "execute_result"
    }
   ],
   "source": [
    "# retrieve data in its sorted form\n",
    "poslt_pr2 = g.data2d\n",
    "poslt_pr2.index = [get_display(h) for h in poslt_pr2.index]\n",
    "poslt_pr2.head()"
   ]
  },
  {
   "cell_type": "markdown",
   "metadata": {},
   "source": [
    "### Cluster 1"
   ]
  },
  {
   "cell_type": "code",
   "execution_count": 26,
   "metadata": {},
   "outputs": [
    {
     "data": {
      "text/html": [
       "<div>\n",
       "<style scoped>\n",
       "    .dataframe tbody tr th:only-of-type {\n",
       "        vertical-align: middle;\n",
       "    }\n",
       "\n",
       "    .dataframe tbody tr th {\n",
       "        vertical-align: top;\n",
       "    }\n",
       "\n",
       "    .dataframe thead th {\n",
       "        text-align: right;\n",
       "    }\n",
       "</style>\n",
       "<table border=\"1\" class=\"dataframe\">\n",
       "  <thead>\n",
       "    <tr style=\"text-align: right;\">\n",
       "      <th>Time Position</th>\n",
       "      <th>final</th>\n",
       "      <th>preposed</th>\n",
       "      <th>medial</th>\n",
       "    </tr>\n",
       "  </thead>\n",
       "  <tbody>\n",
       "    <tr>\n",
       "      <th>מחר</th>\n",
       "      <td>0.190476</td>\n",
       "      <td>0.619048</td>\n",
       "      <td>0.190476</td>\n",
       "    </tr>\n",
       "    <tr>\n",
       "      <th>ב.ה.זמן.המה</th>\n",
       "      <td>0.200000</td>\n",
       "      <td>0.800000</td>\n",
       "      <td>0.000000</td>\n",
       "    </tr>\n",
       "    <tr>\n",
       "      <th>עתה</th>\n",
       "      <td>0.089552</td>\n",
       "      <td>0.910448</td>\n",
       "      <td>0.000000</td>\n",
       "    </tr>\n",
       "    <tr>\n",
       "      <th>אז</th>\n",
       "      <td>0.018868</td>\n",
       "      <td>0.981132</td>\n",
       "      <td>0.000000</td>\n",
       "    </tr>\n",
       "    <tr>\n",
       "      <th>אחר</th>\n",
       "      <td>0.000000</td>\n",
       "      <td>1.000000</td>\n",
       "      <td>0.000000</td>\n",
       "    </tr>\n",
       "  </tbody>\n",
       "</table>\n",
       "</div>"
      ],
      "text/plain": [
       "Time Position     final  preposed    medial\n",
       "מחר            0.190476  0.619048  0.190476\n",
       "ב.ה.זמן.המה    0.200000  0.800000  0.000000\n",
       "עתה            0.089552  0.910448  0.000000\n",
       "אז             0.018868  0.981132  0.000000\n",
       "אחר            0.000000  1.000000  0.000000"
      ]
     },
     "execution_count": 26,
     "metadata": {},
     "output_type": "execute_result"
    }
   ],
   "source": [
    "cluster1 = poslt_pr2.loc['מחר':'אחר']\n",
    "\n",
    "clust1_df = main_df[main_df.lex_token.isin(cluster1.index)]\n",
    "\n",
    "cluster1"
   ]
  },
  {
   "cell_type": "code",
   "execution_count": 27,
   "metadata": {},
   "outputs": [
    {
     "data": {
      "text/plain": [
       "['מחר', 'ב.ה.זמן.המה', 'עתה', 'אז', 'אחר']"
      ]
     },
     "execution_count": 27,
     "metadata": {},
     "output_type": "execute_result"
    }
   ],
   "source": [
    "cluster1.index.to_list()"
   ]
  },
  {
   "cell_type": "code",
   "execution_count": 28,
   "metadata": {},
   "outputs": [
    {
     "data": {
      "text/plain": [
       "(177, 72)"
      ]
     },
     "execution_count": 28,
     "metadata": {},
     "output_type": "execute_result"
    }
   ],
   "source": [
    "clust1_df.shape"
   ]
  },
  {
   "cell_type": "code",
   "execution_count": 29,
   "metadata": {},
   "outputs": [
    {
     "data": {
      "text/plain": [
       "'86'"
      ]
     },
     "execution_count": 29,
     "metadata": {},
     "output_type": "execute_result"
    }
   ],
   "source": [
    "out.number(\n",
    "    cluster1['preposed'].mean() * 100,\n",
    "    'pos_clust1_premean',\n",
    ")"
   ]
  },
  {
   "cell_type": "markdown",
   "metadata": {},
   "source": [
    "### Cluster 2"
   ]
  },
  {
   "cell_type": "code",
   "execution_count": 28,
   "metadata": {},
   "outputs": [
    {
     "data": {
      "text/html": [
       "<div>\n",
       "<style scoped>\n",
       "    .dataframe tbody tr th:only-of-type {\n",
       "        vertical-align: middle;\n",
       "    }\n",
       "\n",
       "    .dataframe tbody tr th {\n",
       "        vertical-align: top;\n",
       "    }\n",
       "\n",
       "    .dataframe thead th {\n",
       "        text-align: right;\n",
       "    }\n",
       "</style>\n",
       "<table border=\"1\" class=\"dataframe\">\n",
       "  <thead>\n",
       "    <tr style=\"text-align: right;\">\n",
       "      <th>Time Position</th>\n",
       "      <th>final</th>\n",
       "      <th>preposed</th>\n",
       "      <th>medial</th>\n",
       "    </tr>\n",
       "  </thead>\n",
       "  <tbody>\n",
       "    <tr>\n",
       "      <th>ל.ה.זמן</th>\n",
       "      <td>0.368421</td>\n",
       "      <td>0.315789</td>\n",
       "      <td>0.315789</td>\n",
       "    </tr>\n",
       "    <tr>\n",
       "      <th>כ.ה.זמן</th>\n",
       "      <td>0.266667</td>\n",
       "      <td>0.266667</td>\n",
       "      <td>0.466667</td>\n",
       "    </tr>\n",
       "  </tbody>\n",
       "</table>\n",
       "</div>"
      ],
      "text/plain": [
       "Time Position     final  preposed    medial\n",
       "ל.ה.זמן        0.368421  0.315789  0.315789\n",
       "כ.ה.זמן        0.266667  0.266667  0.466667"
      ]
     },
     "execution_count": 28,
     "metadata": {},
     "output_type": "execute_result"
    }
   ],
   "source": [
    "cluster2 = poslt_pr2.loc['ל.ה.זמן': 'כ.ה.זמן']\n",
    "\n",
    "cluster2"
   ]
  },
  {
   "cell_type": "code",
   "execution_count": 29,
   "metadata": {},
   "outputs": [
    {
     "name": "stdout",
     "output_type": "stream",
     "text": [
      "(34, 72)\n"
     ]
    },
    {
     "data": {
      "text/html": [
       "<div>\n",
       "<style scoped>\n",
       "    .dataframe tbody tr th:only-of-type {\n",
       "        vertical-align: middle;\n",
       "    }\n",
       "\n",
       "    .dataframe tbody tr th {\n",
       "        vertical-align: top;\n",
       "    }\n",
       "\n",
       "    .dataframe thead th {\n",
       "        text-align: right;\n",
       "    }\n",
       "</style>\n",
       "<table border=\"1\" class=\"dataframe\">\n",
       "  <thead>\n",
       "    <tr style=\"text-align: right;\">\n",
       "      <th>verbtense</th>\n",
       "      <th>IMPV</th>\n",
       "      <th>MOD shall</th>\n",
       "      <th>FUT</th>\n",
       "      <th>PAST</th>\n",
       "      <th>PRES</th>\n",
       "      <th>MOD let</th>\n",
       "      <th>PRES PART</th>\n",
       "    </tr>\n",
       "  </thead>\n",
       "  <tbody>\n",
       "    <tr>\n",
       "      <th>\\texthebrew{ל.ה.זמן}</th>\n",
       "      <td>4</td>\n",
       "      <td>6</td>\n",
       "      <td>2</td>\n",
       "      <td>3</td>\n",
       "      <td>3</td>\n",
       "      <td>0</td>\n",
       "      <td>1</td>\n",
       "    </tr>\n",
       "    <tr>\n",
       "      <th>\\texthebrew{כ.ה.זמן}</th>\n",
       "      <td>6</td>\n",
       "      <td>1</td>\n",
       "      <td>4</td>\n",
       "      <td>0</td>\n",
       "      <td>0</td>\n",
       "      <td>2</td>\n",
       "      <td>0</td>\n",
       "    </tr>\n",
       "  </tbody>\n",
       "</table>\n",
       "</div>"
      ],
      "text/plain": [
       "verbtense             IMPV  MOD shall  FUT  PAST  PRES  MOD let  PRES PART\n",
       "\\texthebrew{ל.ה.זמן}     4          6    2     3     3        0          1\n",
       "\\texthebrew{כ.ה.זמן}     6          1    4     0     0        2          0"
      ]
     },
     "execution_count": 29,
     "metadata": {},
     "output_type": "execute_result"
    }
   ],
   "source": [
    "toget=[\n",
    "    'ל.ה.זמן',\n",
    "    'כ.ה.זמן'\n",
    "]\n",
    "\n",
    "clust2_df = main_df[main_df.lex_token.isin(toget)]\n",
    "print(clust2_df.shape)\n",
    "\n",
    "clust2_ct = pivot_ct(\n",
    "    clust2_df,\n",
    "    'lex_token',\n",
    "    'verbtense',\n",
    ")\n",
    "\n",
    "clust2_pr = clust2_ct.div(clust2_ct.sum(1), 0).round(2)\n",
    "\n",
    "out.table(\n",
    "    clust2_ct,\n",
    "    'clust2_tense_ct',\n",
    "    caption='English Verb Translation Counts with \\texthebrew{ל.ה.זמן} and \\texthebrew{כ.ה.זמן}',\n",
    "    hebindex=True,\n",
    ")"
   ]
  },
  {
   "cell_type": "code",
   "execution_count": 30,
   "metadata": {},
   "outputs": [
    {
     "data": {
      "text/html": [
       "<div>\n",
       "<style scoped>\n",
       "    .dataframe tbody tr th:only-of-type {\n",
       "        vertical-align: middle;\n",
       "    }\n",
       "\n",
       "    .dataframe tbody tr th {\n",
       "        vertical-align: top;\n",
       "    }\n",
       "\n",
       "    .dataframe thead th {\n",
       "        text-align: right;\n",
       "    }\n",
       "</style>\n",
       "<table border=\"1\" class=\"dataframe\">\n",
       "  <thead>\n",
       "    <tr style=\"text-align: right;\">\n",
       "      <th>verbtense</th>\n",
       "      <th>IMPV</th>\n",
       "      <th>MOD shall</th>\n",
       "      <th>FUT</th>\n",
       "      <th>PAST</th>\n",
       "      <th>PRES</th>\n",
       "      <th>MOD let</th>\n",
       "      <th>PRES PART</th>\n",
       "    </tr>\n",
       "  </thead>\n",
       "  <tbody>\n",
       "    <tr>\n",
       "      <th>\\texthebrew{ל.ה.זמן}</th>\n",
       "      <td>21%</td>\n",
       "      <td>32%</td>\n",
       "      <td>11%</td>\n",
       "      <td>16%</td>\n",
       "      <td>16%</td>\n",
       "      <td>0%</td>\n",
       "      <td>5%</td>\n",
       "    </tr>\n",
       "    <tr>\n",
       "      <th>\\texthebrew{כ.ה.זמן}</th>\n",
       "      <td>46%</td>\n",
       "      <td>8%</td>\n",
       "      <td>31%</td>\n",
       "      <td>0%</td>\n",
       "      <td>0%</td>\n",
       "      <td>15%</td>\n",
       "      <td>0%</td>\n",
       "    </tr>\n",
       "  </tbody>\n",
       "</table>\n",
       "</div>"
      ],
      "text/plain": [
       "verbtense            IMPV MOD shall  FUT PAST PRES MOD let PRES PART\n",
       "\\texthebrew{ל.ה.זמן}  21%       32%  11%  16%  16%      0%        5%\n",
       "\\texthebrew{כ.ה.זמן}  46%        8%  31%   0%   0%     15%        0%"
      ]
     },
     "execution_count": 30,
     "metadata": {},
     "output_type": "execute_result"
    }
   ],
   "source": [
    "out.table(\n",
    "    clust2_pr.mul(100).round().astype(int).astype(str)+'%',\n",
    "    'clust2_tense_pr',\n",
    "    caption='English Verb Translation Percents with \\texthebrew{ל.ה.זמן} and \\texthebrew{כ.ה.זמן}',\n",
    "    hebindex=True,\n",
    ")"
   ]
  },
  {
   "cell_type": "code",
   "execution_count": 31,
   "metadata": {},
   "outputs": [
    {
     "name": "stdout",
     "output_type": "stream",
     "text": [
      "--------------------\n",
      "ל.ה.זמן\n",
      "\n",
      "final\n",
      "showing 5 of 7\n"
     ]
    },
    {
     "data": {
      "text/html": [
       "<style  type=\"text/css\" >\n",
       "#T_200f9_row0_col1,#T_200f9_row0_col2,#T_200f9_row1_col1,#T_200f9_row1_col2,#T_200f9_row2_col1,#T_200f9_row2_col2,#T_200f9_row3_col1,#T_200f9_row3_col2,#T_200f9_row4_col1,#T_200f9_row4_col2{\n",
       "            font-size: 20px;\n",
       "             font-family:  Times New Roman;\n",
       "             text-align:  right;\n",
       "             max-width:  500px;\n",
       "        }</style><table id=\"T_200f9_\" ><thead>    <tr>        <th class=\"blank level0\" ></th>        <th class=\"col_heading level0 col0\" >verse</th>        <th class=\"col_heading level0 col1\" >clause</th>        <th class=\"col_heading level0 col2\" >verb_utf8</th>        <th class=\"col_heading level0 col3\" >verbform</th>        <th class=\"col_heading level0 col4\" >verbtense</th>    </tr>    <tr>        <th class=\"index_name level0\" >node</th>        <th class=\"blank\" ></th>        <th class=\"blank\" ></th>        <th class=\"blank\" ></th>        <th class=\"blank\" ></th>        <th class=\"blank\" ></th>    </tr></thead><tbody>\n",
       "                <tr>\n",
       "                        <th id=\"T_200f9_level0_row0\" class=\"row_heading level0 row0\" >429367</th>\n",
       "                        <td id=\"T_200f9_row0_col0\" class=\"data row0 col0\" >Genesis 21:2</td>\n",
       "                        <td id=\"T_200f9_row0_col1\" class=\"data row0 col1\" >וַתֵּ֨לֶד שָׂרָ֧ה לְאַבְרָהָ֛ם בֵּ֖ן לִזְקֻנָ֑יו לַמֹּועֵ֕ד </td>\n",
       "                        <td id=\"T_200f9_row0_col2\" class=\"data row0 col2\" >ילד</td>\n",
       "                        <td id=\"T_200f9_row0_col3\" class=\"data row0 col3\" >wayq</td>\n",
       "                        <td id=\"T_200f9_row0_col4\" class=\"data row0 col4\" >PAST</td>\n",
       "            </tr>\n",
       "            <tr>\n",
       "                        <th id=\"T_200f9_level0_row1\" class=\"row_heading level0 row1\" >446673</th>\n",
       "                        <td id=\"T_200f9_row1_col0\" class=\"data row1 col0\" >Deuteronomy 16:4</td>\n",
       "                        <td id=\"T_200f9_row1_col1\" class=\"data row1 col1\" >וְלֹא־יָלִ֣ין מִן־הַבָּשָׂ֗ר לַבֹּֽקֶר׃ </td>\n",
       "                        <td id=\"T_200f9_row1_col2\" class=\"data row1 col2\" >לין</td>\n",
       "                        <td id=\"T_200f9_row1_col3\" class=\"data row1 col3\" >yqtl</td>\n",
       "                        <td id=\"T_200f9_row1_col4\" class=\"data row1 col4\" >MOD shall</td>\n",
       "            </tr>\n",
       "            <tr>\n",
       "                        <th id=\"T_200f9_level0_row2\" class=\"row_heading level0 row2\" >470610</th>\n",
       "                        <td id=\"T_200f9_row2_col0\" class=\"data row2 col0\" >Isaiah 33:2</td>\n",
       "                        <td id=\"T_200f9_row2_col1\" class=\"data row2 col1\" >הֱיֵ֤ה זְרֹעָם֙ לַבְּקָרִ֔ים </td>\n",
       "                        <td id=\"T_200f9_row2_col2\" class=\"data row2 col2\" >היה</td>\n",
       "                        <td id=\"T_200f9_row2_col3\" class=\"data row2 col3\" >impv</td>\n",
       "                        <td id=\"T_200f9_row2_col4\" class=\"data row2 col4\" >IMPV</td>\n",
       "            </tr>\n",
       "            <tr>\n",
       "                        <th id=\"T_200f9_level0_row3\" class=\"row_heading level0 row3\" >493009</th>\n",
       "                        <td id=\"T_200f9_row3_col0\" class=\"data row3 col0\" >Psalms 59:7</td>\n",
       "                        <td id=\"T_200f9_row3_col1\" class=\"data row3 col1\" >יָשׁ֣וּבוּ לָ֭עֶרֶב </td>\n",
       "                        <td id=\"T_200f9_row3_col2\" class=\"data row3 col2\" >שׁוב</td>\n",
       "                        <td id=\"T_200f9_row3_col3\" class=\"data row3 col3\" >yqtl</td>\n",
       "                        <td id=\"T_200f9_row3_col4\" class=\"data row3 col4\" >PRES</td>\n",
       "            </tr>\n",
       "            <tr>\n",
       "                        <th id=\"T_200f9_level0_row4\" class=\"row_heading level0 row4\" >493037</th>\n",
       "                        <td id=\"T_200f9_row4_col0\" class=\"data row4 col0\" >Psalms 59:15</td>\n",
       "                        <td id=\"T_200f9_row4_col1\" class=\"data row4 col1\" >וְיָשׁ֣וּבוּ לָ֭עֶרֶב </td>\n",
       "                        <td id=\"T_200f9_row4_col2\" class=\"data row4 col2\" >שׁוב</td>\n",
       "                        <td id=\"T_200f9_row4_col3\" class=\"data row4 col3\" >yqtl</td>\n",
       "                        <td id=\"T_200f9_row4_col4\" class=\"data row4 col4\" >PRES</td>\n",
       "            </tr>\n",
       "    </tbody></table>"
      ],
      "text/plain": [
       "<pandas.io.formats.style.Styler at 0x7fcf26ce6550>"
      ]
     },
     "metadata": {},
     "output_type": "display_data"
    },
    {
     "name": "stdout",
     "output_type": "stream",
     "text": [
      "preposed\n",
      "showing 5 of 6\n"
     ]
    },
    {
     "data": {
      "text/html": [
       "<style  type=\"text/css\" >\n",
       "#T_b90f8_row0_col1,#T_b90f8_row0_col2,#T_b90f8_row1_col1,#T_b90f8_row1_col2,#T_b90f8_row2_col1,#T_b90f8_row2_col2,#T_b90f8_row3_col1,#T_b90f8_row3_col2,#T_b90f8_row4_col1,#T_b90f8_row4_col2{\n",
       "            font-size: 20px;\n",
       "             font-family:  Times New Roman;\n",
       "             text-align:  right;\n",
       "             max-width:  500px;\n",
       "        }</style><table id=\"T_b90f8_\" ><thead>    <tr>        <th class=\"blank level0\" ></th>        <th class=\"col_heading level0 col0\" >verse</th>        <th class=\"col_heading level0 col1\" >clause</th>        <th class=\"col_heading level0 col2\" >verb_utf8</th>        <th class=\"col_heading level0 col3\" >verbform</th>        <th class=\"col_heading level0 col4\" >verbtense</th>    </tr>    <tr>        <th class=\"index_name level0\" >node</th>        <th class=\"blank\" ></th>        <th class=\"blank\" ></th>        <th class=\"blank\" ></th>        <th class=\"blank\" ></th>        <th class=\"blank\" ></th>    </tr></thead><tbody>\n",
       "                <tr>\n",
       "                        <th id=\"T_b90f8_level0_row0\" class=\"row_heading level0 row0\" >433410</th>\n",
       "                        <td id=\"T_b90f8_row0_col0\" class=\"data row0 col0\" >Genesis 49:27</td>\n",
       "                        <td id=\"T_b90f8_row0_col1\" class=\"data row0 col1\" >וְלָעֶ֖רֶב יְחַלֵּ֥ק שָׁלָֽל׃ </td>\n",
       "                        <td id=\"T_b90f8_row0_col2\" class=\"data row0 col2\" >חלק</td>\n",
       "                        <td id=\"T_b90f8_row0_col3\" class=\"data row0 col3\" >yqtl</td>\n",
       "                        <td id=\"T_b90f8_row0_col4\" class=\"data row0 col4\" >PRES PART</td>\n",
       "            </tr>\n",
       "            <tr>\n",
       "                        <th id=\"T_b90f8_level0_row1\" class=\"row_heading level0 row1\" >494780</th>\n",
       "                        <td id=\"T_b90f8_row1_col0\" class=\"data row1 col0\" >Psalms 90:6</td>\n",
       "                        <td id=\"T_b90f8_row1_col1\" class=\"data row1 col1\" >לָ֝עֶ֗רֶב יְמֹולֵ֥ל </td>\n",
       "                        <td id=\"T_b90f8_row1_col2\" class=\"data row1 col2\" >מלל</td>\n",
       "                        <td id=\"T_b90f8_row1_col3\" class=\"data row1 col3\" >yqtl</td>\n",
       "                        <td id=\"T_b90f8_row1_col4\" class=\"data row1 col4\" >PRES</td>\n",
       "            </tr>\n",
       "            <tr>\n",
       "                        <th id=\"T_b90f8_level0_row2\" class=\"row_heading level0 row2\" >495182</th>\n",
       "                        <td id=\"T_b90f8_row2_col0\" class=\"data row2 col0\" >Psalms 101:8</td>\n",
       "                        <td id=\"T_b90f8_row2_col1\" class=\"data row2 col1\" >לַבְּקָרִ֗ים אַצְמִ֥ית כָּל־רִשְׁעֵי־אָ֑רֶץ </td>\n",
       "                        <td id=\"T_b90f8_row2_col2\" class=\"data row2 col2\" >צמת</td>\n",
       "                        <td id=\"T_b90f8_row2_col3\" class=\"data row2 col3\" >yqtl</td>\n",
       "                        <td id=\"T_b90f8_row2_col4\" class=\"data row2 col4\" >FUT</td>\n",
       "            </tr>\n",
       "            <tr>\n",
       "                        <th id=\"T_b90f8_level0_row3\" class=\"row_heading level0 row3\" >504653</th>\n",
       "                        <td id=\"T_b90f8_row3_col0\" class=\"data row3 col0\" >Ecclesiastes 11:6</td>\n",
       "                        <td id=\"T_b90f8_row3_col1\" class=\"data row3 col1\" >וְלָעֶ֖רֶב אַל־תַּנַּ֣ח יָדֶ֑ךָ </td>\n",
       "                        <td id=\"T_b90f8_row3_col2\" class=\"data row3 col2\" >נוח</td>\n",
       "                        <td id=\"T_b90f8_row3_col3\" class=\"data row3 col3\" >jussF</td>\n",
       "                        <td id=\"T_b90f8_row3_col4\" class=\"data row3 col4\" >PAST</td>\n",
       "            </tr>\n",
       "            <tr>\n",
       "                        <th id=\"T_b90f8_level0_row4\" class=\"row_heading level0 row4\" >507601</th>\n",
       "                        <td id=\"T_b90f8_row4_col0\" class=\"data row4 col0\" >Daniel 11:29</td>\n",
       "                        <td id=\"T_b90f8_row4_col1\" class=\"data row4 col1\" >לַמֹּועֵ֥ד יָשׁ֖וּב </td>\n",
       "                        <td id=\"T_b90f8_row4_col2\" class=\"data row4 col2\" >שׁוב</td>\n",
       "                        <td id=\"T_b90f8_row4_col3\" class=\"data row4 col3\" >yqtl</td>\n",
       "                        <td id=\"T_b90f8_row4_col4\" class=\"data row4 col4\" >MOD shall</td>\n",
       "            </tr>\n",
       "    </tbody></table>"
      ],
      "text/plain": [
       "<pandas.io.formats.style.Styler at 0x7fcf26f76370>"
      ]
     },
     "metadata": {},
     "output_type": "display_data"
    },
    {
     "name": "stdout",
     "output_type": "stream",
     "text": [
      "medial\n",
      "showing 5 of 6\n"
     ]
    },
    {
     "data": {
      "text/html": [
       "<style  type=\"text/css\" >\n",
       "#T_b9dfd_row0_col1,#T_b9dfd_row0_col2,#T_b9dfd_row1_col1,#T_b9dfd_row1_col2,#T_b9dfd_row2_col1,#T_b9dfd_row2_col2,#T_b9dfd_row3_col1,#T_b9dfd_row3_col2,#T_b9dfd_row4_col1,#T_b9dfd_row4_col2{\n",
       "            font-size: 20px;\n",
       "             font-family:  Times New Roman;\n",
       "             text-align:  right;\n",
       "             max-width:  500px;\n",
       "        }</style><table id=\"T_b9dfd_\" ><thead>    <tr>        <th class=\"blank level0\" ></th>        <th class=\"col_heading level0 col0\" >verse</th>        <th class=\"col_heading level0 col1\" >clause</th>        <th class=\"col_heading level0 col2\" >verb_utf8</th>        <th class=\"col_heading level0 col3\" >verbform</th>        <th class=\"col_heading level0 col4\" >verbtense</th>    </tr>    <tr>        <th class=\"index_name level0\" >node</th>        <th class=\"blank\" ></th>        <th class=\"blank\" ></th>        <th class=\"blank\" ></th>        <th class=\"blank\" ></th>        <th class=\"blank\" ></th>    </tr></thead><tbody>\n",
       "                <tr>\n",
       "                        <th id=\"T_b9dfd_level0_row0\" class=\"row_heading level0 row0\" >436675</th>\n",
       "                        <td id=\"T_b9dfd_row0_col0\" class=\"data row0 col0\" >Exodus 29:36</td>\n",
       "                        <td id=\"T_b9dfd_row0_col1\" class=\"data row0 col1\" >וּפַ֨ר חַטָּ֜את תַּעֲשֶׂ֤ה לַיֹּום֙ עַל־הַכִּפֻּרִ֔ים </td>\n",
       "                        <td id=\"T_b9dfd_row0_col2\" class=\"data row0 col2\" >עשׂה</td>\n",
       "                        <td id=\"T_b9dfd_row0_col3\" class=\"data row0 col3\" >yqtl</td>\n",
       "                        <td id=\"T_b9dfd_row0_col4\" class=\"data row0 col4\" >MOD shall</td>\n",
       "            </tr>\n",
       "            <tr>\n",
       "                        <th id=\"T_b9dfd_level0_row1\" class=\"row_heading level0 row1\" >485269</th>\n",
       "                        <td id=\"T_b9dfd_row1_col0\" class=\"data row1 col0\" >Ezekiel 46:13</td>\n",
       "                        <td id=\"T_b9dfd_row1_col1\" class=\"data row1 col1\" >וְכֶ֨בֶשׂ בֶּן־שְׁנָתֹ֜ו תָּמִ֗ים תַּעֲשֶׂ֥ה עֹולָ֛ה לַיֹּ֖ום לַֽיהֹוָ֑ה </td>\n",
       "                        <td id=\"T_b9dfd_row1_col2\" class=\"data row1 col2\" >עשׂה</td>\n",
       "                        <td id=\"T_b9dfd_row1_col3\" class=\"data row1 col3\" >yqtl</td>\n",
       "                        <td id=\"T_b9dfd_row1_col4\" class=\"data row1 col4\" >MOD shall</td>\n",
       "            </tr>\n",
       "            <tr>\n",
       "                        <th id=\"T_b9dfd_level0_row2\" class=\"row_heading level0 row2\" >486859</th>\n",
       "                        <td id=\"T_b9dfd_row2_col0\" class=\"data row2 col0\" >Amos 4:4</td>\n",
       "                        <td id=\"T_b9dfd_row2_col1\" class=\"data row2 col1\" >וְהָבִ֤יאוּ לַבֹּ֨קֶר֙ זִבְחֵיכֶ֔ם </td>\n",
       "                        <td id=\"T_b9dfd_row2_col2\" class=\"data row2 col2\" >בוא</td>\n",
       "                        <td id=\"T_b9dfd_row2_col3\" class=\"data row2 col3\" >impv</td>\n",
       "                        <td id=\"T_b9dfd_row2_col4\" class=\"data row2 col4\" >IMPV</td>\n",
       "            </tr>\n",
       "            <tr>\n",
       "                        <th id=\"T_b9dfd_level0_row3\" class=\"row_heading level0 row3\" >490180</th>\n",
       "                        <td id=\"T_b9dfd_row3_col0\" class=\"data row3 col0\" >Malachi 3:17</td>\n",
       "                        <td id=\"T_b9dfd_row3_col1\" class=\"data row3 col1\" >וְהָ֣יוּ לִ֗י לַיֹּ֕ום סְגֻלָּ֑ה </td>\n",
       "                        <td id=\"T_b9dfd_row3_col2\" class=\"data row3 col2\" >היה</td>\n",
       "                        <td id=\"T_b9dfd_row3_col3\" class=\"data row3 col3\" >wqtl</td>\n",
       "                        <td id=\"T_b9dfd_row3_col4\" class=\"data row3 col4\" >MOD shall</td>\n",
       "            </tr>\n",
       "            <tr>\n",
       "                        <th id=\"T_b9dfd_level0_row4\" class=\"row_heading level0 row4\" >493045</th>\n",
       "                        <td id=\"T_b9dfd_row4_col0\" class=\"data row4 col0\" >Psalms 59:17</td>\n",
       "                        <td id=\"T_b9dfd_row4_col1\" class=\"data row4 col1\" >וַאֲרַנֵּ֥ן לַבֹּ֗קֶר חַ֫סְדֶּ֥ךָ </td>\n",
       "                        <td id=\"T_b9dfd_row4_col2\" class=\"data row4 col2\" >רנן</td>\n",
       "                        <td id=\"T_b9dfd_row4_col3\" class=\"data row4 col3\" >yqtl</td>\n",
       "                        <td id=\"T_b9dfd_row4_col4\" class=\"data row4 col4\" >FUT</td>\n",
       "            </tr>\n",
       "    </tbody></table>"
      ],
      "text/plain": [
       "<pandas.io.formats.style.Styler at 0x7fcf26ce6640>"
      ]
     },
     "metadata": {},
     "output_type": "display_data"
    },
    {
     "name": "stdout",
     "output_type": "stream",
     "text": [
      "--------------------\n",
      "כ.ה.זמן\n",
      "\n",
      "final\n",
      "showing 4 of 4\n"
     ]
    },
    {
     "data": {
      "text/html": [
       "<style  type=\"text/css\" >\n",
       "#T_68266_row0_col1,#T_68266_row0_col2,#T_68266_row1_col1,#T_68266_row1_col2,#T_68266_row2_col1,#T_68266_row2_col2,#T_68266_row3_col1,#T_68266_row3_col2{\n",
       "            font-size: 20px;\n",
       "             font-family:  Times New Roman;\n",
       "             text-align:  right;\n",
       "             max-width:  500px;\n",
       "        }</style><table id=\"T_68266_\" ><thead>    <tr>        <th class=\"blank level0\" ></th>        <th class=\"col_heading level0 col0\" >verse</th>        <th class=\"col_heading level0 col1\" >clause</th>        <th class=\"col_heading level0 col2\" >verb_utf8</th>        <th class=\"col_heading level0 col3\" >verbform</th>        <th class=\"col_heading level0 col4\" >verbtense</th>    </tr>    <tr>        <th class=\"index_name level0\" >node</th>        <th class=\"blank\" ></th>        <th class=\"blank\" ></th>        <th class=\"blank\" ></th>        <th class=\"blank\" ></th>        <th class=\"blank\" ></th>    </tr></thead><tbody>\n",
       "                <tr>\n",
       "                        <th id=\"T_68266_level0_row0\" class=\"row_heading level0 row0\" >428989</th>\n",
       "                        <td id=\"T_68266_row0_col0\" class=\"data row0 col0\" >Genesis 18:10</td>\n",
       "                        <td id=\"T_68266_row0_col1\" class=\"data row0 col1\" >שֹׁ֣וב אָשׁ֤וּב אֵלֶ֨יךָ֙ כָּעֵ֣ת חַיָּ֔ה </td>\n",
       "                        <td id=\"T_68266_row0_col2\" class=\"data row0 col2\" >שׁוב</td>\n",
       "                        <td id=\"T_68266_row0_col3\" class=\"data row0 col3\" >yqtl</td>\n",
       "                        <td id=\"T_68266_row0_col4\" class=\"data row0 col4\" >FUT</td>\n",
       "            </tr>\n",
       "            <tr>\n",
       "                        <th id=\"T_68266_level0_row1\" class=\"row_heading level0 row1\" >430065</th>\n",
       "                        <td id=\"T_68266_row1_col0\" class=\"data row1 col0\" >Genesis 25:33</td>\n",
       "                        <td id=\"T_68266_row1_col1\" class=\"data row1 col1\" >הִשָּׁ֤בְעָה לִּי֙ כַּיֹּ֔ום </td>\n",
       "                        <td id=\"T_68266_row1_col2\" class=\"data row1 col2\" >שׁבע</td>\n",
       "                        <td id=\"T_68266_row1_col3\" class=\"data row1 col3\" >impv</td>\n",
       "                        <td id=\"T_68266_row1_col4\" class=\"data row1 col4\" >IMPV</td>\n",
       "            </tr>\n",
       "            <tr>\n",
       "                        <th id=\"T_68266_level0_row2\" class=\"row_heading level0 row2\" >454938</th>\n",
       "                        <td id=\"T_68266_row2_col0\" class=\"data row2 col0\" >1_Samuel 9:27</td>\n",
       "                        <td id=\"T_68266_row2_col1\" class=\"data row2 col1\" >וְאַתָּה֙ עֲמֹ֣ד כַּיֹּ֔ום </td>\n",
       "                        <td id=\"T_68266_row2_col2\" class=\"data row2 col2\" >עמד</td>\n",
       "                        <td id=\"T_68266_row2_col3\" class=\"data row2 col3\" >impv</td>\n",
       "                        <td id=\"T_68266_row2_col4\" class=\"data row2 col4\" >IMPV</td>\n",
       "            </tr>\n",
       "            <tr>\n",
       "                        <th id=\"T_68266_level0_row3\" class=\"row_heading level0 row3\" >465881</th>\n",
       "                        <td id=\"T_68266_row3_col0\" class=\"data row3 col0\" >2_Kings 7:18</td>\n",
       "                        <td id=\"T_68266_row3_col1\" class=\"data row3 col1\" >וּֽסְאָה־סֹ֨לֶת֙ בְּשֶׁ֔קֶל יִהְיֶה֙ כָּעֵ֣ת מָחָ֔ר בְּשַׁ֖עַר שֹׁמְרֹֽון׃ </td>\n",
       "                        <td id=\"T_68266_row3_col2\" class=\"data row3 col2\" >היה</td>\n",
       "                        <td id=\"T_68266_row3_col3\" class=\"data row3 col3\" >yqtl</td>\n",
       "                        <td id=\"T_68266_row3_col4\" class=\"data row3 col4\" >nan</td>\n",
       "            </tr>\n",
       "    </tbody></table>"
      ],
      "text/plain": [
       "<pandas.io.formats.style.Styler at 0x7fcf26ce6550>"
      ]
     },
     "metadata": {},
     "output_type": "display_data"
    },
    {
     "name": "stdout",
     "output_type": "stream",
     "text": [
      "preposed\n",
      "showing 4 of 4\n"
     ]
    },
    {
     "data": {
      "text/html": [
       "<style  type=\"text/css\" >\n",
       "#T_ba056_row0_col1,#T_ba056_row0_col2,#T_ba056_row1_col1,#T_ba056_row1_col2,#T_ba056_row2_col1,#T_ba056_row2_col2,#T_ba056_row3_col1,#T_ba056_row3_col2{\n",
       "            font-size: 20px;\n",
       "             font-family:  Times New Roman;\n",
       "             text-align:  right;\n",
       "             max-width:  500px;\n",
       "        }</style><table id=\"T_ba056_\" ><thead>    <tr>        <th class=\"blank level0\" ></th>        <th class=\"col_heading level0 col0\" >verse</th>        <th class=\"col_heading level0 col1\" >clause</th>        <th class=\"col_heading level0 col2\" >verb_utf8</th>        <th class=\"col_heading level0 col3\" >verbform</th>        <th class=\"col_heading level0 col4\" >verbtense</th>    </tr>    <tr>        <th class=\"index_name level0\" >node</th>        <th class=\"blank\" ></th>        <th class=\"blank\" ></th>        <th class=\"blank\" ></th>        <th class=\"blank\" ></th>        <th class=\"blank\" ></th>    </tr></thead><tbody>\n",
       "                <tr>\n",
       "                        <th id=\"T_ba056_level0_row0\" class=\"row_heading level0 row0\" >443634</th>\n",
       "                        <td id=\"T_ba056_row0_col0\" class=\"data row0 col0\" >Numbers 23:23</td>\n",
       "                        <td id=\"T_ba056_row0_col1\" class=\"data row0 col1\" >כָּעֵ֗ת יֵאָמֵ֤ר לְיַעֲקֹב֙ וּלְיִשְׂרָאֵ֔ל </td>\n",
       "                        <td id=\"T_ba056_row0_col2\" class=\"data row0 col2\" >אמר</td>\n",
       "                        <td id=\"T_ba056_row0_col3\" class=\"data row0 col3\" >yqtl</td>\n",
       "                        <td id=\"T_ba056_row0_col4\" class=\"data row0 col4\" >MOD shall</td>\n",
       "            </tr>\n",
       "            <tr>\n",
       "                        <th id=\"T_ba056_level0_row1\" class=\"row_heading level0 row1\" >452836</th>\n",
       "                        <td id=\"T_ba056_row1_col0\" class=\"data row1 col0\" >Judges 13:23</td>\n",
       "                        <td id=\"T_ba056_row1_col1\" class=\"data row1 col1\" >וְכָעֵ֕ת לֹ֥א הִשְׁמִיעָ֖נוּ כָּזֹֽאת׃ </td>\n",
       "                        <td id=\"T_ba056_row1_col2\" class=\"data row1 col2\" >שׁמע</td>\n",
       "                        <td id=\"T_ba056_row1_col3\" class=\"data row1 col3\" >qtl</td>\n",
       "                        <td id=\"T_ba056_row1_col4\" class=\"data row1 col4\" >nan</td>\n",
       "            </tr>\n",
       "            <tr>\n",
       "                        <th id=\"T_ba056_level0_row2\" class=\"row_heading level0 row2\" >454858</th>\n",
       "                        <td id=\"T_ba056_row2_col0\" class=\"data row2 col0\" >1_Samuel 9:13</td>\n",
       "                        <td id=\"T_ba056_row2_col1\" class=\"data row2 col1\" >כְהַיֹּ֖ום תִּמְצְא֥וּן אֹתֹֽו׃ </td>\n",
       "                        <td id=\"T_ba056_row2_col2\" class=\"data row2 col2\" >מצא</td>\n",
       "                        <td id=\"T_ba056_row2_col3\" class=\"data row2 col3\" >yqtl</td>\n",
       "                        <td id=\"T_ba056_row2_col4\" class=\"data row2 col4\" >FUT</td>\n",
       "            </tr>\n",
       "            <tr>\n",
       "                        <th id=\"T_ba056_level0_row3\" class=\"row_heading level0 row3\" >454868</th>\n",
       "                        <td id=\"T_ba056_row3_col0\" class=\"data row3 col0\" >1_Samuel 9:16</td>\n",
       "                        <td id=\"T_ba056_row3_col1\" class=\"data row3 col1\" >כָּעֵ֣ת׀ מָחָ֡ר אֶשְׁלַח֩ אֵלֶ֨יךָ אִ֜ישׁ מֵאֶ֣רֶץ בִּנְיָמִ֗ן </td>\n",
       "                        <td id=\"T_ba056_row3_col2\" class=\"data row3 col2\" >שׁלח</td>\n",
       "                        <td id=\"T_ba056_row3_col3\" class=\"data row3 col3\" >yqtl</td>\n",
       "                        <td id=\"T_ba056_row3_col4\" class=\"data row3 col4\" >FUT</td>\n",
       "            </tr>\n",
       "    </tbody></table>"
      ],
      "text/plain": [
       "<pandas.io.formats.style.Styler at 0x7fcf26f76910>"
      ]
     },
     "metadata": {},
     "output_type": "display_data"
    },
    {
     "name": "stdout",
     "output_type": "stream",
     "text": [
      "medial\n",
      "showing 5 of 7\n"
     ]
    },
    {
     "data": {
      "text/html": [
       "<style  type=\"text/css\" >\n",
       "#T_e8b26_row0_col1,#T_e8b26_row0_col2,#T_e8b26_row1_col1,#T_e8b26_row1_col2,#T_e8b26_row2_col1,#T_e8b26_row2_col2,#T_e8b26_row3_col1,#T_e8b26_row3_col2,#T_e8b26_row4_col1,#T_e8b26_row4_col2{\n",
       "            font-size: 20px;\n",
       "             font-family:  Times New Roman;\n",
       "             text-align:  right;\n",
       "             max-width:  500px;\n",
       "        }</style><table id=\"T_e8b26_\" ><thead>    <tr>        <th class=\"blank level0\" ></th>        <th class=\"col_heading level0 col0\" >verse</th>        <th class=\"col_heading level0 col1\" >clause</th>        <th class=\"col_heading level0 col2\" >verb_utf8</th>        <th class=\"col_heading level0 col3\" >verbform</th>        <th class=\"col_heading level0 col4\" >verbtense</th>    </tr>    <tr>        <th class=\"index_name level0\" >node</th>        <th class=\"blank\" ></th>        <th class=\"blank\" ></th>        <th class=\"blank\" ></th>        <th class=\"blank\" ></th>        <th class=\"blank\" ></th>    </tr></thead><tbody>\n",
       "                <tr>\n",
       "                        <th id=\"T_e8b26_level0_row0\" class=\"row_heading level0 row0\" >430059</th>\n",
       "                        <td id=\"T_e8b26_row0_col0\" class=\"data row0 col0\" >Genesis 25:31</td>\n",
       "                        <td id=\"T_e8b26_row0_col1\" class=\"data row0 col1\" >מִכְרָ֥ה כַיֹּ֛ום אֶת־בְּכֹֽרָתְךָ֖ לִֽי׃ </td>\n",
       "                        <td id=\"T_e8b26_row0_col2\" class=\"data row0 col2\" >מכר</td>\n",
       "                        <td id=\"T_e8b26_row0_col3\" class=\"data row0 col3\" >impv</td>\n",
       "                        <td id=\"T_e8b26_row0_col4\" class=\"data row0 col4\" >IMPV</td>\n",
       "            </tr>\n",
       "            <tr>\n",
       "                        <th id=\"T_e8b26_level0_row1\" class=\"row_heading level0 row1\" >454134</th>\n",
       "                        <td id=\"T_e8b26_row1_col0\" class=\"data row1 col0\" >1_Samuel 2:16</td>\n",
       "                        <td id=\"T_e8b26_row1_col1\" class=\"data row1 col1\" >קַטֵּ֨ר יַקְטִיר֤וּן כַּיֹּום֙ הַחֵ֔לֶב </td>\n",
       "                        <td id=\"T_e8b26_row1_col2\" class=\"data row1 col2\" >קטר</td>\n",
       "                        <td id=\"T_e8b26_row1_col3\" class=\"data row1 col3\" >yqtl</td>\n",
       "                        <td id=\"T_e8b26_row1_col4\" class=\"data row1 col4\" >MOD let</td>\n",
       "            </tr>\n",
       "            <tr>\n",
       "                        <th id=\"T_e8b26_level0_row2\" class=\"row_heading level0 row2\" >461353</th>\n",
       "                        <td id=\"T_e8b26_row2_col0\" class=\"data row2 col0\" >1_Kings 1:51</td>\n",
       "                        <td id=\"T_e8b26_row2_col1\" class=\"data row2 col1\" >יִשָּֽׁבַֽע־לִ֤י כַיֹּום֙ הַמֶּ֣לֶךְ שְׁלֹמֹ֔ה </td>\n",
       "                        <td id=\"T_e8b26_row2_col2\" class=\"data row2 col2\" >שׁבע</td>\n",
       "                        <td id=\"T_e8b26_row2_col3\" class=\"data row2 col3\" >yqtl</td>\n",
       "                        <td id=\"T_e8b26_row2_col4\" class=\"data row2 col4\" >MOD let</td>\n",
       "            </tr>\n",
       "            <tr>\n",
       "                        <th id=\"T_e8b26_level0_row3\" class=\"row_heading level0 row3\" >466280</th>\n",
       "                        <td id=\"T_e8b26_row3_col0\" class=\"data row3 col0\" >2_Kings 10:6</td>\n",
       "                        <td id=\"T_e8b26_row3_col1\" class=\"data row3 col1\" >וּבֹ֧אוּ אֵלַ֛י כָּעֵ֥ת מָחָ֖ר יִזְרְעֶ֑אלָה </td>\n",
       "                        <td id=\"T_e8b26_row3_col2\" class=\"data row3 col2\" >בוא</td>\n",
       "                        <td id=\"T_e8b26_row3_col3\" class=\"data row3 col3\" >impv</td>\n",
       "                        <td id=\"T_e8b26_row3_col4\" class=\"data row3 col4\" >IMPV</td>\n",
       "            </tr>\n",
       "            <tr>\n",
       "                        <th id=\"T_e8b26_level0_row4\" class=\"row_heading level0 row4\" >508939</th>\n",
       "                        <td id=\"T_e8b26_row4_col0\" class=\"data row4 col0\" >Nehemiah 5:11</td>\n",
       "                        <td id=\"T_e8b26_row4_col1\" class=\"data row4 col1\" >הָשִׁיבוּ֩ נָ֨א לָהֶ֜ם כְּהַיֹּ֗ום שְׂדֹתֵיהֶ֛ם כַּרְמֵיהֶ֥ם זֵיתֵיהֶ֖ם וּבָתֵּיהֶ֑ם וּמְאַ֨ת הַכֶּ֤סֶף וְהַדָּגָן֙ הַתִּירֹ֣ושׁ וְהַיִּצְהָ֔ר </td>\n",
       "                        <td id=\"T_e8b26_row4_col2\" class=\"data row4 col2\" >שׁוב</td>\n",
       "                        <td id=\"T_e8b26_row4_col3\" class=\"data row4 col3\" >impv</td>\n",
       "                        <td id=\"T_e8b26_row4_col4\" class=\"data row4 col4\" >IMPV</td>\n",
       "            </tr>\n",
       "    </tbody></table>"
      ],
      "text/plain": [
       "<pandas.io.formats.style.Styler at 0x7fcf26f76a90>"
      ]
     },
     "metadata": {},
     "output_type": "display_data"
    }
   ],
   "source": [
    "for ta in toget:\n",
    "    print('-'*20)\n",
    "    print(ta)\n",
    "    print()\n",
    "    for pos in poslt_pr2.columns:\n",
    "        exdf = main_df[\n",
    "            (main_df.lex_token == ta)\n",
    "            & (main_df['Time Position'] == pos)\n",
    "        ]\n",
    "        print(pos)\n",
    "        display(ts.show(exdf, spread=5, extra=['verbform', 'verbtense']))"
   ]
  },
  {
   "cell_type": "markdown",
   "metadata": {},
   "source": [
    "### Cluster 3"
   ]
  },
  {
   "cell_type": "code",
   "execution_count": 35,
   "metadata": {},
   "outputs": [
    {
     "data": {
      "text/html": [
       "<div>\n",
       "<style scoped>\n",
       "    .dataframe tbody tr th:only-of-type {\n",
       "        vertical-align: middle;\n",
       "    }\n",
       "\n",
       "    .dataframe tbody tr th {\n",
       "        vertical-align: top;\n",
       "    }\n",
       "\n",
       "    .dataframe thead th {\n",
       "        text-align: right;\n",
       "    }\n",
       "</style>\n",
       "<table border=\"1\" class=\"dataframe\">\n",
       "  <thead>\n",
       "    <tr style=\"text-align: right;\">\n",
       "      <th>Time Position</th>\n",
       "      <th>final</th>\n",
       "      <th>preposed</th>\n",
       "      <th>medial</th>\n",
       "    </tr>\n",
       "  </thead>\n",
       "  <tbody>\n",
       "    <tr>\n",
       "      <th>ב.ה.זמן</th>\n",
       "      <td>0.703125</td>\n",
       "      <td>0.179688</td>\n",
       "      <td>0.117188</td>\n",
       "    </tr>\n",
       "    <tr>\n",
       "      <th>לילה</th>\n",
       "      <td>0.709677</td>\n",
       "      <td>0.129032</td>\n",
       "      <td>0.161290</td>\n",
       "    </tr>\n",
       "    <tr>\n",
       "      <th>ב.ה.זמן.זה</th>\n",
       "      <td>0.750000</td>\n",
       "      <td>0.250000</td>\n",
       "      <td>0.000000</td>\n",
       "    </tr>\n",
       "    <tr>\n",
       "      <th>מן.קץ.מ׳.זמן</th>\n",
       "      <td>0.769231</td>\n",
       "      <td>0.230769</td>\n",
       "      <td>0.000000</td>\n",
       "    </tr>\n",
       "    <tr>\n",
       "      <th>מן.קצה.מ׳.זמן</th>\n",
       "      <td>0.777778</td>\n",
       "      <td>0.222222</td>\n",
       "      <td>0.000000</td>\n",
       "    </tr>\n",
       "    <tr>\n",
       "      <th>אחר.ה.זמן.אלה</th>\n",
       "      <td>0.800000</td>\n",
       "      <td>0.200000</td>\n",
       "      <td>0.000000</td>\n",
       "    </tr>\n",
       "    <tr>\n",
       "      <th>יומם</th>\n",
       "      <td>0.818182</td>\n",
       "      <td>0.181818</td>\n",
       "      <td>0.000000</td>\n",
       "    </tr>\n",
       "    <tr>\n",
       "      <th>בין.ה.מ׳.זמן</th>\n",
       "      <td>0.833333</td>\n",
       "      <td>0.166667</td>\n",
       "      <td>0.000000</td>\n",
       "    </tr>\n",
       "    <tr>\n",
       "      <th>ל.מ׳.זמן</th>\n",
       "      <td>0.833333</td>\n",
       "      <td>0.000000</td>\n",
       "      <td>0.166667</td>\n",
       "    </tr>\n",
       "    <tr>\n",
       "      <th>עד.ה.זמן</th>\n",
       "      <td>0.964286</td>\n",
       "      <td>0.000000</td>\n",
       "      <td>0.035714</td>\n",
       "    </tr>\n",
       "    <tr>\n",
       "      <th>עד.ה.זמן.זה</th>\n",
       "      <td>0.981132</td>\n",
       "      <td>0.018868</td>\n",
       "      <td>0.000000</td>\n",
       "    </tr>\n",
       "    <tr>\n",
       "      <th>תמיד</th>\n",
       "      <td>0.866667</td>\n",
       "      <td>0.066667</td>\n",
       "      <td>0.066667</td>\n",
       "    </tr>\n",
       "    <tr>\n",
       "      <th>ב.ה.מ׳.זמן</th>\n",
       "      <td>0.888889</td>\n",
       "      <td>0.111111</td>\n",
       "      <td>0.000000</td>\n",
       "    </tr>\n",
       "  </tbody>\n",
       "</table>\n",
       "</div>"
      ],
      "text/plain": [
       "Time Position     final  preposed    medial\n",
       "ב.ה.זמן        0.703125  0.179688  0.117188\n",
       "לילה           0.709677  0.129032  0.161290\n",
       "ב.ה.זמן.זה     0.750000  0.250000  0.000000\n",
       "מן.קץ.מ׳.זמן   0.769231  0.230769  0.000000\n",
       "מן.קצה.מ׳.זמן  0.777778  0.222222  0.000000\n",
       "אחר.ה.זמן.אלה  0.800000  0.200000  0.000000\n",
       "יומם           0.818182  0.181818  0.000000\n",
       "בין.ה.מ׳.זמן   0.833333  0.166667  0.000000\n",
       "ל.מ׳.זמן       0.833333  0.000000  0.166667\n",
       "עד.ה.זמן       0.964286  0.000000  0.035714\n",
       "עד.ה.זמן.זה    0.981132  0.018868  0.000000\n",
       "תמיד           0.866667  0.066667  0.066667\n",
       "ב.ה.מ׳.זמן     0.888889  0.111111  0.000000"
      ]
     },
     "execution_count": 35,
     "metadata": {},
     "output_type": "execute_result"
    }
   ],
   "source": [
    "cluster3 = poslt_pr2.loc['ב.ה.זמן': 'ב.ה.מ׳.זמן']\n",
    "clust3_df = main_df[main_df.lex_token.isin(cluster3.index)]\n",
    "\n",
    "cluster3"
   ]
  },
  {
   "cell_type": "code",
   "execution_count": 36,
   "metadata": {},
   "outputs": [
    {
     "data": {
      "text/plain": [
       "'82'"
      ]
     },
     "execution_count": 36,
     "metadata": {},
     "output_type": "execute_result"
    }
   ],
   "source": [
    "out.number(\n",
    "    cluster3.final.mean()*100,\n",
    "    'clust3_final_mean',\n",
    ")"
   ]
  },
  {
   "cell_type": "code",
   "execution_count": 37,
   "metadata": {},
   "outputs": [
    {
     "data": {
      "text/html": [
       "<div>\n",
       "<style scoped>\n",
       "    .dataframe tbody tr th:only-of-type {\n",
       "        vertical-align: middle;\n",
       "    }\n",
       "\n",
       "    .dataframe tbody tr th {\n",
       "        vertical-align: top;\n",
       "    }\n",
       "\n",
       "    .dataframe thead th {\n",
       "        text-align: right;\n",
       "    }\n",
       "</style>\n",
       "<table border=\"1\" class=\"dataframe\">\n",
       "  <thead>\n",
       "    <tr style=\"text-align: right;\">\n",
       "      <th></th>\n",
       "      <th>count</th>\n",
       "      <th>percent</th>\n",
       "    </tr>\n",
       "  </thead>\n",
       "  <tbody>\n",
       "    <tr>\n",
       "      <th>wayq</th>\n",
       "      <td>163</td>\n",
       "      <td>45%</td>\n",
       "    </tr>\n",
       "    <tr>\n",
       "      <th>yqtl</th>\n",
       "      <td>74</td>\n",
       "      <td>20%</td>\n",
       "    </tr>\n",
       "    <tr>\n",
       "      <th>wqtl</th>\n",
       "      <td>52</td>\n",
       "      <td>14%</td>\n",
       "    </tr>\n",
       "    <tr>\n",
       "      <th>qtl</th>\n",
       "      <td>40</td>\n",
       "      <td>11%</td>\n",
       "    </tr>\n",
       "    <tr>\n",
       "      <th>impv</th>\n",
       "      <td>17</td>\n",
       "      <td>5%</td>\n",
       "    </tr>\n",
       "    <tr>\n",
       "      <th>ptcp</th>\n",
       "      <td>15</td>\n",
       "      <td>4%</td>\n",
       "    </tr>\n",
       "    <tr>\n",
       "      <th>cohoF</th>\n",
       "      <td>2</td>\n",
       "      <td>1%</td>\n",
       "    </tr>\n",
       "  </tbody>\n",
       "</table>\n",
       "</div>"
      ],
      "text/plain": [
       "       count percent\n",
       "wayq     163     45%\n",
       "yqtl      74     20%\n",
       "wqtl      52     14%\n",
       "qtl       40     11%\n",
       "impv      17      5%\n",
       "ptcp      15      4%\n",
       "cohoF      2      1%"
      ]
     },
     "execution_count": 37,
     "metadata": {},
     "output_type": "execute_result"
    }
   ],
   "source": [
    "clust3_vf_ct = clust3_df.verbform.value_counts()\n",
    "clust3_vf_pr = clust3_vf_ct / clust3_vf_ct.sum()\n",
    "\n",
    "clust3_vf_cp = join_ct_pr(\n",
    "    clust3_vf_ct,\n",
    "    clust3_vf_pr\n",
    ")\n",
    "\n",
    "out.table(\n",
    "    clust3_vf_cp,\n",
    "    'clust3_verb_ct',\n",
    "    caption='Verb Preference within Cluster 3'\n",
    ")"
   ]
  },
  {
   "cell_type": "code",
   "execution_count": 38,
   "metadata": {},
   "outputs": [
    {
     "data": {
      "text/plain": [
       "'363'"
      ]
     },
     "execution_count": 38,
     "metadata": {},
     "output_type": "execute_result"
    }
   ],
   "source": [
    "out.number(\n",
    "    clust3_df.shape[0],\n",
    "    'n_clust3',\n",
    ")"
   ]
  },
  {
   "cell_type": "code",
   "execution_count": 39,
   "metadata": {},
   "outputs": [
    {
     "data": {
      "text/plain": [
       "'45'"
      ]
     },
     "execution_count": 39,
     "metadata": {},
     "output_type": "execute_result"
    }
   ],
   "source": [
    "out.number(\n",
    "    clust3_vf_pr['wayq']*100,\n",
    "    'clust3_way_pr'\n",
    ")"
   ]
  },
  {
   "cell_type": "code",
   "execution_count": 40,
   "metadata": {},
   "outputs": [
    {
     "data": {
      "text/plain": [
       "'14'"
      ]
     },
     "execution_count": 40,
     "metadata": {},
     "output_type": "execute_result"
    }
   ],
   "source": [
    "out.number(\n",
    "    clust3_vf_pr['wqtl']*100,\n",
    "    'clust3_wqtl_pr'\n",
    ")"
   ]
  },
  {
   "cell_type": "code",
   "execution_count": 41,
   "metadata": {},
   "outputs": [
    {
     "data": {
      "text/plain": [
       "'59'"
      ]
     },
     "execution_count": 41,
     "metadata": {},
     "output_type": "execute_result"
    }
   ],
   "source": [
    "out.number(\n",
    "    (clust3_vf_pr['wayq']+clust3_vf_pr['wqtl'])*100,\n",
    "    'clust3_consec_pr'\n",
    ")"
   ]
  },
  {
   "cell_type": "markdown",
   "metadata": {},
   "source": [
    "### Cluster 4"
   ]
  },
  {
   "cell_type": "code",
   "execution_count": 42,
   "metadata": {},
   "outputs": [
    {
     "data": {
      "text/html": [
       "<div>\n",
       "<style scoped>\n",
       "    .dataframe tbody tr th:only-of-type {\n",
       "        vertical-align: middle;\n",
       "    }\n",
       "\n",
       "    .dataframe tbody tr th {\n",
       "        vertical-align: top;\n",
       "    }\n",
       "\n",
       "    .dataframe thead th {\n",
       "        text-align: right;\n",
       "    }\n",
       "</style>\n",
       "<table border=\"1\" class=\"dataframe\">\n",
       "  <thead>\n",
       "    <tr style=\"text-align: right;\">\n",
       "      <th>Time Position</th>\n",
       "      <th>final</th>\n",
       "      <th>preposed</th>\n",
       "      <th>medial</th>\n",
       "    </tr>\n",
       "  </thead>\n",
       "  <tbody>\n",
       "    <tr>\n",
       "      <th>ב.ה.זמן.הם</th>\n",
       "      <td>0.368421</td>\n",
       "      <td>0.631579</td>\n",
       "      <td>0.000000</td>\n",
       "    </tr>\n",
       "    <tr>\n",
       "      <th>ה.זמן.זה</th>\n",
       "      <td>0.388889</td>\n",
       "      <td>0.500000</td>\n",
       "      <td>0.111111</td>\n",
       "    </tr>\n",
       "    <tr>\n",
       "      <th>ב.מ׳.זמן</th>\n",
       "      <td>0.471429</td>\n",
       "      <td>0.485714</td>\n",
       "      <td>0.042857</td>\n",
       "    </tr>\n",
       "    <tr>\n",
       "      <th>אחר.זמן</th>\n",
       "      <td>0.461538</td>\n",
       "      <td>0.523077</td>\n",
       "      <td>0.015385</td>\n",
       "    </tr>\n",
       "    <tr>\n",
       "      <th>ב.ה.זמן.הוא</th>\n",
       "      <td>0.550725</td>\n",
       "      <td>0.280193</td>\n",
       "      <td>0.169082</td>\n",
       "    </tr>\n",
       "    <tr>\n",
       "      <th>ה.זמן</th>\n",
       "      <td>0.575000</td>\n",
       "      <td>0.200000</td>\n",
       "      <td>0.225000</td>\n",
       "    </tr>\n",
       "    <tr>\n",
       "      <th>עד.זמן</th>\n",
       "      <td>0.584906</td>\n",
       "      <td>0.415094</td>\n",
       "      <td>0.000000</td>\n",
       "    </tr>\n",
       "    <tr>\n",
       "      <th>זמן</th>\n",
       "      <td>0.509615</td>\n",
       "      <td>0.394231</td>\n",
       "      <td>0.096154</td>\n",
       "    </tr>\n",
       "    <tr>\n",
       "      <th>ב.זמן</th>\n",
       "      <td>0.565714</td>\n",
       "      <td>0.377143</td>\n",
       "      <td>0.057143</td>\n",
       "    </tr>\n",
       "    <tr>\n",
       "      <th>ב.ה.זמן.ס׳</th>\n",
       "      <td>0.545455</td>\n",
       "      <td>0.381818</td>\n",
       "      <td>0.072727</td>\n",
       "    </tr>\n",
       "    <tr>\n",
       "      <th>ב.ה.זמן.היא</th>\n",
       "      <td>0.534483</td>\n",
       "      <td>0.379310</td>\n",
       "      <td>0.086207</td>\n",
       "    </tr>\n",
       "    <tr>\n",
       "      <th>ב.אחרית.ה.זמן</th>\n",
       "      <td>0.700000</td>\n",
       "      <td>0.300000</td>\n",
       "      <td>0.000000</td>\n",
       "    </tr>\n",
       "    <tr>\n",
       "      <th>כ.זמן</th>\n",
       "      <td>0.714286</td>\n",
       "      <td>0.285714</td>\n",
       "      <td>0.000000</td>\n",
       "    </tr>\n",
       "    <tr>\n",
       "      <th>ל.זמן</th>\n",
       "      <td>0.614286</td>\n",
       "      <td>0.300000</td>\n",
       "      <td>0.085714</td>\n",
       "    </tr>\n",
       "    <tr>\n",
       "      <th>מ׳.זמן</th>\n",
       "      <td>0.614458</td>\n",
       "      <td>0.329317</td>\n",
       "      <td>0.056225</td>\n",
       "    </tr>\n",
       "    <tr>\n",
       "      <th>מן.זמן</th>\n",
       "      <td>0.636364</td>\n",
       "      <td>0.327273</td>\n",
       "      <td>0.036364</td>\n",
       "    </tr>\n",
       "  </tbody>\n",
       "</table>\n",
       "</div>"
      ],
      "text/plain": [
       "Time Position     final  preposed    medial\n",
       "ב.ה.זמן.הם     0.368421  0.631579  0.000000\n",
       "ה.זמן.זה       0.388889  0.500000  0.111111\n",
       "ב.מ׳.זמן       0.471429  0.485714  0.042857\n",
       "אחר.זמן        0.461538  0.523077  0.015385\n",
       "ב.ה.זמן.הוא    0.550725  0.280193  0.169082\n",
       "ה.זמן          0.575000  0.200000  0.225000\n",
       "עד.זמן         0.584906  0.415094  0.000000\n",
       "זמן            0.509615  0.394231  0.096154\n",
       "ב.זמן          0.565714  0.377143  0.057143\n",
       "ב.ה.זמן.ס׳     0.545455  0.381818  0.072727\n",
       "ב.ה.זמן.היא    0.534483  0.379310  0.086207\n",
       "ב.אחרית.ה.זמן  0.700000  0.300000  0.000000\n",
       "כ.זמן          0.714286  0.285714  0.000000\n",
       "ל.זמן          0.614286  0.300000  0.085714\n",
       "מ׳.זמן         0.614458  0.329317  0.056225\n",
       "מן.זמן         0.636364  0.327273  0.036364"
      ]
     },
     "execution_count": 42,
     "metadata": {},
     "output_type": "execute_result"
    }
   ],
   "source": [
    "cluster4 = poslt_pr2.loc['ב.ה.זמן.הם':'מן.זמן']\n",
    "clust4_df = main_df[main_df.lex_token.isin(cluster4.index)]\n",
    "\n",
    "cluster4"
   ]
  },
  {
   "cell_type": "code",
   "execution_count": 43,
   "metadata": {},
   "outputs": [
    {
     "data": {
      "text/plain": [
       "['ב.ה.זמן.הם',\n",
       " 'ה.זמן.זה',\n",
       " 'ב.מ׳.זמן',\n",
       " 'אחר.זמן',\n",
       " 'ב.ה.זמן.הוא',\n",
       " 'ה.זמן',\n",
       " 'עד.זמן',\n",
       " 'זמן',\n",
       " 'ב.זמן',\n",
       " 'ב.ה.זמן.ס׳',\n",
       " 'ב.ה.זמן.היא',\n",
       " 'ב.אחרית.ה.זמן',\n",
       " 'כ.זמן',\n",
       " 'ל.זמן',\n",
       " 'מ׳.זמן',\n",
       " 'מן.זמן']"
      ]
     },
     "execution_count": 43,
     "metadata": {},
     "output_type": "execute_result"
    }
   ],
   "source": [
    "cluster4.index.to_list()"
   ]
  },
  {
   "cell_type": "code",
   "execution_count": 44,
   "metadata": {},
   "outputs": [
    {
     "data": {
      "text/plain": [
       "'1,553'"
      ]
     },
     "execution_count": 44,
     "metadata": {},
     "output_type": "execute_result"
    }
   ],
   "source": [
    "out.number(\n",
    "    clust4_df.shape[0],\n",
    "    'n_clust4',\n",
    ")"
   ]
  },
  {
   "cell_type": "code",
   "execution_count": 45,
   "metadata": {},
   "outputs": [
    {
     "data": {
      "text/plain": [
       "(1553, 72)"
      ]
     },
     "execution_count": 45,
     "metadata": {},
     "output_type": "execute_result"
    }
   ],
   "source": [
    "clust4_df.shape"
   ]
  },
  {
   "cell_type": "code",
   "execution_count": 46,
   "metadata": {},
   "outputs": [
    {
     "data": {
      "text/plain": [
       "'55'"
      ]
     },
     "execution_count": 46,
     "metadata": {},
     "output_type": "execute_result"
    }
   ],
   "source": [
    "out.number(\n",
    "    cluster4.final.mean()*100,\n",
    "    'clust4_final_mean',\n",
    ")"
   ]
  },
  {
   "cell_type": "code",
   "execution_count": 47,
   "metadata": {},
   "outputs": [
    {
     "data": {
      "text/plain": [
       "'38'"
      ]
     },
     "execution_count": 47,
     "metadata": {},
     "output_type": "execute_result"
    }
   ],
   "source": [
    "out.number(\n",
    "    cluster4.preposed.mean()*100,\n",
    "    'clust4_pre_mean',\n",
    ")"
   ]
  },
  {
   "cell_type": "code",
   "execution_count": 48,
   "metadata": {},
   "outputs": [
    {
     "name": "stdout",
     "output_type": "stream",
     "text": [
      "showing 25 of 175\n"
     ]
    },
    {
     "data": {
      "text/html": [
       "<style  type=\"text/css\" >\n",
       "#T_82d19_row0_col1,#T_82d19_row0_col2,#T_82d19_row1_col1,#T_82d19_row1_col2,#T_82d19_row2_col1,#T_82d19_row2_col2,#T_82d19_row3_col1,#T_82d19_row3_col2,#T_82d19_row4_col1,#T_82d19_row4_col2,#T_82d19_row5_col1,#T_82d19_row5_col2,#T_82d19_row6_col1,#T_82d19_row6_col2,#T_82d19_row7_col1,#T_82d19_row7_col2,#T_82d19_row8_col1,#T_82d19_row8_col2,#T_82d19_row9_col1,#T_82d19_row9_col2,#T_82d19_row10_col1,#T_82d19_row10_col2,#T_82d19_row11_col1,#T_82d19_row11_col2,#T_82d19_row12_col1,#T_82d19_row12_col2,#T_82d19_row13_col1,#T_82d19_row13_col2,#T_82d19_row14_col1,#T_82d19_row14_col2,#T_82d19_row15_col1,#T_82d19_row15_col2,#T_82d19_row16_col1,#T_82d19_row16_col2,#T_82d19_row17_col1,#T_82d19_row17_col2,#T_82d19_row18_col1,#T_82d19_row18_col2,#T_82d19_row19_col1,#T_82d19_row19_col2,#T_82d19_row20_col1,#T_82d19_row20_col2,#T_82d19_row21_col1,#T_82d19_row21_col2,#T_82d19_row22_col1,#T_82d19_row22_col2,#T_82d19_row23_col1,#T_82d19_row23_col2,#T_82d19_row24_col1,#T_82d19_row24_col2{\n",
       "            font-size: 20px;\n",
       "             font-family:  Times New Roman;\n",
       "             text-align:  right;\n",
       "             max-width:  500px;\n",
       "        }</style><table id=\"T_82d19_\" ><thead>    <tr>        <th class=\"blank level0\" ></th>        <th class=\"col_heading level0 col0\" >verse</th>        <th class=\"col_heading level0 col1\" >clause</th>        <th class=\"col_heading level0 col2\" >verb_utf8</th>    </tr>    <tr>        <th class=\"index_name level0\" >node</th>        <th class=\"blank\" ></th>        <th class=\"blank\" ></th>        <th class=\"blank\" ></th>    </tr></thead><tbody>\n",
       "                <tr>\n",
       "                        <th id=\"T_82d19_level0_row0\" class=\"row_heading level0 row0\" >427553</th>\n",
       "                        <td id=\"T_82d19_row0_col0\" class=\"data row0 col0\" >Genesis 1:1</td>\n",
       "                        <td id=\"T_82d19_row0_col1\" class=\"data row0 col1\" >בְּרֵאשִׁ֖ית בָּרָ֣א אֱלֹהִ֑ים אֵ֥ת הַשָּׁמַ֖יִם וְאֵ֥ת הָאָֽרֶץ׃ </td>\n",
       "                        <td id=\"T_82d19_row0_col2\" class=\"data row0 col2\" >ברא</td>\n",
       "            </tr>\n",
       "            <tr>\n",
       "                        <th id=\"T_82d19_level0_row1\" class=\"row_heading level0 row1\" >438413</th>\n",
       "                        <td id=\"T_82d19_row1_col0\" class=\"data row1 col0\" >Leviticus 7:15</td>\n",
       "                        <td id=\"T_82d19_row1_col1\" class=\"data row1 col1\" >וּבְשַׂ֗ר זֶ֚בַח תֹּודַ֣ת שְׁלָמָ֔יו בְּיֹ֥ום קָרְבָּנֹ֖ו יֵאָכֵ֑ל </td>\n",
       "                        <td id=\"T_82d19_row1_col2\" class=\"data row1 col2\" >אכל</td>\n",
       "            </tr>\n",
       "            <tr>\n",
       "                        <th id=\"T_82d19_level0_row2\" class=\"row_heading level0 row2\" >440902</th>\n",
       "                        <td id=\"T_82d19_row2_col0\" class=\"data row2 col0\" >Leviticus 27:24</td>\n",
       "                        <td id=\"T_82d19_row2_col1\" class=\"data row2 col1\" >בִּשְׁנַ֤ת הַיֹּובֵל֙ יָשׁ֣וּב הַשָּׂדֶ֔ה </td>\n",
       "                        <td id=\"T_82d19_row2_col2\" class=\"data row2 col2\" >שׁוב</td>\n",
       "            </tr>\n",
       "            <tr>\n",
       "                        <th id=\"T_82d19_level0_row3\" class=\"row_heading level0 row3\" >455131</th>\n",
       "                        <td id=\"T_82d19_row3_col0\" class=\"data row3 col0\" >1_Samuel 11:11</td>\n",
       "                        <td id=\"T_82d19_row3_col1\" class=\"data row3 col1\" >וַיָּבֹ֤אוּ בְתֹוךְ־הַֽמַּחֲנֶה֙ בְּאַשְׁמֹ֣רֶת הַבֹּ֔קֶר </td>\n",
       "                        <td id=\"T_82d19_row3_col2\" class=\"data row3 col2\" >בוא</td>\n",
       "            </tr>\n",
       "            <tr>\n",
       "                        <th id=\"T_82d19_level0_row4\" class=\"row_heading level0 row4\" >462104</th>\n",
       "                        <td id=\"T_82d19_row4_col0\" class=\"data row4 col0\" >1_Kings 7:24</td>\n",
       "                        <td id=\"T_82d19_row4_col1\" class=\"data row4 col1\" >שְׁנֵ֤י טוּרִים֙ הַפְּקָעִ֔ים יְצֻקִ֖ים בִּיצֻקָתֹֽו׃ </td>\n",
       "                        <td id=\"T_82d19_row4_col2\" class=\"data row4 col2\" >יצק</td>\n",
       "            </tr>\n",
       "            <tr>\n",
       "                        <th id=\"T_82d19_level0_row5\" class=\"row_heading level0 row5\" >466021</th>\n",
       "                        <td id=\"T_82d19_row5_col0\" class=\"data row5 col0\" >2_Kings 8:25</td>\n",
       "                        <td id=\"T_82d19_row5_col1\" class=\"data row5 col1\" >בִּשְׁנַת֙ שְׁתֵּים־עֶשְׂרֵ֣ה שָׁנָ֔ה לְיֹורָ֥ם בֶּן־אַחְאָ֖ב מֶ֣לֶךְ יִשְׂרָאֵ֑ל מָלַ֛ךְ אֲחַזְיָ֥הוּ בֶן־יְהֹורָ֖ם מֶ֥לֶךְ יְהוּדָֽה׃ </td>\n",
       "                        <td id=\"T_82d19_row5_col2\" class=\"data row5 col2\" >מלך</td>\n",
       "            </tr>\n",
       "            <tr>\n",
       "                        <th id=\"T_82d19_level0_row6\" class=\"row_heading level0 row6\" >467940</th>\n",
       "                        <td id=\"T_82d19_row6_col0\" class=\"data row6 col0\" >2_Kings 23:29</td>\n",
       "                        <td id=\"T_82d19_row6_col1\" class=\"data row6 col1\" >בְּיָמָ֡יו עָלָה֩ פַרְעֹ֨ה נְכֹ֧ה מֶֽלֶךְ־מִצְרַ֛יִם עַל־מֶ֥לֶךְ אַשּׁ֖וּר עַל־נְהַר־פְּרָ֑ת </td>\n",
       "                        <td id=\"T_82d19_row6_col2\" class=\"data row6 col2\" >עלה</td>\n",
       "            </tr>\n",
       "            <tr>\n",
       "                        <th id=\"T_82d19_level0_row7\" class=\"row_heading level0 row7\" >471202</th>\n",
       "                        <td id=\"T_82d19_row7_col0\" class=\"data row7 col0\" >Isaiah 39:8</td>\n",
       "                        <td id=\"T_82d19_row7_col1\" class=\"data row7 col1\" >כִּ֥י יִהְיֶ֛ה שָׁלֹ֥ום וֶאֱמֶ֖ת בְּיָמָֽי׃ פ </td>\n",
       "                        <td id=\"T_82d19_row7_col2\" class=\"data row7 col2\" >היה</td>\n",
       "            </tr>\n",
       "            <tr>\n",
       "                        <th id=\"T_82d19_level0_row8\" class=\"row_heading level0 row8\" >474025</th>\n",
       "                        <td id=\"T_82d19_row8_col0\" class=\"data row8 col0\" >Jeremiah 2:24</td>\n",
       "                        <td id=\"T_82d19_row8_col1\" class=\"data row8 col1\" >בְּחָדְשָׁ֖הּ יִמְצָאֽוּנְהָ׃ </td>\n",
       "                        <td id=\"T_82d19_row8_col2\" class=\"data row8 col2\" >מצא</td>\n",
       "            </tr>\n",
       "            <tr>\n",
       "                        <th id=\"T_82d19_level0_row9\" class=\"row_heading level0 row9\" >475824</th>\n",
       "                        <td id=\"T_82d19_row9_col0\" class=\"data row9 col0\" >Jeremiah 17:11</td>\n",
       "                        <td id=\"T_82d19_row9_col1\" class=\"data row9 col1\" >בַּחֲצִ֤י יָמָיו֙ יַעַזְבֶ֔נּוּ </td>\n",
       "                        <td id=\"T_82d19_row9_col2\" class=\"data row9 col2\" >עזב</td>\n",
       "            </tr>\n",
       "            <tr>\n",
       "                        <th id=\"T_82d19_level0_row10\" class=\"row_heading level0 row10\" >476391</th>\n",
       "                        <td id=\"T_82d19_row10_col0\" class=\"data row10 col0\" >Jeremiah 23:6</td>\n",
       "                        <td id=\"T_82d19_row10_col1\" class=\"data row10 col1\" >בְּיָמָיו֙ תִּוָּשַׁ֣ע יְהוּדָ֔ה </td>\n",
       "                        <td id=\"T_82d19_row10_col2\" class=\"data row10 col2\" >ישׁע</td>\n",
       "            </tr>\n",
       "            <tr>\n",
       "                        <th id=\"T_82d19_level0_row11\" class=\"row_heading level0 row11\" >481644</th>\n",
       "                        <td id=\"T_82d19_row11_col0\" class=\"data row11 col0\" >Ezekiel 16:56</td>\n",
       "                        <td id=\"T_82d19_row11_col1\" class=\"data row11 col1\" >וְלֹ֤וא הָֽיְתָה֙ סְדֹ֣ם אֲחֹותֵ֔ךְ לִשְׁמוּעָ֖ה בְּפִ֑יךְ בְּיֹ֖ום גְּאֹונָֽיִךְ׃ </td>\n",
       "                        <td id=\"T_82d19_row11_col2\" class=\"data row11 col2\" >היה</td>\n",
       "            </tr>\n",
       "            <tr>\n",
       "                        <th id=\"T_82d19_level0_row12\" class=\"row_heading level0 row12\" >485224</th>\n",
       "                        <td id=\"T_82d19_row12_col0\" class=\"data row12 col0\" >Ezekiel 46:1</td>\n",
       "                        <td id=\"T_82d19_row12_col1\" class=\"data row12 col1\" >וּבְיֹ֥ום הַחֹ֖דֶשׁ יִפָּתֵֽחַ׃ </td>\n",
       "                        <td id=\"T_82d19_row12_col2\" class=\"data row12 col2\" >פתח</td>\n",
       "            </tr>\n",
       "            <tr>\n",
       "                        <th id=\"T_82d19_level0_row13\" class=\"row_heading level0 row13\" >487358</th>\n",
       "                        <td id=\"T_82d19_row13_col0\" class=\"data row13 col0\" >Obadiah 1:13</td>\n",
       "                        <td id=\"T_82d19_row13_col1\" class=\"data row13 col1\" >אַל־תֵּ֧רֶא גַם־אַתָּ֛ה בְּרָעָתֹ֖ו בְּיֹ֣ום אֵידֹ֑ו </td>\n",
       "                        <td id=\"T_82d19_row13_col2\" class=\"data row13 col2\" >ראה</td>\n",
       "            </tr>\n",
       "            <tr>\n",
       "                        <th id=\"T_82d19_level0_row14\" class=\"row_heading level0 row14\" >490567</th>\n",
       "                        <td id=\"T_82d19_row14_col0\" class=\"data row14 col0\" >Psalms 10:5</td>\n",
       "                        <td id=\"T_82d19_row14_col1\" class=\"data row14 col1\" >יָ֘חִ֤ילוּ דְרָכָ֨יו ׀ בְּכָל־עֵ֗ת </td>\n",
       "                        <td id=\"T_82d19_row14_col2\" class=\"data row14 col2\" >חיל</td>\n",
       "            </tr>\n",
       "            <tr>\n",
       "                        <th id=\"T_82d19_level0_row15\" class=\"row_heading level0 row15\" >492519</th>\n",
       "                        <td id=\"T_82d19_row15_col0\" class=\"data row15 col0\" >Psalms 49:6</td>\n",
       "                        <td id=\"T_82d19_row15_col1\" class=\"data row15 col1\" >לָ֣מָּה אִ֭ירָא בִּ֣ימֵי רָ֑ע </td>\n",
       "                        <td id=\"T_82d19_row15_col2\" class=\"data row15 col2\" >ירא</td>\n",
       "            </tr>\n",
       "            <tr>\n",
       "                        <th id=\"T_82d19_level0_row16\" class=\"row_heading level0 row16\" >494601</th>\n",
       "                        <td id=\"T_82d19_row16_col0\" class=\"data row16 col0\" >Psalms 88:10</td>\n",
       "                        <td id=\"T_82d19_row16_col1\" class=\"data row16 col1\" >קְרָאתִ֣יךָ בְּכָל־יֹ֑ום </td>\n",
       "                        <td id=\"T_82d19_row16_col2\" class=\"data row16 col2\" >קרא</td>\n",
       "            </tr>\n",
       "            <tr>\n",
       "                        <th id=\"T_82d19_level0_row17\" class=\"row_heading level0 row17\" >495877</th>\n",
       "                        <td id=\"T_82d19_row17_col0\" class=\"data row17 col0\" >Psalms 110:5</td>\n",
       "                        <td id=\"T_82d19_row17_col1\" class=\"data row17 col1\" >אֲדֹנָ֥י עַל־יְמִֽינְךָ֑ מָחַ֖ץ בְּיֹום־אַפֹּ֣ו מְלָכִֽים׃ </td>\n",
       "                        <td id=\"T_82d19_row17_col2\" class=\"data row17 col2\" >מחץ</td>\n",
       "            </tr>\n",
       "            <tr>\n",
       "                        <th id=\"T_82d19_level0_row18\" class=\"row_heading level0 row18\" >497686</th>\n",
       "                        <td id=\"T_82d19_row18_col0\" class=\"data row18 col0\" >Job 3:6</td>\n",
       "                        <td id=\"T_82d19_row18_col1\" class=\"data row18 col1\" >אַל־יִ֭חַדְּ בִּימֵ֣י שָׁנָ֑ה </td>\n",
       "                        <td id=\"T_82d19_row18_col2\" class=\"data row18 col2\" >חדה</td>\n",
       "            </tr>\n",
       "            <tr>\n",
       "                        <th id=\"T_82d19_level0_row19\" class=\"row_heading level0 row19\" >501180</th>\n",
       "                        <td id=\"T_82d19_row19_col0\" class=\"data row19 col0\" >Proverbs 11:4</td>\n",
       "                        <td id=\"T_82d19_row19_col1\" class=\"data row19 col1\" >לֹא־יֹועִ֣יל הֹ֖ון בְּיֹ֣ום עֶבְרָ֑ה </td>\n",
       "                        <td id=\"T_82d19_row19_col2\" class=\"data row19 col2\" >יעל</td>\n",
       "            </tr>\n",
       "            <tr>\n",
       "                        <th id=\"T_82d19_level0_row20\" class=\"row_heading level0 row20\" >504345</th>\n",
       "                        <td id=\"T_82d19_row20_col0\" class=\"data row20 col0\" >Ecclesiastes 7:17</td>\n",
       "                        <td id=\"T_82d19_row20_col1\" class=\"data row20 col1\" >לָ֥מָּה תָמ֖וּת בְּלֹ֥א עִתֶּֽךָ׃ </td>\n",
       "                        <td id=\"T_82d19_row20_col2\" class=\"data row20 col2\" >מות</td>\n",
       "            </tr>\n",
       "            <tr>\n",
       "                        <th id=\"T_82d19_level0_row21\" class=\"row_heading level0 row21\" >505357</th>\n",
       "                        <td id=\"T_82d19_row21_col0\" class=\"data row21 col0\" >Esther 2:7</td>\n",
       "                        <td id=\"T_82d19_row21_col1\" class=\"data row21 col1\" >וּבְמֹ֤ות אָבִ֨יהָ֙ וְאִמָּ֔הּ לְקָחָ֧הּ מָרְדֳּכַ֛י לֹ֖ו לְבַֽת׃ </td>\n",
       "                        <td id=\"T_82d19_row21_col2\" class=\"data row21 col2\" >לקח</td>\n",
       "            </tr>\n",
       "            <tr>\n",
       "                        <th id=\"T_82d19_level0_row22\" class=\"row_heading level0 row22\" >509411</th>\n",
       "                        <td id=\"T_82d19_row22_col0\" class=\"data row22 col0\" >Nehemiah 9:27</td>\n",
       "                        <td id=\"T_82d19_row22_col1\" class=\"data row22 col1\" >וּבְעֵ֤ת צָֽרָתָם֙ יִצְעֲק֣וּ אֵלֶ֔יךָ </td>\n",
       "                        <td id=\"T_82d19_row22_col2\" class=\"data row22 col2\" >צעק</td>\n",
       "            </tr>\n",
       "            <tr>\n",
       "                        <th id=\"T_82d19_level0_row23\" class=\"row_heading level0 row23\" >511726</th>\n",
       "                        <td id=\"T_82d19_row23_col0\" class=\"data row23 col0\" >1_Chronicles 22:9</td>\n",
       "                        <td id=\"T_82d19_row23_col1\" class=\"data row23 col1\" >וְשָׁלֹ֥ום וָשֶׁ֛קֶט אֶתֵּ֥ן עַל־יִשְׂרָאֵ֖ל בְּיָמָֽיו׃ </td>\n",
       "                        <td id=\"T_82d19_row23_col2\" class=\"data row23 col2\" >נתן</td>\n",
       "            </tr>\n",
       "            <tr>\n",
       "                        <th id=\"T_82d19_level0_row24\" class=\"row_heading level0 row24\" >515214</th>\n",
       "                        <td id=\"T_82d19_row24_col0\" class=\"data row24 col0\" >2_Chronicles 32:26</td>\n",
       "                        <td id=\"T_82d19_row24_col1\" class=\"data row24 col1\" >וְלֹא־בָ֤א עֲלֵיהֶם֙ קֶ֣צֶף יְהוָ֔ה בִּימֵ֖י יְחִזְקִיָּֽהוּ׃ </td>\n",
       "                        <td id=\"T_82d19_row24_col2\" class=\"data row24 col2\" >בוא</td>\n",
       "            </tr>\n",
       "    </tbody></table>"
      ],
      "text/plain": [
       "<pandas.io.formats.style.Styler at 0x7fcf26ce6730>"
      ]
     },
     "execution_count": 48,
     "metadata": {},
     "output_type": "execute_result"
    }
   ],
   "source": [
    "ts.show(\n",
    "    clust4_df[clust4_df.lex_token == 'ב.זמן']\n",
    ")"
   ]
  },
  {
   "cell_type": "markdown",
   "metadata": {},
   "source": [
    "### Pull out examples of interest"
   ]
  },
  {
   "cell_type": "markdown",
   "metadata": {},
   "source": [
    "### B.H.ZMN.HMH"
   ]
  },
  {
   "cell_type": "code",
   "execution_count": 49,
   "metadata": {},
   "outputs": [
    {
     "name": "stdout",
     "output_type": "stream",
     "text": [
      "showing 5 of 5\n"
     ]
    },
    {
     "data": {
      "text/html": [
       "<style  type=\"text/css\" >\n",
       "#T_15b24_row0_col1,#T_15b24_row0_col2,#T_15b24_row1_col1,#T_15b24_row1_col2,#T_15b24_row2_col1,#T_15b24_row2_col2,#T_15b24_row3_col1,#T_15b24_row3_col2,#T_15b24_row4_col1,#T_15b24_row4_col2{\n",
       "            font-size: 20px;\n",
       "             font-family:  Times New Roman;\n",
       "             text-align:  right;\n",
       "             max-width:  500px;\n",
       "        }</style><table id=\"T_15b24_\" ><thead>    <tr>        <th class=\"blank level0\" ></th>        <th class=\"col_heading level0 col0\" >verse</th>        <th class=\"col_heading level0 col1\" >clause</th>        <th class=\"col_heading level0 col2\" >verb_utf8</th>        <th class=\"col_heading level0 col3\" >Time Position</th>        <th class=\"col_heading level0 col4\" >verbtense</th>    </tr>    <tr>        <th class=\"index_name level0\" >node</th>        <th class=\"blank\" ></th>        <th class=\"blank\" ></th>        <th class=\"blank\" ></th>        <th class=\"blank\" ></th>        <th class=\"blank\" ></th>    </tr></thead><tbody>\n",
       "                <tr>\n",
       "                        <th id=\"T_15b24_level0_row0\" class=\"row_heading level0 row0\" >474165</th>\n",
       "                        <td id=\"T_15b24_row0_col0\" class=\"data row0 col0\" >Jeremiah 3:16</td>\n",
       "                        <td id=\"T_15b24_row0_col1\" class=\"data row0 col1\" >וּפְרִיתֶ֨ם בָּאָ֜רֶץ בַּיָּמִ֤ים הָהֵ֨מָּה֙ </td>\n",
       "                        <td id=\"T_15b24_row0_col2\" class=\"data row0 col2\" >פרה</td>\n",
       "                        <td id=\"T_15b24_row0_col3\" class=\"data row0 col3\" >final</td>\n",
       "                        <td id=\"T_15b24_row0_col4\" class=\"data row0 col4\" >nan</td>\n",
       "            </tr>\n",
       "            <tr>\n",
       "                        <th id=\"T_15b24_level0_row1\" class=\"row_heading level0 row1\" >474176</th>\n",
       "                        <td id=\"T_15b24_row1_col0\" class=\"data row1 col0\" >Jeremiah 3:18</td>\n",
       "                        <td id=\"T_15b24_row1_col1\" class=\"data row1 col1\" >בַּיָּמִ֣ים הָהֵ֔מָּה יֵלְכ֥וּ בֵית־יְהוּדָ֖ה עַל־בֵּ֣ית יִשְׂרָאֵ֑ל </td>\n",
       "                        <td id=\"T_15b24_row1_col2\" class=\"data row1 col2\" >הלך</td>\n",
       "                        <td id=\"T_15b24_row1_col3\" class=\"data row1 col3\" >preposed</td>\n",
       "                        <td id=\"T_15b24_row1_col4\" class=\"data row1 col4\" >MOD shall</td>\n",
       "            </tr>\n",
       "            <tr>\n",
       "                        <th id=\"T_15b24_level0_row2\" class=\"row_heading level0 row2\" >474447</th>\n",
       "                        <td id=\"T_15b24_row2_col0\" class=\"data row2 col0\" >Jeremiah 5:18</td>\n",
       "                        <td id=\"T_15b24_row2_col1\" class=\"data row2 col1\" >וְגַ֛ם בַּיָּמִ֥ים הָהֵ֖מָּה לֹֽא־אֶעֱשֶׂ֥ה אִתְּכֶ֖ם כָּלָֽה׃ </td>\n",
       "                        <td id=\"T_15b24_row2_col2\" class=\"data row2 col2\" >עשׂה</td>\n",
       "                        <td id=\"T_15b24_row2_col3\" class=\"data row2 col3\" >preposed</td>\n",
       "                        <td id=\"T_15b24_row2_col4\" class=\"data row2 col4\" >FUT</td>\n",
       "            </tr>\n",
       "            <tr>\n",
       "                        <th id=\"T_15b24_level0_row3\" class=\"row_heading level0 row3\" >486576</th>\n",
       "                        <td id=\"T_15b24_row3_col0\" class=\"data row3 col0\" >Joel 3:2</td>\n",
       "                        <td id=\"T_15b24_row3_col1\" class=\"data row3 col1\" >וְגַ֥ם עַל־הָֽעֲבָדִ֖ים וְעַל־הַשְּׁפָחֹ֑ות בַּיָּמִ֣ים הָהֵ֔מָּה אֶשְׁפֹּ֖וךְ אֶת־רוּחִֽי׃ </td>\n",
       "                        <td id=\"T_15b24_row3_col2\" class=\"data row3 col2\" >שׁפך</td>\n",
       "                        <td id=\"T_15b24_row3_col3\" class=\"data row3 col3\" >preposed</td>\n",
       "                        <td id=\"T_15b24_row3_col4\" class=\"data row3 col4\" >FUT</td>\n",
       "            </tr>\n",
       "            <tr>\n",
       "                        <th id=\"T_15b24_level0_row4\" class=\"row_heading level0 row4\" >509765</th>\n",
       "                        <td id=\"T_15b24_row4_col0\" class=\"data row4 col0\" >Nehemiah 13:15</td>\n",
       "                        <td id=\"T_15b24_row4_col1\" class=\"data row4 col1\" >בַּיָּמִ֣ים הָהֵ֡מָּה רָאִ֣יתִי בִֽיהוּדָ֣ה׀ </td>\n",
       "                        <td id=\"T_15b24_row4_col2\" class=\"data row4 col2\" >ראה</td>\n",
       "                        <td id=\"T_15b24_row4_col3\" class=\"data row4 col3\" >preposed</td>\n",
       "                        <td id=\"T_15b24_row4_col4\" class=\"data row4 col4\" >PAST</td>\n",
       "            </tr>\n",
       "    </tbody></table>"
      ],
      "text/plain": [
       "<pandas.io.formats.style.Styler at 0x7fcf26f7f700>"
      ]
     },
     "execution_count": 49,
     "metadata": {},
     "output_type": "execute_result"
    }
   ],
   "source": [
    "exs = [\n",
    "  #  'ב.ה.זמן.הם',\n",
    "    \n",
    "]\n",
    "\n",
    "inthosedays = main_df[(main_df.lex_token == 'ב.ה.זמן.המה')]\n",
    "\n",
    "ts.show(\n",
    " inthosedays, extra=['Time Position', 'verbtense']\n",
    ")"
   ]
  },
  {
   "cell_type": "code",
   "execution_count": 50,
   "metadata": {},
   "outputs": [
    {
     "name": "stdout",
     "output_type": "stream",
     "text": [
      "showing 6 of 6\n"
     ]
    },
    {
     "data": {
      "text/html": [
       "<style  type=\"text/css\" >\n",
       "#T_08339_row0_col1,#T_08339_row0_col2,#T_08339_row1_col1,#T_08339_row1_col2,#T_08339_row2_col1,#T_08339_row2_col2,#T_08339_row3_col1,#T_08339_row3_col2,#T_08339_row4_col1,#T_08339_row4_col2,#T_08339_row5_col1,#T_08339_row5_col2{\n",
       "            font-size: 20px;\n",
       "             font-family:  Times New Roman;\n",
       "             text-align:  right;\n",
       "             max-width:  500px;\n",
       "        }</style><table id=\"T_08339_\" ><thead>    <tr>        <th class=\"blank level0\" ></th>        <th class=\"col_heading level0 col0\" >verse</th>        <th class=\"col_heading level0 col1\" >clause</th>        <th class=\"col_heading level0 col2\" >verb_utf8</th>        <th class=\"col_heading level0 col3\" >Time Position</th>        <th class=\"col_heading level0 col4\" >verbform</th>        <th class=\"col_heading level0 col5\" >verbtense</th>    </tr>    <tr>        <th class=\"index_name level0\" >node</th>        <th class=\"blank\" ></th>        <th class=\"blank\" ></th>        <th class=\"blank\" ></th>        <th class=\"blank\" ></th>        <th class=\"blank\" ></th>        <th class=\"blank\" ></th>    </tr></thead><tbody>\n",
       "                <tr>\n",
       "                        <th id=\"T_08339_level0_row0\" class=\"row_heading level0 row0\" >434416</th>\n",
       "                        <td id=\"T_08339_row0_col0\" class=\"data row0 col0\" >Exodus 8:25</td>\n",
       "                        <td id=\"T_08339_row0_col1\" class=\"data row0 col1\" >וְסָ֣ר הֶעָרֹ֗ב מִפַּרְעֹ֛ה מֵעֲבָדָ֥יו וּמֵעַמֹּ֖ו מָחָ֑ר </td>\n",
       "                        <td id=\"T_08339_row0_col2\" class=\"data row0 col2\" >סור</td>\n",
       "                        <td id=\"T_08339_row0_col3\" class=\"data row0 col3\" >final</td>\n",
       "                        <td id=\"T_08339_row0_col4\" class=\"data row0 col4\" >wqtl</td>\n",
       "                        <td id=\"T_08339_row0_col5\" class=\"data row0 col5\" >MOD may</td>\n",
       "            </tr>\n",
       "            <tr>\n",
       "                        <th id=\"T_08339_level0_row1\" class=\"row_heading level0 row1\" >442095</th>\n",
       "                        <td id=\"T_08339_row1_col0\" class=\"data row1 col0\" >Numbers 11:18</td>\n",
       "                        <td id=\"T_08339_row1_col1\" class=\"data row1 col1\" >הִתְקַדְּשׁ֣וּ לְמָחָר֮ </td>\n",
       "                        <td id=\"T_08339_row1_col2\" class=\"data row1 col2\" >קדשׁ</td>\n",
       "                        <td id=\"T_08339_row1_col3\" class=\"data row1 col3\" >final</td>\n",
       "                        <td id=\"T_08339_row1_col4\" class=\"data row1 col4\" >impv</td>\n",
       "                        <td id=\"T_08339_row1_col5\" class=\"data row1 col5\" >IMPV</td>\n",
       "            </tr>\n",
       "            <tr>\n",
       "                        <th id=\"T_08339_level0_row2\" class=\"row_heading level0 row2\" >442670</th>\n",
       "                        <td id=\"T_08339_row2_col0\" class=\"data row2 col0\" >Numbers 16:7</td>\n",
       "                        <td id=\"T_08339_row2_col1\" class=\"data row2 col1\" >וְשִׂימוּ֩ עֲלֵיהֶ֨ן קְטֹ֜רֶת לִפְנֵ֤י יְהוָה֙ מָחָ֔ר </td>\n",
       "                        <td id=\"T_08339_row2_col2\" class=\"data row2 col2\" >שׂים</td>\n",
       "                        <td id=\"T_08339_row2_col3\" class=\"data row2 col3\" >final</td>\n",
       "                        <td id=\"T_08339_row2_col4\" class=\"data row2 col4\" >impv</td>\n",
       "                        <td id=\"T_08339_row2_col5\" class=\"data row2 col5\" >IMPV</td>\n",
       "            </tr>\n",
       "            <tr>\n",
       "                        <th id=\"T_08339_level0_row3\" class=\"row_heading level0 row3\" >442711</th>\n",
       "                        <td id=\"T_08339_row3_col0\" class=\"data row3 col0\" >Numbers 16:16</td>\n",
       "                        <td id=\"T_08339_row3_col1\" class=\"data row3 col1\" >אַתָּה֙ וְכָל־עֲדָ֣תְךָ֔ הֱי֖וּ לִפְנֵ֣י יְהוָ֑ה אַתָּ֥ה וָהֵ֛ם וְאַהֲרֹ֖ן מָחָֽר׃ </td>\n",
       "                        <td id=\"T_08339_row3_col2\" class=\"data row3 col2\" >היה</td>\n",
       "                        <td id=\"T_08339_row3_col3\" class=\"data row3 col3\" >final</td>\n",
       "                        <td id=\"T_08339_row3_col4\" class=\"data row3 col4\" >impv</td>\n",
       "                        <td id=\"T_08339_row3_col5\" class=\"data row3 col5\" >IMPV</td>\n",
       "            </tr>\n",
       "            <tr>\n",
       "                        <th id=\"T_08339_level0_row4\" class=\"row_heading level0 row4\" >449367</th>\n",
       "                        <td id=\"T_08339_row4_col0\" class=\"data row4 col0\" >Joshua 7:13</td>\n",
       "                        <td id=\"T_08339_row4_col1\" class=\"data row4 col1\" >הִתְקַדְּשׁ֣וּ לְמָחָ֑ר </td>\n",
       "                        <td id=\"T_08339_row4_col2\" class=\"data row4 col2\" >קדשׁ</td>\n",
       "                        <td id=\"T_08339_row4_col3\" class=\"data row4 col3\" >final</td>\n",
       "                        <td id=\"T_08339_row4_col4\" class=\"data row4 col4\" >impv</td>\n",
       "                        <td id=\"T_08339_row4_col5\" class=\"data row4 col5\" >IMPV</td>\n",
       "            </tr>\n",
       "            <tr>\n",
       "                        <th id=\"T_08339_level0_row5\" class=\"row_heading level0 row5\" >465714</th>\n",
       "                        <td id=\"T_08339_row5_col0\" class=\"data row5 col0\" >2_Kings 6:28</td>\n",
       "                        <td id=\"T_08339_row5_col1\" class=\"data row5 col1\" >וְאֶת־בְּנִ֖י נֹאכַ֥ל מָחָֽר׃ </td>\n",
       "                        <td id=\"T_08339_row5_col2\" class=\"data row5 col2\" >אכל</td>\n",
       "                        <td id=\"T_08339_row5_col3\" class=\"data row5 col3\" >final</td>\n",
       "                        <td id=\"T_08339_row5_col4\" class=\"data row5 col4\" >yqtl</td>\n",
       "                        <td id=\"T_08339_row5_col5\" class=\"data row5 col5\" >FUT</td>\n",
       "            </tr>\n",
       "    </tbody></table>"
      ],
      "text/plain": [
       "<pandas.io.formats.style.Styler at 0x7fcf26f7faf0>"
      ]
     },
     "execution_count": 50,
     "metadata": {},
     "output_type": "execute_result"
    }
   ],
   "source": [
    "ts.show(\n",
    "    main_df[(main_df.times_etcbc == 'MXR/') & (main_df['Time Position'] == 'final')], \n",
    "    extra=['Time Position', 'verbform', 'verbtense']\n",
    ")"
   ]
  },
  {
   "cell_type": "code",
   "execution_count": 51,
   "metadata": {},
   "outputs": [
    {
     "data": {
      "text/plain": [
       "FUT          2\n",
       "PAST         1\n",
       "MOD shall    1\n",
       "Name: verbtense, dtype: int64"
      ]
     },
     "execution_count": 51,
     "metadata": {},
     "output_type": "execute_result"
    }
   ],
   "source": [
    "inthosedays.verbtense.value_counts()"
   ]
  },
  {
   "cell_type": "markdown",
   "metadata": {},
   "source": [
    "## Does verb choice interact with position?"
   ]
  },
  {
   "cell_type": "code",
   "execution_count": 52,
   "metadata": {},
   "outputs": [
    {
     "data": {
      "text/html": [
       "<div>\n",
       "<style scoped>\n",
       "    .dataframe tbody tr th:only-of-type {\n",
       "        vertical-align: middle;\n",
       "    }\n",
       "\n",
       "    .dataframe tbody tr th {\n",
       "        vertical-align: top;\n",
       "    }\n",
       "\n",
       "    .dataframe thead th {\n",
       "        text-align: right;\n",
       "    }\n",
       "</style>\n",
       "<table border=\"1\" class=\"dataframe\">\n",
       "  <thead>\n",
       "    <tr style=\"text-align: right;\">\n",
       "      <th>Time Position</th>\n",
       "      <th>final</th>\n",
       "      <th>preposed</th>\n",
       "      <th>medial</th>\n",
       "    </tr>\n",
       "    <tr>\n",
       "      <th>verbform</th>\n",
       "      <th></th>\n",
       "      <th></th>\n",
       "      <th></th>\n",
       "    </tr>\n",
       "  </thead>\n",
       "  <tbody>\n",
       "    <tr>\n",
       "      <th>wayq</th>\n",
       "      <td>535</td>\n",
       "      <td>0</td>\n",
       "      <td>65</td>\n",
       "    </tr>\n",
       "    <tr>\n",
       "      <th>yqtl</th>\n",
       "      <td>204</td>\n",
       "      <td>333</td>\n",
       "      <td>27</td>\n",
       "    </tr>\n",
       "    <tr>\n",
       "      <th>qtl</th>\n",
       "      <td>155</td>\n",
       "      <td>256</td>\n",
       "      <td>37</td>\n",
       "    </tr>\n",
       "    <tr>\n",
       "      <th>wqtl</th>\n",
       "      <td>218</td>\n",
       "      <td>0</td>\n",
       "      <td>22</td>\n",
       "    </tr>\n",
       "    <tr>\n",
       "      <th>ptcp</th>\n",
       "      <td>54</td>\n",
       "      <td>26</td>\n",
       "      <td>11</td>\n",
       "    </tr>\n",
       "    <tr>\n",
       "      <th>impv</th>\n",
       "      <td>46</td>\n",
       "      <td>7</td>\n",
       "      <td>14</td>\n",
       "    </tr>\n",
       "    <tr>\n",
       "      <th>cohoF</th>\n",
       "      <td>14</td>\n",
       "      <td>3</td>\n",
       "      <td>1</td>\n",
       "    </tr>\n",
       "    <tr>\n",
       "      <th>jussF</th>\n",
       "      <td>7</td>\n",
       "      <td>3</td>\n",
       "      <td>1</td>\n",
       "    </tr>\n",
       "    <tr>\n",
       "      <th>Ø</th>\n",
       "      <td>1</td>\n",
       "      <td>0</td>\n",
       "      <td>0</td>\n",
       "    </tr>\n",
       "  </tbody>\n",
       "</table>\n",
       "</div>"
      ],
      "text/plain": [
       "Time Position  final  preposed  medial\n",
       "verbform                              \n",
       "wayq             535         0      65\n",
       "yqtl             204       333      27\n",
       "qtl              155       256      37\n",
       "wqtl             218         0      22\n",
       "ptcp              54        26      11\n",
       "impv              46         7      14\n",
       "cohoF             14         3       1\n",
       "jussF              7         3       1\n",
       "Ø                  1         0       0"
      ]
     },
     "execution_count": 52,
     "metadata": {},
     "output_type": "execute_result"
    }
   ],
   "source": [
    "vcpos_ct = pivot_ct(\n",
    "    main_df[~main_df.lex_token.isin(cluster1.index)], # exclude preposed advbs\n",
    "    'verbform',\n",
    "    'Time Position',\n",
    ")\n",
    "\n",
    "vcpos_ct"
   ]
  },
  {
   "cell_type": "code",
   "execution_count": 53,
   "metadata": {},
   "outputs": [
    {
     "data": {
      "text/html": [
       "<div>\n",
       "<style scoped>\n",
       "    .dataframe tbody tr th:only-of-type {\n",
       "        vertical-align: middle;\n",
       "    }\n",
       "\n",
       "    .dataframe tbody tr th {\n",
       "        vertical-align: top;\n",
       "    }\n",
       "\n",
       "    .dataframe thead th {\n",
       "        text-align: right;\n",
       "    }\n",
       "</style>\n",
       "<table border=\"1\" class=\"dataframe\">\n",
       "  <thead>\n",
       "    <tr style=\"text-align: right;\">\n",
       "      <th>Time Position</th>\n",
       "      <th>final</th>\n",
       "      <th>preposed</th>\n",
       "      <th>medial</th>\n",
       "    </tr>\n",
       "    <tr>\n",
       "      <th>verbform</th>\n",
       "      <th></th>\n",
       "      <th></th>\n",
       "      <th></th>\n",
       "    </tr>\n",
       "  </thead>\n",
       "  <tbody>\n",
       "    <tr>\n",
       "      <th>wayq</th>\n",
       "      <td>0.891667</td>\n",
       "      <td>0.000000</td>\n",
       "      <td>0.108333</td>\n",
       "    </tr>\n",
       "    <tr>\n",
       "      <th>yqtl</th>\n",
       "      <td>0.361702</td>\n",
       "      <td>0.590426</td>\n",
       "      <td>0.047872</td>\n",
       "    </tr>\n",
       "    <tr>\n",
       "      <th>qtl</th>\n",
       "      <td>0.345982</td>\n",
       "      <td>0.571429</td>\n",
       "      <td>0.082589</td>\n",
       "    </tr>\n",
       "    <tr>\n",
       "      <th>wqtl</th>\n",
       "      <td>0.908333</td>\n",
       "      <td>0.000000</td>\n",
       "      <td>0.091667</td>\n",
       "    </tr>\n",
       "    <tr>\n",
       "      <th>ptcp</th>\n",
       "      <td>0.593407</td>\n",
       "      <td>0.285714</td>\n",
       "      <td>0.120879</td>\n",
       "    </tr>\n",
       "    <tr>\n",
       "      <th>impv</th>\n",
       "      <td>0.686567</td>\n",
       "      <td>0.104478</td>\n",
       "      <td>0.208955</td>\n",
       "    </tr>\n",
       "    <tr>\n",
       "      <th>cohoF</th>\n",
       "      <td>0.777778</td>\n",
       "      <td>0.166667</td>\n",
       "      <td>0.055556</td>\n",
       "    </tr>\n",
       "    <tr>\n",
       "      <th>jussF</th>\n",
       "      <td>0.636364</td>\n",
       "      <td>0.272727</td>\n",
       "      <td>0.090909</td>\n",
       "    </tr>\n",
       "    <tr>\n",
       "      <th>Ø</th>\n",
       "      <td>1.000000</td>\n",
       "      <td>0.000000</td>\n",
       "      <td>0.000000</td>\n",
       "    </tr>\n",
       "  </tbody>\n",
       "</table>\n",
       "</div>"
      ],
      "text/plain": [
       "Time Position     final  preposed    medial\n",
       "verbform                                   \n",
       "wayq           0.891667  0.000000  0.108333\n",
       "yqtl           0.361702  0.590426  0.047872\n",
       "qtl            0.345982  0.571429  0.082589\n",
       "wqtl           0.908333  0.000000  0.091667\n",
       "ptcp           0.593407  0.285714  0.120879\n",
       "impv           0.686567  0.104478  0.208955\n",
       "cohoF          0.777778  0.166667  0.055556\n",
       "jussF          0.636364  0.272727  0.090909\n",
       "Ø              1.000000  0.000000  0.000000"
      ]
     },
     "execution_count": 53,
     "metadata": {},
     "output_type": "execute_result"
    }
   ],
   "source": [
    "vcpos_pr = vcpos_ct.div(vcpos_ct.sum(1), 0)\n",
    "\n",
    "vcpos_pr"
   ]
  },
  {
   "cell_type": "code",
   "execution_count": 54,
   "metadata": {},
   "outputs": [
    {
     "data": {
      "text/html": [
       "<div>\n",
       "<style scoped>\n",
       "    .dataframe tbody tr th:only-of-type {\n",
       "        vertical-align: middle;\n",
       "    }\n",
       "\n",
       "    .dataframe tbody tr th {\n",
       "        vertical-align: top;\n",
       "    }\n",
       "\n",
       "    .dataframe thead th {\n",
       "        text-align: right;\n",
       "    }\n",
       "</style>\n",
       "<table border=\"1\" class=\"dataframe\">\n",
       "  <thead>\n",
       "    <tr style=\"text-align: right;\">\n",
       "      <th>Time Position</th>\n",
       "      <th>final</th>\n",
       "      <th>preposed</th>\n",
       "      <th>medial</th>\n",
       "    </tr>\n",
       "    <tr>\n",
       "      <th>verbform</th>\n",
       "      <th></th>\n",
       "      <th></th>\n",
       "      <th></th>\n",
       "    </tr>\n",
       "  </thead>\n",
       "  <tbody>\n",
       "    <tr>\n",
       "      <th>wayq</th>\n",
       "      <td>0.406250</td>\n",
       "      <td>-0.436111</td>\n",
       "      <td>0.029861</td>\n",
       "    </tr>\n",
       "    <tr>\n",
       "      <th>yqtl</th>\n",
       "      <td>-0.336130</td>\n",
       "      <td>0.390561</td>\n",
       "      <td>-0.054431</td>\n",
       "    </tr>\n",
       "    <tr>\n",
       "      <th>qtl</th>\n",
       "      <td>-0.331782</td>\n",
       "      <td>0.337760</td>\n",
       "      <td>-0.005979</td>\n",
       "    </tr>\n",
       "    <tr>\n",
       "      <th>wqtl</th>\n",
       "      <td>0.343889</td>\n",
       "      <td>-0.348889</td>\n",
       "      <td>0.005000</td>\n",
       "    </tr>\n",
       "    <tr>\n",
       "      <th>ptcp</th>\n",
       "      <td>-0.012032</td>\n",
       "      <td>-0.023162</td>\n",
       "      <td>0.035194</td>\n",
       "    </tr>\n",
       "    <tr>\n",
       "      <th>impv</th>\n",
       "      <td>0.084438</td>\n",
       "      <td>-0.210272</td>\n",
       "      <td>0.125833</td>\n",
       "    </tr>\n",
       "    <tr>\n",
       "      <th>cohoF</th>\n",
       "      <td>0.174415</td>\n",
       "      <td>-0.142433</td>\n",
       "      <td>-0.031982</td>\n",
       "    </tr>\n",
       "    <tr>\n",
       "      <th>jussF</th>\n",
       "      <td>0.031632</td>\n",
       "      <td>-0.035306</td>\n",
       "      <td>0.003674</td>\n",
       "    </tr>\n",
       "    <tr>\n",
       "      <th>Ø</th>\n",
       "      <td>0.395292</td>\n",
       "      <td>-0.307994</td>\n",
       "      <td>-0.087298</td>\n",
       "    </tr>\n",
       "  </tbody>\n",
       "</table>\n",
       "</div>"
      ],
      "text/plain": [
       "Time Position     final  preposed    medial\n",
       "verbform                                   \n",
       "wayq           0.406250 -0.436111  0.029861\n",
       "yqtl          -0.336130  0.390561 -0.054431\n",
       "qtl           -0.331782  0.337760 -0.005979\n",
       "wqtl           0.343889 -0.348889  0.005000\n",
       "ptcp          -0.012032 -0.023162  0.035194\n",
       "impv           0.084438 -0.210272  0.125833\n",
       "cohoF          0.174415 -0.142433 -0.031982\n",
       "jussF          0.031632 -0.035306  0.003674\n",
       "Ø              0.395292 -0.307994 -0.087298"
      ]
     },
     "execution_count": 54,
     "metadata": {},
     "output_type": "execute_result"
    }
   ],
   "source": [
    "vcpos_dp = sig.apply_deltaP(vcpos_ct, 0, 1)\n",
    "\n",
    "vcpos_dp"
   ]
  },
  {
   "cell_type": "code",
   "execution_count": 56,
   "metadata": {},
   "outputs": [
    {
     "data": {
      "image/png": "[encoded data removed]",
      "text/plain": [
       "<Figure size 360x360 with 2 Axes>"
      ]
     },
     "metadata": {
      "needs_background": "light"
     },
     "output_type": "display_data"
    }
   ],
   "source": [
    "fig, ax = plt.subplots(figsize=(5, 5))\n",
    "heatmap(vcpos_dp, square=False, annot=True)\n",
    "ax.set_yticklabels(ax.get_yticklabels(), rotation=0)\n",
    "plt.show()"
   ]
  },
  {
   "cell_type": "markdown",
   "metadata": {},
   "source": [
    "## Function and Word Order"
   ]
  },
  {
   "cell_type": "code",
   "execution_count": 57,
   "metadata": {},
   "outputs": [
    {
     "data": {
      "text/html": [
       "<div>\n",
       "<style scoped>\n",
       "    .dataframe tbody tr th:only-of-type {\n",
       "        vertical-align: middle;\n",
       "    }\n",
       "\n",
       "    .dataframe tbody tr th {\n",
       "        vertical-align: top;\n",
       "    }\n",
       "\n",
       "    .dataframe thead th {\n",
       "        text-align: right;\n",
       "    }\n",
       "</style>\n",
       "<table border=\"1\" class=\"dataframe\">\n",
       "  <thead>\n",
       "    <tr style=\"text-align: right;\">\n",
       "      <th>Time Position</th>\n",
       "      <th>final</th>\n",
       "      <th>preposed</th>\n",
       "      <th>medial</th>\n",
       "    </tr>\n",
       "    <tr>\n",
       "      <th>function</th>\n",
       "      <th></th>\n",
       "      <th></th>\n",
       "      <th></th>\n",
       "    </tr>\n",
       "  </thead>\n",
       "  <tbody>\n",
       "    <tr>\n",
       "      <th>simultaneous</th>\n",
       "      <td>585</td>\n",
       "      <td>462</td>\n",
       "      <td>129</td>\n",
       "    </tr>\n",
       "    <tr>\n",
       "      <th>atelic_ext</th>\n",
       "      <td>240</td>\n",
       "      <td>113</td>\n",
       "      <td>20</td>\n",
       "    </tr>\n",
       "    <tr>\n",
       "      <th>anterior_dur</th>\n",
       "      <td>223</td>\n",
       "      <td>74</td>\n",
       "      <td>12</td>\n",
       "    </tr>\n",
       "    <tr>\n",
       "      <th>posterior</th>\n",
       "      <td>85</td>\n",
       "      <td>102</td>\n",
       "      <td>7</td>\n",
       "    </tr>\n",
       "    <tr>\n",
       "      <th>posterior_dur</th>\n",
       "      <td>16</td>\n",
       "      <td>17</td>\n",
       "      <td>1</td>\n",
       "    </tr>\n",
       "    <tr>\n",
       "      <th>purposive_ext</th>\n",
       "      <td>23</td>\n",
       "      <td>1</td>\n",
       "      <td>2</td>\n",
       "    </tr>\n",
       "    <tr>\n",
       "      <th>anterior_dur_purposive</th>\n",
       "      <td>15</td>\n",
       "      <td>0</td>\n",
       "      <td>0</td>\n",
       "    </tr>\n",
       "    <tr>\n",
       "      <th>regular_recurrence</th>\n",
       "      <td>8</td>\n",
       "      <td>2</td>\n",
       "      <td>3</td>\n",
       "    </tr>\n",
       "    <tr>\n",
       "      <th>anterior</th>\n",
       "      <td>4</td>\n",
       "      <td>6</td>\n",
       "      <td>1</td>\n",
       "    </tr>\n",
       "    <tr>\n",
       "      <th>habitual</th>\n",
       "      <td>5</td>\n",
       "      <td>2</td>\n",
       "      <td>4</td>\n",
       "    </tr>\n",
       "  </tbody>\n",
       "</table>\n",
       "</div>"
      ],
      "text/plain": [
       "Time Position           final  preposed  medial\n",
       "function                                       \n",
       "simultaneous              585       462     129\n",
       "atelic_ext                240       113      20\n",
       "anterior_dur              223        74      12\n",
       "posterior                  85       102       7\n",
       "posterior_dur              16        17       1\n",
       "purposive_ext              23         1       2\n",
       "anterior_dur_purposive     15         0       0\n",
       "regular_recurrence          8         2       3\n",
       "anterior                    4         6       1\n",
       "habitual                    5         2       4"
      ]
     },
     "execution_count": 57,
     "metadata": {},
     "output_type": "execute_result"
    }
   ],
   "source": [
    "fpos_ct = pivot_ct(\n",
    "    main_df,\n",
    "    'function',\n",
    "    'Time Position'\n",
    ")\n",
    "\n",
    "fpos_ct = fpos_ct.head(10)\n",
    "\n",
    "fpos_ct"
   ]
  },
  {
   "cell_type": "code",
   "execution_count": 58,
   "metadata": {},
   "outputs": [
    {
     "data": {
      "text/html": [
       "<div>\n",
       "<style scoped>\n",
       "    .dataframe tbody tr th:only-of-type {\n",
       "        vertical-align: middle;\n",
       "    }\n",
       "\n",
       "    .dataframe tbody tr th {\n",
       "        vertical-align: top;\n",
       "    }\n",
       "\n",
       "    .dataframe thead th {\n",
       "        text-align: right;\n",
       "    }\n",
       "</style>\n",
       "<table border=\"1\" class=\"dataframe\">\n",
       "  <thead>\n",
       "    <tr style=\"text-align: right;\">\n",
       "      <th>Time Position</th>\n",
       "      <th>final</th>\n",
       "      <th>preposed</th>\n",
       "      <th>medial</th>\n",
       "    </tr>\n",
       "    <tr>\n",
       "      <th>function</th>\n",
       "      <th></th>\n",
       "      <th></th>\n",
       "      <th></th>\n",
       "    </tr>\n",
       "  </thead>\n",
       "  <tbody>\n",
       "    <tr>\n",
       "      <th>simultaneous</th>\n",
       "      <td>-0.130340</td>\n",
       "      <td>0.071356</td>\n",
       "      <td>0.058984</td>\n",
       "    </tr>\n",
       "    <tr>\n",
       "      <th>atelic_ext</th>\n",
       "      <td>0.104583</td>\n",
       "      <td>-0.069326</td>\n",
       "      <td>-0.035257</td>\n",
       "    </tr>\n",
       "    <tr>\n",
       "      <th>anterior_dur</th>\n",
       "      <td>0.192271</td>\n",
       "      <td>-0.140982</td>\n",
       "      <td>-0.051289</td>\n",
       "    </tr>\n",
       "    <tr>\n",
       "      <th>posterior</th>\n",
       "      <td>-0.130453</td>\n",
       "      <td>0.181769</td>\n",
       "      <td>-0.051316</td>\n",
       "    </tr>\n",
       "    <tr>\n",
       "      <th>posterior_dur</th>\n",
       "      <td>-0.087682</td>\n",
       "      <td>0.141917</td>\n",
       "      <td>-0.054235</td>\n",
       "    </tr>\n",
       "    <tr>\n",
       "      <th>purposive_ext</th>\n",
       "      <td>0.331713</td>\n",
       "      <td>-0.325771</td>\n",
       "      <td>-0.005942</td>\n",
       "    </tr>\n",
       "    <tr>\n",
       "      <th>anterior_dur_purposive</th>\n",
       "      <td>0.446204</td>\n",
       "      <td>-0.362832</td>\n",
       "      <td>-0.083372</td>\n",
       "    </tr>\n",
       "    <tr>\n",
       "      <th>regular_recurrence</th>\n",
       "      <td>0.058847</td>\n",
       "      <td>-0.207717</td>\n",
       "      <td>0.148871</td>\n",
       "    </tr>\n",
       "    <tr>\n",
       "      <th>anterior</th>\n",
       "      <td>-0.194244</td>\n",
       "      <td>0.186087</td>\n",
       "      <td>0.008157</td>\n",
       "    </tr>\n",
       "    <tr>\n",
       "      <th>habitual</th>\n",
       "      <td>-0.102870</td>\n",
       "      <td>-0.179409</td>\n",
       "      <td>0.282279</td>\n",
       "    </tr>\n",
       "  </tbody>\n",
       "</table>\n",
       "</div>"
      ],
      "text/plain": [
       "Time Position              final  preposed    medial\n",
       "function                                            \n",
       "simultaneous           -0.130340  0.071356  0.058984\n",
       "atelic_ext              0.104583 -0.069326 -0.035257\n",
       "anterior_dur            0.192271 -0.140982 -0.051289\n",
       "posterior              -0.130453  0.181769 -0.051316\n",
       "posterior_dur          -0.087682  0.141917 -0.054235\n",
       "purposive_ext           0.331713 -0.325771 -0.005942\n",
       "anterior_dur_purposive  0.446204 -0.362832 -0.083372\n",
       "regular_recurrence      0.058847 -0.207717  0.148871\n",
       "anterior               -0.194244  0.186087  0.008157\n",
       "habitual               -0.102870 -0.179409  0.282279"
      ]
     },
     "execution_count": 58,
     "metadata": {},
     "output_type": "execute_result"
    }
   ],
   "source": [
    "fpos_dp = sig.apply_deltaP(fpos_ct, 0, 1)\n",
    "\n",
    "fpos_dp"
   ]
  },
  {
   "cell_type": "code",
   "execution_count": 59,
   "metadata": {},
   "outputs": [
    {
     "data": {
      "image/png": "[encoded data removed]",
      "text/plain": [
       "<Figure size 576x576 with 2 Axes>"
      ]
     },
     "metadata": {
      "needs_background": "light"
     },
     "output_type": "display_data"
    }
   ],
   "source": [
    "fig, ax = plt.subplots(figsize=(8, 8))\n",
    "heatmap(fpos_dp.round(2), robust=True, ax=ax, square=False, annot=True)"
   ]
  },
  {
   "cell_type": "code",
   "execution_count": null,
   "metadata": {},
   "outputs": [],
   "source": []
  }
 ],
 "metadata": {
  "kernelspec": {
   "display_name": "Python 3",
   "language": "python",
   "name": "python3"
  },
  "language_info": {
   "codemirror_mode": {
    "name": "ipython",
    "version": 3
   },
   "file_extension": ".py",
   "mimetype": "text/x-python",
   "name": "python",
   "nbconvert_exporter": "python",
   "pygments_lexer": "ipython3",
   "version": "3.8.5"
  }
 },
 "nbformat": 4,
 "nbformat_minor": 4
}
